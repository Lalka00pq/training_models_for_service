{
 "cells": [
  {
   "cell_type": "code",
   "execution_count": 1,
   "id": "a656052b",
   "metadata": {},
   "outputs": [],
   "source": [
    "import ultralytics"
   ]
  },
  {
   "cell_type": "markdown",
   "id": "d2f115e6",
   "metadata": {},
   "source": [
    "### Обучение модели YOLO11n-pose"
   ]
  },
  {
   "cell_type": "code",
   "execution_count": 2,
   "id": "4a32721c",
   "metadata": {},
   "outputs": [],
   "source": [
    "from ultralytics import YOLO\n"
   ]
  },
  {
   "cell_type": "code",
   "execution_count": null,
   "id": "1ae289b2",
   "metadata": {},
   "outputs": [],
   "source": [
    "model = YOLO(\"yolo11-pose.pt\")  "
   ]
  },
  {
   "cell_type": "markdown",
   "id": "96d9365e",
   "metadata": {},
   "source": [
    "### Обучение модели YOLO-NAS-s"
   ]
  },
  {
   "cell_type": "code",
   "execution_count": null,
   "id": "3e2394b2",
   "metadata": {},
   "outputs": [],
   "source": []
  }
 ],
 "metadata": {
  "kernelspec": {
   "display_name": ".venv",
   "language": "python",
   "name": "python3"
  },
  "language_info": {
   "codemirror_mode": {
    "name": "ipython",
    "version": 3
   },
   "file_extension": ".py",
   "mimetype": "text/x-python",
   "name": "python",
   "nbconvert_exporter": "python",
   "pygments_lexer": "ipython3",
   "version": "3.12.1"
  }
 },
 "nbformat": 4,
 "nbformat_minor": 5
}
