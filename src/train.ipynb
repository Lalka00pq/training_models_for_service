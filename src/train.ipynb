{
 "cells": [
  {
   "cell_type": "code",
   "execution_count": 1,
   "id": "a656052b",
   "metadata": {},
   "outputs": [],
   "source": [
    "import ultralytics"
   ]
  },
  {
   "cell_type": "markdown",
   "id": "d2f115e6",
   "metadata": {},
   "source": [
    "### Обучение модели YOLO11n-pose"
   ]
  },
  {
   "cell_type": "code",
   "execution_count": 2,
   "id": "4a32721c",
   "metadata": {},
   "outputs": [],
   "source": [
    "from ultralytics import YOLO\n"
   ]
  },
  {
   "cell_type": "code",
   "execution_count": 3,
   "id": "e549d741",
   "metadata": {},
   "outputs": [
    {
     "name": "stdout",
     "output_type": "stream",
     "text": [
      "2.6.0+cu124\n"
     ]
    }
   ],
   "source": [
    "import torch\n",
    "print(torch.__version__)"
   ]
  },
  {
   "cell_type": "code",
   "execution_count": 4,
   "id": "90ecbe67",
   "metadata": {},
   "outputs": [
    {
     "name": "stderr",
     "output_type": "stream",
     "text": [
      "\u001b[34m\u001b[1mwandb\u001b[0m: Using wandb-core as the SDK backend.  Please refer to https://wandb.me/wandb-core for more information.\n",
      "\u001b[34m\u001b[1mwandb\u001b[0m: Currently logged in as: \u001b[33mlalka00pq\u001b[0m (\u001b[33mlalka00pq-\u001b[0m) to \u001b[32mhttps://api.wandb.ai\u001b[0m. Use \u001b[1m`wandb login --relogin`\u001b[0m to force relogin\n"
     ]
    },
    {
     "data": {
      "text/plain": [
       "True"
      ]
     },
     "execution_count": 4,
     "metadata": {},
     "output_type": "execute_result"
    }
   ],
   "source": [
    "import wandb\n",
    "wandb.login()"
   ]
  },
  {
   "cell_type": "code",
   "execution_count": 5,
   "id": "abaa759f",
   "metadata": {},
   "outputs": [
    {
     "name": "stdout",
     "output_type": "stream",
     "text": [
      "JSONDict(\"C:\\Users\\User\\AppData\\Roaming\\Ultralytics\\settings.json\"):\n",
      "{\n",
      "  \"settings_version\": \"0.0.6\",\n",
      "  \"datasets_dir\": \".\\\\dataset\",\n",
      "  \"weights_dir\": \".\\\\weights\",\n",
      "  \"runs_dir\": \".\\\\dataset\\\\runs\\\\train\",\n",
      "  \"uuid\": \"52022d4f5754dfab7712393ba227cb2bdf6c10ea245774b9ceb14663ae5f5ebf\",\n",
      "  \"sync\": true,\n",
      "  \"api_key\": \"\",\n",
      "  \"openai_api_key\": \"\",\n",
      "  \"clearml\": true,\n",
      "  \"comet\": true,\n",
      "  \"dvc\": true,\n",
      "  \"hub\": true,\n",
      "  \"mlflow\": true,\n",
      "  \"neptune\": true,\n",
      "  \"raytune\": true,\n",
      "  \"tensorboard\": true,\n",
      "  \"wandb\": true,\n",
      "  \"vscode_msg\": true\n",
      "}\n",
      "💡 Learn more about Ultralytics Settings at https://docs.ultralytics.com/quickstart/#ultralytics-settings\n"
     ]
    }
   ],
   "source": [
    "!yolo settings wandb=True "
   ]
  },
  {
   "cell_type": "code",
   "execution_count": 41,
   "id": "1ae289b2",
   "metadata": {},
   "outputs": [
    {
     "name": "stdout",
     "output_type": "stream",
     "text": [
      "Ultralytics 8.3.107  Python-3.12.1 torch-2.6.0+cpu CPU (AMD Ryzen 5 4600H with Radeon Graphics)\n",
      "\u001b[34m\u001b[1mengine\\trainer: \u001b[0mtask=pose, mode=train, model=./src/models/yolo11n-pose.pt, data=C:\\Users\\User\\Desktop\\Python_VS\\training_models_for_service\\src\\dataset\\data.yaml, epochs=20, time=None, patience=100, batch=16, imgsz=640, save=True, save_period=-1, cache=False, device=None, workers=8, project=None, name=train7, exist_ok=False, pretrained=True, optimizer=auto, verbose=True, seed=0, deterministic=True, single_cls=False, rect=False, cos_lr=False, close_mosaic=10, resume=False, amp=True, fraction=1.0, profile=False, freeze=None, multi_scale=False, overlap_mask=True, mask_ratio=4, dropout=0.0, val=True, split=val, save_json=False, conf=None, iou=0.7, max_det=300, half=False, dnn=False, plots=True, source=None, vid_stride=1, stream_buffer=False, visualize=False, augment=False, agnostic_nms=False, classes=None, retina_masks=False, embed=None, show=False, save_frames=False, save_txt=False, save_conf=False, save_crop=False, show_labels=True, show_conf=True, show_boxes=True, line_width=None, format=torchscript, keras=False, optimize=False, int8=False, dynamic=False, simplify=True, opset=None, workspace=None, nms=False, lr0=0.01, lrf=0.01, momentum=0.937, weight_decay=0.0005, warmup_epochs=3.0, warmup_momentum=0.8, warmup_bias_lr=0.1, box=7.5, cls=0.5, dfl=1.5, pose=12.0, kobj=1.0, nbs=64, hsv_h=0.015, hsv_s=0.7, hsv_v=0.4, degrees=0.0, translate=0.1, scale=0.5, shear=0.0, perspective=0.0, flipud=0.0, fliplr=0.5, bgr=0.0, mosaic=1.0, mixup=0.0, copy_paste=0.0, copy_paste_mode=flip, auto_augment=randaugment, erasing=0.4, crop_fraction=1.0, cfg=None, tracker=botsort.yaml, save_dir=c:\\Users\\User\\Desktop\\ML_projects\\My_repo\\runs\\pose\\train7\n",
      "Overriding model.yaml nc=80 with nc=2\n",
      "\n",
      "                   from  n    params  module                                       arguments                     \n",
      "  0                  -1  1       464  ultralytics.nn.modules.conv.Conv             [3, 16, 3, 2]                 \n",
      "  1                  -1  1      4672  ultralytics.nn.modules.conv.Conv             [16, 32, 3, 2]                \n",
      "  2                  -1  1      6640  ultralytics.nn.modules.block.C3k2            [32, 64, 1, False, 0.25]      \n",
      "  3                  -1  1     36992  ultralytics.nn.modules.conv.Conv             [64, 64, 3, 2]                \n",
      "  4                  -1  1     26080  ultralytics.nn.modules.block.C3k2            [64, 128, 1, False, 0.25]     \n",
      "  5                  -1  1    147712  ultralytics.nn.modules.conv.Conv             [128, 128, 3, 2]              \n",
      "  6                  -1  1     87040  ultralytics.nn.modules.block.C3k2            [128, 128, 1, True]           \n",
      "  7                  -1  1    295424  ultralytics.nn.modules.conv.Conv             [128, 256, 3, 2]              \n",
      "  8                  -1  1    346112  ultralytics.nn.modules.block.C3k2            [256, 256, 1, True]           \n",
      "  9                  -1  1    164608  ultralytics.nn.modules.block.SPPF            [256, 256, 5]                 \n",
      " 10                  -1  1    249728  ultralytics.nn.modules.block.C2PSA           [256, 256, 1]                 \n",
      " 11                  -1  1         0  torch.nn.modules.upsampling.Upsample         [None, 2, 'nearest']          \n",
      " 12             [-1, 6]  1         0  ultralytics.nn.modules.conv.Concat           [1]                           \n",
      " 13                  -1  1    111296  ultralytics.nn.modules.block.C3k2            [384, 128, 1, False]          \n",
      " 14                  -1  1         0  torch.nn.modules.upsampling.Upsample         [None, 2, 'nearest']          \n",
      " 15             [-1, 4]  1         0  ultralytics.nn.modules.conv.Concat           [1]                           \n",
      " 16                  -1  1     32096  ultralytics.nn.modules.block.C3k2            [256, 64, 1, False]           \n",
      " 17                  -1  1     36992  ultralytics.nn.modules.conv.Conv             [64, 64, 3, 2]                \n",
      " 18            [-1, 13]  1         0  ultralytics.nn.modules.conv.Concat           [1]                           \n",
      " 19                  -1  1     86720  ultralytics.nn.modules.block.C3k2            [192, 128, 1, False]          \n",
      " 20                  -1  1    147712  ultralytics.nn.modules.conv.Conv             [128, 128, 3, 2]              \n",
      " 21            [-1, 10]  1         0  ultralytics.nn.modules.conv.Concat           [1]                           \n",
      " 22                  -1  1    378880  ultralytics.nn.modules.block.C3k2            [384, 256, 1, True]           \n",
      " 23        [16, 19, 22]  1    715489  ultralytics.nn.modules.head.Pose             [2, [17, 3], [64, 128, 256]]  \n",
      "YOLO11n-pose summary: 196 layers, 2,874,657 parameters, 2,874,641 gradients, 7.5 GFLOPs\n",
      "\n",
      "Transferred 535/541 items from pretrained weights\n",
      "Freezing layer 'model.23.dfl.conv.weight'\n"
     ]
    },
    {
     "name": "stderr",
     "output_type": "stream",
     "text": [
      "\u001b[34m\u001b[1mtrain: \u001b[0mScanning C:\\Users\\User\\Desktop\\Python_VS\\training_models_for_service\\src\\dataset\\train... 80 images, 0 backgrounds, 0 corrupt: 100%|██████████| 80/80 [00:00<00:00, 255.79it/s]"
     ]
    },
    {
     "name": "stdout",
     "output_type": "stream",
     "text": [
      "\u001b[34m\u001b[1mtrain: \u001b[0mNew cache created: C:\\Users\\User\\Desktop\\Python_VS\\training_models_for_service\\src\\dataset\\train.cache\n",
      "WARNING  No 'flip_idx' array defined in data.yaml, setting augmentation 'fliplr=0.0'\n"
     ]
    },
    {
     "name": "stderr",
     "output_type": "stream",
     "text": [
      "\n",
      "\u001b[34m\u001b[1mval: \u001b[0mScanning C:\\Users\\User\\Desktop\\Python_VS\\training_models_for_service\\src\\dataset\\test... 28 images, 0 backgrounds, 1 corrupt: 100%|██████████| 28/28 [00:00<00:00, 440.69it/s]"
     ]
    },
    {
     "name": "stdout",
     "output_type": "stream",
     "text": [
      "\u001b[34m\u001b[1mval: \u001b[0mWARNING  C:\\Users\\User\\Desktop\\Python_VS\\training_models_for_service\\src\\dataset\\test\\frame_01_08.jpg: ignoring corrupt image/label: negative label values [-0.001625 -0.008333 -0.006562 -0.005083 -0.000792]\n",
      "\u001b[34m\u001b[1mval: \u001b[0mNew cache created: C:\\Users\\User\\Desktop\\Python_VS\\training_models_for_service\\src\\dataset\\test.cache\n"
     ]
    },
    {
     "name": "stderr",
     "output_type": "stream",
     "text": [
      "\n"
     ]
    },
    {
     "name": "stdout",
     "output_type": "stream",
     "text": [
      "Plotting labels to c:\\Users\\User\\Desktop\\ML_projects\\My_repo\\runs\\pose\\train7\\labels.jpg... \n",
      "\u001b[34m\u001b[1moptimizer:\u001b[0m 'optimizer=auto' found, ignoring 'lr0=0.01' and 'momentum=0.937' and determining best 'optimizer', 'lr0' and 'momentum' automatically... \n",
      "\u001b[34m\u001b[1moptimizer:\u001b[0m AdamW(lr=0.001667, momentum=0.9) with parameter groups 87 weight(decay=0.0), 97 weight(decay=0.0005), 96 bias(decay=0.0)\n",
      "Image sizes 640 train, 640 val\n",
      "Using 0 dataloader workers\n",
      "Logging results to \u001b[1mc:\\Users\\User\\Desktop\\ML_projects\\My_repo\\runs\\pose\\train7\u001b[0m\n",
      "Starting training for 20 epochs...\n",
      "\n",
      "      Epoch    GPU_mem   box_loss  pose_loss  kobj_loss   cls_loss   dfl_loss  Instances       Size\n"
     ]
    },
    {
     "name": "stderr",
     "output_type": "stream",
     "text": [
      "       1/20         0G      2.137      6.537     0.5704      4.153       1.95         38        640: 100%|██████████| 5/5 [00:25<00:00,  5.03s/it]\n",
      "                 Class     Images  Instances      Box(P          R      mAP50  mAP50-95)     Pose(P          R      mAP50  mAP50-95): 100%|██████████| 1/1 [00:03<00:00,  3.82s/it]"
     ]
    },
    {
     "name": "stdout",
     "output_type": "stream",
     "text": [
      "                   all         27         28          1       0.31        0.7      0.293       0.35      0.107      0.113     0.0313\n"
     ]
    },
    {
     "name": "stderr",
     "output_type": "stream",
     "text": [
      "\n"
     ]
    },
    {
     "name": "stdout",
     "output_type": "stream",
     "text": [
      "\n",
      "      Epoch    GPU_mem   box_loss  pose_loss  kobj_loss   cls_loss   dfl_loss  Instances       Size\n"
     ]
    },
    {
     "name": "stderr",
     "output_type": "stream",
     "text": [
      "       2/20         0G      1.714      6.021     0.3977       3.59      1.529         28        640: 100%|██████████| 5/5 [00:23<00:00,  4.62s/it]\n",
      "                 Class     Images  Instances      Box(P          R      mAP50  mAP50-95)     Pose(P          R      mAP50  mAP50-95): 100%|██████████| 1/1 [00:02<00:00,  2.69s/it]"
     ]
    },
    {
     "name": "stdout",
     "output_type": "stream",
     "text": [
      "                   all         27         28      0.745      0.643      0.778       0.43       0.21      0.321      0.105     0.0235\n"
     ]
    },
    {
     "name": "stderr",
     "output_type": "stream",
     "text": [
      "\n"
     ]
    },
    {
     "name": "stdout",
     "output_type": "stream",
     "text": [
      "\n",
      "      Epoch    GPU_mem   box_loss  pose_loss  kobj_loss   cls_loss   dfl_loss  Instances       Size\n"
     ]
    },
    {
     "name": "stderr",
     "output_type": "stream",
     "text": [
      "       3/20         0G      1.468      5.673     0.3901      2.897      1.416         47        640: 100%|██████████| 5/5 [00:22<00:00,  4.46s/it]\n",
      "                 Class     Images  Instances      Box(P          R      mAP50  mAP50-95)     Pose(P          R      mAP50  mAP50-95): 100%|██████████| 1/1 [00:02<00:00,  2.41s/it]"
     ]
    },
    {
     "name": "stdout",
     "output_type": "stream",
     "text": [
      "                   all         27         28      0.707      0.778      0.756      0.423      0.271       0.25     0.0981     0.0192\n"
     ]
    },
    {
     "name": "stderr",
     "output_type": "stream",
     "text": [
      "\n"
     ]
    },
    {
     "name": "stdout",
     "output_type": "stream",
     "text": [
      "\n",
      "      Epoch    GPU_mem   box_loss  pose_loss  kobj_loss   cls_loss   dfl_loss  Instances       Size\n"
     ]
    },
    {
     "name": "stderr",
     "output_type": "stream",
     "text": [
      "       4/20         0G      1.257      5.293     0.3688      2.409      1.319         30        640: 100%|██████████| 5/5 [00:21<00:00,  4.23s/it]\n",
      "                 Class     Images  Instances      Box(P          R      mAP50  mAP50-95)     Pose(P          R      mAP50  mAP50-95): 100%|██████████| 1/1 [00:02<00:00,  2.39s/it]"
     ]
    },
    {
     "name": "stdout",
     "output_type": "stream",
     "text": [
      "                   all         27         28      0.885      0.821      0.867      0.524      0.174      0.143     0.0432    0.00838\n"
     ]
    },
    {
     "name": "stderr",
     "output_type": "stream",
     "text": [
      "\n"
     ]
    },
    {
     "name": "stdout",
     "output_type": "stream",
     "text": [
      "\n",
      "      Epoch    GPU_mem   box_loss  pose_loss  kobj_loss   cls_loss   dfl_loss  Instances       Size\n"
     ]
    },
    {
     "name": "stderr",
     "output_type": "stream",
     "text": [
      "       5/20         0G      1.234      5.209     0.3407      2.209      1.263         47        640: 100%|██████████| 5/5 [00:21<00:00,  4.31s/it]\n",
      "                 Class     Images  Instances      Box(P          R      mAP50  mAP50-95)     Pose(P          R      mAP50  mAP50-95): 100%|██████████| 1/1 [00:02<00:00,  2.30s/it]"
     ]
    },
    {
     "name": "stdout",
     "output_type": "stream",
     "text": [
      "                   all         27         28      0.961      0.886      0.892      0.576      0.317      0.321      0.189      0.042\n"
     ]
    },
    {
     "name": "stderr",
     "output_type": "stream",
     "text": [
      "\n"
     ]
    },
    {
     "name": "stdout",
     "output_type": "stream",
     "text": [
      "\n",
      "      Epoch    GPU_mem   box_loss  pose_loss  kobj_loss   cls_loss   dfl_loss  Instances       Size\n"
     ]
    },
    {
     "name": "stderr",
     "output_type": "stream",
     "text": [
      "       6/20         0G      1.055      4.662     0.3153      1.967      1.167         37        640: 100%|██████████| 5/5 [00:21<00:00,  4.26s/it]\n",
      "                 Class     Images  Instances      Box(P          R      mAP50  mAP50-95)     Pose(P          R      mAP50  mAP50-95): 100%|██████████| 1/1 [00:02<00:00,  2.24s/it]"
     ]
    },
    {
     "name": "stdout",
     "output_type": "stream",
     "text": [
      "                   all         27         28      0.956      0.893      0.912      0.589      0.289      0.214      0.135     0.0381\n"
     ]
    },
    {
     "name": "stderr",
     "output_type": "stream",
     "text": [
      "\n"
     ]
    },
    {
     "name": "stdout",
     "output_type": "stream",
     "text": [
      "\n",
      "      Epoch    GPU_mem   box_loss  pose_loss  kobj_loss   cls_loss   dfl_loss  Instances       Size\n"
     ]
    },
    {
     "name": "stderr",
     "output_type": "stream",
     "text": [
      "       7/20         0G      1.004      4.605     0.2721      1.856      1.086         33        640: 100%|██████████| 5/5 [00:21<00:00,  4.29s/it]\n",
      "                 Class     Images  Instances      Box(P          R      mAP50  mAP50-95)     Pose(P          R      mAP50  mAP50-95): 100%|██████████| 1/1 [00:02<00:00,  2.08s/it]"
     ]
    },
    {
     "name": "stdout",
     "output_type": "stream",
     "text": [
      "                   all         27         28      0.992      0.893      0.925      0.582      0.206      0.143     0.0701     0.0244\n"
     ]
    },
    {
     "name": "stderr",
     "output_type": "stream",
     "text": [
      "\n"
     ]
    },
    {
     "name": "stdout",
     "output_type": "stream",
     "text": [
      "\n",
      "      Epoch    GPU_mem   box_loss  pose_loss  kobj_loss   cls_loss   dfl_loss  Instances       Size\n"
     ]
    },
    {
     "name": "stderr",
     "output_type": "stream",
     "text": [
      "       8/20         0G      1.098      4.547     0.2922      1.793      1.165         30        640: 100%|██████████| 5/5 [00:22<00:00,  4.53s/it]\n",
      "                 Class     Images  Instances      Box(P          R      mAP50  mAP50-95)     Pose(P          R      mAP50  mAP50-95): 100%|██████████| 1/1 [00:02<00:00,  2.16s/it]"
     ]
    },
    {
     "name": "stdout",
     "output_type": "stream",
     "text": [
      "                   all         27         28      0.956      0.893      0.925      0.634      0.287       0.25       0.11     0.0229\n"
     ]
    },
    {
     "name": "stderr",
     "output_type": "stream",
     "text": [
      "\n"
     ]
    },
    {
     "name": "stdout",
     "output_type": "stream",
     "text": [
      "\n",
      "      Epoch    GPU_mem   box_loss  pose_loss  kobj_loss   cls_loss   dfl_loss  Instances       Size\n"
     ]
    },
    {
     "name": "stderr",
     "output_type": "stream",
     "text": [
      "       9/20         0G     0.9753      4.069     0.2782      1.606      1.069         33        640: 100%|██████████| 5/5 [00:21<00:00,  4.32s/it]\n",
      "                 Class     Images  Instances      Box(P          R      mAP50  mAP50-95)     Pose(P          R      mAP50  mAP50-95): 100%|██████████| 1/1 [00:02<00:00,  2.11s/it]"
     ]
    },
    {
     "name": "stdout",
     "output_type": "stream",
     "text": [
      "                   all         27         28      0.925      0.929      0.936      0.616      0.184      0.179     0.0844     0.0201\n"
     ]
    },
    {
     "name": "stderr",
     "output_type": "stream",
     "text": [
      "\n"
     ]
    },
    {
     "name": "stdout",
     "output_type": "stream",
     "text": [
      "\n",
      "      Epoch    GPU_mem   box_loss  pose_loss  kobj_loss   cls_loss   dfl_loss  Instances       Size\n"
     ]
    },
    {
     "name": "stderr",
     "output_type": "stream",
     "text": [
      "      10/20         0G      1.006      4.385     0.2672      1.548      1.076         34        640: 100%|██████████| 5/5 [00:21<00:00,  4.29s/it]\n",
      "                 Class     Images  Instances      Box(P          R      mAP50  mAP50-95)     Pose(P          R      mAP50  mAP50-95): 100%|██████████| 1/1 [00:02<00:00,  2.13s/it]"
     ]
    },
    {
     "name": "stdout",
     "output_type": "stream",
     "text": [
      "                   all         27         28      0.894      0.929      0.942      0.625      0.213       0.25      0.101      0.027\n"
     ]
    },
    {
     "name": "stderr",
     "output_type": "stream",
     "text": [
      "\n"
     ]
    },
    {
     "name": "stdout",
     "output_type": "stream",
     "text": [
      "Closing dataloader mosaic\n",
      "\n",
      "      Epoch    GPU_mem   box_loss  pose_loss  kobj_loss   cls_loss   dfl_loss  Instances       Size\n"
     ]
    },
    {
     "name": "stderr",
     "output_type": "stream",
     "text": [
      "      11/20         0G      0.949      3.493     0.1362       1.79      1.097         18        640: 100%|██████████| 5/5 [00:21<00:00,  4.32s/it]\n",
      "                 Class     Images  Instances      Box(P          R      mAP50  mAP50-95)     Pose(P          R      mAP50  mAP50-95): 100%|██████████| 1/1 [00:02<00:00,  2.28s/it]"
     ]
    },
    {
     "name": "stdout",
     "output_type": "stream",
     "text": [
      "                   all         27         28      0.955      0.929      0.953      0.634      0.248      0.214      0.105     0.0298\n"
     ]
    },
    {
     "name": "stderr",
     "output_type": "stream",
     "text": [
      "\n"
     ]
    },
    {
     "name": "stdout",
     "output_type": "stream",
     "text": [
      "\n",
      "      Epoch    GPU_mem   box_loss  pose_loss  kobj_loss   cls_loss   dfl_loss  Instances       Size\n"
     ]
    },
    {
     "name": "stderr",
     "output_type": "stream",
     "text": [
      "      12/20         0G     0.8835      3.326     0.1429      1.697      1.089         22        640: 100%|██████████| 5/5 [00:21<00:00,  4.29s/it]\n",
      "                 Class     Images  Instances      Box(P          R      mAP50  mAP50-95)     Pose(P          R      mAP50  mAP50-95): 100%|██████████| 1/1 [00:02<00:00,  2.31s/it]"
     ]
    },
    {
     "name": "stdout",
     "output_type": "stream",
     "text": [
      "                   all         27         28       0.94      0.893      0.952      0.642      0.247      0.179     0.0799     0.0249\n"
     ]
    },
    {
     "name": "stderr",
     "output_type": "stream",
     "text": [
      "\n"
     ]
    },
    {
     "name": "stdout",
     "output_type": "stream",
     "text": [
      "\n",
      "      Epoch    GPU_mem   box_loss  pose_loss  kobj_loss   cls_loss   dfl_loss  Instances       Size\n"
     ]
    },
    {
     "name": "stderr",
     "output_type": "stream",
     "text": [
      "      13/20         0G     0.8583      3.432     0.1352      1.672      1.046         16        640: 100%|██████████| 5/5 [00:21<00:00,  4.27s/it]\n",
      "                 Class     Images  Instances      Box(P          R      mAP50  mAP50-95)     Pose(P          R      mAP50  mAP50-95): 100%|██████████| 1/1 [00:02<00:00,  2.29s/it]"
     ]
    },
    {
     "name": "stdout",
     "output_type": "stream",
     "text": [
      "                   all         27         28      0.924      0.866      0.951      0.647      0.325      0.214      0.089     0.0277\n"
     ]
    },
    {
     "name": "stderr",
     "output_type": "stream",
     "text": [
      "\n"
     ]
    },
    {
     "name": "stdout",
     "output_type": "stream",
     "text": [
      "\n",
      "      Epoch    GPU_mem   box_loss  pose_loss  kobj_loss   cls_loss   dfl_loss  Instances       Size\n"
     ]
    },
    {
     "name": "stderr",
     "output_type": "stream",
     "text": [
      "      14/20         0G     0.7691      3.174     0.1266      1.567      0.999         18        640: 100%|██████████| 5/5 [00:21<00:00,  4.22s/it]\n",
      "                 Class     Images  Instances      Box(P          R      mAP50  mAP50-95)     Pose(P          R      mAP50  mAP50-95): 100%|██████████| 1/1 [00:02<00:00,  2.28s/it]"
     ]
    },
    {
     "name": "stdout",
     "output_type": "stream",
     "text": [
      "                   all         27         28      0.948      0.857      0.943       0.66       0.35      0.214      0.105     0.0304\n"
     ]
    },
    {
     "name": "stderr",
     "output_type": "stream",
     "text": [
      "\n"
     ]
    },
    {
     "name": "stdout",
     "output_type": "stream",
     "text": [
      "\n",
      "      Epoch    GPU_mem   box_loss  pose_loss  kobj_loss   cls_loss   dfl_loss  Instances       Size\n"
     ]
    },
    {
     "name": "stderr",
     "output_type": "stream",
     "text": [
      "      15/20         0G     0.7761      3.078    0.09689      1.451      0.983         20        640: 100%|██████████| 5/5 [00:21<00:00,  4.26s/it]\n",
      "                 Class     Images  Instances      Box(P          R      mAP50  mAP50-95)     Pose(P          R      mAP50  mAP50-95): 100%|██████████| 1/1 [00:02<00:00,  2.29s/it]"
     ]
    },
    {
     "name": "stdout",
     "output_type": "stream",
     "text": [
      "                   all         27         28      0.963       0.92      0.957      0.654      0.349      0.214     0.0993     0.0341\n"
     ]
    },
    {
     "name": "stderr",
     "output_type": "stream",
     "text": [
      "\n"
     ]
    },
    {
     "name": "stdout",
     "output_type": "stream",
     "text": [
      "\n",
      "      Epoch    GPU_mem   box_loss  pose_loss  kobj_loss   cls_loss   dfl_loss  Instances       Size\n"
     ]
    },
    {
     "name": "stderr",
     "output_type": "stream",
     "text": [
      "      16/20         0G     0.7809      2.862     0.1089      1.377      1.007         17        640: 100%|██████████| 5/5 [00:21<00:00,  4.31s/it]\n",
      "                 Class     Images  Instances      Box(P          R      mAP50  mAP50-95)     Pose(P          R      mAP50  mAP50-95): 100%|██████████| 1/1 [00:02<00:00,  2.28s/it]"
     ]
    },
    {
     "name": "stdout",
     "output_type": "stream",
     "text": [
      "                   all         27         28      0.964      0.955      0.968      0.653      0.299       0.25     0.0927     0.0365\n"
     ]
    },
    {
     "name": "stderr",
     "output_type": "stream",
     "text": [
      "\n"
     ]
    },
    {
     "name": "stdout",
     "output_type": "stream",
     "text": [
      "\n",
      "      Epoch    GPU_mem   box_loss  pose_loss  kobj_loss   cls_loss   dfl_loss  Instances       Size\n"
     ]
    },
    {
     "name": "stderr",
     "output_type": "stream",
     "text": [
      "      17/20         0G     0.7855      2.868     0.1023      1.418      1.038         17        640: 100%|██████████| 5/5 [00:21<00:00,  4.24s/it]\n",
      "                 Class     Images  Instances      Box(P          R      mAP50  mAP50-95)     Pose(P          R      mAP50  mAP50-95): 100%|██████████| 1/1 [00:02<00:00,  2.32s/it]"
     ]
    },
    {
     "name": "stdout",
     "output_type": "stream",
     "text": [
      "                   all         27         28      0.964      0.961      0.971      0.645      0.387      0.321      0.173       0.04\n"
     ]
    },
    {
     "name": "stderr",
     "output_type": "stream",
     "text": [
      "\n"
     ]
    },
    {
     "name": "stdout",
     "output_type": "stream",
     "text": [
      "\n",
      "      Epoch    GPU_mem   box_loss  pose_loss  kobj_loss   cls_loss   dfl_loss  Instances       Size\n"
     ]
    },
    {
     "name": "stderr",
     "output_type": "stream",
     "text": [
      "      18/20         0G     0.7392      2.601    0.08892      1.353     0.9496         18        640: 100%|██████████| 5/5 [00:21<00:00,  4.25s/it]\n",
      "                 Class     Images  Instances      Box(P          R      mAP50  mAP50-95)     Pose(P          R      mAP50  mAP50-95): 100%|██████████| 1/1 [00:02<00:00,  2.33s/it]"
     ]
    },
    {
     "name": "stdout",
     "output_type": "stream",
     "text": [
      "                   all         27         28      0.929      0.964       0.97      0.673      0.385      0.321      0.179      0.047\n"
     ]
    },
    {
     "name": "stderr",
     "output_type": "stream",
     "text": [
      "\n"
     ]
    },
    {
     "name": "stdout",
     "output_type": "stream",
     "text": [
      "\n",
      "      Epoch    GPU_mem   box_loss  pose_loss  kobj_loss   cls_loss   dfl_loss  Instances       Size\n"
     ]
    },
    {
     "name": "stderr",
     "output_type": "stream",
     "text": [
      "      19/20         0G     0.6934      2.448     0.1057      1.339      1.003         20        640: 100%|██████████| 5/5 [00:21<00:00,  4.22s/it]\n",
      "                 Class     Images  Instances      Box(P          R      mAP50  mAP50-95)     Pose(P          R      mAP50  mAP50-95): 100%|██████████| 1/1 [00:02<00:00,  2.33s/it]"
     ]
    },
    {
     "name": "stdout",
     "output_type": "stream",
     "text": [
      "                   all         27         28      0.931      0.962       0.97      0.678      0.388      0.321      0.177     0.0441\n"
     ]
    },
    {
     "name": "stderr",
     "output_type": "stream",
     "text": [
      "\n"
     ]
    },
    {
     "name": "stdout",
     "output_type": "stream",
     "text": [
      "\n",
      "      Epoch    GPU_mem   box_loss  pose_loss  kobj_loss   cls_loss   dfl_loss  Instances       Size\n"
     ]
    },
    {
     "name": "stderr",
     "output_type": "stream",
     "text": [
      "      20/20         0G     0.6674      2.341    0.09393       1.31     0.9466         16        640: 100%|██████████| 5/5 [00:21<00:00,  4.22s/it]\n",
      "                 Class     Images  Instances      Box(P          R      mAP50  mAP50-95)     Pose(P          R      mAP50  mAP50-95): 100%|██████████| 1/1 [00:02<00:00,  2.46s/it]"
     ]
    },
    {
     "name": "stdout",
     "output_type": "stream",
     "text": [
      "                   all         27         28          1       0.89      0.971      0.682      0.351      0.286      0.134     0.0421\n"
     ]
    },
    {
     "name": "stderr",
     "output_type": "stream",
     "text": [
      "\n"
     ]
    },
    {
     "name": "stdout",
     "output_type": "stream",
     "text": [
      "\n",
      "20 epochs completed in 0.136 hours.\n",
      "Optimizer stripped from c:\\Users\\User\\Desktop\\ML_projects\\My_repo\\runs\\pose\\train7\\weights\\last.pt, 6.0MB\n",
      "Optimizer stripped from c:\\Users\\User\\Desktop\\ML_projects\\My_repo\\runs\\pose\\train7\\weights\\best.pt, 6.0MB\n",
      "\n",
      "Validating c:\\Users\\User\\Desktop\\ML_projects\\My_repo\\runs\\pose\\train7\\weights\\best.pt...\n",
      "Ultralytics 8.3.107  Python-3.12.1 torch-2.6.0+cpu CPU (AMD Ryzen 5 4600H with Radeon Graphics)\n",
      "YOLO11n-pose summary (fused): 109 layers, 2,866,663 parameters, 0 gradients, 7.4 GFLOPs\n"
     ]
    },
    {
     "name": "stderr",
     "output_type": "stream",
     "text": [
      "                 Class     Images  Instances      Box(P          R      mAP50  mAP50-95)     Pose(P          R      mAP50  mAP50-95): 100%|██████████| 1/1 [00:01<00:00,  1.84s/it]\n"
     ]
    },
    {
     "name": "stdout",
     "output_type": "stream",
     "text": [
      "                   all         27         28      0.931      0.962       0.97      0.678      0.388      0.321      0.178     0.0441\n",
      "       standing person         27         28      0.931      0.962       0.97      0.678      0.388      0.321      0.178     0.0441\n",
      "Speed: 0.9ms preprocess, 48.8ms inference, 0.0ms loss, 11.2ms postprocess per image\n",
      "Results saved to \u001b[1mc:\\Users\\User\\Desktop\\ML_projects\\My_repo\\runs\\pose\\train7\u001b[0m\n"
     ]
    },
    {
     "data": {
      "text/plain": [
       "ultralytics.utils.metrics.PoseMetrics object with attributes:\n",
       "\n",
       "ap_class_index: array([0])\n",
       "box: ultralytics.utils.metrics.Metric object\n",
       "confusion_matrix: <ultralytics.utils.metrics.ConfusionMatrix object at 0x00000261B65DCFB0>\n",
       "curves: ['Precision-Recall(B)', 'F1-Confidence(B)', 'Precision-Confidence(B)', 'Recall-Confidence(B)', 'Precision-Recall(P)', 'F1-Confidence(P)', 'Precision-Confidence(P)', 'Recall-Confidence(P)']\n",
       "curves_results: [[array([          0,    0.001001,    0.002002,    0.003003,    0.004004,    0.005005,    0.006006,    0.007007,    0.008008,    0.009009,     0.01001,    0.011011,    0.012012,    0.013013,    0.014014,    0.015015,    0.016016,    0.017017,    0.018018,    0.019019,     0.02002,    0.021021,    0.022022,    0.023023,\n",
       "          0.024024,    0.025025,    0.026026,    0.027027,    0.028028,    0.029029,     0.03003,    0.031031,    0.032032,    0.033033,    0.034034,    0.035035,    0.036036,    0.037037,    0.038038,    0.039039,     0.04004,    0.041041,    0.042042,    0.043043,    0.044044,    0.045045,    0.046046,    0.047047,\n",
       "          0.048048,    0.049049,     0.05005,    0.051051,    0.052052,    0.053053,    0.054054,    0.055055,    0.056056,    0.057057,    0.058058,    0.059059,     0.06006,    0.061061,    0.062062,    0.063063,    0.064064,    0.065065,    0.066066,    0.067067,    0.068068,    0.069069,     0.07007,    0.071071,\n",
       "          0.072072,    0.073073,    0.074074,    0.075075,    0.076076,    0.077077,    0.078078,    0.079079,     0.08008,    0.081081,    0.082082,    0.083083,    0.084084,    0.085085,    0.086086,    0.087087,    0.088088,    0.089089,     0.09009,    0.091091,    0.092092,    0.093093,    0.094094,    0.095095,\n",
       "          0.096096,    0.097097,    0.098098,    0.099099,      0.1001,      0.1011,      0.1021,      0.1031,      0.1041,     0.10511,     0.10611,     0.10711,     0.10811,     0.10911,     0.11011,     0.11111,     0.11211,     0.11311,     0.11411,     0.11512,     0.11612,     0.11712,     0.11812,     0.11912,\n",
       "           0.12012,     0.12112,     0.12212,     0.12312,     0.12412,     0.12513,     0.12613,     0.12713,     0.12813,     0.12913,     0.13013,     0.13113,     0.13213,     0.13313,     0.13413,     0.13514,     0.13614,     0.13714,     0.13814,     0.13914,     0.14014,     0.14114,     0.14214,     0.14314,\n",
       "           0.14414,     0.14515,     0.14615,     0.14715,     0.14815,     0.14915,     0.15015,     0.15115,     0.15215,     0.15315,     0.15415,     0.15516,     0.15616,     0.15716,     0.15816,     0.15916,     0.16016,     0.16116,     0.16216,     0.16316,     0.16416,     0.16517,     0.16617,     0.16717,\n",
       "           0.16817,     0.16917,     0.17017,     0.17117,     0.17217,     0.17317,     0.17417,     0.17518,     0.17618,     0.17718,     0.17818,     0.17918,     0.18018,     0.18118,     0.18218,     0.18318,     0.18418,     0.18519,     0.18619,     0.18719,     0.18819,     0.18919,     0.19019,     0.19119,\n",
       "           0.19219,     0.19319,     0.19419,      0.1952,      0.1962,      0.1972,      0.1982,      0.1992,      0.2002,      0.2012,      0.2022,      0.2032,      0.2042,     0.20521,     0.20621,     0.20721,     0.20821,     0.20921,     0.21021,     0.21121,     0.21221,     0.21321,     0.21421,     0.21522,\n",
       "           0.21622,     0.21722,     0.21822,     0.21922,     0.22022,     0.22122,     0.22222,     0.22322,     0.22422,     0.22523,     0.22623,     0.22723,     0.22823,     0.22923,     0.23023,     0.23123,     0.23223,     0.23323,     0.23423,     0.23524,     0.23624,     0.23724,     0.23824,     0.23924,\n",
       "           0.24024,     0.24124,     0.24224,     0.24324,     0.24424,     0.24525,     0.24625,     0.24725,     0.24825,     0.24925,     0.25025,     0.25125,     0.25225,     0.25325,     0.25425,     0.25526,     0.25626,     0.25726,     0.25826,     0.25926,     0.26026,     0.26126,     0.26226,     0.26326,\n",
       "           0.26426,     0.26527,     0.26627,     0.26727,     0.26827,     0.26927,     0.27027,     0.27127,     0.27227,     0.27327,     0.27427,     0.27528,     0.27628,     0.27728,     0.27828,     0.27928,     0.28028,     0.28128,     0.28228,     0.28328,     0.28428,     0.28529,     0.28629,     0.28729,\n",
       "           0.28829,     0.28929,     0.29029,     0.29129,     0.29229,     0.29329,     0.29429,      0.2953,      0.2963,      0.2973,      0.2983,      0.2993,      0.3003,      0.3013,      0.3023,      0.3033,      0.3043,     0.30531,     0.30631,     0.30731,     0.30831,     0.30931,     0.31031,     0.31131,\n",
       "           0.31231,     0.31331,     0.31431,     0.31532,     0.31632,     0.31732,     0.31832,     0.31932,     0.32032,     0.32132,     0.32232,     0.32332,     0.32432,     0.32533,     0.32633,     0.32733,     0.32833,     0.32933,     0.33033,     0.33133,     0.33233,     0.33333,     0.33433,     0.33534,\n",
       "           0.33634,     0.33734,     0.33834,     0.33934,     0.34034,     0.34134,     0.34234,     0.34334,     0.34434,     0.34535,     0.34635,     0.34735,     0.34835,     0.34935,     0.35035,     0.35135,     0.35235,     0.35335,     0.35435,     0.35536,     0.35636,     0.35736,     0.35836,     0.35936,\n",
       "           0.36036,     0.36136,     0.36236,     0.36336,     0.36436,     0.36537,     0.36637,     0.36737,     0.36837,     0.36937,     0.37037,     0.37137,     0.37237,     0.37337,     0.37437,     0.37538,     0.37638,     0.37738,     0.37838,     0.37938,     0.38038,     0.38138,     0.38238,     0.38338,\n",
       "           0.38438,     0.38539,     0.38639,     0.38739,     0.38839,     0.38939,     0.39039,     0.39139,     0.39239,     0.39339,     0.39439,      0.3954,      0.3964,      0.3974,      0.3984,      0.3994,      0.4004,      0.4014,      0.4024,      0.4034,      0.4044,     0.40541,     0.40641,     0.40741,\n",
       "           0.40841,     0.40941,     0.41041,     0.41141,     0.41241,     0.41341,     0.41441,     0.41542,     0.41642,     0.41742,     0.41842,     0.41942,     0.42042,     0.42142,     0.42242,     0.42342,     0.42442,     0.42543,     0.42643,     0.42743,     0.42843,     0.42943,     0.43043,     0.43143,\n",
       "           0.43243,     0.43343,     0.43443,     0.43544,     0.43644,     0.43744,     0.43844,     0.43944,     0.44044,     0.44144,     0.44244,     0.44344,     0.44444,     0.44545,     0.44645,     0.44745,     0.44845,     0.44945,     0.45045,     0.45145,     0.45245,     0.45345,     0.45445,     0.45546,\n",
       "           0.45646,     0.45746,     0.45846,     0.45946,     0.46046,     0.46146,     0.46246,     0.46346,     0.46446,     0.46547,     0.46647,     0.46747,     0.46847,     0.46947,     0.47047,     0.47147,     0.47247,     0.47347,     0.47447,     0.47548,     0.47648,     0.47748,     0.47848,     0.47948,\n",
       "           0.48048,     0.48148,     0.48248,     0.48348,     0.48448,     0.48549,     0.48649,     0.48749,     0.48849,     0.48949,     0.49049,     0.49149,     0.49249,     0.49349,     0.49449,      0.4955,      0.4965,      0.4975,      0.4985,      0.4995,      0.5005,      0.5015,      0.5025,      0.5035,\n",
       "            0.5045,     0.50551,     0.50651,     0.50751,     0.50851,     0.50951,     0.51051,     0.51151,     0.51251,     0.51351,     0.51451,     0.51552,     0.51652,     0.51752,     0.51852,     0.51952,     0.52052,     0.52152,     0.52252,     0.52352,     0.52452,     0.52553,     0.52653,     0.52753,\n",
       "           0.52853,     0.52953,     0.53053,     0.53153,     0.53253,     0.53353,     0.53453,     0.53554,     0.53654,     0.53754,     0.53854,     0.53954,     0.54054,     0.54154,     0.54254,     0.54354,     0.54454,     0.54555,     0.54655,     0.54755,     0.54855,     0.54955,     0.55055,     0.55155,\n",
       "           0.55255,     0.55355,     0.55455,     0.55556,     0.55656,     0.55756,     0.55856,     0.55956,     0.56056,     0.56156,     0.56256,     0.56356,     0.56456,     0.56557,     0.56657,     0.56757,     0.56857,     0.56957,     0.57057,     0.57157,     0.57257,     0.57357,     0.57457,     0.57558,\n",
       "           0.57658,     0.57758,     0.57858,     0.57958,     0.58058,     0.58158,     0.58258,     0.58358,     0.58458,     0.58559,     0.58659,     0.58759,     0.58859,     0.58959,     0.59059,     0.59159,     0.59259,     0.59359,     0.59459,      0.5956,      0.5966,      0.5976,      0.5986,      0.5996,\n",
       "            0.6006,      0.6016,      0.6026,      0.6036,      0.6046,     0.60561,     0.60661,     0.60761,     0.60861,     0.60961,     0.61061,     0.61161,     0.61261,     0.61361,     0.61461,     0.61562,     0.61662,     0.61762,     0.61862,     0.61962,     0.62062,     0.62162,     0.62262,     0.62362,\n",
       "           0.62462,     0.62563,     0.62663,     0.62763,     0.62863,     0.62963,     0.63063,     0.63163,     0.63263,     0.63363,     0.63463,     0.63564,     0.63664,     0.63764,     0.63864,     0.63964,     0.64064,     0.64164,     0.64264,     0.64364,     0.64464,     0.64565,     0.64665,     0.64765,\n",
       "           0.64865,     0.64965,     0.65065,     0.65165,     0.65265,     0.65365,     0.65465,     0.65566,     0.65666,     0.65766,     0.65866,     0.65966,     0.66066,     0.66166,     0.66266,     0.66366,     0.66466,     0.66567,     0.66667,     0.66767,     0.66867,     0.66967,     0.67067,     0.67167,\n",
       "           0.67267,     0.67367,     0.67467,     0.67568,     0.67668,     0.67768,     0.67868,     0.67968,     0.68068,     0.68168,     0.68268,     0.68368,     0.68468,     0.68569,     0.68669,     0.68769,     0.68869,     0.68969,     0.69069,     0.69169,     0.69269,     0.69369,     0.69469,      0.6957,\n",
       "            0.6967,      0.6977,      0.6987,      0.6997,      0.7007,      0.7017,      0.7027,      0.7037,      0.7047,     0.70571,     0.70671,     0.70771,     0.70871,     0.70971,     0.71071,     0.71171,     0.71271,     0.71371,     0.71471,     0.71572,     0.71672,     0.71772,     0.71872,     0.71972,\n",
       "           0.72072,     0.72172,     0.72272,     0.72372,     0.72472,     0.72573,     0.72673,     0.72773,     0.72873,     0.72973,     0.73073,     0.73173,     0.73273,     0.73373,     0.73473,     0.73574,     0.73674,     0.73774,     0.73874,     0.73974,     0.74074,     0.74174,     0.74274,     0.74374,\n",
       "           0.74474,     0.74575,     0.74675,     0.74775,     0.74875,     0.74975,     0.75075,     0.75175,     0.75275,     0.75375,     0.75475,     0.75576,     0.75676,     0.75776,     0.75876,     0.75976,     0.76076,     0.76176,     0.76276,     0.76376,     0.76476,     0.76577,     0.76677,     0.76777,\n",
       "           0.76877,     0.76977,     0.77077,     0.77177,     0.77277,     0.77377,     0.77477,     0.77578,     0.77678,     0.77778,     0.77878,     0.77978,     0.78078,     0.78178,     0.78278,     0.78378,     0.78478,     0.78579,     0.78679,     0.78779,     0.78879,     0.78979,     0.79079,     0.79179,\n",
       "           0.79279,     0.79379,     0.79479,      0.7958,      0.7968,      0.7978,      0.7988,      0.7998,      0.8008,      0.8018,      0.8028,      0.8038,      0.8048,     0.80581,     0.80681,     0.80781,     0.80881,     0.80981,     0.81081,     0.81181,     0.81281,     0.81381,     0.81481,     0.81582,\n",
       "           0.81682,     0.81782,     0.81882,     0.81982,     0.82082,     0.82182,     0.82282,     0.82382,     0.82482,     0.82583,     0.82683,     0.82783,     0.82883,     0.82983,     0.83083,     0.83183,     0.83283,     0.83383,     0.83483,     0.83584,     0.83684,     0.83784,     0.83884,     0.83984,\n",
       "           0.84084,     0.84184,     0.84284,     0.84384,     0.84484,     0.84585,     0.84685,     0.84785,     0.84885,     0.84985,     0.85085,     0.85185,     0.85285,     0.85385,     0.85485,     0.85586,     0.85686,     0.85786,     0.85886,     0.85986,     0.86086,     0.86186,     0.86286,     0.86386,\n",
       "           0.86486,     0.86587,     0.86687,     0.86787,     0.86887,     0.86987,     0.87087,     0.87187,     0.87287,     0.87387,     0.87487,     0.87588,     0.87688,     0.87788,     0.87888,     0.87988,     0.88088,     0.88188,     0.88288,     0.88388,     0.88488,     0.88589,     0.88689,     0.88789,\n",
       "           0.88889,     0.88989,     0.89089,     0.89189,     0.89289,     0.89389,     0.89489,      0.8959,      0.8969,      0.8979,      0.8989,      0.8999,      0.9009,      0.9019,      0.9029,      0.9039,      0.9049,     0.90591,     0.90691,     0.90791,     0.90891,     0.90991,     0.91091,     0.91191,\n",
       "           0.91291,     0.91391,     0.91491,     0.91592,     0.91692,     0.91792,     0.91892,     0.91992,     0.92092,     0.92192,     0.92292,     0.92392,     0.92492,     0.92593,     0.92693,     0.92793,     0.92893,     0.92993,     0.93093,     0.93193,     0.93293,     0.93393,     0.93493,     0.93594,\n",
       "           0.93694,     0.93794,     0.93894,     0.93994,     0.94094,     0.94194,     0.94294,     0.94394,     0.94494,     0.94595,     0.94695,     0.94795,     0.94895,     0.94995,     0.95095,     0.95195,     0.95295,     0.95395,     0.95495,     0.95596,     0.95696,     0.95796,     0.95896,     0.95996,\n",
       "           0.96096,     0.96196,     0.96296,     0.96396,     0.96496,     0.96597,     0.96697,     0.96797,     0.96897,     0.96997,     0.97097,     0.97197,     0.97297,     0.97397,     0.97497,     0.97598,     0.97698,     0.97798,     0.97898,     0.97998,     0.98098,     0.98198,     0.98298,     0.98398,\n",
       "           0.98498,     0.98599,     0.98699,     0.98799,     0.98899,     0.98999,     0.99099,     0.99199,     0.99299,     0.99399,     0.99499,       0.996,       0.997,       0.998,       0.999,           1]), array([[          1,           1,           1,           1,           1,           1,           1,           1,           1,           1,           1,           1,           1,           1,           1,           1,           1,           1,           1,           1,           1,           1,           1,\n",
       "                  1,           1,           1,           1,           1,           1,           1,           1,           1,           1,           1,           1,           1,           1,           1,           1,           1,           1,           1,           1,           1,           1,           1,\n",
       "                  1,           1,           1,           1,           1,           1,           1,           1,           1,           1,           1,           1,           1,           1,           1,           1,           1,           1,           1,           1,           1,           1,           1,\n",
       "                  1,           1,           1,           1,           1,           1,           1,           1,           1,           1,           1,           1,           1,           1,           1,           1,           1,           1,           1,           1,           1,           1,           1,\n",
       "                  1,           1,           1,           1,           1,           1,           1,           1,           1,           1,           1,           1,           1,           1,           1,           1,           1,           1,           1,           1,           1,           1,           1,\n",
       "                  1,           1,           1,           1,           1,           1,           1,           1,           1,           1,           1,           1,           1,           1,           1,           1,           1,           1,           1,           1,           1,           1,           1,\n",
       "                  1,           1,           1,           1,           1,           1,           1,           1,           1,           1,           1,           1,           1,           1,           1,           1,           1,           1,           1,           1,           1,           1,           1,\n",
       "                  1,           1,           1,           1,           1,           1,           1,           1,           1,           1,           1,           1,           1,           1,           1,           1,           1,           1,           1,           1,           1,           1,           1,\n",
       "                  1,           1,           1,           1,           1,           1,           1,           1,           1,           1,           1,           1,           1,           1,           1,           1,           1,           1,           1,           1,           1,           1,           1,\n",
       "                  1,           1,           1,           1,           1,           1,           1,           1,           1,           1,           1,           1,           1,           1,           1,           1,           1,           1,           1,           1,           1,           1,           1,\n",
       "                  1,           1,           1,           1,           1,           1,           1,           1,           1,           1,           1,           1,           1,           1,           1,           1,           1,           1,           1,           1,           1,           1,           1,\n",
       "                  1,           1,           1,           1,           1,           1,           1,           1,           1,           1,           1,           1,           1,           1,           1,           1,           1,           1,           1,           1,           1,           1,           1,\n",
       "                  1,           1,           1,           1,           1,           1,           1,           1,           1,           1,           1,           1,           1,           1,           1,           1,           1,           1,           1,           1,           1,           1,           1,\n",
       "                  1,           1,           1,           1,           1,           1,           1,           1,           1,           1,           1,           1,           1,           1,           1,           1,           1,           1,           1,           1,           1,           1,           1,\n",
       "                  1,           1,           1,           1,           1,           1,           1,           1,           1,           1,           1,           1,           1,           1,           1,           1,           1,           1,           1,           1,           1,           1,           1,\n",
       "                  1,           1,           1,           1,           1,           1,           1,           1,           1,           1,           1,           1,           1,           1,           1,           1,           1,           1,           1,           1,           1,           1,           1,\n",
       "                  1,           1,           1,           1,           1,           1,           1,           1,           1,           1,           1,           1,           1,           1,           1,           1,           1,           1,           1,           1,           1,           1,           1,\n",
       "                  1,           1,           1,           1,           1,           1,           1,           1,           1,           1,           1,           1,           1,           1,           1,           1,           1,           1,           1,           1,           1,           1,           1,\n",
       "                  1,           1,           1,           1,           1,           1,           1,           1,           1,           1,           1,           1,           1,           1,           1,           1,           1,           1,           1,           1,           1,           1,           1,\n",
       "                  1,           1,           1,           1,           1,           1,           1,           1,           1,           1,           1,           1,           1,           1,           1,           1,           1,           1,           1,           1,           1,           1,           1,\n",
       "                  1,           1,           1,           1,           1,           1,           1,           1,           1,           1,           1,           1,           1,           1,           1,           1,           1,           1,           1,           1,           1,           1,           1,\n",
       "                  1,           1,           1,           1,           1,           1,           1,           1,           1,           1,           1,           1,           1,           1,           1,           1,           1,           1,           1,           1,           1,           1,           1,\n",
       "                  1,           1,           1,           1,           1,           1,           1,           1,           1,           1,           1,           1,           1,           1,           1,           1,           1,           1,           1,           1,           1,           1,           1,\n",
       "                  1,           1,           1,           1,           1,           1,           1,           1,           1,           1,           1,           1,           1,           1,           1,           1,           1,           1,           1,           1,           1,           1,           1,\n",
       "                  1,           1,           1,           1,           1,           1,           1,           1,           1,           1,           1,           1,           1,           1,           1,           1,           1,           1,           1,           1,           1,           1,           1,\n",
       "                  1,           1,           1,           1,           1,           1,           1,           1,           1,           1,           1,           1,           1,           1,           1,           1,           1,           1,           1,           1,           1,           1,           1,\n",
       "                  1,           1,           1,           1,           1,           1,           1,           1,           1,           1,           1,           1,           1,           1,           1,           1,           1,           1,           1,           1,           1,           1,           1,\n",
       "                  1,           1,           1,           1,           1,           1,           1,           1,           1,           1,           1,           1,           1,           1,           1,           1,           1,           1,           1,           1,           1,           1,           1,\n",
       "                  1,           1,           1,           1,           1,           1,           1,           1,           1,           1,           1,           1,           1,           1,           1,           1,           1,           1,           1,           1,           1,           1,           1,\n",
       "                  1,           1,           1,           1,           1,           1,           1,           1,           1,           1,           1,           1,           1,           1,           1,           1,           1,           1,           1,           1,           1,           1,           1,\n",
       "                  1,           1,           1,           1,           1,           1,           1,           1,           1,           1,           1,           1,           1,           1,           1,           1,           1,           1,           1,           1,           1,           1,           1,\n",
       "                  1,           1,           1,           1,           1,           1,           1,           1,           1,           1,           1,           1,           1,           1,           1,           1,           1,           1,           1,           1,           1,           1,           1,\n",
       "                  1,           1,           1,           1,           1,           1,           1,           1,           1,           1,           1,           1,           1,           1,           1,           1,           1,           1,           1,           1,           1,           1,           1,\n",
       "                  1,           1,           1,           1,           1,           1,           1,           1,           1,           1,           1,           1,           1,           1,           1,           1,           1,           1,           1,           1,           1,           1,           1,\n",
       "                  1,           1,           1,           1,           1,           1,           1,           1,           1,           1,           1,           1,           1,           1,           1,           1,           1,           1,           1,           1,           1,           1,           1,\n",
       "                  1,           1,           1,           1,           1,           1,           1,           1,           1,           1,           1,           1,           1,           1,           1,           1,           1,           1,           1,           1,           1,           1,           1,\n",
       "                  1,           1,           1,           1,           1,           1,           1,           1,           1,           1,           1,           1,           1,           1,           1,           1,           1,           1,           1,           1,           1,           1,           1,\n",
       "                  1,           1,           1,           1,           1,           1,           1,           1,           1,           1,           1,           1,           1,           1,           1,           1,           1,           1,           1,           1,           1,           1,           1,\n",
       "                  1,           1,           1,           1,           1,           1,           1,           1,           1,           1,           1,           1,           1,           1,           1,           1,           1,           1,     0.93103,     0.93103,     0.93103,     0.93103,     0.93103,\n",
       "            0.93103,     0.93103,     0.93103,     0.93103,     0.93103,     0.93103,     0.93103,     0.93103,     0.93103,     0.93103,     0.93103,     0.93103,     0.93103,     0.93103,     0.93103,     0.93103,     0.93103,     0.93103,     0.93103,     0.93103,     0.93103,     0.93103,     0.93103,\n",
       "            0.93103,     0.93103,     0.93103,     0.93103,     0.93103,     0.93103,     0.93103,     0.93103,     0.93103,     0.93103,     0.93103,     0.93103,     0.93103,     0.93103,     0.93103,     0.93103,     0.93103,     0.93103,     0.93103,     0.93103,     0.93103,     0.93103,     0.93103,\n",
       "            0.93103,     0.93103,     0.93103,     0.93103,     0.93103,     0.93103,     0.93103,     0.93103,     0.93103,     0.93103,     0.93103,     0.93103,     0.93103,     0.93103,     0.93103,     0.93103,     0.93103,     0.93103,     0.93103,     0.93103,     0.93103,     0.34146,     0.34146,\n",
       "            0.34146,     0.34146,     0.34146,     0.34146,     0.34146,     0.34146,     0.34146,     0.34146,     0.34146,     0.34146,     0.34146,     0.34146,     0.34146,     0.34146,     0.34146,     0.34146,     0.34146,     0.34146,     0.34146,     0.34146,     0.34146,     0.34146,     0.34146,\n",
       "            0.34146,     0.34146,     0.34146,     0.34146,     0.34146,     0.34146,     0.34146,     0.34146,     0.34146,     0.34146,           0]]), 'Recall', 'Precision'], [array([          0,    0.001001,    0.002002,    0.003003,    0.004004,    0.005005,    0.006006,    0.007007,    0.008008,    0.009009,     0.01001,    0.011011,    0.012012,    0.013013,    0.014014,    0.015015,    0.016016,    0.017017,    0.018018,    0.019019,     0.02002,    0.021021,    0.022022,    0.023023,\n",
       "          0.024024,    0.025025,    0.026026,    0.027027,    0.028028,    0.029029,     0.03003,    0.031031,    0.032032,    0.033033,    0.034034,    0.035035,    0.036036,    0.037037,    0.038038,    0.039039,     0.04004,    0.041041,    0.042042,    0.043043,    0.044044,    0.045045,    0.046046,    0.047047,\n",
       "          0.048048,    0.049049,     0.05005,    0.051051,    0.052052,    0.053053,    0.054054,    0.055055,    0.056056,    0.057057,    0.058058,    0.059059,     0.06006,    0.061061,    0.062062,    0.063063,    0.064064,    0.065065,    0.066066,    0.067067,    0.068068,    0.069069,     0.07007,    0.071071,\n",
       "          0.072072,    0.073073,    0.074074,    0.075075,    0.076076,    0.077077,    0.078078,    0.079079,     0.08008,    0.081081,    0.082082,    0.083083,    0.084084,    0.085085,    0.086086,    0.087087,    0.088088,    0.089089,     0.09009,    0.091091,    0.092092,    0.093093,    0.094094,    0.095095,\n",
       "          0.096096,    0.097097,    0.098098,    0.099099,      0.1001,      0.1011,      0.1021,      0.1031,      0.1041,     0.10511,     0.10611,     0.10711,     0.10811,     0.10911,     0.11011,     0.11111,     0.11211,     0.11311,     0.11411,     0.11512,     0.11612,     0.11712,     0.11812,     0.11912,\n",
       "           0.12012,     0.12112,     0.12212,     0.12312,     0.12412,     0.12513,     0.12613,     0.12713,     0.12813,     0.12913,     0.13013,     0.13113,     0.13213,     0.13313,     0.13413,     0.13514,     0.13614,     0.13714,     0.13814,     0.13914,     0.14014,     0.14114,     0.14214,     0.14314,\n",
       "           0.14414,     0.14515,     0.14615,     0.14715,     0.14815,     0.14915,     0.15015,     0.15115,     0.15215,     0.15315,     0.15415,     0.15516,     0.15616,     0.15716,     0.15816,     0.15916,     0.16016,     0.16116,     0.16216,     0.16316,     0.16416,     0.16517,     0.16617,     0.16717,\n",
       "           0.16817,     0.16917,     0.17017,     0.17117,     0.17217,     0.17317,     0.17417,     0.17518,     0.17618,     0.17718,     0.17818,     0.17918,     0.18018,     0.18118,     0.18218,     0.18318,     0.18418,     0.18519,     0.18619,     0.18719,     0.18819,     0.18919,     0.19019,     0.19119,\n",
       "           0.19219,     0.19319,     0.19419,      0.1952,      0.1962,      0.1972,      0.1982,      0.1992,      0.2002,      0.2012,      0.2022,      0.2032,      0.2042,     0.20521,     0.20621,     0.20721,     0.20821,     0.20921,     0.21021,     0.21121,     0.21221,     0.21321,     0.21421,     0.21522,\n",
       "           0.21622,     0.21722,     0.21822,     0.21922,     0.22022,     0.22122,     0.22222,     0.22322,     0.22422,     0.22523,     0.22623,     0.22723,     0.22823,     0.22923,     0.23023,     0.23123,     0.23223,     0.23323,     0.23423,     0.23524,     0.23624,     0.23724,     0.23824,     0.23924,\n",
       "           0.24024,     0.24124,     0.24224,     0.24324,     0.24424,     0.24525,     0.24625,     0.24725,     0.24825,     0.24925,     0.25025,     0.25125,     0.25225,     0.25325,     0.25425,     0.25526,     0.25626,     0.25726,     0.25826,     0.25926,     0.26026,     0.26126,     0.26226,     0.26326,\n",
       "           0.26426,     0.26527,     0.26627,     0.26727,     0.26827,     0.26927,     0.27027,     0.27127,     0.27227,     0.27327,     0.27427,     0.27528,     0.27628,     0.27728,     0.27828,     0.27928,     0.28028,     0.28128,     0.28228,     0.28328,     0.28428,     0.28529,     0.28629,     0.28729,\n",
       "           0.28829,     0.28929,     0.29029,     0.29129,     0.29229,     0.29329,     0.29429,      0.2953,      0.2963,      0.2973,      0.2983,      0.2993,      0.3003,      0.3013,      0.3023,      0.3033,      0.3043,     0.30531,     0.30631,     0.30731,     0.30831,     0.30931,     0.31031,     0.31131,\n",
       "           0.31231,     0.31331,     0.31431,     0.31532,     0.31632,     0.31732,     0.31832,     0.31932,     0.32032,     0.32132,     0.32232,     0.32332,     0.32432,     0.32533,     0.32633,     0.32733,     0.32833,     0.32933,     0.33033,     0.33133,     0.33233,     0.33333,     0.33433,     0.33534,\n",
       "           0.33634,     0.33734,     0.33834,     0.33934,     0.34034,     0.34134,     0.34234,     0.34334,     0.34434,     0.34535,     0.34635,     0.34735,     0.34835,     0.34935,     0.35035,     0.35135,     0.35235,     0.35335,     0.35435,     0.35536,     0.35636,     0.35736,     0.35836,     0.35936,\n",
       "           0.36036,     0.36136,     0.36236,     0.36336,     0.36436,     0.36537,     0.36637,     0.36737,     0.36837,     0.36937,     0.37037,     0.37137,     0.37237,     0.37337,     0.37437,     0.37538,     0.37638,     0.37738,     0.37838,     0.37938,     0.38038,     0.38138,     0.38238,     0.38338,\n",
       "           0.38438,     0.38539,     0.38639,     0.38739,     0.38839,     0.38939,     0.39039,     0.39139,     0.39239,     0.39339,     0.39439,      0.3954,      0.3964,      0.3974,      0.3984,      0.3994,      0.4004,      0.4014,      0.4024,      0.4034,      0.4044,     0.40541,     0.40641,     0.40741,\n",
       "           0.40841,     0.40941,     0.41041,     0.41141,     0.41241,     0.41341,     0.41441,     0.41542,     0.41642,     0.41742,     0.41842,     0.41942,     0.42042,     0.42142,     0.42242,     0.42342,     0.42442,     0.42543,     0.42643,     0.42743,     0.42843,     0.42943,     0.43043,     0.43143,\n",
       "           0.43243,     0.43343,     0.43443,     0.43544,     0.43644,     0.43744,     0.43844,     0.43944,     0.44044,     0.44144,     0.44244,     0.44344,     0.44444,     0.44545,     0.44645,     0.44745,     0.44845,     0.44945,     0.45045,     0.45145,     0.45245,     0.45345,     0.45445,     0.45546,\n",
       "           0.45646,     0.45746,     0.45846,     0.45946,     0.46046,     0.46146,     0.46246,     0.46346,     0.46446,     0.46547,     0.46647,     0.46747,     0.46847,     0.46947,     0.47047,     0.47147,     0.47247,     0.47347,     0.47447,     0.47548,     0.47648,     0.47748,     0.47848,     0.47948,\n",
       "           0.48048,     0.48148,     0.48248,     0.48348,     0.48448,     0.48549,     0.48649,     0.48749,     0.48849,     0.48949,     0.49049,     0.49149,     0.49249,     0.49349,     0.49449,      0.4955,      0.4965,      0.4975,      0.4985,      0.4995,      0.5005,      0.5015,      0.5025,      0.5035,\n",
       "            0.5045,     0.50551,     0.50651,     0.50751,     0.50851,     0.50951,     0.51051,     0.51151,     0.51251,     0.51351,     0.51451,     0.51552,     0.51652,     0.51752,     0.51852,     0.51952,     0.52052,     0.52152,     0.52252,     0.52352,     0.52452,     0.52553,     0.52653,     0.52753,\n",
       "           0.52853,     0.52953,     0.53053,     0.53153,     0.53253,     0.53353,     0.53453,     0.53554,     0.53654,     0.53754,     0.53854,     0.53954,     0.54054,     0.54154,     0.54254,     0.54354,     0.54454,     0.54555,     0.54655,     0.54755,     0.54855,     0.54955,     0.55055,     0.55155,\n",
       "           0.55255,     0.55355,     0.55455,     0.55556,     0.55656,     0.55756,     0.55856,     0.55956,     0.56056,     0.56156,     0.56256,     0.56356,     0.56456,     0.56557,     0.56657,     0.56757,     0.56857,     0.56957,     0.57057,     0.57157,     0.57257,     0.57357,     0.57457,     0.57558,\n",
       "           0.57658,     0.57758,     0.57858,     0.57958,     0.58058,     0.58158,     0.58258,     0.58358,     0.58458,     0.58559,     0.58659,     0.58759,     0.58859,     0.58959,     0.59059,     0.59159,     0.59259,     0.59359,     0.59459,      0.5956,      0.5966,      0.5976,      0.5986,      0.5996,\n",
       "            0.6006,      0.6016,      0.6026,      0.6036,      0.6046,     0.60561,     0.60661,     0.60761,     0.60861,     0.60961,     0.61061,     0.61161,     0.61261,     0.61361,     0.61461,     0.61562,     0.61662,     0.61762,     0.61862,     0.61962,     0.62062,     0.62162,     0.62262,     0.62362,\n",
       "           0.62462,     0.62563,     0.62663,     0.62763,     0.62863,     0.62963,     0.63063,     0.63163,     0.63263,     0.63363,     0.63463,     0.63564,     0.63664,     0.63764,     0.63864,     0.63964,     0.64064,     0.64164,     0.64264,     0.64364,     0.64464,     0.64565,     0.64665,     0.64765,\n",
       "           0.64865,     0.64965,     0.65065,     0.65165,     0.65265,     0.65365,     0.65465,     0.65566,     0.65666,     0.65766,     0.65866,     0.65966,     0.66066,     0.66166,     0.66266,     0.66366,     0.66466,     0.66567,     0.66667,     0.66767,     0.66867,     0.66967,     0.67067,     0.67167,\n",
       "           0.67267,     0.67367,     0.67467,     0.67568,     0.67668,     0.67768,     0.67868,     0.67968,     0.68068,     0.68168,     0.68268,     0.68368,     0.68468,     0.68569,     0.68669,     0.68769,     0.68869,     0.68969,     0.69069,     0.69169,     0.69269,     0.69369,     0.69469,      0.6957,\n",
       "            0.6967,      0.6977,      0.6987,      0.6997,      0.7007,      0.7017,      0.7027,      0.7037,      0.7047,     0.70571,     0.70671,     0.70771,     0.70871,     0.70971,     0.71071,     0.71171,     0.71271,     0.71371,     0.71471,     0.71572,     0.71672,     0.71772,     0.71872,     0.71972,\n",
       "           0.72072,     0.72172,     0.72272,     0.72372,     0.72472,     0.72573,     0.72673,     0.72773,     0.72873,     0.72973,     0.73073,     0.73173,     0.73273,     0.73373,     0.73473,     0.73574,     0.73674,     0.73774,     0.73874,     0.73974,     0.74074,     0.74174,     0.74274,     0.74374,\n",
       "           0.74474,     0.74575,     0.74675,     0.74775,     0.74875,     0.74975,     0.75075,     0.75175,     0.75275,     0.75375,     0.75475,     0.75576,     0.75676,     0.75776,     0.75876,     0.75976,     0.76076,     0.76176,     0.76276,     0.76376,     0.76476,     0.76577,     0.76677,     0.76777,\n",
       "           0.76877,     0.76977,     0.77077,     0.77177,     0.77277,     0.77377,     0.77477,     0.77578,     0.77678,     0.77778,     0.77878,     0.77978,     0.78078,     0.78178,     0.78278,     0.78378,     0.78478,     0.78579,     0.78679,     0.78779,     0.78879,     0.78979,     0.79079,     0.79179,\n",
       "           0.79279,     0.79379,     0.79479,      0.7958,      0.7968,      0.7978,      0.7988,      0.7998,      0.8008,      0.8018,      0.8028,      0.8038,      0.8048,     0.80581,     0.80681,     0.80781,     0.80881,     0.80981,     0.81081,     0.81181,     0.81281,     0.81381,     0.81481,     0.81582,\n",
       "           0.81682,     0.81782,     0.81882,     0.81982,     0.82082,     0.82182,     0.82282,     0.82382,     0.82482,     0.82583,     0.82683,     0.82783,     0.82883,     0.82983,     0.83083,     0.83183,     0.83283,     0.83383,     0.83483,     0.83584,     0.83684,     0.83784,     0.83884,     0.83984,\n",
       "           0.84084,     0.84184,     0.84284,     0.84384,     0.84484,     0.84585,     0.84685,     0.84785,     0.84885,     0.84985,     0.85085,     0.85185,     0.85285,     0.85385,     0.85485,     0.85586,     0.85686,     0.85786,     0.85886,     0.85986,     0.86086,     0.86186,     0.86286,     0.86386,\n",
       "           0.86486,     0.86587,     0.86687,     0.86787,     0.86887,     0.86987,     0.87087,     0.87187,     0.87287,     0.87387,     0.87487,     0.87588,     0.87688,     0.87788,     0.87888,     0.87988,     0.88088,     0.88188,     0.88288,     0.88388,     0.88488,     0.88589,     0.88689,     0.88789,\n",
       "           0.88889,     0.88989,     0.89089,     0.89189,     0.89289,     0.89389,     0.89489,      0.8959,      0.8969,      0.8979,      0.8989,      0.8999,      0.9009,      0.9019,      0.9029,      0.9039,      0.9049,     0.90591,     0.90691,     0.90791,     0.90891,     0.90991,     0.91091,     0.91191,\n",
       "           0.91291,     0.91391,     0.91491,     0.91592,     0.91692,     0.91792,     0.91892,     0.91992,     0.92092,     0.92192,     0.92292,     0.92392,     0.92492,     0.92593,     0.92693,     0.92793,     0.92893,     0.92993,     0.93093,     0.93193,     0.93293,     0.93393,     0.93493,     0.93594,\n",
       "           0.93694,     0.93794,     0.93894,     0.93994,     0.94094,     0.94194,     0.94294,     0.94394,     0.94494,     0.94595,     0.94695,     0.94795,     0.94895,     0.94995,     0.95095,     0.95195,     0.95295,     0.95395,     0.95495,     0.95596,     0.95696,     0.95796,     0.95896,     0.95996,\n",
       "           0.96096,     0.96196,     0.96296,     0.96396,     0.96496,     0.96597,     0.96697,     0.96797,     0.96897,     0.96997,     0.97097,     0.97197,     0.97297,     0.97397,     0.97497,     0.97598,     0.97698,     0.97798,     0.97898,     0.97998,     0.98098,     0.98198,     0.98298,     0.98398,\n",
       "           0.98498,     0.98599,     0.98699,     0.98799,     0.98899,     0.98999,     0.99099,     0.99199,     0.99299,     0.99399,     0.99499,       0.996,       0.997,       0.998,       0.999,           1]), array([[   0.025248,    0.025248,    0.042355,     0.14554,      0.2806,      0.3701,     0.46389,     0.52588,     0.58657,     0.60751,     0.64507,     0.68517,     0.70651,     0.73007,     0.73633,     0.75157,     0.76247,     0.77931,     0.82421,     0.83442,     0.84045,     0.84535,     0.84891,\n",
       "            0.85243,     0.85594,     0.87216,     0.87569,      0.8792,     0.88268,     0.88726,     0.89499,     0.90076,     0.90298,     0.90518,     0.90738,     0.90956,     0.91174,      0.9139,     0.91608,     0.91827,     0.92046,     0.92263,      0.9248,     0.92696,      0.9291,     0.93107,\n",
       "            0.93143,     0.93179,     0.93215,      0.9325,     0.93286,     0.93322,     0.93358,     0.93393,     0.93429,     0.93465,       0.935,     0.93536,     0.93571,     0.93607,     0.93642,     0.93678,     0.93713,     0.93749,     0.93784,      0.9382,     0.93855,      0.9389,     0.93926,\n",
       "            0.93961,     0.93996,     0.94032,     0.94067,     0.94102,     0.94137,     0.94172,     0.94207,     0.94242,     0.94278,     0.94313,     0.94348,     0.94383,     0.94418,     0.94452,     0.94487,     0.94522,     0.94557,     0.94592,     0.94627,     0.94662,     0.94696,     0.94731,\n",
       "            0.94711,     0.94681,      0.9465,      0.9462,     0.94589,     0.94558,     0.94528,     0.94497,     0.94466,     0.94436,     0.94405,     0.94374,     0.94344,     0.94313,     0.94282,     0.94251,     0.94221,      0.9419,     0.94159,     0.94128,     0.94097,     0.94066,     0.94035,\n",
       "            0.94005,     0.93974,     0.93943,     0.93912,     0.93881,      0.9385,     0.93819,     0.93788,     0.93757,     0.93726,     0.93695,     0.93664,     0.93633,     0.93601,      0.9357,     0.93539,     0.93508,     0.93477,     0.93446,     0.93414,     0.93383,     0.93352,     0.93321,\n",
       "            0.93289,     0.93258,     0.93227,     0.93196,     0.93164,     0.93133,     0.93102,      0.9307,     0.93039,     0.93007,     0.92976,     0.92945,     0.92913,     0.92882,     0.92853,     0.92833,     0.92812,     0.92792,     0.92772,     0.92752,     0.92732,     0.92712,     0.92692,\n",
       "            0.92672,     0.92651,     0.92631,     0.92611,     0.92591,     0.92571,     0.92551,      0.9253,      0.9251,      0.9249,      0.9247,      0.9245,     0.92429,     0.92409,     0.92389,     0.92369,     0.92349,     0.92328,     0.92308,     0.92288,     0.92267,     0.92247,     0.92227,\n",
       "            0.92207,     0.92186,     0.92166,     0.92146,     0.92125,     0.92105,     0.92085,     0.92064,     0.92044,     0.92024,     0.92003,     0.91983,     0.91963,     0.91942,     0.91922,     0.91901,     0.91881,     0.91861,      0.9184,      0.9182,     0.91799,     0.91779,     0.91759,\n",
       "            0.91738,     0.91718,     0.91697,     0.91677,     0.91656,     0.91636,     0.91615,     0.91595,     0.91574,     0.91554,     0.91533,     0.91513,     0.91492,     0.91472,     0.91451,     0.91431,      0.9141,      0.9139,     0.91369,     0.91348,     0.91328,     0.91307,     0.91287,\n",
       "            0.91266,     0.91245,     0.91225,     0.91204,     0.91184,     0.91163,     0.91142,     0.91122,     0.91101,      0.9108,      0.9106,     0.91039,     0.91018,     0.90998,     0.90977,     0.90956,     0.90936,     0.90915,     0.91368,     0.91993,     0.92593,     0.92615,     0.92636,\n",
       "            0.92658,      0.9268,     0.92701,     0.92723,     0.92744,     0.92766,     0.92787,     0.92809,      0.9283,     0.92852,     0.92873,     0.92895,     0.92916,     0.92938,     0.92959,     0.92981,     0.93002,     0.93024,     0.93045,     0.93066,     0.93088,     0.93109,     0.93131,\n",
       "            0.93152,     0.93173,     0.93195,     0.93216,     0.93237,     0.93259,      0.9328,     0.93301,     0.93322,     0.93344,     0.93365,     0.93386,     0.93407,     0.93429,      0.9345,     0.93471,     0.93492,     0.93513,     0.93535,     0.93556,     0.93577,     0.93598,     0.93619,\n",
       "             0.9364,     0.93661,     0.93682,     0.93704,     0.93725,     0.93746,     0.93767,     0.93788,     0.93809,      0.9383,     0.93851,     0.93872,     0.93893,     0.93914,     0.93935,     0.93956,     0.93977,     0.93998,     0.94019,     0.94039,      0.9406,     0.94081,     0.94102,\n",
       "            0.94123,     0.94144,     0.94165,     0.94186,     0.94206,     0.94227,     0.94248,     0.94269,      0.9429,      0.9431,     0.94331,     0.94331,     0.94316,     0.94301,     0.94287,     0.94272,     0.94257,     0.94242,     0.94227,     0.94213,     0.94198,     0.94183,     0.94168,\n",
       "            0.94154,     0.94139,     0.94124,     0.94109,     0.94094,     0.94079,     0.94065,      0.9405,     0.94035,      0.9402,     0.94005,      0.9399,     0.93976,     0.93961,     0.93946,     0.93931,     0.93916,     0.93901,     0.93886,     0.93872,     0.93857,     0.93842,     0.93827,\n",
       "            0.93812,     0.93797,     0.93782,     0.93767,     0.93752,     0.93738,     0.93723,     0.93708,     0.93693,     0.93678,     0.93663,     0.93648,     0.93633,     0.93618,     0.93603,     0.93588,     0.93573,     0.93558,     0.93543,     0.93528,     0.93513,     0.93498,     0.93483,\n",
       "            0.93468,     0.93453,     0.93438,     0.93423,     0.93408,     0.93393,     0.93378,     0.93363,     0.93348,     0.93333,     0.93318,     0.93303,     0.93288,     0.93273,     0.93258,     0.93243,     0.93228,     0.93213,     0.93198,     0.93183,     0.93168,     0.93153,     0.93137,\n",
       "            0.93122,     0.93107,     0.93092,     0.93077,     0.93062,     0.93047,     0.93032,     0.93017,     0.93002,     0.92986,     0.92971,     0.92956,     0.92941,     0.92926,     0.92911,     0.92896,      0.9288,     0.92865,      0.9285,     0.92835,      0.9282,     0.92805,     0.92789,\n",
       "            0.92774,     0.92759,     0.92744,     0.92729,     0.92713,     0.92698,     0.92683,     0.92668,     0.92653,     0.92637,     0.92622,     0.92607,     0.92592,     0.92576,     0.92561,     0.92546,     0.92531,     0.92515,       0.925,     0.92485,      0.9247,     0.92454,     0.92439,\n",
       "            0.92424,     0.92408,     0.92393,     0.92378,     0.92363,     0.92347,     0.92332,     0.92317,     0.92299,     0.92277,     0.92255,     0.92233,     0.92211,     0.92189,     0.92167,     0.92146,     0.92124,     0.92102,      0.9208,     0.92058,     0.92036,     0.92014,     0.91992,\n",
       "             0.9197,     0.91948,     0.91926,     0.91904,     0.91882,      0.9186,     0.91838,     0.91816,     0.91794,     0.91772,      0.9175,     0.91728,     0.91706,     0.91684,     0.91662,      0.9164,     0.91618,     0.91595,     0.91573,     0.91551,     0.91529,     0.91507,     0.91485,\n",
       "            0.91463,      0.9144,     0.91418,     0.91396,     0.91374,     0.91352,     0.91329,     0.91307,     0.91285,     0.91263,      0.9124,     0.91218,     0.91196,     0.91174,     0.91151,     0.91129,     0.91107,     0.91084,     0.91062,      0.9104,     0.91017,     0.90995,     0.90973,\n",
       "             0.9095,     0.90928,     0.90905,     0.90883,     0.90861,     0.90838,     0.90816,     0.90793,     0.90771,     0.90748,     0.90726,     0.90703,     0.90681,     0.90658,     0.90636,     0.90613,     0.90591,     0.90568,     0.90546,     0.90523,     0.90501,     0.90478,     0.90455,\n",
       "            0.90433,      0.9041,     0.90388,     0.90365,     0.90342,      0.9032,     0.90297,     0.90275,     0.90252,     0.90229,     0.90206,     0.90044,     0.89763,      0.8948,     0.89196,      0.8891,     0.88623,     0.88335,     0.88045,     0.87974,     0.87944,     0.87914,     0.87883,\n",
       "            0.87853,     0.87822,     0.87792,     0.87761,     0.87731,       0.877,      0.8767,     0.87639,     0.87609,     0.87578,     0.87548,     0.87517,     0.87486,     0.87456,     0.87425,     0.87394,     0.87364,     0.87333,     0.87302,     0.87272,     0.87241,      0.8721,     0.87179,\n",
       "            0.87148,     0.87118,     0.87087,     0.87056,     0.87025,     0.86994,     0.86963,     0.86932,     0.86901,      0.8687,     0.86839,     0.86808,     0.86777,     0.86746,     0.86715,     0.86684,     0.86653,     0.86622,     0.86591,      0.8656,     0.86529,     0.86498,     0.86466,\n",
       "            0.86435,     0.86404,     0.86373,     0.86342,      0.8631,     0.86279,     0.86248,     0.86216,     0.86185,     0.86154,     0.86122,     0.86091,      0.8606,     0.86028,     0.85997,     0.85965,     0.85934,     0.85902,     0.85871,     0.85839,     0.85808,     0.85776,     0.85745,\n",
       "            0.85713,     0.85689,     0.85665,     0.85641,     0.85617,     0.85592,     0.85568,     0.85544,      0.8552,     0.85496,     0.85471,     0.85447,     0.85423,     0.85399,     0.85374,      0.8535,     0.85326,     0.85301,     0.85277,     0.85253,     0.85228,     0.85204,      0.8518,\n",
       "            0.85155,     0.85131,     0.85107,     0.85082,     0.85058,     0.85033,     0.85009,     0.84985,      0.8496,     0.84936,     0.84911,     0.84887,     0.84862,     0.84838,     0.84813,     0.84789,     0.84764,      0.8474,     0.84715,      0.8469,     0.84666,     0.84641,     0.84617,\n",
       "            0.84592,     0.84567,     0.84543,     0.84518,     0.84494,     0.84469,     0.84444,     0.84419,     0.84395,      0.8437,     0.84345,     0.84321,     0.84296,     0.84271,     0.84246,     0.84222,     0.84197,     0.84172,     0.84147,     0.84122,     0.84098,     0.84073,     0.84048,\n",
       "            0.84023,     0.83998,     0.83973,     0.83948,     0.83924,     0.83899,     0.83874,     0.83849,     0.83824,     0.83799,     0.83774,     0.83749,     0.83724,     0.83699,     0.83674,     0.83649,     0.83624,     0.83599,     0.83574,     0.83549,     0.83524,     0.83499,     0.83474,\n",
       "            0.83449,     0.83423,     0.83398,     0.83373,     0.83348,     0.83317,     0.83278,     0.83238,     0.83199,     0.83159,      0.8312,      0.8308,     0.83041,     0.83001,     0.82962,     0.82922,     0.82882,     0.82843,     0.82803,     0.82763,     0.82724,     0.82684,     0.82644,\n",
       "            0.82604,     0.82564,     0.82525,     0.82485,     0.82445,     0.82405,     0.82365,     0.82325,     0.82285,     0.82245,     0.82205,     0.82164,     0.82124,     0.82084,     0.82044,     0.82004,     0.81963,     0.81923,     0.81883,     0.81842,     0.81802,     0.81762,     0.81721,\n",
       "            0.81681,      0.8164,       0.816,     0.81559,     0.81519,     0.81478,     0.81437,     0.81397,     0.81356,     0.81315,     0.81275,     0.81234,     0.81193,     0.81152,     0.81111,     0.81071,      0.8103,     0.80989,     0.80948,     0.80907,     0.80866,     0.80779,     0.80666,\n",
       "            0.80553,      0.8044,     0.80327,     0.80213,     0.80099,     0.79985,     0.79871,     0.79757,     0.79642,     0.79527,     0.79412,     0.79297,     0.79181,     0.79066,      0.7895,     0.78833,     0.78717,       0.786,     0.78483,     0.78366,     0.78238,     0.78013,     0.77786,\n",
       "            0.77559,     0.77331,     0.77102,     0.76872,     0.76642,      0.7641,     0.76178,     0.75945,     0.75711,     0.75537,     0.75483,     0.75429,     0.75375,     0.75321,     0.75267,     0.75212,     0.75158,     0.75104,     0.75049,     0.74995,      0.7494,     0.74886,     0.74831,\n",
       "            0.74777,     0.74722,     0.74667,     0.74613,     0.74558,     0.74503,     0.74448,     0.74393,     0.74338,     0.74283,     0.74228,     0.74173,     0.74117,     0.74062,     0.74007,     0.73952,     0.73896,     0.73841,     0.73785,      0.7373,     0.73674,     0.73618,     0.73563,\n",
       "            0.73507,     0.73451,     0.73395,      0.7334,     0.73284,     0.73228,     0.73172,     0.73115,     0.73059,     0.73003,     0.72947,     0.72891,     0.72834,     0.72778,      0.7272,     0.72648,     0.72575,     0.72503,      0.7243,     0.72358,     0.72285,     0.72212,     0.72139,\n",
       "            0.72066,     0.71993,      0.7192,     0.71847,     0.71774,       0.717,     0.71627,     0.71553,      0.7148,     0.71406,     0.71332,     0.71259,     0.71185,     0.71111,     0.71036,     0.70962,     0.70888,     0.70814,     0.70739,     0.70665,      0.7059,     0.70515,      0.7044,\n",
       "            0.70365,      0.7029,     0.70215,      0.7014,     0.70065,      0.6999,     0.69914,     0.69839,     0.69733,      0.6913,      0.6852,     0.67905,     0.67285,     0.66657,     0.65981,     0.65298,     0.64608,     0.63911,     0.63271,      0.6278,     0.62286,     0.61788,     0.61286,\n",
       "            0.60781,     0.60272,     0.59877,     0.59613,     0.59349,     0.59084,     0.58817,      0.5855,     0.58281,     0.58012,     0.57741,      0.5747,     0.57197,     0.56923,     0.56649,     0.56012,     0.53009,     0.44335,      0.4371,      0.4308,     0.42445,     0.41805,      0.4116,\n",
       "             0.4051,     0.39775,      0.3875,     0.37712,     0.36661,     0.35597,      0.3237,     0.29364,     0.27482,     0.25558,     0.19645,      0.1881,      0.1824,     0.17666,     0.17089,     0.16508,     0.15924,     0.15335,     0.14743,     0.14148,     0.13548,     0.10121,           0,\n",
       "                  0,           0,           0,           0,           0,           0,           0,           0,           0,           0,           0]]), 'Confidence', 'F1'], [array([          0,    0.001001,    0.002002,    0.003003,    0.004004,    0.005005,    0.006006,    0.007007,    0.008008,    0.009009,     0.01001,    0.011011,    0.012012,    0.013013,    0.014014,    0.015015,    0.016016,    0.017017,    0.018018,    0.019019,     0.02002,    0.021021,    0.022022,    0.023023,\n",
       "          0.024024,    0.025025,    0.026026,    0.027027,    0.028028,    0.029029,     0.03003,    0.031031,    0.032032,    0.033033,    0.034034,    0.035035,    0.036036,    0.037037,    0.038038,    0.039039,     0.04004,    0.041041,    0.042042,    0.043043,    0.044044,    0.045045,    0.046046,    0.047047,\n",
       "          0.048048,    0.049049,     0.05005,    0.051051,    0.052052,    0.053053,    0.054054,    0.055055,    0.056056,    0.057057,    0.058058,    0.059059,     0.06006,    0.061061,    0.062062,    0.063063,    0.064064,    0.065065,    0.066066,    0.067067,    0.068068,    0.069069,     0.07007,    0.071071,\n",
       "          0.072072,    0.073073,    0.074074,    0.075075,    0.076076,    0.077077,    0.078078,    0.079079,     0.08008,    0.081081,    0.082082,    0.083083,    0.084084,    0.085085,    0.086086,    0.087087,    0.088088,    0.089089,     0.09009,    0.091091,    0.092092,    0.093093,    0.094094,    0.095095,\n",
       "          0.096096,    0.097097,    0.098098,    0.099099,      0.1001,      0.1011,      0.1021,      0.1031,      0.1041,     0.10511,     0.10611,     0.10711,     0.10811,     0.10911,     0.11011,     0.11111,     0.11211,     0.11311,     0.11411,     0.11512,     0.11612,     0.11712,     0.11812,     0.11912,\n",
       "           0.12012,     0.12112,     0.12212,     0.12312,     0.12412,     0.12513,     0.12613,     0.12713,     0.12813,     0.12913,     0.13013,     0.13113,     0.13213,     0.13313,     0.13413,     0.13514,     0.13614,     0.13714,     0.13814,     0.13914,     0.14014,     0.14114,     0.14214,     0.14314,\n",
       "           0.14414,     0.14515,     0.14615,     0.14715,     0.14815,     0.14915,     0.15015,     0.15115,     0.15215,     0.15315,     0.15415,     0.15516,     0.15616,     0.15716,     0.15816,     0.15916,     0.16016,     0.16116,     0.16216,     0.16316,     0.16416,     0.16517,     0.16617,     0.16717,\n",
       "           0.16817,     0.16917,     0.17017,     0.17117,     0.17217,     0.17317,     0.17417,     0.17518,     0.17618,     0.17718,     0.17818,     0.17918,     0.18018,     0.18118,     0.18218,     0.18318,     0.18418,     0.18519,     0.18619,     0.18719,     0.18819,     0.18919,     0.19019,     0.19119,\n",
       "           0.19219,     0.19319,     0.19419,      0.1952,      0.1962,      0.1972,      0.1982,      0.1992,      0.2002,      0.2012,      0.2022,      0.2032,      0.2042,     0.20521,     0.20621,     0.20721,     0.20821,     0.20921,     0.21021,     0.21121,     0.21221,     0.21321,     0.21421,     0.21522,\n",
       "           0.21622,     0.21722,     0.21822,     0.21922,     0.22022,     0.22122,     0.22222,     0.22322,     0.22422,     0.22523,     0.22623,     0.22723,     0.22823,     0.22923,     0.23023,     0.23123,     0.23223,     0.23323,     0.23423,     0.23524,     0.23624,     0.23724,     0.23824,     0.23924,\n",
       "           0.24024,     0.24124,     0.24224,     0.24324,     0.24424,     0.24525,     0.24625,     0.24725,     0.24825,     0.24925,     0.25025,     0.25125,     0.25225,     0.25325,     0.25425,     0.25526,     0.25626,     0.25726,     0.25826,     0.25926,     0.26026,     0.26126,     0.26226,     0.26326,\n",
       "           0.26426,     0.26527,     0.26627,     0.26727,     0.26827,     0.26927,     0.27027,     0.27127,     0.27227,     0.27327,     0.27427,     0.27528,     0.27628,     0.27728,     0.27828,     0.27928,     0.28028,     0.28128,     0.28228,     0.28328,     0.28428,     0.28529,     0.28629,     0.28729,\n",
       "           0.28829,     0.28929,     0.29029,     0.29129,     0.29229,     0.29329,     0.29429,      0.2953,      0.2963,      0.2973,      0.2983,      0.2993,      0.3003,      0.3013,      0.3023,      0.3033,      0.3043,     0.30531,     0.30631,     0.30731,     0.30831,     0.30931,     0.31031,     0.31131,\n",
       "           0.31231,     0.31331,     0.31431,     0.31532,     0.31632,     0.31732,     0.31832,     0.31932,     0.32032,     0.32132,     0.32232,     0.32332,     0.32432,     0.32533,     0.32633,     0.32733,     0.32833,     0.32933,     0.33033,     0.33133,     0.33233,     0.33333,     0.33433,     0.33534,\n",
       "           0.33634,     0.33734,     0.33834,     0.33934,     0.34034,     0.34134,     0.34234,     0.34334,     0.34434,     0.34535,     0.34635,     0.34735,     0.34835,     0.34935,     0.35035,     0.35135,     0.35235,     0.35335,     0.35435,     0.35536,     0.35636,     0.35736,     0.35836,     0.35936,\n",
       "           0.36036,     0.36136,     0.36236,     0.36336,     0.36436,     0.36537,     0.36637,     0.36737,     0.36837,     0.36937,     0.37037,     0.37137,     0.37237,     0.37337,     0.37437,     0.37538,     0.37638,     0.37738,     0.37838,     0.37938,     0.38038,     0.38138,     0.38238,     0.38338,\n",
       "           0.38438,     0.38539,     0.38639,     0.38739,     0.38839,     0.38939,     0.39039,     0.39139,     0.39239,     0.39339,     0.39439,      0.3954,      0.3964,      0.3974,      0.3984,      0.3994,      0.4004,      0.4014,      0.4024,      0.4034,      0.4044,     0.40541,     0.40641,     0.40741,\n",
       "           0.40841,     0.40941,     0.41041,     0.41141,     0.41241,     0.41341,     0.41441,     0.41542,     0.41642,     0.41742,     0.41842,     0.41942,     0.42042,     0.42142,     0.42242,     0.42342,     0.42442,     0.42543,     0.42643,     0.42743,     0.42843,     0.42943,     0.43043,     0.43143,\n",
       "           0.43243,     0.43343,     0.43443,     0.43544,     0.43644,     0.43744,     0.43844,     0.43944,     0.44044,     0.44144,     0.44244,     0.44344,     0.44444,     0.44545,     0.44645,     0.44745,     0.44845,     0.44945,     0.45045,     0.45145,     0.45245,     0.45345,     0.45445,     0.45546,\n",
       "           0.45646,     0.45746,     0.45846,     0.45946,     0.46046,     0.46146,     0.46246,     0.46346,     0.46446,     0.46547,     0.46647,     0.46747,     0.46847,     0.46947,     0.47047,     0.47147,     0.47247,     0.47347,     0.47447,     0.47548,     0.47648,     0.47748,     0.47848,     0.47948,\n",
       "           0.48048,     0.48148,     0.48248,     0.48348,     0.48448,     0.48549,     0.48649,     0.48749,     0.48849,     0.48949,     0.49049,     0.49149,     0.49249,     0.49349,     0.49449,      0.4955,      0.4965,      0.4975,      0.4985,      0.4995,      0.5005,      0.5015,      0.5025,      0.5035,\n",
       "            0.5045,     0.50551,     0.50651,     0.50751,     0.50851,     0.50951,     0.51051,     0.51151,     0.51251,     0.51351,     0.51451,     0.51552,     0.51652,     0.51752,     0.51852,     0.51952,     0.52052,     0.52152,     0.52252,     0.52352,     0.52452,     0.52553,     0.52653,     0.52753,\n",
       "           0.52853,     0.52953,     0.53053,     0.53153,     0.53253,     0.53353,     0.53453,     0.53554,     0.53654,     0.53754,     0.53854,     0.53954,     0.54054,     0.54154,     0.54254,     0.54354,     0.54454,     0.54555,     0.54655,     0.54755,     0.54855,     0.54955,     0.55055,     0.55155,\n",
       "           0.55255,     0.55355,     0.55455,     0.55556,     0.55656,     0.55756,     0.55856,     0.55956,     0.56056,     0.56156,     0.56256,     0.56356,     0.56456,     0.56557,     0.56657,     0.56757,     0.56857,     0.56957,     0.57057,     0.57157,     0.57257,     0.57357,     0.57457,     0.57558,\n",
       "           0.57658,     0.57758,     0.57858,     0.57958,     0.58058,     0.58158,     0.58258,     0.58358,     0.58458,     0.58559,     0.58659,     0.58759,     0.58859,     0.58959,     0.59059,     0.59159,     0.59259,     0.59359,     0.59459,      0.5956,      0.5966,      0.5976,      0.5986,      0.5996,\n",
       "            0.6006,      0.6016,      0.6026,      0.6036,      0.6046,     0.60561,     0.60661,     0.60761,     0.60861,     0.60961,     0.61061,     0.61161,     0.61261,     0.61361,     0.61461,     0.61562,     0.61662,     0.61762,     0.61862,     0.61962,     0.62062,     0.62162,     0.62262,     0.62362,\n",
       "           0.62462,     0.62563,     0.62663,     0.62763,     0.62863,     0.62963,     0.63063,     0.63163,     0.63263,     0.63363,     0.63463,     0.63564,     0.63664,     0.63764,     0.63864,     0.63964,     0.64064,     0.64164,     0.64264,     0.64364,     0.64464,     0.64565,     0.64665,     0.64765,\n",
       "           0.64865,     0.64965,     0.65065,     0.65165,     0.65265,     0.65365,     0.65465,     0.65566,     0.65666,     0.65766,     0.65866,     0.65966,     0.66066,     0.66166,     0.66266,     0.66366,     0.66466,     0.66567,     0.66667,     0.66767,     0.66867,     0.66967,     0.67067,     0.67167,\n",
       "           0.67267,     0.67367,     0.67467,     0.67568,     0.67668,     0.67768,     0.67868,     0.67968,     0.68068,     0.68168,     0.68268,     0.68368,     0.68468,     0.68569,     0.68669,     0.68769,     0.68869,     0.68969,     0.69069,     0.69169,     0.69269,     0.69369,     0.69469,      0.6957,\n",
       "            0.6967,      0.6977,      0.6987,      0.6997,      0.7007,      0.7017,      0.7027,      0.7037,      0.7047,     0.70571,     0.70671,     0.70771,     0.70871,     0.70971,     0.71071,     0.71171,     0.71271,     0.71371,     0.71471,     0.71572,     0.71672,     0.71772,     0.71872,     0.71972,\n",
       "           0.72072,     0.72172,     0.72272,     0.72372,     0.72472,     0.72573,     0.72673,     0.72773,     0.72873,     0.72973,     0.73073,     0.73173,     0.73273,     0.73373,     0.73473,     0.73574,     0.73674,     0.73774,     0.73874,     0.73974,     0.74074,     0.74174,     0.74274,     0.74374,\n",
       "           0.74474,     0.74575,     0.74675,     0.74775,     0.74875,     0.74975,     0.75075,     0.75175,     0.75275,     0.75375,     0.75475,     0.75576,     0.75676,     0.75776,     0.75876,     0.75976,     0.76076,     0.76176,     0.76276,     0.76376,     0.76476,     0.76577,     0.76677,     0.76777,\n",
       "           0.76877,     0.76977,     0.77077,     0.77177,     0.77277,     0.77377,     0.77477,     0.77578,     0.77678,     0.77778,     0.77878,     0.77978,     0.78078,     0.78178,     0.78278,     0.78378,     0.78478,     0.78579,     0.78679,     0.78779,     0.78879,     0.78979,     0.79079,     0.79179,\n",
       "           0.79279,     0.79379,     0.79479,      0.7958,      0.7968,      0.7978,      0.7988,      0.7998,      0.8008,      0.8018,      0.8028,      0.8038,      0.8048,     0.80581,     0.80681,     0.80781,     0.80881,     0.80981,     0.81081,     0.81181,     0.81281,     0.81381,     0.81481,     0.81582,\n",
       "           0.81682,     0.81782,     0.81882,     0.81982,     0.82082,     0.82182,     0.82282,     0.82382,     0.82482,     0.82583,     0.82683,     0.82783,     0.82883,     0.82983,     0.83083,     0.83183,     0.83283,     0.83383,     0.83483,     0.83584,     0.83684,     0.83784,     0.83884,     0.83984,\n",
       "           0.84084,     0.84184,     0.84284,     0.84384,     0.84484,     0.84585,     0.84685,     0.84785,     0.84885,     0.84985,     0.85085,     0.85185,     0.85285,     0.85385,     0.85485,     0.85586,     0.85686,     0.85786,     0.85886,     0.85986,     0.86086,     0.86186,     0.86286,     0.86386,\n",
       "           0.86486,     0.86587,     0.86687,     0.86787,     0.86887,     0.86987,     0.87087,     0.87187,     0.87287,     0.87387,     0.87487,     0.87588,     0.87688,     0.87788,     0.87888,     0.87988,     0.88088,     0.88188,     0.88288,     0.88388,     0.88488,     0.88589,     0.88689,     0.88789,\n",
       "           0.88889,     0.88989,     0.89089,     0.89189,     0.89289,     0.89389,     0.89489,      0.8959,      0.8969,      0.8979,      0.8989,      0.8999,      0.9009,      0.9019,      0.9029,      0.9039,      0.9049,     0.90591,     0.90691,     0.90791,     0.90891,     0.90991,     0.91091,     0.91191,\n",
       "           0.91291,     0.91391,     0.91491,     0.91592,     0.91692,     0.91792,     0.91892,     0.91992,     0.92092,     0.92192,     0.92292,     0.92392,     0.92492,     0.92593,     0.92693,     0.92793,     0.92893,     0.92993,     0.93093,     0.93193,     0.93293,     0.93393,     0.93493,     0.93594,\n",
       "           0.93694,     0.93794,     0.93894,     0.93994,     0.94094,     0.94194,     0.94294,     0.94394,     0.94494,     0.94595,     0.94695,     0.94795,     0.94895,     0.94995,     0.95095,     0.95195,     0.95295,     0.95395,     0.95495,     0.95596,     0.95696,     0.95796,     0.95896,     0.95996,\n",
       "           0.96096,     0.96196,     0.96296,     0.96396,     0.96496,     0.96597,     0.96697,     0.96797,     0.96897,     0.96997,     0.97097,     0.97197,     0.97297,     0.97397,     0.97497,     0.97598,     0.97698,     0.97798,     0.97898,     0.97998,     0.98098,     0.98198,     0.98298,     0.98398,\n",
       "           0.98498,     0.98599,     0.98699,     0.98799,     0.98899,     0.98999,     0.99099,     0.99199,     0.99299,     0.99399,     0.99499,       0.996,       0.997,       0.998,       0.999,           1]), array([[   0.012785,    0.012785,    0.021636,    0.078478,      0.1632,     0.22707,     0.30199,     0.36152,     0.42147,     0.44344,     0.48464,     0.53136,     0.55749,      0.5874,     0.59555,     0.61575,     0.63051,     0.65387,     0.71966,     0.73537,     0.74481,     0.75254,     0.75819,\n",
       "            0.76383,     0.76948,     0.79611,     0.80201,     0.80791,     0.81381,     0.82163,     0.83499,      0.8451,       0.849,      0.8529,     0.85681,     0.86071,     0.86462,     0.86852,     0.87246,     0.87645,     0.88044,     0.88443,     0.88842,     0.89241,      0.8964,     0.90007,\n",
       "            0.90074,     0.90141,     0.90208,     0.90275,     0.90342,     0.90409,     0.90476,     0.90543,      0.9061,     0.90677,     0.90744,     0.90812,     0.90879,     0.90946,     0.91013,      0.9108,     0.91147,     0.91214,     0.91281,     0.91348,     0.91415,     0.91482,      0.9155,\n",
       "            0.91617,     0.91684,     0.91751,     0.91818,     0.91885,     0.91952,     0.92019,     0.92086,     0.92153,      0.9222,     0.92287,     0.92355,     0.92422,     0.92489,     0.92556,     0.92623,      0.9269,     0.92757,     0.92824,     0.92891,     0.92958,     0.93025,     0.93092,\n",
       "              0.931,     0.93096,     0.93092,     0.93088,     0.93084,      0.9308,     0.93076,     0.93072,     0.93068,     0.93063,     0.93059,     0.93055,     0.93051,     0.93047,     0.93043,     0.93039,     0.93035,     0.93031,     0.93027,     0.93023,     0.93019,     0.93015,     0.93011,\n",
       "            0.93007,     0.93003,     0.92998,     0.92994,      0.9299,     0.92986,     0.92982,     0.92978,     0.92974,      0.9297,     0.92966,     0.92962,     0.92958,     0.92954,      0.9295,     0.92946,     0.92942,     0.92938,     0.92933,     0.92929,     0.92925,     0.92921,     0.92917,\n",
       "            0.92913,     0.92909,     0.92905,     0.92901,     0.92897,     0.92893,     0.92889,     0.92885,     0.92881,     0.92877,     0.92872,     0.92868,     0.92864,      0.9286,     0.92857,     0.92854,     0.92851,     0.92848,     0.92845,     0.92843,      0.9284,     0.92837,     0.92834,\n",
       "            0.92832,     0.92829,     0.92826,     0.92823,     0.92821,     0.92818,     0.92815,     0.92812,     0.92809,     0.92807,     0.92804,     0.92801,     0.92798,     0.92796,     0.92793,      0.9279,     0.92787,     0.92784,     0.92782,     0.92779,     0.92776,     0.92773,     0.92771,\n",
       "            0.92768,     0.92765,     0.92762,      0.9276,     0.92757,     0.92754,     0.92751,     0.92748,     0.92746,     0.92743,      0.9274,     0.92737,     0.92735,     0.92732,     0.92729,     0.92726,     0.92724,     0.92721,     0.92718,     0.92715,     0.92712,      0.9271,     0.92707,\n",
       "            0.92704,     0.92701,     0.92699,     0.92696,     0.92693,      0.9269,     0.92688,     0.92685,     0.92682,     0.92679,     0.92676,     0.92674,     0.92671,     0.92668,     0.92665,     0.92663,      0.9266,     0.92657,     0.92654,     0.92652,     0.92649,     0.92646,     0.92643,\n",
       "             0.9264,     0.92638,     0.92635,     0.92632,     0.92629,     0.92627,     0.92624,     0.92621,     0.92618,     0.92616,     0.92613,      0.9261,     0.92607,     0.92604,     0.92602,     0.92599,     0.92596,     0.92593,     0.93549,     0.94869,     0.96155,     0.96202,     0.96248,\n",
       "            0.96295,     0.96342,     0.96388,     0.96435,     0.96482,     0.96528,     0.96575,     0.96622,     0.96668,     0.96715,     0.96762,     0.96808,     0.96855,     0.96902,     0.96948,     0.96995,     0.97042,     0.97088,     0.97135,     0.97182,     0.97228,     0.97275,     0.97322,\n",
       "            0.97368,     0.97415,     0.97462,     0.97508,     0.97555,     0.97602,     0.97648,     0.97695,     0.97742,     0.97788,     0.97835,     0.97881,     0.97928,     0.97975,     0.98021,     0.98068,     0.98115,     0.98161,     0.98208,     0.98255,     0.98301,     0.98348,     0.98395,\n",
       "            0.98441,     0.98488,     0.98535,     0.98581,     0.98628,     0.98675,     0.98721,     0.98768,     0.98815,     0.98861,     0.98908,     0.98955,     0.99001,     0.99048,     0.99095,     0.99141,     0.99188,     0.99235,     0.99281,     0.99328,     0.99375,     0.99421,     0.99468,\n",
       "            0.99515,     0.99561,     0.99608,     0.99655,     0.99701,     0.99748,     0.99795,     0.99841,     0.99888,     0.99935,     0.99981,           1,           1,           1,           1,           1,           1,           1,           1,           1,           1,           1,           1,\n",
       "                  1,           1,           1,           1,           1,           1,           1,           1,           1,           1,           1,           1,           1,           1,           1,           1,           1,           1,           1,           1,           1,           1,           1,\n",
       "                  1,           1,           1,           1,           1,           1,           1,           1,           1,           1,           1,           1,           1,           1,           1,           1,           1,           1,           1,           1,           1,           1,           1,\n",
       "                  1,           1,           1,           1,           1,           1,           1,           1,           1,           1,           1,           1,           1,           1,           1,           1,           1,           1,           1,           1,           1,           1,           1,\n",
       "                  1,           1,           1,           1,           1,           1,           1,           1,           1,           1,           1,           1,           1,           1,           1,           1,           1,           1,           1,           1,           1,           1,           1,\n",
       "                  1,           1,           1,           1,           1,           1,           1,           1,           1,           1,           1,           1,           1,           1,           1,           1,           1,           1,           1,           1,           1,           1,           1,\n",
       "                  1,           1,           1,           1,           1,           1,           1,           1,           1,           1,           1,           1,           1,           1,           1,           1,           1,           1,           1,           1,           1,           1,           1,\n",
       "                  1,           1,           1,           1,           1,           1,           1,           1,           1,           1,           1,           1,           1,           1,           1,           1,           1,           1,           1,           1,           1,           1,           1,\n",
       "                  1,           1,           1,           1,           1,           1,           1,           1,           1,           1,           1,           1,           1,           1,           1,           1,           1,           1,           1,           1,           1,           1,           1,\n",
       "                  1,           1,           1,           1,           1,           1,           1,           1,           1,           1,           1,           1,           1,           1,           1,           1,           1,           1,           1,           1,           1,           1,           1,\n",
       "                  1,           1,           1,           1,           1,           1,           1,           1,           1,           1,           1,           1,           1,           1,           1,           1,           1,           1,           1,           1,           1,           1,           1,\n",
       "                  1,           1,           1,           1,           1,           1,           1,           1,           1,           1,           1,           1,           1,           1,           1,           1,           1,           1,           1,           1,           1,           1,           1,\n",
       "                  1,           1,           1,           1,           1,           1,           1,           1,           1,           1,           1,           1,           1,           1,           1,           1,           1,           1,           1,           1,           1,           1,           1,\n",
       "                  1,           1,           1,           1,           1,           1,           1,           1,           1,           1,           1,           1,           1,           1,           1,           1,           1,           1,           1,           1,           1,           1,           1,\n",
       "                  1,           1,           1,           1,           1,           1,           1,           1,           1,           1,           1,           1,           1,           1,           1,           1,           1,           1,           1,           1,           1,           1,           1,\n",
       "                  1,           1,           1,           1,           1,           1,           1,           1,           1,           1,           1,           1,           1,           1,           1,           1,           1,           1,           1,           1,           1,           1,           1,\n",
       "                  1,           1,           1,           1,           1,           1,           1,           1,           1,           1,           1,           1,           1,           1,           1,           1,           1,           1,           1,           1,           1,           1,           1,\n",
       "                  1,           1,           1,           1,           1,           1,           1,           1,           1,           1,           1,           1,           1,           1,           1,           1,           1,           1,           1,           1,           1,           1,           1,\n",
       "                  1,           1,           1,           1,           1,           1,           1,           1,           1,           1,           1,           1,           1,           1,           1,           1,           1,           1,           1,           1,           1,           1,           1,\n",
       "                  1,           1,           1,           1,           1,           1,           1,           1,           1,           1,           1,           1,           1,           1,           1,           1,           1,           1,           1,           1,           1,           1,           1,\n",
       "                  1,           1,           1,           1,           1,           1,           1,           1,           1,           1,           1,           1,           1,           1,           1,           1,           1,           1,           1,           1,           1,           1,           1,\n",
       "                  1,           1,           1,           1,           1,           1,           1,           1,           1,           1,           1,           1,           1,           1,           1,           1,           1,           1,           1,           1,           1,           1,           1,\n",
       "                  1,           1,           1,           1,           1,           1,           1,           1,           1,           1,           1,           1,           1,           1,           1,           1,           1,           1,           1,           1,           1,           1,           1,\n",
       "                  1,           1,           1,           1,           1,           1,           1,           1,           1,           1,           1,           1,           1,           1,           1,           1,           1,           1,           1,           1,           1,           1,           1,\n",
       "                  1,           1,           1,           1,           1,           1,           1,           1,           1,           1,           1,           1,           1,           1,           1,           1,           1,           1,           1,           1,           1,           1,           1,\n",
       "                  1,           1,           1,           1,           1,           1,           1,           1,           1,           1,           1,           1,           1,           1,           1,           1,           1,           1,           1,           1,           1,           1,           1,\n",
       "                  1,           1,           1,           1,           1,           1,           1,           1,           1,           1,           1,           1,           1,           1,           1,           1,           1,           1,           1,           1,           1,           1,           1,\n",
       "                  1,           1,           1,           1,           1,           1,           1,           1,           1,           1,           1,           1,           1,           1,           1,           1,           1,           1,           1,           1,           1,           1,           1,\n",
       "                  1,           1,           1,           1,           1,           1,           1,           1,           1,           1,           1,           1,           1,           1,           1,           1,           1,           1,           1,           1,           1,           1,           1,\n",
       "                  1,           1,           1,           1,           1,           1,           1,           1,           1,           1,           1]]), 'Confidence', 'Precision'], [array([          0,    0.001001,    0.002002,    0.003003,    0.004004,    0.005005,    0.006006,    0.007007,    0.008008,    0.009009,     0.01001,    0.011011,    0.012012,    0.013013,    0.014014,    0.015015,    0.016016,    0.017017,    0.018018,    0.019019,     0.02002,    0.021021,    0.022022,    0.023023,\n",
       "          0.024024,    0.025025,    0.026026,    0.027027,    0.028028,    0.029029,     0.03003,    0.031031,    0.032032,    0.033033,    0.034034,    0.035035,    0.036036,    0.037037,    0.038038,    0.039039,     0.04004,    0.041041,    0.042042,    0.043043,    0.044044,    0.045045,    0.046046,    0.047047,\n",
       "          0.048048,    0.049049,     0.05005,    0.051051,    0.052052,    0.053053,    0.054054,    0.055055,    0.056056,    0.057057,    0.058058,    0.059059,     0.06006,    0.061061,    0.062062,    0.063063,    0.064064,    0.065065,    0.066066,    0.067067,    0.068068,    0.069069,     0.07007,    0.071071,\n",
       "          0.072072,    0.073073,    0.074074,    0.075075,    0.076076,    0.077077,    0.078078,    0.079079,     0.08008,    0.081081,    0.082082,    0.083083,    0.084084,    0.085085,    0.086086,    0.087087,    0.088088,    0.089089,     0.09009,    0.091091,    0.092092,    0.093093,    0.094094,    0.095095,\n",
       "          0.096096,    0.097097,    0.098098,    0.099099,      0.1001,      0.1011,      0.1021,      0.1031,      0.1041,     0.10511,     0.10611,     0.10711,     0.10811,     0.10911,     0.11011,     0.11111,     0.11211,     0.11311,     0.11411,     0.11512,     0.11612,     0.11712,     0.11812,     0.11912,\n",
       "           0.12012,     0.12112,     0.12212,     0.12312,     0.12412,     0.12513,     0.12613,     0.12713,     0.12813,     0.12913,     0.13013,     0.13113,     0.13213,     0.13313,     0.13413,     0.13514,     0.13614,     0.13714,     0.13814,     0.13914,     0.14014,     0.14114,     0.14214,     0.14314,\n",
       "           0.14414,     0.14515,     0.14615,     0.14715,     0.14815,     0.14915,     0.15015,     0.15115,     0.15215,     0.15315,     0.15415,     0.15516,     0.15616,     0.15716,     0.15816,     0.15916,     0.16016,     0.16116,     0.16216,     0.16316,     0.16416,     0.16517,     0.16617,     0.16717,\n",
       "           0.16817,     0.16917,     0.17017,     0.17117,     0.17217,     0.17317,     0.17417,     0.17518,     0.17618,     0.17718,     0.17818,     0.17918,     0.18018,     0.18118,     0.18218,     0.18318,     0.18418,     0.18519,     0.18619,     0.18719,     0.18819,     0.18919,     0.19019,     0.19119,\n",
       "           0.19219,     0.19319,     0.19419,      0.1952,      0.1962,      0.1972,      0.1982,      0.1992,      0.2002,      0.2012,      0.2022,      0.2032,      0.2042,     0.20521,     0.20621,     0.20721,     0.20821,     0.20921,     0.21021,     0.21121,     0.21221,     0.21321,     0.21421,     0.21522,\n",
       "           0.21622,     0.21722,     0.21822,     0.21922,     0.22022,     0.22122,     0.22222,     0.22322,     0.22422,     0.22523,     0.22623,     0.22723,     0.22823,     0.22923,     0.23023,     0.23123,     0.23223,     0.23323,     0.23423,     0.23524,     0.23624,     0.23724,     0.23824,     0.23924,\n",
       "           0.24024,     0.24124,     0.24224,     0.24324,     0.24424,     0.24525,     0.24625,     0.24725,     0.24825,     0.24925,     0.25025,     0.25125,     0.25225,     0.25325,     0.25425,     0.25526,     0.25626,     0.25726,     0.25826,     0.25926,     0.26026,     0.26126,     0.26226,     0.26326,\n",
       "           0.26426,     0.26527,     0.26627,     0.26727,     0.26827,     0.26927,     0.27027,     0.27127,     0.27227,     0.27327,     0.27427,     0.27528,     0.27628,     0.27728,     0.27828,     0.27928,     0.28028,     0.28128,     0.28228,     0.28328,     0.28428,     0.28529,     0.28629,     0.28729,\n",
       "           0.28829,     0.28929,     0.29029,     0.29129,     0.29229,     0.29329,     0.29429,      0.2953,      0.2963,      0.2973,      0.2983,      0.2993,      0.3003,      0.3013,      0.3023,      0.3033,      0.3043,     0.30531,     0.30631,     0.30731,     0.30831,     0.30931,     0.31031,     0.31131,\n",
       "           0.31231,     0.31331,     0.31431,     0.31532,     0.31632,     0.31732,     0.31832,     0.31932,     0.32032,     0.32132,     0.32232,     0.32332,     0.32432,     0.32533,     0.32633,     0.32733,     0.32833,     0.32933,     0.33033,     0.33133,     0.33233,     0.33333,     0.33433,     0.33534,\n",
       "           0.33634,     0.33734,     0.33834,     0.33934,     0.34034,     0.34134,     0.34234,     0.34334,     0.34434,     0.34535,     0.34635,     0.34735,     0.34835,     0.34935,     0.35035,     0.35135,     0.35235,     0.35335,     0.35435,     0.35536,     0.35636,     0.35736,     0.35836,     0.35936,\n",
       "           0.36036,     0.36136,     0.36236,     0.36336,     0.36436,     0.36537,     0.36637,     0.36737,     0.36837,     0.36937,     0.37037,     0.37137,     0.37237,     0.37337,     0.37437,     0.37538,     0.37638,     0.37738,     0.37838,     0.37938,     0.38038,     0.38138,     0.38238,     0.38338,\n",
       "           0.38438,     0.38539,     0.38639,     0.38739,     0.38839,     0.38939,     0.39039,     0.39139,     0.39239,     0.39339,     0.39439,      0.3954,      0.3964,      0.3974,      0.3984,      0.3994,      0.4004,      0.4014,      0.4024,      0.4034,      0.4044,     0.40541,     0.40641,     0.40741,\n",
       "           0.40841,     0.40941,     0.41041,     0.41141,     0.41241,     0.41341,     0.41441,     0.41542,     0.41642,     0.41742,     0.41842,     0.41942,     0.42042,     0.42142,     0.42242,     0.42342,     0.42442,     0.42543,     0.42643,     0.42743,     0.42843,     0.42943,     0.43043,     0.43143,\n",
       "           0.43243,     0.43343,     0.43443,     0.43544,     0.43644,     0.43744,     0.43844,     0.43944,     0.44044,     0.44144,     0.44244,     0.44344,     0.44444,     0.44545,     0.44645,     0.44745,     0.44845,     0.44945,     0.45045,     0.45145,     0.45245,     0.45345,     0.45445,     0.45546,\n",
       "           0.45646,     0.45746,     0.45846,     0.45946,     0.46046,     0.46146,     0.46246,     0.46346,     0.46446,     0.46547,     0.46647,     0.46747,     0.46847,     0.46947,     0.47047,     0.47147,     0.47247,     0.47347,     0.47447,     0.47548,     0.47648,     0.47748,     0.47848,     0.47948,\n",
       "           0.48048,     0.48148,     0.48248,     0.48348,     0.48448,     0.48549,     0.48649,     0.48749,     0.48849,     0.48949,     0.49049,     0.49149,     0.49249,     0.49349,     0.49449,      0.4955,      0.4965,      0.4975,      0.4985,      0.4995,      0.5005,      0.5015,      0.5025,      0.5035,\n",
       "            0.5045,     0.50551,     0.50651,     0.50751,     0.50851,     0.50951,     0.51051,     0.51151,     0.51251,     0.51351,     0.51451,     0.51552,     0.51652,     0.51752,     0.51852,     0.51952,     0.52052,     0.52152,     0.52252,     0.52352,     0.52452,     0.52553,     0.52653,     0.52753,\n",
       "           0.52853,     0.52953,     0.53053,     0.53153,     0.53253,     0.53353,     0.53453,     0.53554,     0.53654,     0.53754,     0.53854,     0.53954,     0.54054,     0.54154,     0.54254,     0.54354,     0.54454,     0.54555,     0.54655,     0.54755,     0.54855,     0.54955,     0.55055,     0.55155,\n",
       "           0.55255,     0.55355,     0.55455,     0.55556,     0.55656,     0.55756,     0.55856,     0.55956,     0.56056,     0.56156,     0.56256,     0.56356,     0.56456,     0.56557,     0.56657,     0.56757,     0.56857,     0.56957,     0.57057,     0.57157,     0.57257,     0.57357,     0.57457,     0.57558,\n",
       "           0.57658,     0.57758,     0.57858,     0.57958,     0.58058,     0.58158,     0.58258,     0.58358,     0.58458,     0.58559,     0.58659,     0.58759,     0.58859,     0.58959,     0.59059,     0.59159,     0.59259,     0.59359,     0.59459,      0.5956,      0.5966,      0.5976,      0.5986,      0.5996,\n",
       "            0.6006,      0.6016,      0.6026,      0.6036,      0.6046,     0.60561,     0.60661,     0.60761,     0.60861,     0.60961,     0.61061,     0.61161,     0.61261,     0.61361,     0.61461,     0.61562,     0.61662,     0.61762,     0.61862,     0.61962,     0.62062,     0.62162,     0.62262,     0.62362,\n",
       "           0.62462,     0.62563,     0.62663,     0.62763,     0.62863,     0.62963,     0.63063,     0.63163,     0.63263,     0.63363,     0.63463,     0.63564,     0.63664,     0.63764,     0.63864,     0.63964,     0.64064,     0.64164,     0.64264,     0.64364,     0.64464,     0.64565,     0.64665,     0.64765,\n",
       "           0.64865,     0.64965,     0.65065,     0.65165,     0.65265,     0.65365,     0.65465,     0.65566,     0.65666,     0.65766,     0.65866,     0.65966,     0.66066,     0.66166,     0.66266,     0.66366,     0.66466,     0.66567,     0.66667,     0.66767,     0.66867,     0.66967,     0.67067,     0.67167,\n",
       "           0.67267,     0.67367,     0.67467,     0.67568,     0.67668,     0.67768,     0.67868,     0.67968,     0.68068,     0.68168,     0.68268,     0.68368,     0.68468,     0.68569,     0.68669,     0.68769,     0.68869,     0.68969,     0.69069,     0.69169,     0.69269,     0.69369,     0.69469,      0.6957,\n",
       "            0.6967,      0.6977,      0.6987,      0.6997,      0.7007,      0.7017,      0.7027,      0.7037,      0.7047,     0.70571,     0.70671,     0.70771,     0.70871,     0.70971,     0.71071,     0.71171,     0.71271,     0.71371,     0.71471,     0.71572,     0.71672,     0.71772,     0.71872,     0.71972,\n",
       "           0.72072,     0.72172,     0.72272,     0.72372,     0.72472,     0.72573,     0.72673,     0.72773,     0.72873,     0.72973,     0.73073,     0.73173,     0.73273,     0.73373,     0.73473,     0.73574,     0.73674,     0.73774,     0.73874,     0.73974,     0.74074,     0.74174,     0.74274,     0.74374,\n",
       "           0.74474,     0.74575,     0.74675,     0.74775,     0.74875,     0.74975,     0.75075,     0.75175,     0.75275,     0.75375,     0.75475,     0.75576,     0.75676,     0.75776,     0.75876,     0.75976,     0.76076,     0.76176,     0.76276,     0.76376,     0.76476,     0.76577,     0.76677,     0.76777,\n",
       "           0.76877,     0.76977,     0.77077,     0.77177,     0.77277,     0.77377,     0.77477,     0.77578,     0.77678,     0.77778,     0.77878,     0.77978,     0.78078,     0.78178,     0.78278,     0.78378,     0.78478,     0.78579,     0.78679,     0.78779,     0.78879,     0.78979,     0.79079,     0.79179,\n",
       "           0.79279,     0.79379,     0.79479,      0.7958,      0.7968,      0.7978,      0.7988,      0.7998,      0.8008,      0.8018,      0.8028,      0.8038,      0.8048,     0.80581,     0.80681,     0.80781,     0.80881,     0.80981,     0.81081,     0.81181,     0.81281,     0.81381,     0.81481,     0.81582,\n",
       "           0.81682,     0.81782,     0.81882,     0.81982,     0.82082,     0.82182,     0.82282,     0.82382,     0.82482,     0.82583,     0.82683,     0.82783,     0.82883,     0.82983,     0.83083,     0.83183,     0.83283,     0.83383,     0.83483,     0.83584,     0.83684,     0.83784,     0.83884,     0.83984,\n",
       "           0.84084,     0.84184,     0.84284,     0.84384,     0.84484,     0.84585,     0.84685,     0.84785,     0.84885,     0.84985,     0.85085,     0.85185,     0.85285,     0.85385,     0.85485,     0.85586,     0.85686,     0.85786,     0.85886,     0.85986,     0.86086,     0.86186,     0.86286,     0.86386,\n",
       "           0.86486,     0.86587,     0.86687,     0.86787,     0.86887,     0.86987,     0.87087,     0.87187,     0.87287,     0.87387,     0.87487,     0.87588,     0.87688,     0.87788,     0.87888,     0.87988,     0.88088,     0.88188,     0.88288,     0.88388,     0.88488,     0.88589,     0.88689,     0.88789,\n",
       "           0.88889,     0.88989,     0.89089,     0.89189,     0.89289,     0.89389,     0.89489,      0.8959,      0.8969,      0.8979,      0.8989,      0.8999,      0.9009,      0.9019,      0.9029,      0.9039,      0.9049,     0.90591,     0.90691,     0.90791,     0.90891,     0.90991,     0.91091,     0.91191,\n",
       "           0.91291,     0.91391,     0.91491,     0.91592,     0.91692,     0.91792,     0.91892,     0.91992,     0.92092,     0.92192,     0.92292,     0.92392,     0.92492,     0.92593,     0.92693,     0.92793,     0.92893,     0.92993,     0.93093,     0.93193,     0.93293,     0.93393,     0.93493,     0.93594,\n",
       "           0.93694,     0.93794,     0.93894,     0.93994,     0.94094,     0.94194,     0.94294,     0.94394,     0.94494,     0.94595,     0.94695,     0.94795,     0.94895,     0.94995,     0.95095,     0.95195,     0.95295,     0.95395,     0.95495,     0.95596,     0.95696,     0.95796,     0.95896,     0.95996,\n",
       "           0.96096,     0.96196,     0.96296,     0.96396,     0.96496,     0.96597,     0.96697,     0.96797,     0.96897,     0.96997,     0.97097,     0.97197,     0.97297,     0.97397,     0.97497,     0.97598,     0.97698,     0.97798,     0.97898,     0.97998,     0.98098,     0.98198,     0.98298,     0.98398,\n",
       "           0.98498,     0.98599,     0.98699,     0.98799,     0.98899,     0.98999,     0.99099,     0.99199,     0.99299,     0.99399,     0.99499,       0.996,       0.997,       0.998,       0.999,           1]), array([[          1,           1,           1,           1,           1,           1,           1,     0.96429,     0.96429,     0.96429,     0.96429,     0.96429,     0.96429,     0.96429,     0.96429,     0.96429,     0.96429,     0.96429,     0.96429,     0.96429,     0.96429,     0.96429,     0.96429,\n",
       "            0.96429,     0.96429,     0.96429,     0.96429,     0.96429,     0.96429,     0.96429,     0.96429,     0.96429,     0.96429,     0.96429,     0.96429,     0.96429,     0.96429,     0.96429,     0.96429,     0.96429,     0.96429,     0.96429,     0.96429,     0.96429,     0.96429,     0.96429,\n",
       "            0.96429,     0.96429,     0.96429,     0.96429,     0.96429,     0.96429,     0.96429,     0.96429,     0.96429,     0.96429,     0.96429,     0.96429,     0.96429,     0.96429,     0.96429,     0.96429,     0.96429,     0.96429,     0.96429,     0.96429,     0.96429,     0.96429,     0.96429,\n",
       "            0.96429,     0.96429,     0.96429,     0.96429,     0.96429,     0.96429,     0.96429,     0.96429,     0.96429,     0.96429,     0.96429,     0.96429,     0.96429,     0.96429,     0.96429,     0.96429,     0.96429,     0.96429,     0.96429,     0.96429,     0.96429,     0.96429,     0.96429,\n",
       "            0.96379,      0.9632,     0.96261,     0.96203,     0.96144,     0.96085,     0.96026,     0.95967,     0.95908,     0.95849,      0.9579,     0.95731,     0.95672,     0.95613,     0.95554,     0.95495,     0.95437,     0.95378,     0.95319,      0.9526,     0.95201,     0.95142,     0.95083,\n",
       "            0.95024,     0.94965,     0.94906,     0.94847,     0.94788,      0.9473,     0.94671,     0.94612,     0.94553,     0.94494,     0.94435,     0.94376,     0.94317,     0.94258,     0.94199,      0.9414,     0.94081,     0.94022,     0.93964,     0.93905,     0.93846,     0.93787,     0.93728,\n",
       "            0.93669,      0.9361,     0.93551,     0.93492,     0.93433,     0.93374,     0.93315,     0.93256,     0.93198,     0.93139,      0.9308,     0.93021,     0.92962,     0.92903,     0.92849,     0.92811,     0.92774,     0.92737,     0.92699,     0.92662,     0.92624,     0.92587,      0.9255,\n",
       "            0.92512,     0.92475,     0.92437,       0.924,     0.92363,     0.92325,     0.92288,      0.9225,     0.92213,     0.92176,     0.92138,     0.92101,     0.92063,     0.92026,     0.91989,     0.91951,     0.91914,     0.91876,     0.91839,     0.91802,     0.91764,     0.91727,     0.91689,\n",
       "            0.91652,     0.91615,     0.91577,      0.9154,     0.91502,     0.91465,     0.91428,      0.9139,     0.91353,     0.91315,     0.91278,     0.91241,     0.91203,     0.91166,     0.91129,     0.91091,     0.91054,     0.91016,     0.90979,     0.90942,     0.90904,     0.90867,     0.90829,\n",
       "            0.90792,     0.90755,     0.90717,      0.9068,     0.90642,     0.90605,     0.90568,      0.9053,     0.90493,     0.90455,     0.90418,     0.90381,     0.90343,     0.90306,     0.90268,     0.90231,     0.90194,     0.90156,     0.90119,     0.90081,     0.90044,     0.90007,     0.89969,\n",
       "            0.89932,     0.89894,     0.89857,      0.8982,     0.89782,     0.89745,     0.89707,      0.8967,     0.89633,     0.89595,     0.89558,      0.8952,     0.89483,     0.89446,     0.89408,     0.89371,     0.89333,     0.89296,     0.89286,     0.89286,     0.89286,     0.89286,     0.89286,\n",
       "            0.89286,     0.89286,     0.89286,     0.89286,     0.89286,     0.89286,     0.89286,     0.89286,     0.89286,     0.89286,     0.89286,     0.89286,     0.89286,     0.89286,     0.89286,     0.89286,     0.89286,     0.89286,     0.89286,     0.89286,     0.89286,     0.89286,     0.89286,\n",
       "            0.89286,     0.89286,     0.89286,     0.89286,     0.89286,     0.89286,     0.89286,     0.89286,     0.89286,     0.89286,     0.89286,     0.89286,     0.89286,     0.89286,     0.89286,     0.89286,     0.89286,     0.89286,     0.89286,     0.89286,     0.89286,     0.89286,     0.89286,\n",
       "            0.89286,     0.89286,     0.89286,     0.89286,     0.89286,     0.89286,     0.89286,     0.89286,     0.89286,     0.89286,     0.89286,     0.89286,     0.89286,     0.89286,     0.89286,     0.89286,     0.89286,     0.89286,     0.89286,     0.89286,     0.89286,     0.89286,     0.89286,\n",
       "            0.89286,     0.89286,     0.89286,     0.89286,     0.89286,     0.89286,     0.89286,     0.89286,     0.89286,     0.89286,     0.89286,      0.8927,     0.89244,     0.89217,     0.89191,     0.89164,     0.89138,     0.89111,     0.89085,     0.89059,     0.89032,     0.89006,     0.88979,\n",
       "            0.88953,     0.88926,       0.889,     0.88874,     0.88847,     0.88821,     0.88794,     0.88768,     0.88742,     0.88715,     0.88689,     0.88662,     0.88636,     0.88609,     0.88583,     0.88557,      0.8853,     0.88504,     0.88477,     0.88451,     0.88425,     0.88398,     0.88372,\n",
       "            0.88345,     0.88319,     0.88292,     0.88266,      0.8824,     0.88213,     0.88187,      0.8816,     0.88134,     0.88107,     0.88081,     0.88055,     0.88028,     0.88002,     0.87975,     0.87949,     0.87923,     0.87896,      0.8787,     0.87843,     0.87817,      0.8779,     0.87764,\n",
       "            0.87738,     0.87711,     0.87685,     0.87658,     0.87632,     0.87605,     0.87579,     0.87553,     0.87526,       0.875,     0.87473,     0.87447,     0.87421,     0.87394,     0.87368,     0.87341,     0.87315,     0.87288,     0.87262,     0.87236,     0.87209,     0.87183,     0.87156,\n",
       "             0.8713,     0.87104,     0.87077,     0.87051,     0.87024,     0.86998,     0.86971,     0.86945,     0.86919,     0.86892,     0.86866,     0.86839,     0.86813,     0.86786,      0.8676,     0.86734,     0.86707,     0.86681,     0.86654,     0.86628,     0.86602,     0.86575,     0.86549,\n",
       "            0.86522,     0.86496,     0.86469,     0.86443,     0.86417,      0.8639,     0.86364,     0.86337,     0.86311,     0.86285,     0.86258,     0.86232,     0.86205,     0.86179,     0.86152,     0.86126,       0.861,     0.86073,     0.86047,      0.8602,     0.85994,     0.85967,     0.85941,\n",
       "            0.85915,     0.85888,     0.85862,     0.85835,     0.85809,     0.85783,     0.85756,      0.8573,     0.85699,     0.85661,     0.85623,     0.85586,     0.85548,      0.8551,     0.85473,     0.85435,     0.85397,      0.8536,     0.85322,     0.85285,     0.85247,     0.85209,     0.85172,\n",
       "            0.85134,     0.85096,     0.85059,     0.85021,     0.84983,     0.84946,     0.84908,      0.8487,     0.84833,     0.84795,     0.84757,      0.8472,     0.84682,     0.84645,     0.84607,     0.84569,     0.84532,     0.84494,     0.84456,     0.84419,     0.84381,     0.84343,     0.84306,\n",
       "            0.84268,      0.8423,     0.84193,     0.84155,     0.84118,      0.8408,     0.84042,     0.84005,     0.83967,     0.83929,     0.83892,     0.83854,     0.83816,     0.83779,     0.83741,     0.83703,     0.83666,     0.83628,     0.83591,     0.83553,     0.83515,     0.83478,      0.8344,\n",
       "            0.83402,     0.83365,     0.83327,     0.83289,     0.83252,     0.83214,     0.83176,     0.83139,     0.83101,     0.83064,     0.83026,     0.82988,     0.82951,     0.82913,     0.82875,     0.82838,       0.828,     0.82762,     0.82725,     0.82687,     0.82649,     0.82612,     0.82574,\n",
       "            0.82537,     0.82499,     0.82461,     0.82424,     0.82386,     0.82348,     0.82311,     0.82273,     0.82235,     0.82198,      0.8216,     0.81891,     0.81427,     0.80963,     0.80499,     0.80035,     0.79571,     0.79107,     0.78642,      0.7853,     0.78482,     0.78434,     0.78385,\n",
       "            0.78337,     0.78289,      0.7824,     0.78192,     0.78143,     0.78095,     0.78047,     0.77998,      0.7795,     0.77901,     0.77853,     0.77805,     0.77756,     0.77708,     0.77659,     0.77611,     0.77563,     0.77514,     0.77466,     0.77417,     0.77369,     0.77321,     0.77272,\n",
       "            0.77224,     0.77176,     0.77127,     0.77079,      0.7703,     0.76982,     0.76934,     0.76885,     0.76837,     0.76788,      0.7674,     0.76692,     0.76643,     0.76595,     0.76546,     0.76498,      0.7645,     0.76401,     0.76353,     0.76305,     0.76256,     0.76208,     0.76159,\n",
       "            0.76111,     0.76063,     0.76014,     0.75966,     0.75917,     0.75869,     0.75821,     0.75772,     0.75724,     0.75675,     0.75627,     0.75579,      0.7553,     0.75482,     0.75434,     0.75385,     0.75337,     0.75288,      0.7524,     0.75192,     0.75143,     0.75095,     0.75046,\n",
       "            0.74999,     0.74962,     0.74925,     0.74888,     0.74851,     0.74814,     0.74777,      0.7474,     0.74703,     0.74666,     0.74629,     0.74592,     0.74555,     0.74518,     0.74481,     0.74444,     0.74407,      0.7437,     0.74333,     0.74296,     0.74259,     0.74222,     0.74185,\n",
       "            0.74148,     0.74111,     0.74074,     0.74038,     0.74001,     0.73964,     0.73927,      0.7389,     0.73853,     0.73816,     0.73779,     0.73742,     0.73705,     0.73668,     0.73631,     0.73594,     0.73557,      0.7352,     0.73483,     0.73446,     0.73409,     0.73372,     0.73335,\n",
       "            0.73298,     0.73261,     0.73224,     0.73187,      0.7315,     0.73113,     0.73077,      0.7304,     0.73003,     0.72966,     0.72929,     0.72892,     0.72855,     0.72818,     0.72781,     0.72744,     0.72707,      0.7267,     0.72633,     0.72596,     0.72559,     0.72522,     0.72485,\n",
       "            0.72448,     0.72411,     0.72374,     0.72337,       0.723,     0.72263,     0.72226,     0.72189,     0.72152,     0.72116,     0.72079,     0.72042,     0.72005,     0.71968,     0.71931,     0.71894,     0.71857,      0.7182,     0.71783,     0.71746,     0.71709,     0.71672,     0.71635,\n",
       "            0.71598,     0.71561,     0.71524,     0.71487,      0.7145,     0.71405,     0.71347,     0.71289,     0.71231,     0.71173,     0.71116,     0.71058,        0.71,     0.70942,     0.70884,     0.70826,     0.70769,     0.70711,     0.70653,     0.70595,     0.70537,      0.7048,     0.70422,\n",
       "            0.70364,     0.70306,     0.70248,      0.7019,     0.70133,     0.70075,     0.70017,     0.69959,     0.69901,     0.69844,     0.69786,     0.69728,      0.6967,     0.69612,     0.69555,     0.69497,     0.69439,     0.69381,     0.69323,     0.69265,     0.69208,      0.6915,     0.69092,\n",
       "            0.69034,     0.68976,     0.68919,     0.68861,     0.68803,     0.68745,     0.68687,      0.6863,     0.68572,     0.68514,     0.68456,     0.68398,      0.6834,     0.68283,     0.68225,     0.68167,     0.68109,     0.68051,     0.67994,     0.67936,     0.67878,     0.67756,     0.67597,\n",
       "            0.67439,      0.6728,     0.67122,     0.66963,     0.66805,     0.66646,     0.66488,      0.6633,     0.66171,     0.66013,     0.65854,     0.65696,     0.65537,     0.65379,      0.6522,     0.65062,     0.64904,     0.64745,     0.64587,     0.64428,     0.64255,     0.63951,     0.63648,\n",
       "            0.63344,      0.6304,     0.62737,     0.62433,     0.62129,     0.61826,     0.61522,     0.61218,     0.60915,     0.60691,     0.60621,     0.60551,     0.60481,     0.60412,     0.60342,     0.60272,     0.60203,     0.60133,     0.60063,     0.59994,     0.59924,     0.59854,     0.59784,\n",
       "            0.59715,     0.59645,     0.59575,     0.59506,     0.59436,     0.59366,     0.59297,     0.59227,     0.59157,     0.59087,     0.59018,     0.58948,     0.58878,     0.58809,     0.58739,     0.58669,     0.58599,      0.5853,      0.5846,      0.5839,     0.58321,     0.58251,     0.58181,\n",
       "            0.58112,     0.58042,     0.57972,     0.57902,     0.57833,     0.57763,     0.57693,     0.57624,     0.57554,     0.57484,     0.57415,     0.57345,     0.57275,     0.57205,     0.57134,     0.57045,     0.56955,     0.56866,     0.56777,     0.56688,     0.56599,     0.56509,      0.5642,\n",
       "            0.56331,     0.56242,     0.56153,     0.56064,     0.55974,     0.55885,     0.55796,     0.55707,     0.55618,     0.55528,     0.55439,      0.5535,     0.55261,     0.55172,     0.55083,     0.54993,     0.54904,     0.54815,     0.54726,     0.54637,     0.54547,     0.54458,     0.54369,\n",
       "             0.5428,     0.54191,     0.54101,     0.54012,     0.53923,     0.53834,     0.53745,     0.53656,     0.53531,     0.52823,     0.52115,     0.51407,     0.50698,      0.4999,     0.49233,     0.48476,     0.47719,     0.46962,     0.46274,     0.45751,     0.45228,     0.44705,     0.44182,\n",
       "            0.43658,     0.43135,     0.42732,     0.42464,     0.42196,     0.41928,      0.4166,     0.41392,     0.41124,     0.40857,     0.40589,     0.40321,     0.40053,     0.39785,     0.39517,     0.38901,     0.36063,     0.28481,     0.27967,     0.27454,      0.2694,     0.26427,     0.25913,\n",
       "              0.254,     0.24824,     0.24031,     0.23238,     0.22445,     0.21652,      0.1931,     0.17209,      0.1593,     0.14651,     0.10892,     0.10381,     0.10035,    0.096889,    0.093428,    0.089967,    0.086506,    0.083045,    0.079584,    0.076123,    0.072662,    0.053302,           0,\n",
       "                  0,           0,           0,           0,           0,           0,           0,           0,           0,           0,           0]]), 'Confidence', 'Recall'], [array([          0,    0.001001,    0.002002,    0.003003,    0.004004,    0.005005,    0.006006,    0.007007,    0.008008,    0.009009,     0.01001,    0.011011,    0.012012,    0.013013,    0.014014,    0.015015,    0.016016,    0.017017,    0.018018,    0.019019,     0.02002,    0.021021,    0.022022,    0.023023,\n",
       "          0.024024,    0.025025,    0.026026,    0.027027,    0.028028,    0.029029,     0.03003,    0.031031,    0.032032,    0.033033,    0.034034,    0.035035,    0.036036,    0.037037,    0.038038,    0.039039,     0.04004,    0.041041,    0.042042,    0.043043,    0.044044,    0.045045,    0.046046,    0.047047,\n",
       "          0.048048,    0.049049,     0.05005,    0.051051,    0.052052,    0.053053,    0.054054,    0.055055,    0.056056,    0.057057,    0.058058,    0.059059,     0.06006,    0.061061,    0.062062,    0.063063,    0.064064,    0.065065,    0.066066,    0.067067,    0.068068,    0.069069,     0.07007,    0.071071,\n",
       "          0.072072,    0.073073,    0.074074,    0.075075,    0.076076,    0.077077,    0.078078,    0.079079,     0.08008,    0.081081,    0.082082,    0.083083,    0.084084,    0.085085,    0.086086,    0.087087,    0.088088,    0.089089,     0.09009,    0.091091,    0.092092,    0.093093,    0.094094,    0.095095,\n",
       "          0.096096,    0.097097,    0.098098,    0.099099,      0.1001,      0.1011,      0.1021,      0.1031,      0.1041,     0.10511,     0.10611,     0.10711,     0.10811,     0.10911,     0.11011,     0.11111,     0.11211,     0.11311,     0.11411,     0.11512,     0.11612,     0.11712,     0.11812,     0.11912,\n",
       "           0.12012,     0.12112,     0.12212,     0.12312,     0.12412,     0.12513,     0.12613,     0.12713,     0.12813,     0.12913,     0.13013,     0.13113,     0.13213,     0.13313,     0.13413,     0.13514,     0.13614,     0.13714,     0.13814,     0.13914,     0.14014,     0.14114,     0.14214,     0.14314,\n",
       "           0.14414,     0.14515,     0.14615,     0.14715,     0.14815,     0.14915,     0.15015,     0.15115,     0.15215,     0.15315,     0.15415,     0.15516,     0.15616,     0.15716,     0.15816,     0.15916,     0.16016,     0.16116,     0.16216,     0.16316,     0.16416,     0.16517,     0.16617,     0.16717,\n",
       "           0.16817,     0.16917,     0.17017,     0.17117,     0.17217,     0.17317,     0.17417,     0.17518,     0.17618,     0.17718,     0.17818,     0.17918,     0.18018,     0.18118,     0.18218,     0.18318,     0.18418,     0.18519,     0.18619,     0.18719,     0.18819,     0.18919,     0.19019,     0.19119,\n",
       "           0.19219,     0.19319,     0.19419,      0.1952,      0.1962,      0.1972,      0.1982,      0.1992,      0.2002,      0.2012,      0.2022,      0.2032,      0.2042,     0.20521,     0.20621,     0.20721,     0.20821,     0.20921,     0.21021,     0.21121,     0.21221,     0.21321,     0.21421,     0.21522,\n",
       "           0.21622,     0.21722,     0.21822,     0.21922,     0.22022,     0.22122,     0.22222,     0.22322,     0.22422,     0.22523,     0.22623,     0.22723,     0.22823,     0.22923,     0.23023,     0.23123,     0.23223,     0.23323,     0.23423,     0.23524,     0.23624,     0.23724,     0.23824,     0.23924,\n",
       "           0.24024,     0.24124,     0.24224,     0.24324,     0.24424,     0.24525,     0.24625,     0.24725,     0.24825,     0.24925,     0.25025,     0.25125,     0.25225,     0.25325,     0.25425,     0.25526,     0.25626,     0.25726,     0.25826,     0.25926,     0.26026,     0.26126,     0.26226,     0.26326,\n",
       "           0.26426,     0.26527,     0.26627,     0.26727,     0.26827,     0.26927,     0.27027,     0.27127,     0.27227,     0.27327,     0.27427,     0.27528,     0.27628,     0.27728,     0.27828,     0.27928,     0.28028,     0.28128,     0.28228,     0.28328,     0.28428,     0.28529,     0.28629,     0.28729,\n",
       "           0.28829,     0.28929,     0.29029,     0.29129,     0.29229,     0.29329,     0.29429,      0.2953,      0.2963,      0.2973,      0.2983,      0.2993,      0.3003,      0.3013,      0.3023,      0.3033,      0.3043,     0.30531,     0.30631,     0.30731,     0.30831,     0.30931,     0.31031,     0.31131,\n",
       "           0.31231,     0.31331,     0.31431,     0.31532,     0.31632,     0.31732,     0.31832,     0.31932,     0.32032,     0.32132,     0.32232,     0.32332,     0.32432,     0.32533,     0.32633,     0.32733,     0.32833,     0.32933,     0.33033,     0.33133,     0.33233,     0.33333,     0.33433,     0.33534,\n",
       "           0.33634,     0.33734,     0.33834,     0.33934,     0.34034,     0.34134,     0.34234,     0.34334,     0.34434,     0.34535,     0.34635,     0.34735,     0.34835,     0.34935,     0.35035,     0.35135,     0.35235,     0.35335,     0.35435,     0.35536,     0.35636,     0.35736,     0.35836,     0.35936,\n",
       "           0.36036,     0.36136,     0.36236,     0.36336,     0.36436,     0.36537,     0.36637,     0.36737,     0.36837,     0.36937,     0.37037,     0.37137,     0.37237,     0.37337,     0.37437,     0.37538,     0.37638,     0.37738,     0.37838,     0.37938,     0.38038,     0.38138,     0.38238,     0.38338,\n",
       "           0.38438,     0.38539,     0.38639,     0.38739,     0.38839,     0.38939,     0.39039,     0.39139,     0.39239,     0.39339,     0.39439,      0.3954,      0.3964,      0.3974,      0.3984,      0.3994,      0.4004,      0.4014,      0.4024,      0.4034,      0.4044,     0.40541,     0.40641,     0.40741,\n",
       "           0.40841,     0.40941,     0.41041,     0.41141,     0.41241,     0.41341,     0.41441,     0.41542,     0.41642,     0.41742,     0.41842,     0.41942,     0.42042,     0.42142,     0.42242,     0.42342,     0.42442,     0.42543,     0.42643,     0.42743,     0.42843,     0.42943,     0.43043,     0.43143,\n",
       "           0.43243,     0.43343,     0.43443,     0.43544,     0.43644,     0.43744,     0.43844,     0.43944,     0.44044,     0.44144,     0.44244,     0.44344,     0.44444,     0.44545,     0.44645,     0.44745,     0.44845,     0.44945,     0.45045,     0.45145,     0.45245,     0.45345,     0.45445,     0.45546,\n",
       "           0.45646,     0.45746,     0.45846,     0.45946,     0.46046,     0.46146,     0.46246,     0.46346,     0.46446,     0.46547,     0.46647,     0.46747,     0.46847,     0.46947,     0.47047,     0.47147,     0.47247,     0.47347,     0.47447,     0.47548,     0.47648,     0.47748,     0.47848,     0.47948,\n",
       "           0.48048,     0.48148,     0.48248,     0.48348,     0.48448,     0.48549,     0.48649,     0.48749,     0.48849,     0.48949,     0.49049,     0.49149,     0.49249,     0.49349,     0.49449,      0.4955,      0.4965,      0.4975,      0.4985,      0.4995,      0.5005,      0.5015,      0.5025,      0.5035,\n",
       "            0.5045,     0.50551,     0.50651,     0.50751,     0.50851,     0.50951,     0.51051,     0.51151,     0.51251,     0.51351,     0.51451,     0.51552,     0.51652,     0.51752,     0.51852,     0.51952,     0.52052,     0.52152,     0.52252,     0.52352,     0.52452,     0.52553,     0.52653,     0.52753,\n",
       "           0.52853,     0.52953,     0.53053,     0.53153,     0.53253,     0.53353,     0.53453,     0.53554,     0.53654,     0.53754,     0.53854,     0.53954,     0.54054,     0.54154,     0.54254,     0.54354,     0.54454,     0.54555,     0.54655,     0.54755,     0.54855,     0.54955,     0.55055,     0.55155,\n",
       "           0.55255,     0.55355,     0.55455,     0.55556,     0.55656,     0.55756,     0.55856,     0.55956,     0.56056,     0.56156,     0.56256,     0.56356,     0.56456,     0.56557,     0.56657,     0.56757,     0.56857,     0.56957,     0.57057,     0.57157,     0.57257,     0.57357,     0.57457,     0.57558,\n",
       "           0.57658,     0.57758,     0.57858,     0.57958,     0.58058,     0.58158,     0.58258,     0.58358,     0.58458,     0.58559,     0.58659,     0.58759,     0.58859,     0.58959,     0.59059,     0.59159,     0.59259,     0.59359,     0.59459,      0.5956,      0.5966,      0.5976,      0.5986,      0.5996,\n",
       "            0.6006,      0.6016,      0.6026,      0.6036,      0.6046,     0.60561,     0.60661,     0.60761,     0.60861,     0.60961,     0.61061,     0.61161,     0.61261,     0.61361,     0.61461,     0.61562,     0.61662,     0.61762,     0.61862,     0.61962,     0.62062,     0.62162,     0.62262,     0.62362,\n",
       "           0.62462,     0.62563,     0.62663,     0.62763,     0.62863,     0.62963,     0.63063,     0.63163,     0.63263,     0.63363,     0.63463,     0.63564,     0.63664,     0.63764,     0.63864,     0.63964,     0.64064,     0.64164,     0.64264,     0.64364,     0.64464,     0.64565,     0.64665,     0.64765,\n",
       "           0.64865,     0.64965,     0.65065,     0.65165,     0.65265,     0.65365,     0.65465,     0.65566,     0.65666,     0.65766,     0.65866,     0.65966,     0.66066,     0.66166,     0.66266,     0.66366,     0.66466,     0.66567,     0.66667,     0.66767,     0.66867,     0.66967,     0.67067,     0.67167,\n",
       "           0.67267,     0.67367,     0.67467,     0.67568,     0.67668,     0.67768,     0.67868,     0.67968,     0.68068,     0.68168,     0.68268,     0.68368,     0.68468,     0.68569,     0.68669,     0.68769,     0.68869,     0.68969,     0.69069,     0.69169,     0.69269,     0.69369,     0.69469,      0.6957,\n",
       "            0.6967,      0.6977,      0.6987,      0.6997,      0.7007,      0.7017,      0.7027,      0.7037,      0.7047,     0.70571,     0.70671,     0.70771,     0.70871,     0.70971,     0.71071,     0.71171,     0.71271,     0.71371,     0.71471,     0.71572,     0.71672,     0.71772,     0.71872,     0.71972,\n",
       "           0.72072,     0.72172,     0.72272,     0.72372,     0.72472,     0.72573,     0.72673,     0.72773,     0.72873,     0.72973,     0.73073,     0.73173,     0.73273,     0.73373,     0.73473,     0.73574,     0.73674,     0.73774,     0.73874,     0.73974,     0.74074,     0.74174,     0.74274,     0.74374,\n",
       "           0.74474,     0.74575,     0.74675,     0.74775,     0.74875,     0.74975,     0.75075,     0.75175,     0.75275,     0.75375,     0.75475,     0.75576,     0.75676,     0.75776,     0.75876,     0.75976,     0.76076,     0.76176,     0.76276,     0.76376,     0.76476,     0.76577,     0.76677,     0.76777,\n",
       "           0.76877,     0.76977,     0.77077,     0.77177,     0.77277,     0.77377,     0.77477,     0.77578,     0.77678,     0.77778,     0.77878,     0.77978,     0.78078,     0.78178,     0.78278,     0.78378,     0.78478,     0.78579,     0.78679,     0.78779,     0.78879,     0.78979,     0.79079,     0.79179,\n",
       "           0.79279,     0.79379,     0.79479,      0.7958,      0.7968,      0.7978,      0.7988,      0.7998,      0.8008,      0.8018,      0.8028,      0.8038,      0.8048,     0.80581,     0.80681,     0.80781,     0.80881,     0.80981,     0.81081,     0.81181,     0.81281,     0.81381,     0.81481,     0.81582,\n",
       "           0.81682,     0.81782,     0.81882,     0.81982,     0.82082,     0.82182,     0.82282,     0.82382,     0.82482,     0.82583,     0.82683,     0.82783,     0.82883,     0.82983,     0.83083,     0.83183,     0.83283,     0.83383,     0.83483,     0.83584,     0.83684,     0.83784,     0.83884,     0.83984,\n",
       "           0.84084,     0.84184,     0.84284,     0.84384,     0.84484,     0.84585,     0.84685,     0.84785,     0.84885,     0.84985,     0.85085,     0.85185,     0.85285,     0.85385,     0.85485,     0.85586,     0.85686,     0.85786,     0.85886,     0.85986,     0.86086,     0.86186,     0.86286,     0.86386,\n",
       "           0.86486,     0.86587,     0.86687,     0.86787,     0.86887,     0.86987,     0.87087,     0.87187,     0.87287,     0.87387,     0.87487,     0.87588,     0.87688,     0.87788,     0.87888,     0.87988,     0.88088,     0.88188,     0.88288,     0.88388,     0.88488,     0.88589,     0.88689,     0.88789,\n",
       "           0.88889,     0.88989,     0.89089,     0.89189,     0.89289,     0.89389,     0.89489,      0.8959,      0.8969,      0.8979,      0.8989,      0.8999,      0.9009,      0.9019,      0.9029,      0.9039,      0.9049,     0.90591,     0.90691,     0.90791,     0.90891,     0.90991,     0.91091,     0.91191,\n",
       "           0.91291,     0.91391,     0.91491,     0.91592,     0.91692,     0.91792,     0.91892,     0.91992,     0.92092,     0.92192,     0.92292,     0.92392,     0.92492,     0.92593,     0.92693,     0.92793,     0.92893,     0.92993,     0.93093,     0.93193,     0.93293,     0.93393,     0.93493,     0.93594,\n",
       "           0.93694,     0.93794,     0.93894,     0.93994,     0.94094,     0.94194,     0.94294,     0.94394,     0.94494,     0.94595,     0.94695,     0.94795,     0.94895,     0.94995,     0.95095,     0.95195,     0.95295,     0.95395,     0.95495,     0.95596,     0.95696,     0.95796,     0.95896,     0.95996,\n",
       "           0.96096,     0.96196,     0.96296,     0.96396,     0.96496,     0.96597,     0.96697,     0.96797,     0.96897,     0.96997,     0.97097,     0.97197,     0.97297,     0.97397,     0.97497,     0.97598,     0.97698,     0.97798,     0.97898,     0.97998,     0.98098,     0.98198,     0.98298,     0.98398,\n",
       "           0.98498,     0.98599,     0.98699,     0.98799,     0.98899,     0.98999,     0.99099,     0.99199,     0.99299,     0.99399,     0.99499,       0.996,       0.997,       0.998,       0.999,           1]), array([[    0.58333,     0.58333,     0.58333,     0.58333,     0.58333,     0.58333,     0.58333,     0.58333,     0.58333,     0.58333,     0.58333,     0.58333,     0.58333,     0.58333,     0.58333,     0.58333,     0.58333,     0.58333,     0.58333,     0.58333,     0.58333,     0.58333,     0.58333,\n",
       "            0.58333,     0.58333,     0.58333,     0.58333,     0.58333,     0.58333,     0.58333,     0.58333,     0.58333,     0.58333,     0.58333,     0.58333,     0.58333,     0.58333,     0.58333,     0.58333,     0.58333,     0.58333,     0.58333,     0.58333,     0.58333,     0.58333,     0.58333,\n",
       "            0.58333,     0.58333,     0.58333,     0.58333,     0.58333,     0.58333,     0.58333,     0.58333,     0.58333,     0.58333,     0.58333,     0.58333,     0.58333,     0.58333,     0.58333,     0.58333,     0.58333,     0.58333,     0.58333,     0.58333,     0.58333,     0.58333,     0.58333,\n",
       "            0.58333,     0.58333,     0.58333,     0.58333,     0.58333,     0.58333,     0.58333,     0.58333,     0.58333,     0.58333,     0.58333,     0.58333,     0.58333,     0.58333,     0.58333,     0.58333,     0.58333,     0.58333,     0.58333,     0.58333,     0.58333,     0.58333,     0.58333,\n",
       "            0.58333,     0.58333,     0.58333,     0.58333,     0.58333,     0.58333,     0.58333,     0.58333,     0.58333,     0.58333,     0.58333,     0.58333,     0.58333,     0.58333,     0.58333,     0.58333,     0.58333,     0.58333,     0.58333,     0.58333,     0.58333,     0.58333,     0.58333,\n",
       "            0.58333,     0.58333,     0.58333,     0.58333,     0.58333,     0.58333,     0.58333,     0.58333,     0.58333,     0.58333,     0.58333,     0.58333,     0.58333,     0.58333,     0.58333,     0.58333,     0.58333,     0.58333,     0.58333,     0.58333,     0.58333,     0.58333,     0.58333,\n",
       "            0.58333,     0.58333,     0.58333,     0.58333,     0.58333,     0.58333,     0.58333,     0.58333,     0.58333,     0.58333,     0.58333,     0.58333,     0.58333,     0.58333,     0.58333,     0.58333,     0.58333,     0.58333,     0.58333,     0.58333,     0.58333,     0.58333,     0.58333,\n",
       "            0.58333,     0.58333,     0.58333,     0.58333,     0.58333,     0.58333,     0.58333,     0.58333,     0.58333,     0.58333,     0.58333,     0.58333,     0.58333,     0.58333,     0.58333,     0.58333,     0.58333,     0.58333,     0.58333,     0.58333,     0.58333,     0.58333,     0.58333,\n",
       "            0.58333,     0.58333,     0.58333,     0.58333,     0.58333,     0.58333,     0.58333,     0.58333,     0.58333,     0.58333,     0.58333,     0.58333,     0.58333,     0.58333,     0.58333,     0.58333,     0.58333,     0.58333,     0.58333,     0.58333,     0.58333,     0.58333,     0.58333,\n",
       "            0.58333,     0.58333,     0.58333,     0.58333,     0.58333,     0.58333,     0.58333,     0.58333,     0.58333,     0.58333,     0.58333,     0.58333,     0.58333,     0.58333,     0.58333,     0.58333,     0.58333,     0.58333,     0.58333,     0.58333,     0.58333,     0.58333,     0.58333,\n",
       "            0.58333,     0.58333,     0.58333,     0.58333,     0.58333,     0.58333,     0.58333,     0.58333,     0.58333,     0.58333,     0.58333,     0.58333,     0.58333,     0.58333,     0.58333,     0.58333,     0.58333,     0.58333,     0.58333,     0.58333,     0.42105,     0.42105,     0.42105,\n",
       "            0.42105,     0.42105,     0.42105,     0.42105,     0.42105,     0.42105,     0.42105,     0.42105,     0.42105,     0.42105,     0.42105,     0.42105,     0.42105,     0.42105,     0.42105,     0.42105,     0.42105,     0.42105,     0.42105,     0.42105,     0.42105,     0.42105,     0.42105,\n",
       "            0.42105,     0.42105,     0.42105,     0.42105,     0.42105,     0.42105,     0.42105,     0.42105,     0.42105,     0.42105,     0.40909,     0.40909,     0.40909,     0.40909,     0.40909,     0.40909,     0.40909,     0.40909,     0.40909,     0.40909,     0.40909,     0.40909,     0.40909,\n",
       "            0.40909,     0.40909,     0.40909,     0.40909,     0.40909,     0.40909,     0.40909,     0.40909,     0.40909,     0.40909,     0.40909,     0.40909,     0.40909,     0.40909,     0.40909,     0.40909,     0.40909,     0.40909,     0.40909,     0.40909,     0.40909,     0.40909,     0.40909,\n",
       "          0.0041042,   0.0040981,   0.0040921,    0.004086,   0.0040799,   0.0040739,   0.0040678,   0.0040617,   0.0040557,   0.0040496,   0.0040436,   0.0040375,   0.0040314,   0.0040254,   0.0040193,   0.0040132,   0.0040072,   0.0040011,   0.0039951,    0.003989,   0.0039829,   0.0039769,   0.0039708,\n",
       "          0.0039647,   0.0039587,   0.0039526,   0.0039466,   0.0039405,   0.0039344,   0.0039284,   0.0039223,   0.0039162,   0.0039102,   0.0039041,   0.0038981,    0.003892,   0.0038859,   0.0038799,   0.0038738,   0.0038677,   0.0038617,   0.0038556,   0.0038496,   0.0038435,   0.0038374,   0.0038314,\n",
       "          0.0038253,   0.0038192,   0.0038132,   0.0038071,   0.0038011,    0.003795,   0.0037889,   0.0037829,   0.0037768,   0.0037707,   0.0037647,   0.0037586,   0.0037526,   0.0037465,   0.0037404,   0.0037344,   0.0037283,   0.0037223,   0.0037162,   0.0037101,   0.0037041,    0.003698,   0.0036919,\n",
       "          0.0036859,   0.0036798,   0.0036738,   0.0036677,   0.0036616,   0.0036556,   0.0036495,   0.0036434,   0.0036374,   0.0036313,   0.0036253,   0.0036192,   0.0036131,   0.0036071,    0.003601,   0.0035949,   0.0035889,   0.0035828,   0.0035768,   0.0035707,   0.0035646,   0.0035586,   0.0035525,\n",
       "          0.0035464,   0.0035404,   0.0035343,   0.0035283,   0.0035222,   0.0035161,   0.0035101,    0.003504,   0.0034979,   0.0034919,   0.0034858,   0.0034798,   0.0034737,   0.0034676,   0.0034616,   0.0034555,   0.0034494,   0.0034434,   0.0034373,   0.0034313,   0.0034252,   0.0034191,   0.0034131,\n",
       "           0.003407,   0.0034009,   0.0033949,   0.0033888,   0.0033828,   0.0033767,   0.0033706,   0.0033646,   0.0033585,   0.0033525,   0.0033464,   0.0033403,   0.0033343,   0.0033282,   0.0033221,   0.0033161,     0.00331,    0.003304,   0.0032979,   0.0032918,   0.0032858,   0.0032797,   0.0032736,\n",
       "          0.0032676,   0.0032615,   0.0032555,   0.0032494,   0.0032433,   0.0032373,   0.0032312,   0.0032251,   0.0032191,    0.003213,    0.003207,   0.0032009,   0.0031948,   0.0031888,   0.0031827,   0.0031766,   0.0031706,   0.0031645,   0.0031585,   0.0031524,   0.0031463,   0.0031403,   0.0031342,\n",
       "          0.0031281,   0.0031221,    0.003116,     0.00311,   0.0031039,   0.0030978,   0.0030918,   0.0030857,   0.0030796,   0.0030736,   0.0030675,   0.0030615,   0.0030554,   0.0030493,   0.0030433,   0.0030372,   0.0030311,   0.0030251,    0.003019,    0.003013,   0.0030069,   0.0030008,   0.0029948,\n",
       "          0.0029887,   0.0029827,   0.0029766,   0.0029705,   0.0029645,   0.0029584,   0.0029523,   0.0029463,   0.0029402,   0.0029342,   0.0029281,    0.002922,    0.002916,   0.0029099,   0.0029038,   0.0028978,   0.0028917,   0.0028857,   0.0028796,   0.0028735,   0.0028675,   0.0028614,   0.0028553,\n",
       "          0.0028493,   0.0028432,   0.0028372,   0.0028311,    0.002825,    0.002819,   0.0028129,   0.0028068,   0.0028008,   0.0027947,   0.0027887,   0.0027826,   0.0027765,   0.0027705,   0.0027644,   0.0027583,   0.0027523,   0.0027462,   0.0027402,   0.0027341,    0.002728,    0.002722,   0.0027159,\n",
       "          0.0027098,   0.0027038,   0.0026977,   0.0026917,   0.0026856,   0.0026795,   0.0026735,   0.0026674,   0.0026613,   0.0026553,   0.0026492,   0.0026432,   0.0026371,    0.002631,    0.002625,   0.0026189,   0.0026129,   0.0026068,   0.0026007,   0.0025947,   0.0025886,   0.0025825,   0.0025765,\n",
       "          0.0025704,   0.0025644,   0.0025583,   0.0025522,   0.0025462,   0.0025401,    0.002534,    0.002528,   0.0025219,   0.0025159,   0.0025098,   0.0025037,   0.0024977,   0.0024916,   0.0024855,   0.0024795,   0.0024734,   0.0024674,   0.0024613,   0.0024552,   0.0024492,   0.0024431,    0.002437,\n",
       "           0.002431,   0.0024249,   0.0024189,   0.0024128,   0.0024067,   0.0024007,   0.0023946,   0.0023885,   0.0023825,   0.0023764,   0.0023704,   0.0023643,   0.0023582,   0.0023522,   0.0023461,     0.00234,    0.002334,   0.0023279,   0.0023219,   0.0023158,   0.0023097,   0.0023037,   0.0022976,\n",
       "          0.0022915,   0.0022855,   0.0022794,   0.0022734,   0.0022673,   0.0022612,   0.0022552,   0.0022491,   0.0022431,    0.002237,   0.0022309,   0.0022249,   0.0022188,   0.0022127,   0.0022067,   0.0022006,   0.0021946,   0.0021885,   0.0021824,   0.0021764,   0.0021703,   0.0021642,   0.0021582,\n",
       "          0.0021521,   0.0021461,     0.00214,   0.0021339,   0.0021279,   0.0021218,   0.0021157,   0.0021097,   0.0021036,   0.0020976,   0.0020915,   0.0020854,   0.0020794,   0.0020733,   0.0020672,   0.0020612,   0.0020551,   0.0020491,    0.002043,   0.0020369,   0.0020309,   0.0020248,   0.0020187,\n",
       "          0.0020127,   0.0020066,   0.0020006,   0.0019945,   0.0019884,   0.0019824,   0.0019763,   0.0019702,   0.0019642,   0.0019581,   0.0019521,    0.001946,   0.0019399,   0.0019339,   0.0019278,   0.0019217,   0.0019157,   0.0019096,   0.0019036,   0.0018975,   0.0018914,   0.0018854,   0.0018793,\n",
       "          0.0018733,   0.0018672,   0.0018611,   0.0018551,    0.001849,   0.0018429,   0.0018369,   0.0018308,   0.0018248,   0.0018187,   0.0018126,   0.0018066,   0.0018005,   0.0017944,   0.0017884,   0.0017823,   0.0017763,   0.0017702,   0.0017641,   0.0017581,    0.001752,   0.0017459,   0.0017399,\n",
       "          0.0017338,   0.0017278,   0.0017217,   0.0017156,   0.0017096,   0.0017035,   0.0016974,   0.0016914,   0.0016853,   0.0016793,   0.0016732,   0.0016671,   0.0016611,    0.001655,   0.0016489,   0.0016429,   0.0016368,   0.0016308,   0.0016247,   0.0016186,   0.0016126,   0.0016065,   0.0016004,\n",
       "          0.0015944,   0.0015883,   0.0015823,   0.0015762,   0.0015701,   0.0015641,    0.001558,   0.0015519,   0.0015459,   0.0015398,   0.0015338,   0.0015277,   0.0015216,   0.0015156,   0.0015095,   0.0015035,   0.0014974,   0.0014913,   0.0014853,   0.0014792,   0.0014731,   0.0014671,    0.001461,\n",
       "           0.001455,   0.0014489,   0.0014428,   0.0014368,   0.0014307,   0.0014246,   0.0014186,   0.0014125,   0.0014065,   0.0014004,   0.0013943,   0.0013883,   0.0013822,   0.0013761,   0.0013701,    0.001364,    0.001358,   0.0013519,   0.0013458,   0.0013398,   0.0013337,   0.0013276,   0.0013216,\n",
       "          0.0013155,   0.0013095,   0.0013034,   0.0012973,   0.0012913,   0.0012852,   0.0012791,   0.0012731,    0.001267,    0.001261,   0.0012549,   0.0012488,   0.0012428,   0.0012367,   0.0012306,   0.0012246,   0.0012185,   0.0012125,   0.0012064,   0.0012003,   0.0011943,   0.0011882,   0.0011821,\n",
       "          0.0011761,     0.00117,    0.001164,   0.0011579,   0.0011518,   0.0011458,   0.0011397,   0.0011336,   0.0011276,   0.0011215,   0.0011155,   0.0011094,   0.0011033,   0.0010973,   0.0010912,   0.0010852,   0.0010791,    0.001073,    0.001067,   0.0010609,   0.0010548,   0.0010488,   0.0010427,\n",
       "          0.0010367,   0.0010306,   0.0010245,   0.0010185,   0.0010124,   0.0010063,   0.0010003,  0.00099422,  0.00098815,  0.00098209,  0.00097603,  0.00096997,  0.00096391,  0.00095784,  0.00095178,  0.00094572,  0.00093966,  0.00093359,  0.00092753,  0.00092147,  0.00091541,  0.00090934,  0.00090328,\n",
       "         0.00089722,  0.00089116,   0.0008851,  0.00087903,  0.00087297,  0.00086691,  0.00086085,  0.00085478,  0.00084872,  0.00084266,   0.0008366,  0.00083053,  0.00082447,  0.00081841,  0.00081235,  0.00080629,  0.00080022,  0.00079416,   0.0007881,  0.00078204,  0.00077597,  0.00076991,  0.00076385,\n",
       "         0.00075779,  0.00075173,  0.00074566,   0.0007396,  0.00073354,  0.00072748,  0.00072141,  0.00071535,  0.00070929,  0.00070323,  0.00069716,   0.0006911,  0.00068504,  0.00067898,  0.00067292,  0.00066685,  0.00066079,  0.00065473,  0.00064867,   0.0006426,  0.00063654,  0.00063048,  0.00062442,\n",
       "         0.00061835,  0.00061229,  0.00060623,  0.00060017,  0.00059411,  0.00058804,  0.00058198,  0.00057592,  0.00056986,  0.00056379,  0.00055773,  0.00055167,  0.00054561,  0.00053954,  0.00053348,  0.00052742,  0.00052136,   0.0005153,  0.00050923,  0.00050317,  0.00049711,  0.00049105,  0.00048498,\n",
       "         0.00047892,  0.00047286,   0.0004668,  0.00046073,  0.00045467,  0.00044861,  0.00044255,  0.00043649,  0.00043042,  0.00042436,   0.0004183,  0.00041224,  0.00040617,  0.00040011,  0.00039405,  0.00038799,  0.00038192,  0.00037586,   0.0003698,  0.00036374,  0.00035768,  0.00035161,  0.00034555,\n",
       "         0.00033949,  0.00033343,  0.00032736,   0.0003213,  0.00031524,  0.00030918,  0.00030311,  0.00029705,  0.00029099,  0.00028493,  0.00027887,   0.0002728,  0.00026674,  0.00026068,  0.00025462,  0.00024855,  0.00024249,  0.00023643,  0.00023037,  0.00022431,  0.00021824,  0.00021218,  0.00020612,\n",
       "         0.00020006,  0.00019399,  0.00018793,  0.00018187,  0.00017581,  0.00016974,  0.00016368,  0.00015762,  0.00015156,   0.0001455,  0.00013943,  0.00013337,  0.00012731,  0.00012125,  0.00011518,  0.00010912,  0.00010306,  9.6997e-05,  9.0934e-05,  8.4872e-05,   7.881e-05,  7.2748e-05,  6.6685e-05,\n",
       "         6.0623e-05,  5.4561e-05,  4.8498e-05,  4.2436e-05,  3.6374e-05,  3.0311e-05,  2.4249e-05,  1.8187e-05,  1.2125e-05,  6.0623e-06,           0]]), 'Recall', 'Precision'], [array([          0,    0.001001,    0.002002,    0.003003,    0.004004,    0.005005,    0.006006,    0.007007,    0.008008,    0.009009,     0.01001,    0.011011,    0.012012,    0.013013,    0.014014,    0.015015,    0.016016,    0.017017,    0.018018,    0.019019,     0.02002,    0.021021,    0.022022,    0.023023,\n",
       "          0.024024,    0.025025,    0.026026,    0.027027,    0.028028,    0.029029,     0.03003,    0.031031,    0.032032,    0.033033,    0.034034,    0.035035,    0.036036,    0.037037,    0.038038,    0.039039,     0.04004,    0.041041,    0.042042,    0.043043,    0.044044,    0.045045,    0.046046,    0.047047,\n",
       "          0.048048,    0.049049,     0.05005,    0.051051,    0.052052,    0.053053,    0.054054,    0.055055,    0.056056,    0.057057,    0.058058,    0.059059,     0.06006,    0.061061,    0.062062,    0.063063,    0.064064,    0.065065,    0.066066,    0.067067,    0.068068,    0.069069,     0.07007,    0.071071,\n",
       "          0.072072,    0.073073,    0.074074,    0.075075,    0.076076,    0.077077,    0.078078,    0.079079,     0.08008,    0.081081,    0.082082,    0.083083,    0.084084,    0.085085,    0.086086,    0.087087,    0.088088,    0.089089,     0.09009,    0.091091,    0.092092,    0.093093,    0.094094,    0.095095,\n",
       "          0.096096,    0.097097,    0.098098,    0.099099,      0.1001,      0.1011,      0.1021,      0.1031,      0.1041,     0.10511,     0.10611,     0.10711,     0.10811,     0.10911,     0.11011,     0.11111,     0.11211,     0.11311,     0.11411,     0.11512,     0.11612,     0.11712,     0.11812,     0.11912,\n",
       "           0.12012,     0.12112,     0.12212,     0.12312,     0.12412,     0.12513,     0.12613,     0.12713,     0.12813,     0.12913,     0.13013,     0.13113,     0.13213,     0.13313,     0.13413,     0.13514,     0.13614,     0.13714,     0.13814,     0.13914,     0.14014,     0.14114,     0.14214,     0.14314,\n",
       "           0.14414,     0.14515,     0.14615,     0.14715,     0.14815,     0.14915,     0.15015,     0.15115,     0.15215,     0.15315,     0.15415,     0.15516,     0.15616,     0.15716,     0.15816,     0.15916,     0.16016,     0.16116,     0.16216,     0.16316,     0.16416,     0.16517,     0.16617,     0.16717,\n",
       "           0.16817,     0.16917,     0.17017,     0.17117,     0.17217,     0.17317,     0.17417,     0.17518,     0.17618,     0.17718,     0.17818,     0.17918,     0.18018,     0.18118,     0.18218,     0.18318,     0.18418,     0.18519,     0.18619,     0.18719,     0.18819,     0.18919,     0.19019,     0.19119,\n",
       "           0.19219,     0.19319,     0.19419,      0.1952,      0.1962,      0.1972,      0.1982,      0.1992,      0.2002,      0.2012,      0.2022,      0.2032,      0.2042,     0.20521,     0.20621,     0.20721,     0.20821,     0.20921,     0.21021,     0.21121,     0.21221,     0.21321,     0.21421,     0.21522,\n",
       "           0.21622,     0.21722,     0.21822,     0.21922,     0.22022,     0.22122,     0.22222,     0.22322,     0.22422,     0.22523,     0.22623,     0.22723,     0.22823,     0.22923,     0.23023,     0.23123,     0.23223,     0.23323,     0.23423,     0.23524,     0.23624,     0.23724,     0.23824,     0.23924,\n",
       "           0.24024,     0.24124,     0.24224,     0.24324,     0.24424,     0.24525,     0.24625,     0.24725,     0.24825,     0.24925,     0.25025,     0.25125,     0.25225,     0.25325,     0.25425,     0.25526,     0.25626,     0.25726,     0.25826,     0.25926,     0.26026,     0.26126,     0.26226,     0.26326,\n",
       "           0.26426,     0.26527,     0.26627,     0.26727,     0.26827,     0.26927,     0.27027,     0.27127,     0.27227,     0.27327,     0.27427,     0.27528,     0.27628,     0.27728,     0.27828,     0.27928,     0.28028,     0.28128,     0.28228,     0.28328,     0.28428,     0.28529,     0.28629,     0.28729,\n",
       "           0.28829,     0.28929,     0.29029,     0.29129,     0.29229,     0.29329,     0.29429,      0.2953,      0.2963,      0.2973,      0.2983,      0.2993,      0.3003,      0.3013,      0.3023,      0.3033,      0.3043,     0.30531,     0.30631,     0.30731,     0.30831,     0.30931,     0.31031,     0.31131,\n",
       "           0.31231,     0.31331,     0.31431,     0.31532,     0.31632,     0.31732,     0.31832,     0.31932,     0.32032,     0.32132,     0.32232,     0.32332,     0.32432,     0.32533,     0.32633,     0.32733,     0.32833,     0.32933,     0.33033,     0.33133,     0.33233,     0.33333,     0.33433,     0.33534,\n",
       "           0.33634,     0.33734,     0.33834,     0.33934,     0.34034,     0.34134,     0.34234,     0.34334,     0.34434,     0.34535,     0.34635,     0.34735,     0.34835,     0.34935,     0.35035,     0.35135,     0.35235,     0.35335,     0.35435,     0.35536,     0.35636,     0.35736,     0.35836,     0.35936,\n",
       "           0.36036,     0.36136,     0.36236,     0.36336,     0.36436,     0.36537,     0.36637,     0.36737,     0.36837,     0.36937,     0.37037,     0.37137,     0.37237,     0.37337,     0.37437,     0.37538,     0.37638,     0.37738,     0.37838,     0.37938,     0.38038,     0.38138,     0.38238,     0.38338,\n",
       "           0.38438,     0.38539,     0.38639,     0.38739,     0.38839,     0.38939,     0.39039,     0.39139,     0.39239,     0.39339,     0.39439,      0.3954,      0.3964,      0.3974,      0.3984,      0.3994,      0.4004,      0.4014,      0.4024,      0.4034,      0.4044,     0.40541,     0.40641,     0.40741,\n",
       "           0.40841,     0.40941,     0.41041,     0.41141,     0.41241,     0.41341,     0.41441,     0.41542,     0.41642,     0.41742,     0.41842,     0.41942,     0.42042,     0.42142,     0.42242,     0.42342,     0.42442,     0.42543,     0.42643,     0.42743,     0.42843,     0.42943,     0.43043,     0.43143,\n",
       "           0.43243,     0.43343,     0.43443,     0.43544,     0.43644,     0.43744,     0.43844,     0.43944,     0.44044,     0.44144,     0.44244,     0.44344,     0.44444,     0.44545,     0.44645,     0.44745,     0.44845,     0.44945,     0.45045,     0.45145,     0.45245,     0.45345,     0.45445,     0.45546,\n",
       "           0.45646,     0.45746,     0.45846,     0.45946,     0.46046,     0.46146,     0.46246,     0.46346,     0.46446,     0.46547,     0.46647,     0.46747,     0.46847,     0.46947,     0.47047,     0.47147,     0.47247,     0.47347,     0.47447,     0.47548,     0.47648,     0.47748,     0.47848,     0.47948,\n",
       "           0.48048,     0.48148,     0.48248,     0.48348,     0.48448,     0.48549,     0.48649,     0.48749,     0.48849,     0.48949,     0.49049,     0.49149,     0.49249,     0.49349,     0.49449,      0.4955,      0.4965,      0.4975,      0.4985,      0.4995,      0.5005,      0.5015,      0.5025,      0.5035,\n",
       "            0.5045,     0.50551,     0.50651,     0.50751,     0.50851,     0.50951,     0.51051,     0.51151,     0.51251,     0.51351,     0.51451,     0.51552,     0.51652,     0.51752,     0.51852,     0.51952,     0.52052,     0.52152,     0.52252,     0.52352,     0.52452,     0.52553,     0.52653,     0.52753,\n",
       "           0.52853,     0.52953,     0.53053,     0.53153,     0.53253,     0.53353,     0.53453,     0.53554,     0.53654,     0.53754,     0.53854,     0.53954,     0.54054,     0.54154,     0.54254,     0.54354,     0.54454,     0.54555,     0.54655,     0.54755,     0.54855,     0.54955,     0.55055,     0.55155,\n",
       "           0.55255,     0.55355,     0.55455,     0.55556,     0.55656,     0.55756,     0.55856,     0.55956,     0.56056,     0.56156,     0.56256,     0.56356,     0.56456,     0.56557,     0.56657,     0.56757,     0.56857,     0.56957,     0.57057,     0.57157,     0.57257,     0.57357,     0.57457,     0.57558,\n",
       "           0.57658,     0.57758,     0.57858,     0.57958,     0.58058,     0.58158,     0.58258,     0.58358,     0.58458,     0.58559,     0.58659,     0.58759,     0.58859,     0.58959,     0.59059,     0.59159,     0.59259,     0.59359,     0.59459,      0.5956,      0.5966,      0.5976,      0.5986,      0.5996,\n",
       "            0.6006,      0.6016,      0.6026,      0.6036,      0.6046,     0.60561,     0.60661,     0.60761,     0.60861,     0.60961,     0.61061,     0.61161,     0.61261,     0.61361,     0.61461,     0.61562,     0.61662,     0.61762,     0.61862,     0.61962,     0.62062,     0.62162,     0.62262,     0.62362,\n",
       "           0.62462,     0.62563,     0.62663,     0.62763,     0.62863,     0.62963,     0.63063,     0.63163,     0.63263,     0.63363,     0.63463,     0.63564,     0.63664,     0.63764,     0.63864,     0.63964,     0.64064,     0.64164,     0.64264,     0.64364,     0.64464,     0.64565,     0.64665,     0.64765,\n",
       "           0.64865,     0.64965,     0.65065,     0.65165,     0.65265,     0.65365,     0.65465,     0.65566,     0.65666,     0.65766,     0.65866,     0.65966,     0.66066,     0.66166,     0.66266,     0.66366,     0.66466,     0.66567,     0.66667,     0.66767,     0.66867,     0.66967,     0.67067,     0.67167,\n",
       "           0.67267,     0.67367,     0.67467,     0.67568,     0.67668,     0.67768,     0.67868,     0.67968,     0.68068,     0.68168,     0.68268,     0.68368,     0.68468,     0.68569,     0.68669,     0.68769,     0.68869,     0.68969,     0.69069,     0.69169,     0.69269,     0.69369,     0.69469,      0.6957,\n",
       "            0.6967,      0.6977,      0.6987,      0.6997,      0.7007,      0.7017,      0.7027,      0.7037,      0.7047,     0.70571,     0.70671,     0.70771,     0.70871,     0.70971,     0.71071,     0.71171,     0.71271,     0.71371,     0.71471,     0.71572,     0.71672,     0.71772,     0.71872,     0.71972,\n",
       "           0.72072,     0.72172,     0.72272,     0.72372,     0.72472,     0.72573,     0.72673,     0.72773,     0.72873,     0.72973,     0.73073,     0.73173,     0.73273,     0.73373,     0.73473,     0.73574,     0.73674,     0.73774,     0.73874,     0.73974,     0.74074,     0.74174,     0.74274,     0.74374,\n",
       "           0.74474,     0.74575,     0.74675,     0.74775,     0.74875,     0.74975,     0.75075,     0.75175,     0.75275,     0.75375,     0.75475,     0.75576,     0.75676,     0.75776,     0.75876,     0.75976,     0.76076,     0.76176,     0.76276,     0.76376,     0.76476,     0.76577,     0.76677,     0.76777,\n",
       "           0.76877,     0.76977,     0.77077,     0.77177,     0.77277,     0.77377,     0.77477,     0.77578,     0.77678,     0.77778,     0.77878,     0.77978,     0.78078,     0.78178,     0.78278,     0.78378,     0.78478,     0.78579,     0.78679,     0.78779,     0.78879,     0.78979,     0.79079,     0.79179,\n",
       "           0.79279,     0.79379,     0.79479,      0.7958,      0.7968,      0.7978,      0.7988,      0.7998,      0.8008,      0.8018,      0.8028,      0.8038,      0.8048,     0.80581,     0.80681,     0.80781,     0.80881,     0.80981,     0.81081,     0.81181,     0.81281,     0.81381,     0.81481,     0.81582,\n",
       "           0.81682,     0.81782,     0.81882,     0.81982,     0.82082,     0.82182,     0.82282,     0.82382,     0.82482,     0.82583,     0.82683,     0.82783,     0.82883,     0.82983,     0.83083,     0.83183,     0.83283,     0.83383,     0.83483,     0.83584,     0.83684,     0.83784,     0.83884,     0.83984,\n",
       "           0.84084,     0.84184,     0.84284,     0.84384,     0.84484,     0.84585,     0.84685,     0.84785,     0.84885,     0.84985,     0.85085,     0.85185,     0.85285,     0.85385,     0.85485,     0.85586,     0.85686,     0.85786,     0.85886,     0.85986,     0.86086,     0.86186,     0.86286,     0.86386,\n",
       "           0.86486,     0.86587,     0.86687,     0.86787,     0.86887,     0.86987,     0.87087,     0.87187,     0.87287,     0.87387,     0.87487,     0.87588,     0.87688,     0.87788,     0.87888,     0.87988,     0.88088,     0.88188,     0.88288,     0.88388,     0.88488,     0.88589,     0.88689,     0.88789,\n",
       "           0.88889,     0.88989,     0.89089,     0.89189,     0.89289,     0.89389,     0.89489,      0.8959,      0.8969,      0.8979,      0.8989,      0.8999,      0.9009,      0.9019,      0.9029,      0.9039,      0.9049,     0.90591,     0.90691,     0.90791,     0.90891,     0.90991,     0.91091,     0.91191,\n",
       "           0.91291,     0.91391,     0.91491,     0.91592,     0.91692,     0.91792,     0.91892,     0.91992,     0.92092,     0.92192,     0.92292,     0.92392,     0.92492,     0.92593,     0.92693,     0.92793,     0.92893,     0.92993,     0.93093,     0.93193,     0.93293,     0.93393,     0.93493,     0.93594,\n",
       "           0.93694,     0.93794,     0.93894,     0.93994,     0.94094,     0.94194,     0.94294,     0.94394,     0.94494,     0.94595,     0.94695,     0.94795,     0.94895,     0.94995,     0.95095,     0.95195,     0.95295,     0.95395,     0.95495,     0.95596,     0.95696,     0.95796,     0.95896,     0.95996,\n",
       "           0.96096,     0.96196,     0.96296,     0.96396,     0.96496,     0.96597,     0.96697,     0.96797,     0.96897,     0.96997,     0.97097,     0.97197,     0.97297,     0.97397,     0.97497,     0.97598,     0.97698,     0.97798,     0.97898,     0.97998,     0.98098,     0.98198,     0.98298,     0.98398,\n",
       "           0.98498,     0.98599,     0.98699,     0.98799,     0.98899,     0.98999,     0.99099,     0.99199,     0.99299,     0.99399,     0.99499,       0.996,       0.997,       0.998,       0.999,           1]), array([[  0.0081154,   0.0081154,    0.013614,    0.046779,    0.090193,     0.11896,     0.14911,     0.17529,     0.19552,      0.2025,     0.21502,     0.22839,      0.2355,     0.24336,     0.24544,     0.25052,     0.25416,     0.25977,     0.27474,     0.27814,     0.28015,     0.28178,     0.28297,\n",
       "            0.28414,     0.28531,     0.29072,      0.2919,     0.29307,     0.29423,     0.29575,     0.29833,     0.30025,     0.30099,     0.30173,     0.30246,     0.30319,     0.30391,     0.30463,     0.30536,     0.30609,     0.30682,     0.30754,     0.30827,     0.30899,      0.3097,     0.31036,\n",
       "            0.31048,      0.3106,     0.31072,     0.31083,     0.31095,     0.31107,     0.31119,     0.31131,     0.31143,     0.31155,     0.31167,     0.31179,      0.3119,     0.31202,     0.31214,     0.31226,     0.31238,      0.3125,     0.31261,     0.31273,     0.31285,     0.31297,     0.31309,\n",
       "             0.3132,     0.31332,     0.31344,     0.31356,     0.31367,     0.31379,     0.31391,     0.31402,     0.31414,     0.31426,     0.31438,     0.31449,     0.31461,     0.31473,     0.31484,     0.31496,     0.31507,     0.31519,     0.31531,     0.31542,     0.31554,     0.31565,     0.31577,\n",
       "            0.31587,     0.31596,     0.31606,     0.31615,     0.31625,     0.31634,     0.31644,     0.31653,     0.31662,     0.31672,     0.31681,     0.31691,       0.317,     0.31709,     0.31719,     0.31728,     0.31738,     0.31747,     0.31756,     0.31766,     0.31775,     0.31784,     0.31794,\n",
       "            0.31803,     0.31812,     0.31822,     0.31831,      0.3184,      0.3185,     0.31859,     0.31868,     0.31878,     0.31887,     0.31896,     0.31905,     0.31915,     0.31924,     0.31933,     0.31943,     0.31952,     0.31961,      0.3197,     0.31979,     0.31989,     0.31998,     0.32007,\n",
       "            0.32016,     0.32026,     0.32035,     0.32044,     0.32053,     0.32062,     0.32072,     0.32081,      0.3209,     0.32099,     0.32108,     0.32117,     0.32127,     0.32136,     0.32144,      0.3215,     0.32157,     0.32163,     0.32169,     0.32175,     0.32182,     0.32188,     0.32194,\n",
       "              0.322,     0.32206,     0.32213,     0.32219,     0.32225,     0.32231,     0.32237,     0.32244,      0.3225,     0.32256,     0.32262,     0.32268,     0.32275,     0.32281,     0.32287,     0.32293,     0.32299,     0.32305,     0.32312,     0.32318,     0.32324,      0.3233,     0.32336,\n",
       "            0.32342,     0.32349,     0.32355,     0.32361,     0.32367,     0.32373,     0.32379,     0.32385,     0.32392,     0.32398,     0.32404,      0.3241,     0.32416,     0.32422,     0.32428,     0.32435,     0.32441,     0.32447,     0.32453,     0.32459,     0.32465,     0.32471,     0.32477,\n",
       "            0.32483,      0.3249,     0.32496,     0.32502,     0.32508,     0.32514,      0.3252,     0.32526,     0.32532,     0.32538,     0.32544,      0.3255,     0.32556,     0.32563,     0.32569,     0.32575,     0.32581,     0.32587,     0.32593,     0.32599,     0.32605,     0.32611,     0.32617,\n",
       "            0.32623,     0.32629,     0.32635,     0.32641,     0.32647,     0.32653,     0.32659,     0.32665,     0.32671,     0.32677,     0.32683,      0.3269,     0.32696,     0.32702,     0.32708,     0.32714,      0.3272,     0.32726,     0.32892,     0.33117,     0.33334,     0.33341,     0.33349,\n",
       "            0.33357,     0.33365,     0.33372,      0.3338,     0.33388,     0.33396,     0.33403,     0.33411,     0.33419,     0.33427,     0.33434,     0.33442,      0.3345,     0.33458,     0.33465,     0.33473,     0.33481,     0.33489,     0.33496,     0.33504,     0.33512,     0.33519,     0.33527,\n",
       "            0.33535,     0.33542,      0.3355,     0.33558,     0.33565,     0.33573,     0.33581,     0.33588,     0.33596,     0.33604,     0.33611,     0.33619,     0.33627,     0.33634,     0.33642,      0.3365,     0.33657,     0.33665,     0.33672,      0.3368,     0.33688,     0.33695,     0.33703,\n",
       "            0.33711,     0.33718,     0.33726,     0.33733,     0.33741,     0.33748,     0.33756,     0.33764,     0.33771,     0.33779,     0.33786,     0.33794,     0.33801,     0.33809,     0.33817,     0.33824,     0.33832,     0.33839,     0.33847,     0.33854,     0.33862,     0.33869,     0.33877,\n",
       "            0.33884,     0.33892,     0.33899,     0.33907,     0.33914,     0.33922,     0.33929,     0.33937,     0.33944,     0.33952,     0.33959,     0.33965,      0.3397,     0.33975,      0.3398,     0.33985,      0.3399,     0.33995,        0.34,     0.34005,      0.3401,     0.34014,     0.34019,\n",
       "            0.34024,     0.34029,     0.34034,     0.34039,     0.34044,     0.34049,     0.34054,     0.34059,     0.34064,     0.34069,     0.34073,     0.34078,     0.34083,     0.34088,     0.34093,     0.34098,     0.34103,     0.34108,     0.34113,     0.34117,     0.34122,     0.34127,     0.34132,\n",
       "            0.34137,     0.34142,     0.34147,     0.34152,     0.34157,     0.34161,     0.34166,     0.34171,     0.34176,     0.34181,     0.34186,     0.34191,     0.34195,       0.342,     0.34205,      0.3421,     0.34215,      0.3422,     0.34225,     0.34229,     0.34234,     0.34239,     0.34244,\n",
       "            0.34249,     0.34254,     0.34259,     0.34263,     0.34268,     0.34273,     0.34278,     0.34283,     0.34288,     0.34292,     0.34297,     0.34302,     0.34307,     0.34312,     0.34317,     0.34321,     0.34326,     0.34331,     0.34336,     0.34341,     0.34345,      0.3435,     0.34355,\n",
       "             0.3436,     0.34365,      0.3437,     0.34374,     0.34379,     0.34384,     0.34389,     0.34394,     0.34398,     0.34403,     0.34408,     0.34413,     0.34417,     0.34422,     0.34427,     0.34432,     0.34437,     0.34441,     0.34446,     0.34451,     0.34456,     0.34461,     0.34465,\n",
       "             0.3447,     0.34475,      0.3448,     0.34484,     0.34489,     0.34494,     0.34499,     0.34503,     0.34508,     0.34513,     0.34518,     0.34523,     0.34527,     0.34532,     0.34537,     0.34542,     0.34546,     0.34551,     0.34556,     0.34561,     0.34565,      0.3457,     0.34575,\n",
       "            0.34579,     0.34584,     0.34589,     0.34594,     0.34598,     0.34603,     0.34608,     0.34613,     0.34618,     0.34626,     0.34633,      0.3464,     0.34648,     0.34655,     0.34662,      0.3467,     0.34677,     0.34684,     0.34691,     0.34699,     0.34706,     0.34713,     0.34721,\n",
       "            0.34728,     0.34735,     0.34742,      0.3475,     0.34757,     0.34764,     0.34771,     0.34779,     0.34786,     0.34793,       0.348,     0.34808,     0.34815,     0.34822,     0.34829,     0.34836,     0.34844,     0.34851,     0.34858,     0.34865,     0.34872,      0.3488,     0.34887,\n",
       "            0.34894,     0.34901,     0.34908,     0.34916,     0.34923,      0.3493,     0.34937,     0.34944,     0.34951,     0.34959,     0.34966,     0.34973,      0.3498,     0.34987,     0.34994,     0.35001,     0.35009,     0.35016,     0.35023,      0.3503,     0.35037,     0.35044,     0.35051,\n",
       "            0.35058,     0.35065,     0.35073,      0.3508,     0.35087,     0.35094,     0.35101,     0.35108,     0.35115,     0.35122,     0.35129,     0.35136,     0.35143,      0.3515,     0.35157,     0.35165,     0.35172,     0.35179,     0.35186,     0.35193,       0.352,     0.35207,     0.35214,\n",
       "            0.35221,     0.35228,     0.35235,     0.35242,     0.35249,     0.35256,     0.35263,      0.3527,     0.35277,     0.35284,     0.35291,     0.35345,     0.35438,     0.35531,     0.35623,     0.35715,     0.35806,     0.35896,     0.35986,     0.35962,     0.35917,     0.35872,     0.35826,\n",
       "            0.35781,     0.35736,     0.35691,     0.35646,     0.35601,     0.35556,      0.3551,     0.35465,      0.3542,     0.35375,      0.3533,     0.35284,     0.35239,     0.35194,     0.35149,     0.35103,     0.35058,     0.35013,     0.34968,     0.34923,     0.34877,     0.34832,     0.34787,\n",
       "            0.34741,     0.34696,     0.34651,     0.34606,      0.3456,     0.34515,      0.3447,     0.34424,     0.34379,     0.34334,     0.34288,     0.34243,     0.34198,     0.34152,     0.34107,     0.34061,     0.34016,     0.33971,     0.33925,      0.3388,     0.33834,     0.33789,     0.33744,\n",
       "            0.33698,     0.33653,     0.33607,     0.33562,     0.33516,     0.33471,     0.33425,      0.3338,     0.33334,     0.33289,     0.33243,     0.33198,     0.33152,     0.33107,     0.33061,     0.33016,      0.3297,     0.32925,     0.32879,     0.32834,     0.32788,     0.32742,     0.32697,\n",
       "            0.32653,     0.32661,     0.32668,     0.32675,     0.32682,      0.3269,     0.32697,     0.32704,     0.32711,     0.32718,     0.32726,     0.32733,      0.3274,     0.32747,     0.32754,     0.32761,     0.32769,     0.32776,     0.32783,      0.3279,     0.32797,     0.32804,     0.32812,\n",
       "            0.32819,     0.32826,     0.32833,      0.3284,     0.32847,     0.32854,     0.32862,     0.32869,     0.32876,     0.32883,      0.3289,     0.32897,     0.32904,     0.32911,     0.32918,     0.32925,     0.32933,      0.3294,     0.32947,     0.32954,     0.32961,     0.32968,     0.32975,\n",
       "            0.32982,     0.32989,     0.32996,     0.33003,      0.3301,     0.33017,     0.33024,     0.33031,     0.33038,     0.33045,     0.33052,     0.33059,     0.33066,     0.33073,      0.3308,     0.33087,     0.33094,     0.33101,     0.33108,     0.33115,     0.33122,     0.33129,     0.33136,\n",
       "            0.33143,      0.3315,     0.33157,     0.33164,     0.33171,     0.33178,     0.33185,     0.33192,     0.33199,     0.33205,     0.33212,     0.33219,     0.33226,     0.33233,      0.3324,     0.33247,     0.33254,     0.33261,     0.33268,     0.33274,     0.33281,     0.33288,     0.33295,\n",
       "            0.33302,     0.33309,     0.33316,     0.33322,     0.33329,     0.33338,      0.3335,     0.33362,     0.33374,     0.33385,     0.33397,     0.33409,     0.33421,     0.33432,     0.33444,     0.33456,     0.33468,     0.33479,     0.33491,     0.33503,     0.33514,     0.33526,     0.33538,\n",
       "            0.33549,     0.33561,     0.33572,     0.33584,     0.33596,     0.33607,     0.33619,      0.3363,     0.33642,     0.33653,     0.33665,     0.33676,     0.33688,     0.33699,     0.33711,     0.33722,     0.33734,     0.33745,     0.33757,     0.33768,     0.33779,     0.33791,     0.33802,\n",
       "            0.33814,     0.33825,     0.33836,     0.33848,     0.33859,      0.3387,     0.33881,     0.33893,     0.33904,     0.33915,     0.33927,     0.33938,     0.33949,      0.3396,     0.33971,     0.33983,     0.33994,     0.34005,     0.34016,     0.34027,     0.34039,     0.33941,     0.33781,\n",
       "            0.33622,     0.33463,     0.33303,     0.33144,     0.32984,     0.32825,     0.32665,     0.32505,     0.32345,     0.32185,     0.32025,     0.31865,     0.31704,     0.31544,     0.31383,     0.31223,     0.31062,     0.30901,     0.30741,      0.3058,     0.30441,       0.305,     0.30559,\n",
       "            0.30618,     0.30676,     0.30734,     0.30792,     0.30849,     0.30906,     0.30962,     0.31019,     0.31074,     0.31116,      0.3113,     0.31145,     0.31159,     0.31173,     0.31187,     0.31202,     0.31216,      0.3123,     0.31244,     0.31258,     0.31272,     0.31286,       0.313,\n",
       "            0.31314,     0.31329,     0.31342,     0.31356,      0.3137,     0.31384,     0.31398,     0.31412,     0.31426,      0.3144,     0.31454,     0.31468,     0.31481,     0.31495,     0.31509,     0.31523,     0.31536,      0.3155,     0.31564,     0.31577,     0.31591,     0.31605,     0.31618,\n",
       "            0.31632,     0.31645,     0.31659,     0.31672,     0.31686,     0.31699,     0.31713,     0.31726,     0.31739,     0.31753,     0.31766,      0.3178,     0.31793,     0.31806,      0.3182,     0.31839,     0.31859,     0.31878,     0.31897,     0.31916,     0.31935,     0.31954,     0.31973,\n",
       "            0.31992,     0.32011,      0.3203,     0.32048,     0.32067,     0.32086,     0.32104,     0.32123,     0.32142,      0.3216,     0.32179,     0.32197,     0.32216,     0.32234,     0.32253,     0.32271,     0.32289,     0.32307,     0.32326,     0.32344,     0.32362,      0.3238,     0.32398,\n",
       "            0.32416,     0.32434,     0.32452,      0.3247,     0.32488,     0.32506,     0.32524,     0.32541,     0.32567,     0.32726,     0.32883,     0.33036,     0.33187,     0.33336,     0.33515,      0.3369,     0.33862,      0.3403,     0.34185,     0.34316,     0.34444,      0.3457,     0.34694,\n",
       "            0.34817,     0.34937,     0.34853,     0.34539,     0.34224,     0.33909,     0.33593,     0.33277,      0.3296,     0.32643,     0.32325,     0.32006,     0.31687,     0.31367,     0.31047,     0.30294,     0.26755,      0.1668,     0.16755,     0.16827,     0.16897,     0.16965,      0.1703,\n",
       "            0.17094,     0.17171,     0.17292,     0.17407,     0.17516,     0.17619,     0.14386,     0.11061,    0.089657,    0.068569,    0.064437,    0.058498,    0.052246,    0.045994,    0.039741,    0.033489,    0.027237,    0.020985,    0.014732,   0.0084801,   0.0022278,           0,           0,\n",
       "                  0,           0,           0,           0,           0,           0,           0,           0,           0,           0,           0]]), 'Confidence', 'F1'], [array([          0,    0.001001,    0.002002,    0.003003,    0.004004,    0.005005,    0.006006,    0.007007,    0.008008,    0.009009,     0.01001,    0.011011,    0.012012,    0.013013,    0.014014,    0.015015,    0.016016,    0.017017,    0.018018,    0.019019,     0.02002,    0.021021,    0.022022,    0.023023,\n",
       "          0.024024,    0.025025,    0.026026,    0.027027,    0.028028,    0.029029,     0.03003,    0.031031,    0.032032,    0.033033,    0.034034,    0.035035,    0.036036,    0.037037,    0.038038,    0.039039,     0.04004,    0.041041,    0.042042,    0.043043,    0.044044,    0.045045,    0.046046,    0.047047,\n",
       "          0.048048,    0.049049,     0.05005,    0.051051,    0.052052,    0.053053,    0.054054,    0.055055,    0.056056,    0.057057,    0.058058,    0.059059,     0.06006,    0.061061,    0.062062,    0.063063,    0.064064,    0.065065,    0.066066,    0.067067,    0.068068,    0.069069,     0.07007,    0.071071,\n",
       "          0.072072,    0.073073,    0.074074,    0.075075,    0.076076,    0.077077,    0.078078,    0.079079,     0.08008,    0.081081,    0.082082,    0.083083,    0.084084,    0.085085,    0.086086,    0.087087,    0.088088,    0.089089,     0.09009,    0.091091,    0.092092,    0.093093,    0.094094,    0.095095,\n",
       "          0.096096,    0.097097,    0.098098,    0.099099,      0.1001,      0.1011,      0.1021,      0.1031,      0.1041,     0.10511,     0.10611,     0.10711,     0.10811,     0.10911,     0.11011,     0.11111,     0.11211,     0.11311,     0.11411,     0.11512,     0.11612,     0.11712,     0.11812,     0.11912,\n",
       "           0.12012,     0.12112,     0.12212,     0.12312,     0.12412,     0.12513,     0.12613,     0.12713,     0.12813,     0.12913,     0.13013,     0.13113,     0.13213,     0.13313,     0.13413,     0.13514,     0.13614,     0.13714,     0.13814,     0.13914,     0.14014,     0.14114,     0.14214,     0.14314,\n",
       "           0.14414,     0.14515,     0.14615,     0.14715,     0.14815,     0.14915,     0.15015,     0.15115,     0.15215,     0.15315,     0.15415,     0.15516,     0.15616,     0.15716,     0.15816,     0.15916,     0.16016,     0.16116,     0.16216,     0.16316,     0.16416,     0.16517,     0.16617,     0.16717,\n",
       "           0.16817,     0.16917,     0.17017,     0.17117,     0.17217,     0.17317,     0.17417,     0.17518,     0.17618,     0.17718,     0.17818,     0.17918,     0.18018,     0.18118,     0.18218,     0.18318,     0.18418,     0.18519,     0.18619,     0.18719,     0.18819,     0.18919,     0.19019,     0.19119,\n",
       "           0.19219,     0.19319,     0.19419,      0.1952,      0.1962,      0.1972,      0.1982,      0.1992,      0.2002,      0.2012,      0.2022,      0.2032,      0.2042,     0.20521,     0.20621,     0.20721,     0.20821,     0.20921,     0.21021,     0.21121,     0.21221,     0.21321,     0.21421,     0.21522,\n",
       "           0.21622,     0.21722,     0.21822,     0.21922,     0.22022,     0.22122,     0.22222,     0.22322,     0.22422,     0.22523,     0.22623,     0.22723,     0.22823,     0.22923,     0.23023,     0.23123,     0.23223,     0.23323,     0.23423,     0.23524,     0.23624,     0.23724,     0.23824,     0.23924,\n",
       "           0.24024,     0.24124,     0.24224,     0.24324,     0.24424,     0.24525,     0.24625,     0.24725,     0.24825,     0.24925,     0.25025,     0.25125,     0.25225,     0.25325,     0.25425,     0.25526,     0.25626,     0.25726,     0.25826,     0.25926,     0.26026,     0.26126,     0.26226,     0.26326,\n",
       "           0.26426,     0.26527,     0.26627,     0.26727,     0.26827,     0.26927,     0.27027,     0.27127,     0.27227,     0.27327,     0.27427,     0.27528,     0.27628,     0.27728,     0.27828,     0.27928,     0.28028,     0.28128,     0.28228,     0.28328,     0.28428,     0.28529,     0.28629,     0.28729,\n",
       "           0.28829,     0.28929,     0.29029,     0.29129,     0.29229,     0.29329,     0.29429,      0.2953,      0.2963,      0.2973,      0.2983,      0.2993,      0.3003,      0.3013,      0.3023,      0.3033,      0.3043,     0.30531,     0.30631,     0.30731,     0.30831,     0.30931,     0.31031,     0.31131,\n",
       "           0.31231,     0.31331,     0.31431,     0.31532,     0.31632,     0.31732,     0.31832,     0.31932,     0.32032,     0.32132,     0.32232,     0.32332,     0.32432,     0.32533,     0.32633,     0.32733,     0.32833,     0.32933,     0.33033,     0.33133,     0.33233,     0.33333,     0.33433,     0.33534,\n",
       "           0.33634,     0.33734,     0.33834,     0.33934,     0.34034,     0.34134,     0.34234,     0.34334,     0.34434,     0.34535,     0.34635,     0.34735,     0.34835,     0.34935,     0.35035,     0.35135,     0.35235,     0.35335,     0.35435,     0.35536,     0.35636,     0.35736,     0.35836,     0.35936,\n",
       "           0.36036,     0.36136,     0.36236,     0.36336,     0.36436,     0.36537,     0.36637,     0.36737,     0.36837,     0.36937,     0.37037,     0.37137,     0.37237,     0.37337,     0.37437,     0.37538,     0.37638,     0.37738,     0.37838,     0.37938,     0.38038,     0.38138,     0.38238,     0.38338,\n",
       "           0.38438,     0.38539,     0.38639,     0.38739,     0.38839,     0.38939,     0.39039,     0.39139,     0.39239,     0.39339,     0.39439,      0.3954,      0.3964,      0.3974,      0.3984,      0.3994,      0.4004,      0.4014,      0.4024,      0.4034,      0.4044,     0.40541,     0.40641,     0.40741,\n",
       "           0.40841,     0.40941,     0.41041,     0.41141,     0.41241,     0.41341,     0.41441,     0.41542,     0.41642,     0.41742,     0.41842,     0.41942,     0.42042,     0.42142,     0.42242,     0.42342,     0.42442,     0.42543,     0.42643,     0.42743,     0.42843,     0.42943,     0.43043,     0.43143,\n",
       "           0.43243,     0.43343,     0.43443,     0.43544,     0.43644,     0.43744,     0.43844,     0.43944,     0.44044,     0.44144,     0.44244,     0.44344,     0.44444,     0.44545,     0.44645,     0.44745,     0.44845,     0.44945,     0.45045,     0.45145,     0.45245,     0.45345,     0.45445,     0.45546,\n",
       "           0.45646,     0.45746,     0.45846,     0.45946,     0.46046,     0.46146,     0.46246,     0.46346,     0.46446,     0.46547,     0.46647,     0.46747,     0.46847,     0.46947,     0.47047,     0.47147,     0.47247,     0.47347,     0.47447,     0.47548,     0.47648,     0.47748,     0.47848,     0.47948,\n",
       "           0.48048,     0.48148,     0.48248,     0.48348,     0.48448,     0.48549,     0.48649,     0.48749,     0.48849,     0.48949,     0.49049,     0.49149,     0.49249,     0.49349,     0.49449,      0.4955,      0.4965,      0.4975,      0.4985,      0.4995,      0.5005,      0.5015,      0.5025,      0.5035,\n",
       "            0.5045,     0.50551,     0.50651,     0.50751,     0.50851,     0.50951,     0.51051,     0.51151,     0.51251,     0.51351,     0.51451,     0.51552,     0.51652,     0.51752,     0.51852,     0.51952,     0.52052,     0.52152,     0.52252,     0.52352,     0.52452,     0.52553,     0.52653,     0.52753,\n",
       "           0.52853,     0.52953,     0.53053,     0.53153,     0.53253,     0.53353,     0.53453,     0.53554,     0.53654,     0.53754,     0.53854,     0.53954,     0.54054,     0.54154,     0.54254,     0.54354,     0.54454,     0.54555,     0.54655,     0.54755,     0.54855,     0.54955,     0.55055,     0.55155,\n",
       "           0.55255,     0.55355,     0.55455,     0.55556,     0.55656,     0.55756,     0.55856,     0.55956,     0.56056,     0.56156,     0.56256,     0.56356,     0.56456,     0.56557,     0.56657,     0.56757,     0.56857,     0.56957,     0.57057,     0.57157,     0.57257,     0.57357,     0.57457,     0.57558,\n",
       "           0.57658,     0.57758,     0.57858,     0.57958,     0.58058,     0.58158,     0.58258,     0.58358,     0.58458,     0.58559,     0.58659,     0.58759,     0.58859,     0.58959,     0.59059,     0.59159,     0.59259,     0.59359,     0.59459,      0.5956,      0.5966,      0.5976,      0.5986,      0.5996,\n",
       "            0.6006,      0.6016,      0.6026,      0.6036,      0.6046,     0.60561,     0.60661,     0.60761,     0.60861,     0.60961,     0.61061,     0.61161,     0.61261,     0.61361,     0.61461,     0.61562,     0.61662,     0.61762,     0.61862,     0.61962,     0.62062,     0.62162,     0.62262,     0.62362,\n",
       "           0.62462,     0.62563,     0.62663,     0.62763,     0.62863,     0.62963,     0.63063,     0.63163,     0.63263,     0.63363,     0.63463,     0.63564,     0.63664,     0.63764,     0.63864,     0.63964,     0.64064,     0.64164,     0.64264,     0.64364,     0.64464,     0.64565,     0.64665,     0.64765,\n",
       "           0.64865,     0.64965,     0.65065,     0.65165,     0.65265,     0.65365,     0.65465,     0.65566,     0.65666,     0.65766,     0.65866,     0.65966,     0.66066,     0.66166,     0.66266,     0.66366,     0.66466,     0.66567,     0.66667,     0.66767,     0.66867,     0.66967,     0.67067,     0.67167,\n",
       "           0.67267,     0.67367,     0.67467,     0.67568,     0.67668,     0.67768,     0.67868,     0.67968,     0.68068,     0.68168,     0.68268,     0.68368,     0.68468,     0.68569,     0.68669,     0.68769,     0.68869,     0.68969,     0.69069,     0.69169,     0.69269,     0.69369,     0.69469,      0.6957,\n",
       "            0.6967,      0.6977,      0.6987,      0.6997,      0.7007,      0.7017,      0.7027,      0.7037,      0.7047,     0.70571,     0.70671,     0.70771,     0.70871,     0.70971,     0.71071,     0.71171,     0.71271,     0.71371,     0.71471,     0.71572,     0.71672,     0.71772,     0.71872,     0.71972,\n",
       "           0.72072,     0.72172,     0.72272,     0.72372,     0.72472,     0.72573,     0.72673,     0.72773,     0.72873,     0.72973,     0.73073,     0.73173,     0.73273,     0.73373,     0.73473,     0.73574,     0.73674,     0.73774,     0.73874,     0.73974,     0.74074,     0.74174,     0.74274,     0.74374,\n",
       "           0.74474,     0.74575,     0.74675,     0.74775,     0.74875,     0.74975,     0.75075,     0.75175,     0.75275,     0.75375,     0.75475,     0.75576,     0.75676,     0.75776,     0.75876,     0.75976,     0.76076,     0.76176,     0.76276,     0.76376,     0.76476,     0.76577,     0.76677,     0.76777,\n",
       "           0.76877,     0.76977,     0.77077,     0.77177,     0.77277,     0.77377,     0.77477,     0.77578,     0.77678,     0.77778,     0.77878,     0.77978,     0.78078,     0.78178,     0.78278,     0.78378,     0.78478,     0.78579,     0.78679,     0.78779,     0.78879,     0.78979,     0.79079,     0.79179,\n",
       "           0.79279,     0.79379,     0.79479,      0.7958,      0.7968,      0.7978,      0.7988,      0.7998,      0.8008,      0.8018,      0.8028,      0.8038,      0.8048,     0.80581,     0.80681,     0.80781,     0.80881,     0.80981,     0.81081,     0.81181,     0.81281,     0.81381,     0.81481,     0.81582,\n",
       "           0.81682,     0.81782,     0.81882,     0.81982,     0.82082,     0.82182,     0.82282,     0.82382,     0.82482,     0.82583,     0.82683,     0.82783,     0.82883,     0.82983,     0.83083,     0.83183,     0.83283,     0.83383,     0.83483,     0.83584,     0.83684,     0.83784,     0.83884,     0.83984,\n",
       "           0.84084,     0.84184,     0.84284,     0.84384,     0.84484,     0.84585,     0.84685,     0.84785,     0.84885,     0.84985,     0.85085,     0.85185,     0.85285,     0.85385,     0.85485,     0.85586,     0.85686,     0.85786,     0.85886,     0.85986,     0.86086,     0.86186,     0.86286,     0.86386,\n",
       "           0.86486,     0.86587,     0.86687,     0.86787,     0.86887,     0.86987,     0.87087,     0.87187,     0.87287,     0.87387,     0.87487,     0.87588,     0.87688,     0.87788,     0.87888,     0.87988,     0.88088,     0.88188,     0.88288,     0.88388,     0.88488,     0.88589,     0.88689,     0.88789,\n",
       "           0.88889,     0.88989,     0.89089,     0.89189,     0.89289,     0.89389,     0.89489,      0.8959,      0.8969,      0.8979,      0.8989,      0.8999,      0.9009,      0.9019,      0.9029,      0.9039,      0.9049,     0.90591,     0.90691,     0.90791,     0.90891,     0.90991,     0.91091,     0.91191,\n",
       "           0.91291,     0.91391,     0.91491,     0.91592,     0.91692,     0.91792,     0.91892,     0.91992,     0.92092,     0.92192,     0.92292,     0.92392,     0.92492,     0.92593,     0.92693,     0.92793,     0.92893,     0.92993,     0.93093,     0.93193,     0.93293,     0.93393,     0.93493,     0.93594,\n",
       "           0.93694,     0.93794,     0.93894,     0.93994,     0.94094,     0.94194,     0.94294,     0.94394,     0.94494,     0.94595,     0.94695,     0.94795,     0.94895,     0.94995,     0.95095,     0.95195,     0.95295,     0.95395,     0.95495,     0.95596,     0.95696,     0.95796,     0.95896,     0.95996,\n",
       "           0.96096,     0.96196,     0.96296,     0.96396,     0.96496,     0.96597,     0.96697,     0.96797,     0.96897,     0.96997,     0.97097,     0.97197,     0.97297,     0.97397,     0.97497,     0.97598,     0.97698,     0.97798,     0.97898,     0.97998,     0.98098,     0.98198,     0.98298,     0.98398,\n",
       "           0.98498,     0.98599,     0.98699,     0.98799,     0.98899,     0.98999,     0.99099,     0.99199,     0.99299,     0.99399,     0.99499,       0.996,       0.997,       0.998,       0.999,           1]), array([[  0.0041096,   0.0041096,   0.0069544,    0.025225,    0.052456,    0.072987,    0.097067,     0.12051,     0.14049,     0.14781,     0.16155,     0.17712,     0.18583,      0.1958,     0.19852,     0.20525,     0.21017,     0.21796,     0.23989,     0.24512,     0.24827,     0.25085,     0.25273,\n",
       "            0.25461,     0.25649,     0.26537,     0.26734,      0.2693,     0.27127,     0.27388,     0.27833,      0.2817,       0.283,      0.2843,      0.2856,      0.2869,     0.28821,     0.28951,     0.29082,     0.29215,     0.29348,     0.29481,     0.29614,     0.29747,      0.2988,     0.30002,\n",
       "            0.30025,     0.30047,     0.30069,     0.30092,     0.30114,     0.30136,     0.30159,     0.30181,     0.30203,     0.30226,     0.30248,     0.30271,     0.30293,     0.30315,     0.30338,      0.3036,     0.30382,     0.30405,     0.30427,     0.30449,     0.30472,     0.30494,     0.30517,\n",
       "            0.30539,     0.30561,     0.30584,     0.30606,     0.30628,     0.30651,     0.30673,     0.30695,     0.30718,      0.3074,     0.30762,     0.30785,     0.30807,      0.3083,     0.30852,     0.30874,     0.30897,     0.30919,     0.30941,     0.30964,     0.30986,     0.31008,     0.31031,\n",
       "             0.3105,     0.31068,     0.31086,     0.31105,     0.31123,     0.31141,     0.31159,     0.31178,     0.31196,     0.31214,     0.31233,     0.31251,     0.31269,     0.31287,     0.31306,     0.31324,     0.31342,     0.31361,     0.31379,     0.31397,     0.31415,     0.31434,     0.31452,\n",
       "             0.3147,     0.31489,     0.31507,     0.31525,     0.31543,     0.31562,      0.3158,     0.31598,     0.31617,     0.31635,     0.31653,     0.31671,      0.3169,     0.31708,     0.31726,     0.31745,     0.31763,     0.31781,     0.31799,     0.31818,     0.31836,     0.31854,     0.31873,\n",
       "            0.31891,     0.31909,     0.31928,     0.31946,     0.31964,     0.31982,     0.32001,     0.32019,     0.32037,     0.32056,     0.32074,     0.32092,      0.3211,     0.32129,     0.32146,     0.32158,     0.32171,     0.32183,     0.32196,     0.32208,      0.3222,     0.32233,     0.32245,\n",
       "            0.32258,      0.3227,     0.32283,     0.32295,     0.32308,      0.3232,     0.32333,     0.32345,     0.32358,      0.3237,     0.32382,     0.32395,     0.32407,      0.3242,     0.32432,     0.32445,     0.32457,      0.3247,     0.32482,     0.32495,     0.32507,      0.3252,     0.32532,\n",
       "            0.32545,     0.32557,     0.32569,     0.32582,     0.32594,     0.32607,     0.32619,     0.32632,     0.32644,     0.32657,     0.32669,     0.32682,     0.32694,     0.32707,     0.32719,     0.32732,     0.32744,     0.32756,     0.32769,     0.32781,     0.32794,     0.32806,     0.32819,\n",
       "            0.32831,     0.32844,     0.32856,     0.32869,     0.32881,     0.32894,     0.32906,     0.32919,     0.32931,     0.32943,     0.32956,     0.32968,     0.32981,     0.32993,     0.33006,     0.33018,     0.33031,     0.33043,     0.33056,     0.33068,     0.33081,     0.33093,     0.33106,\n",
       "            0.33118,      0.3313,     0.33143,     0.33155,     0.33168,      0.3318,     0.33193,     0.33205,     0.33218,      0.3323,     0.33243,     0.33255,     0.33268,      0.3328,     0.33293,     0.33305,     0.33317,      0.3333,     0.33678,     0.34153,     0.34616,     0.34633,     0.34649,\n",
       "            0.34666,     0.34683,       0.347,     0.34717,     0.34733,      0.3475,     0.34767,     0.34784,     0.34801,     0.34817,     0.34834,     0.34851,     0.34868,     0.34885,     0.34901,     0.34918,     0.34935,     0.34952,     0.34969,     0.34985,     0.35002,     0.35019,     0.35036,\n",
       "            0.35053,     0.35069,     0.35086,     0.35103,      0.3512,     0.35137,     0.35153,      0.3517,     0.35187,     0.35204,     0.35221,     0.35237,     0.35254,     0.35271,     0.35288,     0.35305,     0.35321,     0.35338,     0.35355,     0.35372,     0.35389,     0.35405,     0.35422,\n",
       "            0.35439,     0.35456,     0.35473,     0.35489,     0.35506,     0.35523,      0.3554,     0.35556,     0.35573,      0.3559,     0.35607,     0.35624,      0.3564,     0.35657,     0.35674,     0.35691,     0.35708,     0.35724,     0.35741,     0.35758,     0.35775,     0.35792,     0.35808,\n",
       "            0.35825,     0.35842,     0.35859,     0.35876,     0.35892,     0.35909,     0.35926,     0.35943,      0.3596,     0.35976,     0.35993,     0.36007,     0.36018,     0.36029,      0.3604,     0.36051,     0.36062,     0.36073,     0.36084,     0.36095,     0.36106,     0.36118,     0.36129,\n",
       "             0.3614,     0.36151,     0.36162,     0.36173,     0.36184,     0.36195,     0.36206,     0.36217,     0.36229,      0.3624,     0.36251,     0.36262,     0.36273,     0.36284,     0.36295,     0.36306,     0.36317,     0.36328,      0.3634,     0.36351,     0.36362,     0.36373,     0.36384,\n",
       "            0.36395,     0.36406,     0.36417,     0.36428,     0.36439,      0.3645,     0.36462,     0.36473,     0.36484,     0.36495,     0.36506,     0.36517,     0.36528,     0.36539,      0.3655,     0.36561,     0.36573,     0.36584,     0.36595,     0.36606,     0.36617,     0.36628,     0.36639,\n",
       "             0.3665,     0.36661,     0.36672,     0.36683,     0.36695,     0.36706,     0.36717,     0.36728,     0.36739,      0.3675,     0.36761,     0.36772,     0.36783,     0.36794,     0.36806,     0.36817,     0.36828,     0.36839,      0.3685,     0.36861,     0.36872,     0.36883,     0.36894,\n",
       "            0.36905,     0.36917,     0.36928,     0.36939,      0.3695,     0.36961,     0.36972,     0.36983,     0.36994,     0.37005,     0.37016,     0.37027,     0.37039,      0.3705,     0.37061,     0.37072,     0.37083,     0.37094,     0.37105,     0.37116,     0.37127,     0.37138,      0.3715,\n",
       "            0.37161,     0.37172,     0.37183,     0.37194,     0.37205,     0.37216,     0.37227,     0.37238,     0.37249,     0.37261,     0.37272,     0.37283,     0.37294,     0.37305,     0.37316,     0.37327,     0.37338,     0.37349,      0.3736,     0.37371,     0.37383,     0.37394,     0.37405,\n",
       "            0.37416,     0.37427,     0.37438,     0.37449,      0.3746,     0.37471,     0.37482,     0.37494,     0.37507,     0.37524,     0.37542,     0.37559,     0.37576,     0.37593,      0.3761,     0.37627,     0.37645,     0.37662,     0.37679,     0.37696,     0.37713,     0.37731,     0.37748,\n",
       "            0.37765,     0.37782,     0.37799,     0.37816,     0.37834,     0.37851,     0.37868,     0.37885,     0.37902,      0.3792,     0.37937,     0.37954,     0.37971,     0.37988,     0.38006,     0.38023,      0.3804,     0.38057,     0.38074,     0.38091,     0.38109,     0.38126,     0.38143,\n",
       "             0.3816,     0.38177,     0.38195,     0.38212,     0.38229,     0.38246,     0.38263,      0.3828,     0.38298,     0.38315,     0.38332,     0.38349,     0.38366,     0.38384,     0.38401,     0.38418,     0.38435,     0.38452,      0.3847,     0.38487,     0.38504,     0.38521,     0.38538,\n",
       "            0.38555,     0.38573,      0.3859,     0.38607,     0.38624,     0.38641,     0.38659,     0.38676,     0.38693,      0.3871,     0.38727,     0.38744,     0.38762,     0.38779,     0.38796,     0.38813,      0.3883,     0.38848,     0.38865,     0.38882,     0.38899,     0.38916,     0.38934,\n",
       "            0.38951,     0.38968,     0.38985,     0.39002,     0.39019,     0.39037,     0.39054,     0.39071,     0.39088,     0.39105,     0.39123,     0.39256,     0.39487,     0.39718,     0.39949,      0.4018,     0.40411,     0.40643,     0.40874,     0.40877,     0.40839,     0.40801,     0.40762,\n",
       "            0.40724,     0.40686,     0.40648,      0.4061,     0.40572,     0.40534,     0.40496,     0.40457,     0.40419,     0.40381,     0.40343,     0.40305,     0.40267,     0.40229,     0.40191,     0.40152,     0.40114,     0.40076,     0.40038,         0.4,     0.39962,     0.39924,     0.39886,\n",
       "            0.39847,     0.39809,     0.39771,     0.39733,     0.39695,     0.39657,     0.39619,     0.39581,     0.39542,     0.39504,     0.39466,     0.39428,      0.3939,     0.39352,     0.39314,     0.39276,     0.39237,     0.39199,     0.39161,     0.39123,     0.39085,     0.39047,     0.39009,\n",
       "            0.38971,     0.38932,     0.38894,     0.38856,     0.38818,      0.3878,     0.38742,     0.38704,     0.38666,     0.38627,     0.38589,     0.38551,     0.38513,     0.38475,     0.38437,     0.38399,     0.38361,     0.38322,     0.38284,     0.38246,     0.38208,      0.3817,     0.38132,\n",
       "            0.38096,     0.38116,     0.38135,     0.38155,     0.38175,     0.38195,     0.38214,     0.38234,     0.38254,     0.38273,     0.38293,     0.38313,     0.38333,     0.38352,     0.38372,     0.38392,     0.38411,     0.38431,     0.38451,     0.38471,      0.3849,      0.3851,      0.3853,\n",
       "            0.38549,     0.38569,     0.38589,     0.38609,     0.38628,     0.38648,     0.38668,     0.38687,     0.38707,     0.38727,     0.38747,     0.38766,     0.38786,     0.38806,     0.38825,     0.38845,     0.38865,     0.38885,     0.38904,     0.38924,     0.38944,     0.38963,     0.38983,\n",
       "            0.39003,     0.39023,     0.39042,     0.39062,     0.39082,     0.39101,     0.39121,     0.39141,     0.39161,      0.3918,       0.392,      0.3922,     0.39239,     0.39259,     0.39279,     0.39299,     0.39318,     0.39338,     0.39358,     0.39377,     0.39397,     0.39417,     0.39437,\n",
       "            0.39456,     0.39476,     0.39496,     0.39515,     0.39535,     0.39555,     0.39574,     0.39594,     0.39614,     0.39634,     0.39653,     0.39673,     0.39693,     0.39712,     0.39732,     0.39752,     0.39772,     0.39791,     0.39811,     0.39831,      0.3985,      0.3987,      0.3989,\n",
       "             0.3991,     0.39929,     0.39949,     0.39969,     0.39988,     0.40014,     0.40048,     0.40082,     0.40116,      0.4015,     0.40185,     0.40219,     0.40253,     0.40287,     0.40321,     0.40355,     0.40389,     0.40423,     0.40457,     0.40491,     0.40525,     0.40559,     0.40593,\n",
       "            0.40628,     0.40662,     0.40696,      0.4073,     0.40764,     0.40798,     0.40832,     0.40866,       0.409,     0.40934,     0.40968,     0.41002,     0.41037,     0.41071,     0.41105,     0.41139,     0.41173,     0.41207,     0.41241,     0.41275,     0.41309,     0.41343,     0.41377,\n",
       "            0.41411,     0.41445,      0.4148,     0.41514,     0.41548,     0.41582,     0.41616,      0.4165,     0.41684,     0.41718,     0.41752,     0.41786,      0.4182,     0.41854,     0.41889,     0.41923,     0.41957,     0.41991,     0.42025,     0.42059,     0.42093,     0.42014,     0.41871,\n",
       "            0.41728,     0.41586,     0.41443,       0.413,     0.41158,     0.41015,     0.40872,      0.4073,     0.40587,     0.40444,     0.40301,     0.40159,     0.40016,     0.39873,     0.39731,     0.39588,     0.39445,     0.39303,      0.3916,     0.39017,     0.38909,     0.39103,     0.39298,\n",
       "            0.39492,     0.39687,     0.39881,     0.40076,      0.4027,     0.40465,     0.40659,     0.40854,     0.41048,     0.41194,     0.41244,     0.41294,     0.41344,     0.41394,     0.41445,     0.41495,     0.41545,     0.41595,     0.41646,     0.41696,     0.41746,     0.41796,     0.41847,\n",
       "            0.41897,     0.41947,     0.41997,     0.42047,     0.42098,     0.42148,     0.42198,     0.42248,     0.42299,     0.42349,     0.42399,     0.42449,     0.42499,      0.4255,       0.426,      0.4265,       0.427,     0.42751,     0.42801,     0.42851,     0.42901,     0.42951,     0.43002,\n",
       "            0.43052,     0.43102,     0.43152,     0.43203,     0.43253,     0.43303,     0.43353,     0.43404,     0.43454,     0.43504,     0.43554,     0.43604,     0.43655,     0.43705,     0.43757,      0.4383,     0.43903,     0.43976,     0.44049,     0.44122,     0.44194,     0.44267,      0.4434,\n",
       "            0.44413,     0.44486,     0.44559,     0.44631,     0.44704,     0.44777,      0.4485,     0.44923,     0.44996,     0.45068,     0.45141,     0.45214,     0.45287,      0.4536,     0.45433,     0.45505,     0.45578,     0.45651,     0.45724,     0.45797,      0.4587,     0.45942,     0.46015,\n",
       "            0.46088,     0.46161,     0.46234,     0.46307,     0.46379,     0.46452,     0.46525,     0.46598,     0.46704,     0.47365,     0.48026,     0.48687,     0.49348,     0.50011,     0.50826,     0.51641,     0.52456,     0.53271,      0.5404,     0.54697,     0.55355,     0.56012,     0.56669,\n",
       "            0.57327,     0.57984,       0.582,     0.57916,     0.57632,     0.57348,     0.57064,      0.5678,     0.56496,     0.56212,     0.55927,     0.55643,     0.55359,     0.55075,     0.54791,     0.54056,     0.50444,     0.37636,     0.38406,     0.39177,     0.39947,     0.40717,     0.41487,\n",
       "            0.42258,     0.43209,     0.44795,     0.46381,     0.47967,     0.49553,     0.44069,     0.37276,     0.31906,     0.26536,     0.32918,     0.30224,     0.26994,     0.23763,     0.20533,     0.17303,     0.14072,     0.10842,    0.076117,    0.043814,     0.01151,           0,           1,\n",
       "                  1,           1,           1,           1,           1,           1,           1,           1,           1,           1,           1]]), 'Confidence', 'Precision'], [array([          0,    0.001001,    0.002002,    0.003003,    0.004004,    0.005005,    0.006006,    0.007007,    0.008008,    0.009009,     0.01001,    0.011011,    0.012012,    0.013013,    0.014014,    0.015015,    0.016016,    0.017017,    0.018018,    0.019019,     0.02002,    0.021021,    0.022022,    0.023023,\n",
       "          0.024024,    0.025025,    0.026026,    0.027027,    0.028028,    0.029029,     0.03003,    0.031031,    0.032032,    0.033033,    0.034034,    0.035035,    0.036036,    0.037037,    0.038038,    0.039039,     0.04004,    0.041041,    0.042042,    0.043043,    0.044044,    0.045045,    0.046046,    0.047047,\n",
       "          0.048048,    0.049049,     0.05005,    0.051051,    0.052052,    0.053053,    0.054054,    0.055055,    0.056056,    0.057057,    0.058058,    0.059059,     0.06006,    0.061061,    0.062062,    0.063063,    0.064064,    0.065065,    0.066066,    0.067067,    0.068068,    0.069069,     0.07007,    0.071071,\n",
       "          0.072072,    0.073073,    0.074074,    0.075075,    0.076076,    0.077077,    0.078078,    0.079079,     0.08008,    0.081081,    0.082082,    0.083083,    0.084084,    0.085085,    0.086086,    0.087087,    0.088088,    0.089089,     0.09009,    0.091091,    0.092092,    0.093093,    0.094094,    0.095095,\n",
       "          0.096096,    0.097097,    0.098098,    0.099099,      0.1001,      0.1011,      0.1021,      0.1031,      0.1041,     0.10511,     0.10611,     0.10711,     0.10811,     0.10911,     0.11011,     0.11111,     0.11211,     0.11311,     0.11411,     0.11512,     0.11612,     0.11712,     0.11812,     0.11912,\n",
       "           0.12012,     0.12112,     0.12212,     0.12312,     0.12412,     0.12513,     0.12613,     0.12713,     0.12813,     0.12913,     0.13013,     0.13113,     0.13213,     0.13313,     0.13413,     0.13514,     0.13614,     0.13714,     0.13814,     0.13914,     0.14014,     0.14114,     0.14214,     0.14314,\n",
       "           0.14414,     0.14515,     0.14615,     0.14715,     0.14815,     0.14915,     0.15015,     0.15115,     0.15215,     0.15315,     0.15415,     0.15516,     0.15616,     0.15716,     0.15816,     0.15916,     0.16016,     0.16116,     0.16216,     0.16316,     0.16416,     0.16517,     0.16617,     0.16717,\n",
       "           0.16817,     0.16917,     0.17017,     0.17117,     0.17217,     0.17317,     0.17417,     0.17518,     0.17618,     0.17718,     0.17818,     0.17918,     0.18018,     0.18118,     0.18218,     0.18318,     0.18418,     0.18519,     0.18619,     0.18719,     0.18819,     0.18919,     0.19019,     0.19119,\n",
       "           0.19219,     0.19319,     0.19419,      0.1952,      0.1962,      0.1972,      0.1982,      0.1992,      0.2002,      0.2012,      0.2022,      0.2032,      0.2042,     0.20521,     0.20621,     0.20721,     0.20821,     0.20921,     0.21021,     0.21121,     0.21221,     0.21321,     0.21421,     0.21522,\n",
       "           0.21622,     0.21722,     0.21822,     0.21922,     0.22022,     0.22122,     0.22222,     0.22322,     0.22422,     0.22523,     0.22623,     0.22723,     0.22823,     0.22923,     0.23023,     0.23123,     0.23223,     0.23323,     0.23423,     0.23524,     0.23624,     0.23724,     0.23824,     0.23924,\n",
       "           0.24024,     0.24124,     0.24224,     0.24324,     0.24424,     0.24525,     0.24625,     0.24725,     0.24825,     0.24925,     0.25025,     0.25125,     0.25225,     0.25325,     0.25425,     0.25526,     0.25626,     0.25726,     0.25826,     0.25926,     0.26026,     0.26126,     0.26226,     0.26326,\n",
       "           0.26426,     0.26527,     0.26627,     0.26727,     0.26827,     0.26927,     0.27027,     0.27127,     0.27227,     0.27327,     0.27427,     0.27528,     0.27628,     0.27728,     0.27828,     0.27928,     0.28028,     0.28128,     0.28228,     0.28328,     0.28428,     0.28529,     0.28629,     0.28729,\n",
       "           0.28829,     0.28929,     0.29029,     0.29129,     0.29229,     0.29329,     0.29429,      0.2953,      0.2963,      0.2973,      0.2983,      0.2993,      0.3003,      0.3013,      0.3023,      0.3033,      0.3043,     0.30531,     0.30631,     0.30731,     0.30831,     0.30931,     0.31031,     0.31131,\n",
       "           0.31231,     0.31331,     0.31431,     0.31532,     0.31632,     0.31732,     0.31832,     0.31932,     0.32032,     0.32132,     0.32232,     0.32332,     0.32432,     0.32533,     0.32633,     0.32733,     0.32833,     0.32933,     0.33033,     0.33133,     0.33233,     0.33333,     0.33433,     0.33534,\n",
       "           0.33634,     0.33734,     0.33834,     0.33934,     0.34034,     0.34134,     0.34234,     0.34334,     0.34434,     0.34535,     0.34635,     0.34735,     0.34835,     0.34935,     0.35035,     0.35135,     0.35235,     0.35335,     0.35435,     0.35536,     0.35636,     0.35736,     0.35836,     0.35936,\n",
       "           0.36036,     0.36136,     0.36236,     0.36336,     0.36436,     0.36537,     0.36637,     0.36737,     0.36837,     0.36937,     0.37037,     0.37137,     0.37237,     0.37337,     0.37437,     0.37538,     0.37638,     0.37738,     0.37838,     0.37938,     0.38038,     0.38138,     0.38238,     0.38338,\n",
       "           0.38438,     0.38539,     0.38639,     0.38739,     0.38839,     0.38939,     0.39039,     0.39139,     0.39239,     0.39339,     0.39439,      0.3954,      0.3964,      0.3974,      0.3984,      0.3994,      0.4004,      0.4014,      0.4024,      0.4034,      0.4044,     0.40541,     0.40641,     0.40741,\n",
       "           0.40841,     0.40941,     0.41041,     0.41141,     0.41241,     0.41341,     0.41441,     0.41542,     0.41642,     0.41742,     0.41842,     0.41942,     0.42042,     0.42142,     0.42242,     0.42342,     0.42442,     0.42543,     0.42643,     0.42743,     0.42843,     0.42943,     0.43043,     0.43143,\n",
       "           0.43243,     0.43343,     0.43443,     0.43544,     0.43644,     0.43744,     0.43844,     0.43944,     0.44044,     0.44144,     0.44244,     0.44344,     0.44444,     0.44545,     0.44645,     0.44745,     0.44845,     0.44945,     0.45045,     0.45145,     0.45245,     0.45345,     0.45445,     0.45546,\n",
       "           0.45646,     0.45746,     0.45846,     0.45946,     0.46046,     0.46146,     0.46246,     0.46346,     0.46446,     0.46547,     0.46647,     0.46747,     0.46847,     0.46947,     0.47047,     0.47147,     0.47247,     0.47347,     0.47447,     0.47548,     0.47648,     0.47748,     0.47848,     0.47948,\n",
       "           0.48048,     0.48148,     0.48248,     0.48348,     0.48448,     0.48549,     0.48649,     0.48749,     0.48849,     0.48949,     0.49049,     0.49149,     0.49249,     0.49349,     0.49449,      0.4955,      0.4965,      0.4975,      0.4985,      0.4995,      0.5005,      0.5015,      0.5025,      0.5035,\n",
       "            0.5045,     0.50551,     0.50651,     0.50751,     0.50851,     0.50951,     0.51051,     0.51151,     0.51251,     0.51351,     0.51451,     0.51552,     0.51652,     0.51752,     0.51852,     0.51952,     0.52052,     0.52152,     0.52252,     0.52352,     0.52452,     0.52553,     0.52653,     0.52753,\n",
       "           0.52853,     0.52953,     0.53053,     0.53153,     0.53253,     0.53353,     0.53453,     0.53554,     0.53654,     0.53754,     0.53854,     0.53954,     0.54054,     0.54154,     0.54254,     0.54354,     0.54454,     0.54555,     0.54655,     0.54755,     0.54855,     0.54955,     0.55055,     0.55155,\n",
       "           0.55255,     0.55355,     0.55455,     0.55556,     0.55656,     0.55756,     0.55856,     0.55956,     0.56056,     0.56156,     0.56256,     0.56356,     0.56456,     0.56557,     0.56657,     0.56757,     0.56857,     0.56957,     0.57057,     0.57157,     0.57257,     0.57357,     0.57457,     0.57558,\n",
       "           0.57658,     0.57758,     0.57858,     0.57958,     0.58058,     0.58158,     0.58258,     0.58358,     0.58458,     0.58559,     0.58659,     0.58759,     0.58859,     0.58959,     0.59059,     0.59159,     0.59259,     0.59359,     0.59459,      0.5956,      0.5966,      0.5976,      0.5986,      0.5996,\n",
       "            0.6006,      0.6016,      0.6026,      0.6036,      0.6046,     0.60561,     0.60661,     0.60761,     0.60861,     0.60961,     0.61061,     0.61161,     0.61261,     0.61361,     0.61461,     0.61562,     0.61662,     0.61762,     0.61862,     0.61962,     0.62062,     0.62162,     0.62262,     0.62362,\n",
       "           0.62462,     0.62563,     0.62663,     0.62763,     0.62863,     0.62963,     0.63063,     0.63163,     0.63263,     0.63363,     0.63463,     0.63564,     0.63664,     0.63764,     0.63864,     0.63964,     0.64064,     0.64164,     0.64264,     0.64364,     0.64464,     0.64565,     0.64665,     0.64765,\n",
       "           0.64865,     0.64965,     0.65065,     0.65165,     0.65265,     0.65365,     0.65465,     0.65566,     0.65666,     0.65766,     0.65866,     0.65966,     0.66066,     0.66166,     0.66266,     0.66366,     0.66466,     0.66567,     0.66667,     0.66767,     0.66867,     0.66967,     0.67067,     0.67167,\n",
       "           0.67267,     0.67367,     0.67467,     0.67568,     0.67668,     0.67768,     0.67868,     0.67968,     0.68068,     0.68168,     0.68268,     0.68368,     0.68468,     0.68569,     0.68669,     0.68769,     0.68869,     0.68969,     0.69069,     0.69169,     0.69269,     0.69369,     0.69469,      0.6957,\n",
       "            0.6967,      0.6977,      0.6987,      0.6997,      0.7007,      0.7017,      0.7027,      0.7037,      0.7047,     0.70571,     0.70671,     0.70771,     0.70871,     0.70971,     0.71071,     0.71171,     0.71271,     0.71371,     0.71471,     0.71572,     0.71672,     0.71772,     0.71872,     0.71972,\n",
       "           0.72072,     0.72172,     0.72272,     0.72372,     0.72472,     0.72573,     0.72673,     0.72773,     0.72873,     0.72973,     0.73073,     0.73173,     0.73273,     0.73373,     0.73473,     0.73574,     0.73674,     0.73774,     0.73874,     0.73974,     0.74074,     0.74174,     0.74274,     0.74374,\n",
       "           0.74474,     0.74575,     0.74675,     0.74775,     0.74875,     0.74975,     0.75075,     0.75175,     0.75275,     0.75375,     0.75475,     0.75576,     0.75676,     0.75776,     0.75876,     0.75976,     0.76076,     0.76176,     0.76276,     0.76376,     0.76476,     0.76577,     0.76677,     0.76777,\n",
       "           0.76877,     0.76977,     0.77077,     0.77177,     0.77277,     0.77377,     0.77477,     0.77578,     0.77678,     0.77778,     0.77878,     0.77978,     0.78078,     0.78178,     0.78278,     0.78378,     0.78478,     0.78579,     0.78679,     0.78779,     0.78879,     0.78979,     0.79079,     0.79179,\n",
       "           0.79279,     0.79379,     0.79479,      0.7958,      0.7968,      0.7978,      0.7988,      0.7998,      0.8008,      0.8018,      0.8028,      0.8038,      0.8048,     0.80581,     0.80681,     0.80781,     0.80881,     0.80981,     0.81081,     0.81181,     0.81281,     0.81381,     0.81481,     0.81582,\n",
       "           0.81682,     0.81782,     0.81882,     0.81982,     0.82082,     0.82182,     0.82282,     0.82382,     0.82482,     0.82583,     0.82683,     0.82783,     0.82883,     0.82983,     0.83083,     0.83183,     0.83283,     0.83383,     0.83483,     0.83584,     0.83684,     0.83784,     0.83884,     0.83984,\n",
       "           0.84084,     0.84184,     0.84284,     0.84384,     0.84484,     0.84585,     0.84685,     0.84785,     0.84885,     0.84985,     0.85085,     0.85185,     0.85285,     0.85385,     0.85485,     0.85586,     0.85686,     0.85786,     0.85886,     0.85986,     0.86086,     0.86186,     0.86286,     0.86386,\n",
       "           0.86486,     0.86587,     0.86687,     0.86787,     0.86887,     0.86987,     0.87087,     0.87187,     0.87287,     0.87387,     0.87487,     0.87588,     0.87688,     0.87788,     0.87888,     0.87988,     0.88088,     0.88188,     0.88288,     0.88388,     0.88488,     0.88589,     0.88689,     0.88789,\n",
       "           0.88889,     0.88989,     0.89089,     0.89189,     0.89289,     0.89389,     0.89489,      0.8959,      0.8969,      0.8979,      0.8989,      0.8999,      0.9009,      0.9019,      0.9029,      0.9039,      0.9049,     0.90591,     0.90691,     0.90791,     0.90891,     0.90991,     0.91091,     0.91191,\n",
       "           0.91291,     0.91391,     0.91491,     0.91592,     0.91692,     0.91792,     0.91892,     0.91992,     0.92092,     0.92192,     0.92292,     0.92392,     0.92492,     0.92593,     0.92693,     0.92793,     0.92893,     0.92993,     0.93093,     0.93193,     0.93293,     0.93393,     0.93493,     0.93594,\n",
       "           0.93694,     0.93794,     0.93894,     0.93994,     0.94094,     0.94194,     0.94294,     0.94394,     0.94494,     0.94595,     0.94695,     0.94795,     0.94895,     0.94995,     0.95095,     0.95195,     0.95295,     0.95395,     0.95495,     0.95596,     0.95696,     0.95796,     0.95896,     0.95996,\n",
       "           0.96096,     0.96196,     0.96296,     0.96396,     0.96496,     0.96597,     0.96697,     0.96797,     0.96897,     0.96997,     0.97097,     0.97197,     0.97297,     0.97397,     0.97497,     0.97598,     0.97698,     0.97798,     0.97898,     0.97998,     0.98098,     0.98198,     0.98298,     0.98398,\n",
       "           0.98498,     0.98599,     0.98699,     0.98799,     0.98899,     0.98999,     0.99099,     0.99199,     0.99299,     0.99399,     0.99499,       0.996,       0.997,       0.998,       0.999,           1]), array([[    0.32143,     0.32143,     0.32143,     0.32143,     0.32143,     0.32143,     0.32143,     0.32143,     0.32143,     0.32143,     0.32143,     0.32143,     0.32143,     0.32143,     0.32143,     0.32143,     0.32143,     0.32143,     0.32143,     0.32143,     0.32143,     0.32143,     0.32143,\n",
       "            0.32143,     0.32143,     0.32143,     0.32143,     0.32143,     0.32143,     0.32143,     0.32143,     0.32143,     0.32143,     0.32143,     0.32143,     0.32143,     0.32143,     0.32143,     0.32143,     0.32143,     0.32143,     0.32143,     0.32143,     0.32143,     0.32143,     0.32143,\n",
       "            0.32143,     0.32143,     0.32143,     0.32143,     0.32143,     0.32143,     0.32143,     0.32143,     0.32143,     0.32143,     0.32143,     0.32143,     0.32143,     0.32143,     0.32143,     0.32143,     0.32143,     0.32143,     0.32143,     0.32143,     0.32143,     0.32143,     0.32143,\n",
       "            0.32143,     0.32143,     0.32143,     0.32143,     0.32143,     0.32143,     0.32143,     0.32143,     0.32143,     0.32143,     0.32143,     0.32143,     0.32143,     0.32143,     0.32143,     0.32143,     0.32143,     0.32143,     0.32143,     0.32143,     0.32143,     0.32143,     0.32143,\n",
       "            0.32143,     0.32143,     0.32143,     0.32143,     0.32143,     0.32143,     0.32143,     0.32143,     0.32143,     0.32143,     0.32143,     0.32143,     0.32143,     0.32143,     0.32143,     0.32143,     0.32143,     0.32143,     0.32143,     0.32143,     0.32143,     0.32143,     0.32143,\n",
       "            0.32143,     0.32143,     0.32143,     0.32143,     0.32143,     0.32143,     0.32143,     0.32143,     0.32143,     0.32143,     0.32143,     0.32143,     0.32143,     0.32143,     0.32143,     0.32143,     0.32143,     0.32143,     0.32143,     0.32143,     0.32143,     0.32143,     0.32143,\n",
       "            0.32143,     0.32143,     0.32143,     0.32143,     0.32143,     0.32143,     0.32143,     0.32143,     0.32143,     0.32143,     0.32143,     0.32143,     0.32143,     0.32143,     0.32143,     0.32143,     0.32143,     0.32143,     0.32143,     0.32143,     0.32143,     0.32143,     0.32143,\n",
       "            0.32143,     0.32143,     0.32143,     0.32143,     0.32143,     0.32143,     0.32143,     0.32143,     0.32143,     0.32143,     0.32143,     0.32143,     0.32143,     0.32143,     0.32143,     0.32143,     0.32143,     0.32143,     0.32143,     0.32143,     0.32143,     0.32143,     0.32143,\n",
       "            0.32143,     0.32143,     0.32143,     0.32143,     0.32143,     0.32143,     0.32143,     0.32143,     0.32143,     0.32143,     0.32143,     0.32143,     0.32143,     0.32143,     0.32143,     0.32143,     0.32143,     0.32143,     0.32143,     0.32143,     0.32143,     0.32143,     0.32143,\n",
       "            0.32143,     0.32143,     0.32143,     0.32143,     0.32143,     0.32143,     0.32143,     0.32143,     0.32143,     0.32143,     0.32143,     0.32143,     0.32143,     0.32143,     0.32143,     0.32143,     0.32143,     0.32143,     0.32143,     0.32143,     0.32143,     0.32143,     0.32143,\n",
       "            0.32143,     0.32143,     0.32143,     0.32143,     0.32143,     0.32143,     0.32143,     0.32143,     0.32143,     0.32143,     0.32143,     0.32143,     0.32143,     0.32143,     0.32143,     0.32143,     0.32143,     0.32143,     0.32143,     0.32143,     0.32143,     0.32143,     0.32143,\n",
       "            0.32143,     0.32143,     0.32143,     0.32143,     0.32143,     0.32143,     0.32143,     0.32143,     0.32143,     0.32143,     0.32143,     0.32143,     0.32143,     0.32143,     0.32143,     0.32143,     0.32143,     0.32143,     0.32143,     0.32143,     0.32143,     0.32143,     0.32143,\n",
       "            0.32143,     0.32143,     0.32143,     0.32143,     0.32143,     0.32143,     0.32143,     0.32143,     0.32143,     0.32143,     0.32143,     0.32143,     0.32143,     0.32143,     0.32143,     0.32143,     0.32143,     0.32143,     0.32143,     0.32143,     0.32143,     0.32143,     0.32143,\n",
       "            0.32143,     0.32143,     0.32143,     0.32143,     0.32143,     0.32143,     0.32143,     0.32143,     0.32143,     0.32143,     0.32143,     0.32143,     0.32143,     0.32143,     0.32143,     0.32143,     0.32143,     0.32143,     0.32143,     0.32143,     0.32143,     0.32143,     0.32143,\n",
       "            0.32143,     0.32143,     0.32143,     0.32143,     0.32143,     0.32143,     0.32143,     0.32143,     0.32143,     0.32143,     0.32143,     0.32143,     0.32143,     0.32143,     0.32143,     0.32143,     0.32143,     0.32143,     0.32143,     0.32143,     0.32143,     0.32143,     0.32143,\n",
       "            0.32143,     0.32143,     0.32143,     0.32143,     0.32143,     0.32143,     0.32143,     0.32143,     0.32143,     0.32143,     0.32143,     0.32143,     0.32143,     0.32143,     0.32143,     0.32143,     0.32143,     0.32143,     0.32143,     0.32143,     0.32143,     0.32143,     0.32143,\n",
       "            0.32143,     0.32143,     0.32143,     0.32143,     0.32143,     0.32143,     0.32143,     0.32143,     0.32143,     0.32143,     0.32143,     0.32143,     0.32143,     0.32143,     0.32143,     0.32143,     0.32143,     0.32143,     0.32143,     0.32143,     0.32143,     0.32143,     0.32143,\n",
       "            0.32143,     0.32143,     0.32143,     0.32143,     0.32143,     0.32143,     0.32143,     0.32143,     0.32143,     0.32143,     0.32143,     0.32143,     0.32143,     0.32143,     0.32143,     0.32143,     0.32143,     0.32143,     0.32143,     0.32143,     0.32143,     0.32143,     0.32143,\n",
       "            0.32143,     0.32143,     0.32143,     0.32143,     0.32143,     0.32143,     0.32143,     0.32143,     0.32143,     0.32143,     0.32143,     0.32143,     0.32143,     0.32143,     0.32143,     0.32143,     0.32143,     0.32143,     0.32143,     0.32143,     0.32143,     0.32143,     0.32143,\n",
       "            0.32143,     0.32143,     0.32143,     0.32143,     0.32143,     0.32143,     0.32143,     0.32143,     0.32143,     0.32143,     0.32143,     0.32143,     0.32143,     0.32143,     0.32143,     0.32143,     0.32143,     0.32143,     0.32143,     0.32143,     0.32143,     0.32143,     0.32143,\n",
       "            0.32143,     0.32143,     0.32143,     0.32143,     0.32143,     0.32143,     0.32143,     0.32143,     0.32143,     0.32143,     0.32143,     0.32143,     0.32143,     0.32143,     0.32143,     0.32143,     0.32143,     0.32143,     0.32143,     0.32143,     0.32143,     0.32143,     0.32143,\n",
       "            0.32143,     0.32143,     0.32143,     0.32143,     0.32143,     0.32143,     0.32143,     0.32143,     0.32143,     0.32143,     0.32143,     0.32143,     0.32143,     0.32143,     0.32143,     0.32143,     0.32143,     0.32143,     0.32143,     0.32143,     0.32143,     0.32143,     0.32143,\n",
       "            0.32143,     0.32143,     0.32143,     0.32143,     0.32143,     0.32143,     0.32143,     0.32143,     0.32143,     0.32143,     0.32143,     0.32143,     0.32143,     0.32143,     0.32143,     0.32143,     0.32143,     0.32143,     0.32143,     0.32143,     0.32143,     0.32143,     0.32143,\n",
       "            0.32143,     0.32143,     0.32143,     0.32143,     0.32143,     0.32143,     0.32143,     0.32143,     0.32143,     0.32143,     0.32143,     0.32143,     0.32143,     0.32143,     0.32143,     0.32143,     0.32143,     0.32143,     0.32143,     0.32143,     0.32143,     0.32143,     0.32143,\n",
       "            0.32143,     0.32143,     0.32143,     0.32143,     0.32143,     0.32143,     0.32143,     0.32143,     0.32143,     0.32143,     0.32143,     0.32143,     0.32143,     0.32143,     0.32143,     0.32143,     0.32143,     0.32143,     0.32143,     0.32102,     0.32053,     0.32005,     0.31957,\n",
       "            0.31908,      0.3186,     0.31812,     0.31763,     0.31715,     0.31666,     0.31618,      0.3157,     0.31521,     0.31473,     0.31424,     0.31376,     0.31328,     0.31279,     0.31231,     0.31182,     0.31134,     0.31086,     0.31037,     0.30989,     0.30941,     0.30892,     0.30844,\n",
       "            0.30795,     0.30747,     0.30699,      0.3065,     0.30602,     0.30553,     0.30505,     0.30457,     0.30408,      0.3036,     0.30311,     0.30263,     0.30215,     0.30166,     0.30118,      0.3007,     0.30021,     0.29973,     0.29924,     0.29876,     0.29828,     0.29779,     0.29731,\n",
       "            0.29682,     0.29634,     0.29586,     0.29537,     0.29489,      0.2944,     0.29392,     0.29344,     0.29295,     0.29247,     0.29199,      0.2915,     0.29102,     0.29053,     0.29005,     0.28957,     0.28908,      0.2886,     0.28811,     0.28763,     0.28715,     0.28666,     0.28618,\n",
       "            0.28571,     0.28571,     0.28571,     0.28571,     0.28571,     0.28571,     0.28571,     0.28571,     0.28571,     0.28571,     0.28571,     0.28571,     0.28571,     0.28571,     0.28571,     0.28571,     0.28571,     0.28571,     0.28571,     0.28571,     0.28571,     0.28571,     0.28571,\n",
       "            0.28571,     0.28571,     0.28571,     0.28571,     0.28571,     0.28571,     0.28571,     0.28571,     0.28571,     0.28571,     0.28571,     0.28571,     0.28571,     0.28571,     0.28571,     0.28571,     0.28571,     0.28571,     0.28571,     0.28571,     0.28571,     0.28571,     0.28571,\n",
       "            0.28571,     0.28571,     0.28571,     0.28571,     0.28571,     0.28571,     0.28571,     0.28571,     0.28571,     0.28571,     0.28571,     0.28571,     0.28571,     0.28571,     0.28571,     0.28571,     0.28571,     0.28571,     0.28571,     0.28571,     0.28571,     0.28571,     0.28571,\n",
       "            0.28571,     0.28571,     0.28571,     0.28571,     0.28571,     0.28571,     0.28571,     0.28571,     0.28571,     0.28571,     0.28571,     0.28571,     0.28571,     0.28571,     0.28571,     0.28571,     0.28571,     0.28571,     0.28571,     0.28571,     0.28571,     0.28571,     0.28571,\n",
       "            0.28571,     0.28571,     0.28571,     0.28571,     0.28571,     0.28571,     0.28571,     0.28571,     0.28571,     0.28571,     0.28571,     0.28571,     0.28571,     0.28571,     0.28571,     0.28571,     0.28571,     0.28571,     0.28571,     0.28571,     0.28571,     0.28571,     0.28571,\n",
       "            0.28571,     0.28571,     0.28571,     0.28571,     0.28571,     0.28571,     0.28571,     0.28571,     0.28571,     0.28571,     0.28571,     0.28571,     0.28571,     0.28571,     0.28571,     0.28571,     0.28571,     0.28571,     0.28571,     0.28571,     0.28571,     0.28571,     0.28571,\n",
       "            0.28571,     0.28571,     0.28571,     0.28571,     0.28571,     0.28571,     0.28571,     0.28571,     0.28571,     0.28571,     0.28571,     0.28571,     0.28571,     0.28571,     0.28571,     0.28571,     0.28571,     0.28571,     0.28571,     0.28571,     0.28571,      0.2847,     0.28311,\n",
       "            0.28153,     0.27995,     0.27836,     0.27678,     0.27519,     0.27361,     0.27202,     0.27044,     0.26885,     0.26727,     0.26569,      0.2641,     0.26252,     0.26093,     0.25935,     0.25776,     0.25618,     0.25459,     0.25301,     0.25142,        0.25,        0.25,        0.25,\n",
       "               0.25,        0.25,        0.25,        0.25,        0.25,        0.25,        0.25,        0.25,        0.25,        0.25,        0.25,        0.25,        0.25,        0.25,        0.25,        0.25,        0.25,        0.25,        0.25,        0.25,        0.25,        0.25,        0.25,\n",
       "               0.25,        0.25,        0.25,        0.25,        0.25,        0.25,        0.25,        0.25,        0.25,        0.25,        0.25,        0.25,        0.25,        0.25,        0.25,        0.25,        0.25,        0.25,        0.25,        0.25,        0.25,        0.25,        0.25,\n",
       "               0.25,        0.25,        0.25,        0.25,        0.25,        0.25,        0.25,        0.25,        0.25,        0.25,        0.25,        0.25,        0.25,        0.25,        0.25,        0.25,        0.25,        0.25,        0.25,        0.25,        0.25,        0.25,        0.25,\n",
       "               0.25,        0.25,        0.25,        0.25,        0.25,        0.25,        0.25,        0.25,        0.25,        0.25,        0.25,        0.25,        0.25,        0.25,        0.25,        0.25,        0.25,        0.25,        0.25,        0.25,        0.25,        0.25,        0.25,\n",
       "               0.25,        0.25,        0.25,        0.25,        0.25,        0.25,        0.25,        0.25,        0.25,        0.25,        0.25,        0.25,        0.25,        0.25,        0.25,        0.25,        0.25,        0.25,        0.25,        0.25,        0.25,        0.25,        0.25,\n",
       "               0.25,        0.25,     0.24874,     0.24607,     0.24339,     0.24071,     0.23803,     0.23535,     0.23267,     0.22999,     0.22732,     0.22464,     0.22196,     0.21928,      0.2166,     0.21044,     0.18206,     0.10714,     0.10714,     0.10714,     0.10714,     0.10714,     0.10714,\n",
       "            0.10714,     0.10714,     0.10714,     0.10714,     0.10714,     0.10714,     0.08596,    0.064942,    0.052157,    0.039371,    0.035714,    0.032383,    0.028922,    0.025461,       0.022,    0.018539,    0.015078,    0.011616,   0.0081554,   0.0046943,   0.0012333,           0,           0,\n",
       "                  0,           0,           0,           0,           0,           0,           0,           0,           0,           0,           0]]), 'Confidence', 'Recall']]\n",
       "fitness: np.float64(0.764776464279236)\n",
       "keys: ['metrics/precision(B)', 'metrics/recall(B)', 'metrics/mAP50(B)', 'metrics/mAP50-95(B)', 'metrics/precision(P)', 'metrics/recall(P)', 'metrics/mAP50(P)', 'metrics/mAP50-95(P)']\n",
       "maps: array([    0.72221,     0.72221])\n",
       "names: {0: 'standing person', 1: 'fall person'}\n",
       "plot: True\n",
       "pose: ultralytics.utils.metrics.Metric object\n",
       "results_dict: {'metrics/precision(B)': np.float64(0.930878608379802), 'metrics/recall(B)': np.float64(0.9620255357928429), 'metrics/mAP50(B)': np.float64(0.9704163162321278), 'metrics/mAP50-95(B)': np.float64(0.6781074860194567), 'metrics/precision(P)': np.float64(0.3884759754633116), 'metrics/recall(P)': np.float64(0.32142857142857145), 'metrics/mAP50(P)': np.float64(0.17750201896397283), 'metrics/mAP50-95(P)': np.float64(0.04409765926901652), 'fitness': np.float64(0.764776464279236)}\n",
       "save_dir: WindowsPath('c:/Users/User/Desktop/ML_projects/My_repo/runs/pose/train7')\n",
       "seg: ultralytics.utils.metrics.Metric object\n",
       "speed: {'preprocess': 0.9290370367967559, 'inference': 48.78581851867407, 'loss': 6.666663533973474e-05, 'postprocess': 11.1981481480783}\n",
       "task: 'pose'"
      ]
     },
     "execution_count": 41,
     "metadata": {},
     "output_type": "execute_result"
    }
   ],
   "source": [
    "model = YOLO(r\"./src/models/yolo11n-pose.pt\")\n",
    "model.train(data=r\"C:\\Users\\User\\Desktop\\Python_VS\\training_models_for_service\\src\\dataset\\data.yaml\", epochs=20, imgsz=640)"
   ]
  },
  {
   "cell_type": "code",
   "execution_count": 9,
   "id": "6b0dd2c5",
   "metadata": {},
   "outputs": [
    {
     "name": "stdout",
     "output_type": "stream",
     "text": [
      "JSONDict(\"C:\\Users\\User\\AppData\\Roaming\\Ultralytics\\settings.json\"):\n",
      "{\n",
      "  \"settings_version\": \"0.0.6\",\n",
      "  \"datasets_dir\": \"C:\\\\Users\\\\User\\\\Desktop\\\\Python_VS\\\\training_models_for_service\\\\src\\\\dataset\",\n",
      "  \"weights_dir\": \"C:\\\\Users\\\\User\\\\Desktop\\\\YOLO_model_training\\\\weights\",\n",
      "  \"runs_dir\": \"C:\\\\Users\\\\User\\\\Desktop\\\\YOLO_model_training\\\\runs\\\\train\",\n",
      "  \"uuid\": \"52022d4f5754dfab7712393ba227cb2bdf6c10ea245774b9ceb14663ae5f5ebf\",\n",
      "  \"sync\": true,\n",
      "  \"api_key\": \"\",\n",
      "  \"openai_api_key\": \"\",\n",
      "  \"clearml\": true,\n",
      "  \"comet\": true,\n",
      "  \"dvc\": true,\n",
      "  \"hub\": true,\n",
      "  \"mlflow\": true,\n",
      "  \"neptune\": true,\n",
      "  \"raytune\": true,\n",
      "  \"tensorboard\": true,\n",
      "  \"wandb\": true,\n",
      "  \"vscode_msg\": true\n",
      "}\n"
     ]
    }
   ],
   "source": [
    "from ultralytics import settings\n",
    "print(settings)  # Check the project name"
   ]
  },
  {
   "cell_type": "code",
   "execution_count": 8,
   "id": "9e135155",
   "metadata": {},
   "outputs": [],
   "source": [
    "settings.update({\n",
    "    'datasets_dir': r\"C:\\Users\\User\\Desktop\\Python_VS\\training_models_for_service\\src\\dataset\",\n",
    "    \"weights_dir\": r\"C:\\Users\\User\\Desktop\\YOLO_model_training\\weights\",\n",
    "    # Set your project name here\n",
    "    'runs_dir': r\"C:\\Users\\User\\Desktop\\YOLO_model_training\\runs\\train\",\n",
    "\n",
    "    'wandb': True  # Set your run name here\n",
    "})"
   ]
  },
  {
   "cell_type": "code",
   "execution_count": 10,
   "id": "cab92b90",
   "metadata": {},
   "outputs": [
    {
     "data": {
      "text/plain": [
       "True"
      ]
     },
     "execution_count": 10,
     "metadata": {},
     "output_type": "execute_result"
    }
   ],
   "source": [
    "torch.cuda.is_available()  # Check if CUDA is available"
   ]
  },
  {
   "cell_type": "code",
   "execution_count": 14,
   "id": "abb65135",
   "metadata": {},
   "outputs": [],
   "source": [
    "model = YOLO(r\"models\\yolo11n-pose.pt\")"
   ]
  },
  {
   "cell_type": "code",
   "execution_count": 15,
   "id": "e7d1b74f",
   "metadata": {},
   "outputs": [
    {
     "name": "stdout",
     "output_type": "stream",
     "text": [
      "Ultralytics 8.3.107  Python-3.12.1 torch-2.6.0+cu124 CUDA:0 (NVIDIA GeForce RTX 3050 Laptop GPU, 4096MiB)\n",
      "\u001b[34m\u001b[1mengine\\trainer: \u001b[0mtask=pose, mode=train, model=models\\yolo11n-pose.pt, data=.\\dataset\\data.yaml, epochs=20, time=None, patience=100, batch=16, imgsz=640, save=True, save_period=-1, cache=False, device=cuda, workers=8, project=None, name=train, exist_ok=False, pretrained=True, optimizer=auto, verbose=True, seed=0, deterministic=True, single_cls=False, rect=False, cos_lr=False, close_mosaic=10, resume=False, amp=True, fraction=1.0, profile=False, freeze=None, multi_scale=False, overlap_mask=True, mask_ratio=4, dropout=0.0, val=True, split=val, save_json=False, conf=None, iou=0.7, max_det=300, half=False, dnn=False, plots=True, source=None, vid_stride=1, stream_buffer=False, visualize=False, augment=False, agnostic_nms=False, classes=None, retina_masks=False, embed=None, show=False, save_frames=False, save_txt=False, save_conf=False, save_crop=False, show_labels=True, show_conf=True, show_boxes=True, line_width=None, format=torchscript, keras=False, optimize=False, int8=False, dynamic=False, simplify=True, opset=None, workspace=None, nms=False, lr0=0.01, lrf=0.01, momentum=0.937, weight_decay=0.0005, warmup_epochs=3.0, warmup_momentum=0.8, warmup_bias_lr=0.1, box=7.5, cls=0.5, dfl=1.5, pose=12.0, kobj=1.0, nbs=64, hsv_h=0.015, hsv_s=0.7, hsv_v=0.4, degrees=0.0, translate=0.1, scale=0.5, shear=0.0, perspective=0.0, flipud=0.0, fliplr=0.5, bgr=0.0, mosaic=1.0, mixup=0.0, copy_paste=0.0, copy_paste_mode=flip, auto_augment=randaugment, erasing=0.4, crop_fraction=1.0, cfg=None, tracker=botsort.yaml, save_dir=dataset\\runs\\train\\pose\\train\n",
      "Overriding model.yaml nc=80 with nc=2\n",
      "\n",
      "                   from  n    params  module                                       arguments                     \n",
      "  0                  -1  1       464  ultralytics.nn.modules.conv.Conv             [3, 16, 3, 2]                 \n",
      "  1                  -1  1      4672  ultralytics.nn.modules.conv.Conv             [16, 32, 3, 2]                \n",
      "  2                  -1  1      6640  ultralytics.nn.modules.block.C3k2            [32, 64, 1, False, 0.25]      \n",
      "  3                  -1  1     36992  ultralytics.nn.modules.conv.Conv             [64, 64, 3, 2]                \n",
      "  4                  -1  1     26080  ultralytics.nn.modules.block.C3k2            [64, 128, 1, False, 0.25]     \n",
      "  5                  -1  1    147712  ultralytics.nn.modules.conv.Conv             [128, 128, 3, 2]              \n",
      "  6                  -1  1     87040  ultralytics.nn.modules.block.C3k2            [128, 128, 1, True]           \n",
      "  7                  -1  1    295424  ultralytics.nn.modules.conv.Conv             [128, 256, 3, 2]              \n",
      "  8                  -1  1    346112  ultralytics.nn.modules.block.C3k2            [256, 256, 1, True]           \n",
      "  9                  -1  1    164608  ultralytics.nn.modules.block.SPPF            [256, 256, 5]                 \n",
      " 10                  -1  1    249728  ultralytics.nn.modules.block.C2PSA           [256, 256, 1]                 \n",
      " 11                  -1  1         0  torch.nn.modules.upsampling.Upsample         [None, 2, 'nearest']          \n",
      " 12             [-1, 6]  1         0  ultralytics.nn.modules.conv.Concat           [1]                           \n",
      " 13                  -1  1    111296  ultralytics.nn.modules.block.C3k2            [384, 128, 1, False]          \n",
      " 14                  -1  1         0  torch.nn.modules.upsampling.Upsample         [None, 2, 'nearest']          \n",
      " 15             [-1, 4]  1         0  ultralytics.nn.modules.conv.Concat           [1]                           \n",
      " 16                  -1  1     32096  ultralytics.nn.modules.block.C3k2            [256, 64, 1, False]           \n",
      " 17                  -1  1     36992  ultralytics.nn.modules.conv.Conv             [64, 64, 3, 2]                \n",
      " 18            [-1, 13]  1         0  ultralytics.nn.modules.conv.Concat           [1]                           \n",
      " 19                  -1  1     86720  ultralytics.nn.modules.block.C3k2            [192, 128, 1, False]          \n",
      " 20                  -1  1    147712  ultralytics.nn.modules.conv.Conv             [128, 128, 3, 2]              \n",
      " 21            [-1, 10]  1         0  ultralytics.nn.modules.conv.Concat           [1]                           \n",
      " 22                  -1  1    378880  ultralytics.nn.modules.block.C3k2            [384, 256, 1, True]           \n",
      " 23        [16, 19, 22]  1    715489  ultralytics.nn.modules.head.Pose             [2, [17, 3], [64, 128, 256]]  \n",
      "YOLO11n-pose summary: 196 layers, 2,874,657 parameters, 2,874,641 gradients, 7.5 GFLOPs\n",
      "\n",
      "Transferred 535/541 items from pretrained weights\n"
     ]
    },
    {
     "data": {
      "text/html": [
       "creating run (0.2s)"
      ],
      "text/plain": [
       "<IPython.core.display.HTML object>"
      ]
     },
     "metadata": {},
     "output_type": "display_data"
    },
    {
     "data": {
      "text/html": [
       "Tracking run with wandb version 0.19.9"
      ],
      "text/plain": [
       "<IPython.core.display.HTML object>"
      ]
     },
     "metadata": {},
     "output_type": "display_data"
    },
    {
     "data": {
      "text/html": [
       "Run data is saved locally in <code>c:\\Users\\User\\Desktop\\Python_VS\\training_models_for_service\\src\\wandb\\run-20250413_103815-silyhu0y</code>"
      ],
      "text/plain": [
       "<IPython.core.display.HTML object>"
      ]
     },
     "metadata": {},
     "output_type": "display_data"
    },
    {
     "data": {
      "text/html": [
       "Syncing run <strong><a href='https://wandb.ai/lalka00pq-/Ultralytics/runs/silyhu0y' target=\"_blank\">train</a></strong> to <a href='https://wandb.ai/lalka00pq-/Ultralytics' target=\"_blank\">Weights & Biases</a> (<a href='https://wandb.me/developer-guide' target=\"_blank\">docs</a>)<br>"
      ],
      "text/plain": [
       "<IPython.core.display.HTML object>"
      ]
     },
     "metadata": {},
     "output_type": "display_data"
    },
    {
     "data": {
      "text/html": [
       " View project at <a href='https://wandb.ai/lalka00pq-/Ultralytics' target=\"_blank\">https://wandb.ai/lalka00pq-/Ultralytics</a>"
      ],
      "text/plain": [
       "<IPython.core.display.HTML object>"
      ]
     },
     "metadata": {},
     "output_type": "display_data"
    },
    {
     "data": {
      "text/html": [
       " View run at <a href='https://wandb.ai/lalka00pq-/Ultralytics/runs/silyhu0y' target=\"_blank\">https://wandb.ai/lalka00pq-/Ultralytics/runs/silyhu0y</a>"
      ],
      "text/plain": [
       "<IPython.core.display.HTML object>"
      ]
     },
     "metadata": {},
     "output_type": "display_data"
    },
    {
     "name": "stdout",
     "output_type": "stream",
     "text": [
      "Freezing layer 'model.23.dfl.conv.weight'\n",
      "\u001b[34m\u001b[1mAMP: \u001b[0mrunning Automatic Mixed Precision (AMP) checks...\n",
      "Downloading https://github.com/ultralytics/assets/releases/download/v8.3.0/yolo11n.pt to 'yolo11n.pt'...\n"
     ]
    },
    {
     "name": "stderr",
     "output_type": "stream",
     "text": [
      "100%|██████████| 5.35M/5.35M [00:25<00:00, 217kB/s]\n"
     ]
    },
    {
     "name": "stdout",
     "output_type": "stream",
     "text": [
      "\u001b[34m\u001b[1mAMP: \u001b[0mchecks passed \n"
     ]
    },
    {
     "name": "stderr",
     "output_type": "stream",
     "text": [
      "\u001b[34m\u001b[1mtrain: \u001b[0mScanning C:\\Users\\User\\Desktop\\Python_VS\\training_models_for_service\\src\\dataset\\train.cache... 80 images, 0 backgrounds, 0 corrupt: 100%|██████████| 80/80 [00:00<?, ?it/s]"
     ]
    },
    {
     "name": "stdout",
     "output_type": "stream",
     "text": [
      "WARNING  No 'flip_idx' array defined in data.yaml, setting augmentation 'fliplr=0.0'\n"
     ]
    },
    {
     "name": "stderr",
     "output_type": "stream",
     "text": [
      "\n",
      "\u001b[34m\u001b[1mval: \u001b[0mScanning C:\\Users\\User\\Desktop\\Python_VS\\training_models_for_service\\src\\dataset\\test.cache... 28 images, 0 backgrounds, 1 corrupt: 100%|██████████| 28/28 [00:00<?, ?it/s]"
     ]
    },
    {
     "name": "stdout",
     "output_type": "stream",
     "text": [
      "\u001b[34m\u001b[1mval: \u001b[0mWARNING  C:\\Users\\User\\Desktop\\Python_VS\\training_models_for_service\\src\\dataset\\test\\frame_01_08.jpg: ignoring corrupt image/label: negative label values [-0.001625 -0.008333 -0.006562 -0.005083 -0.000792]\n"
     ]
    },
    {
     "name": "stderr",
     "output_type": "stream",
     "text": [
      "\n"
     ]
    },
    {
     "name": "stdout",
     "output_type": "stream",
     "text": [
      "Plotting labels to dataset\\runs\\train\\pose\\train\\labels.jpg... \n",
      "\u001b[34m\u001b[1moptimizer:\u001b[0m 'optimizer=auto' found, ignoring 'lr0=0.01' and 'momentum=0.937' and determining best 'optimizer', 'lr0' and 'momentum' automatically... \n",
      "\u001b[34m\u001b[1moptimizer:\u001b[0m AdamW(lr=0.001667, momentum=0.9) with parameter groups 87 weight(decay=0.0), 97 weight(decay=0.0005), 96 bias(decay=0.0)\n",
      "Image sizes 640 train, 640 val\n",
      "Using 8 dataloader workers\n",
      "Logging results to \u001b[1mdataset\\runs\\train\\pose\\train\u001b[0m\n",
      "Starting training for 20 epochs...\n",
      "\n",
      "      Epoch    GPU_mem   box_loss  pose_loss  kobj_loss   cls_loss   dfl_loss  Instances       Size\n"
     ]
    },
    {
     "name": "stderr",
     "output_type": "stream",
     "text": [
      "       1/20      2.38G      2.223      7.395     0.7591      4.255      1.999         37        640: 100%|██████████| 5/5 [00:08<00:00,  1.66s/it]\n",
      "                 Class     Images  Instances      Box(P          R      mAP50  mAP50-95)     Pose(P          R      mAP50  mAP50-95): 100%|██████████| 1/1 [00:00<00:00,  2.21it/s]"
     ]
    },
    {
     "name": "stdout",
     "output_type": "stream",
     "text": [
      "                   all         27         28    0.00796      0.929      0.389       0.14    0.00337      0.393      0.137      0.034\n"
     ]
    },
    {
     "name": "stderr",
     "output_type": "stream",
     "text": [
      "\n"
     ]
    },
    {
     "name": "stdout",
     "output_type": "stream",
     "text": [
      "\n",
      "      Epoch    GPU_mem   box_loss  pose_loss  kobj_loss   cls_loss   dfl_loss  Instances       Size\n"
     ]
    },
    {
     "name": "stderr",
     "output_type": "stream",
     "text": [
      "       2/20       2.4G      2.092      7.331     0.6341      4.047      1.876         34        640: 100%|██████████| 5/5 [00:01<00:00,  3.14it/s]\n",
      "                 Class     Images  Instances      Box(P          R      mAP50  mAP50-95)     Pose(P          R      mAP50  mAP50-95): 100%|██████████| 1/1 [00:00<00:00,  2.81it/s]"
     ]
    },
    {
     "name": "stdout",
     "output_type": "stream",
     "text": [
      "                   all         27         28      0.667      0.572      0.685      0.343      0.419      0.214       0.18     0.0486\n"
     ]
    },
    {
     "name": "stderr",
     "output_type": "stream",
     "text": [
      "\n"
     ]
    },
    {
     "name": "stdout",
     "output_type": "stream",
     "text": [
      "\n",
      "      Epoch    GPU_mem   box_loss  pose_loss  kobj_loss   cls_loss   dfl_loss  Instances       Size\n"
     ]
    },
    {
     "name": "stderr",
     "output_type": "stream",
     "text": [
      "       3/20      2.41G      1.472      5.886     0.3827      3.022      1.386         32        640: 100%|██████████| 5/5 [00:01<00:00,  3.35it/s]\n",
      "                 Class     Images  Instances      Box(P          R      mAP50  mAP50-95)     Pose(P          R      mAP50  mAP50-95): 100%|██████████| 1/1 [00:00<00:00,  2.98it/s]"
     ]
    },
    {
     "name": "stdout",
     "output_type": "stream",
     "text": [
      "                   all         27         28      0.769      0.786      0.824       0.49      0.192      0.286       0.07     0.0164\n"
     ]
    },
    {
     "name": "stderr",
     "output_type": "stream",
     "text": [
      "\n"
     ]
    },
    {
     "name": "stdout",
     "output_type": "stream",
     "text": [
      "\n",
      "      Epoch    GPU_mem   box_loss  pose_loss  kobj_loss   cls_loss   dfl_loss  Instances       Size\n"
     ]
    },
    {
     "name": "stderr",
     "output_type": "stream",
     "text": [
      "       4/20      2.43G      1.285       5.69     0.3141        2.4      1.248         27        640: 100%|██████████| 5/5 [00:01<00:00,  3.78it/s]\n",
      "                 Class     Images  Instances      Box(P          R      mAP50  mAP50-95)     Pose(P          R      mAP50  mAP50-95): 100%|██████████| 1/1 [00:00<00:00,  3.02it/s]"
     ]
    },
    {
     "name": "stdout",
     "output_type": "stream",
     "text": [
      "                   all         27         28      0.949      0.821      0.885      0.536      0.268      0.214      0.104     0.0196\n"
     ]
    },
    {
     "name": "stderr",
     "output_type": "stream",
     "text": [
      "\n"
     ]
    },
    {
     "name": "stdout",
     "output_type": "stream",
     "text": [
      "\n",
      "      Epoch    GPU_mem   box_loss  pose_loss  kobj_loss   cls_loss   dfl_loss  Instances       Size\n"
     ]
    },
    {
     "name": "stderr",
     "output_type": "stream",
     "text": [
      "       5/20      2.44G      1.215      4.949     0.2997      2.239      1.211         33        640: 100%|██████████| 5/5 [00:01<00:00,  3.76it/s]\n",
      "                 Class     Images  Instances      Box(P          R      mAP50  mAP50-95)     Pose(P          R      mAP50  mAP50-95): 100%|██████████| 1/1 [00:00<00:00,  2.98it/s]"
     ]
    },
    {
     "name": "stdout",
     "output_type": "stream",
     "text": [
      "                   all         27         28      0.926       0.89      0.894        0.6      0.317       0.25      0.103     0.0222\n"
     ]
    },
    {
     "name": "stderr",
     "output_type": "stream",
     "text": [
      "\n"
     ]
    },
    {
     "name": "stdout",
     "output_type": "stream",
     "text": [
      "\n",
      "      Epoch    GPU_mem   box_loss  pose_loss  kobj_loss   cls_loss   dfl_loss  Instances       Size\n"
     ]
    },
    {
     "name": "stderr",
     "output_type": "stream",
     "text": [
      "       6/20      2.46G      1.101      5.204     0.3115      2.105      1.139         35        640: 100%|██████████| 5/5 [00:01<00:00,  4.08it/s]\n",
      "                 Class     Images  Instances      Box(P          R      mAP50  mAP50-95)     Pose(P          R      mAP50  mAP50-95): 100%|██████████| 1/1 [00:00<00:00,  3.01it/s]"
     ]
    },
    {
     "name": "stdout",
     "output_type": "stream",
     "text": [
      "                   all         27         28      0.957      0.893      0.898      0.596      0.241      0.179     0.0611     0.0174\n"
     ]
    },
    {
     "name": "stderr",
     "output_type": "stream",
     "text": [
      "\n"
     ]
    },
    {
     "name": "stdout",
     "output_type": "stream",
     "text": [
      "\n",
      "      Epoch    GPU_mem   box_loss  pose_loss  kobj_loss   cls_loss   dfl_loss  Instances       Size\n"
     ]
    },
    {
     "name": "stderr",
     "output_type": "stream",
     "text": [
      "       7/20      2.47G      1.077      4.839     0.2833      1.877      1.122         34        640: 100%|██████████| 5/5 [00:01<00:00,  3.83it/s]\n",
      "                 Class     Images  Instances      Box(P          R      mAP50  mAP50-95)     Pose(P          R      mAP50  mAP50-95): 100%|██████████| 1/1 [00:00<00:00,  3.16it/s]"
     ]
    },
    {
     "name": "stdout",
     "output_type": "stream",
     "text": [
      "                   all         27         28      0.957      0.893      0.894      0.618      0.276       0.25     0.0813     0.0163\n"
     ]
    },
    {
     "name": "stderr",
     "output_type": "stream",
     "text": [
      "\n"
     ]
    },
    {
     "name": "stdout",
     "output_type": "stream",
     "text": [
      "\n",
      "      Epoch    GPU_mem   box_loss  pose_loss  kobj_loss   cls_loss   dfl_loss  Instances       Size\n"
     ]
    },
    {
     "name": "stderr",
     "output_type": "stream",
     "text": [
      "       8/20      2.47G      1.032      4.799     0.3149      1.796      1.152         30        640: 100%|██████████| 5/5 [00:01<00:00,  4.00it/s]\n",
      "                 Class     Images  Instances      Box(P          R      mAP50  mAP50-95)     Pose(P          R      mAP50  mAP50-95): 100%|██████████| 1/1 [00:00<00:00,  3.08it/s]"
     ]
    },
    {
     "name": "stdout",
     "output_type": "stream",
     "text": [
      "                   all         27         28      0.998      0.893      0.913      0.587      0.247      0.214     0.0813     0.0193\n"
     ]
    },
    {
     "name": "stderr",
     "output_type": "stream",
     "text": [
      "\n"
     ]
    },
    {
     "name": "stdout",
     "output_type": "stream",
     "text": [
      "\n",
      "      Epoch    GPU_mem   box_loss  pose_loss  kobj_loss   cls_loss   dfl_loss  Instances       Size\n"
     ]
    },
    {
     "name": "stderr",
     "output_type": "stream",
     "text": [
      "       9/20      2.47G      1.049      4.703     0.2844       1.63      1.109         48        640: 100%|██████████| 5/5 [00:01<00:00,  3.80it/s]\n",
      "                 Class     Images  Instances      Box(P          R      mAP50  mAP50-95)     Pose(P          R      mAP50  mAP50-95): 100%|██████████| 1/1 [00:00<00:00,  3.04it/s]"
     ]
    },
    {
     "name": "stdout",
     "output_type": "stream",
     "text": [
      "                   all         27         28          1      0.926      0.926      0.571      0.362       0.25       0.17     0.0416\n"
     ]
    },
    {
     "name": "stderr",
     "output_type": "stream",
     "text": [
      "\n"
     ]
    },
    {
     "name": "stdout",
     "output_type": "stream",
     "text": [
      "\n",
      "      Epoch    GPU_mem   box_loss  pose_loss  kobj_loss   cls_loss   dfl_loss  Instances       Size\n"
     ]
    },
    {
     "name": "stderr",
     "output_type": "stream",
     "text": [
      "      10/20      2.49G      1.098      4.203     0.2267       1.61      1.094         30        640: 100%|██████████| 5/5 [00:01<00:00,  3.89it/s]\n",
      "                 Class     Images  Instances      Box(P          R      mAP50  mAP50-95)     Pose(P          R      mAP50  mAP50-95): 100%|██████████| 1/1 [00:00<00:00,  3.05it/s]"
     ]
    },
    {
     "name": "stdout",
     "output_type": "stream",
     "text": [
      "                   all         27         28      0.997      0.929      0.926      0.597       0.23      0.214      0.112     0.0208\n"
     ]
    },
    {
     "name": "stderr",
     "output_type": "stream",
     "text": [
      "\n"
     ]
    },
    {
     "name": "stdout",
     "output_type": "stream",
     "text": [
      "Closing dataloader mosaic\n",
      "\n",
      "      Epoch    GPU_mem   box_loss  pose_loss  kobj_loss   cls_loss   dfl_loss  Instances       Size\n"
     ]
    },
    {
     "name": "stderr",
     "output_type": "stream",
     "text": [
      "      11/20      2.51G     0.8423      3.599     0.1313      1.755      1.044         21        640: 100%|██████████| 5/5 [00:08<00:00,  1.79s/it]\n",
      "                 Class     Images  Instances      Box(P          R      mAP50  mAP50-95)     Pose(P          R      mAP50  mAP50-95): 100%|██████████| 1/1 [00:00<00:00,  3.02it/s]"
     ]
    },
    {
     "name": "stdout",
     "output_type": "stream",
     "text": [
      "                   all         27         28      0.982      0.929      0.944      0.613      0.355      0.353      0.175     0.0439\n"
     ]
    },
    {
     "name": "stderr",
     "output_type": "stream",
     "text": [
      "\n"
     ]
    },
    {
     "name": "stdout",
     "output_type": "stream",
     "text": [
      "\n",
      "      Epoch    GPU_mem   box_loss  pose_loss  kobj_loss   cls_loss   dfl_loss  Instances       Size\n"
     ]
    },
    {
     "name": "stderr",
     "output_type": "stream",
     "text": [
      "      12/20      2.51G     0.9074      3.667     0.1556      1.837      1.077         17        640: 100%|██████████| 5/5 [00:01<00:00,  3.89it/s]\n",
      "                 Class     Images  Instances      Box(P          R      mAP50  mAP50-95)     Pose(P          R      mAP50  mAP50-95): 100%|██████████| 1/1 [00:00<00:00,  3.16it/s]"
     ]
    },
    {
     "name": "stdout",
     "output_type": "stream",
     "text": [
      "                   all         27         28      0.995      0.929      0.958      0.619      0.458      0.393      0.214     0.0402\n"
     ]
    },
    {
     "name": "stderr",
     "output_type": "stream",
     "text": [
      "\n"
     ]
    },
    {
     "name": "stdout",
     "output_type": "stream",
     "text": [
      "\n",
      "      Epoch    GPU_mem   box_loss  pose_loss  kobj_loss   cls_loss   dfl_loss  Instances       Size\n"
     ]
    },
    {
     "name": "stderr",
     "output_type": "stream",
     "text": [
      "      13/20      2.51G     0.8372      3.386      0.127      1.863      1.051         17        640: 100%|██████████| 5/5 [00:01<00:00,  4.30it/s]\n",
      "                 Class     Images  Instances      Box(P          R      mAP50  mAP50-95)     Pose(P          R      mAP50  mAP50-95): 100%|██████████| 1/1 [00:00<00:00,  2.78it/s]"
     ]
    },
    {
     "name": "stdout",
     "output_type": "stream",
     "text": [
      "                   all         27         28      0.995      0.929      0.958      0.623      0.449      0.393      0.222     0.0407\n"
     ]
    },
    {
     "name": "stderr",
     "output_type": "stream",
     "text": [
      "\n"
     ]
    },
    {
     "name": "stdout",
     "output_type": "stream",
     "text": [
      "\n",
      "      Epoch    GPU_mem   box_loss  pose_loss  kobj_loss   cls_loss   dfl_loss  Instances       Size\n"
     ]
    },
    {
     "name": "stderr",
     "output_type": "stream",
     "text": [
      "      14/20      2.51G     0.8442      3.279     0.1292      1.766      1.028         17        640: 100%|██████████| 5/5 [00:01<00:00,  4.00it/s]\n",
      "                 Class     Images  Instances      Box(P          R      mAP50  mAP50-95)     Pose(P          R      mAP50  mAP50-95): 100%|██████████| 1/1 [00:00<00:00,  3.14it/s]"
     ]
    },
    {
     "name": "stdout",
     "output_type": "stream",
     "text": [
      "                   all         27         28      0.994      0.929      0.959      0.624      0.378      0.286      0.117     0.0179\n"
     ]
    },
    {
     "name": "stderr",
     "output_type": "stream",
     "text": [
      "\n"
     ]
    },
    {
     "name": "stdout",
     "output_type": "stream",
     "text": [
      "\n",
      "      Epoch    GPU_mem   box_loss  pose_loss  kobj_loss   cls_loss   dfl_loss  Instances       Size\n"
     ]
    },
    {
     "name": "stderr",
     "output_type": "stream",
     "text": [
      "      15/20      2.51G     0.7979      2.918    0.09615      1.533      1.013         19        640: 100%|██████████| 5/5 [00:01<00:00,  3.94it/s]\n",
      "                 Class     Images  Instances      Box(P          R      mAP50  mAP50-95)     Pose(P          R      mAP50  mAP50-95): 100%|██████████| 1/1 [00:00<00:00,  3.18it/s]"
     ]
    },
    {
     "name": "stdout",
     "output_type": "stream",
     "text": [
      "                   all         27         28      0.999      0.893      0.917       0.63       0.38      0.286      0.136     0.0223\n"
     ]
    },
    {
     "name": "stderr",
     "output_type": "stream",
     "text": [
      "\n"
     ]
    },
    {
     "name": "stdout",
     "output_type": "stream",
     "text": [
      "\n",
      "      Epoch    GPU_mem   box_loss  pose_loss  kobj_loss   cls_loss   dfl_loss  Instances       Size\n"
     ]
    },
    {
     "name": "stderr",
     "output_type": "stream",
     "text": [
      "      16/20      2.51G     0.7578      2.914     0.1048      1.444     0.9939         15        640: 100%|██████████| 5/5 [00:01<00:00,  4.24it/s]\n",
      "                 Class     Images  Instances      Box(P          R      mAP50  mAP50-95)     Pose(P          R      mAP50  mAP50-95): 100%|██████████| 1/1 [00:00<00:00,  3.13it/s]"
     ]
    },
    {
     "name": "stdout",
     "output_type": "stream",
     "text": [
      "                   all         27         28          1      0.893      0.918      0.612       0.38      0.286      0.141     0.0297\n"
     ]
    },
    {
     "name": "stderr",
     "output_type": "stream",
     "text": [
      "\n"
     ]
    },
    {
     "name": "stdout",
     "output_type": "stream",
     "text": [
      "\n",
      "      Epoch    GPU_mem   box_loss  pose_loss  kobj_loss   cls_loss   dfl_loss  Instances       Size\n"
     ]
    },
    {
     "name": "stderr",
     "output_type": "stream",
     "text": [
      "      17/20      2.51G     0.7313      2.792     0.1066      1.413     0.9942         18        640: 100%|██████████| 5/5 [00:01<00:00,  4.01it/s]\n",
      "                 Class     Images  Instances      Box(P          R      mAP50  mAP50-95)     Pose(P          R      mAP50  mAP50-95): 100%|██████████| 1/1 [00:00<00:00,  3.08it/s]"
     ]
    },
    {
     "name": "stdout",
     "output_type": "stream",
     "text": [
      "                   all         27         28          1      0.892      0.918      0.646       0.38      0.286      0.135     0.0348\n"
     ]
    },
    {
     "name": "stderr",
     "output_type": "stream",
     "text": [
      "\n"
     ]
    },
    {
     "name": "stdout",
     "output_type": "stream",
     "text": [
      "\n",
      "      Epoch    GPU_mem   box_loss  pose_loss  kobj_loss   cls_loss   dfl_loss  Instances       Size\n"
     ]
    },
    {
     "name": "stderr",
     "output_type": "stream",
     "text": [
      "      18/20      2.51G     0.7091      2.703    0.08853       1.32      1.001         23        640: 100%|██████████| 5/5 [00:01<00:00,  4.09it/s]\n",
      "                 Class     Images  Instances      Box(P          R      mAP50  mAP50-95)     Pose(P          R      mAP50  mAP50-95): 100%|██████████| 1/1 [00:00<00:00,  2.96it/s]"
     ]
    },
    {
     "name": "stdout",
     "output_type": "stream",
     "text": [
      "                   all         27         28      0.962      0.892      0.894      0.667      0.403      0.286      0.133     0.0358\n"
     ]
    },
    {
     "name": "stderr",
     "output_type": "stream",
     "text": [
      "\n"
     ]
    },
    {
     "name": "stdout",
     "output_type": "stream",
     "text": [
      "\n",
      "      Epoch    GPU_mem   box_loss  pose_loss  kobj_loss   cls_loss   dfl_loss  Instances       Size\n"
     ]
    },
    {
     "name": "stderr",
     "output_type": "stream",
     "text": [
      "      19/20      2.51G     0.6843      2.628    0.09911      1.364     0.9592         16        640: 100%|██████████| 5/5 [00:01<00:00,  4.16it/s]\n",
      "                 Class     Images  Instances      Box(P          R      mAP50  mAP50-95)     Pose(P          R      mAP50  mAP50-95): 100%|██████████| 1/1 [00:00<00:00,  3.08it/s]"
     ]
    },
    {
     "name": "stdout",
     "output_type": "stream",
     "text": [
      "                   all         27         28      0.962      0.893       0.92      0.674      0.409      0.286      0.133     0.0396\n"
     ]
    },
    {
     "name": "stderr",
     "output_type": "stream",
     "text": [
      "\n"
     ]
    },
    {
     "name": "stdout",
     "output_type": "stream",
     "text": [
      "\n",
      "      Epoch    GPU_mem   box_loss  pose_loss  kobj_loss   cls_loss   dfl_loss  Instances       Size\n"
     ]
    },
    {
     "name": "stderr",
     "output_type": "stream",
     "text": [
      "      20/20      2.51G     0.7111      2.506    0.09318      1.377     0.9548         17        640: 100%|██████████| 5/5 [00:01<00:00,  3.95it/s]\n",
      "                 Class     Images  Instances      Box(P          R      mAP50  mAP50-95)     Pose(P          R      mAP50  mAP50-95): 100%|██████████| 1/1 [00:00<00:00,  3.04it/s]"
     ]
    },
    {
     "name": "stdout",
     "output_type": "stream",
     "text": [
      "                   all         27         28      0.961      0.893       0.92      0.658      0.423      0.286      0.133      0.037\n"
     ]
    },
    {
     "name": "stderr",
     "output_type": "stream",
     "text": [
      "\n"
     ]
    },
    {
     "name": "stdout",
     "output_type": "stream",
     "text": [
      "\n",
      "20 epochs completed in 0.017 hours.\n",
      "Optimizer stripped from dataset\\runs\\train\\pose\\train\\weights\\last.pt, 6.0MB\n",
      "Optimizer stripped from dataset\\runs\\train\\pose\\train\\weights\\best.pt, 6.0MB\n",
      "\n",
      "Validating dataset\\runs\\train\\pose\\train\\weights\\best.pt...\n",
      "Ultralytics 8.3.107  Python-3.12.1 torch-2.6.0+cu124 CUDA:0 (NVIDIA GeForce RTX 3050 Laptop GPU, 4096MiB)\n",
      "YOLO11n-pose summary (fused): 109 layers, 2,866,663 parameters, 0 gradients, 7.4 GFLOPs\n"
     ]
    },
    {
     "name": "stderr",
     "output_type": "stream",
     "text": [
      "                 Class     Images  Instances      Box(P          R      mAP50  mAP50-95)     Pose(P          R      mAP50  mAP50-95): 100%|██████████| 1/1 [00:00<00:00,  3.21it/s]\n"
     ]
    },
    {
     "name": "stdout",
     "output_type": "stream",
     "text": [
      "                   all         27         28      0.962      0.893       0.92      0.669      0.409      0.286      0.133       0.04\n",
      "       standing person         27         28      0.962      0.893       0.92      0.669      0.409      0.286      0.133       0.04\n",
      "Speed: 0.2ms preprocess, 2.2ms inference, 0.0ms loss, 1.9ms postprocess per image\n",
      "Results saved to \u001b[1mdataset\\runs\\train\\pose\\train\u001b[0m\n"
     ]
    },
    {
     "name": "stderr",
     "output_type": "stream",
     "text": [
      "\u001b[34m\u001b[1mwandb\u001b[0m: \u001b[32m\u001b[41mERROR\u001b[0m The nbformat package was not found. It is required to save notebook history.\n"
     ]
    },
    {
     "data": {
      "text/html": [],
      "text/plain": [
       "<IPython.core.display.HTML object>"
      ]
     },
     "metadata": {},
     "output_type": "display_data"
    },
    {
     "data": {
      "text/html": [
       "<br>    <style><br>        .wandb-row {<br>            display: flex;<br>            flex-direction: row;<br>            flex-wrap: wrap;<br>            justify-content: flex-start;<br>            width: 100%;<br>        }<br>        .wandb-col {<br>            display: flex;<br>            flex-direction: column;<br>            flex-basis: 100%;<br>            flex: 1;<br>            padding: 10px;<br>        }<br>    </style><br><div class=\"wandb-row\"><div class=\"wandb-col\"><h3>Run history:</h3><br/><table class=\"wandb\"><tr><td>lr/pg0</td><td>▁▂▄▅▆▆▇▇█████▇▇▆▅▄▃▂</td></tr><tr><td>lr/pg1</td><td>▁▂▄▅▆▆▇▇█████▇▇▆▅▄▃▂</td></tr><tr><td>lr/pg2</td><td>▁▂▄▅▆▆▇▇█████▇▇▆▅▄▃▂</td></tr><tr><td>metrics/mAP50(B)</td><td>▁▅▆▇▇▇▇▇██████▇▇█▇██</td></tr><tr><td>metrics/mAP50(P)</td><td>▄▆▁▃▃▁▂▂▆▃▆██▃▄▄▄▄▄▄</td></tr><tr><td>metrics/mAP50-95(B)</td><td>▁▄▆▆▇▇▇▇▇▇▇▇▇▇▇▇████</td></tr><tr><td>metrics/mAP50-95(P)</td><td>▅█▁▂▂▁▁▂▆▂▇▆▆▁▂▄▅▅▆▆</td></tr><tr><td>metrics/precision(B)</td><td>▁▆▆█▇███████████████</td></tr><tr><td>metrics/precision(P)</td><td>▁▇▄▅▆▅▅▅▇▄▆██▇▇▇▇▇▇▇</td></tr><tr><td>metrics/recall(B)</td><td>█▁▅▆▇▇▇▇██████▇▇▇▇▇▇</td></tr><tr><td>metrics/recall(P)</td><td>█▂▄▂▃▁▃▂▃▂▇██▄▄▄▄▄▄▄</td></tr><tr><td>model/GFLOPs</td><td>▁</td></tr><tr><td>model/parameters</td><td>▁</td></tr><tr><td>model/speed_PyTorch(ms)</td><td>▁</td></tr><tr><td>train/box_loss</td><td>█▇▅▄▃▃▃▃▃▃▂▂▂▂▂▁▁▁▁▁</td></tr><tr><td>train/cls_loss</td><td>██▅▄▃▃▂▂▂▂▂▂▂▂▂▁▁▁▁▁</td></tr><tr><td>train/dfl_loss</td><td>█▇▄▃▃▂▂▂▂▂▂▂▂▁▁▁▁▁▁▁</td></tr><tr><td>train/kobj_loss</td><td>█▇▄▃▃▃▃▃▃▂▁▂▁▁▁▁▁▁▁▁</td></tr><tr><td>train/pose_loss</td><td>██▆▆▄▅▄▄▄▃▃▃▂▂▂▂▁▁▁▁</td></tr><tr><td>val/box_loss</td><td>█▅▂▂▁▁▁▂▂▂▂▂▂▂▂▂▂▁▁▁</td></tr><tr><td>val/cls_loss</td><td>█▅▅▅▃▃▃▂▂▂▂▁▁▁▂▂▁▁▁▁</td></tr><tr><td>val/dfl_loss</td><td>█▄▂▂▁▁▁▂▂▂▁▁▁▁▁▂▁▁▁▁</td></tr><tr><td>val/kobj_loss</td><td>█▆▃▂▃▃▂▂▂▂▂▁▁▁▁▁▁▁▁▁</td></tr><tr><td>val/pose_loss</td><td>▅▁▅▆▅▆█▆▅▅▂▅▅▇███▇▇▆</td></tr></table><br/></div><div class=\"wandb-col\"><h3>Run summary:</h3><br/><table class=\"wandb\"><tr><td>lr/pg0</td><td>0.0001</td></tr><tr><td>lr/pg1</td><td>0.0001</td></tr><tr><td>lr/pg2</td><td>0.0001</td></tr><tr><td>metrics/mAP50(B)</td><td>0.9204</td></tr><tr><td>metrics/mAP50(P)</td><td>0.13326</td></tr><tr><td>metrics/mAP50-95(B)</td><td>0.66908</td></tr><tr><td>metrics/mAP50-95(P)</td><td>0.04003</td></tr><tr><td>metrics/precision(B)</td><td>0.96153</td></tr><tr><td>metrics/precision(P)</td><td>0.40948</td></tr><tr><td>metrics/recall(B)</td><td>0.89257</td></tr><tr><td>metrics/recall(P)</td><td>0.28571</td></tr><tr><td>model/GFLOPs</td><td>7.544</td></tr><tr><td>model/parameters</td><td>2874657</td></tr><tr><td>model/speed_PyTorch(ms)</td><td>7.306</td></tr><tr><td>train/box_loss</td><td>0.71112</td></tr><tr><td>train/cls_loss</td><td>1.3772</td></tr><tr><td>train/dfl_loss</td><td>0.95479</td></tr><tr><td>train/kobj_loss</td><td>0.09318</td></tr><tr><td>train/pose_loss</td><td>2.50604</td></tr><tr><td>val/box_loss</td><td>1.20112</td></tr><tr><td>val/cls_loss</td><td>1.04164</td></tr><tr><td>val/dfl_loss</td><td>1.11712</td></tr><tr><td>val/kobj_loss</td><td>0.13094</td></tr><tr><td>val/pose_loss</td><td>6.59302</td></tr></table><br/></div></div>"
      ],
      "text/plain": [
       "<IPython.core.display.HTML object>"
      ]
     },
     "metadata": {},
     "output_type": "display_data"
    },
    {
     "data": {
      "text/html": [
       " View run <strong style=\"color:#cdcd00\">train</strong> at: <a href='https://wandb.ai/lalka00pq-/Ultralytics/runs/silyhu0y' target=\"_blank\">https://wandb.ai/lalka00pq-/Ultralytics/runs/silyhu0y</a><br> View project at: <a href='https://wandb.ai/lalka00pq-/Ultralytics' target=\"_blank\">https://wandb.ai/lalka00pq-/Ultralytics</a><br>Synced 5 W&B file(s), 28 media file(s), 18 artifact file(s) and 0 other file(s)"
      ],
      "text/plain": [
       "<IPython.core.display.HTML object>"
      ]
     },
     "metadata": {},
     "output_type": "display_data"
    },
    {
     "data": {
      "text/html": [
       "Find logs at: <code>.\\wandb\\run-20250413_103815-silyhu0y\\logs</code>"
      ],
      "text/plain": [
       "<IPython.core.display.HTML object>"
      ]
     },
     "metadata": {},
     "output_type": "display_data"
    },
    {
     "data": {
      "text/plain": [
       "ultralytics.utils.metrics.PoseMetrics object with attributes:\n",
       "\n",
       "ap_class_index: array([0])\n",
       "box: ultralytics.utils.metrics.Metric object\n",
       "confusion_matrix: <ultralytics.utils.metrics.ConfusionMatrix object at 0x0000026EEA39F6B0>\n",
       "curves: ['Precision-Recall(B)', 'F1-Confidence(B)', 'Precision-Confidence(B)', 'Recall-Confidence(B)', 'Precision-Recall(P)', 'F1-Confidence(P)', 'Precision-Confidence(P)', 'Recall-Confidence(P)']\n",
       "curves_results: [[array([          0,    0.001001,    0.002002,    0.003003,    0.004004,    0.005005,    0.006006,    0.007007,    0.008008,    0.009009,     0.01001,    0.011011,    0.012012,    0.013013,    0.014014,    0.015015,    0.016016,    0.017017,    0.018018,    0.019019,     0.02002,    0.021021,    0.022022,    0.023023,\n",
       "          0.024024,    0.025025,    0.026026,    0.027027,    0.028028,    0.029029,     0.03003,    0.031031,    0.032032,    0.033033,    0.034034,    0.035035,    0.036036,    0.037037,    0.038038,    0.039039,     0.04004,    0.041041,    0.042042,    0.043043,    0.044044,    0.045045,    0.046046,    0.047047,\n",
       "          0.048048,    0.049049,     0.05005,    0.051051,    0.052052,    0.053053,    0.054054,    0.055055,    0.056056,    0.057057,    0.058058,    0.059059,     0.06006,    0.061061,    0.062062,    0.063063,    0.064064,    0.065065,    0.066066,    0.067067,    0.068068,    0.069069,     0.07007,    0.071071,\n",
       "          0.072072,    0.073073,    0.074074,    0.075075,    0.076076,    0.077077,    0.078078,    0.079079,     0.08008,    0.081081,    0.082082,    0.083083,    0.084084,    0.085085,    0.086086,    0.087087,    0.088088,    0.089089,     0.09009,    0.091091,    0.092092,    0.093093,    0.094094,    0.095095,\n",
       "          0.096096,    0.097097,    0.098098,    0.099099,      0.1001,      0.1011,      0.1021,      0.1031,      0.1041,     0.10511,     0.10611,     0.10711,     0.10811,     0.10911,     0.11011,     0.11111,     0.11211,     0.11311,     0.11411,     0.11512,     0.11612,     0.11712,     0.11812,     0.11912,\n",
       "           0.12012,     0.12112,     0.12212,     0.12312,     0.12412,     0.12513,     0.12613,     0.12713,     0.12813,     0.12913,     0.13013,     0.13113,     0.13213,     0.13313,     0.13413,     0.13514,     0.13614,     0.13714,     0.13814,     0.13914,     0.14014,     0.14114,     0.14214,     0.14314,\n",
       "           0.14414,     0.14515,     0.14615,     0.14715,     0.14815,     0.14915,     0.15015,     0.15115,     0.15215,     0.15315,     0.15415,     0.15516,     0.15616,     0.15716,     0.15816,     0.15916,     0.16016,     0.16116,     0.16216,     0.16316,     0.16416,     0.16517,     0.16617,     0.16717,\n",
       "           0.16817,     0.16917,     0.17017,     0.17117,     0.17217,     0.17317,     0.17417,     0.17518,     0.17618,     0.17718,     0.17818,     0.17918,     0.18018,     0.18118,     0.18218,     0.18318,     0.18418,     0.18519,     0.18619,     0.18719,     0.18819,     0.18919,     0.19019,     0.19119,\n",
       "           0.19219,     0.19319,     0.19419,      0.1952,      0.1962,      0.1972,      0.1982,      0.1992,      0.2002,      0.2012,      0.2022,      0.2032,      0.2042,     0.20521,     0.20621,     0.20721,     0.20821,     0.20921,     0.21021,     0.21121,     0.21221,     0.21321,     0.21421,     0.21522,\n",
       "           0.21622,     0.21722,     0.21822,     0.21922,     0.22022,     0.22122,     0.22222,     0.22322,     0.22422,     0.22523,     0.22623,     0.22723,     0.22823,     0.22923,     0.23023,     0.23123,     0.23223,     0.23323,     0.23423,     0.23524,     0.23624,     0.23724,     0.23824,     0.23924,\n",
       "           0.24024,     0.24124,     0.24224,     0.24324,     0.24424,     0.24525,     0.24625,     0.24725,     0.24825,     0.24925,     0.25025,     0.25125,     0.25225,     0.25325,     0.25425,     0.25526,     0.25626,     0.25726,     0.25826,     0.25926,     0.26026,     0.26126,     0.26226,     0.26326,\n",
       "           0.26426,     0.26527,     0.26627,     0.26727,     0.26827,     0.26927,     0.27027,     0.27127,     0.27227,     0.27327,     0.27427,     0.27528,     0.27628,     0.27728,     0.27828,     0.27928,     0.28028,     0.28128,     0.28228,     0.28328,     0.28428,     0.28529,     0.28629,     0.28729,\n",
       "           0.28829,     0.28929,     0.29029,     0.29129,     0.29229,     0.29329,     0.29429,      0.2953,      0.2963,      0.2973,      0.2983,      0.2993,      0.3003,      0.3013,      0.3023,      0.3033,      0.3043,     0.30531,     0.30631,     0.30731,     0.30831,     0.30931,     0.31031,     0.31131,\n",
       "           0.31231,     0.31331,     0.31431,     0.31532,     0.31632,     0.31732,     0.31832,     0.31932,     0.32032,     0.32132,     0.32232,     0.32332,     0.32432,     0.32533,     0.32633,     0.32733,     0.32833,     0.32933,     0.33033,     0.33133,     0.33233,     0.33333,     0.33433,     0.33534,\n",
       "           0.33634,     0.33734,     0.33834,     0.33934,     0.34034,     0.34134,     0.34234,     0.34334,     0.34434,     0.34535,     0.34635,     0.34735,     0.34835,     0.34935,     0.35035,     0.35135,     0.35235,     0.35335,     0.35435,     0.35536,     0.35636,     0.35736,     0.35836,     0.35936,\n",
       "           0.36036,     0.36136,     0.36236,     0.36336,     0.36436,     0.36537,     0.36637,     0.36737,     0.36837,     0.36937,     0.37037,     0.37137,     0.37237,     0.37337,     0.37437,     0.37538,     0.37638,     0.37738,     0.37838,     0.37938,     0.38038,     0.38138,     0.38238,     0.38338,\n",
       "           0.38438,     0.38539,     0.38639,     0.38739,     0.38839,     0.38939,     0.39039,     0.39139,     0.39239,     0.39339,     0.39439,      0.3954,      0.3964,      0.3974,      0.3984,      0.3994,      0.4004,      0.4014,      0.4024,      0.4034,      0.4044,     0.40541,     0.40641,     0.40741,\n",
       "           0.40841,     0.40941,     0.41041,     0.41141,     0.41241,     0.41341,     0.41441,     0.41542,     0.41642,     0.41742,     0.41842,     0.41942,     0.42042,     0.42142,     0.42242,     0.42342,     0.42442,     0.42543,     0.42643,     0.42743,     0.42843,     0.42943,     0.43043,     0.43143,\n",
       "           0.43243,     0.43343,     0.43443,     0.43544,     0.43644,     0.43744,     0.43844,     0.43944,     0.44044,     0.44144,     0.44244,     0.44344,     0.44444,     0.44545,     0.44645,     0.44745,     0.44845,     0.44945,     0.45045,     0.45145,     0.45245,     0.45345,     0.45445,     0.45546,\n",
       "           0.45646,     0.45746,     0.45846,     0.45946,     0.46046,     0.46146,     0.46246,     0.46346,     0.46446,     0.46547,     0.46647,     0.46747,     0.46847,     0.46947,     0.47047,     0.47147,     0.47247,     0.47347,     0.47447,     0.47548,     0.47648,     0.47748,     0.47848,     0.47948,\n",
       "           0.48048,     0.48148,     0.48248,     0.48348,     0.48448,     0.48549,     0.48649,     0.48749,     0.48849,     0.48949,     0.49049,     0.49149,     0.49249,     0.49349,     0.49449,      0.4955,      0.4965,      0.4975,      0.4985,      0.4995,      0.5005,      0.5015,      0.5025,      0.5035,\n",
       "            0.5045,     0.50551,     0.50651,     0.50751,     0.50851,     0.50951,     0.51051,     0.51151,     0.51251,     0.51351,     0.51451,     0.51552,     0.51652,     0.51752,     0.51852,     0.51952,     0.52052,     0.52152,     0.52252,     0.52352,     0.52452,     0.52553,     0.52653,     0.52753,\n",
       "           0.52853,     0.52953,     0.53053,     0.53153,     0.53253,     0.53353,     0.53453,     0.53554,     0.53654,     0.53754,     0.53854,     0.53954,     0.54054,     0.54154,     0.54254,     0.54354,     0.54454,     0.54555,     0.54655,     0.54755,     0.54855,     0.54955,     0.55055,     0.55155,\n",
       "           0.55255,     0.55355,     0.55455,     0.55556,     0.55656,     0.55756,     0.55856,     0.55956,     0.56056,     0.56156,     0.56256,     0.56356,     0.56456,     0.56557,     0.56657,     0.56757,     0.56857,     0.56957,     0.57057,     0.57157,     0.57257,     0.57357,     0.57457,     0.57558,\n",
       "           0.57658,     0.57758,     0.57858,     0.57958,     0.58058,     0.58158,     0.58258,     0.58358,     0.58458,     0.58559,     0.58659,     0.58759,     0.58859,     0.58959,     0.59059,     0.59159,     0.59259,     0.59359,     0.59459,      0.5956,      0.5966,      0.5976,      0.5986,      0.5996,\n",
       "            0.6006,      0.6016,      0.6026,      0.6036,      0.6046,     0.60561,     0.60661,     0.60761,     0.60861,     0.60961,     0.61061,     0.61161,     0.61261,     0.61361,     0.61461,     0.61562,     0.61662,     0.61762,     0.61862,     0.61962,     0.62062,     0.62162,     0.62262,     0.62362,\n",
       "           0.62462,     0.62563,     0.62663,     0.62763,     0.62863,     0.62963,     0.63063,     0.63163,     0.63263,     0.63363,     0.63463,     0.63564,     0.63664,     0.63764,     0.63864,     0.63964,     0.64064,     0.64164,     0.64264,     0.64364,     0.64464,     0.64565,     0.64665,     0.64765,\n",
       "           0.64865,     0.64965,     0.65065,     0.65165,     0.65265,     0.65365,     0.65465,     0.65566,     0.65666,     0.65766,     0.65866,     0.65966,     0.66066,     0.66166,     0.66266,     0.66366,     0.66466,     0.66567,     0.66667,     0.66767,     0.66867,     0.66967,     0.67067,     0.67167,\n",
       "           0.67267,     0.67367,     0.67467,     0.67568,     0.67668,     0.67768,     0.67868,     0.67968,     0.68068,     0.68168,     0.68268,     0.68368,     0.68468,     0.68569,     0.68669,     0.68769,     0.68869,     0.68969,     0.69069,     0.69169,     0.69269,     0.69369,     0.69469,      0.6957,\n",
       "            0.6967,      0.6977,      0.6987,      0.6997,      0.7007,      0.7017,      0.7027,      0.7037,      0.7047,     0.70571,     0.70671,     0.70771,     0.70871,     0.70971,     0.71071,     0.71171,     0.71271,     0.71371,     0.71471,     0.71572,     0.71672,     0.71772,     0.71872,     0.71972,\n",
       "           0.72072,     0.72172,     0.72272,     0.72372,     0.72472,     0.72573,     0.72673,     0.72773,     0.72873,     0.72973,     0.73073,     0.73173,     0.73273,     0.73373,     0.73473,     0.73574,     0.73674,     0.73774,     0.73874,     0.73974,     0.74074,     0.74174,     0.74274,     0.74374,\n",
       "           0.74474,     0.74575,     0.74675,     0.74775,     0.74875,     0.74975,     0.75075,     0.75175,     0.75275,     0.75375,     0.75475,     0.75576,     0.75676,     0.75776,     0.75876,     0.75976,     0.76076,     0.76176,     0.76276,     0.76376,     0.76476,     0.76577,     0.76677,     0.76777,\n",
       "           0.76877,     0.76977,     0.77077,     0.77177,     0.77277,     0.77377,     0.77477,     0.77578,     0.77678,     0.77778,     0.77878,     0.77978,     0.78078,     0.78178,     0.78278,     0.78378,     0.78478,     0.78579,     0.78679,     0.78779,     0.78879,     0.78979,     0.79079,     0.79179,\n",
       "           0.79279,     0.79379,     0.79479,      0.7958,      0.7968,      0.7978,      0.7988,      0.7998,      0.8008,      0.8018,      0.8028,      0.8038,      0.8048,     0.80581,     0.80681,     0.80781,     0.80881,     0.80981,     0.81081,     0.81181,     0.81281,     0.81381,     0.81481,     0.81582,\n",
       "           0.81682,     0.81782,     0.81882,     0.81982,     0.82082,     0.82182,     0.82282,     0.82382,     0.82482,     0.82583,     0.82683,     0.82783,     0.82883,     0.82983,     0.83083,     0.83183,     0.83283,     0.83383,     0.83483,     0.83584,     0.83684,     0.83784,     0.83884,     0.83984,\n",
       "           0.84084,     0.84184,     0.84284,     0.84384,     0.84484,     0.84585,     0.84685,     0.84785,     0.84885,     0.84985,     0.85085,     0.85185,     0.85285,     0.85385,     0.85485,     0.85586,     0.85686,     0.85786,     0.85886,     0.85986,     0.86086,     0.86186,     0.86286,     0.86386,\n",
       "           0.86486,     0.86587,     0.86687,     0.86787,     0.86887,     0.86987,     0.87087,     0.87187,     0.87287,     0.87387,     0.87487,     0.87588,     0.87688,     0.87788,     0.87888,     0.87988,     0.88088,     0.88188,     0.88288,     0.88388,     0.88488,     0.88589,     0.88689,     0.88789,\n",
       "           0.88889,     0.88989,     0.89089,     0.89189,     0.89289,     0.89389,     0.89489,      0.8959,      0.8969,      0.8979,      0.8989,      0.8999,      0.9009,      0.9019,      0.9029,      0.9039,      0.9049,     0.90591,     0.90691,     0.90791,     0.90891,     0.90991,     0.91091,     0.91191,\n",
       "           0.91291,     0.91391,     0.91491,     0.91592,     0.91692,     0.91792,     0.91892,     0.91992,     0.92092,     0.92192,     0.92292,     0.92392,     0.92492,     0.92593,     0.92693,     0.92793,     0.92893,     0.92993,     0.93093,     0.93193,     0.93293,     0.93393,     0.93493,     0.93594,\n",
       "           0.93694,     0.93794,     0.93894,     0.93994,     0.94094,     0.94194,     0.94294,     0.94394,     0.94494,     0.94595,     0.94695,     0.94795,     0.94895,     0.94995,     0.95095,     0.95195,     0.95295,     0.95395,     0.95495,     0.95596,     0.95696,     0.95796,     0.95896,     0.95996,\n",
       "           0.96096,     0.96196,     0.96296,     0.96396,     0.96496,     0.96597,     0.96697,     0.96797,     0.96897,     0.96997,     0.97097,     0.97197,     0.97297,     0.97397,     0.97497,     0.97598,     0.97698,     0.97798,     0.97898,     0.97998,     0.98098,     0.98198,     0.98298,     0.98398,\n",
       "           0.98498,     0.98599,     0.98699,     0.98799,     0.98899,     0.98999,     0.99099,     0.99199,     0.99299,     0.99399,     0.99499,       0.996,       0.997,       0.998,       0.999,           1]), array([[          1,           1,           1,           1,           1,           1,           1,           1,           1,           1,           1,           1,           1,           1,           1,           1,           1,           1,           1,           1,           1,           1,           1,\n",
       "                  1,           1,           1,           1,           1,           1,           1,           1,           1,           1,           1,           1,           1,           1,           1,           1,           1,           1,           1,           1,           1,           1,           1,\n",
       "                  1,           1,           1,           1,           1,           1,           1,           1,           1,           1,           1,           1,           1,           1,           1,           1,           1,           1,           1,           1,           1,           1,           1,\n",
       "                  1,           1,           1,           1,           1,           1,           1,           1,           1,           1,           1,           1,           1,           1,           1,           1,           1,           1,           1,           1,           1,           1,           1,\n",
       "                  1,           1,           1,           1,           1,           1,           1,           1,           1,           1,           1,           1,           1,           1,           1,           1,           1,           1,           1,           1,           1,           1,           1,\n",
       "                  1,           1,           1,           1,           1,           1,           1,           1,           1,           1,           1,           1,           1,           1,           1,           1,           1,           1,           1,           1,           1,           1,           1,\n",
       "                  1,           1,           1,           1,           1,           1,           1,           1,           1,           1,           1,           1,           1,           1,           1,           1,           1,           1,           1,           1,           1,           1,           1,\n",
       "                  1,           1,           1,           1,           1,           1,           1,           1,           1,           1,           1,           1,           1,           1,           1,           1,           1,           1,           1,           1,           1,           1,           1,\n",
       "                  1,           1,           1,           1,           1,           1,           1,           1,           1,           1,           1,           1,           1,           1,           1,           1,           1,           1,           1,           1,           1,           1,           1,\n",
       "                  1,           1,           1,           1,           1,           1,           1,           1,           1,           1,           1,           1,           1,           1,           1,           1,           1,           1,           1,           1,           1,           1,           1,\n",
       "                  1,           1,           1,           1,           1,           1,           1,           1,           1,           1,           1,           1,           1,           1,           1,           1,           1,           1,           1,           1,           1,           1,           1,\n",
       "                  1,           1,           1,           1,           1,           1,           1,           1,           1,           1,           1,           1,           1,           1,           1,           1,           1,           1,           1,           1,           1,           1,           1,\n",
       "                  1,           1,           1,           1,           1,           1,           1,           1,           1,           1,           1,           1,           1,           1,           1,           1,           1,           1,           1,           1,           1,           1,           1,\n",
       "                  1,           1,           1,           1,           1,           1,           1,           1,           1,           1,           1,           1,           1,           1,           1,           1,           1,           1,           1,           1,           1,           1,           1,\n",
       "                  1,           1,           1,           1,           1,           1,           1,           1,           1,           1,           1,           1,           1,           1,           1,           1,           1,           1,           1,           1,           1,           1,           1,\n",
       "                  1,           1,           1,           1,           1,           1,           1,           1,           1,           1,           1,           1,           1,           1,           1,           1,           1,           1,           1,           1,           1,           1,           1,\n",
       "                  1,           1,           1,           1,           1,           1,           1,           1,           1,           1,           1,           1,           1,           1,           1,           1,           1,           1,           1,           1,           1,           1,           1,\n",
       "                  1,           1,           1,           1,           1,           1,           1,           1,           1,           1,           1,           1,           1,           1,           1,           1,           1,           1,           1,           1,           1,           1,           1,\n",
       "                  1,           1,           1,           1,           1,           1,           1,           1,           1,           1,           1,           1,           1,           1,           1,           1,           1,           1,           1,           1,           1,           1,           1,\n",
       "                  1,           1,           1,           1,           1,           1,           1,           1,           1,           1,           1,           1,           1,           1,           1,           1,           1,           1,           1,           1,           1,           1,           1,\n",
       "                  1,           1,           1,           1,           1,           1,           1,           1,           1,           1,           1,           1,           1,           1,           1,           1,           1,           1,           1,           1,           1,           1,           1,\n",
       "                  1,           1,           1,           1,           1,           1,           1,           1,           1,           1,           1,           1,           1,           1,           1,           1,           1,           1,           1,           1,           1,           1,           1,\n",
       "                  1,           1,           1,           1,           1,           1,           1,           1,           1,           1,           1,           1,           1,           1,           1,           1,           1,           1,           1,           1,           1,           1,           1,\n",
       "                  1,           1,           1,           1,           1,           1,           1,           1,           1,           1,           1,           1,           1,           1,           1,           1,           1,           1,           1,           1,           1,           1,           1,\n",
       "                  1,           1,           1,           1,           1,           1,           1,           1,           1,           1,           1,           1,           1,           1,           1,           1,           1,           1,           1,           1,           1,           1,           1,\n",
       "                  1,           1,           1,           1,           1,           1,           1,           1,           1,           1,           1,           1,           1,           1,           1,           1,           1,           1,           1,           1,           1,           1,           1,\n",
       "                  1,           1,           1,           1,           1,           1,           1,           1,           1,           1,           1,           1,           1,           1,           1,           1,           1,           1,           1,           1,           1,           1,           1,\n",
       "                  1,           1,           1,           1,           1,           1,           1,           1,           1,           1,           1,           1,           1,           1,           1,           1,           1,           1,           1,           1,           1,           1,           1,\n",
       "                  1,           1,           1,           1,           1,           1,           1,           1,           1,           1,           1,           1,           1,           1,           1,           1,           1,           1,           1,           1,           1,           1,           1,\n",
       "                  1,           1,           1,           1,           1,           1,           1,           1,           1,           1,           1,           1,           1,           1,           1,           1,           1,           1,           1,           1,           1,           1,           1,\n",
       "                  1,           1,           1,           1,           1,           1,           1,           1,           1,           1,           1,           1,           1,           1,           1,           1,           1,           1,           1,           1,           1,           1,           1,\n",
       "                  1,           1,           1,           1,           1,           1,           1,           1,           1,           1,           1,           1,           1,           1,           1,           1,           1,           1,           1,           1,           1,           1,           1,\n",
       "                  1,           1,           1,           1,           1,           1,           1,           1,           1,           1,           1,           1,           1,           1,           1,           1,           1,           1,           1,           1,           1,           1,           1,\n",
       "                  1,           1,           1,           1,           1,           1,           1,           1,           1,           1,           1,           1,           1,           1,           1,           1,           1,           1,           1,           1,           1,           1,           1,\n",
       "                  1,           1,           1,           1,           1,           1,           1,           1,           1,           1,           1,           1,           1,           1,           1,           1,           1,           1,           1,           1,           1,           1,           1,\n",
       "                  1,           1,           1,           1,           1,           1,           1,           1,           1,           1,           1,           1,           1,           1,           1,           1,           1,           1,           1,           1,           1,           1,           1,\n",
       "                  1,           1,           1,           1,           1,           1,           1,           1,           1,           1,           1,           1,           1,           1,           1,           1,           1,           1,           1,           1,           1,           1,           1,\n",
       "                  1,           1,           1,           1,           1,           1,     0.96154,     0.96154,     0.96154,     0.96154,     0.96154,     0.96154,     0.96154,     0.96154,     0.96154,     0.96154,     0.96154,     0.96154,     0.96154,     0.96154,     0.96154,     0.96154,     0.96154,\n",
       "            0.96154,     0.96154,     0.96154,     0.96154,     0.96154,     0.96154,     0.96154,     0.96154,     0.96154,     0.96154,     0.96154,     0.96154,     0.96154,     0.96154,     0.96154,     0.96154,     0.96154,     0.96154,     0.86667,     0.86667,     0.86667,     0.86667,     0.86667,\n",
       "            0.86667,     0.86667,     0.86667,     0.86667,     0.86667,     0.86667,     0.86667,     0.86667,     0.86667,     0.86667,     0.86667,     0.86667,     0.86667,     0.86667,     0.86667,     0.86667,     0.86667,     0.86667,     0.86667,     0.86667,     0.86667,     0.86667,     0.86667,\n",
       "            0.86667,     0.86667,     0.86667,     0.86667,     0.86667,     0.86667,     0.86667,     0.86667,    0.018842,    0.018842,    0.018842,    0.018842,    0.018842,    0.018842,    0.018842,    0.018842,    0.018842,    0.018842,    0.018842,    0.018842,    0.018842,    0.018842,    0.018842,\n",
       "           0.018842,    0.018842,    0.018842,    0.018842,    0.018842,    0.018842,    0.018842,    0.018842,    0.018842,    0.018842,    0.018842,    0.018842,    0.018842,    0.018842,    0.018842,    0.018842,    0.018842,    0.018842,    0.018842,    0.018842,    0.018842,    0.010607,    0.010304,\n",
       "           0.010001,   0.0096981,   0.0093951,    0.009092,   0.0087889,   0.0084859,   0.0081828,   0.0078797,   0.0075767,   0.0072736,   0.0069705,   0.0066675,   0.0063644,   0.0060613,   0.0057583,   0.0054552,   0.0051521,   0.0048491,    0.004546,   0.0042429,   0.0039399,   0.0036368,   0.0033337,\n",
       "          0.0030307,   0.0027276,   0.0024245,   0.0021215,   0.0018184,   0.0015153,   0.0012123,   0.0009092,  0.00060613,  0.00030307,           0]]), 'Recall', 'Precision'], [array([          0,    0.001001,    0.002002,    0.003003,    0.004004,    0.005005,    0.006006,    0.007007,    0.008008,    0.009009,     0.01001,    0.011011,    0.012012,    0.013013,    0.014014,    0.015015,    0.016016,    0.017017,    0.018018,    0.019019,     0.02002,    0.021021,    0.022022,    0.023023,\n",
       "          0.024024,    0.025025,    0.026026,    0.027027,    0.028028,    0.029029,     0.03003,    0.031031,    0.032032,    0.033033,    0.034034,    0.035035,    0.036036,    0.037037,    0.038038,    0.039039,     0.04004,    0.041041,    0.042042,    0.043043,    0.044044,    0.045045,    0.046046,    0.047047,\n",
       "          0.048048,    0.049049,     0.05005,    0.051051,    0.052052,    0.053053,    0.054054,    0.055055,    0.056056,    0.057057,    0.058058,    0.059059,     0.06006,    0.061061,    0.062062,    0.063063,    0.064064,    0.065065,    0.066066,    0.067067,    0.068068,    0.069069,     0.07007,    0.071071,\n",
       "          0.072072,    0.073073,    0.074074,    0.075075,    0.076076,    0.077077,    0.078078,    0.079079,     0.08008,    0.081081,    0.082082,    0.083083,    0.084084,    0.085085,    0.086086,    0.087087,    0.088088,    0.089089,     0.09009,    0.091091,    0.092092,    0.093093,    0.094094,    0.095095,\n",
       "          0.096096,    0.097097,    0.098098,    0.099099,      0.1001,      0.1011,      0.1021,      0.1031,      0.1041,     0.10511,     0.10611,     0.10711,     0.10811,     0.10911,     0.11011,     0.11111,     0.11211,     0.11311,     0.11411,     0.11512,     0.11612,     0.11712,     0.11812,     0.11912,\n",
       "           0.12012,     0.12112,     0.12212,     0.12312,     0.12412,     0.12513,     0.12613,     0.12713,     0.12813,     0.12913,     0.13013,     0.13113,     0.13213,     0.13313,     0.13413,     0.13514,     0.13614,     0.13714,     0.13814,     0.13914,     0.14014,     0.14114,     0.14214,     0.14314,\n",
       "           0.14414,     0.14515,     0.14615,     0.14715,     0.14815,     0.14915,     0.15015,     0.15115,     0.15215,     0.15315,     0.15415,     0.15516,     0.15616,     0.15716,     0.15816,     0.15916,     0.16016,     0.16116,     0.16216,     0.16316,     0.16416,     0.16517,     0.16617,     0.16717,\n",
       "           0.16817,     0.16917,     0.17017,     0.17117,     0.17217,     0.17317,     0.17417,     0.17518,     0.17618,     0.17718,     0.17818,     0.17918,     0.18018,     0.18118,     0.18218,     0.18318,     0.18418,     0.18519,     0.18619,     0.18719,     0.18819,     0.18919,     0.19019,     0.19119,\n",
       "           0.19219,     0.19319,     0.19419,      0.1952,      0.1962,      0.1972,      0.1982,      0.1992,      0.2002,      0.2012,      0.2022,      0.2032,      0.2042,     0.20521,     0.20621,     0.20721,     0.20821,     0.20921,     0.21021,     0.21121,     0.21221,     0.21321,     0.21421,     0.21522,\n",
       "           0.21622,     0.21722,     0.21822,     0.21922,     0.22022,     0.22122,     0.22222,     0.22322,     0.22422,     0.22523,     0.22623,     0.22723,     0.22823,     0.22923,     0.23023,     0.23123,     0.23223,     0.23323,     0.23423,     0.23524,     0.23624,     0.23724,     0.23824,     0.23924,\n",
       "           0.24024,     0.24124,     0.24224,     0.24324,     0.24424,     0.24525,     0.24625,     0.24725,     0.24825,     0.24925,     0.25025,     0.25125,     0.25225,     0.25325,     0.25425,     0.25526,     0.25626,     0.25726,     0.25826,     0.25926,     0.26026,     0.26126,     0.26226,     0.26326,\n",
       "           0.26426,     0.26527,     0.26627,     0.26727,     0.26827,     0.26927,     0.27027,     0.27127,     0.27227,     0.27327,     0.27427,     0.27528,     0.27628,     0.27728,     0.27828,     0.27928,     0.28028,     0.28128,     0.28228,     0.28328,     0.28428,     0.28529,     0.28629,     0.28729,\n",
       "           0.28829,     0.28929,     0.29029,     0.29129,     0.29229,     0.29329,     0.29429,      0.2953,      0.2963,      0.2973,      0.2983,      0.2993,      0.3003,      0.3013,      0.3023,      0.3033,      0.3043,     0.30531,     0.30631,     0.30731,     0.30831,     0.30931,     0.31031,     0.31131,\n",
       "           0.31231,     0.31331,     0.31431,     0.31532,     0.31632,     0.31732,     0.31832,     0.31932,     0.32032,     0.32132,     0.32232,     0.32332,     0.32432,     0.32533,     0.32633,     0.32733,     0.32833,     0.32933,     0.33033,     0.33133,     0.33233,     0.33333,     0.33433,     0.33534,\n",
       "           0.33634,     0.33734,     0.33834,     0.33934,     0.34034,     0.34134,     0.34234,     0.34334,     0.34434,     0.34535,     0.34635,     0.34735,     0.34835,     0.34935,     0.35035,     0.35135,     0.35235,     0.35335,     0.35435,     0.35536,     0.35636,     0.35736,     0.35836,     0.35936,\n",
       "           0.36036,     0.36136,     0.36236,     0.36336,     0.36436,     0.36537,     0.36637,     0.36737,     0.36837,     0.36937,     0.37037,     0.37137,     0.37237,     0.37337,     0.37437,     0.37538,     0.37638,     0.37738,     0.37838,     0.37938,     0.38038,     0.38138,     0.38238,     0.38338,\n",
       "           0.38438,     0.38539,     0.38639,     0.38739,     0.38839,     0.38939,     0.39039,     0.39139,     0.39239,     0.39339,     0.39439,      0.3954,      0.3964,      0.3974,      0.3984,      0.3994,      0.4004,      0.4014,      0.4024,      0.4034,      0.4044,     0.40541,     0.40641,     0.40741,\n",
       "           0.40841,     0.40941,     0.41041,     0.41141,     0.41241,     0.41341,     0.41441,     0.41542,     0.41642,     0.41742,     0.41842,     0.41942,     0.42042,     0.42142,     0.42242,     0.42342,     0.42442,     0.42543,     0.42643,     0.42743,     0.42843,     0.42943,     0.43043,     0.43143,\n",
       "           0.43243,     0.43343,     0.43443,     0.43544,     0.43644,     0.43744,     0.43844,     0.43944,     0.44044,     0.44144,     0.44244,     0.44344,     0.44444,     0.44545,     0.44645,     0.44745,     0.44845,     0.44945,     0.45045,     0.45145,     0.45245,     0.45345,     0.45445,     0.45546,\n",
       "           0.45646,     0.45746,     0.45846,     0.45946,     0.46046,     0.46146,     0.46246,     0.46346,     0.46446,     0.46547,     0.46647,     0.46747,     0.46847,     0.46947,     0.47047,     0.47147,     0.47247,     0.47347,     0.47447,     0.47548,     0.47648,     0.47748,     0.47848,     0.47948,\n",
       "           0.48048,     0.48148,     0.48248,     0.48348,     0.48448,     0.48549,     0.48649,     0.48749,     0.48849,     0.48949,     0.49049,     0.49149,     0.49249,     0.49349,     0.49449,      0.4955,      0.4965,      0.4975,      0.4985,      0.4995,      0.5005,      0.5015,      0.5025,      0.5035,\n",
       "            0.5045,     0.50551,     0.50651,     0.50751,     0.50851,     0.50951,     0.51051,     0.51151,     0.51251,     0.51351,     0.51451,     0.51552,     0.51652,     0.51752,     0.51852,     0.51952,     0.52052,     0.52152,     0.52252,     0.52352,     0.52452,     0.52553,     0.52653,     0.52753,\n",
       "           0.52853,     0.52953,     0.53053,     0.53153,     0.53253,     0.53353,     0.53453,     0.53554,     0.53654,     0.53754,     0.53854,     0.53954,     0.54054,     0.54154,     0.54254,     0.54354,     0.54454,     0.54555,     0.54655,     0.54755,     0.54855,     0.54955,     0.55055,     0.55155,\n",
       "           0.55255,     0.55355,     0.55455,     0.55556,     0.55656,     0.55756,     0.55856,     0.55956,     0.56056,     0.56156,     0.56256,     0.56356,     0.56456,     0.56557,     0.56657,     0.56757,     0.56857,     0.56957,     0.57057,     0.57157,     0.57257,     0.57357,     0.57457,     0.57558,\n",
       "           0.57658,     0.57758,     0.57858,     0.57958,     0.58058,     0.58158,     0.58258,     0.58358,     0.58458,     0.58559,     0.58659,     0.58759,     0.58859,     0.58959,     0.59059,     0.59159,     0.59259,     0.59359,     0.59459,      0.5956,      0.5966,      0.5976,      0.5986,      0.5996,\n",
       "            0.6006,      0.6016,      0.6026,      0.6036,      0.6046,     0.60561,     0.60661,     0.60761,     0.60861,     0.60961,     0.61061,     0.61161,     0.61261,     0.61361,     0.61461,     0.61562,     0.61662,     0.61762,     0.61862,     0.61962,     0.62062,     0.62162,     0.62262,     0.62362,\n",
       "           0.62462,     0.62563,     0.62663,     0.62763,     0.62863,     0.62963,     0.63063,     0.63163,     0.63263,     0.63363,     0.63463,     0.63564,     0.63664,     0.63764,     0.63864,     0.63964,     0.64064,     0.64164,     0.64264,     0.64364,     0.64464,     0.64565,     0.64665,     0.64765,\n",
       "           0.64865,     0.64965,     0.65065,     0.65165,     0.65265,     0.65365,     0.65465,     0.65566,     0.65666,     0.65766,     0.65866,     0.65966,     0.66066,     0.66166,     0.66266,     0.66366,     0.66466,     0.66567,     0.66667,     0.66767,     0.66867,     0.66967,     0.67067,     0.67167,\n",
       "           0.67267,     0.67367,     0.67467,     0.67568,     0.67668,     0.67768,     0.67868,     0.67968,     0.68068,     0.68168,     0.68268,     0.68368,     0.68468,     0.68569,     0.68669,     0.68769,     0.68869,     0.68969,     0.69069,     0.69169,     0.69269,     0.69369,     0.69469,      0.6957,\n",
       "            0.6967,      0.6977,      0.6987,      0.6997,      0.7007,      0.7017,      0.7027,      0.7037,      0.7047,     0.70571,     0.70671,     0.70771,     0.70871,     0.70971,     0.71071,     0.71171,     0.71271,     0.71371,     0.71471,     0.71572,     0.71672,     0.71772,     0.71872,     0.71972,\n",
       "           0.72072,     0.72172,     0.72272,     0.72372,     0.72472,     0.72573,     0.72673,     0.72773,     0.72873,     0.72973,     0.73073,     0.73173,     0.73273,     0.73373,     0.73473,     0.73574,     0.73674,     0.73774,     0.73874,     0.73974,     0.74074,     0.74174,     0.74274,     0.74374,\n",
       "           0.74474,     0.74575,     0.74675,     0.74775,     0.74875,     0.74975,     0.75075,     0.75175,     0.75275,     0.75375,     0.75475,     0.75576,     0.75676,     0.75776,     0.75876,     0.75976,     0.76076,     0.76176,     0.76276,     0.76376,     0.76476,     0.76577,     0.76677,     0.76777,\n",
       "           0.76877,     0.76977,     0.77077,     0.77177,     0.77277,     0.77377,     0.77477,     0.77578,     0.77678,     0.77778,     0.77878,     0.77978,     0.78078,     0.78178,     0.78278,     0.78378,     0.78478,     0.78579,     0.78679,     0.78779,     0.78879,     0.78979,     0.79079,     0.79179,\n",
       "           0.79279,     0.79379,     0.79479,      0.7958,      0.7968,      0.7978,      0.7988,      0.7998,      0.8008,      0.8018,      0.8028,      0.8038,      0.8048,     0.80581,     0.80681,     0.80781,     0.80881,     0.80981,     0.81081,     0.81181,     0.81281,     0.81381,     0.81481,     0.81582,\n",
       "           0.81682,     0.81782,     0.81882,     0.81982,     0.82082,     0.82182,     0.82282,     0.82382,     0.82482,     0.82583,     0.82683,     0.82783,     0.82883,     0.82983,     0.83083,     0.83183,     0.83283,     0.83383,     0.83483,     0.83584,     0.83684,     0.83784,     0.83884,     0.83984,\n",
       "           0.84084,     0.84184,     0.84284,     0.84384,     0.84484,     0.84585,     0.84685,     0.84785,     0.84885,     0.84985,     0.85085,     0.85185,     0.85285,     0.85385,     0.85485,     0.85586,     0.85686,     0.85786,     0.85886,     0.85986,     0.86086,     0.86186,     0.86286,     0.86386,\n",
       "           0.86486,     0.86587,     0.86687,     0.86787,     0.86887,     0.86987,     0.87087,     0.87187,     0.87287,     0.87387,     0.87487,     0.87588,     0.87688,     0.87788,     0.87888,     0.87988,     0.88088,     0.88188,     0.88288,     0.88388,     0.88488,     0.88589,     0.88689,     0.88789,\n",
       "           0.88889,     0.88989,     0.89089,     0.89189,     0.89289,     0.89389,     0.89489,      0.8959,      0.8969,      0.8979,      0.8989,      0.8999,      0.9009,      0.9019,      0.9029,      0.9039,      0.9049,     0.90591,     0.90691,     0.90791,     0.90891,     0.90991,     0.91091,     0.91191,\n",
       "           0.91291,     0.91391,     0.91491,     0.91592,     0.91692,     0.91792,     0.91892,     0.91992,     0.92092,     0.92192,     0.92292,     0.92392,     0.92492,     0.92593,     0.92693,     0.92793,     0.92893,     0.92993,     0.93093,     0.93193,     0.93293,     0.93393,     0.93493,     0.93594,\n",
       "           0.93694,     0.93794,     0.93894,     0.93994,     0.94094,     0.94194,     0.94294,     0.94394,     0.94494,     0.94595,     0.94695,     0.94795,     0.94895,     0.94995,     0.95095,     0.95195,     0.95295,     0.95395,     0.95495,     0.95596,     0.95696,     0.95796,     0.95896,     0.95996,\n",
       "           0.96096,     0.96196,     0.96296,     0.96396,     0.96496,     0.96597,     0.96697,     0.96797,     0.96897,     0.96997,     0.97097,     0.97197,     0.97297,     0.97397,     0.97497,     0.97598,     0.97698,     0.97798,     0.97898,     0.97998,     0.98098,     0.98198,     0.98298,     0.98398,\n",
       "           0.98498,     0.98599,     0.98699,     0.98799,     0.98899,     0.98999,     0.99099,     0.99199,     0.99299,     0.99399,     0.99499,       0.996,       0.997,       0.998,       0.999,           1]), array([[   0.021386,    0.021386,    0.028737,    0.070167,     0.12527,     0.20329,     0.26268,     0.30182,     0.33565,     0.37201,     0.41397,      0.4329,     0.45097,      0.4926,     0.54496,     0.57457,     0.59749,     0.64437,     0.68359,     0.72369,      0.7303,      0.7633,      0.7747,\n",
       "            0.78392,     0.81004,     0.81981,     0.83141,     0.84177,     0.84671,      0.8516,     0.85736,     0.86326,     0.88149,     0.88409,     0.88668,     0.88925,     0.89181,     0.89436,      0.8959,     0.89102,     0.88611,     0.88116,     0.88525,     0.89365,     0.89464,     0.89562,\n",
       "             0.8966,     0.89758,     0.89856,     0.89953,      0.9005,     0.90147,     0.90244,     0.90341,     0.90437,     0.90533,     0.90629,     0.90725,      0.9082,      0.9091,     0.90919,     0.90927,     0.90936,     0.90945,     0.90954,     0.90963,     0.90972,      0.9098,     0.90989,\n",
       "            0.90998,     0.91007,     0.91016,     0.91025,     0.91033,     0.91042,     0.91051,      0.9106,     0.91069,     0.91077,     0.91086,     0.91095,     0.91104,     0.91113,     0.91122,      0.9113,     0.91139,     0.91148,     0.91157,     0.91166,     0.91174,     0.91183,     0.91192,\n",
       "            0.91201,      0.9121,     0.91218,     0.91227,     0.91236,     0.91245,     0.91253,     0.91262,     0.91271,      0.9128,     0.91289,     0.91297,     0.91306,     0.91315,     0.91324,     0.91332,     0.91341,      0.9135,     0.91359,     0.91367,     0.91376,     0.91385,     0.91394,\n",
       "            0.91402,     0.91411,      0.9142,     0.91429,     0.91437,     0.91446,     0.91455,     0.91464,     0.91472,     0.91481,      0.9149,     0.91499,     0.91507,     0.91516,     0.91525,     0.91533,     0.91542,     0.91551,      0.9156,     0.91568,     0.91577,     0.91586,     0.91594,\n",
       "            0.91603,     0.91612,     0.91621,     0.91629,     0.91638,     0.91647,     0.91655,     0.91664,     0.91673,     0.91681,      0.9169,     0.91699,     0.91708,     0.91716,     0.91725,     0.91734,     0.91742,     0.91751,      0.9176,     0.91768,     0.91777,     0.91786,     0.91794,\n",
       "            0.91803,     0.91812,      0.9182,     0.91829,     0.91838,     0.91846,     0.91855,     0.91864,     0.91872,     0.91881,      0.9189,     0.91898,     0.91907,     0.91916,     0.91924,     0.91933,     0.91941,      0.9195,     0.91959,     0.91967,     0.91976,     0.91985,     0.91993,\n",
       "            0.92002,     0.92011,     0.92019,     0.92028,     0.92036,     0.92045,     0.92054,     0.92062,     0.92071,      0.9208,     0.92088,     0.92097,     0.92105,     0.92114,     0.92123,     0.92131,      0.9214,     0.92148,     0.92157,     0.92166,     0.92174,     0.92183,     0.92191,\n",
       "              0.922,     0.92209,     0.92217,     0.92226,     0.92234,     0.92243,     0.92251,      0.9226,     0.92269,     0.92277,     0.92286,     0.92294,     0.92303,     0.92311,      0.9232,     0.92329,     0.92337,     0.92346,     0.92354,     0.92363,     0.92371,      0.9238,     0.92389,\n",
       "            0.92397,     0.92406,     0.92414,     0.92423,     0.92431,      0.9244,     0.92448,     0.92457,     0.92465,     0.92474,     0.92482,     0.92491,       0.925,     0.92508,     0.92517,     0.92525,     0.92534,     0.92542,     0.92551,     0.92559,     0.92568,     0.92576,     0.92585,\n",
       "            0.92592,     0.92584,     0.92576,     0.92568,     0.92561,     0.92553,     0.92545,     0.92537,     0.92529,     0.92521,     0.92514,     0.92506,     0.92498,      0.9249,     0.92482,     0.92474,     0.92467,     0.92459,     0.92451,     0.92443,     0.92435,     0.92427,     0.92419,\n",
       "            0.92412,     0.92404,     0.92396,     0.92388,      0.9238,     0.92372,     0.92364,     0.92357,     0.92349,     0.92341,     0.92333,     0.92325,     0.92317,     0.92309,     0.92302,     0.92294,     0.92286,     0.92278,      0.9227,     0.92262,     0.92254,     0.92246,     0.92239,\n",
       "            0.92231,     0.92223,     0.92215,     0.92207,     0.92199,     0.92191,     0.92183,     0.92176,     0.92168,      0.9216,     0.92152,     0.92144,     0.92136,     0.92128,      0.9212,     0.92112,     0.92104,     0.92097,     0.92089,     0.92081,     0.92073,     0.92065,     0.92057,\n",
       "            0.92049,     0.92041,     0.92033,     0.92025,     0.92018,      0.9201,     0.92002,     0.91994,     0.91986,     0.91978,      0.9197,     0.91962,     0.91954,     0.91946,     0.91938,     0.91931,     0.91923,     0.91915,     0.91907,     0.91899,     0.91891,     0.91883,     0.91875,\n",
       "            0.91867,     0.91859,     0.91851,     0.91843,     0.91835,     0.91827,      0.9182,     0.91812,     0.91804,     0.91796,     0.91788,      0.9178,     0.91772,     0.91764,     0.91756,     0.91748,      0.9174,     0.91732,     0.91724,     0.91716,     0.91708,       0.917,     0.91692,\n",
       "            0.91685,     0.91677,     0.91669,     0.91661,     0.91653,     0.91645,     0.91637,     0.91629,     0.91621,     0.91613,     0.91605,     0.91597,     0.91589,     0.91581,     0.91573,     0.91565,     0.91557,     0.91549,     0.91541,     0.91533,     0.91525,     0.91517,     0.91509,\n",
       "            0.91501,     0.91493,     0.91485,     0.91477,     0.91469,     0.91461,     0.91453,     0.91445,     0.91437,     0.91429,     0.91421,     0.91413,     0.91405,     0.91398,      0.9139,     0.91382,     0.91374,     0.91366,     0.91358,      0.9135,     0.91342,     0.91334,     0.91326,\n",
       "            0.91318,      0.9131,     0.91302,     0.91294,     0.91286,     0.91278,     0.91269,     0.91261,     0.91253,     0.91245,     0.91237,     0.91229,     0.91221,     0.91213,     0.91205,     0.91197,     0.91189,     0.91181,     0.91173,     0.91165,     0.91157,     0.91149,     0.91141,\n",
       "            0.91133,     0.91125,     0.91117,     0.91109,     0.91101,     0.91093,     0.91085,     0.91077,     0.91069,     0.91061,     0.91053,     0.91045,     0.91037,     0.91029,     0.91021,     0.91013,     0.91005,     0.90997,     0.90988,      0.9098,     0.90972,     0.90964,     0.90956,\n",
       "            0.90948,      0.9094,     0.90932,     0.90924,     0.90916,     0.90908,       0.909,     0.90892,     0.90884,     0.90876,     0.90868,      0.9086,     0.90852,     0.90843,     0.90835,     0.90827,     0.90819,     0.90811,     0.90803,     0.90795,     0.90787,     0.90779,     0.90771,\n",
       "            0.90763,     0.90755,     0.90747,     0.90738,      0.9073,     0.90722,     0.90714,     0.90706,     0.90698,      0.9069,     0.90682,     0.90674,     0.90666,     0.90658,      0.9065,     0.90641,     0.90633,     0.90625,     0.90617,     0.90609,     0.90601,     0.90593,     0.90585,\n",
       "            0.90577,     0.90569,     0.90591,     0.90626,     0.90661,     0.90697,     0.90732,     0.90767,     0.90803,     0.90838,     0.90873,     0.90908,     0.90943,     0.90978,     0.91013,     0.91048,     0.91083,     0.91118,     0.91153,     0.91188,     0.91223,     0.91258,     0.91293,\n",
       "            0.91327,     0.91362,     0.91397,     0.91432,     0.91466,     0.91501,     0.91535,      0.9157,     0.91605,     0.91639,     0.91674,     0.91708,     0.91742,     0.91777,     0.91811,     0.91846,      0.9188,     0.91914,     0.91948,     0.91983,     0.92017,     0.92051,     0.92085,\n",
       "            0.92119,     0.92153,     0.92187,     0.92221,     0.92255,     0.92289,     0.92301,     0.92286,     0.92271,     0.92257,     0.92242,     0.92227,     0.92212,     0.92197,     0.92183,     0.92168,     0.92153,     0.92138,     0.92123,     0.92108,     0.92093,     0.92079,     0.92064,\n",
       "            0.92049,     0.92034,     0.92019,     0.92004,     0.91989,     0.91975,      0.9196,     0.91945,      0.9193,     0.91915,       0.919,     0.91885,      0.9187,     0.91855,      0.9184,     0.91825,     0.91811,     0.91796,     0.91781,     0.91766,     0.91751,     0.91736,     0.91721,\n",
       "            0.91706,     0.91691,     0.91676,     0.91661,     0.91646,     0.91631,     0.91616,     0.91601,     0.91586,     0.91571,     0.91556,     0.91541,     0.91526,     0.91511,     0.91496,     0.91481,     0.91466,     0.91451,     0.91436,     0.91421,     0.91406,     0.91391,     0.91376,\n",
       "            0.91361,     0.91346,     0.91331,     0.91316,     0.91301,     0.91285,      0.9127,     0.91255,      0.9124,     0.91225,      0.9121,     0.91195,      0.9118,     0.91165,      0.9115,     0.91134,     0.91119,     0.91104,     0.91089,     0.91074,     0.91059,     0.91044,     0.91029,\n",
       "            0.91013,     0.90998,     0.90983,     0.90968,     0.90953,     0.90938,     0.90922,     0.90907,     0.90892,     0.90877,     0.90862,     0.90846,     0.90831,     0.90816,     0.90801,     0.90786,      0.9077,     0.90755,      0.9074,     0.90725,      0.9071,     0.90694,     0.90679,\n",
       "            0.90664,     0.90649,     0.90633,     0.90618,     0.90603,     0.90588,     0.90572,     0.90557,     0.90542,     0.90526,     0.90511,     0.90496,     0.90481,     0.90465,      0.9045,     0.90435,     0.90419,     0.90404,     0.90389,     0.90373,     0.90358,     0.90343,     0.90327,\n",
       "            0.90312,     0.90297,     0.90281,     0.90266,     0.90251,     0.90235,      0.9022,     0.90204,     0.90163,     0.90091,     0.90018,     0.89945,     0.89873,       0.898,     0.89727,     0.89654,     0.89581,     0.89508,     0.89434,     0.89361,     0.89287,     0.89214,      0.8914,\n",
       "            0.89066,     0.88992,     0.88918,     0.88844,      0.8877,     0.88696,     0.88621,     0.88547,     0.88472,     0.88398,     0.88323,     0.88248,     0.88173,     0.88098,     0.88023,     0.87982,     0.87957,     0.87932,     0.87907,     0.87882,     0.87857,     0.87832,     0.87806,\n",
       "            0.87781,     0.87756,     0.87731,     0.87706,      0.8768,     0.87655,      0.8763,     0.87605,     0.87579,     0.87554,     0.87529,     0.87503,     0.87478,     0.87453,     0.87427,     0.87402,     0.87377,     0.87351,     0.87326,     0.87301,     0.87275,      0.8725,     0.87224,\n",
       "            0.87199,     0.87173,     0.87148,     0.87122,     0.87097,     0.87071,     0.87046,      0.8702,     0.86995,     0.86969,     0.86944,     0.86918,     0.86893,     0.86867,     0.86841,     0.86816,      0.8679,     0.86764,     0.86739,     0.86713,     0.86687,     0.86662,     0.86636,\n",
       "             0.8661,     0.86585,     0.86559,     0.86533,     0.86507,     0.86482,     0.86456,      0.8643,     0.86404,     0.86378,     0.86353,     0.86327,     0.86301,     0.86275,     0.86249,     0.86223,     0.86197,     0.86171,     0.86145,      0.8612,     0.86094,     0.86068,     0.86042,\n",
       "            0.86016,      0.8599,     0.85964,     0.85938,     0.85912,     0.85886,      0.8586,     0.85833,     0.85807,     0.85781,     0.85755,     0.85729,     0.85624,     0.85415,     0.85206,     0.84996,     0.84785,     0.84573,     0.84361,     0.84148,     0.83934,     0.83719,     0.83503,\n",
       "            0.83325,     0.83288,      0.8325,     0.83213,     0.83175,     0.83138,       0.831,     0.83062,     0.83025,     0.82987,     0.82949,     0.82912,     0.82874,     0.82836,     0.82798,     0.82761,     0.82723,     0.82685,     0.82647,     0.82609,     0.82571,     0.82533,     0.82495,\n",
       "            0.82457,     0.82419,     0.82381,     0.82343,     0.82305,     0.82267,     0.82228,      0.8219,     0.82152,     0.82114,     0.82076,     0.82037,     0.81999,     0.81961,     0.81922,     0.81884,     0.81845,     0.81807,     0.81769,      0.8173,     0.81692,     0.81653,     0.81614,\n",
       "            0.81576,     0.81537,     0.81499,      0.8146,     0.81421,     0.81382,     0.81344,     0.81305,     0.81266,     0.81227,     0.81189,      0.8115,     0.81111,     0.81072,     0.81033,     0.80994,     0.80955,     0.80916,     0.80877,     0.80771,     0.80534,     0.80296,     0.80057,\n",
       "            0.79817,     0.79576,     0.79335,     0.79092,     0.78848,     0.78603,     0.78358,     0.78007,     0.77586,     0.77163,     0.76736,     0.76307,     0.75875,      0.7551,     0.75338,     0.75165,     0.74992,     0.74818,     0.74644,      0.7447,     0.74295,     0.74119,     0.73943,\n",
       "            0.73767,      0.7359,     0.73412,     0.73234,     0.73055,     0.72876,     0.72707,     0.72586,     0.72464,     0.72343,     0.72221,     0.72099,     0.71976,     0.71854,     0.71731,     0.71608,     0.71485,     0.71361,     0.71237,     0.71113,     0.70989,     0.70865,      0.7074,\n",
       "            0.70615,      0.7049,     0.70364,     0.70239,     0.70113,     0.69987,      0.6986,     0.69731,     0.69592,     0.69454,     0.69315,     0.69176,     0.69037,     0.68897,     0.68757,     0.68617,     0.68476,     0.68335,     0.68194,     0.68053,     0.67911,     0.67769,     0.67626,\n",
       "            0.67484,     0.67341,     0.67197,     0.67054,      0.6691,     0.66765,     0.65977,     0.63748,     0.60438,      0.5678,     0.54105,     0.50868,     0.48433,     0.47964,     0.47492,     0.47018,     0.46541,      0.4606,     0.45577,      0.4509,       0.446,     0.41361,     0.34748,\n",
       "             0.3221,     0.29594,     0.26894,     0.15488,      0.1227,     0.10971,    0.096534,    0.083177,    0.069632,           0,           0]]), 'Confidence', 'F1'], [array([          0,    0.001001,    0.002002,    0.003003,    0.004004,    0.005005,    0.006006,    0.007007,    0.008008,    0.009009,     0.01001,    0.011011,    0.012012,    0.013013,    0.014014,    0.015015,    0.016016,    0.017017,    0.018018,    0.019019,     0.02002,    0.021021,    0.022022,    0.023023,\n",
       "          0.024024,    0.025025,    0.026026,    0.027027,    0.028028,    0.029029,     0.03003,    0.031031,    0.032032,    0.033033,    0.034034,    0.035035,    0.036036,    0.037037,    0.038038,    0.039039,     0.04004,    0.041041,    0.042042,    0.043043,    0.044044,    0.045045,    0.046046,    0.047047,\n",
       "          0.048048,    0.049049,     0.05005,    0.051051,    0.052052,    0.053053,    0.054054,    0.055055,    0.056056,    0.057057,    0.058058,    0.059059,     0.06006,    0.061061,    0.062062,    0.063063,    0.064064,    0.065065,    0.066066,    0.067067,    0.068068,    0.069069,     0.07007,    0.071071,\n",
       "          0.072072,    0.073073,    0.074074,    0.075075,    0.076076,    0.077077,    0.078078,    0.079079,     0.08008,    0.081081,    0.082082,    0.083083,    0.084084,    0.085085,    0.086086,    0.087087,    0.088088,    0.089089,     0.09009,    0.091091,    0.092092,    0.093093,    0.094094,    0.095095,\n",
       "          0.096096,    0.097097,    0.098098,    0.099099,      0.1001,      0.1011,      0.1021,      0.1031,      0.1041,     0.10511,     0.10611,     0.10711,     0.10811,     0.10911,     0.11011,     0.11111,     0.11211,     0.11311,     0.11411,     0.11512,     0.11612,     0.11712,     0.11812,     0.11912,\n",
       "           0.12012,     0.12112,     0.12212,     0.12312,     0.12412,     0.12513,     0.12613,     0.12713,     0.12813,     0.12913,     0.13013,     0.13113,     0.13213,     0.13313,     0.13413,     0.13514,     0.13614,     0.13714,     0.13814,     0.13914,     0.14014,     0.14114,     0.14214,     0.14314,\n",
       "           0.14414,     0.14515,     0.14615,     0.14715,     0.14815,     0.14915,     0.15015,     0.15115,     0.15215,     0.15315,     0.15415,     0.15516,     0.15616,     0.15716,     0.15816,     0.15916,     0.16016,     0.16116,     0.16216,     0.16316,     0.16416,     0.16517,     0.16617,     0.16717,\n",
       "           0.16817,     0.16917,     0.17017,     0.17117,     0.17217,     0.17317,     0.17417,     0.17518,     0.17618,     0.17718,     0.17818,     0.17918,     0.18018,     0.18118,     0.18218,     0.18318,     0.18418,     0.18519,     0.18619,     0.18719,     0.18819,     0.18919,     0.19019,     0.19119,\n",
       "           0.19219,     0.19319,     0.19419,      0.1952,      0.1962,      0.1972,      0.1982,      0.1992,      0.2002,      0.2012,      0.2022,      0.2032,      0.2042,     0.20521,     0.20621,     0.20721,     0.20821,     0.20921,     0.21021,     0.21121,     0.21221,     0.21321,     0.21421,     0.21522,\n",
       "           0.21622,     0.21722,     0.21822,     0.21922,     0.22022,     0.22122,     0.22222,     0.22322,     0.22422,     0.22523,     0.22623,     0.22723,     0.22823,     0.22923,     0.23023,     0.23123,     0.23223,     0.23323,     0.23423,     0.23524,     0.23624,     0.23724,     0.23824,     0.23924,\n",
       "           0.24024,     0.24124,     0.24224,     0.24324,     0.24424,     0.24525,     0.24625,     0.24725,     0.24825,     0.24925,     0.25025,     0.25125,     0.25225,     0.25325,     0.25425,     0.25526,     0.25626,     0.25726,     0.25826,     0.25926,     0.26026,     0.26126,     0.26226,     0.26326,\n",
       "           0.26426,     0.26527,     0.26627,     0.26727,     0.26827,     0.26927,     0.27027,     0.27127,     0.27227,     0.27327,     0.27427,     0.27528,     0.27628,     0.27728,     0.27828,     0.27928,     0.28028,     0.28128,     0.28228,     0.28328,     0.28428,     0.28529,     0.28629,     0.28729,\n",
       "           0.28829,     0.28929,     0.29029,     0.29129,     0.29229,     0.29329,     0.29429,      0.2953,      0.2963,      0.2973,      0.2983,      0.2993,      0.3003,      0.3013,      0.3023,      0.3033,      0.3043,     0.30531,     0.30631,     0.30731,     0.30831,     0.30931,     0.31031,     0.31131,\n",
       "           0.31231,     0.31331,     0.31431,     0.31532,     0.31632,     0.31732,     0.31832,     0.31932,     0.32032,     0.32132,     0.32232,     0.32332,     0.32432,     0.32533,     0.32633,     0.32733,     0.32833,     0.32933,     0.33033,     0.33133,     0.33233,     0.33333,     0.33433,     0.33534,\n",
       "           0.33634,     0.33734,     0.33834,     0.33934,     0.34034,     0.34134,     0.34234,     0.34334,     0.34434,     0.34535,     0.34635,     0.34735,     0.34835,     0.34935,     0.35035,     0.35135,     0.35235,     0.35335,     0.35435,     0.35536,     0.35636,     0.35736,     0.35836,     0.35936,\n",
       "           0.36036,     0.36136,     0.36236,     0.36336,     0.36436,     0.36537,     0.36637,     0.36737,     0.36837,     0.36937,     0.37037,     0.37137,     0.37237,     0.37337,     0.37437,     0.37538,     0.37638,     0.37738,     0.37838,     0.37938,     0.38038,     0.38138,     0.38238,     0.38338,\n",
       "           0.38438,     0.38539,     0.38639,     0.38739,     0.38839,     0.38939,     0.39039,     0.39139,     0.39239,     0.39339,     0.39439,      0.3954,      0.3964,      0.3974,      0.3984,      0.3994,      0.4004,      0.4014,      0.4024,      0.4034,      0.4044,     0.40541,     0.40641,     0.40741,\n",
       "           0.40841,     0.40941,     0.41041,     0.41141,     0.41241,     0.41341,     0.41441,     0.41542,     0.41642,     0.41742,     0.41842,     0.41942,     0.42042,     0.42142,     0.42242,     0.42342,     0.42442,     0.42543,     0.42643,     0.42743,     0.42843,     0.42943,     0.43043,     0.43143,\n",
       "           0.43243,     0.43343,     0.43443,     0.43544,     0.43644,     0.43744,     0.43844,     0.43944,     0.44044,     0.44144,     0.44244,     0.44344,     0.44444,     0.44545,     0.44645,     0.44745,     0.44845,     0.44945,     0.45045,     0.45145,     0.45245,     0.45345,     0.45445,     0.45546,\n",
       "           0.45646,     0.45746,     0.45846,     0.45946,     0.46046,     0.46146,     0.46246,     0.46346,     0.46446,     0.46547,     0.46647,     0.46747,     0.46847,     0.46947,     0.47047,     0.47147,     0.47247,     0.47347,     0.47447,     0.47548,     0.47648,     0.47748,     0.47848,     0.47948,\n",
       "           0.48048,     0.48148,     0.48248,     0.48348,     0.48448,     0.48549,     0.48649,     0.48749,     0.48849,     0.48949,     0.49049,     0.49149,     0.49249,     0.49349,     0.49449,      0.4955,      0.4965,      0.4975,      0.4985,      0.4995,      0.5005,      0.5015,      0.5025,      0.5035,\n",
       "            0.5045,     0.50551,     0.50651,     0.50751,     0.50851,     0.50951,     0.51051,     0.51151,     0.51251,     0.51351,     0.51451,     0.51552,     0.51652,     0.51752,     0.51852,     0.51952,     0.52052,     0.52152,     0.52252,     0.52352,     0.52452,     0.52553,     0.52653,     0.52753,\n",
       "           0.52853,     0.52953,     0.53053,     0.53153,     0.53253,     0.53353,     0.53453,     0.53554,     0.53654,     0.53754,     0.53854,     0.53954,     0.54054,     0.54154,     0.54254,     0.54354,     0.54454,     0.54555,     0.54655,     0.54755,     0.54855,     0.54955,     0.55055,     0.55155,\n",
       "           0.55255,     0.55355,     0.55455,     0.55556,     0.55656,     0.55756,     0.55856,     0.55956,     0.56056,     0.56156,     0.56256,     0.56356,     0.56456,     0.56557,     0.56657,     0.56757,     0.56857,     0.56957,     0.57057,     0.57157,     0.57257,     0.57357,     0.57457,     0.57558,\n",
       "           0.57658,     0.57758,     0.57858,     0.57958,     0.58058,     0.58158,     0.58258,     0.58358,     0.58458,     0.58559,     0.58659,     0.58759,     0.58859,     0.58959,     0.59059,     0.59159,     0.59259,     0.59359,     0.59459,      0.5956,      0.5966,      0.5976,      0.5986,      0.5996,\n",
       "            0.6006,      0.6016,      0.6026,      0.6036,      0.6046,     0.60561,     0.60661,     0.60761,     0.60861,     0.60961,     0.61061,     0.61161,     0.61261,     0.61361,     0.61461,     0.61562,     0.61662,     0.61762,     0.61862,     0.61962,     0.62062,     0.62162,     0.62262,     0.62362,\n",
       "           0.62462,     0.62563,     0.62663,     0.62763,     0.62863,     0.62963,     0.63063,     0.63163,     0.63263,     0.63363,     0.63463,     0.63564,     0.63664,     0.63764,     0.63864,     0.63964,     0.64064,     0.64164,     0.64264,     0.64364,     0.64464,     0.64565,     0.64665,     0.64765,\n",
       "           0.64865,     0.64965,     0.65065,     0.65165,     0.65265,     0.65365,     0.65465,     0.65566,     0.65666,     0.65766,     0.65866,     0.65966,     0.66066,     0.66166,     0.66266,     0.66366,     0.66466,     0.66567,     0.66667,     0.66767,     0.66867,     0.66967,     0.67067,     0.67167,\n",
       "           0.67267,     0.67367,     0.67467,     0.67568,     0.67668,     0.67768,     0.67868,     0.67968,     0.68068,     0.68168,     0.68268,     0.68368,     0.68468,     0.68569,     0.68669,     0.68769,     0.68869,     0.68969,     0.69069,     0.69169,     0.69269,     0.69369,     0.69469,      0.6957,\n",
       "            0.6967,      0.6977,      0.6987,      0.6997,      0.7007,      0.7017,      0.7027,      0.7037,      0.7047,     0.70571,     0.70671,     0.70771,     0.70871,     0.70971,     0.71071,     0.71171,     0.71271,     0.71371,     0.71471,     0.71572,     0.71672,     0.71772,     0.71872,     0.71972,\n",
       "           0.72072,     0.72172,     0.72272,     0.72372,     0.72472,     0.72573,     0.72673,     0.72773,     0.72873,     0.72973,     0.73073,     0.73173,     0.73273,     0.73373,     0.73473,     0.73574,     0.73674,     0.73774,     0.73874,     0.73974,     0.74074,     0.74174,     0.74274,     0.74374,\n",
       "           0.74474,     0.74575,     0.74675,     0.74775,     0.74875,     0.74975,     0.75075,     0.75175,     0.75275,     0.75375,     0.75475,     0.75576,     0.75676,     0.75776,     0.75876,     0.75976,     0.76076,     0.76176,     0.76276,     0.76376,     0.76476,     0.76577,     0.76677,     0.76777,\n",
       "           0.76877,     0.76977,     0.77077,     0.77177,     0.77277,     0.77377,     0.77477,     0.77578,     0.77678,     0.77778,     0.77878,     0.77978,     0.78078,     0.78178,     0.78278,     0.78378,     0.78478,     0.78579,     0.78679,     0.78779,     0.78879,     0.78979,     0.79079,     0.79179,\n",
       "           0.79279,     0.79379,     0.79479,      0.7958,      0.7968,      0.7978,      0.7988,      0.7998,      0.8008,      0.8018,      0.8028,      0.8038,      0.8048,     0.80581,     0.80681,     0.80781,     0.80881,     0.80981,     0.81081,     0.81181,     0.81281,     0.81381,     0.81481,     0.81582,\n",
       "           0.81682,     0.81782,     0.81882,     0.81982,     0.82082,     0.82182,     0.82282,     0.82382,     0.82482,     0.82583,     0.82683,     0.82783,     0.82883,     0.82983,     0.83083,     0.83183,     0.83283,     0.83383,     0.83483,     0.83584,     0.83684,     0.83784,     0.83884,     0.83984,\n",
       "           0.84084,     0.84184,     0.84284,     0.84384,     0.84484,     0.84585,     0.84685,     0.84785,     0.84885,     0.84985,     0.85085,     0.85185,     0.85285,     0.85385,     0.85485,     0.85586,     0.85686,     0.85786,     0.85886,     0.85986,     0.86086,     0.86186,     0.86286,     0.86386,\n",
       "           0.86486,     0.86587,     0.86687,     0.86787,     0.86887,     0.86987,     0.87087,     0.87187,     0.87287,     0.87387,     0.87487,     0.87588,     0.87688,     0.87788,     0.87888,     0.87988,     0.88088,     0.88188,     0.88288,     0.88388,     0.88488,     0.88589,     0.88689,     0.88789,\n",
       "           0.88889,     0.88989,     0.89089,     0.89189,     0.89289,     0.89389,     0.89489,      0.8959,      0.8969,      0.8979,      0.8989,      0.8999,      0.9009,      0.9019,      0.9029,      0.9039,      0.9049,     0.90591,     0.90691,     0.90791,     0.90891,     0.90991,     0.91091,     0.91191,\n",
       "           0.91291,     0.91391,     0.91491,     0.91592,     0.91692,     0.91792,     0.91892,     0.91992,     0.92092,     0.92192,     0.92292,     0.92392,     0.92492,     0.92593,     0.92693,     0.92793,     0.92893,     0.92993,     0.93093,     0.93193,     0.93293,     0.93393,     0.93493,     0.93594,\n",
       "           0.93694,     0.93794,     0.93894,     0.93994,     0.94094,     0.94194,     0.94294,     0.94394,     0.94494,     0.94595,     0.94695,     0.94795,     0.94895,     0.94995,     0.95095,     0.95195,     0.95295,     0.95395,     0.95495,     0.95596,     0.95696,     0.95796,     0.95896,     0.95996,\n",
       "           0.96096,     0.96196,     0.96296,     0.96396,     0.96496,     0.96597,     0.96697,     0.96797,     0.96897,     0.96997,     0.97097,     0.97197,     0.97297,     0.97397,     0.97497,     0.97598,     0.97698,     0.97798,     0.97898,     0.97998,     0.98098,     0.98198,     0.98298,     0.98398,\n",
       "           0.98498,     0.98599,     0.98699,     0.98799,     0.98899,     0.98999,     0.99099,     0.99199,     0.99299,     0.99399,     0.99499,       0.996,       0.997,       0.998,       0.999,           1]), array([[   0.010813,    0.010813,    0.014586,    0.036461,    0.067167,     0.11414,     0.15297,     0.18019,     0.20485,      0.2326,     0.26636,     0.28224,      0.2978,     0.33521,     0.38565,     0.41599,     0.44045,     0.49336,     0.54089,     0.59287,      0.6018,     0.64796,     0.66458,\n",
       "            0.67826,     0.71834,     0.73385,     0.75266,      0.7698,     0.77811,     0.78642,      0.7963,     0.80652,     0.83894,     0.84367,      0.8484,     0.85312,     0.85785,     0.86258,     0.86651,     0.86534,     0.86417,       0.863,     0.87778,     0.89445,     0.89643,      0.8984,\n",
       "            0.90038,     0.90235,     0.90433,      0.9063,     0.90828,     0.91026,     0.91223,     0.91421,     0.91618,     0.91816,     0.92013,     0.92211,     0.92409,     0.92594,     0.92612,     0.92631,     0.92649,     0.92667,     0.92686,     0.92704,     0.92722,     0.92741,     0.92759,\n",
       "            0.92777,     0.92796,     0.92814,     0.92833,     0.92851,     0.92869,     0.92888,     0.92906,     0.92924,     0.92943,     0.92961,     0.92979,     0.92998,     0.93016,     0.93034,     0.93053,     0.93071,      0.9309,     0.93108,     0.93126,     0.93145,     0.93163,     0.93181,\n",
       "              0.932,     0.93218,     0.93236,     0.93255,     0.93273,     0.93291,      0.9331,     0.93328,     0.93347,     0.93365,     0.93383,     0.93402,      0.9342,     0.93438,     0.93457,     0.93475,     0.93493,     0.93512,      0.9353,     0.93548,     0.93567,     0.93585,     0.93604,\n",
       "            0.93622,      0.9364,     0.93659,     0.93677,     0.93695,     0.93714,     0.93732,      0.9375,     0.93769,     0.93787,     0.93805,     0.93824,     0.93842,     0.93861,     0.93879,     0.93897,     0.93916,     0.93934,     0.93952,     0.93971,     0.93989,     0.94007,     0.94026,\n",
       "            0.94044,     0.94062,     0.94081,     0.94099,     0.94118,     0.94136,     0.94154,     0.94173,     0.94191,     0.94209,     0.94228,     0.94246,     0.94264,     0.94283,     0.94301,      0.9432,     0.94338,     0.94356,     0.94375,     0.94393,     0.94411,      0.9443,     0.94448,\n",
       "            0.94466,     0.94485,     0.94503,     0.94521,      0.9454,     0.94558,     0.94577,     0.94595,     0.94613,     0.94632,      0.9465,     0.94668,     0.94687,     0.94705,     0.94723,     0.94742,      0.9476,     0.94778,     0.94797,     0.94815,     0.94834,     0.94852,      0.9487,\n",
       "            0.94889,     0.94907,     0.94925,     0.94944,     0.94962,      0.9498,     0.94999,     0.95017,     0.95035,     0.95054,     0.95072,     0.95091,     0.95109,     0.95127,     0.95146,     0.95164,     0.95182,     0.95201,     0.95219,     0.95237,     0.95256,     0.95274,     0.95292,\n",
       "            0.95311,     0.95329,     0.95348,     0.95366,     0.95384,     0.95403,     0.95421,     0.95439,     0.95458,     0.95476,     0.95494,     0.95513,     0.95531,     0.95549,     0.95568,     0.95586,     0.95605,     0.95623,     0.95641,      0.9566,     0.95678,     0.95696,     0.95715,\n",
       "            0.95733,     0.95751,      0.9577,     0.95788,     0.95807,     0.95825,     0.95843,     0.95862,      0.9588,     0.95898,     0.95917,     0.95935,     0.95953,     0.95972,      0.9599,     0.96008,     0.96027,     0.96045,     0.96064,     0.96082,       0.961,     0.96119,     0.96137,\n",
       "            0.96154,     0.96153,     0.96153,     0.96152,     0.96151,     0.96151,      0.9615,      0.9615,     0.96149,     0.96148,     0.96148,     0.96147,     0.96147,     0.96146,     0.96145,     0.96145,     0.96144,     0.96144,     0.96143,     0.96142,     0.96142,     0.96141,      0.9614,\n",
       "             0.9614,     0.96139,     0.96139,     0.96138,     0.96137,     0.96137,     0.96136,     0.96136,     0.96135,     0.96134,     0.96134,     0.96133,     0.96133,     0.96132,     0.96131,     0.96131,      0.9613,      0.9613,     0.96129,     0.96128,     0.96128,     0.96127,     0.96127,\n",
       "            0.96126,     0.96125,     0.96125,     0.96124,     0.96124,     0.96123,     0.96122,     0.96122,     0.96121,     0.96121,      0.9612,     0.96119,     0.96119,     0.96118,     0.96118,     0.96117,     0.96116,     0.96116,     0.96115,     0.96114,     0.96114,     0.96113,     0.96113,\n",
       "            0.96112,     0.96111,     0.96111,      0.9611,      0.9611,     0.96109,     0.96108,     0.96108,     0.96107,     0.96107,     0.96106,     0.96105,     0.96105,     0.96104,     0.96104,     0.96103,     0.96102,     0.96102,     0.96101,     0.96101,       0.961,     0.96099,     0.96099,\n",
       "            0.96098,     0.96098,     0.96097,     0.96096,     0.96096,     0.96095,     0.96095,     0.96094,     0.96093,     0.96093,     0.96092,     0.96092,     0.96091,      0.9609,      0.9609,     0.96089,     0.96088,     0.96088,     0.96087,     0.96087,     0.96086,     0.96085,     0.96085,\n",
       "            0.96084,     0.96084,     0.96083,     0.96082,     0.96082,     0.96081,     0.96081,      0.9608,     0.96079,     0.96079,     0.96078,     0.96078,     0.96077,     0.96076,     0.96076,     0.96075,     0.96075,     0.96074,     0.96073,     0.96073,     0.96072,     0.96072,     0.96071,\n",
       "             0.9607,      0.9607,     0.96069,     0.96069,     0.96068,     0.96067,     0.96067,     0.96066,     0.96066,     0.96065,     0.96064,     0.96064,     0.96063,     0.96062,     0.96062,     0.96061,     0.96061,      0.9606,     0.96059,     0.96059,     0.96058,     0.96058,     0.96057,\n",
       "            0.96056,     0.96056,     0.96055,     0.96055,     0.96054,     0.96053,     0.96053,     0.96052,     0.96052,     0.96051,      0.9605,      0.9605,     0.96049,     0.96049,     0.96048,     0.96047,     0.96047,     0.96046,     0.96046,     0.96045,     0.96044,     0.96044,     0.96043,\n",
       "            0.96043,     0.96042,     0.96041,     0.96041,      0.9604,     0.96039,     0.96039,     0.96038,     0.96038,     0.96037,     0.96036,     0.96036,     0.96035,     0.96035,     0.96034,     0.96033,     0.96033,     0.96032,     0.96032,     0.96031,      0.9603,      0.9603,     0.96029,\n",
       "            0.96029,     0.96028,     0.96027,     0.96027,     0.96026,     0.96026,     0.96025,     0.96024,     0.96024,     0.96023,     0.96023,     0.96022,     0.96021,     0.96021,      0.9602,      0.9602,     0.96019,     0.96018,     0.96018,     0.96017,     0.96017,     0.96016,     0.96015,\n",
       "            0.96015,     0.96014,     0.96013,     0.96013,     0.96012,     0.96012,     0.96011,      0.9601,      0.9601,     0.96009,     0.96009,     0.96008,     0.96007,     0.96007,     0.96006,     0.96006,     0.96005,     0.96004,     0.96004,     0.96003,     0.96003,     0.96002,     0.96001,\n",
       "            0.96001,        0.96,     0.96055,     0.96135,     0.96215,     0.96294,     0.96374,     0.96453,     0.96533,     0.96613,     0.96692,     0.96772,     0.96851,     0.96931,     0.97011,      0.9709,      0.9717,      0.9725,     0.97329,     0.97409,     0.97488,     0.97568,     0.97648,\n",
       "            0.97727,     0.97807,     0.97886,     0.97966,     0.98046,     0.98125,     0.98205,     0.98285,     0.98364,     0.98444,     0.98523,     0.98603,     0.98683,     0.98762,     0.98842,     0.98921,     0.99001,     0.99081,      0.9916,      0.9924,      0.9932,     0.99399,     0.99479,\n",
       "            0.99558,     0.99638,     0.99718,     0.99797,     0.99877,     0.99956,           1,           1,           1,           1,           1,           1,           1,           1,           1,           1,           1,           1,           1,           1,           1,           1,           1,\n",
       "                  1,           1,           1,           1,           1,           1,           1,           1,           1,           1,           1,           1,           1,           1,           1,           1,           1,           1,           1,           1,           1,           1,           1,\n",
       "                  1,           1,           1,           1,           1,           1,           1,           1,           1,           1,           1,           1,           1,           1,           1,           1,           1,           1,           1,           1,           1,           1,           1,\n",
       "                  1,           1,           1,           1,           1,           1,           1,           1,           1,           1,           1,           1,           1,           1,           1,           1,           1,           1,           1,           1,           1,           1,           1,\n",
       "                  1,           1,           1,           1,           1,           1,           1,           1,           1,           1,           1,           1,           1,           1,           1,           1,           1,           1,           1,           1,           1,           1,           1,\n",
       "                  1,           1,           1,           1,           1,           1,           1,           1,           1,           1,           1,           1,           1,           1,           1,           1,           1,           1,           1,           1,           1,           1,           1,\n",
       "                  1,           1,           1,           1,           1,           1,           1,           1,           1,           1,           1,           1,           1,           1,           1,           1,           1,           1,           1,           1,           1,           1,           1,\n",
       "                  1,           1,           1,           1,           1,           1,           1,           1,           1,           1,           1,           1,           1,           1,           1,           1,           1,           1,           1,           1,           1,           1,           1,\n",
       "                  1,           1,           1,           1,           1,           1,           1,           1,           1,           1,           1,           1,           1,           1,           1,           1,           1,           1,           1,           1,           1,           1,           1,\n",
       "                  1,           1,           1,           1,           1,           1,           1,           1,           1,           1,           1,           1,           1,           1,           1,           1,           1,           1,           1,           1,           1,           1,           1,\n",
       "                  1,           1,           1,           1,           1,           1,           1,           1,           1,           1,           1,           1,           1,           1,           1,           1,           1,           1,           1,           1,           1,           1,           1,\n",
       "                  1,           1,           1,           1,           1,           1,           1,           1,           1,           1,           1,           1,           1,           1,           1,           1,           1,           1,           1,           1,           1,           1,           1,\n",
       "                  1,           1,           1,           1,           1,           1,           1,           1,           1,           1,           1,           1,           1,           1,           1,           1,           1,           1,           1,           1,           1,           1,           1,\n",
       "                  1,           1,           1,           1,           1,           1,           1,           1,           1,           1,           1,           1,           1,           1,           1,           1,           1,           1,           1,           1,           1,           1,           1,\n",
       "                  1,           1,           1,           1,           1,           1,           1,           1,           1,           1,           1,           1,           1,           1,           1,           1,           1,           1,           1,           1,           1,           1,           1,\n",
       "                  1,           1,           1,           1,           1,           1,           1,           1,           1,           1,           1,           1,           1,           1,           1,           1,           1,           1,           1,           1,           1,           1,           1,\n",
       "                  1,           1,           1,           1,           1,           1,           1,           1,           1,           1,           1,           1,           1,           1,           1,           1,           1,           1,           1,           1,           1,           1,           1,\n",
       "                  1,           1,           1,           1,           1,           1,           1,           1,           1,           1,           1,           1,           1,           1,           1,           1,           1,           1,           1,           1,           1,           1,           1,\n",
       "                  1,           1,           1,           1,           1,           1,           1,           1,           1,           1,           1,           1,           1,           1,           1,           1,           1,           1,           1,           1,           1,           1,           1,\n",
       "                  1,           1,           1,           1,           1,           1,           1,           1,           1,           1,           1]]), 'Confidence', 'Precision'], [array([          0,    0.001001,    0.002002,    0.003003,    0.004004,    0.005005,    0.006006,    0.007007,    0.008008,    0.009009,     0.01001,    0.011011,    0.012012,    0.013013,    0.014014,    0.015015,    0.016016,    0.017017,    0.018018,    0.019019,     0.02002,    0.021021,    0.022022,    0.023023,\n",
       "          0.024024,    0.025025,    0.026026,    0.027027,    0.028028,    0.029029,     0.03003,    0.031031,    0.032032,    0.033033,    0.034034,    0.035035,    0.036036,    0.037037,    0.038038,    0.039039,     0.04004,    0.041041,    0.042042,    0.043043,    0.044044,    0.045045,    0.046046,    0.047047,\n",
       "          0.048048,    0.049049,     0.05005,    0.051051,    0.052052,    0.053053,    0.054054,    0.055055,    0.056056,    0.057057,    0.058058,    0.059059,     0.06006,    0.061061,    0.062062,    0.063063,    0.064064,    0.065065,    0.066066,    0.067067,    0.068068,    0.069069,     0.07007,    0.071071,\n",
       "          0.072072,    0.073073,    0.074074,    0.075075,    0.076076,    0.077077,    0.078078,    0.079079,     0.08008,    0.081081,    0.082082,    0.083083,    0.084084,    0.085085,    0.086086,    0.087087,    0.088088,    0.089089,     0.09009,    0.091091,    0.092092,    0.093093,    0.094094,    0.095095,\n",
       "          0.096096,    0.097097,    0.098098,    0.099099,      0.1001,      0.1011,      0.1021,      0.1031,      0.1041,     0.10511,     0.10611,     0.10711,     0.10811,     0.10911,     0.11011,     0.11111,     0.11211,     0.11311,     0.11411,     0.11512,     0.11612,     0.11712,     0.11812,     0.11912,\n",
       "           0.12012,     0.12112,     0.12212,     0.12312,     0.12412,     0.12513,     0.12613,     0.12713,     0.12813,     0.12913,     0.13013,     0.13113,     0.13213,     0.13313,     0.13413,     0.13514,     0.13614,     0.13714,     0.13814,     0.13914,     0.14014,     0.14114,     0.14214,     0.14314,\n",
       "           0.14414,     0.14515,     0.14615,     0.14715,     0.14815,     0.14915,     0.15015,     0.15115,     0.15215,     0.15315,     0.15415,     0.15516,     0.15616,     0.15716,     0.15816,     0.15916,     0.16016,     0.16116,     0.16216,     0.16316,     0.16416,     0.16517,     0.16617,     0.16717,\n",
       "           0.16817,     0.16917,     0.17017,     0.17117,     0.17217,     0.17317,     0.17417,     0.17518,     0.17618,     0.17718,     0.17818,     0.17918,     0.18018,     0.18118,     0.18218,     0.18318,     0.18418,     0.18519,     0.18619,     0.18719,     0.18819,     0.18919,     0.19019,     0.19119,\n",
       "           0.19219,     0.19319,     0.19419,      0.1952,      0.1962,      0.1972,      0.1982,      0.1992,      0.2002,      0.2012,      0.2022,      0.2032,      0.2042,     0.20521,     0.20621,     0.20721,     0.20821,     0.20921,     0.21021,     0.21121,     0.21221,     0.21321,     0.21421,     0.21522,\n",
       "           0.21622,     0.21722,     0.21822,     0.21922,     0.22022,     0.22122,     0.22222,     0.22322,     0.22422,     0.22523,     0.22623,     0.22723,     0.22823,     0.22923,     0.23023,     0.23123,     0.23223,     0.23323,     0.23423,     0.23524,     0.23624,     0.23724,     0.23824,     0.23924,\n",
       "           0.24024,     0.24124,     0.24224,     0.24324,     0.24424,     0.24525,     0.24625,     0.24725,     0.24825,     0.24925,     0.25025,     0.25125,     0.25225,     0.25325,     0.25425,     0.25526,     0.25626,     0.25726,     0.25826,     0.25926,     0.26026,     0.26126,     0.26226,     0.26326,\n",
       "           0.26426,     0.26527,     0.26627,     0.26727,     0.26827,     0.26927,     0.27027,     0.27127,     0.27227,     0.27327,     0.27427,     0.27528,     0.27628,     0.27728,     0.27828,     0.27928,     0.28028,     0.28128,     0.28228,     0.28328,     0.28428,     0.28529,     0.28629,     0.28729,\n",
       "           0.28829,     0.28929,     0.29029,     0.29129,     0.29229,     0.29329,     0.29429,      0.2953,      0.2963,      0.2973,      0.2983,      0.2993,      0.3003,      0.3013,      0.3023,      0.3033,      0.3043,     0.30531,     0.30631,     0.30731,     0.30831,     0.30931,     0.31031,     0.31131,\n",
       "           0.31231,     0.31331,     0.31431,     0.31532,     0.31632,     0.31732,     0.31832,     0.31932,     0.32032,     0.32132,     0.32232,     0.32332,     0.32432,     0.32533,     0.32633,     0.32733,     0.32833,     0.32933,     0.33033,     0.33133,     0.33233,     0.33333,     0.33433,     0.33534,\n",
       "           0.33634,     0.33734,     0.33834,     0.33934,     0.34034,     0.34134,     0.34234,     0.34334,     0.34434,     0.34535,     0.34635,     0.34735,     0.34835,     0.34935,     0.35035,     0.35135,     0.35235,     0.35335,     0.35435,     0.35536,     0.35636,     0.35736,     0.35836,     0.35936,\n",
       "           0.36036,     0.36136,     0.36236,     0.36336,     0.36436,     0.36537,     0.36637,     0.36737,     0.36837,     0.36937,     0.37037,     0.37137,     0.37237,     0.37337,     0.37437,     0.37538,     0.37638,     0.37738,     0.37838,     0.37938,     0.38038,     0.38138,     0.38238,     0.38338,\n",
       "           0.38438,     0.38539,     0.38639,     0.38739,     0.38839,     0.38939,     0.39039,     0.39139,     0.39239,     0.39339,     0.39439,      0.3954,      0.3964,      0.3974,      0.3984,      0.3994,      0.4004,      0.4014,      0.4024,      0.4034,      0.4044,     0.40541,     0.40641,     0.40741,\n",
       "           0.40841,     0.40941,     0.41041,     0.41141,     0.41241,     0.41341,     0.41441,     0.41542,     0.41642,     0.41742,     0.41842,     0.41942,     0.42042,     0.42142,     0.42242,     0.42342,     0.42442,     0.42543,     0.42643,     0.42743,     0.42843,     0.42943,     0.43043,     0.43143,\n",
       "           0.43243,     0.43343,     0.43443,     0.43544,     0.43644,     0.43744,     0.43844,     0.43944,     0.44044,     0.44144,     0.44244,     0.44344,     0.44444,     0.44545,     0.44645,     0.44745,     0.44845,     0.44945,     0.45045,     0.45145,     0.45245,     0.45345,     0.45445,     0.45546,\n",
       "           0.45646,     0.45746,     0.45846,     0.45946,     0.46046,     0.46146,     0.46246,     0.46346,     0.46446,     0.46547,     0.46647,     0.46747,     0.46847,     0.46947,     0.47047,     0.47147,     0.47247,     0.47347,     0.47447,     0.47548,     0.47648,     0.47748,     0.47848,     0.47948,\n",
       "           0.48048,     0.48148,     0.48248,     0.48348,     0.48448,     0.48549,     0.48649,     0.48749,     0.48849,     0.48949,     0.49049,     0.49149,     0.49249,     0.49349,     0.49449,      0.4955,      0.4965,      0.4975,      0.4985,      0.4995,      0.5005,      0.5015,      0.5025,      0.5035,\n",
       "            0.5045,     0.50551,     0.50651,     0.50751,     0.50851,     0.50951,     0.51051,     0.51151,     0.51251,     0.51351,     0.51451,     0.51552,     0.51652,     0.51752,     0.51852,     0.51952,     0.52052,     0.52152,     0.52252,     0.52352,     0.52452,     0.52553,     0.52653,     0.52753,\n",
       "           0.52853,     0.52953,     0.53053,     0.53153,     0.53253,     0.53353,     0.53453,     0.53554,     0.53654,     0.53754,     0.53854,     0.53954,     0.54054,     0.54154,     0.54254,     0.54354,     0.54454,     0.54555,     0.54655,     0.54755,     0.54855,     0.54955,     0.55055,     0.55155,\n",
       "           0.55255,     0.55355,     0.55455,     0.55556,     0.55656,     0.55756,     0.55856,     0.55956,     0.56056,     0.56156,     0.56256,     0.56356,     0.56456,     0.56557,     0.56657,     0.56757,     0.56857,     0.56957,     0.57057,     0.57157,     0.57257,     0.57357,     0.57457,     0.57558,\n",
       "           0.57658,     0.57758,     0.57858,     0.57958,     0.58058,     0.58158,     0.58258,     0.58358,     0.58458,     0.58559,     0.58659,     0.58759,     0.58859,     0.58959,     0.59059,     0.59159,     0.59259,     0.59359,     0.59459,      0.5956,      0.5966,      0.5976,      0.5986,      0.5996,\n",
       "            0.6006,      0.6016,      0.6026,      0.6036,      0.6046,     0.60561,     0.60661,     0.60761,     0.60861,     0.60961,     0.61061,     0.61161,     0.61261,     0.61361,     0.61461,     0.61562,     0.61662,     0.61762,     0.61862,     0.61962,     0.62062,     0.62162,     0.62262,     0.62362,\n",
       "           0.62462,     0.62563,     0.62663,     0.62763,     0.62863,     0.62963,     0.63063,     0.63163,     0.63263,     0.63363,     0.63463,     0.63564,     0.63664,     0.63764,     0.63864,     0.63964,     0.64064,     0.64164,     0.64264,     0.64364,     0.64464,     0.64565,     0.64665,     0.64765,\n",
       "           0.64865,     0.64965,     0.65065,     0.65165,     0.65265,     0.65365,     0.65465,     0.65566,     0.65666,     0.65766,     0.65866,     0.65966,     0.66066,     0.66166,     0.66266,     0.66366,     0.66466,     0.66567,     0.66667,     0.66767,     0.66867,     0.66967,     0.67067,     0.67167,\n",
       "           0.67267,     0.67367,     0.67467,     0.67568,     0.67668,     0.67768,     0.67868,     0.67968,     0.68068,     0.68168,     0.68268,     0.68368,     0.68468,     0.68569,     0.68669,     0.68769,     0.68869,     0.68969,     0.69069,     0.69169,     0.69269,     0.69369,     0.69469,      0.6957,\n",
       "            0.6967,      0.6977,      0.6987,      0.6997,      0.7007,      0.7017,      0.7027,      0.7037,      0.7047,     0.70571,     0.70671,     0.70771,     0.70871,     0.70971,     0.71071,     0.71171,     0.71271,     0.71371,     0.71471,     0.71572,     0.71672,     0.71772,     0.71872,     0.71972,\n",
       "           0.72072,     0.72172,     0.72272,     0.72372,     0.72472,     0.72573,     0.72673,     0.72773,     0.72873,     0.72973,     0.73073,     0.73173,     0.73273,     0.73373,     0.73473,     0.73574,     0.73674,     0.73774,     0.73874,     0.73974,     0.74074,     0.74174,     0.74274,     0.74374,\n",
       "           0.74474,     0.74575,     0.74675,     0.74775,     0.74875,     0.74975,     0.75075,     0.75175,     0.75275,     0.75375,     0.75475,     0.75576,     0.75676,     0.75776,     0.75876,     0.75976,     0.76076,     0.76176,     0.76276,     0.76376,     0.76476,     0.76577,     0.76677,     0.76777,\n",
       "           0.76877,     0.76977,     0.77077,     0.77177,     0.77277,     0.77377,     0.77477,     0.77578,     0.77678,     0.77778,     0.77878,     0.77978,     0.78078,     0.78178,     0.78278,     0.78378,     0.78478,     0.78579,     0.78679,     0.78779,     0.78879,     0.78979,     0.79079,     0.79179,\n",
       "           0.79279,     0.79379,     0.79479,      0.7958,      0.7968,      0.7978,      0.7988,      0.7998,      0.8008,      0.8018,      0.8028,      0.8038,      0.8048,     0.80581,     0.80681,     0.80781,     0.80881,     0.80981,     0.81081,     0.81181,     0.81281,     0.81381,     0.81481,     0.81582,\n",
       "           0.81682,     0.81782,     0.81882,     0.81982,     0.82082,     0.82182,     0.82282,     0.82382,     0.82482,     0.82583,     0.82683,     0.82783,     0.82883,     0.82983,     0.83083,     0.83183,     0.83283,     0.83383,     0.83483,     0.83584,     0.83684,     0.83784,     0.83884,     0.83984,\n",
       "           0.84084,     0.84184,     0.84284,     0.84384,     0.84484,     0.84585,     0.84685,     0.84785,     0.84885,     0.84985,     0.85085,     0.85185,     0.85285,     0.85385,     0.85485,     0.85586,     0.85686,     0.85786,     0.85886,     0.85986,     0.86086,     0.86186,     0.86286,     0.86386,\n",
       "           0.86486,     0.86587,     0.86687,     0.86787,     0.86887,     0.86987,     0.87087,     0.87187,     0.87287,     0.87387,     0.87487,     0.87588,     0.87688,     0.87788,     0.87888,     0.87988,     0.88088,     0.88188,     0.88288,     0.88388,     0.88488,     0.88589,     0.88689,     0.88789,\n",
       "           0.88889,     0.88989,     0.89089,     0.89189,     0.89289,     0.89389,     0.89489,      0.8959,      0.8969,      0.8979,      0.8989,      0.8999,      0.9009,      0.9019,      0.9029,      0.9039,      0.9049,     0.90591,     0.90691,     0.90791,     0.90891,     0.90991,     0.91091,     0.91191,\n",
       "           0.91291,     0.91391,     0.91491,     0.91592,     0.91692,     0.91792,     0.91892,     0.91992,     0.92092,     0.92192,     0.92292,     0.92392,     0.92492,     0.92593,     0.92693,     0.92793,     0.92893,     0.92993,     0.93093,     0.93193,     0.93293,     0.93393,     0.93493,     0.93594,\n",
       "           0.93694,     0.93794,     0.93894,     0.93994,     0.94094,     0.94194,     0.94294,     0.94394,     0.94494,     0.94595,     0.94695,     0.94795,     0.94895,     0.94995,     0.95095,     0.95195,     0.95295,     0.95395,     0.95495,     0.95596,     0.95696,     0.95796,     0.95896,     0.95996,\n",
       "           0.96096,     0.96196,     0.96296,     0.96396,     0.96496,     0.96597,     0.96697,     0.96797,     0.96897,     0.96997,     0.97097,     0.97197,     0.97297,     0.97397,     0.97497,     0.97598,     0.97698,     0.97798,     0.97898,     0.97998,     0.98098,     0.98198,     0.98298,     0.98398,\n",
       "           0.98498,     0.98599,     0.98699,     0.98799,     0.98899,     0.98999,     0.99099,     0.99199,     0.99299,     0.99399,     0.99499,       0.996,       0.997,       0.998,       0.999,           1]), array([[    0.96429,     0.96429,     0.96429,     0.92857,     0.92857,     0.92857,     0.92857,     0.92857,     0.92857,     0.92857,     0.92857,     0.92857,     0.92857,     0.92857,     0.92857,     0.92857,     0.92857,     0.92857,     0.92857,     0.92857,     0.92857,     0.92857,     0.92857,\n",
       "            0.92857,     0.92857,     0.92857,     0.92857,     0.92857,     0.92857,     0.92857,     0.92857,     0.92857,     0.92857,     0.92857,     0.92857,     0.92857,     0.92857,     0.92857,     0.92734,     0.91826,     0.90918,      0.9001,     0.89286,     0.89286,     0.89286,     0.89286,\n",
       "            0.89286,     0.89286,     0.89286,     0.89286,     0.89286,     0.89286,     0.89286,     0.89286,     0.89286,     0.89286,     0.89286,     0.89286,     0.89286,     0.89286,     0.89286,     0.89286,     0.89286,     0.89286,     0.89286,     0.89286,     0.89286,     0.89286,     0.89286,\n",
       "            0.89286,     0.89286,     0.89286,     0.89286,     0.89286,     0.89286,     0.89286,     0.89286,     0.89286,     0.89286,     0.89286,     0.89286,     0.89286,     0.89286,     0.89286,     0.89286,     0.89286,     0.89286,     0.89286,     0.89286,     0.89286,     0.89286,     0.89286,\n",
       "            0.89286,     0.89286,     0.89286,     0.89286,     0.89286,     0.89286,     0.89286,     0.89286,     0.89286,     0.89286,     0.89286,     0.89286,     0.89286,     0.89286,     0.89286,     0.89286,     0.89286,     0.89286,     0.89286,     0.89286,     0.89286,     0.89286,     0.89286,\n",
       "            0.89286,     0.89286,     0.89286,     0.89286,     0.89286,     0.89286,     0.89286,     0.89286,     0.89286,     0.89286,     0.89286,     0.89286,     0.89286,     0.89286,     0.89286,     0.89286,     0.89286,     0.89286,     0.89286,     0.89286,     0.89286,     0.89286,     0.89286,\n",
       "            0.89286,     0.89286,     0.89286,     0.89286,     0.89286,     0.89286,     0.89286,     0.89286,     0.89286,     0.89286,     0.89286,     0.89286,     0.89286,     0.89286,     0.89286,     0.89286,     0.89286,     0.89286,     0.89286,     0.89286,     0.89286,     0.89286,     0.89286,\n",
       "            0.89286,     0.89286,     0.89286,     0.89286,     0.89286,     0.89286,     0.89286,     0.89286,     0.89286,     0.89286,     0.89286,     0.89286,     0.89286,     0.89286,     0.89286,     0.89286,     0.89286,     0.89286,     0.89286,     0.89286,     0.89286,     0.89286,     0.89286,\n",
       "            0.89286,     0.89286,     0.89286,     0.89286,     0.89286,     0.89286,     0.89286,     0.89286,     0.89286,     0.89286,     0.89286,     0.89286,     0.89286,     0.89286,     0.89286,     0.89286,     0.89286,     0.89286,     0.89286,     0.89286,     0.89286,     0.89286,     0.89286,\n",
       "            0.89286,     0.89286,     0.89286,     0.89286,     0.89286,     0.89286,     0.89286,     0.89286,     0.89286,     0.89286,     0.89286,     0.89286,     0.89286,     0.89286,     0.89286,     0.89286,     0.89286,     0.89286,     0.89286,     0.89286,     0.89286,     0.89286,     0.89286,\n",
       "            0.89286,     0.89286,     0.89286,     0.89286,     0.89286,     0.89286,     0.89286,     0.89286,     0.89286,     0.89286,     0.89286,     0.89286,     0.89286,     0.89286,     0.89286,     0.89286,     0.89286,     0.89286,     0.89286,     0.89286,     0.89286,     0.89286,     0.89286,\n",
       "            0.89285,     0.89271,     0.89257,     0.89242,     0.89228,     0.89214,       0.892,     0.89186,     0.89172,     0.89158,     0.89144,      0.8913,     0.89116,     0.89102,     0.89088,     0.89074,      0.8906,     0.89046,     0.89032,     0.89018,     0.89004,      0.8899,     0.88976,\n",
       "            0.88962,     0.88948,     0.88934,      0.8892,     0.88906,     0.88891,     0.88877,     0.88863,     0.88849,     0.88835,     0.88821,     0.88807,     0.88793,     0.88779,     0.88765,     0.88751,     0.88737,     0.88723,     0.88709,     0.88695,     0.88681,     0.88667,     0.88653,\n",
       "            0.88639,     0.88625,     0.88611,     0.88597,     0.88583,     0.88569,     0.88555,     0.88541,     0.88526,     0.88512,     0.88498,     0.88484,      0.8847,     0.88456,     0.88442,     0.88428,     0.88414,       0.884,     0.88386,     0.88372,     0.88358,     0.88344,      0.8833,\n",
       "            0.88316,     0.88302,     0.88288,     0.88274,      0.8826,     0.88246,     0.88232,     0.88218,     0.88204,      0.8819,     0.88175,     0.88161,     0.88147,     0.88133,     0.88119,     0.88105,     0.88091,     0.88077,     0.88063,     0.88049,     0.88035,     0.88021,     0.88007,\n",
       "            0.87993,     0.87979,     0.87965,     0.87951,     0.87937,     0.87923,     0.87909,     0.87895,     0.87881,     0.87867,     0.87853,     0.87839,     0.87824,      0.8781,     0.87796,     0.87782,     0.87768,     0.87754,      0.8774,     0.87726,     0.87712,     0.87698,     0.87684,\n",
       "             0.8767,     0.87656,     0.87642,     0.87628,     0.87614,       0.876,     0.87586,     0.87572,     0.87558,     0.87544,      0.8753,     0.87516,     0.87502,     0.87488,     0.87474,     0.87459,     0.87445,     0.87431,     0.87417,     0.87403,     0.87389,     0.87375,     0.87361,\n",
       "            0.87347,     0.87333,     0.87319,     0.87305,     0.87291,     0.87277,     0.87263,     0.87249,     0.87235,     0.87221,     0.87207,     0.87193,     0.87179,     0.87165,     0.87151,     0.87137,     0.87123,     0.87108,     0.87094,      0.8708,     0.87066,     0.87052,     0.87038,\n",
       "            0.87024,      0.8701,     0.86996,     0.86982,     0.86968,     0.86954,      0.8694,     0.86926,     0.86912,     0.86898,     0.86884,      0.8687,     0.86856,     0.86842,     0.86828,     0.86814,       0.868,     0.86786,     0.86772,     0.86757,     0.86743,     0.86729,     0.86715,\n",
       "            0.86701,     0.86687,     0.86673,     0.86659,     0.86645,     0.86631,     0.86617,     0.86603,     0.86589,     0.86575,     0.86561,     0.86547,     0.86533,     0.86519,     0.86505,     0.86491,     0.86477,     0.86463,     0.86449,     0.86435,     0.86421,     0.86406,     0.86392,\n",
       "            0.86378,     0.86364,      0.8635,     0.86336,     0.86322,     0.86308,     0.86294,      0.8628,     0.86266,     0.86252,     0.86238,     0.86224,      0.8621,     0.86196,     0.86182,     0.86168,     0.86154,      0.8614,     0.86126,     0.86112,     0.86098,     0.86084,      0.8607,\n",
       "            0.86056,     0.86041,     0.86027,     0.86013,     0.85999,     0.85985,     0.85971,     0.85957,     0.85943,     0.85929,     0.85915,     0.85901,     0.85887,     0.85873,     0.85859,     0.85845,     0.85831,     0.85817,     0.85803,     0.85789,     0.85775,     0.85761,     0.85747,\n",
       "            0.85733,     0.85719,     0.85714,     0.85714,     0.85714,     0.85714,     0.85714,     0.85714,     0.85714,     0.85714,     0.85714,     0.85714,     0.85714,     0.85714,     0.85714,     0.85714,     0.85714,     0.85714,     0.85714,     0.85714,     0.85714,     0.85714,     0.85714,\n",
       "            0.85714,     0.85714,     0.85714,     0.85714,     0.85714,     0.85714,     0.85714,     0.85714,     0.85714,     0.85714,     0.85714,     0.85714,     0.85714,     0.85714,     0.85714,     0.85714,     0.85714,     0.85714,     0.85714,     0.85714,     0.85714,     0.85714,     0.85714,\n",
       "            0.85714,     0.85714,     0.85714,     0.85714,     0.85714,     0.85714,     0.85703,     0.85677,     0.85652,     0.85626,     0.85601,     0.85575,      0.8555,     0.85524,     0.85499,     0.85473,     0.85448,     0.85422,     0.85397,     0.85371,     0.85346,      0.8532,     0.85295,\n",
       "            0.85269,     0.85244,     0.85218,     0.85193,     0.85167,     0.85142,     0.85116,      0.8509,     0.85065,     0.85039,     0.85014,     0.84988,     0.84963,     0.84937,     0.84912,     0.84886,     0.84861,     0.84835,      0.8481,     0.84784,     0.84759,     0.84733,     0.84708,\n",
       "            0.84682,     0.84657,     0.84631,     0.84606,      0.8458,     0.84555,     0.84529,     0.84504,     0.84478,     0.84453,     0.84427,     0.84402,     0.84376,     0.84351,     0.84325,       0.843,     0.84274,     0.84249,     0.84223,     0.84198,     0.84172,     0.84147,     0.84121,\n",
       "            0.84096,      0.8407,     0.84045,     0.84019,     0.83994,     0.83968,     0.83942,     0.83917,     0.83891,     0.83866,      0.8384,     0.83815,     0.83789,     0.83764,     0.83738,     0.83713,     0.83687,     0.83662,     0.83636,     0.83611,     0.83585,      0.8356,     0.83534,\n",
       "            0.83509,     0.83483,     0.83458,     0.83432,     0.83407,     0.83381,     0.83356,      0.8333,     0.83305,     0.83279,     0.83254,     0.83228,     0.83203,     0.83177,     0.83152,     0.83126,     0.83101,     0.83075,      0.8305,     0.83024,     0.82999,     0.82973,     0.82948,\n",
       "            0.82922,     0.82897,     0.82871,     0.82846,      0.8282,     0.82795,     0.82769,     0.82743,     0.82718,     0.82692,     0.82667,     0.82641,     0.82616,      0.8259,     0.82565,     0.82539,     0.82514,     0.82488,     0.82463,     0.82437,     0.82412,     0.82386,     0.82361,\n",
       "            0.82335,      0.8231,     0.82284,     0.82259,     0.82233,     0.82208,     0.82182,     0.82157,     0.82088,     0.81968,     0.81848,     0.81728,     0.81608,     0.81488,     0.81368,     0.81248,     0.81128,     0.81008,     0.80888,     0.80768,     0.80648,     0.80528,     0.80408,\n",
       "            0.80288,     0.80168,     0.80048,     0.79928,     0.79808,     0.79688,     0.79568,     0.79448,     0.79328,     0.79207,     0.79087,     0.78967,     0.78847,     0.78727,     0.78607,     0.78543,     0.78503,     0.78463,     0.78423,     0.78383,     0.78343,     0.78303,     0.78263,\n",
       "            0.78223,     0.78183,     0.78143,     0.78103,     0.78063,     0.78023,     0.77983,     0.77943,     0.77903,     0.77863,     0.77823,     0.77783,     0.77743,     0.77703,     0.77663,     0.77623,     0.77583,     0.77543,     0.77503,     0.77463,     0.77423,     0.77383,     0.77343,\n",
       "            0.77303,     0.77263,     0.77223,     0.77183,     0.77143,     0.77103,     0.77063,     0.77023,     0.76983,     0.76943,     0.76903,     0.76863,     0.76823,     0.76783,     0.76743,     0.76703,     0.76663,     0.76623,     0.76583,     0.76543,     0.76503,     0.76463,     0.76423,\n",
       "            0.76383,     0.76343,     0.76303,     0.76263,     0.76223,     0.76183,     0.76143,     0.76103,     0.76063,     0.76023,     0.75983,     0.75943,     0.75903,     0.75863,     0.75823,     0.75783,     0.75743,     0.75703,     0.75663,     0.75623,     0.75583,     0.75543,     0.75503,\n",
       "            0.75463,     0.75423,     0.75383,     0.75343,     0.75303,     0.75263,     0.75223,     0.75183,     0.75143,     0.75103,     0.75063,     0.75023,     0.74862,     0.74543,     0.74225,     0.73907,     0.73588,      0.7327,     0.72952,     0.72633,     0.72315,     0.71997,     0.71678,\n",
       "            0.71417,     0.71362,     0.71307,     0.71252,     0.71197,     0.71141,     0.71086,     0.71031,     0.70976,     0.70921,     0.70866,     0.70811,     0.70756,     0.70701,     0.70646,     0.70591,     0.70536,     0.70481,     0.70426,     0.70371,     0.70316,     0.70261,     0.70206,\n",
       "            0.70151,     0.70096,      0.7004,     0.69985,      0.6993,     0.69875,      0.6982,     0.69765,      0.6971,     0.69655,       0.696,     0.69545,      0.6949,     0.69435,      0.6938,     0.69325,      0.6927,     0.69215,      0.6916,     0.69105,      0.6905,     0.68995,     0.68939,\n",
       "            0.68884,     0.68829,     0.68774,     0.68719,     0.68664,     0.68609,     0.68554,     0.68499,     0.68444,     0.68389,     0.68334,     0.68279,     0.68224,     0.68169,     0.68114,     0.68059,     0.68004,     0.67949,     0.67894,     0.67744,     0.67412,     0.67079,     0.66746,\n",
       "            0.66413,      0.6608,     0.65748,     0.65415,     0.65082,     0.64749,     0.64416,     0.63944,      0.6338,     0.62817,     0.62254,     0.61691,     0.61128,     0.60655,     0.60433,     0.60212,      0.5999,     0.59768,     0.59546,     0.59324,     0.59102,      0.5888,     0.58658,\n",
       "            0.58437,     0.58215,     0.57993,     0.57771,     0.57549,     0.57327,     0.57118,     0.56968,     0.56819,     0.56669,      0.5652,     0.56371,     0.56221,     0.56072,     0.55922,     0.55773,     0.55623,     0.55474,     0.55325,     0.55175,     0.55026,     0.54876,     0.54727,\n",
       "            0.54577,     0.54428,     0.54279,     0.54129,      0.5398,      0.5383,     0.53681,     0.53528,     0.53365,     0.53203,      0.5304,     0.52877,     0.52714,     0.52552,     0.52389,     0.52226,     0.52064,     0.51901,     0.51738,     0.51576,     0.51413,      0.5125,     0.51087,\n",
       "            0.50925,     0.50762,     0.50599,     0.50437,     0.50274,     0.50111,     0.49228,     0.46787,     0.43306,     0.39645,     0.37085,     0.34109,     0.31955,     0.31548,     0.31141,     0.30734,     0.30328,     0.29921,     0.29514,     0.29107,     0.28701,     0.26073,     0.21027,\n",
       "            0.19197,     0.17366,     0.15536,    0.083941,    0.065358,    0.058037,    0.050715,    0.043393,    0.036072,           0,           0]]), 'Confidence', 'Recall'], [array([          0,    0.001001,    0.002002,    0.003003,    0.004004,    0.005005,    0.006006,    0.007007,    0.008008,    0.009009,     0.01001,    0.011011,    0.012012,    0.013013,    0.014014,    0.015015,    0.016016,    0.017017,    0.018018,    0.019019,     0.02002,    0.021021,    0.022022,    0.023023,\n",
       "          0.024024,    0.025025,    0.026026,    0.027027,    0.028028,    0.029029,     0.03003,    0.031031,    0.032032,    0.033033,    0.034034,    0.035035,    0.036036,    0.037037,    0.038038,    0.039039,     0.04004,    0.041041,    0.042042,    0.043043,    0.044044,    0.045045,    0.046046,    0.047047,\n",
       "          0.048048,    0.049049,     0.05005,    0.051051,    0.052052,    0.053053,    0.054054,    0.055055,    0.056056,    0.057057,    0.058058,    0.059059,     0.06006,    0.061061,    0.062062,    0.063063,    0.064064,    0.065065,    0.066066,    0.067067,    0.068068,    0.069069,     0.07007,    0.071071,\n",
       "          0.072072,    0.073073,    0.074074,    0.075075,    0.076076,    0.077077,    0.078078,    0.079079,     0.08008,    0.081081,    0.082082,    0.083083,    0.084084,    0.085085,    0.086086,    0.087087,    0.088088,    0.089089,     0.09009,    0.091091,    0.092092,    0.093093,    0.094094,    0.095095,\n",
       "          0.096096,    0.097097,    0.098098,    0.099099,      0.1001,      0.1011,      0.1021,      0.1031,      0.1041,     0.10511,     0.10611,     0.10711,     0.10811,     0.10911,     0.11011,     0.11111,     0.11211,     0.11311,     0.11411,     0.11512,     0.11612,     0.11712,     0.11812,     0.11912,\n",
       "           0.12012,     0.12112,     0.12212,     0.12312,     0.12412,     0.12513,     0.12613,     0.12713,     0.12813,     0.12913,     0.13013,     0.13113,     0.13213,     0.13313,     0.13413,     0.13514,     0.13614,     0.13714,     0.13814,     0.13914,     0.14014,     0.14114,     0.14214,     0.14314,\n",
       "           0.14414,     0.14515,     0.14615,     0.14715,     0.14815,     0.14915,     0.15015,     0.15115,     0.15215,     0.15315,     0.15415,     0.15516,     0.15616,     0.15716,     0.15816,     0.15916,     0.16016,     0.16116,     0.16216,     0.16316,     0.16416,     0.16517,     0.16617,     0.16717,\n",
       "           0.16817,     0.16917,     0.17017,     0.17117,     0.17217,     0.17317,     0.17417,     0.17518,     0.17618,     0.17718,     0.17818,     0.17918,     0.18018,     0.18118,     0.18218,     0.18318,     0.18418,     0.18519,     0.18619,     0.18719,     0.18819,     0.18919,     0.19019,     0.19119,\n",
       "           0.19219,     0.19319,     0.19419,      0.1952,      0.1962,      0.1972,      0.1982,      0.1992,      0.2002,      0.2012,      0.2022,      0.2032,      0.2042,     0.20521,     0.20621,     0.20721,     0.20821,     0.20921,     0.21021,     0.21121,     0.21221,     0.21321,     0.21421,     0.21522,\n",
       "           0.21622,     0.21722,     0.21822,     0.21922,     0.22022,     0.22122,     0.22222,     0.22322,     0.22422,     0.22523,     0.22623,     0.22723,     0.22823,     0.22923,     0.23023,     0.23123,     0.23223,     0.23323,     0.23423,     0.23524,     0.23624,     0.23724,     0.23824,     0.23924,\n",
       "           0.24024,     0.24124,     0.24224,     0.24324,     0.24424,     0.24525,     0.24625,     0.24725,     0.24825,     0.24925,     0.25025,     0.25125,     0.25225,     0.25325,     0.25425,     0.25526,     0.25626,     0.25726,     0.25826,     0.25926,     0.26026,     0.26126,     0.26226,     0.26326,\n",
       "           0.26426,     0.26527,     0.26627,     0.26727,     0.26827,     0.26927,     0.27027,     0.27127,     0.27227,     0.27327,     0.27427,     0.27528,     0.27628,     0.27728,     0.27828,     0.27928,     0.28028,     0.28128,     0.28228,     0.28328,     0.28428,     0.28529,     0.28629,     0.28729,\n",
       "           0.28829,     0.28929,     0.29029,     0.29129,     0.29229,     0.29329,     0.29429,      0.2953,      0.2963,      0.2973,      0.2983,      0.2993,      0.3003,      0.3013,      0.3023,      0.3033,      0.3043,     0.30531,     0.30631,     0.30731,     0.30831,     0.30931,     0.31031,     0.31131,\n",
       "           0.31231,     0.31331,     0.31431,     0.31532,     0.31632,     0.31732,     0.31832,     0.31932,     0.32032,     0.32132,     0.32232,     0.32332,     0.32432,     0.32533,     0.32633,     0.32733,     0.32833,     0.32933,     0.33033,     0.33133,     0.33233,     0.33333,     0.33433,     0.33534,\n",
       "           0.33634,     0.33734,     0.33834,     0.33934,     0.34034,     0.34134,     0.34234,     0.34334,     0.34434,     0.34535,     0.34635,     0.34735,     0.34835,     0.34935,     0.35035,     0.35135,     0.35235,     0.35335,     0.35435,     0.35536,     0.35636,     0.35736,     0.35836,     0.35936,\n",
       "           0.36036,     0.36136,     0.36236,     0.36336,     0.36436,     0.36537,     0.36637,     0.36737,     0.36837,     0.36937,     0.37037,     0.37137,     0.37237,     0.37337,     0.37437,     0.37538,     0.37638,     0.37738,     0.37838,     0.37938,     0.38038,     0.38138,     0.38238,     0.38338,\n",
       "           0.38438,     0.38539,     0.38639,     0.38739,     0.38839,     0.38939,     0.39039,     0.39139,     0.39239,     0.39339,     0.39439,      0.3954,      0.3964,      0.3974,      0.3984,      0.3994,      0.4004,      0.4014,      0.4024,      0.4034,      0.4044,     0.40541,     0.40641,     0.40741,\n",
       "           0.40841,     0.40941,     0.41041,     0.41141,     0.41241,     0.41341,     0.41441,     0.41542,     0.41642,     0.41742,     0.41842,     0.41942,     0.42042,     0.42142,     0.42242,     0.42342,     0.42442,     0.42543,     0.42643,     0.42743,     0.42843,     0.42943,     0.43043,     0.43143,\n",
       "           0.43243,     0.43343,     0.43443,     0.43544,     0.43644,     0.43744,     0.43844,     0.43944,     0.44044,     0.44144,     0.44244,     0.44344,     0.44444,     0.44545,     0.44645,     0.44745,     0.44845,     0.44945,     0.45045,     0.45145,     0.45245,     0.45345,     0.45445,     0.45546,\n",
       "           0.45646,     0.45746,     0.45846,     0.45946,     0.46046,     0.46146,     0.46246,     0.46346,     0.46446,     0.46547,     0.46647,     0.46747,     0.46847,     0.46947,     0.47047,     0.47147,     0.47247,     0.47347,     0.47447,     0.47548,     0.47648,     0.47748,     0.47848,     0.47948,\n",
       "           0.48048,     0.48148,     0.48248,     0.48348,     0.48448,     0.48549,     0.48649,     0.48749,     0.48849,     0.48949,     0.49049,     0.49149,     0.49249,     0.49349,     0.49449,      0.4955,      0.4965,      0.4975,      0.4985,      0.4995,      0.5005,      0.5015,      0.5025,      0.5035,\n",
       "            0.5045,     0.50551,     0.50651,     0.50751,     0.50851,     0.50951,     0.51051,     0.51151,     0.51251,     0.51351,     0.51451,     0.51552,     0.51652,     0.51752,     0.51852,     0.51952,     0.52052,     0.52152,     0.52252,     0.52352,     0.52452,     0.52553,     0.52653,     0.52753,\n",
       "           0.52853,     0.52953,     0.53053,     0.53153,     0.53253,     0.53353,     0.53453,     0.53554,     0.53654,     0.53754,     0.53854,     0.53954,     0.54054,     0.54154,     0.54254,     0.54354,     0.54454,     0.54555,     0.54655,     0.54755,     0.54855,     0.54955,     0.55055,     0.55155,\n",
       "           0.55255,     0.55355,     0.55455,     0.55556,     0.55656,     0.55756,     0.55856,     0.55956,     0.56056,     0.56156,     0.56256,     0.56356,     0.56456,     0.56557,     0.56657,     0.56757,     0.56857,     0.56957,     0.57057,     0.57157,     0.57257,     0.57357,     0.57457,     0.57558,\n",
       "           0.57658,     0.57758,     0.57858,     0.57958,     0.58058,     0.58158,     0.58258,     0.58358,     0.58458,     0.58559,     0.58659,     0.58759,     0.58859,     0.58959,     0.59059,     0.59159,     0.59259,     0.59359,     0.59459,      0.5956,      0.5966,      0.5976,      0.5986,      0.5996,\n",
       "            0.6006,      0.6016,      0.6026,      0.6036,      0.6046,     0.60561,     0.60661,     0.60761,     0.60861,     0.60961,     0.61061,     0.61161,     0.61261,     0.61361,     0.61461,     0.61562,     0.61662,     0.61762,     0.61862,     0.61962,     0.62062,     0.62162,     0.62262,     0.62362,\n",
       "           0.62462,     0.62563,     0.62663,     0.62763,     0.62863,     0.62963,     0.63063,     0.63163,     0.63263,     0.63363,     0.63463,     0.63564,     0.63664,     0.63764,     0.63864,     0.63964,     0.64064,     0.64164,     0.64264,     0.64364,     0.64464,     0.64565,     0.64665,     0.64765,\n",
       "           0.64865,     0.64965,     0.65065,     0.65165,     0.65265,     0.65365,     0.65465,     0.65566,     0.65666,     0.65766,     0.65866,     0.65966,     0.66066,     0.66166,     0.66266,     0.66366,     0.66466,     0.66567,     0.66667,     0.66767,     0.66867,     0.66967,     0.67067,     0.67167,\n",
       "           0.67267,     0.67367,     0.67467,     0.67568,     0.67668,     0.67768,     0.67868,     0.67968,     0.68068,     0.68168,     0.68268,     0.68368,     0.68468,     0.68569,     0.68669,     0.68769,     0.68869,     0.68969,     0.69069,     0.69169,     0.69269,     0.69369,     0.69469,      0.6957,\n",
       "            0.6967,      0.6977,      0.6987,      0.6997,      0.7007,      0.7017,      0.7027,      0.7037,      0.7047,     0.70571,     0.70671,     0.70771,     0.70871,     0.70971,     0.71071,     0.71171,     0.71271,     0.71371,     0.71471,     0.71572,     0.71672,     0.71772,     0.71872,     0.71972,\n",
       "           0.72072,     0.72172,     0.72272,     0.72372,     0.72472,     0.72573,     0.72673,     0.72773,     0.72873,     0.72973,     0.73073,     0.73173,     0.73273,     0.73373,     0.73473,     0.73574,     0.73674,     0.73774,     0.73874,     0.73974,     0.74074,     0.74174,     0.74274,     0.74374,\n",
       "           0.74474,     0.74575,     0.74675,     0.74775,     0.74875,     0.74975,     0.75075,     0.75175,     0.75275,     0.75375,     0.75475,     0.75576,     0.75676,     0.75776,     0.75876,     0.75976,     0.76076,     0.76176,     0.76276,     0.76376,     0.76476,     0.76577,     0.76677,     0.76777,\n",
       "           0.76877,     0.76977,     0.77077,     0.77177,     0.77277,     0.77377,     0.77477,     0.77578,     0.77678,     0.77778,     0.77878,     0.77978,     0.78078,     0.78178,     0.78278,     0.78378,     0.78478,     0.78579,     0.78679,     0.78779,     0.78879,     0.78979,     0.79079,     0.79179,\n",
       "           0.79279,     0.79379,     0.79479,      0.7958,      0.7968,      0.7978,      0.7988,      0.7998,      0.8008,      0.8018,      0.8028,      0.8038,      0.8048,     0.80581,     0.80681,     0.80781,     0.80881,     0.80981,     0.81081,     0.81181,     0.81281,     0.81381,     0.81481,     0.81582,\n",
       "           0.81682,     0.81782,     0.81882,     0.81982,     0.82082,     0.82182,     0.82282,     0.82382,     0.82482,     0.82583,     0.82683,     0.82783,     0.82883,     0.82983,     0.83083,     0.83183,     0.83283,     0.83383,     0.83483,     0.83584,     0.83684,     0.83784,     0.83884,     0.83984,\n",
       "           0.84084,     0.84184,     0.84284,     0.84384,     0.84484,     0.84585,     0.84685,     0.84785,     0.84885,     0.84985,     0.85085,     0.85185,     0.85285,     0.85385,     0.85485,     0.85586,     0.85686,     0.85786,     0.85886,     0.85986,     0.86086,     0.86186,     0.86286,     0.86386,\n",
       "           0.86486,     0.86587,     0.86687,     0.86787,     0.86887,     0.86987,     0.87087,     0.87187,     0.87287,     0.87387,     0.87487,     0.87588,     0.87688,     0.87788,     0.87888,     0.87988,     0.88088,     0.88188,     0.88288,     0.88388,     0.88488,     0.88589,     0.88689,     0.88789,\n",
       "           0.88889,     0.88989,     0.89089,     0.89189,     0.89289,     0.89389,     0.89489,      0.8959,      0.8969,      0.8979,      0.8989,      0.8999,      0.9009,      0.9019,      0.9029,      0.9039,      0.9049,     0.90591,     0.90691,     0.90791,     0.90891,     0.90991,     0.91091,     0.91191,\n",
       "           0.91291,     0.91391,     0.91491,     0.91592,     0.91692,     0.91792,     0.91892,     0.91992,     0.92092,     0.92192,     0.92292,     0.92392,     0.92492,     0.92593,     0.92693,     0.92793,     0.92893,     0.92993,     0.93093,     0.93193,     0.93293,     0.93393,     0.93493,     0.93594,\n",
       "           0.93694,     0.93794,     0.93894,     0.93994,     0.94094,     0.94194,     0.94294,     0.94394,     0.94494,     0.94595,     0.94695,     0.94795,     0.94895,     0.94995,     0.95095,     0.95195,     0.95295,     0.95395,     0.95495,     0.95596,     0.95696,     0.95796,     0.95896,     0.95996,\n",
       "           0.96096,     0.96196,     0.96296,     0.96396,     0.96496,     0.96597,     0.96697,     0.96797,     0.96897,     0.96997,     0.97097,     0.97197,     0.97297,     0.97397,     0.97497,     0.97598,     0.97698,     0.97798,     0.97898,     0.97998,     0.98098,     0.98198,     0.98298,     0.98398,\n",
       "           0.98498,     0.98599,     0.98699,     0.98799,     0.98899,     0.98999,     0.99099,     0.99199,     0.99299,     0.99399,     0.99499,       0.996,       0.997,       0.998,       0.999,           1]), array([[    0.46667,     0.46667,     0.46667,     0.46667,     0.46667,     0.46667,     0.46667,     0.46667,     0.46667,     0.46667,     0.46667,     0.46667,     0.46667,     0.46667,     0.46667,     0.46667,     0.46667,     0.46667,     0.46667,     0.46667,     0.46667,     0.46667,     0.46667,\n",
       "            0.46667,     0.46667,     0.46667,     0.46667,     0.46667,     0.46667,     0.46667,     0.46667,     0.46667,     0.46667,     0.46667,     0.46667,     0.46667,     0.46667,     0.46667,     0.46667,     0.46667,     0.46667,     0.46667,     0.46667,     0.46667,     0.46667,     0.46667,\n",
       "            0.46667,     0.46667,     0.46667,     0.46667,     0.46667,     0.46667,     0.46667,     0.46667,     0.46667,     0.46667,     0.46667,     0.46667,     0.46667,     0.46667,     0.46667,     0.46667,     0.46667,     0.46667,     0.46667,     0.46667,     0.46667,     0.46667,     0.46667,\n",
       "            0.46667,     0.46667,     0.46667,     0.46667,     0.46667,     0.46667,     0.46667,     0.46667,     0.46667,     0.46667,     0.46667,     0.46667,     0.46667,     0.46667,     0.46667,     0.46667,     0.46667,     0.46667,     0.46667,     0.46667,     0.46667,     0.46667,     0.46667,\n",
       "            0.46667,     0.46667,     0.46667,     0.46667,     0.46667,     0.46667,     0.46667,     0.46667,     0.46667,     0.46667,     0.46667,     0.46667,     0.46667,     0.46667,     0.46667,     0.46667,     0.46667,     0.46667,     0.46667,     0.46667,     0.46667,     0.46667,     0.46667,\n",
       "            0.46667,     0.46667,     0.46667,     0.46667,     0.46667,     0.46667,     0.46667,     0.46667,     0.46667,     0.46667,     0.46667,     0.46667,     0.46667,     0.46667,     0.46667,     0.46667,     0.46667,     0.46667,     0.46667,     0.46667,     0.46667,     0.46667,     0.46667,\n",
       "            0.46667,     0.46667,     0.46667,     0.46667,     0.46667,     0.46667,     0.46667,     0.46667,     0.46667,     0.46667,     0.46667,     0.46667,     0.46667,     0.46667,     0.46667,     0.46667,     0.46667,     0.46667,     0.46667,     0.46667,     0.46667,     0.46667,     0.46667,\n",
       "            0.46667,     0.46667,     0.46667,     0.46667,     0.46667,     0.46667,     0.46667,     0.46667,     0.46667,     0.46667,     0.46667,     0.46667,     0.46667,     0.46667,     0.46667,     0.46667,     0.46667,     0.46667,     0.46667,     0.46667,     0.46667,     0.46667,     0.46667,\n",
       "            0.46667,     0.46667,     0.46667,     0.46667,     0.46667,     0.46667,     0.46667,     0.46667,     0.46667,     0.46667,     0.46667,     0.46667,     0.46667,     0.46667,     0.46667,     0.46667,     0.46667,     0.46667,     0.46667,     0.46667,     0.46667,     0.46667,     0.46667,\n",
       "            0.46667,     0.46667,     0.46667,     0.46667,     0.46667,     0.46667,     0.46667,     0.46667,     0.46667,     0.46667,     0.46667,     0.46667,     0.46667,     0.46667,     0.46667,     0.46667,     0.46667,     0.46667,     0.46667,     0.46667,     0.46667,     0.46667,     0.46667,\n",
       "            0.46667,     0.46667,     0.46667,     0.46667,     0.46667,     0.46667,     0.46667,     0.46667,     0.46667,     0.46667,     0.46667,     0.46667,     0.46667,     0.46667,     0.46667,     0.46667,     0.46667,     0.46667,     0.46667,     0.46667,     0.44444,     0.44444,     0.44444,\n",
       "            0.44444,     0.44444,     0.44444,     0.44444,     0.44444,     0.44444,     0.44444,     0.44444,     0.44444,     0.44444,     0.44444,     0.44444,     0.44444,     0.44444,     0.44444,     0.44444,     0.44444,     0.44444,     0.44444,     0.44444,     0.44444,     0.44444,     0.44444,\n",
       "            0.44444,     0.44444,     0.44444,     0.44444,     0.44444,     0.44444,     0.44444,     0.44444,     0.44444,     0.44444,   0.0032013,   0.0031968,   0.0031923,   0.0031878,   0.0031833,   0.0031788,   0.0031743,   0.0031698,   0.0031654,   0.0031609,   0.0031564,   0.0031519,   0.0031474,\n",
       "          0.0031429,   0.0031384,   0.0031339,   0.0031294,    0.003125,   0.0031205,    0.003116,   0.0031115,    0.003107,   0.0031025,    0.003098,   0.0030935,    0.003089,   0.0030845,   0.0030801,   0.0030756,   0.0030711,   0.0030666,   0.0030621,   0.0030576,   0.0030531,   0.0030486,   0.0030441,\n",
       "          0.0030396,   0.0030352,   0.0030307,   0.0030262,   0.0030217,   0.0030172,   0.0030127,   0.0030082,   0.0030037,   0.0029992,   0.0029947,   0.0029903,   0.0029858,   0.0029813,   0.0029768,   0.0029723,   0.0029678,   0.0029633,   0.0029588,   0.0029543,   0.0029498,   0.0029454,   0.0029409,\n",
       "          0.0029364,   0.0029319,   0.0029274,   0.0029229,   0.0029184,   0.0029139,   0.0029094,   0.0029049,   0.0029005,    0.002896,   0.0028915,    0.002887,   0.0028825,    0.002878,   0.0028735,    0.002869,   0.0028645,     0.00286,   0.0028556,   0.0028511,   0.0028466,   0.0028421,   0.0028376,\n",
       "          0.0028331,   0.0028286,   0.0028241,   0.0028196,   0.0028151,   0.0028107,   0.0028062,   0.0028017,   0.0027972,   0.0027927,   0.0027882,   0.0027837,   0.0027792,   0.0027747,   0.0027703,   0.0027658,   0.0027613,   0.0027568,   0.0027523,   0.0027478,   0.0027433,   0.0027388,   0.0027343,\n",
       "          0.0027298,   0.0027254,   0.0027209,   0.0027164,   0.0027119,   0.0027074,   0.0027029,   0.0026984,   0.0026939,   0.0026894,   0.0026849,   0.0026805,    0.002676,   0.0026715,    0.002667,   0.0026625,    0.002658,   0.0026535,    0.002649,   0.0026445,     0.00264,   0.0026356,   0.0026311,\n",
       "          0.0026266,   0.0026221,   0.0026176,   0.0026131,   0.0026086,   0.0026041,   0.0025996,   0.0025951,   0.0025907,   0.0025862,   0.0025817,   0.0025772,   0.0025727,   0.0025682,   0.0025637,   0.0025592,   0.0025547,   0.0025502,   0.0025458,   0.0025413,   0.0025368,   0.0025323,   0.0025278,\n",
       "          0.0025233,   0.0025188,   0.0025143,   0.0025098,   0.0025053,   0.0025009,   0.0024964,   0.0024919,   0.0024874,   0.0024829,   0.0024784,   0.0024739,   0.0024694,   0.0024649,   0.0024605,    0.002456,   0.0024515,    0.002447,   0.0024425,    0.002438,   0.0024335,    0.002429,   0.0024245,\n",
       "            0.00242,   0.0024156,   0.0024111,   0.0024066,   0.0024021,   0.0023976,   0.0023931,   0.0023886,   0.0023841,   0.0023796,   0.0023751,   0.0023707,   0.0023662,   0.0023617,   0.0023572,   0.0023527,   0.0023482,   0.0023437,   0.0023392,   0.0023347,   0.0023302,   0.0023258,   0.0023213,\n",
       "          0.0023168,   0.0023123,   0.0023078,   0.0023033,   0.0022988,   0.0022943,   0.0022898,   0.0022853,   0.0022809,   0.0022764,   0.0022719,   0.0022674,   0.0022629,   0.0022584,   0.0022539,   0.0022494,   0.0022449,   0.0022404,    0.002236,   0.0022315,    0.002227,   0.0022225,    0.002218,\n",
       "          0.0022135,    0.002209,   0.0022045,      0.0022,   0.0021955,   0.0021911,   0.0021866,   0.0021821,   0.0021776,   0.0021731,   0.0021686,   0.0021641,   0.0021596,   0.0021551,   0.0021506,   0.0021462,   0.0021417,   0.0021372,   0.0021327,   0.0021282,   0.0021237,   0.0021192,   0.0021147,\n",
       "          0.0021102,   0.0021058,   0.0021013,   0.0020968,   0.0020923,   0.0020878,   0.0020833,   0.0020788,   0.0020743,   0.0020698,   0.0020653,   0.0020609,   0.0020564,   0.0020519,   0.0020474,   0.0020429,   0.0020384,   0.0020339,   0.0020294,   0.0020249,   0.0020204,    0.002016,   0.0020115,\n",
       "           0.002007,   0.0020025,    0.001998,   0.0019935,    0.001989,   0.0019845,     0.00198,   0.0019755,   0.0019711,   0.0019666,   0.0019621,   0.0019576,   0.0019531,   0.0019486,   0.0019441,   0.0019396,   0.0019351,   0.0019306,   0.0019262,   0.0019217,   0.0019172,   0.0019127,   0.0019082,\n",
       "          0.0019037,   0.0018992,   0.0018947,   0.0018902,   0.0018857,   0.0018813,   0.0018768,   0.0018723,   0.0018678,   0.0018633,   0.0018588,   0.0018543,   0.0018498,   0.0018453,   0.0018408,   0.0018364,   0.0018319,   0.0018274,   0.0018229,   0.0018184,   0.0018139,   0.0018094,   0.0018049,\n",
       "          0.0018004,   0.0017959,   0.0017915,    0.001787,   0.0017825,    0.001778,   0.0017735,    0.001769,   0.0017645,     0.00176,   0.0017555,   0.0017511,   0.0017466,   0.0017421,   0.0017376,   0.0017331,   0.0017286,   0.0017241,   0.0017196,   0.0017151,   0.0017106,   0.0017062,   0.0017017,\n",
       "          0.0016972,   0.0016927,   0.0016882,   0.0016837,   0.0016792,   0.0016747,   0.0016702,   0.0016657,   0.0016613,   0.0016568,   0.0016523,   0.0016478,   0.0016433,   0.0016388,   0.0016343,   0.0016298,   0.0016253,   0.0016208,   0.0016164,   0.0016119,   0.0016074,   0.0016029,   0.0015984,\n",
       "          0.0015939,   0.0015894,   0.0015849,   0.0015804,   0.0015759,   0.0015715,    0.001567,   0.0015625,    0.001558,   0.0015535,    0.001549,   0.0015445,     0.00154,   0.0015355,    0.001531,   0.0015266,   0.0015221,   0.0015176,   0.0015131,   0.0015086,   0.0015041,   0.0014996,   0.0014951,\n",
       "          0.0014906,   0.0014861,   0.0014817,   0.0014772,   0.0014727,   0.0014682,   0.0014637,   0.0014592,   0.0014547,   0.0014502,   0.0014457,   0.0014412,   0.0014368,   0.0014323,   0.0014278,   0.0014233,   0.0014188,   0.0014143,   0.0014098,   0.0014053,   0.0014008,   0.0013964,   0.0013919,\n",
       "          0.0013874,   0.0013829,   0.0013784,   0.0013739,   0.0013694,   0.0013649,   0.0013604,   0.0013559,   0.0013515,    0.001347,   0.0013425,    0.001338,   0.0013335,    0.001329,   0.0013245,     0.00132,   0.0013155,    0.001311,   0.0013066,   0.0013021,   0.0012976,   0.0012931,   0.0012886,\n",
       "          0.0012841,   0.0012796,   0.0012751,   0.0012706,   0.0012661,   0.0012617,   0.0012572,   0.0012527,   0.0012482,   0.0012437,   0.0012392,   0.0012347,   0.0012302,   0.0012257,   0.0012212,   0.0012168,   0.0012123,   0.0012078,   0.0012033,   0.0011988,   0.0011943,   0.0011898,   0.0011853,\n",
       "          0.0011808,   0.0011763,   0.0011719,   0.0011674,   0.0011629,   0.0011584,   0.0011539,   0.0011494,   0.0011449,   0.0011404,   0.0011359,   0.0011314,    0.001127,   0.0011225,    0.001118,   0.0011135,    0.001109,   0.0011045,      0.0011,   0.0010955,    0.001091,   0.0010865,   0.0010821,\n",
       "          0.0010776,   0.0010731,   0.0010686,   0.0010641,   0.0010596,   0.0010551,   0.0010506,   0.0010461,   0.0010417,   0.0010372,   0.0010327,   0.0010282,   0.0010237,   0.0010192,   0.0010147,   0.0010102,   0.0010057,   0.0010012,  0.00099675,  0.00099226,  0.00098777,  0.00098328,  0.00097879,\n",
       "          0.0009743,  0.00096981,  0.00096532,  0.00096083,  0.00095634,  0.00095185,  0.00094736,  0.00094287,  0.00093838,  0.00093389,   0.0009294,  0.00092491,  0.00092042,  0.00091593,  0.00091144,  0.00090695,  0.00090246,  0.00089797,  0.00089348,  0.00088899,   0.0008845,  0.00088001,  0.00087553,\n",
       "         0.00087104,  0.00086655,  0.00086206,  0.00085757,  0.00085308,  0.00084859,   0.0008441,  0.00083961,  0.00083512,  0.00083063,  0.00082614,  0.00082165,  0.00081716,  0.00081267,  0.00080818,  0.00080369,   0.0007992,  0.00079471,  0.00079022,  0.00078573,  0.00078124,  0.00077675,  0.00077226,\n",
       "         0.00076777,  0.00076328,  0.00075879,   0.0007543,  0.00074981,  0.00074532,  0.00074083,  0.00073634,  0.00073185,  0.00072736,  0.00072287,  0.00071838,  0.00071389,   0.0007094,  0.00070491,  0.00070042,  0.00069593,  0.00069144,  0.00068695,  0.00068246,  0.00067797,  0.00067348,  0.00066899,\n",
       "          0.0006645,  0.00066001,  0.00065552,  0.00065103,  0.00064654,  0.00064205,  0.00063756,  0.00063307,  0.00062858,  0.00062409,   0.0006196,  0.00061511,  0.00061062,  0.00060613,  0.00060164,  0.00059715,  0.00059266,  0.00058817,  0.00058368,  0.00057919,   0.0005747,  0.00057021,  0.00056572,\n",
       "         0.00056123,  0.00055674,  0.00055225,  0.00054776,  0.00054327,  0.00053878,  0.00053429,   0.0005298,  0.00052532,  0.00052083,  0.00051634,  0.00051185,  0.00050736,  0.00050287,  0.00049838,  0.00049389,   0.0004894,  0.00048491,  0.00048042,  0.00047593,  0.00047144,  0.00046695,  0.00046246,\n",
       "         0.00045797,  0.00045348,  0.00044899,   0.0004445,  0.00044001,  0.00043552,  0.00043103,  0.00042654,  0.00042205,  0.00041756,  0.00041307,  0.00040858,  0.00040409,   0.0003996,  0.00039511,  0.00039062,  0.00038613,  0.00038164,  0.00037715,  0.00037266,  0.00036817,  0.00036368,  0.00035919,\n",
       "          0.0003547,  0.00035021,  0.00034572,  0.00034123,  0.00033674,  0.00033225,  0.00032776,  0.00032327,  0.00031878,  0.00031429,   0.0003098,  0.00030531,  0.00030082,  0.00029633,  0.00029184,  0.00028735,  0.00028286,  0.00027837,  0.00027388,  0.00026939,   0.0002649,  0.00026041,  0.00025592,\n",
       "         0.00025143,  0.00024694,  0.00024245,  0.00023796,  0.00023347,  0.00022898,  0.00022449,     0.00022,  0.00021551,  0.00021102,  0.00020653,  0.00020204,  0.00019755,  0.00019306,  0.00018857,  0.00018408,  0.00017959,  0.00017511,  0.00017062,  0.00016613,  0.00016164,  0.00015715,  0.00015266,\n",
       "         0.00014817,  0.00014368,  0.00013919,   0.0001347,  0.00013021,  0.00012572,  0.00012123,  0.00011674,  0.00011225,  0.00010776,  0.00010327,  9.8777e-05,  9.4287e-05,  8.9797e-05,  8.5308e-05,  8.0818e-05,  7.6328e-05,  7.1838e-05,  6.7348e-05,  6.2858e-05,  5.8368e-05,  5.3878e-05,  4.9389e-05,\n",
       "         4.4899e-05,  4.0409e-05,  3.5919e-05,  3.1429e-05,  2.6939e-05,  2.2449e-05,  1.7959e-05,   1.347e-05,  8.9797e-06,  4.4899e-06,           0]]), 'Recall', 'Precision'], [array([          0,    0.001001,    0.002002,    0.003003,    0.004004,    0.005005,    0.006006,    0.007007,    0.008008,    0.009009,     0.01001,    0.011011,    0.012012,    0.013013,    0.014014,    0.015015,    0.016016,    0.017017,    0.018018,    0.019019,     0.02002,    0.021021,    0.022022,    0.023023,\n",
       "          0.024024,    0.025025,    0.026026,    0.027027,    0.028028,    0.029029,     0.03003,    0.031031,    0.032032,    0.033033,    0.034034,    0.035035,    0.036036,    0.037037,    0.038038,    0.039039,     0.04004,    0.041041,    0.042042,    0.043043,    0.044044,    0.045045,    0.046046,    0.047047,\n",
       "          0.048048,    0.049049,     0.05005,    0.051051,    0.052052,    0.053053,    0.054054,    0.055055,    0.056056,    0.057057,    0.058058,    0.059059,     0.06006,    0.061061,    0.062062,    0.063063,    0.064064,    0.065065,    0.066066,    0.067067,    0.068068,    0.069069,     0.07007,    0.071071,\n",
       "          0.072072,    0.073073,    0.074074,    0.075075,    0.076076,    0.077077,    0.078078,    0.079079,     0.08008,    0.081081,    0.082082,    0.083083,    0.084084,    0.085085,    0.086086,    0.087087,    0.088088,    0.089089,     0.09009,    0.091091,    0.092092,    0.093093,    0.094094,    0.095095,\n",
       "          0.096096,    0.097097,    0.098098,    0.099099,      0.1001,      0.1011,      0.1021,      0.1031,      0.1041,     0.10511,     0.10611,     0.10711,     0.10811,     0.10911,     0.11011,     0.11111,     0.11211,     0.11311,     0.11411,     0.11512,     0.11612,     0.11712,     0.11812,     0.11912,\n",
       "           0.12012,     0.12112,     0.12212,     0.12312,     0.12412,     0.12513,     0.12613,     0.12713,     0.12813,     0.12913,     0.13013,     0.13113,     0.13213,     0.13313,     0.13413,     0.13514,     0.13614,     0.13714,     0.13814,     0.13914,     0.14014,     0.14114,     0.14214,     0.14314,\n",
       "           0.14414,     0.14515,     0.14615,     0.14715,     0.14815,     0.14915,     0.15015,     0.15115,     0.15215,     0.15315,     0.15415,     0.15516,     0.15616,     0.15716,     0.15816,     0.15916,     0.16016,     0.16116,     0.16216,     0.16316,     0.16416,     0.16517,     0.16617,     0.16717,\n",
       "           0.16817,     0.16917,     0.17017,     0.17117,     0.17217,     0.17317,     0.17417,     0.17518,     0.17618,     0.17718,     0.17818,     0.17918,     0.18018,     0.18118,     0.18218,     0.18318,     0.18418,     0.18519,     0.18619,     0.18719,     0.18819,     0.18919,     0.19019,     0.19119,\n",
       "           0.19219,     0.19319,     0.19419,      0.1952,      0.1962,      0.1972,      0.1982,      0.1992,      0.2002,      0.2012,      0.2022,      0.2032,      0.2042,     0.20521,     0.20621,     0.20721,     0.20821,     0.20921,     0.21021,     0.21121,     0.21221,     0.21321,     0.21421,     0.21522,\n",
       "           0.21622,     0.21722,     0.21822,     0.21922,     0.22022,     0.22122,     0.22222,     0.22322,     0.22422,     0.22523,     0.22623,     0.22723,     0.22823,     0.22923,     0.23023,     0.23123,     0.23223,     0.23323,     0.23423,     0.23524,     0.23624,     0.23724,     0.23824,     0.23924,\n",
       "           0.24024,     0.24124,     0.24224,     0.24324,     0.24424,     0.24525,     0.24625,     0.24725,     0.24825,     0.24925,     0.25025,     0.25125,     0.25225,     0.25325,     0.25425,     0.25526,     0.25626,     0.25726,     0.25826,     0.25926,     0.26026,     0.26126,     0.26226,     0.26326,\n",
       "           0.26426,     0.26527,     0.26627,     0.26727,     0.26827,     0.26927,     0.27027,     0.27127,     0.27227,     0.27327,     0.27427,     0.27528,     0.27628,     0.27728,     0.27828,     0.27928,     0.28028,     0.28128,     0.28228,     0.28328,     0.28428,     0.28529,     0.28629,     0.28729,\n",
       "           0.28829,     0.28929,     0.29029,     0.29129,     0.29229,     0.29329,     0.29429,      0.2953,      0.2963,      0.2973,      0.2983,      0.2993,      0.3003,      0.3013,      0.3023,      0.3033,      0.3043,     0.30531,     0.30631,     0.30731,     0.30831,     0.30931,     0.31031,     0.31131,\n",
       "           0.31231,     0.31331,     0.31431,     0.31532,     0.31632,     0.31732,     0.31832,     0.31932,     0.32032,     0.32132,     0.32232,     0.32332,     0.32432,     0.32533,     0.32633,     0.32733,     0.32833,     0.32933,     0.33033,     0.33133,     0.33233,     0.33333,     0.33433,     0.33534,\n",
       "           0.33634,     0.33734,     0.33834,     0.33934,     0.34034,     0.34134,     0.34234,     0.34334,     0.34434,     0.34535,     0.34635,     0.34735,     0.34835,     0.34935,     0.35035,     0.35135,     0.35235,     0.35335,     0.35435,     0.35536,     0.35636,     0.35736,     0.35836,     0.35936,\n",
       "           0.36036,     0.36136,     0.36236,     0.36336,     0.36436,     0.36537,     0.36637,     0.36737,     0.36837,     0.36937,     0.37037,     0.37137,     0.37237,     0.37337,     0.37437,     0.37538,     0.37638,     0.37738,     0.37838,     0.37938,     0.38038,     0.38138,     0.38238,     0.38338,\n",
       "           0.38438,     0.38539,     0.38639,     0.38739,     0.38839,     0.38939,     0.39039,     0.39139,     0.39239,     0.39339,     0.39439,      0.3954,      0.3964,      0.3974,      0.3984,      0.3994,      0.4004,      0.4014,      0.4024,      0.4034,      0.4044,     0.40541,     0.40641,     0.40741,\n",
       "           0.40841,     0.40941,     0.41041,     0.41141,     0.41241,     0.41341,     0.41441,     0.41542,     0.41642,     0.41742,     0.41842,     0.41942,     0.42042,     0.42142,     0.42242,     0.42342,     0.42442,     0.42543,     0.42643,     0.42743,     0.42843,     0.42943,     0.43043,     0.43143,\n",
       "           0.43243,     0.43343,     0.43443,     0.43544,     0.43644,     0.43744,     0.43844,     0.43944,     0.44044,     0.44144,     0.44244,     0.44344,     0.44444,     0.44545,     0.44645,     0.44745,     0.44845,     0.44945,     0.45045,     0.45145,     0.45245,     0.45345,     0.45445,     0.45546,\n",
       "           0.45646,     0.45746,     0.45846,     0.45946,     0.46046,     0.46146,     0.46246,     0.46346,     0.46446,     0.46547,     0.46647,     0.46747,     0.46847,     0.46947,     0.47047,     0.47147,     0.47247,     0.47347,     0.47447,     0.47548,     0.47648,     0.47748,     0.47848,     0.47948,\n",
       "           0.48048,     0.48148,     0.48248,     0.48348,     0.48448,     0.48549,     0.48649,     0.48749,     0.48849,     0.48949,     0.49049,     0.49149,     0.49249,     0.49349,     0.49449,      0.4955,      0.4965,      0.4975,      0.4985,      0.4995,      0.5005,      0.5015,      0.5025,      0.5035,\n",
       "            0.5045,     0.50551,     0.50651,     0.50751,     0.50851,     0.50951,     0.51051,     0.51151,     0.51251,     0.51351,     0.51451,     0.51552,     0.51652,     0.51752,     0.51852,     0.51952,     0.52052,     0.52152,     0.52252,     0.52352,     0.52452,     0.52553,     0.52653,     0.52753,\n",
       "           0.52853,     0.52953,     0.53053,     0.53153,     0.53253,     0.53353,     0.53453,     0.53554,     0.53654,     0.53754,     0.53854,     0.53954,     0.54054,     0.54154,     0.54254,     0.54354,     0.54454,     0.54555,     0.54655,     0.54755,     0.54855,     0.54955,     0.55055,     0.55155,\n",
       "           0.55255,     0.55355,     0.55455,     0.55556,     0.55656,     0.55756,     0.55856,     0.55956,     0.56056,     0.56156,     0.56256,     0.56356,     0.56456,     0.56557,     0.56657,     0.56757,     0.56857,     0.56957,     0.57057,     0.57157,     0.57257,     0.57357,     0.57457,     0.57558,\n",
       "           0.57658,     0.57758,     0.57858,     0.57958,     0.58058,     0.58158,     0.58258,     0.58358,     0.58458,     0.58559,     0.58659,     0.58759,     0.58859,     0.58959,     0.59059,     0.59159,     0.59259,     0.59359,     0.59459,      0.5956,      0.5966,      0.5976,      0.5986,      0.5996,\n",
       "            0.6006,      0.6016,      0.6026,      0.6036,      0.6046,     0.60561,     0.60661,     0.60761,     0.60861,     0.60961,     0.61061,     0.61161,     0.61261,     0.61361,     0.61461,     0.61562,     0.61662,     0.61762,     0.61862,     0.61962,     0.62062,     0.62162,     0.62262,     0.62362,\n",
       "           0.62462,     0.62563,     0.62663,     0.62763,     0.62863,     0.62963,     0.63063,     0.63163,     0.63263,     0.63363,     0.63463,     0.63564,     0.63664,     0.63764,     0.63864,     0.63964,     0.64064,     0.64164,     0.64264,     0.64364,     0.64464,     0.64565,     0.64665,     0.64765,\n",
       "           0.64865,     0.64965,     0.65065,     0.65165,     0.65265,     0.65365,     0.65465,     0.65566,     0.65666,     0.65766,     0.65866,     0.65966,     0.66066,     0.66166,     0.66266,     0.66366,     0.66466,     0.66567,     0.66667,     0.66767,     0.66867,     0.66967,     0.67067,     0.67167,\n",
       "           0.67267,     0.67367,     0.67467,     0.67568,     0.67668,     0.67768,     0.67868,     0.67968,     0.68068,     0.68168,     0.68268,     0.68368,     0.68468,     0.68569,     0.68669,     0.68769,     0.68869,     0.68969,     0.69069,     0.69169,     0.69269,     0.69369,     0.69469,      0.6957,\n",
       "            0.6967,      0.6977,      0.6987,      0.6997,      0.7007,      0.7017,      0.7027,      0.7037,      0.7047,     0.70571,     0.70671,     0.70771,     0.70871,     0.70971,     0.71071,     0.71171,     0.71271,     0.71371,     0.71471,     0.71572,     0.71672,     0.71772,     0.71872,     0.71972,\n",
       "           0.72072,     0.72172,     0.72272,     0.72372,     0.72472,     0.72573,     0.72673,     0.72773,     0.72873,     0.72973,     0.73073,     0.73173,     0.73273,     0.73373,     0.73473,     0.73574,     0.73674,     0.73774,     0.73874,     0.73974,     0.74074,     0.74174,     0.74274,     0.74374,\n",
       "           0.74474,     0.74575,     0.74675,     0.74775,     0.74875,     0.74975,     0.75075,     0.75175,     0.75275,     0.75375,     0.75475,     0.75576,     0.75676,     0.75776,     0.75876,     0.75976,     0.76076,     0.76176,     0.76276,     0.76376,     0.76476,     0.76577,     0.76677,     0.76777,\n",
       "           0.76877,     0.76977,     0.77077,     0.77177,     0.77277,     0.77377,     0.77477,     0.77578,     0.77678,     0.77778,     0.77878,     0.77978,     0.78078,     0.78178,     0.78278,     0.78378,     0.78478,     0.78579,     0.78679,     0.78779,     0.78879,     0.78979,     0.79079,     0.79179,\n",
       "           0.79279,     0.79379,     0.79479,      0.7958,      0.7968,      0.7978,      0.7988,      0.7998,      0.8008,      0.8018,      0.8028,      0.8038,      0.8048,     0.80581,     0.80681,     0.80781,     0.80881,     0.80981,     0.81081,     0.81181,     0.81281,     0.81381,     0.81481,     0.81582,\n",
       "           0.81682,     0.81782,     0.81882,     0.81982,     0.82082,     0.82182,     0.82282,     0.82382,     0.82482,     0.82583,     0.82683,     0.82783,     0.82883,     0.82983,     0.83083,     0.83183,     0.83283,     0.83383,     0.83483,     0.83584,     0.83684,     0.83784,     0.83884,     0.83984,\n",
       "           0.84084,     0.84184,     0.84284,     0.84384,     0.84484,     0.84585,     0.84685,     0.84785,     0.84885,     0.84985,     0.85085,     0.85185,     0.85285,     0.85385,     0.85485,     0.85586,     0.85686,     0.85786,     0.85886,     0.85986,     0.86086,     0.86186,     0.86286,     0.86386,\n",
       "           0.86486,     0.86587,     0.86687,     0.86787,     0.86887,     0.86987,     0.87087,     0.87187,     0.87287,     0.87387,     0.87487,     0.87588,     0.87688,     0.87788,     0.87888,     0.87988,     0.88088,     0.88188,     0.88288,     0.88388,     0.88488,     0.88589,     0.88689,     0.88789,\n",
       "           0.88889,     0.88989,     0.89089,     0.89189,     0.89289,     0.89389,     0.89489,      0.8959,      0.8969,      0.8979,      0.8989,      0.8999,      0.9009,      0.9019,      0.9029,      0.9039,      0.9049,     0.90591,     0.90691,     0.90791,     0.90891,     0.90991,     0.91091,     0.91191,\n",
       "           0.91291,     0.91391,     0.91491,     0.91592,     0.91692,     0.91792,     0.91892,     0.91992,     0.92092,     0.92192,     0.92292,     0.92392,     0.92492,     0.92593,     0.92693,     0.92793,     0.92893,     0.92993,     0.93093,     0.93193,     0.93293,     0.93393,     0.93493,     0.93594,\n",
       "           0.93694,     0.93794,     0.93894,     0.93994,     0.94094,     0.94194,     0.94294,     0.94394,     0.94494,     0.94595,     0.94695,     0.94795,     0.94895,     0.94995,     0.95095,     0.95195,     0.95295,     0.95395,     0.95495,     0.95596,     0.95696,     0.95796,     0.95896,     0.95996,\n",
       "           0.96096,     0.96196,     0.96296,     0.96396,     0.96496,     0.96597,     0.96697,     0.96797,     0.96897,     0.96997,     0.97097,     0.97197,     0.97297,     0.97397,     0.97497,     0.97598,     0.97698,     0.97798,     0.97898,     0.97998,     0.98098,     0.98198,     0.98298,     0.98398,\n",
       "           0.98498,     0.98599,     0.98699,     0.98799,     0.98899,     0.98999,     0.99099,     0.99199,     0.99299,     0.99399,     0.99499,       0.996,       0.997,       0.998,       0.999,           1]), array([[  0.0063366,   0.0063366,   0.0085147,     0.02159,    0.038546,    0.062551,    0.080823,    0.092867,     0.10328,     0.11446,     0.12738,      0.1332,     0.13876,     0.15157,     0.16768,     0.17679,     0.18384,     0.19827,     0.21034,     0.22267,     0.22471,     0.23486,     0.23837,\n",
       "            0.24121,     0.24924,     0.25225,     0.25582,       0.259,     0.26053,     0.26203,      0.2638,     0.26562,     0.27123,     0.27203,     0.27282,     0.27362,      0.2744,     0.27519,     0.27603,     0.27728,     0.27851,     0.27973,     0.28328,     0.28597,     0.28628,      0.2866,\n",
       "            0.28691,     0.28723,     0.28754,     0.28785,     0.28816,     0.28847,     0.28878,     0.28909,      0.2894,     0.28971,     0.29001,     0.29032,     0.29062,     0.29091,     0.29094,     0.29097,       0.291,     0.29102,     0.29105,     0.29108,     0.29111,     0.29114,     0.29117,\n",
       "            0.29119,     0.29122,     0.29125,     0.29128,     0.29131,     0.29134,     0.29136,     0.29139,     0.29142,     0.29145,     0.29148,      0.2915,     0.29153,     0.29156,     0.29159,     0.29162,     0.29165,     0.29167,      0.2917,     0.29173,     0.29176,     0.29179,     0.29181,\n",
       "            0.29184,     0.29187,      0.2919,     0.29193,     0.29195,     0.29198,     0.29201,     0.29204,     0.29207,      0.2921,     0.29212,     0.29215,     0.29218,     0.29221,     0.29224,     0.29226,     0.29229,     0.29232,     0.29235,     0.29238,      0.2924,     0.29243,     0.29246,\n",
       "            0.29249,     0.29252,     0.29254,     0.29257,      0.2926,     0.29263,     0.29266,     0.29268,     0.29271,     0.29274,     0.29277,      0.2928,     0.29282,     0.29285,     0.29288,     0.29291,     0.29293,     0.29296,     0.29299,     0.29302,     0.29305,     0.29307,      0.2931,\n",
       "            0.29313,     0.29316,     0.29319,     0.29321,     0.29324,     0.29327,      0.2933,     0.29333,     0.29335,     0.29338,     0.29341,     0.29344,     0.29346,     0.29349,     0.29352,     0.29355,     0.29358,      0.2936,     0.29363,     0.29366,     0.29369,     0.29371,     0.29374,\n",
       "            0.29377,      0.2938,     0.29383,     0.29385,     0.29388,     0.29391,     0.29394,     0.29396,     0.29399,     0.29402,     0.29405,     0.29407,      0.2941,     0.29413,     0.29416,     0.29419,     0.29421,     0.29424,     0.29427,      0.2943,     0.29432,     0.29435,     0.29438,\n",
       "            0.29441,     0.29443,     0.29446,     0.29449,     0.29452,     0.29454,     0.29457,      0.2946,     0.29463,     0.29465,     0.29468,     0.29471,     0.29474,     0.29476,     0.29479,     0.29482,     0.29485,     0.29487,      0.2949,     0.29493,     0.29496,     0.29498,     0.29501,\n",
       "            0.29504,     0.29507,     0.29509,     0.29512,     0.29515,     0.29518,      0.2952,     0.29523,     0.29526,     0.29529,     0.29531,     0.29534,     0.29537,      0.2954,     0.29542,     0.29545,     0.29548,     0.29551,     0.29553,     0.29556,     0.29559,     0.29562,     0.29564,\n",
       "            0.29567,      0.2957,     0.29573,     0.29575,     0.29578,     0.29581,     0.29583,     0.29586,     0.29589,     0.29592,     0.29594,     0.29597,       0.296,     0.29603,     0.29605,     0.29608,     0.29611,     0.29613,     0.29616,     0.29619,     0.29622,     0.29624,     0.29627,\n",
       "             0.2963,     0.29632,     0.29634,     0.29637,     0.29639,     0.29641,     0.29643,     0.29646,     0.29648,      0.2965,     0.29652,     0.29654,     0.29657,     0.29659,     0.29661,     0.29663,     0.29666,     0.29668,      0.2967,     0.29672,     0.29675,     0.29677,     0.29679,\n",
       "            0.29681,     0.29684,     0.29686,     0.29688,      0.2969,     0.29692,     0.29695,     0.29697,     0.29699,     0.29701,     0.29704,     0.29706,     0.29708,      0.2971,     0.29713,     0.29715,     0.29717,     0.29719,     0.29721,     0.29724,     0.29726,     0.29728,      0.2973,\n",
       "            0.29733,     0.29735,     0.29737,     0.29739,     0.29742,     0.29744,     0.29746,     0.29748,      0.2975,     0.29753,     0.29755,     0.29757,     0.29759,     0.29762,     0.29764,     0.29766,     0.29768,      0.2977,     0.29773,     0.29775,     0.29777,     0.29779,     0.29782,\n",
       "            0.29784,     0.29786,     0.29788,      0.2979,     0.29793,     0.29795,     0.29797,     0.29799,     0.29801,     0.29804,     0.29806,     0.29808,      0.2981,     0.29813,     0.29815,     0.29817,     0.29819,     0.29821,     0.29824,     0.29826,     0.29828,      0.2983,     0.29832,\n",
       "            0.29835,     0.29837,     0.29839,     0.29841,     0.29843,     0.29846,     0.29848,      0.2985,     0.29852,     0.29855,     0.29857,     0.29859,     0.29861,     0.29863,     0.29866,     0.29868,      0.2987,     0.29872,     0.29874,     0.29877,     0.29879,     0.29881,     0.29883,\n",
       "            0.29885,     0.29888,      0.2989,     0.29892,     0.29894,     0.29896,     0.29899,     0.29901,     0.29903,     0.29905,     0.29907,      0.2991,     0.29912,     0.29914,     0.29916,     0.29918,     0.29921,     0.29923,     0.29925,     0.29927,     0.29929,     0.29932,     0.29934,\n",
       "            0.29936,     0.29938,      0.2994,     0.29943,     0.29945,     0.29947,     0.29949,     0.29951,     0.29953,     0.29956,     0.29958,      0.2996,     0.29962,     0.29964,     0.29967,     0.29969,     0.29971,     0.29973,     0.29975,     0.29978,      0.2998,     0.29982,     0.29984,\n",
       "            0.29986,     0.29988,     0.29991,     0.29993,     0.29995,     0.29997,     0.29999,     0.30002,     0.30004,     0.30006,     0.30008,      0.3001,     0.30012,     0.30015,     0.30017,     0.30019,     0.30021,     0.30023,     0.30026,     0.30028,      0.3003,     0.30032,     0.30034,\n",
       "            0.30036,     0.30039,     0.30041,     0.30043,     0.30045,     0.30047,      0.3005,     0.30052,     0.30054,     0.30056,     0.30058,      0.3006,     0.30063,     0.30065,     0.30067,     0.30069,     0.30071,     0.30073,     0.30076,     0.30078,      0.3008,     0.30082,     0.30084,\n",
       "            0.30086,     0.30089,     0.30091,     0.30093,     0.30095,     0.30097,     0.30099,     0.30102,     0.30104,     0.30106,     0.30108,      0.3011,     0.30112,     0.30115,     0.30117,     0.30119,     0.30121,     0.30123,     0.30125,     0.30128,      0.3013,     0.30132,     0.30134,\n",
       "            0.30136,     0.30138,     0.30141,     0.30143,     0.30145,     0.30147,     0.30149,     0.30151,     0.30154,     0.30156,     0.30158,      0.3016,     0.30162,     0.30164,     0.30166,     0.30169,     0.30171,     0.30173,     0.30175,     0.30177,     0.30179,     0.30182,     0.30184,\n",
       "            0.30186,     0.30188,     0.30197,     0.30209,      0.3022,     0.30232,     0.30244,     0.30256,     0.30268,     0.30279,     0.30291,     0.30303,     0.30314,     0.30326,     0.30338,     0.30349,     0.30361,     0.30373,     0.30384,     0.30396,     0.30408,     0.30419,     0.30431,\n",
       "            0.30442,     0.30454,     0.30466,     0.30477,     0.30489,       0.305,     0.30512,     0.30523,     0.30535,     0.30546,     0.30558,     0.30569,     0.30581,     0.30592,     0.30604,     0.30615,     0.30627,     0.30638,     0.30649,     0.30661,     0.30672,     0.30684,     0.30695,\n",
       "            0.30706,     0.30718,     0.30729,      0.3074,     0.30752,     0.30763,     0.30771,     0.30776,      0.3078,     0.30784,     0.30789,     0.30793,     0.30798,     0.30802,     0.30806,     0.30811,     0.30815,      0.3082,     0.30824,     0.30828,     0.30833,     0.30837,     0.30842,\n",
       "            0.30846,      0.3085,     0.30855,     0.30859,     0.30864,     0.30868,     0.30872,     0.30877,     0.30881,     0.30885,      0.3089,     0.30894,     0.30898,     0.30903,     0.30907,     0.30912,     0.30916,      0.3092,     0.30925,     0.30929,     0.30933,     0.30938,     0.30942,\n",
       "            0.30946,     0.30951,     0.30955,     0.30959,     0.30964,     0.30968,     0.30973,     0.30977,     0.30981,     0.30986,      0.3099,     0.30994,     0.30999,     0.31003,     0.31007,     0.31012,     0.31016,      0.3102,     0.31025,     0.31029,     0.31033,     0.31038,     0.31042,\n",
       "            0.31046,      0.3105,     0.31055,     0.31059,     0.31063,     0.31068,     0.31072,     0.31076,     0.31081,     0.31085,     0.31089,     0.31094,     0.31098,     0.31102,     0.31106,     0.31111,     0.31115,     0.31119,     0.31124,     0.31128,     0.31132,     0.31137,     0.31141,\n",
       "            0.31145,     0.31149,     0.31154,     0.31158,     0.31162,     0.31166,     0.31171,     0.31175,     0.31179,     0.31184,     0.31188,     0.31192,     0.31196,     0.31201,     0.31205,     0.31209,     0.31213,     0.31218,     0.31222,     0.31226,     0.31231,     0.31235,     0.31239,\n",
       "            0.31243,     0.31248,     0.31252,     0.31256,      0.3126,     0.31265,     0.31269,     0.31273,     0.31277,     0.31282,     0.31286,      0.3129,     0.31294,     0.31298,     0.31303,     0.31307,     0.31311,     0.31315,      0.3132,     0.31324,     0.31328,     0.31332,     0.31337,\n",
       "            0.31341,     0.31345,     0.31349,     0.31353,     0.31358,     0.31362,     0.31366,      0.3137,     0.31382,     0.31404,     0.31426,     0.31447,     0.31469,      0.3149,     0.31511,     0.31533,     0.31554,     0.31575,     0.31597,     0.31618,     0.31639,      0.3166,     0.31681,\n",
       "            0.31702,     0.31723,     0.31744,     0.31765,     0.31786,     0.31807,     0.31828,     0.31849,      0.3187,      0.3189,     0.31911,     0.31932,     0.31953,     0.31973,     0.31994,     0.32005,     0.32013,      0.3202,     0.32028,     0.32035,     0.32043,      0.3205,     0.32058,\n",
       "            0.32065,     0.32073,      0.3208,     0.32088,     0.32095,     0.32102,      0.3211,     0.32117,     0.32125,     0.32132,      0.3214,     0.32147,     0.32155,     0.32162,     0.32169,     0.32177,     0.32184,     0.32192,     0.32199,     0.32206,     0.32214,     0.32221,     0.32228,\n",
       "            0.32236,     0.32243,     0.32251,     0.32258,     0.32265,     0.32273,      0.3228,     0.32287,     0.32295,     0.32302,     0.32309,     0.32317,     0.32324,     0.32331,     0.32339,     0.32346,     0.32353,     0.32361,     0.32368,     0.32375,     0.32382,      0.3239,     0.32397,\n",
       "            0.32404,     0.32412,     0.32419,     0.32426,     0.32433,     0.32441,     0.32448,     0.32455,     0.32462,      0.3247,     0.32477,     0.32484,     0.32491,     0.32498,     0.32506,     0.32513,      0.3252,     0.32527,     0.32534,     0.32542,     0.32549,     0.32556,     0.32563,\n",
       "             0.3257,     0.32578,     0.32585,     0.32592,     0.32599,     0.32606,     0.32613,      0.3262,     0.32628,     0.32635,     0.32642,     0.32649,      0.3268,     0.32742,     0.32804,     0.32865,     0.32927,     0.32987,     0.33048,     0.33108,     0.33168,     0.33228,     0.33287,\n",
       "            0.33336,     0.33347,     0.33358,      0.3337,     0.33381,     0.33392,     0.33403,     0.33414,     0.33426,     0.33437,     0.33448,     0.33459,      0.3347,     0.33481,     0.33492,     0.33504,     0.33515,     0.33526,     0.33537,     0.33548,     0.33559,      0.3357,     0.33581,\n",
       "            0.33592,     0.33603,     0.33614,     0.33625,     0.33636,     0.33647,     0.33658,     0.33669,      0.3368,     0.33691,     0.33702,     0.33713,     0.33724,     0.33735,     0.33745,     0.33756,     0.33767,     0.33778,     0.33789,       0.338,     0.33811,     0.33821,     0.33832,\n",
       "            0.33843,     0.33854,     0.33864,     0.33875,     0.33886,     0.33897,     0.33907,     0.33918,     0.33929,      0.3394,      0.3395,     0.33961,     0.33972,     0.33982,     0.33993,     0.34004,     0.34014,     0.34025,     0.34036,     0.34067,     0.34138,     0.34208,     0.34278,\n",
       "            0.34348,     0.34417,     0.34485,     0.34554,     0.34622,     0.34689,     0.34756,     0.34433,     0.33857,     0.33279,       0.327,      0.3212,     0.31539,     0.31123,     0.31169,     0.31214,     0.31259,     0.31304,     0.31348,     0.31393,     0.31437,     0.31481,     0.31525,\n",
       "            0.31568,     0.31612,     0.31655,     0.31698,      0.3174,     0.31783,     0.31824,     0.31856,     0.31888,      0.3192,     0.31952,     0.31983,     0.32015,     0.32047,     0.32078,     0.32109,     0.32141,     0.32172,     0.32203,     0.32233,     0.32264,     0.32295,     0.32325,\n",
       "            0.32356,     0.32386,     0.32416,     0.32447,     0.32477,     0.32507,     0.32536,      0.3251,      0.3233,     0.32149,     0.31969,     0.31788,     0.31607,     0.31426,     0.31245,     0.31064,     0.30883,     0.30702,      0.3052,     0.30338,     0.30156,     0.29974,     0.29792,\n",
       "             0.2961,     0.29428,     0.29245,     0.29062,      0.2888,     0.28697,     0.27673,     0.24813,     0.20555,     0.15852,     0.15641,      0.1599,     0.15949,      0.1537,      0.1479,      0.1421,      0.1363,     0.13048,     0.12465,     0.11882,     0.11297,      0.1134,     0.11811,\n",
       "               0.12,      0.1132,    0.083178,    0.022603,           0,           0,           0,           0,           0,           0,           0]]), 'Confidence', 'F1'], [array([          0,    0.001001,    0.002002,    0.003003,    0.004004,    0.005005,    0.006006,    0.007007,    0.008008,    0.009009,     0.01001,    0.011011,    0.012012,    0.013013,    0.014014,    0.015015,    0.016016,    0.017017,    0.018018,    0.019019,     0.02002,    0.021021,    0.022022,    0.023023,\n",
       "          0.024024,    0.025025,    0.026026,    0.027027,    0.028028,    0.029029,     0.03003,    0.031031,    0.032032,    0.033033,    0.034034,    0.035035,    0.036036,    0.037037,    0.038038,    0.039039,     0.04004,    0.041041,    0.042042,    0.043043,    0.044044,    0.045045,    0.046046,    0.047047,\n",
       "          0.048048,    0.049049,     0.05005,    0.051051,    0.052052,    0.053053,    0.054054,    0.055055,    0.056056,    0.057057,    0.058058,    0.059059,     0.06006,    0.061061,    0.062062,    0.063063,    0.064064,    0.065065,    0.066066,    0.067067,    0.068068,    0.069069,     0.07007,    0.071071,\n",
       "          0.072072,    0.073073,    0.074074,    0.075075,    0.076076,    0.077077,    0.078078,    0.079079,     0.08008,    0.081081,    0.082082,    0.083083,    0.084084,    0.085085,    0.086086,    0.087087,    0.088088,    0.089089,     0.09009,    0.091091,    0.092092,    0.093093,    0.094094,    0.095095,\n",
       "          0.096096,    0.097097,    0.098098,    0.099099,      0.1001,      0.1011,      0.1021,      0.1031,      0.1041,     0.10511,     0.10611,     0.10711,     0.10811,     0.10911,     0.11011,     0.11111,     0.11211,     0.11311,     0.11411,     0.11512,     0.11612,     0.11712,     0.11812,     0.11912,\n",
       "           0.12012,     0.12112,     0.12212,     0.12312,     0.12412,     0.12513,     0.12613,     0.12713,     0.12813,     0.12913,     0.13013,     0.13113,     0.13213,     0.13313,     0.13413,     0.13514,     0.13614,     0.13714,     0.13814,     0.13914,     0.14014,     0.14114,     0.14214,     0.14314,\n",
       "           0.14414,     0.14515,     0.14615,     0.14715,     0.14815,     0.14915,     0.15015,     0.15115,     0.15215,     0.15315,     0.15415,     0.15516,     0.15616,     0.15716,     0.15816,     0.15916,     0.16016,     0.16116,     0.16216,     0.16316,     0.16416,     0.16517,     0.16617,     0.16717,\n",
       "           0.16817,     0.16917,     0.17017,     0.17117,     0.17217,     0.17317,     0.17417,     0.17518,     0.17618,     0.17718,     0.17818,     0.17918,     0.18018,     0.18118,     0.18218,     0.18318,     0.18418,     0.18519,     0.18619,     0.18719,     0.18819,     0.18919,     0.19019,     0.19119,\n",
       "           0.19219,     0.19319,     0.19419,      0.1952,      0.1962,      0.1972,      0.1982,      0.1992,      0.2002,      0.2012,      0.2022,      0.2032,      0.2042,     0.20521,     0.20621,     0.20721,     0.20821,     0.20921,     0.21021,     0.21121,     0.21221,     0.21321,     0.21421,     0.21522,\n",
       "           0.21622,     0.21722,     0.21822,     0.21922,     0.22022,     0.22122,     0.22222,     0.22322,     0.22422,     0.22523,     0.22623,     0.22723,     0.22823,     0.22923,     0.23023,     0.23123,     0.23223,     0.23323,     0.23423,     0.23524,     0.23624,     0.23724,     0.23824,     0.23924,\n",
       "           0.24024,     0.24124,     0.24224,     0.24324,     0.24424,     0.24525,     0.24625,     0.24725,     0.24825,     0.24925,     0.25025,     0.25125,     0.25225,     0.25325,     0.25425,     0.25526,     0.25626,     0.25726,     0.25826,     0.25926,     0.26026,     0.26126,     0.26226,     0.26326,\n",
       "           0.26426,     0.26527,     0.26627,     0.26727,     0.26827,     0.26927,     0.27027,     0.27127,     0.27227,     0.27327,     0.27427,     0.27528,     0.27628,     0.27728,     0.27828,     0.27928,     0.28028,     0.28128,     0.28228,     0.28328,     0.28428,     0.28529,     0.28629,     0.28729,\n",
       "           0.28829,     0.28929,     0.29029,     0.29129,     0.29229,     0.29329,     0.29429,      0.2953,      0.2963,      0.2973,      0.2983,      0.2993,      0.3003,      0.3013,      0.3023,      0.3033,      0.3043,     0.30531,     0.30631,     0.30731,     0.30831,     0.30931,     0.31031,     0.31131,\n",
       "           0.31231,     0.31331,     0.31431,     0.31532,     0.31632,     0.31732,     0.31832,     0.31932,     0.32032,     0.32132,     0.32232,     0.32332,     0.32432,     0.32533,     0.32633,     0.32733,     0.32833,     0.32933,     0.33033,     0.33133,     0.33233,     0.33333,     0.33433,     0.33534,\n",
       "           0.33634,     0.33734,     0.33834,     0.33934,     0.34034,     0.34134,     0.34234,     0.34334,     0.34434,     0.34535,     0.34635,     0.34735,     0.34835,     0.34935,     0.35035,     0.35135,     0.35235,     0.35335,     0.35435,     0.35536,     0.35636,     0.35736,     0.35836,     0.35936,\n",
       "           0.36036,     0.36136,     0.36236,     0.36336,     0.36436,     0.36537,     0.36637,     0.36737,     0.36837,     0.36937,     0.37037,     0.37137,     0.37237,     0.37337,     0.37437,     0.37538,     0.37638,     0.37738,     0.37838,     0.37938,     0.38038,     0.38138,     0.38238,     0.38338,\n",
       "           0.38438,     0.38539,     0.38639,     0.38739,     0.38839,     0.38939,     0.39039,     0.39139,     0.39239,     0.39339,     0.39439,      0.3954,      0.3964,      0.3974,      0.3984,      0.3994,      0.4004,      0.4014,      0.4024,      0.4034,      0.4044,     0.40541,     0.40641,     0.40741,\n",
       "           0.40841,     0.40941,     0.41041,     0.41141,     0.41241,     0.41341,     0.41441,     0.41542,     0.41642,     0.41742,     0.41842,     0.41942,     0.42042,     0.42142,     0.42242,     0.42342,     0.42442,     0.42543,     0.42643,     0.42743,     0.42843,     0.42943,     0.43043,     0.43143,\n",
       "           0.43243,     0.43343,     0.43443,     0.43544,     0.43644,     0.43744,     0.43844,     0.43944,     0.44044,     0.44144,     0.44244,     0.44344,     0.44444,     0.44545,     0.44645,     0.44745,     0.44845,     0.44945,     0.45045,     0.45145,     0.45245,     0.45345,     0.45445,     0.45546,\n",
       "           0.45646,     0.45746,     0.45846,     0.45946,     0.46046,     0.46146,     0.46246,     0.46346,     0.46446,     0.46547,     0.46647,     0.46747,     0.46847,     0.46947,     0.47047,     0.47147,     0.47247,     0.47347,     0.47447,     0.47548,     0.47648,     0.47748,     0.47848,     0.47948,\n",
       "           0.48048,     0.48148,     0.48248,     0.48348,     0.48448,     0.48549,     0.48649,     0.48749,     0.48849,     0.48949,     0.49049,     0.49149,     0.49249,     0.49349,     0.49449,      0.4955,      0.4965,      0.4975,      0.4985,      0.4995,      0.5005,      0.5015,      0.5025,      0.5035,\n",
       "            0.5045,     0.50551,     0.50651,     0.50751,     0.50851,     0.50951,     0.51051,     0.51151,     0.51251,     0.51351,     0.51451,     0.51552,     0.51652,     0.51752,     0.51852,     0.51952,     0.52052,     0.52152,     0.52252,     0.52352,     0.52452,     0.52553,     0.52653,     0.52753,\n",
       "           0.52853,     0.52953,     0.53053,     0.53153,     0.53253,     0.53353,     0.53453,     0.53554,     0.53654,     0.53754,     0.53854,     0.53954,     0.54054,     0.54154,     0.54254,     0.54354,     0.54454,     0.54555,     0.54655,     0.54755,     0.54855,     0.54955,     0.55055,     0.55155,\n",
       "           0.55255,     0.55355,     0.55455,     0.55556,     0.55656,     0.55756,     0.55856,     0.55956,     0.56056,     0.56156,     0.56256,     0.56356,     0.56456,     0.56557,     0.56657,     0.56757,     0.56857,     0.56957,     0.57057,     0.57157,     0.57257,     0.57357,     0.57457,     0.57558,\n",
       "           0.57658,     0.57758,     0.57858,     0.57958,     0.58058,     0.58158,     0.58258,     0.58358,     0.58458,     0.58559,     0.58659,     0.58759,     0.58859,     0.58959,     0.59059,     0.59159,     0.59259,     0.59359,     0.59459,      0.5956,      0.5966,      0.5976,      0.5986,      0.5996,\n",
       "            0.6006,      0.6016,      0.6026,      0.6036,      0.6046,     0.60561,     0.60661,     0.60761,     0.60861,     0.60961,     0.61061,     0.61161,     0.61261,     0.61361,     0.61461,     0.61562,     0.61662,     0.61762,     0.61862,     0.61962,     0.62062,     0.62162,     0.62262,     0.62362,\n",
       "           0.62462,     0.62563,     0.62663,     0.62763,     0.62863,     0.62963,     0.63063,     0.63163,     0.63263,     0.63363,     0.63463,     0.63564,     0.63664,     0.63764,     0.63864,     0.63964,     0.64064,     0.64164,     0.64264,     0.64364,     0.64464,     0.64565,     0.64665,     0.64765,\n",
       "           0.64865,     0.64965,     0.65065,     0.65165,     0.65265,     0.65365,     0.65465,     0.65566,     0.65666,     0.65766,     0.65866,     0.65966,     0.66066,     0.66166,     0.66266,     0.66366,     0.66466,     0.66567,     0.66667,     0.66767,     0.66867,     0.66967,     0.67067,     0.67167,\n",
       "           0.67267,     0.67367,     0.67467,     0.67568,     0.67668,     0.67768,     0.67868,     0.67968,     0.68068,     0.68168,     0.68268,     0.68368,     0.68468,     0.68569,     0.68669,     0.68769,     0.68869,     0.68969,     0.69069,     0.69169,     0.69269,     0.69369,     0.69469,      0.6957,\n",
       "            0.6967,      0.6977,      0.6987,      0.6997,      0.7007,      0.7017,      0.7027,      0.7037,      0.7047,     0.70571,     0.70671,     0.70771,     0.70871,     0.70971,     0.71071,     0.71171,     0.71271,     0.71371,     0.71471,     0.71572,     0.71672,     0.71772,     0.71872,     0.71972,\n",
       "           0.72072,     0.72172,     0.72272,     0.72372,     0.72472,     0.72573,     0.72673,     0.72773,     0.72873,     0.72973,     0.73073,     0.73173,     0.73273,     0.73373,     0.73473,     0.73574,     0.73674,     0.73774,     0.73874,     0.73974,     0.74074,     0.74174,     0.74274,     0.74374,\n",
       "           0.74474,     0.74575,     0.74675,     0.74775,     0.74875,     0.74975,     0.75075,     0.75175,     0.75275,     0.75375,     0.75475,     0.75576,     0.75676,     0.75776,     0.75876,     0.75976,     0.76076,     0.76176,     0.76276,     0.76376,     0.76476,     0.76577,     0.76677,     0.76777,\n",
       "           0.76877,     0.76977,     0.77077,     0.77177,     0.77277,     0.77377,     0.77477,     0.77578,     0.77678,     0.77778,     0.77878,     0.77978,     0.78078,     0.78178,     0.78278,     0.78378,     0.78478,     0.78579,     0.78679,     0.78779,     0.78879,     0.78979,     0.79079,     0.79179,\n",
       "           0.79279,     0.79379,     0.79479,      0.7958,      0.7968,      0.7978,      0.7988,      0.7998,      0.8008,      0.8018,      0.8028,      0.8038,      0.8048,     0.80581,     0.80681,     0.80781,     0.80881,     0.80981,     0.81081,     0.81181,     0.81281,     0.81381,     0.81481,     0.81582,\n",
       "           0.81682,     0.81782,     0.81882,     0.81982,     0.82082,     0.82182,     0.82282,     0.82382,     0.82482,     0.82583,     0.82683,     0.82783,     0.82883,     0.82983,     0.83083,     0.83183,     0.83283,     0.83383,     0.83483,     0.83584,     0.83684,     0.83784,     0.83884,     0.83984,\n",
       "           0.84084,     0.84184,     0.84284,     0.84384,     0.84484,     0.84585,     0.84685,     0.84785,     0.84885,     0.84985,     0.85085,     0.85185,     0.85285,     0.85385,     0.85485,     0.85586,     0.85686,     0.85786,     0.85886,     0.85986,     0.86086,     0.86186,     0.86286,     0.86386,\n",
       "           0.86486,     0.86587,     0.86687,     0.86787,     0.86887,     0.86987,     0.87087,     0.87187,     0.87287,     0.87387,     0.87487,     0.87588,     0.87688,     0.87788,     0.87888,     0.87988,     0.88088,     0.88188,     0.88288,     0.88388,     0.88488,     0.88589,     0.88689,     0.88789,\n",
       "           0.88889,     0.88989,     0.89089,     0.89189,     0.89289,     0.89389,     0.89489,      0.8959,      0.8969,      0.8979,      0.8989,      0.8999,      0.9009,      0.9019,      0.9029,      0.9039,      0.9049,     0.90591,     0.90691,     0.90791,     0.90891,     0.90991,     0.91091,     0.91191,\n",
       "           0.91291,     0.91391,     0.91491,     0.91592,     0.91692,     0.91792,     0.91892,     0.91992,     0.92092,     0.92192,     0.92292,     0.92392,     0.92492,     0.92593,     0.92693,     0.92793,     0.92893,     0.92993,     0.93093,     0.93193,     0.93293,     0.93393,     0.93493,     0.93594,\n",
       "           0.93694,     0.93794,     0.93894,     0.93994,     0.94094,     0.94194,     0.94294,     0.94394,     0.94494,     0.94595,     0.94695,     0.94795,     0.94895,     0.94995,     0.95095,     0.95195,     0.95295,     0.95395,     0.95495,     0.95596,     0.95696,     0.95796,     0.95896,     0.95996,\n",
       "           0.96096,     0.96196,     0.96296,     0.96396,     0.96496,     0.96597,     0.96697,     0.96797,     0.96897,     0.96997,     0.97097,     0.97197,     0.97297,     0.97397,     0.97497,     0.97598,     0.97698,     0.97798,     0.97898,     0.97998,     0.98098,     0.98198,     0.98298,     0.98398,\n",
       "           0.98498,     0.98599,     0.98699,     0.98799,     0.98899,     0.98999,     0.99099,     0.99199,     0.99299,     0.99399,     0.99499,       0.996,       0.997,       0.998,       0.999,           1]), array([[  0.0032038,   0.0032038,   0.0043218,    0.011219,    0.020667,     0.03512,    0.047069,    0.055444,    0.063031,    0.071569,    0.081957,    0.086844,    0.091631,     0.10314,     0.11866,       0.128,     0.13552,      0.1518,     0.16643,     0.18242,     0.18517,     0.19937,     0.20449,\n",
       "             0.2087,     0.22103,      0.2258,     0.23159,     0.23686,     0.23942,     0.24197,     0.24502,     0.24816,     0.25814,     0.25959,     0.26105,      0.2625,     0.26395,     0.26541,     0.26698,     0.26932,     0.27166,       0.274,     0.28089,     0.28622,     0.28686,     0.28749,\n",
       "            0.28812,     0.28875,     0.28938,     0.29002,     0.29065,     0.29128,     0.29191,     0.29255,     0.29318,     0.29381,     0.29444,     0.29508,     0.29571,      0.2963,     0.29636,     0.29642,     0.29648,     0.29654,     0.29659,     0.29665,     0.29671,     0.29677,     0.29683,\n",
       "            0.29689,     0.29695,     0.29701,     0.29706,     0.29712,     0.29718,     0.29724,      0.2973,     0.29736,     0.29742,     0.29748,     0.29753,     0.29759,     0.29765,     0.29771,     0.29777,     0.29783,     0.29789,     0.29795,       0.298,     0.29806,     0.29812,     0.29818,\n",
       "            0.29824,      0.2983,     0.29836,     0.29842,     0.29847,     0.29853,     0.29859,     0.29865,     0.29871,     0.29877,     0.29883,     0.29889,     0.29894,       0.299,     0.29906,     0.29912,     0.29918,     0.29924,      0.2993,     0.29936,     0.29941,     0.29947,     0.29953,\n",
       "            0.29959,     0.29965,     0.29971,     0.29977,     0.29983,     0.29988,     0.29994,         0.3,     0.30006,     0.30012,     0.30018,     0.30024,      0.3003,     0.30035,     0.30041,     0.30047,     0.30053,     0.30059,     0.30065,     0.30071,     0.30076,     0.30082,     0.30088,\n",
       "            0.30094,       0.301,     0.30106,     0.30112,     0.30118,     0.30123,     0.30129,     0.30135,     0.30141,     0.30147,     0.30153,     0.30159,     0.30165,      0.3017,     0.30176,     0.30182,     0.30188,     0.30194,       0.302,     0.30206,     0.30212,     0.30217,     0.30223,\n",
       "            0.30229,     0.30235,     0.30241,     0.30247,     0.30253,     0.30259,     0.30264,      0.3027,     0.30276,     0.30282,     0.30288,     0.30294,       0.303,     0.30306,     0.30311,     0.30317,     0.30323,     0.30329,     0.30335,     0.30341,     0.30347,     0.30353,     0.30358,\n",
       "            0.30364,      0.3037,     0.30376,     0.30382,     0.30388,     0.30394,       0.304,     0.30405,     0.30411,     0.30417,     0.30423,     0.30429,     0.30435,     0.30441,     0.30447,     0.30452,     0.30458,     0.30464,      0.3047,     0.30476,     0.30482,     0.30488,     0.30494,\n",
       "            0.30499,     0.30505,     0.30511,     0.30517,     0.30523,     0.30529,     0.30535,     0.30541,     0.30546,     0.30552,     0.30558,     0.30564,      0.3057,     0.30576,     0.30582,     0.30588,     0.30593,     0.30599,     0.30605,     0.30611,     0.30617,     0.30623,     0.30629,\n",
       "            0.30635,      0.3064,     0.30646,     0.30652,     0.30658,     0.30664,      0.3067,     0.30676,     0.30682,     0.30687,     0.30693,     0.30699,     0.30705,     0.30711,     0.30717,     0.30723,     0.30729,     0.30734,      0.3074,     0.30746,     0.30752,     0.30758,     0.30764,\n",
       "             0.3077,     0.30774,     0.30779,     0.30784,     0.30789,     0.30794,     0.30799,     0.30803,     0.30808,     0.30813,     0.30818,     0.30823,     0.30828,     0.30833,     0.30837,     0.30842,     0.30847,     0.30852,     0.30857,     0.30862,     0.30866,     0.30871,     0.30876,\n",
       "            0.30881,     0.30886,     0.30891,     0.30895,       0.309,     0.30905,      0.3091,     0.30915,      0.3092,     0.30924,     0.30929,     0.30934,     0.30939,     0.30944,     0.30949,     0.30953,     0.30958,     0.30963,     0.30968,     0.30973,     0.30978,     0.30982,     0.30987,\n",
       "            0.30992,     0.30997,     0.31002,     0.31007,     0.31012,     0.31016,     0.31021,     0.31026,     0.31031,     0.31036,     0.31041,     0.31045,      0.3105,     0.31055,      0.3106,     0.31065,      0.3107,     0.31074,     0.31079,     0.31084,     0.31089,     0.31094,     0.31099,\n",
       "            0.31103,     0.31108,     0.31113,     0.31118,     0.31123,     0.31128,     0.31132,     0.31137,     0.31142,     0.31147,     0.31152,     0.31157,     0.31162,     0.31166,     0.31171,     0.31176,     0.31181,     0.31186,     0.31191,     0.31195,       0.312,     0.31205,      0.3121,\n",
       "            0.31215,      0.3122,     0.31224,     0.31229,     0.31234,     0.31239,     0.31244,     0.31249,     0.31253,     0.31258,     0.31263,     0.31268,     0.31273,     0.31278,     0.31282,     0.31287,     0.31292,     0.31297,     0.31302,     0.31307,     0.31311,     0.31316,     0.31321,\n",
       "            0.31326,     0.31331,     0.31336,     0.31341,     0.31345,      0.3135,     0.31355,      0.3136,     0.31365,      0.3137,     0.31374,     0.31379,     0.31384,     0.31389,     0.31394,     0.31399,     0.31403,     0.31408,     0.31413,     0.31418,     0.31423,     0.31428,     0.31432,\n",
       "            0.31437,     0.31442,     0.31447,     0.31452,     0.31457,     0.31461,     0.31466,     0.31471,     0.31476,     0.31481,     0.31486,     0.31491,     0.31495,       0.315,     0.31505,      0.3151,     0.31515,      0.3152,     0.31524,     0.31529,     0.31534,     0.31539,     0.31544,\n",
       "            0.31549,     0.31553,     0.31558,     0.31563,     0.31568,     0.31573,     0.31578,     0.31582,     0.31587,     0.31592,     0.31597,     0.31602,     0.31607,     0.31611,     0.31616,     0.31621,     0.31626,     0.31631,     0.31636,      0.3164,     0.31645,      0.3165,     0.31655,\n",
       "             0.3166,     0.31665,      0.3167,     0.31674,     0.31679,     0.31684,     0.31689,     0.31694,     0.31699,     0.31703,     0.31708,     0.31713,     0.31718,     0.31723,     0.31728,     0.31732,     0.31737,     0.31742,     0.31747,     0.31752,     0.31757,     0.31761,     0.31766,\n",
       "            0.31771,     0.31776,     0.31781,     0.31786,      0.3179,     0.31795,       0.318,     0.31805,      0.3181,     0.31815,      0.3182,     0.31824,     0.31829,     0.31834,     0.31839,     0.31844,     0.31849,     0.31853,     0.31858,     0.31863,     0.31868,     0.31873,     0.31878,\n",
       "            0.31882,     0.31887,     0.31892,     0.31897,     0.31902,     0.31907,     0.31911,     0.31916,     0.31921,     0.31926,     0.31931,     0.31936,      0.3194,     0.31945,      0.3195,     0.31955,      0.3196,     0.31965,     0.31969,     0.31974,     0.31979,     0.31984,     0.31989,\n",
       "            0.31994,     0.31999,     0.32018,     0.32045,     0.32072,     0.32098,     0.32125,     0.32151,     0.32178,     0.32204,     0.32231,     0.32257,     0.32284,      0.3231,     0.32337,     0.32363,      0.3239,     0.32417,     0.32443,      0.3247,     0.32496,     0.32523,     0.32549,\n",
       "            0.32576,     0.32602,     0.32629,     0.32655,     0.32682,     0.32708,     0.32735,     0.32762,     0.32788,     0.32815,     0.32841,     0.32868,     0.32894,     0.32921,     0.32947,     0.32974,        0.33,     0.33027,     0.33053,      0.3308,     0.33107,     0.33133,      0.3316,\n",
       "            0.33186,     0.33213,     0.33239,     0.33266,     0.33292,     0.33319,     0.33338,     0.33348,     0.33359,     0.33369,     0.33379,      0.3339,       0.334,      0.3341,     0.33421,     0.33431,     0.33442,     0.33452,     0.33462,     0.33473,     0.33483,     0.33493,     0.33504,\n",
       "            0.33514,     0.33524,     0.33535,     0.33545,     0.33555,     0.33566,     0.33576,     0.33586,     0.33597,     0.33607,     0.33618,     0.33628,     0.33638,     0.33649,     0.33659,     0.33669,      0.3368,      0.3369,       0.337,     0.33711,     0.33721,     0.33731,     0.33742,\n",
       "            0.33752,     0.33762,     0.33773,     0.33783,     0.33794,     0.33804,     0.33814,     0.33825,     0.33835,     0.33845,     0.33856,     0.33866,     0.33876,     0.33887,     0.33897,     0.33907,     0.33918,     0.33928,     0.33938,     0.33949,     0.33959,      0.3397,      0.3398,\n",
       "             0.3399,     0.34001,     0.34011,     0.34021,     0.34032,     0.34042,     0.34052,     0.34063,     0.34073,     0.34083,     0.34094,     0.34104,     0.34114,     0.34125,     0.34135,     0.34145,     0.34156,     0.34166,     0.34177,     0.34187,     0.34197,     0.34208,     0.34218,\n",
       "            0.34228,     0.34239,     0.34249,     0.34259,      0.3427,      0.3428,      0.3429,     0.34301,     0.34311,     0.34321,     0.34332,     0.34342,     0.34353,     0.34363,     0.34373,     0.34384,     0.34394,     0.34404,     0.34415,     0.34425,     0.34435,     0.34446,     0.34456,\n",
       "            0.34466,     0.34477,     0.34487,     0.34497,     0.34508,     0.34518,     0.34529,     0.34539,     0.34549,      0.3456,      0.3457,      0.3458,     0.34591,     0.34601,     0.34611,     0.34622,     0.34632,     0.34642,     0.34653,     0.34663,     0.34673,     0.34684,     0.34694,\n",
       "            0.34705,     0.34715,     0.34725,     0.34736,     0.34746,     0.34756,     0.34767,     0.34777,     0.34807,      0.3486,     0.34913,     0.34966,     0.35019,     0.35073,     0.35126,     0.35179,     0.35232,     0.35285,     0.35338,     0.35391,     0.35444,     0.35498,     0.35551,\n",
       "            0.35604,     0.35657,      0.3571,     0.35763,     0.35816,      0.3587,     0.35923,     0.35976,     0.36029,     0.36082,     0.36135,     0.36188,     0.36241,     0.36295,     0.36348,     0.36377,     0.36397,     0.36416,     0.36435,     0.36455,     0.36474,     0.36494,     0.36513,\n",
       "            0.36532,     0.36552,     0.36571,     0.36591,      0.3661,     0.36629,     0.36649,     0.36668,     0.36688,     0.36707,     0.36726,     0.36746,     0.36765,     0.36785,     0.36804,     0.36823,     0.36843,     0.36862,     0.36882,     0.36901,      0.3692,      0.3694,     0.36959,\n",
       "            0.36979,     0.36998,     0.37017,     0.37037,     0.37056,     0.37076,     0.37095,     0.37114,     0.37134,     0.37153,     0.37173,     0.37192,     0.37211,     0.37231,      0.3725,      0.3727,     0.37289,     0.37308,     0.37328,     0.37347,     0.37367,     0.37386,     0.37405,\n",
       "            0.37425,     0.37444,     0.37464,     0.37483,     0.37502,     0.37522,     0.37541,     0.37561,      0.3758,     0.37599,     0.37619,     0.37638,     0.37658,     0.37677,     0.37696,     0.37716,     0.37735,     0.37755,     0.37774,     0.37793,     0.37813,     0.37832,     0.37851,\n",
       "            0.37871,      0.3789,      0.3791,     0.37929,     0.37948,     0.37968,     0.37987,     0.38007,     0.38026,     0.38045,     0.38065,     0.38084,     0.38169,     0.38339,     0.38509,     0.38678,     0.38848,     0.39018,     0.39188,     0.39357,     0.39527,     0.39697,     0.39867,\n",
       "            0.40007,     0.40039,     0.40072,     0.40104,     0.40137,     0.40169,     0.40202,     0.40234,     0.40267,     0.40299,     0.40331,     0.40364,     0.40396,     0.40429,     0.40461,     0.40494,     0.40526,     0.40559,     0.40591,     0.40624,     0.40656,     0.40688,     0.40721,\n",
       "            0.40753,     0.40786,     0.40818,     0.40851,     0.40883,     0.40916,     0.40948,      0.4098,     0.41013,     0.41045,     0.41078,      0.4111,     0.41143,     0.41175,     0.41208,      0.4124,     0.41273,     0.41305,     0.41337,      0.4137,     0.41402,     0.41435,     0.41467,\n",
       "              0.415,     0.41532,     0.41565,     0.41597,      0.4163,     0.41662,     0.41694,     0.41727,     0.41759,     0.41792,     0.41824,     0.41857,     0.41889,     0.41922,     0.41954,     0.41986,     0.42019,     0.42051,     0.42084,     0.42179,     0.42397,     0.42615,     0.42833,\n",
       "            0.43051,     0.43269,     0.43487,     0.43705,     0.43923,     0.44141,     0.44359,     0.44131,     0.43616,     0.43101,     0.42585,      0.4207,     0.41555,     0.41219,     0.41379,     0.41539,     0.41699,     0.41859,     0.42018,     0.42178,     0.42338,     0.42498,     0.42658,\n",
       "            0.42818,     0.42978,     0.43138,     0.43297,     0.43457,     0.43617,     0.43771,     0.43893,     0.44015,     0.44137,     0.44259,     0.44381,     0.44503,     0.44625,     0.44747,     0.44869,     0.44991,     0.45113,     0.45235,     0.45357,     0.45479,     0.45601,     0.45723,\n",
       "            0.45845,     0.45967,     0.46089,     0.46211,     0.46333,     0.46455,     0.46577,      0.4662,     0.46447,     0.46273,       0.461,     0.45926,     0.45753,     0.45579,     0.45405,     0.45232,     0.45058,     0.44885,     0.44711,     0.44538,     0.44364,     0.44191,     0.44017,\n",
       "            0.43844,      0.4367,     0.43496,     0.43323,     0.43149,     0.42976,     0.41907,     0.38903,     0.33978,     0.27882,     0.28953,     0.31498,     0.32894,     0.31945,     0.30996,     0.30047,     0.29098,     0.28149,     0.27199,      0.2625,     0.25301,     0.27499,     0.34082,\n",
       "            0.37499,     0.37939,     0.30252,     0.11678,           0,           0,           0,           0,           0,           1,           1]]), 'Confidence', 'Precision'], [array([          0,    0.001001,    0.002002,    0.003003,    0.004004,    0.005005,    0.006006,    0.007007,    0.008008,    0.009009,     0.01001,    0.011011,    0.012012,    0.013013,    0.014014,    0.015015,    0.016016,    0.017017,    0.018018,    0.019019,     0.02002,    0.021021,    0.022022,    0.023023,\n",
       "          0.024024,    0.025025,    0.026026,    0.027027,    0.028028,    0.029029,     0.03003,    0.031031,    0.032032,    0.033033,    0.034034,    0.035035,    0.036036,    0.037037,    0.038038,    0.039039,     0.04004,    0.041041,    0.042042,    0.043043,    0.044044,    0.045045,    0.046046,    0.047047,\n",
       "          0.048048,    0.049049,     0.05005,    0.051051,    0.052052,    0.053053,    0.054054,    0.055055,    0.056056,    0.057057,    0.058058,    0.059059,     0.06006,    0.061061,    0.062062,    0.063063,    0.064064,    0.065065,    0.066066,    0.067067,    0.068068,    0.069069,     0.07007,    0.071071,\n",
       "          0.072072,    0.073073,    0.074074,    0.075075,    0.076076,    0.077077,    0.078078,    0.079079,     0.08008,    0.081081,    0.082082,    0.083083,    0.084084,    0.085085,    0.086086,    0.087087,    0.088088,    0.089089,     0.09009,    0.091091,    0.092092,    0.093093,    0.094094,    0.095095,\n",
       "          0.096096,    0.097097,    0.098098,    0.099099,      0.1001,      0.1011,      0.1021,      0.1031,      0.1041,     0.10511,     0.10611,     0.10711,     0.10811,     0.10911,     0.11011,     0.11111,     0.11211,     0.11311,     0.11411,     0.11512,     0.11612,     0.11712,     0.11812,     0.11912,\n",
       "           0.12012,     0.12112,     0.12212,     0.12312,     0.12412,     0.12513,     0.12613,     0.12713,     0.12813,     0.12913,     0.13013,     0.13113,     0.13213,     0.13313,     0.13413,     0.13514,     0.13614,     0.13714,     0.13814,     0.13914,     0.14014,     0.14114,     0.14214,     0.14314,\n",
       "           0.14414,     0.14515,     0.14615,     0.14715,     0.14815,     0.14915,     0.15015,     0.15115,     0.15215,     0.15315,     0.15415,     0.15516,     0.15616,     0.15716,     0.15816,     0.15916,     0.16016,     0.16116,     0.16216,     0.16316,     0.16416,     0.16517,     0.16617,     0.16717,\n",
       "           0.16817,     0.16917,     0.17017,     0.17117,     0.17217,     0.17317,     0.17417,     0.17518,     0.17618,     0.17718,     0.17818,     0.17918,     0.18018,     0.18118,     0.18218,     0.18318,     0.18418,     0.18519,     0.18619,     0.18719,     0.18819,     0.18919,     0.19019,     0.19119,\n",
       "           0.19219,     0.19319,     0.19419,      0.1952,      0.1962,      0.1972,      0.1982,      0.1992,      0.2002,      0.2012,      0.2022,      0.2032,      0.2042,     0.20521,     0.20621,     0.20721,     0.20821,     0.20921,     0.21021,     0.21121,     0.21221,     0.21321,     0.21421,     0.21522,\n",
       "           0.21622,     0.21722,     0.21822,     0.21922,     0.22022,     0.22122,     0.22222,     0.22322,     0.22422,     0.22523,     0.22623,     0.22723,     0.22823,     0.22923,     0.23023,     0.23123,     0.23223,     0.23323,     0.23423,     0.23524,     0.23624,     0.23724,     0.23824,     0.23924,\n",
       "           0.24024,     0.24124,     0.24224,     0.24324,     0.24424,     0.24525,     0.24625,     0.24725,     0.24825,     0.24925,     0.25025,     0.25125,     0.25225,     0.25325,     0.25425,     0.25526,     0.25626,     0.25726,     0.25826,     0.25926,     0.26026,     0.26126,     0.26226,     0.26326,\n",
       "           0.26426,     0.26527,     0.26627,     0.26727,     0.26827,     0.26927,     0.27027,     0.27127,     0.27227,     0.27327,     0.27427,     0.27528,     0.27628,     0.27728,     0.27828,     0.27928,     0.28028,     0.28128,     0.28228,     0.28328,     0.28428,     0.28529,     0.28629,     0.28729,\n",
       "           0.28829,     0.28929,     0.29029,     0.29129,     0.29229,     0.29329,     0.29429,      0.2953,      0.2963,      0.2973,      0.2983,      0.2993,      0.3003,      0.3013,      0.3023,      0.3033,      0.3043,     0.30531,     0.30631,     0.30731,     0.30831,     0.30931,     0.31031,     0.31131,\n",
       "           0.31231,     0.31331,     0.31431,     0.31532,     0.31632,     0.31732,     0.31832,     0.31932,     0.32032,     0.32132,     0.32232,     0.32332,     0.32432,     0.32533,     0.32633,     0.32733,     0.32833,     0.32933,     0.33033,     0.33133,     0.33233,     0.33333,     0.33433,     0.33534,\n",
       "           0.33634,     0.33734,     0.33834,     0.33934,     0.34034,     0.34134,     0.34234,     0.34334,     0.34434,     0.34535,     0.34635,     0.34735,     0.34835,     0.34935,     0.35035,     0.35135,     0.35235,     0.35335,     0.35435,     0.35536,     0.35636,     0.35736,     0.35836,     0.35936,\n",
       "           0.36036,     0.36136,     0.36236,     0.36336,     0.36436,     0.36537,     0.36637,     0.36737,     0.36837,     0.36937,     0.37037,     0.37137,     0.37237,     0.37337,     0.37437,     0.37538,     0.37638,     0.37738,     0.37838,     0.37938,     0.38038,     0.38138,     0.38238,     0.38338,\n",
       "           0.38438,     0.38539,     0.38639,     0.38739,     0.38839,     0.38939,     0.39039,     0.39139,     0.39239,     0.39339,     0.39439,      0.3954,      0.3964,      0.3974,      0.3984,      0.3994,      0.4004,      0.4014,      0.4024,      0.4034,      0.4044,     0.40541,     0.40641,     0.40741,\n",
       "           0.40841,     0.40941,     0.41041,     0.41141,     0.41241,     0.41341,     0.41441,     0.41542,     0.41642,     0.41742,     0.41842,     0.41942,     0.42042,     0.42142,     0.42242,     0.42342,     0.42442,     0.42543,     0.42643,     0.42743,     0.42843,     0.42943,     0.43043,     0.43143,\n",
       "           0.43243,     0.43343,     0.43443,     0.43544,     0.43644,     0.43744,     0.43844,     0.43944,     0.44044,     0.44144,     0.44244,     0.44344,     0.44444,     0.44545,     0.44645,     0.44745,     0.44845,     0.44945,     0.45045,     0.45145,     0.45245,     0.45345,     0.45445,     0.45546,\n",
       "           0.45646,     0.45746,     0.45846,     0.45946,     0.46046,     0.46146,     0.46246,     0.46346,     0.46446,     0.46547,     0.46647,     0.46747,     0.46847,     0.46947,     0.47047,     0.47147,     0.47247,     0.47347,     0.47447,     0.47548,     0.47648,     0.47748,     0.47848,     0.47948,\n",
       "           0.48048,     0.48148,     0.48248,     0.48348,     0.48448,     0.48549,     0.48649,     0.48749,     0.48849,     0.48949,     0.49049,     0.49149,     0.49249,     0.49349,     0.49449,      0.4955,      0.4965,      0.4975,      0.4985,      0.4995,      0.5005,      0.5015,      0.5025,      0.5035,\n",
       "            0.5045,     0.50551,     0.50651,     0.50751,     0.50851,     0.50951,     0.51051,     0.51151,     0.51251,     0.51351,     0.51451,     0.51552,     0.51652,     0.51752,     0.51852,     0.51952,     0.52052,     0.52152,     0.52252,     0.52352,     0.52452,     0.52553,     0.52653,     0.52753,\n",
       "           0.52853,     0.52953,     0.53053,     0.53153,     0.53253,     0.53353,     0.53453,     0.53554,     0.53654,     0.53754,     0.53854,     0.53954,     0.54054,     0.54154,     0.54254,     0.54354,     0.54454,     0.54555,     0.54655,     0.54755,     0.54855,     0.54955,     0.55055,     0.55155,\n",
       "           0.55255,     0.55355,     0.55455,     0.55556,     0.55656,     0.55756,     0.55856,     0.55956,     0.56056,     0.56156,     0.56256,     0.56356,     0.56456,     0.56557,     0.56657,     0.56757,     0.56857,     0.56957,     0.57057,     0.57157,     0.57257,     0.57357,     0.57457,     0.57558,\n",
       "           0.57658,     0.57758,     0.57858,     0.57958,     0.58058,     0.58158,     0.58258,     0.58358,     0.58458,     0.58559,     0.58659,     0.58759,     0.58859,     0.58959,     0.59059,     0.59159,     0.59259,     0.59359,     0.59459,      0.5956,      0.5966,      0.5976,      0.5986,      0.5996,\n",
       "            0.6006,      0.6016,      0.6026,      0.6036,      0.6046,     0.60561,     0.60661,     0.60761,     0.60861,     0.60961,     0.61061,     0.61161,     0.61261,     0.61361,     0.61461,     0.61562,     0.61662,     0.61762,     0.61862,     0.61962,     0.62062,     0.62162,     0.62262,     0.62362,\n",
       "           0.62462,     0.62563,     0.62663,     0.62763,     0.62863,     0.62963,     0.63063,     0.63163,     0.63263,     0.63363,     0.63463,     0.63564,     0.63664,     0.63764,     0.63864,     0.63964,     0.64064,     0.64164,     0.64264,     0.64364,     0.64464,     0.64565,     0.64665,     0.64765,\n",
       "           0.64865,     0.64965,     0.65065,     0.65165,     0.65265,     0.65365,     0.65465,     0.65566,     0.65666,     0.65766,     0.65866,     0.65966,     0.66066,     0.66166,     0.66266,     0.66366,     0.66466,     0.66567,     0.66667,     0.66767,     0.66867,     0.66967,     0.67067,     0.67167,\n",
       "           0.67267,     0.67367,     0.67467,     0.67568,     0.67668,     0.67768,     0.67868,     0.67968,     0.68068,     0.68168,     0.68268,     0.68368,     0.68468,     0.68569,     0.68669,     0.68769,     0.68869,     0.68969,     0.69069,     0.69169,     0.69269,     0.69369,     0.69469,      0.6957,\n",
       "            0.6967,      0.6977,      0.6987,      0.6997,      0.7007,      0.7017,      0.7027,      0.7037,      0.7047,     0.70571,     0.70671,     0.70771,     0.70871,     0.70971,     0.71071,     0.71171,     0.71271,     0.71371,     0.71471,     0.71572,     0.71672,     0.71772,     0.71872,     0.71972,\n",
       "           0.72072,     0.72172,     0.72272,     0.72372,     0.72472,     0.72573,     0.72673,     0.72773,     0.72873,     0.72973,     0.73073,     0.73173,     0.73273,     0.73373,     0.73473,     0.73574,     0.73674,     0.73774,     0.73874,     0.73974,     0.74074,     0.74174,     0.74274,     0.74374,\n",
       "           0.74474,     0.74575,     0.74675,     0.74775,     0.74875,     0.74975,     0.75075,     0.75175,     0.75275,     0.75375,     0.75475,     0.75576,     0.75676,     0.75776,     0.75876,     0.75976,     0.76076,     0.76176,     0.76276,     0.76376,     0.76476,     0.76577,     0.76677,     0.76777,\n",
       "           0.76877,     0.76977,     0.77077,     0.77177,     0.77277,     0.77377,     0.77477,     0.77578,     0.77678,     0.77778,     0.77878,     0.77978,     0.78078,     0.78178,     0.78278,     0.78378,     0.78478,     0.78579,     0.78679,     0.78779,     0.78879,     0.78979,     0.79079,     0.79179,\n",
       "           0.79279,     0.79379,     0.79479,      0.7958,      0.7968,      0.7978,      0.7988,      0.7998,      0.8008,      0.8018,      0.8028,      0.8038,      0.8048,     0.80581,     0.80681,     0.80781,     0.80881,     0.80981,     0.81081,     0.81181,     0.81281,     0.81381,     0.81481,     0.81582,\n",
       "           0.81682,     0.81782,     0.81882,     0.81982,     0.82082,     0.82182,     0.82282,     0.82382,     0.82482,     0.82583,     0.82683,     0.82783,     0.82883,     0.82983,     0.83083,     0.83183,     0.83283,     0.83383,     0.83483,     0.83584,     0.83684,     0.83784,     0.83884,     0.83984,\n",
       "           0.84084,     0.84184,     0.84284,     0.84384,     0.84484,     0.84585,     0.84685,     0.84785,     0.84885,     0.84985,     0.85085,     0.85185,     0.85285,     0.85385,     0.85485,     0.85586,     0.85686,     0.85786,     0.85886,     0.85986,     0.86086,     0.86186,     0.86286,     0.86386,\n",
       "           0.86486,     0.86587,     0.86687,     0.86787,     0.86887,     0.86987,     0.87087,     0.87187,     0.87287,     0.87387,     0.87487,     0.87588,     0.87688,     0.87788,     0.87888,     0.87988,     0.88088,     0.88188,     0.88288,     0.88388,     0.88488,     0.88589,     0.88689,     0.88789,\n",
       "           0.88889,     0.88989,     0.89089,     0.89189,     0.89289,     0.89389,     0.89489,      0.8959,      0.8969,      0.8979,      0.8989,      0.8999,      0.9009,      0.9019,      0.9029,      0.9039,      0.9049,     0.90591,     0.90691,     0.90791,     0.90891,     0.90991,     0.91091,     0.91191,\n",
       "           0.91291,     0.91391,     0.91491,     0.91592,     0.91692,     0.91792,     0.91892,     0.91992,     0.92092,     0.92192,     0.92292,     0.92392,     0.92492,     0.92593,     0.92693,     0.92793,     0.92893,     0.92993,     0.93093,     0.93193,     0.93293,     0.93393,     0.93493,     0.93594,\n",
       "           0.93694,     0.93794,     0.93894,     0.93994,     0.94094,     0.94194,     0.94294,     0.94394,     0.94494,     0.94595,     0.94695,     0.94795,     0.94895,     0.94995,     0.95095,     0.95195,     0.95295,     0.95395,     0.95495,     0.95596,     0.95696,     0.95796,     0.95896,     0.95996,\n",
       "           0.96096,     0.96196,     0.96296,     0.96396,     0.96496,     0.96597,     0.96697,     0.96797,     0.96897,     0.96997,     0.97097,     0.97197,     0.97297,     0.97397,     0.97497,     0.97598,     0.97698,     0.97798,     0.97898,     0.97998,     0.98098,     0.98198,     0.98298,     0.98398,\n",
       "           0.98498,     0.98599,     0.98699,     0.98799,     0.98899,     0.98999,     0.99099,     0.99199,     0.99299,     0.99399,     0.99499,       0.996,       0.997,       0.998,       0.999,           1]), array([[    0.28571,     0.28571,     0.28571,     0.28571,     0.28571,     0.28571,     0.28571,     0.28571,     0.28571,     0.28571,     0.28571,     0.28571,     0.28571,     0.28571,     0.28571,     0.28571,     0.28571,     0.28571,     0.28571,     0.28571,     0.28571,     0.28571,     0.28571,\n",
       "            0.28571,     0.28571,     0.28571,     0.28571,     0.28571,     0.28571,     0.28571,     0.28571,     0.28571,     0.28571,     0.28571,     0.28571,     0.28571,     0.28571,     0.28571,     0.28571,     0.28571,     0.28571,     0.28571,     0.28571,     0.28571,     0.28571,     0.28571,\n",
       "            0.28571,     0.28571,     0.28571,     0.28571,     0.28571,     0.28571,     0.28571,     0.28571,     0.28571,     0.28571,     0.28571,     0.28571,     0.28571,     0.28571,     0.28571,     0.28571,     0.28571,     0.28571,     0.28571,     0.28571,     0.28571,     0.28571,     0.28571,\n",
       "            0.28571,     0.28571,     0.28571,     0.28571,     0.28571,     0.28571,     0.28571,     0.28571,     0.28571,     0.28571,     0.28571,     0.28571,     0.28571,     0.28571,     0.28571,     0.28571,     0.28571,     0.28571,     0.28571,     0.28571,     0.28571,     0.28571,     0.28571,\n",
       "            0.28571,     0.28571,     0.28571,     0.28571,     0.28571,     0.28571,     0.28571,     0.28571,     0.28571,     0.28571,     0.28571,     0.28571,     0.28571,     0.28571,     0.28571,     0.28571,     0.28571,     0.28571,     0.28571,     0.28571,     0.28571,     0.28571,     0.28571,\n",
       "            0.28571,     0.28571,     0.28571,     0.28571,     0.28571,     0.28571,     0.28571,     0.28571,     0.28571,     0.28571,     0.28571,     0.28571,     0.28571,     0.28571,     0.28571,     0.28571,     0.28571,     0.28571,     0.28571,     0.28571,     0.28571,     0.28571,     0.28571,\n",
       "            0.28571,     0.28571,     0.28571,     0.28571,     0.28571,     0.28571,     0.28571,     0.28571,     0.28571,     0.28571,     0.28571,     0.28571,     0.28571,     0.28571,     0.28571,     0.28571,     0.28571,     0.28571,     0.28571,     0.28571,     0.28571,     0.28571,     0.28571,\n",
       "            0.28571,     0.28571,     0.28571,     0.28571,     0.28571,     0.28571,     0.28571,     0.28571,     0.28571,     0.28571,     0.28571,     0.28571,     0.28571,     0.28571,     0.28571,     0.28571,     0.28571,     0.28571,     0.28571,     0.28571,     0.28571,     0.28571,     0.28571,\n",
       "            0.28571,     0.28571,     0.28571,     0.28571,     0.28571,     0.28571,     0.28571,     0.28571,     0.28571,     0.28571,     0.28571,     0.28571,     0.28571,     0.28571,     0.28571,     0.28571,     0.28571,     0.28571,     0.28571,     0.28571,     0.28571,     0.28571,     0.28571,\n",
       "            0.28571,     0.28571,     0.28571,     0.28571,     0.28571,     0.28571,     0.28571,     0.28571,     0.28571,     0.28571,     0.28571,     0.28571,     0.28571,     0.28571,     0.28571,     0.28571,     0.28571,     0.28571,     0.28571,     0.28571,     0.28571,     0.28571,     0.28571,\n",
       "            0.28571,     0.28571,     0.28571,     0.28571,     0.28571,     0.28571,     0.28571,     0.28571,     0.28571,     0.28571,     0.28571,     0.28571,     0.28571,     0.28571,     0.28571,     0.28571,     0.28571,     0.28571,     0.28571,     0.28571,     0.28571,     0.28571,     0.28571,\n",
       "            0.28571,     0.28571,     0.28571,     0.28571,     0.28571,     0.28571,     0.28571,     0.28571,     0.28571,     0.28571,     0.28571,     0.28571,     0.28571,     0.28571,     0.28571,     0.28571,     0.28571,     0.28571,     0.28571,     0.28571,     0.28571,     0.28571,     0.28571,\n",
       "            0.28571,     0.28571,     0.28571,     0.28571,     0.28571,     0.28571,     0.28571,     0.28571,     0.28571,     0.28571,     0.28571,     0.28571,     0.28571,     0.28571,     0.28571,     0.28571,     0.28571,     0.28571,     0.28571,     0.28571,     0.28571,     0.28571,     0.28571,\n",
       "            0.28571,     0.28571,     0.28571,     0.28571,     0.28571,     0.28571,     0.28571,     0.28571,     0.28571,     0.28571,     0.28571,     0.28571,     0.28571,     0.28571,     0.28571,     0.28571,     0.28571,     0.28571,     0.28571,     0.28571,     0.28571,     0.28571,     0.28571,\n",
       "            0.28571,     0.28571,     0.28571,     0.28571,     0.28571,     0.28571,     0.28571,     0.28571,     0.28571,     0.28571,     0.28571,     0.28571,     0.28571,     0.28571,     0.28571,     0.28571,     0.28571,     0.28571,     0.28571,     0.28571,     0.28571,     0.28571,     0.28571,\n",
       "            0.28571,     0.28571,     0.28571,     0.28571,     0.28571,     0.28571,     0.28571,     0.28571,     0.28571,     0.28571,     0.28571,     0.28571,     0.28571,     0.28571,     0.28571,     0.28571,     0.28571,     0.28571,     0.28571,     0.28571,     0.28571,     0.28571,     0.28571,\n",
       "            0.28571,     0.28571,     0.28571,     0.28571,     0.28571,     0.28571,     0.28571,     0.28571,     0.28571,     0.28571,     0.28571,     0.28571,     0.28571,     0.28571,     0.28571,     0.28571,     0.28571,     0.28571,     0.28571,     0.28571,     0.28571,     0.28571,     0.28571,\n",
       "            0.28571,     0.28571,     0.28571,     0.28571,     0.28571,     0.28571,     0.28571,     0.28571,     0.28571,     0.28571,     0.28571,     0.28571,     0.28571,     0.28571,     0.28571,     0.28571,     0.28571,     0.28571,     0.28571,     0.28571,     0.28571,     0.28571,     0.28571,\n",
       "            0.28571,     0.28571,     0.28571,     0.28571,     0.28571,     0.28571,     0.28571,     0.28571,     0.28571,     0.28571,     0.28571,     0.28571,     0.28571,     0.28571,     0.28571,     0.28571,     0.28571,     0.28571,     0.28571,     0.28571,     0.28571,     0.28571,     0.28571,\n",
       "            0.28571,     0.28571,     0.28571,     0.28571,     0.28571,     0.28571,     0.28571,     0.28571,     0.28571,     0.28571,     0.28571,     0.28571,     0.28571,     0.28571,     0.28571,     0.28571,     0.28571,     0.28571,     0.28571,     0.28571,     0.28571,     0.28571,     0.28571,\n",
       "            0.28571,     0.28571,     0.28571,     0.28571,     0.28571,     0.28571,     0.28571,     0.28571,     0.28571,     0.28571,     0.28571,     0.28571,     0.28571,     0.28571,     0.28571,     0.28571,     0.28571,     0.28571,     0.28571,     0.28571,     0.28571,     0.28571,     0.28571,\n",
       "            0.28571,     0.28571,     0.28571,     0.28571,     0.28571,     0.28571,     0.28571,     0.28571,     0.28571,     0.28571,     0.28571,     0.28571,     0.28571,     0.28571,     0.28571,     0.28571,     0.28571,     0.28571,     0.28571,     0.28571,     0.28571,     0.28571,     0.28571,\n",
       "            0.28571,     0.28571,     0.28571,     0.28571,     0.28571,     0.28571,     0.28571,     0.28571,     0.28571,     0.28571,     0.28571,     0.28571,     0.28571,     0.28571,     0.28571,     0.28571,     0.28571,     0.28571,     0.28571,     0.28571,     0.28571,     0.28571,     0.28571,\n",
       "            0.28571,     0.28571,     0.28571,     0.28571,     0.28571,     0.28571,     0.28571,     0.28571,     0.28571,     0.28571,     0.28571,     0.28571,     0.28571,     0.28571,     0.28571,     0.28571,     0.28571,     0.28571,     0.28571,     0.28571,     0.28571,     0.28571,     0.28571,\n",
       "            0.28571,     0.28571,     0.28571,     0.28571,     0.28571,     0.28571,     0.28571,     0.28571,     0.28571,     0.28571,     0.28571,     0.28571,     0.28571,     0.28571,     0.28571,     0.28571,     0.28571,     0.28571,     0.28571,     0.28571,     0.28571,     0.28571,     0.28571,\n",
       "            0.28571,     0.28571,     0.28571,     0.28571,     0.28571,     0.28571,     0.28571,     0.28571,     0.28571,     0.28571,     0.28571,     0.28571,     0.28571,     0.28571,     0.28571,     0.28571,     0.28571,     0.28571,     0.28571,     0.28571,     0.28571,     0.28571,     0.28571,\n",
       "            0.28571,     0.28571,     0.28571,     0.28571,     0.28571,     0.28571,     0.28571,     0.28571,     0.28571,     0.28571,     0.28571,     0.28571,     0.28571,     0.28571,     0.28571,     0.28571,     0.28571,     0.28571,     0.28571,     0.28571,     0.28571,     0.28571,     0.28571,\n",
       "            0.28571,     0.28571,     0.28571,     0.28571,     0.28571,     0.28571,     0.28571,     0.28571,     0.28571,     0.28571,     0.28571,     0.28571,     0.28571,     0.28571,     0.28571,     0.28571,     0.28571,     0.28571,     0.28571,     0.28571,     0.28571,     0.28571,     0.28571,\n",
       "            0.28571,     0.28571,     0.28571,     0.28571,     0.28571,     0.28571,     0.28571,     0.28571,     0.28571,     0.28571,     0.28571,     0.28571,     0.28571,     0.28571,     0.28571,     0.28571,     0.28571,     0.28571,     0.28571,     0.28571,     0.28571,     0.28571,     0.28571,\n",
       "            0.28571,     0.28571,     0.28571,     0.28571,     0.28571,     0.28571,     0.28571,     0.28571,     0.28571,     0.28571,     0.28571,     0.28571,     0.28571,     0.28571,     0.28571,     0.28571,     0.28571,     0.28571,     0.28571,     0.28571,     0.28571,     0.28571,     0.28571,\n",
       "            0.28571,     0.28571,     0.28571,     0.28571,     0.28571,     0.28571,     0.28571,     0.28571,     0.28571,     0.28571,     0.28571,     0.28571,     0.28571,     0.28571,     0.28571,     0.28571,     0.28571,     0.28571,     0.28571,     0.28571,     0.28571,     0.28571,     0.28571,\n",
       "            0.28571,     0.28571,     0.28571,     0.28571,     0.28571,     0.28571,     0.28571,     0.28571,     0.28571,     0.28571,     0.28571,     0.28571,     0.28571,     0.28571,     0.28571,     0.28571,     0.28571,     0.28571,     0.28571,     0.28571,     0.28571,     0.28571,     0.28571,\n",
       "            0.28571,     0.28571,     0.28571,     0.28571,     0.28571,     0.28571,     0.28571,     0.28571,     0.28571,     0.28571,     0.28571,     0.28571,     0.28571,     0.28571,     0.28571,     0.28571,     0.28571,     0.28571,     0.28571,     0.28571,     0.28571,     0.28571,     0.28571,\n",
       "            0.28571,     0.28571,     0.28571,     0.28571,     0.28571,     0.28571,     0.28571,     0.28571,     0.28571,     0.28571,     0.28571,     0.28571,     0.28571,     0.28571,     0.28571,     0.28571,     0.28571,     0.28571,     0.28571,     0.28571,     0.28571,     0.28571,     0.28571,\n",
       "            0.28571,     0.28571,     0.28571,     0.28571,     0.28571,     0.28571,     0.28571,     0.28571,     0.28571,     0.28571,     0.28571,     0.28571,     0.28571,     0.28571,     0.28571,     0.28571,     0.28571,     0.28571,     0.28571,     0.28571,     0.28571,     0.28571,     0.28571,\n",
       "            0.28571,     0.28571,     0.28571,     0.28571,     0.28571,     0.28571,     0.28571,     0.28571,     0.28571,     0.28571,     0.28571,     0.28571,     0.28571,     0.28571,     0.28571,     0.28571,     0.28571,     0.28571,     0.28571,     0.28571,     0.28571,     0.28571,     0.28571,\n",
       "            0.28571,     0.28571,     0.28571,     0.28571,     0.28571,     0.28571,     0.28571,     0.28571,     0.28571,     0.28571,     0.28571,     0.28571,     0.28571,     0.28571,     0.28571,     0.28571,     0.28571,     0.28571,     0.28571,     0.28571,     0.28571,     0.28571,     0.28571,\n",
       "            0.28571,     0.28571,     0.28571,     0.28571,     0.28571,     0.28571,     0.28571,     0.28571,     0.28571,     0.28571,     0.28571,     0.28571,     0.28571,     0.28571,     0.28571,     0.28571,     0.28571,     0.28571,     0.28571,     0.28571,     0.28571,     0.28571,     0.28571,\n",
       "            0.28571,     0.28571,     0.28571,     0.28571,     0.28571,     0.28571,     0.28571,     0.28571,     0.28571,     0.28571,     0.28571,     0.28571,     0.28571,     0.28571,     0.28571,     0.28571,     0.28571,     0.28571,     0.28571,     0.28571,     0.28571,     0.28571,     0.28571,\n",
       "            0.28571,     0.28571,     0.28571,     0.28571,     0.28571,     0.28571,     0.28571,     0.28229,     0.27666,     0.27103,      0.2654,     0.25977,     0.25413,        0.25,        0.25,        0.25,        0.25,        0.25,        0.25,        0.25,        0.25,        0.25,        0.25,\n",
       "               0.25,        0.25,        0.25,        0.25,        0.25,        0.25,        0.25,        0.25,        0.25,        0.25,        0.25,        0.25,        0.25,        0.25,        0.25,        0.25,        0.25,        0.25,        0.25,        0.25,        0.25,        0.25,        0.25,\n",
       "               0.25,        0.25,        0.25,        0.25,        0.25,        0.25,        0.25,     0.24957,     0.24794,     0.24631,     0.24468,     0.24306,     0.24143,      0.2398,     0.23818,     0.23655,     0.23492,      0.2333,     0.23167,     0.23004,     0.22841,     0.22679,     0.22516,\n",
       "            0.22353,     0.22191,     0.22028,     0.21865,     0.21702,      0.2154,     0.20656,     0.18216,     0.14734,     0.11074,     0.10714,     0.10714,     0.10526,     0.10119,    0.097125,    0.093057,     0.08899,    0.084922,    0.080855,    0.076787,     0.07272,    0.071429,    0.071429,\n",
       "           0.071429,    0.066522,    0.048218,    0.012513,           0,           0,           0,           0,           0,           0,           0]]), 'Confidence', 'Recall']]\n",
       "fitness: np.float64(0.7435654758857788)\n",
       "keys: ['metrics/precision(B)', 'metrics/recall(B)', 'metrics/mAP50(B)', 'metrics/mAP50-95(B)', 'metrics/precision(P)', 'metrics/recall(P)', 'metrics/mAP50(P)', 'metrics/mAP50-95(P)']\n",
       "maps: array([    0.70911,     0.70911])\n",
       "names: {0: 'standing person', 1: 'fall person'}\n",
       "plot: True\n",
       "pose: ultralytics.utils.metrics.Metric object\n",
       "results_dict: {'metrics/precision(B)': np.float64(0.9615258860896445), 'metrics/recall(B)': np.float64(0.8925652127953183), 'metrics/mAP50(B)': np.float64(0.9203968600938338), 'metrics/mAP50-95(B)': np.float64(0.6690822061676671), 'metrics/precision(P)': np.float64(0.40948047374640173), 'metrics/recall(P)': np.float64(0.2857142857142857), 'metrics/mAP50(P)': np.float64(0.1332575748676189), 'metrics/mAP50-95(P)': np.float64(0.04002894093192568), 'fitness': np.float64(0.7435654758857788)}\n",
       "save_dir: WindowsPath('dataset/runs/train/pose/train')\n",
       "seg: ultralytics.utils.metrics.Metric object\n",
       "speed: {'preprocess': 0.22223703719511695, 'inference': 2.2111777779409074, 'loss': 0.0002555556151222576, 'postprocess': 1.924674074096536}\n",
       "task: 'pose'"
      ]
     },
     "execution_count": 15,
     "metadata": {},
     "output_type": "execute_result"
    }
   ],
   "source": [
    "model.train(data=r\".\\dataset\\data.yaml\", epochs=20, imgsz=640, device='cuda')"
   ]
  },
  {
   "cell_type": "code",
   "execution_count": 2,
   "id": "3003ad85",
   "metadata": {},
   "outputs": [],
   "source": [
    "from ultralytics import YOLO"
   ]
  },
  {
   "cell_type": "code",
   "execution_count": 3,
   "id": "b18839e0",
   "metadata": {},
   "outputs": [],
   "source": [
    "model = YOLO(r'.\\dataset\\runs\\train\\pose\\train\\weights\\best.pt')"
   ]
  },
  {
   "cell_type": "code",
   "execution_count": null,
   "id": "ecf8e2cd",
   "metadata": {},
   "outputs": [
    {
     "name": "stdout",
     "output_type": "stream",
     "text": [
      "\n",
      "image 1/1 C:\\Users\\User\\Downloads\\people_test.jpg: 416x640 4 standing persons, 107.3ms\n",
      "Speed: 1.8ms preprocess, 107.3ms inference, 89.7ms postprocess per image at shape (1, 3, 416, 640)\n"
     ]
    },
    {
     "data": {
      "text/plain": [
       "[ultralytics.engine.results.Results object with attributes:\n",
       " \n",
       " boxes: ultralytics.engine.results.Boxes object\n",
       " keypoints: ultralytics.engine.results.Keypoints object\n",
       " masks: None\n",
       " names: {0: 'standing person', 1: 'fall person'}\n",
       " obb: None\n",
       " orig_img: array([[[142, 142, 142],\n",
       "         [179, 179, 179],\n",
       "         [127, 127, 127],\n",
       "         ...,\n",
       "         [ 67,  72,  71],\n",
       "         [ 70,  75,  74],\n",
       "         [ 70,  75,  74]],\n",
       " \n",
       "        [[153, 153, 153],\n",
       "         [177, 177, 177],\n",
       "         [124, 124, 124],\n",
       "         ...,\n",
       "         [ 74,  79,  78],\n",
       "         [ 82,  87,  86],\n",
       "         [ 87,  92,  91]],\n",
       " \n",
       "        [[194, 194, 194],\n",
       "         [173, 173, 173],\n",
       "         [158, 158, 158],\n",
       "         ...,\n",
       "         [ 98, 103, 102],\n",
       "         [ 91,  96,  95],\n",
       "         [ 83,  88,  87]],\n",
       " \n",
       "        ...,\n",
       " \n",
       "        [[146, 146, 146],\n",
       "         [146, 146, 146],\n",
       "         [146, 146, 146],\n",
       "         ...,\n",
       "         [141, 135, 136],\n",
       "         [141, 135, 136],\n",
       "         [140, 134, 135]],\n",
       " \n",
       "        [[138, 138, 138],\n",
       "         [139, 139, 139],\n",
       "         [139, 139, 139],\n",
       "         ...,\n",
       "         [138, 132, 133],\n",
       "         [138, 132, 133],\n",
       "         [138, 132, 133]],\n",
       " \n",
       "        [[143, 143, 143],\n",
       "         [143, 143, 143],\n",
       "         [144, 144, 144],\n",
       "         ...,\n",
       "         [135, 129, 130],\n",
       "         [135, 129, 130],\n",
       "         [134, 128, 129]]], dtype=uint8)\n",
       " orig_shape: (176, 286)\n",
       " path: 'C:\\\\Users\\\\User\\\\Downloads\\\\people_test.jpg'\n",
       " probs: None\n",
       " save_dir: 'C:\\\\Users\\\\User\\\\Desktop\\\\YOLO_model_training\\\\runs\\\\train\\\\pose\\\\predict'\n",
       " speed: {'preprocess': 1.789699999790173, 'inference': 107.3333999956958, 'postprocess': 89.67049999773735}]"
      ]
     },
     "execution_count": 4,
     "metadata": {},
     "output_type": "execute_result"
    },
    {
     "ename": "",
     "evalue": "",
     "output_type": "error",
     "traceback": [
      "\u001b[1;31mПри выполнении кода в текущей ячейке или предыдущей ячейке ядро аварийно завершило работу. \n",
      "\u001b[1;31mПроверьте код в ячейках, чтобы определить возможную причину сбоя. \n",
      "\u001b[1;31mЩелкните <a href='https://aka.ms/vscodeJupyterKernelCrash'>здесь</a>, чтобы получить дополнительные сведения. \n",
      "\u001b[1;31mПодробнее см. в <a href='command:jupyter.viewOutput'>журнале Jupyter</a>."
     ]
    }
   ],
   "source": [
    "model.predict(source=r\"C:\\Users\\User\\Downloads\\people_test.jpg\",\n",
    "              show=True, conf=0.5, device='cuda')"
   ]
  },
  {
   "cell_type": "markdown",
   "id": "96d9365e",
   "metadata": {},
   "source": [
    "### Обучение модели YOLO-11m-pose"
   ]
  },
  {
   "cell_type": "code",
   "execution_count": 1,
   "id": "3e2394b2",
   "metadata": {},
   "outputs": [],
   "source": [
    "from ultralytics import YOLO"
   ]
  },
  {
   "cell_type": "code",
   "execution_count": 2,
   "id": "36ff1800",
   "metadata": {},
   "outputs": [
    {
     "name": "stdout",
     "output_type": "stream",
     "text": [
      "Downloading https://github.com/ultralytics/assets/releases/download/v8.3.0/yolo11m-pose.pt to 'yolo11m-pose.pt'...\n"
     ]
    },
    {
     "name": "stderr",
     "output_type": "stream",
     "text": [
      "100%|██████████| 40.5M/40.5M [00:04<00:00, 8.95MB/s]\n"
     ]
    }
   ],
   "source": [
    "model = YOLO(r'yolo11m-pose.pt')"
   ]
  },
  {
   "cell_type": "code",
   "execution_count": 3,
   "id": "e973cc7f",
   "metadata": {},
   "outputs": [
    {
     "name": "stderr",
     "output_type": "stream",
     "text": [
      "\u001b[34m\u001b[1mwandb\u001b[0m: Using wandb-core as the SDK backend.  Please refer to https://wandb.me/wandb-core for more information.\n",
      "\u001b[34m\u001b[1mwandb\u001b[0m: Currently logged in as: \u001b[33mlalka00pq\u001b[0m (\u001b[33mlalka00pq-\u001b[0m) to \u001b[32mhttps://api.wandb.ai\u001b[0m. Use \u001b[1m`wandb login --relogin`\u001b[0m to force relogin\n"
     ]
    },
    {
     "data": {
      "text/plain": [
       "True"
      ]
     },
     "execution_count": 3,
     "metadata": {},
     "output_type": "execute_result"
    }
   ],
   "source": [
    "import wandb\n",
    "wandb.login()"
   ]
  },
  {
   "cell_type": "code",
   "execution_count": 5,
   "id": "3bc3a884",
   "metadata": {},
   "outputs": [
    {
     "name": "stdout",
     "output_type": "stream",
     "text": [
      "2.6.0+cu124\n"
     ]
    }
   ],
   "source": [
    "import torch\n",
    "print(torch.__version__)"
   ]
  },
  {
   "cell_type": "code",
   "execution_count": 6,
   "id": "24696be2",
   "metadata": {},
   "outputs": [],
   "source": [
    "from ultralytics import settings"
   ]
  },
  {
   "cell_type": "code",
   "execution_count": 7,
   "id": "cdcbbdab",
   "metadata": {},
   "outputs": [],
   "source": [
    "settings.update({\n",
    "    'wandb': True \n",
    "})"
   ]
  },
  {
   "cell_type": "code",
   "execution_count": 8,
   "id": "4218af6a",
   "metadata": {},
   "outputs": [
    {
     "name": "stdout",
     "output_type": "stream",
     "text": [
      "New https://pypi.org/project/ultralytics/8.3.108 available  Update with 'pip install -U ultralytics'\n",
      "Ultralytics 8.3.107  Python-3.12.1 torch-2.6.0+cu124 CUDA:0 (NVIDIA GeForce RTX 3050 Laptop GPU, 4096MiB)\n",
      "\u001b[34m\u001b[1mengine\\trainer: \u001b[0mtask=pose, mode=train, model=yolo11m-pose.pt, data=.\\dataset\\data.yaml, epochs=50, time=None, patience=100, batch=16, imgsz=640, save=True, save_period=-1, cache=False, device=cuda, workers=8, project=None, name=train, exist_ok=False, pretrained=True, optimizer=auto, verbose=True, seed=0, deterministic=True, single_cls=False, rect=False, cos_lr=False, close_mosaic=10, resume=False, amp=True, fraction=1.0, profile=False, freeze=None, multi_scale=False, overlap_mask=True, mask_ratio=4, dropout=0.0, val=True, split=val, save_json=False, conf=None, iou=0.7, max_det=300, half=False, dnn=False, plots=True, source=None, vid_stride=1, stream_buffer=False, visualize=False, augment=False, agnostic_nms=False, classes=None, retina_masks=False, embed=None, show=False, save_frames=False, save_txt=False, save_conf=False, save_crop=False, show_labels=True, show_conf=True, show_boxes=True, line_width=None, format=torchscript, keras=False, optimize=False, int8=False, dynamic=False, simplify=True, opset=None, workspace=None, nms=False, lr0=0.01, lrf=0.01, momentum=0.937, weight_decay=0.0005, warmup_epochs=3.0, warmup_momentum=0.8, warmup_bias_lr=0.1, box=7.5, cls=0.5, dfl=1.5, pose=12.0, kobj=1.0, nbs=64, hsv_h=0.015, hsv_s=0.7, hsv_v=0.4, degrees=0.0, translate=0.1, scale=0.5, shear=0.0, perspective=0.0, flipud=0.0, fliplr=0.5, bgr=0.0, mosaic=1.0, mixup=0.0, copy_paste=0.0, copy_paste_mode=flip, auto_augment=randaugment, erasing=0.4, crop_fraction=1.0, cfg=None, tracker=botsort.yaml, save_dir=C:\\Users\\User\\Desktop\\YOLO_model_training\\runs\\train\\pose\\train\n",
      "Overriding model.yaml nc=80 with nc=2\n",
      "\n",
      "                   from  n    params  module                                       arguments                     \n",
      "  0                  -1  1      1856  ultralytics.nn.modules.conv.Conv             [3, 64, 3, 2]                 \n",
      "  1                  -1  1     73984  ultralytics.nn.modules.conv.Conv             [64, 128, 3, 2]               \n",
      "  2                  -1  1    111872  ultralytics.nn.modules.block.C3k2            [128, 256, 1, True, 0.25]     \n",
      "  3                  -1  1    590336  ultralytics.nn.modules.conv.Conv             [256, 256, 3, 2]              \n",
      "  4                  -1  1    444928  ultralytics.nn.modules.block.C3k2            [256, 512, 1, True, 0.25]     \n",
      "  5                  -1  1   2360320  ultralytics.nn.modules.conv.Conv             [512, 512, 3, 2]              \n",
      "  6                  -1  1   1380352  ultralytics.nn.modules.block.C3k2            [512, 512, 1, True]           \n",
      "  7                  -1  1   2360320  ultralytics.nn.modules.conv.Conv             [512, 512, 3, 2]              \n",
      "  8                  -1  1   1380352  ultralytics.nn.modules.block.C3k2            [512, 512, 1, True]           \n",
      "  9                  -1  1    656896  ultralytics.nn.modules.block.SPPF            [512, 512, 5]                 \n",
      " 10                  -1  1    990976  ultralytics.nn.modules.block.C2PSA           [512, 512, 1]                 \n",
      " 11                  -1  1         0  torch.nn.modules.upsampling.Upsample         [None, 2, 'nearest']          \n",
      " 12             [-1, 6]  1         0  ultralytics.nn.modules.conv.Concat           [1]                           \n",
      " 13                  -1  1   1642496  ultralytics.nn.modules.block.C3k2            [1024, 512, 1, True]          \n",
      " 14                  -1  1         0  torch.nn.modules.upsampling.Upsample         [None, 2, 'nearest']          \n",
      " 15             [-1, 4]  1         0  ultralytics.nn.modules.conv.Concat           [1]                           \n",
      " 16                  -1  1    542720  ultralytics.nn.modules.block.C3k2            [1024, 256, 1, True]          \n",
      " 17                  -1  1    590336  ultralytics.nn.modules.conv.Conv             [256, 256, 3, 2]              \n",
      " 18            [-1, 13]  1         0  ultralytics.nn.modules.conv.Concat           [1]                           \n",
      " 19                  -1  1   1511424  ultralytics.nn.modules.block.C3k2            [768, 512, 1, True]           \n",
      " 20                  -1  1   2360320  ultralytics.nn.modules.conv.Conv             [512, 512, 3, 2]              \n",
      " 21            [-1, 10]  1         0  ultralytics.nn.modules.conv.Concat           [1]                           \n",
      " 22                  -1  1   1642496  ultralytics.nn.modules.block.C3k2            [1024, 512, 1, True]          \n",
      " 23        [16, 19, 22]  1   2271151  ultralytics.nn.modules.head.Pose             [2, [17, 3], [256, 512, 512]] \n",
      "YOLO11m-pose summary: 246 layers, 20,913,135 parameters, 20,913,119 gradients, 71.9 GFLOPs\n",
      "\n",
      "Transferred 685/691 items from pretrained weights\n",
      "\u001b[34m\u001b[1mTensorBoard: \u001b[0mStart with 'tensorboard --logdir C:\\Users\\User\\Desktop\\YOLO_model_training\\runs\\train\\pose\\train', view at http://localhost:6006/\n"
     ]
    },
    {
     "data": {
      "text/html": [
       "Tracking run with wandb version 0.19.9"
      ],
      "text/plain": [
       "<IPython.core.display.HTML object>"
      ]
     },
     "metadata": {},
     "output_type": "display_data"
    },
    {
     "data": {
      "text/html": [
       "Run data is saved locally in <code>c:\\Users\\User\\Desktop\\Python_VS\\training_models_for_service\\src\\wandb\\run-20250414_213417-ymi3yrdr</code>"
      ],
      "text/plain": [
       "<IPython.core.display.HTML object>"
      ]
     },
     "metadata": {},
     "output_type": "display_data"
    },
    {
     "data": {
      "text/html": [
       "Syncing run <strong><a href='https://wandb.ai/lalka00pq-/Ultralytics/runs/ymi3yrdr' target=\"_blank\">train</a></strong> to <a href='https://wandb.ai/lalka00pq-/Ultralytics' target=\"_blank\">Weights & Biases</a> (<a href='https://wandb.me/developer-guide' target=\"_blank\">docs</a>)<br>"
      ],
      "text/plain": [
       "<IPython.core.display.HTML object>"
      ]
     },
     "metadata": {},
     "output_type": "display_data"
    },
    {
     "data": {
      "text/html": [
       " View project at <a href='https://wandb.ai/lalka00pq-/Ultralytics' target=\"_blank\">https://wandb.ai/lalka00pq-/Ultralytics</a>"
      ],
      "text/plain": [
       "<IPython.core.display.HTML object>"
      ]
     },
     "metadata": {},
     "output_type": "display_data"
    },
    {
     "data": {
      "text/html": [
       " View run at <a href='https://wandb.ai/lalka00pq-/Ultralytics/runs/ymi3yrdr' target=\"_blank\">https://wandb.ai/lalka00pq-/Ultralytics/runs/ymi3yrdr</a>"
      ],
      "text/plain": [
       "<IPython.core.display.HTML object>"
      ]
     },
     "metadata": {},
     "output_type": "display_data"
    },
    {
     "name": "stdout",
     "output_type": "stream",
     "text": [
      "Freezing layer 'model.23.dfl.conv.weight'\n",
      "\u001b[34m\u001b[1mAMP: \u001b[0mrunning Automatic Mixed Precision (AMP) checks...\n",
      "\u001b[34m\u001b[1mAMP: \u001b[0mchecks passed \n"
     ]
    },
    {
     "name": "stderr",
     "output_type": "stream",
     "text": [
      "\u001b[34m\u001b[1mtrain: \u001b[0mScanning C:\\Users\\User\\Desktop\\Python_VS\\training_models_for_service\\src\\dataset\\train... 121 images, 15 backgrounds, 5 corrupt: 100%|██████████| 136/136 [00:00<00:00, 542.07it/s]"
     ]
    },
    {
     "name": "stdout",
     "output_type": "stream",
     "text": [
      "\u001b[34m\u001b[1mtrain: \u001b[0mWARNING  C:\\Users\\User\\Desktop\\Python_VS\\training_models_for_service\\src\\dataset\\train\\frame_01_02.jpg: ignoring corrupt image/label: negative label values [-0.038917 -0.044097 -0.036889 -0.047639 -0.032028 -0.048319 -0.014986\n",
      " -0.054625 -0.049028 -0.021597 -0.008125 -0.008014]\n",
      "\u001b[34m\u001b[1mtrain: \u001b[0mWARNING  C:\\Users\\User\\Desktop\\Python_VS\\training_models_for_service\\src\\dataset\\train\\frame_01_06.jpg: ignoring corrupt image/label: non-normalized or out of bounds coordinates [1.011042 1.023903 1.037389]\n",
      "\u001b[34m\u001b[1mtrain: \u001b[0mWARNING  C:\\Users\\User\\Desktop\\Python_VS\\training_models_for_service\\src\\dataset\\train\\frame_07_02.jpg: ignoring corrupt image/label: negative label values [-0.003139 -0.008431 -0.015028 -0.029556 -0.028236 -0.0005  ]\n",
      "\u001b[34m\u001b[1mtrain: \u001b[0mWARNING  C:\\Users\\User\\Desktop\\Python_VS\\training_models_for_service\\src\\dataset\\train\\frame_07_03.jpg: ignoring corrupt image/label: non-normalized or out of bounds coordinates [1.069583]\n",
      "\u001b[34m\u001b[1mtrain: \u001b[0mWARNING  C:\\Users\\User\\Desktop\\Python_VS\\training_models_for_service\\src\\dataset\\train\\frame_07_06.jpg: ignoring corrupt image/label: non-normalized or out of bounds coordinates [1.003875 1.027292]\n"
     ]
    },
    {
     "name": "stderr",
     "output_type": "stream",
     "text": [
      "\n"
     ]
    },
    {
     "name": "stdout",
     "output_type": "stream",
     "text": [
      "\u001b[34m\u001b[1mtrain: \u001b[0mNew cache created: C:\\Users\\User\\Desktop\\Python_VS\\training_models_for_service\\src\\dataset\\train.cache\n",
      "WARNING  No 'flip_idx' array defined in data.yaml, setting augmentation 'fliplr=0.0'\n"
     ]
    },
    {
     "name": "stderr",
     "output_type": "stream",
     "text": [
      "\u001b[34m\u001b[1mval: \u001b[0mScanning C:\\Users\\User\\Desktop\\Python_VS\\training_models_for_service\\src\\dataset\\test.cache... 28 images, 0 backgrounds, 1 corrupt: 100%|██████████| 28/28 [00:00<?, ?it/s]"
     ]
    },
    {
     "name": "stdout",
     "output_type": "stream",
     "text": [
      "\u001b[34m\u001b[1mval: \u001b[0mWARNING  C:\\Users\\User\\Desktop\\Python_VS\\training_models_for_service\\src\\dataset\\test\\frame_01_08.jpg: ignoring corrupt image/label: negative label values [-0.001625 -0.008333 -0.006562 -0.005083 -0.000792]\n"
     ]
    },
    {
     "name": "stderr",
     "output_type": "stream",
     "text": [
      "\n"
     ]
    },
    {
     "name": "stdout",
     "output_type": "stream",
     "text": [
      "Plotting labels to C:\\Users\\User\\Desktop\\YOLO_model_training\\runs\\train\\pose\\train\\labels.jpg... \n",
      "\u001b[34m\u001b[1moptimizer:\u001b[0m 'optimizer=auto' found, ignoring 'lr0=0.01' and 'momentum=0.937' and determining best 'optimizer', 'lr0' and 'momentum' automatically... \n",
      "\u001b[34m\u001b[1moptimizer:\u001b[0m AdamW(lr=0.001667, momentum=0.9) with parameter groups 112 weight(decay=0.0), 122 weight(decay=0.0005), 121 bias(decay=0.0)\n",
      "\u001b[34m\u001b[1mTensorBoard: \u001b[0mmodel graph visualization added \n",
      "Image sizes 640 train, 640 val\n",
      "Using 8 dataloader workers\n",
      "Logging results to \u001b[1mC:\\Users\\User\\Desktop\\YOLO_model_training\\runs\\train\\pose\\train\u001b[0m\n",
      "Starting training for 50 epochs...\n",
      "\n",
      "      Epoch    GPU_mem   box_loss  pose_loss  kobj_loss   cls_loss   dfl_loss  Instances       Size\n"
     ]
    },
    {
     "name": "stderr",
     "output_type": "stream",
     "text": [
      "       1/50      8.14G       2.18      5.989     0.5794      4.338      2.032          4        640: 100%|██████████| 9/9 [01:29<00:00,  9.97s/it]\n",
      "                 Class     Images  Instances      Box(P          R      mAP50  mAP50-95)     Pose(P          R      mAP50  mAP50-95): 100%|██████████| 1/1 [00:03<00:00,  3.29s/it]"
     ]
    },
    {
     "name": "stdout",
     "output_type": "stream",
     "text": [
      "                   all         27         28    0.00543      0.857      0.261      0.159    0.00113      0.179     0.0388     0.0074\n"
     ]
    },
    {
     "name": "stderr",
     "output_type": "stream",
     "text": [
      "\n"
     ]
    },
    {
     "name": "stdout",
     "output_type": "stream",
     "text": [
      "\n",
      "      Epoch    GPU_mem   box_loss  pose_loss  kobj_loss   cls_loss   dfl_loss  Instances       Size\n"
     ]
    },
    {
     "name": "stderr",
     "output_type": "stream",
     "text": [
      "       2/50      8.11G      1.288      6.096     0.2689      2.718      1.165         11        640: 100%|██████████| 9/9 [01:27<00:00,  9.72s/it]\n",
      "                 Class     Images  Instances      Box(P          R      mAP50  mAP50-95)     Pose(P          R      mAP50  mAP50-95): 100%|██████████| 1/1 [00:03<00:00,  3.96s/it]"
     ]
    },
    {
     "name": "stdout",
     "output_type": "stream",
     "text": [
      "                   all         27         28      0.784      0.821      0.888      0.575      0.189       0.25     0.0844     0.0179\n"
     ]
    },
    {
     "name": "stderr",
     "output_type": "stream",
     "text": [
      "\n"
     ]
    },
    {
     "name": "stdout",
     "output_type": "stream",
     "text": [
      "\n",
      "      Epoch    GPU_mem   box_loss  pose_loss  kobj_loss   cls_loss   dfl_loss  Instances       Size\n"
     ]
    },
    {
     "name": "stderr",
     "output_type": "stream",
     "text": [
      "       3/50      8.18G      1.194      5.717     0.2249      1.775      1.173          4        640: 100%|██████████| 9/9 [01:14<00:00,  8.31s/it]\n",
      "                 Class     Images  Instances      Box(P          R      mAP50  mAP50-95)     Pose(P          R      mAP50  mAP50-95): 100%|██████████| 1/1 [00:03<00:00,  3.83s/it]"
     ]
    },
    {
     "name": "stdout",
     "output_type": "stream",
     "text": [
      "                   all         27         28        0.2     0.0714     0.0995     0.0549        0.1     0.0357     0.0319    0.00648\n"
     ]
    },
    {
     "name": "stderr",
     "output_type": "stream",
     "text": [
      "\n"
     ]
    },
    {
     "name": "stdout",
     "output_type": "stream",
     "text": [
      "\n",
      "      Epoch    GPU_mem   box_loss  pose_loss  kobj_loss   cls_loss   dfl_loss  Instances       Size\n"
     ]
    },
    {
     "name": "stderr",
     "output_type": "stream",
     "text": [
      "       4/50       8.1G      1.211      5.444     0.2535      1.701      1.207          5        640: 100%|██████████| 9/9 [01:19<00:00,  8.87s/it]\n",
      "                 Class     Images  Instances      Box(P          R      mAP50  mAP50-95)     Pose(P          R      mAP50  mAP50-95): 100%|██████████| 1/1 [00:03<00:00,  3.88s/it]"
     ]
    },
    {
     "name": "stdout",
     "output_type": "stream",
     "text": [
      "                   all         27         28      0.703      0.893      0.893      0.602       0.31      0.393      0.257      0.045\n"
     ]
    },
    {
     "name": "stderr",
     "output_type": "stream",
     "text": [
      "\n"
     ]
    },
    {
     "name": "stdout",
     "output_type": "stream",
     "text": [
      "\n",
      "      Epoch    GPU_mem   box_loss  pose_loss  kobj_loss   cls_loss   dfl_loss  Instances       Size\n"
     ]
    },
    {
     "name": "stderr",
     "output_type": "stream",
     "text": [
      "       5/50      8.19G      1.126      5.421     0.2098      1.396      1.102          7        640: 100%|██████████| 9/9 [01:16<00:00,  8.49s/it]\n",
      "                 Class     Images  Instances      Box(P          R      mAP50  mAP50-95)     Pose(P          R      mAP50  mAP50-95): 100%|██████████| 1/1 [00:04<00:00,  4.26s/it]"
     ]
    },
    {
     "name": "stdout",
     "output_type": "stream",
     "text": [
      "                   all         27         28      0.849      0.786      0.842      0.489       0.22       0.25      0.114     0.0226\n"
     ]
    },
    {
     "name": "stderr",
     "output_type": "stream",
     "text": [
      "\n"
     ]
    },
    {
     "name": "stdout",
     "output_type": "stream",
     "text": [
      "\n",
      "      Epoch    GPU_mem   box_loss  pose_loss  kobj_loss   cls_loss   dfl_loss  Instances       Size\n"
     ]
    },
    {
     "name": "stderr",
     "output_type": "stream",
     "text": [
      "       6/50      8.12G      1.142      5.662     0.2254       1.34      1.142          4        640: 100%|██████████| 9/9 [01:21<00:00,  9.09s/it]\n",
      "                 Class     Images  Instances      Box(P          R      mAP50  mAP50-95)     Pose(P          R      mAP50  mAP50-95): 100%|██████████| 1/1 [00:03<00:00,  3.83s/it]"
     ]
    },
    {
     "name": "stdout",
     "output_type": "stream",
     "text": [
      "                   all         27         28     0.0354      0.464     0.0241     0.0101     0.0109      0.143    0.00214   0.000446\n"
     ]
    },
    {
     "name": "stderr",
     "output_type": "stream",
     "text": [
      "\n"
     ]
    },
    {
     "name": "stdout",
     "output_type": "stream",
     "text": [
      "\n",
      "      Epoch    GPU_mem   box_loss  pose_loss  kobj_loss   cls_loss   dfl_loss  Instances       Size\n"
     ]
    },
    {
     "name": "stderr",
     "output_type": "stream",
     "text": [
      "       7/50      8.12G       1.19      5.787     0.2317      1.263      1.132          7        640: 100%|██████████| 9/9 [01:18<00:00,  8.72s/it]\n",
      "                 Class     Images  Instances      Box(P          R      mAP50  mAP50-95)     Pose(P          R      mAP50  mAP50-95): 100%|██████████| 1/1 [00:03<00:00,  3.84s/it]"
     ]
    },
    {
     "name": "stdout",
     "output_type": "stream",
     "text": [
      "                   all         27         28      0.462      0.464      0.394      0.177     0.0916      0.143      0.019    0.00426\n"
     ]
    },
    {
     "name": "stderr",
     "output_type": "stream",
     "text": [
      "\n"
     ]
    },
    {
     "name": "stdout",
     "output_type": "stream",
     "text": [
      "\n",
      "      Epoch    GPU_mem   box_loss  pose_loss  kobj_loss   cls_loss   dfl_loss  Instances       Size\n"
     ]
    },
    {
     "name": "stderr",
     "output_type": "stream",
     "text": [
      "       8/50      8.12G      1.132       5.69     0.2323      1.186      1.133          5        640: 100%|██████████| 9/9 [01:21<00:00,  9.02s/it]\n",
      "                 Class     Images  Instances      Box(P          R      mAP50  mAP50-95)     Pose(P          R      mAP50  mAP50-95): 100%|██████████| 1/1 [00:03<00:00,  3.79s/it]"
     ]
    },
    {
     "name": "stdout",
     "output_type": "stream",
     "text": [
      "                   all         27         28      0.941      0.566      0.685      0.428       0.27      0.107     0.0631    0.00984\n"
     ]
    },
    {
     "name": "stderr",
     "output_type": "stream",
     "text": [
      "\n"
     ]
    },
    {
     "name": "stdout",
     "output_type": "stream",
     "text": [
      "\n",
      "      Epoch    GPU_mem   box_loss  pose_loss  kobj_loss   cls_loss   dfl_loss  Instances       Size\n"
     ]
    },
    {
     "name": "stderr",
     "output_type": "stream",
     "text": [
      "       9/50      8.12G      1.132      5.526     0.2078      1.055      1.075          5        640: 100%|██████████| 9/9 [01:23<00:00,  9.22s/it]\n",
      "                 Class     Images  Instances      Box(P          R      mAP50  mAP50-95)     Pose(P          R      mAP50  mAP50-95): 100%|██████████| 1/1 [00:03<00:00,  3.83s/it]"
     ]
    },
    {
     "name": "stdout",
     "output_type": "stream",
     "text": [
      "                   all         27         28      0.678      0.429      0.557      0.313      0.481      0.107     0.0837     0.0243\n"
     ]
    },
    {
     "name": "stderr",
     "output_type": "stream",
     "text": [
      "\n"
     ]
    },
    {
     "name": "stdout",
     "output_type": "stream",
     "text": [
      "\n",
      "      Epoch    GPU_mem   box_loss  pose_loss  kobj_loss   cls_loss   dfl_loss  Instances       Size\n"
     ]
    },
    {
     "name": "stderr",
     "output_type": "stream",
     "text": [
      "      10/50      8.12G      1.339      6.017     0.2578      1.373      1.269          2        640: 100%|██████████| 9/9 [01:22<00:00,  9.16s/it]\n",
      "                 Class     Images  Instances      Box(P          R      mAP50  mAP50-95)     Pose(P          R      mAP50  mAP50-95): 100%|██████████| 1/1 [00:04<00:00,  4.05s/it]"
     ]
    },
    {
     "name": "stdout",
     "output_type": "stream",
     "text": [
      "                   all         27         28     0.0202      0.714     0.0171    0.00926   0.000728     0.0357   0.000109   2.19e-05\n"
     ]
    },
    {
     "name": "stderr",
     "output_type": "stream",
     "text": [
      "\n"
     ]
    },
    {
     "name": "stdout",
     "output_type": "stream",
     "text": [
      "\n",
      "      Epoch    GPU_mem   box_loss  pose_loss  kobj_loss   cls_loss   dfl_loss  Instances       Size\n"
     ]
    },
    {
     "name": "stderr",
     "output_type": "stream",
     "text": [
      "      11/50      8.16G       1.04      5.574     0.2243      1.056      1.108          2        640: 100%|██████████| 9/9 [01:20<00:00,  8.89s/it]\n",
      "                 Class     Images  Instances      Box(P          R      mAP50  mAP50-95)     Pose(P          R      mAP50  mAP50-95): 100%|██████████| 1/1 [00:03<00:00,  3.80s/it]"
     ]
    },
    {
     "name": "stdout",
     "output_type": "stream",
     "text": [
      "                   all         27         28     0.0144      0.643     0.0109    0.00569    0.00176     0.0714   0.000582   7.83e-05\n"
     ]
    },
    {
     "name": "stderr",
     "output_type": "stream",
     "text": [
      "\n"
     ]
    },
    {
     "name": "stdout",
     "output_type": "stream",
     "text": [
      "\n",
      "      Epoch    GPU_mem   box_loss  pose_loss  kobj_loss   cls_loss   dfl_loss  Instances       Size\n"
     ]
    },
    {
     "name": "stderr",
     "output_type": "stream",
     "text": [
      "      12/50      8.17G      1.054      5.248     0.2115     0.8932      1.077          8        640: 100%|██████████| 9/9 [01:24<00:00,  9.35s/it]\n",
      "                 Class     Images  Instances      Box(P          R      mAP50  mAP50-95)     Pose(P          R      mAP50  mAP50-95): 100%|██████████| 1/1 [00:03<00:00,  3.76s/it]"
     ]
    },
    {
     "name": "stdout",
     "output_type": "stream",
     "text": [
      "                   all         27         28     0.0197      0.857     0.0188    0.00984    0.00403      0.179    0.00145   0.000183\n"
     ]
    },
    {
     "name": "stderr",
     "output_type": "stream",
     "text": [
      "\n"
     ]
    },
    {
     "name": "stdout",
     "output_type": "stream",
     "text": [
      "\n",
      "      Epoch    GPU_mem   box_loss  pose_loss  kobj_loss   cls_loss   dfl_loss  Instances       Size\n"
     ]
    },
    {
     "name": "stderr",
     "output_type": "stream",
     "text": [
      "      13/50       8.1G      1.062      5.322     0.2072       0.89      1.096          7        640: 100%|██████████| 9/9 [01:22<00:00,  9.13s/it]\n",
      "                 Class     Images  Instances      Box(P          R      mAP50  mAP50-95)     Pose(P          R      mAP50  mAP50-95): 100%|██████████| 1/1 [00:03<00:00,  3.70s/it]"
     ]
    },
    {
     "name": "stdout",
     "output_type": "stream",
     "text": [
      "                   all         27         28      0.393      0.429      0.362      0.204      0.109     0.0714     0.0505     0.0101\n"
     ]
    },
    {
     "name": "stderr",
     "output_type": "stream",
     "text": [
      "\n"
     ]
    },
    {
     "name": "stdout",
     "output_type": "stream",
     "text": [
      "\n",
      "      Epoch    GPU_mem   box_loss  pose_loss  kobj_loss   cls_loss   dfl_loss  Instances       Size\n"
     ]
    },
    {
     "name": "stderr",
     "output_type": "stream",
     "text": [
      "      14/50      8.19G      1.091      5.143     0.2274     0.9514      1.113          8        640: 100%|██████████| 9/9 [01:22<00:00,  9.21s/it]\n",
      "                 Class     Images  Instances      Box(P          R      mAP50  mAP50-95)     Pose(P          R      mAP50  mAP50-95): 100%|██████████| 1/1 [00:03<00:00,  3.98s/it]"
     ]
    },
    {
     "name": "stdout",
     "output_type": "stream",
     "text": [
      "                   all         27         28      0.618      0.643      0.677      0.396      0.228      0.143     0.0543    0.00804\n"
     ]
    },
    {
     "name": "stderr",
     "output_type": "stream",
     "text": [
      "\n"
     ]
    },
    {
     "name": "stdout",
     "output_type": "stream",
     "text": [
      "\n",
      "      Epoch    GPU_mem   box_loss  pose_loss  kobj_loss   cls_loss   dfl_loss  Instances       Size\n"
     ]
    },
    {
     "name": "stderr",
     "output_type": "stream",
     "text": [
      "      15/50      8.17G      1.044      5.243      0.205     0.8689      1.052          6        640: 100%|██████████| 9/9 [01:22<00:00,  9.12s/it]\n",
      "                 Class     Images  Instances      Box(P          R      mAP50  mAP50-95)     Pose(P          R      mAP50  mAP50-95): 100%|██████████| 1/1 [00:03<00:00,  3.76s/it]"
     ]
    },
    {
     "name": "stdout",
     "output_type": "stream",
     "text": [
      "                   all         27         28      0.749      0.714      0.816      0.499      0.269      0.214      0.101     0.0176\n"
     ]
    },
    {
     "name": "stderr",
     "output_type": "stream",
     "text": [
      "\n"
     ]
    },
    {
     "name": "stdout",
     "output_type": "stream",
     "text": [
      "\n",
      "      Epoch    GPU_mem   box_loss  pose_loss  kobj_loss   cls_loss   dfl_loss  Instances       Size\n"
     ]
    },
    {
     "name": "stderr",
     "output_type": "stream",
     "text": [
      "      16/50      8.17G     0.9804      4.816     0.1996     0.8196      1.054         12        640: 100%|██████████| 9/9 [01:20<00:00,  8.96s/it]\n",
      "                 Class     Images  Instances      Box(P          R      mAP50  mAP50-95)     Pose(P          R      mAP50  mAP50-95): 100%|██████████| 1/1 [00:04<00:00,  4.05s/it]"
     ]
    },
    {
     "name": "stdout",
     "output_type": "stream",
     "text": [
      "                   all         27         28      0.376      0.559      0.462      0.296      0.179      0.107        0.1     0.0113\n"
     ]
    },
    {
     "name": "stderr",
     "output_type": "stream",
     "text": [
      "\n"
     ]
    },
    {
     "name": "stdout",
     "output_type": "stream",
     "text": [
      "\n",
      "      Epoch    GPU_mem   box_loss  pose_loss  kobj_loss   cls_loss   dfl_loss  Instances       Size\n"
     ]
    },
    {
     "name": "stderr",
     "output_type": "stream",
     "text": [
      "      17/50       8.1G     0.9734      4.652     0.1758     0.7795      1.034          6        640: 100%|██████████| 9/9 [01:19<00:00,  8.83s/it]\n",
      "                 Class     Images  Instances      Box(P          R      mAP50  mAP50-95)     Pose(P          R      mAP50  mAP50-95): 100%|██████████| 1/1 [00:03<00:00,  3.85s/it]"
     ]
    },
    {
     "name": "stdout",
     "output_type": "stream",
     "text": [
      "                   all         27         28      0.842      0.857      0.941      0.554      0.289       0.25     0.0986     0.0227\n"
     ]
    },
    {
     "name": "stderr",
     "output_type": "stream",
     "text": [
      "\n"
     ]
    },
    {
     "name": "stdout",
     "output_type": "stream",
     "text": [
      "\n",
      "      Epoch    GPU_mem   box_loss  pose_loss  kobj_loss   cls_loss   dfl_loss  Instances       Size\n"
     ]
    },
    {
     "name": "stderr",
     "output_type": "stream",
     "text": [
      "      18/50      8.17G     0.9174      4.445     0.1706     0.7451      1.016          5        640: 100%|██████████| 9/9 [01:16<00:00,  8.55s/it]\n",
      "                 Class     Images  Instances      Box(P          R      mAP50  mAP50-95)     Pose(P          R      mAP50  mAP50-95): 100%|██████████| 1/1 [00:03<00:00,  3.92s/it]"
     ]
    },
    {
     "name": "stdout",
     "output_type": "stream",
     "text": [
      "                   all         27         28      0.887      0.786      0.923      0.521      0.251      0.357      0.148     0.0297\n"
     ]
    },
    {
     "name": "stderr",
     "output_type": "stream",
     "text": [
      "\n"
     ]
    },
    {
     "name": "stdout",
     "output_type": "stream",
     "text": [
      "\n",
      "      Epoch    GPU_mem   box_loss  pose_loss  kobj_loss   cls_loss   dfl_loss  Instances       Size\n"
     ]
    },
    {
     "name": "stderr",
     "output_type": "stream",
     "text": [
      "      19/50      8.17G     0.9415      4.279     0.1457     0.7545      1.018          3        640: 100%|██████████| 9/9 [01:24<00:00,  9.34s/it]\n",
      "                 Class     Images  Instances      Box(P          R      mAP50  mAP50-95)     Pose(P          R      mAP50  mAP50-95): 100%|██████████| 1/1 [00:03<00:00,  3.72s/it]"
     ]
    },
    {
     "name": "stdout",
     "output_type": "stream",
     "text": [
      "                   all         27         28      0.631      0.977      0.811      0.481      0.319      0.536      0.231     0.0338\n"
     ]
    },
    {
     "name": "stderr",
     "output_type": "stream",
     "text": [
      "\n"
     ]
    },
    {
     "name": "stdout",
     "output_type": "stream",
     "text": [
      "\n",
      "      Epoch    GPU_mem   box_loss  pose_loss  kobj_loss   cls_loss   dfl_loss  Instances       Size\n"
     ]
    },
    {
     "name": "stderr",
     "output_type": "stream",
     "text": [
      "      20/50      8.16G     0.8911      4.306      0.173     0.7532      1.025          3        640: 100%|██████████| 9/9 [01:22<00:00,  9.18s/it]\n",
      "                 Class     Images  Instances      Box(P          R      mAP50  mAP50-95)     Pose(P          R      mAP50  mAP50-95): 100%|██████████| 1/1 [00:03<00:00,  3.62s/it]"
     ]
    },
    {
     "name": "stdout",
     "output_type": "stream",
     "text": [
      "                   all         27         28      0.671      0.821      0.753      0.508      0.237      0.286      0.137     0.0232\n"
     ]
    },
    {
     "name": "stderr",
     "output_type": "stream",
     "text": [
      "\n"
     ]
    },
    {
     "name": "stdout",
     "output_type": "stream",
     "text": [
      "\n",
      "      Epoch    GPU_mem   box_loss  pose_loss  kobj_loss   cls_loss   dfl_loss  Instances       Size\n"
     ]
    },
    {
     "name": "stderr",
     "output_type": "stream",
     "text": [
      "      21/50       8.1G     0.8615      4.524     0.1517      0.691     0.9975          5        640: 100%|██████████| 9/9 [01:20<00:00,  8.98s/it]\n",
      "                 Class     Images  Instances      Box(P          R      mAP50  mAP50-95)     Pose(P          R      mAP50  mAP50-95): 100%|██████████| 1/1 [00:03<00:00,  3.92s/it]"
     ]
    },
    {
     "name": "stdout",
     "output_type": "stream",
     "text": [
      "                   all         27         28      0.651       0.75      0.665      0.474      0.181       0.25      0.118       0.03\n"
     ]
    },
    {
     "name": "stderr",
     "output_type": "stream",
     "text": [
      "\n"
     ]
    },
    {
     "name": "stdout",
     "output_type": "stream",
     "text": [
      "\n",
      "      Epoch    GPU_mem   box_loss  pose_loss  kobj_loss   cls_loss   dfl_loss  Instances       Size\n"
     ]
    },
    {
     "name": "stderr",
     "output_type": "stream",
     "text": [
      "      22/50      8.17G     0.9001      4.586     0.1842     0.7969      1.049          4        640: 100%|██████████| 9/9 [01:18<00:00,  8.74s/it]\n",
      "                 Class     Images  Instances      Box(P          R      mAP50  mAP50-95)     Pose(P          R      mAP50  mAP50-95): 100%|██████████| 1/1 [00:04<00:00,  4.01s/it]"
     ]
    },
    {
     "name": "stdout",
     "output_type": "stream",
     "text": [
      "                   all         27         28      0.763      0.689      0.836      0.551      0.289      0.143     0.0722     0.0197\n"
     ]
    },
    {
     "name": "stderr",
     "output_type": "stream",
     "text": [
      "\n"
     ]
    },
    {
     "name": "stdout",
     "output_type": "stream",
     "text": [
      "\n",
      "      Epoch    GPU_mem   box_loss  pose_loss  kobj_loss   cls_loss   dfl_loss  Instances       Size\n"
     ]
    },
    {
     "name": "stderr",
     "output_type": "stream",
     "text": [
      "      23/50      8.17G     0.8324      4.114     0.1506     0.6682     0.9969          6        640: 100%|██████████| 9/9 [01:22<00:00,  9.17s/it]\n",
      "                 Class     Images  Instances      Box(P          R      mAP50  mAP50-95)     Pose(P          R      mAP50  mAP50-95): 100%|██████████| 1/1 [00:03<00:00,  3.76s/it]"
     ]
    },
    {
     "name": "stdout",
     "output_type": "stream",
     "text": [
      "                   all         27         28      0.855      0.893      0.886      0.548      0.307      0.179      0.116     0.0162\n"
     ]
    },
    {
     "name": "stderr",
     "output_type": "stream",
     "text": [
      "\n"
     ]
    },
    {
     "name": "stdout",
     "output_type": "stream",
     "text": [
      "\n",
      "      Epoch    GPU_mem   box_loss  pose_loss  kobj_loss   cls_loss   dfl_loss  Instances       Size\n"
     ]
    },
    {
     "name": "stderr",
     "output_type": "stream",
     "text": [
      "      24/50      8.16G     0.8345      4.046      0.141     0.6489      1.019          4        640: 100%|██████████| 9/9 [01:20<00:00,  8.94s/it]\n",
      "                 Class     Images  Instances      Box(P          R      mAP50  mAP50-95)     Pose(P          R      mAP50  mAP50-95): 100%|██████████| 1/1 [00:03<00:00,  3.57s/it]"
     ]
    },
    {
     "name": "stdout",
     "output_type": "stream",
     "text": [
      "                   all         27         28      0.861      0.929      0.956      0.638      0.396      0.429      0.266     0.0504\n"
     ]
    },
    {
     "name": "stderr",
     "output_type": "stream",
     "text": [
      "\n"
     ]
    },
    {
     "name": "stdout",
     "output_type": "stream",
     "text": [
      "\n",
      "      Epoch    GPU_mem   box_loss  pose_loss  kobj_loss   cls_loss   dfl_loss  Instances       Size\n"
     ]
    },
    {
     "name": "stderr",
     "output_type": "stream",
     "text": [
      "      25/50       8.1G     0.8826       4.13     0.2073     0.6912     0.9891          3        640: 100%|██████████| 9/9 [01:21<00:00,  9.07s/it]\n",
      "                 Class     Images  Instances      Box(P          R      mAP50  mAP50-95)     Pose(P          R      mAP50  mAP50-95): 100%|██████████| 1/1 [00:03<00:00,  3.90s/it]"
     ]
    },
    {
     "name": "stdout",
     "output_type": "stream",
     "text": [
      "                   all         27         28      0.996      0.964      0.992      0.629      0.516      0.536      0.299      0.071\n"
     ]
    },
    {
     "name": "stderr",
     "output_type": "stream",
     "text": [
      "\n"
     ]
    },
    {
     "name": "stdout",
     "output_type": "stream",
     "text": [
      "\n",
      "      Epoch    GPU_mem   box_loss  pose_loss  kobj_loss   cls_loss   dfl_loss  Instances       Size\n"
     ]
    },
    {
     "name": "stderr",
     "output_type": "stream",
     "text": [
      "      26/50      8.17G     0.8015      3.772     0.1689     0.6044     0.9506         12        640: 100%|██████████| 9/9 [01:17<00:00,  8.62s/it]\n",
      "                 Class     Images  Instances      Box(P          R      mAP50  mAP50-95)     Pose(P          R      mAP50  mAP50-95): 100%|██████████| 1/1 [00:04<00:00,  4.04s/it]"
     ]
    },
    {
     "name": "stdout",
     "output_type": "stream",
     "text": [
      "                   all         27         28       0.95          1      0.995      0.621       0.53      0.483      0.295     0.0681\n"
     ]
    },
    {
     "name": "stderr",
     "output_type": "stream",
     "text": [
      "\n"
     ]
    },
    {
     "name": "stdout",
     "output_type": "stream",
     "text": [
      "\n",
      "      Epoch    GPU_mem   box_loss  pose_loss  kobj_loss   cls_loss   dfl_loss  Instances       Size\n"
     ]
    },
    {
     "name": "stderr",
     "output_type": "stream",
     "text": [
      "      27/50      8.17G     0.8555      3.754     0.1841     0.6287      1.021          5        640: 100%|██████████| 9/9 [01:21<00:00,  9.09s/it]\n",
      "                 Class     Images  Instances      Box(P          R      mAP50  mAP50-95)     Pose(P          R      mAP50  mAP50-95): 100%|██████████| 1/1 [00:03<00:00,  3.87s/it]"
     ]
    },
    {
     "name": "stdout",
     "output_type": "stream",
     "text": [
      "                   all         27         28      0.892          1      0.955      0.658      0.573      0.643      0.417     0.0828\n"
     ]
    },
    {
     "name": "stderr",
     "output_type": "stream",
     "text": [
      "\n"
     ]
    },
    {
     "name": "stdout",
     "output_type": "stream",
     "text": [
      "\n",
      "      Epoch    GPU_mem   box_loss  pose_loss  kobj_loss   cls_loss   dfl_loss  Instances       Size\n"
     ]
    },
    {
     "name": "stderr",
     "output_type": "stream",
     "text": [
      "      28/50      8.16G     0.8386      4.029     0.1892     0.6149     0.9957          5        640: 100%|██████████| 9/9 [01:20<00:00,  8.95s/it]\n",
      "                 Class     Images  Instances      Box(P          R      mAP50  mAP50-95)     Pose(P          R      mAP50  mAP50-95): 100%|██████████| 1/1 [00:03<00:00,  3.72s/it]"
     ]
    },
    {
     "name": "stdout",
     "output_type": "stream",
     "text": [
      "                   all         27         28      0.889      0.964      0.986      0.679      0.505      0.536      0.357     0.0948\n"
     ]
    },
    {
     "name": "stderr",
     "output_type": "stream",
     "text": [
      "\n"
     ]
    },
    {
     "name": "stdout",
     "output_type": "stream",
     "text": [
      "\n",
      "      Epoch    GPU_mem   box_loss  pose_loss  kobj_loss   cls_loss   dfl_loss  Instances       Size\n"
     ]
    },
    {
     "name": "stderr",
     "output_type": "stream",
     "text": [
      "      29/50       8.1G     0.7845      3.455     0.1446     0.5765     0.9775         14        640: 100%|██████████| 9/9 [01:22<00:00,  9.19s/it]\n",
      "                 Class     Images  Instances      Box(P          R      mAP50  mAP50-95)     Pose(P          R      mAP50  mAP50-95): 100%|██████████| 1/1 [00:03<00:00,  3.81s/it]"
     ]
    },
    {
     "name": "stdout",
     "output_type": "stream",
     "text": [
      "                   all         27         28      0.961      0.964      0.993      0.733      0.539      0.536      0.311     0.0925\n"
     ]
    },
    {
     "name": "stderr",
     "output_type": "stream",
     "text": [
      "\n"
     ]
    },
    {
     "name": "stdout",
     "output_type": "stream",
     "text": [
      "\n",
      "      Epoch    GPU_mem   box_loss  pose_loss  kobj_loss   cls_loss   dfl_loss  Instances       Size\n"
     ]
    },
    {
     "name": "stderr",
     "output_type": "stream",
     "text": [
      "      30/50      8.19G       0.78      3.758     0.1896     0.6102      1.012          7        640: 100%|██████████| 9/9 [01:19<00:00,  8.87s/it]\n",
      "                 Class     Images  Instances      Box(P          R      mAP50  mAP50-95)     Pose(P          R      mAP50  mAP50-95): 100%|██████████| 1/1 [00:04<00:00,  4.14s/it]"
     ]
    },
    {
     "name": "stdout",
     "output_type": "stream",
     "text": [
      "                   all         27         28      0.929          1      0.984       0.71      0.544      0.571       0.36     0.0778\n"
     ]
    },
    {
     "name": "stderr",
     "output_type": "stream",
     "text": [
      "\n"
     ]
    },
    {
     "name": "stdout",
     "output_type": "stream",
     "text": [
      "\n",
      "      Epoch    GPU_mem   box_loss  pose_loss  kobj_loss   cls_loss   dfl_loss  Instances       Size\n"
     ]
    },
    {
     "name": "stderr",
     "output_type": "stream",
     "text": [
      "      31/50      8.17G     0.7615      3.443      0.144     0.6023     0.9313          8        640: 100%|██████████| 9/9 [01:21<00:00,  9.03s/it]\n",
      "                 Class     Images  Instances      Box(P          R      mAP50  mAP50-95)     Pose(P          R      mAP50  mAP50-95): 100%|██████████| 1/1 [00:04<00:00,  4.05s/it]"
     ]
    },
    {
     "name": "stdout",
     "output_type": "stream",
     "text": [
      "                   all         27         28      0.931          1      0.986      0.706      0.617      0.643      0.467      0.142\n"
     ]
    },
    {
     "name": "stderr",
     "output_type": "stream",
     "text": [
      "\n"
     ]
    },
    {
     "name": "stdout",
     "output_type": "stream",
     "text": [
      "\n",
      "      Epoch    GPU_mem   box_loss  pose_loss  kobj_loss   cls_loss   dfl_loss  Instances       Size\n"
     ]
    },
    {
     "name": "stderr",
     "output_type": "stream",
     "text": [
      "      32/50      8.16G     0.7405      3.366     0.1579     0.5755     0.9479          6        640: 100%|██████████| 9/9 [01:23<00:00,  9.31s/it]\n",
      "                 Class     Images  Instances      Box(P          R      mAP50  mAP50-95)     Pose(P          R      mAP50  mAP50-95): 100%|██████████| 1/1 [00:03<00:00,  3.79s/it]"
     ]
    },
    {
     "name": "stdout",
     "output_type": "stream",
     "text": [
      "                   all         27         28      0.998          1      0.995      0.705      0.691      0.679      0.483      0.157\n"
     ]
    },
    {
     "name": "stderr",
     "output_type": "stream",
     "text": [
      "\n"
     ]
    },
    {
     "name": "stdout",
     "output_type": "stream",
     "text": [
      "\n",
      "      Epoch    GPU_mem   box_loss  pose_loss  kobj_loss   cls_loss   dfl_loss  Instances       Size\n"
     ]
    },
    {
     "name": "stderr",
     "output_type": "stream",
     "text": [
      "      33/50       8.1G     0.7734      3.201     0.1334     0.6059     0.9687          3        640: 100%|██████████| 9/9 [01:20<00:00,  8.94s/it]\n",
      "                 Class     Images  Instances      Box(P          R      mAP50  mAP50-95)     Pose(P          R      mAP50  mAP50-95): 100%|██████████| 1/1 [00:03<00:00,  3.92s/it]"
     ]
    },
    {
     "name": "stdout",
     "output_type": "stream",
     "text": [
      "                   all         27         28      0.985          1      0.995      0.704      0.675      0.679      0.518      0.184\n"
     ]
    },
    {
     "name": "stderr",
     "output_type": "stream",
     "text": [
      "\n"
     ]
    },
    {
     "name": "stdout",
     "output_type": "stream",
     "text": [
      "\n",
      "      Epoch    GPU_mem   box_loss  pose_loss  kobj_loss   cls_loss   dfl_loss  Instances       Size\n"
     ]
    },
    {
     "name": "stderr",
     "output_type": "stream",
     "text": [
      "      34/50      8.17G     0.7123      3.164     0.1409     0.5361     0.9407          6        640: 100%|██████████| 9/9 [01:17<00:00,  8.63s/it]\n",
      "                 Class     Images  Instances      Box(P          R      mAP50  mAP50-95)     Pose(P          R      mAP50  mAP50-95): 100%|██████████| 1/1 [00:03<00:00,  3.83s/it]"
     ]
    },
    {
     "name": "stdout",
     "output_type": "stream",
     "text": [
      "                   all         27         28      0.954          1      0.988      0.709      0.678      0.714      0.573       0.18\n"
     ]
    },
    {
     "name": "stderr",
     "output_type": "stream",
     "text": [
      "\n"
     ]
    },
    {
     "name": "stdout",
     "output_type": "stream",
     "text": [
      "\n",
      "      Epoch    GPU_mem   box_loss  pose_loss  kobj_loss   cls_loss   dfl_loss  Instances       Size\n"
     ]
    },
    {
     "name": "stderr",
     "output_type": "stream",
     "text": [
      "      35/50      8.19G     0.7275      3.056     0.1392     0.5434      0.939          5        640: 100%|██████████| 9/9 [01:20<00:00,  8.96s/it]\n",
      "                 Class     Images  Instances      Box(P          R      mAP50  mAP50-95)     Pose(P          R      mAP50  mAP50-95): 100%|██████████| 1/1 [00:03<00:00,  3.74s/it]"
     ]
    },
    {
     "name": "stdout",
     "output_type": "stream",
     "text": [
      "                   all         27         28      0.991          1      0.995      0.707      0.635      0.536      0.435      0.162\n"
     ]
    },
    {
     "name": "stderr",
     "output_type": "stream",
     "text": [
      "\n"
     ]
    },
    {
     "name": "stdout",
     "output_type": "stream",
     "text": [
      "\n",
      "      Epoch    GPU_mem   box_loss  pose_loss  kobj_loss   cls_loss   dfl_loss  Instances       Size\n"
     ]
    },
    {
     "name": "stderr",
     "output_type": "stream",
     "text": [
      "      36/50      8.16G     0.7446      3.297     0.1822     0.5765     0.9481          8        640: 100%|██████████| 9/9 [01:20<00:00,  8.91s/it]\n",
      "                 Class     Images  Instances      Box(P          R      mAP50  mAP50-95)     Pose(P          R      mAP50  mAP50-95): 100%|██████████| 1/1 [00:03<00:00,  3.80s/it]"
     ]
    },
    {
     "name": "stdout",
     "output_type": "stream",
     "text": [
      "                   all         27         28      0.992      0.964      0.992      0.675      0.623      0.607      0.467      0.147\n"
     ]
    },
    {
     "name": "stderr",
     "output_type": "stream",
     "text": [
      "\n"
     ]
    },
    {
     "name": "stdout",
     "output_type": "stream",
     "text": [
      "\n",
      "      Epoch    GPU_mem   box_loss  pose_loss  kobj_loss   cls_loss   dfl_loss  Instances       Size\n"
     ]
    },
    {
     "name": "stderr",
     "output_type": "stream",
     "text": [
      "      37/50       8.1G     0.6729      2.903     0.1427     0.5134     0.9126         10        640: 100%|██████████| 9/9 [01:23<00:00,  9.28s/it]\n",
      "                 Class     Images  Instances      Box(P          R      mAP50  mAP50-95)     Pose(P          R      mAP50  mAP50-95): 100%|██████████| 1/1 [00:03<00:00,  3.90s/it]"
     ]
    },
    {
     "name": "stdout",
     "output_type": "stream",
     "text": [
      "                   all         27         28      0.993      0.964      0.993      0.655      0.625      0.607      0.479      0.154\n"
     ]
    },
    {
     "name": "stderr",
     "output_type": "stream",
     "text": [
      "\n"
     ]
    },
    {
     "name": "stdout",
     "output_type": "stream",
     "text": [
      "\n",
      "      Epoch    GPU_mem   box_loss  pose_loss  kobj_loss   cls_loss   dfl_loss  Instances       Size\n"
     ]
    },
    {
     "name": "stderr",
     "output_type": "stream",
     "text": [
      "      38/50      8.19G     0.6412      2.752     0.1346     0.5094     0.9164          6        640: 100%|██████████| 9/9 [01:17<00:00,  8.59s/it]\n",
      "                 Class     Images  Instances      Box(P          R      mAP50  mAP50-95)     Pose(P          R      mAP50  mAP50-95): 100%|██████████| 1/1 [00:03<00:00,  3.65s/it]"
     ]
    },
    {
     "name": "stdout",
     "output_type": "stream",
     "text": [
      "                   all         27         28      0.965      0.998      0.994      0.681       0.57      0.571      0.461      0.177\n"
     ]
    },
    {
     "name": "stderr",
     "output_type": "stream",
     "text": [
      "\n"
     ]
    },
    {
     "name": "stdout",
     "output_type": "stream",
     "text": [
      "\n",
      "      Epoch    GPU_mem   box_loss  pose_loss  kobj_loss   cls_loss   dfl_loss  Instances       Size\n"
     ]
    },
    {
     "name": "stderr",
     "output_type": "stream",
     "text": [
      "      39/50      8.16G     0.6139      2.734      0.169     0.4883     0.9003          4        640: 100%|██████████| 9/9 [01:24<00:00,  9.36s/it]\n",
      "                 Class     Images  Instances      Box(P          R      mAP50  mAP50-95)     Pose(P          R      mAP50  mAP50-95): 100%|██████████| 1/1 [00:03<00:00,  3.72s/it]"
     ]
    },
    {
     "name": "stdout",
     "output_type": "stream",
     "text": [
      "                   all         27         28      0.966          1      0.992      0.728      0.658      0.607      0.484      0.163\n"
     ]
    },
    {
     "name": "stderr",
     "output_type": "stream",
     "text": [
      "\n"
     ]
    },
    {
     "name": "stdout",
     "output_type": "stream",
     "text": [
      "\n",
      "      Epoch    GPU_mem   box_loss  pose_loss  kobj_loss   cls_loss   dfl_loss  Instances       Size\n"
     ]
    },
    {
     "name": "stderr",
     "output_type": "stream",
     "text": [
      "      40/50      8.18G      0.638      2.623     0.1497     0.4883     0.9389          9        640: 100%|██████████| 9/9 [01:20<00:00,  8.90s/it]\n",
      "                 Class     Images  Instances      Box(P          R      mAP50  mAP50-95)     Pose(P          R      mAP50  mAP50-95): 100%|██████████| 1/1 [00:03<00:00,  3.70s/it]"
     ]
    },
    {
     "name": "stdout",
     "output_type": "stream",
     "text": [
      "                   all         27         28          1      0.996      0.995      0.736      0.617      0.571      0.423      0.158\n"
     ]
    },
    {
     "name": "stderr",
     "output_type": "stream",
     "text": [
      "\n"
     ]
    },
    {
     "name": "stdout",
     "output_type": "stream",
     "text": [
      "Closing dataloader mosaic\n",
      "\n",
      "      Epoch    GPU_mem   box_loss  pose_loss  kobj_loss   cls_loss   dfl_loss  Instances       Size\n"
     ]
    },
    {
     "name": "stderr",
     "output_type": "stream",
     "text": [
      "      41/50       8.1G     0.5463      2.176    0.04827     0.4516     0.8605          5        640: 100%|██████████| 9/9 [01:23<00:00,  9.24s/it]\n",
      "                 Class     Images  Instances      Box(P          R      mAP50  mAP50-95)     Pose(P          R      mAP50  mAP50-95): 100%|██████████| 1/1 [00:03<00:00,  3.89s/it]"
     ]
    },
    {
     "name": "stdout",
     "output_type": "stream",
     "text": [
      "                   all         27         28      0.995      0.964      0.993      0.727      0.623      0.571      0.423      0.152\n"
     ]
    },
    {
     "name": "stderr",
     "output_type": "stream",
     "text": [
      "\n"
     ]
    },
    {
     "name": "stdout",
     "output_type": "stream",
     "text": [
      "\n",
      "      Epoch    GPU_mem   box_loss  pose_loss  kobj_loss   cls_loss   dfl_loss  Instances       Size\n"
     ]
    },
    {
     "name": "stderr",
     "output_type": "stream",
     "text": [
      "      42/50      8.17G     0.5262      2.049    0.04375     0.4362     0.8855          3        640: 100%|██████████| 9/9 [01:17<00:00,  8.56s/it]\n",
      "                 Class     Images  Instances      Box(P          R      mAP50  mAP50-95)     Pose(P          R      mAP50  mAP50-95): 100%|██████████| 1/1 [00:03<00:00,  3.80s/it]"
     ]
    },
    {
     "name": "stdout",
     "output_type": "stream",
     "text": [
      "                   all         27         28          1      0.996      0.995      0.743      0.664      0.643      0.504      0.143\n"
     ]
    },
    {
     "name": "stderr",
     "output_type": "stream",
     "text": [
      "\n"
     ]
    },
    {
     "name": "stdout",
     "output_type": "stream",
     "text": [
      "\n",
      "      Epoch    GPU_mem   box_loss  pose_loss  kobj_loss   cls_loss   dfl_loss  Instances       Size\n"
     ]
    },
    {
     "name": "stderr",
     "output_type": "stream",
     "text": [
      "      43/50      8.17G     0.5236      1.992    0.05245     0.4304     0.8707          3        640: 100%|██████████| 9/9 [01:23<00:00,  9.25s/it]\n",
      "                 Class     Images  Instances      Box(P          R      mAP50  mAP50-95)     Pose(P          R      mAP50  mAP50-95): 100%|██████████| 1/1 [00:03<00:00,  3.72s/it]"
     ]
    },
    {
     "name": "stdout",
     "output_type": "stream",
     "text": [
      "                   all         27         28      0.998      0.964      0.994      0.738      0.664      0.643      0.488      0.163\n"
     ]
    },
    {
     "name": "stderr",
     "output_type": "stream",
     "text": [
      "\n"
     ]
    },
    {
     "name": "stdout",
     "output_type": "stream",
     "text": [
      "\n",
      "      Epoch    GPU_mem   box_loss  pose_loss  kobj_loss   cls_loss   dfl_loss  Instances       Size\n"
     ]
    },
    {
     "name": "stderr",
     "output_type": "stream",
     "text": [
      "      44/50      8.16G     0.4947      1.888    0.04805     0.4099     0.8685          5        640: 100%|██████████| 9/9 [01:19<00:00,  8.82s/it]\n",
      "                 Class     Images  Instances      Box(P          R      mAP50  mAP50-95)     Pose(P          R      mAP50  mAP50-95): 100%|██████████| 1/1 [00:03<00:00,  3.70s/it]"
     ]
    },
    {
     "name": "stdout",
     "output_type": "stream",
     "text": [
      "                   all         27         28          1      0.994      0.995      0.723      0.688      0.643      0.485      0.144\n"
     ]
    },
    {
     "name": "stderr",
     "output_type": "stream",
     "text": [
      "\n"
     ]
    },
    {
     "name": "stdout",
     "output_type": "stream",
     "text": [
      "\n",
      "      Epoch    GPU_mem   box_loss  pose_loss  kobj_loss   cls_loss   dfl_loss  Instances       Size\n"
     ]
    },
    {
     "name": "stderr",
     "output_type": "stream",
     "text": [
      "      45/50       8.1G     0.4901      1.982    0.03612     0.3999     0.9045          2        640: 100%|██████████| 9/9 [01:20<00:00,  8.96s/it]\n",
      "                 Class     Images  Instances      Box(P          R      mAP50  mAP50-95)     Pose(P          R      mAP50  mAP50-95): 100%|██████████| 1/1 [00:03<00:00,  3.85s/it]"
     ]
    },
    {
     "name": "stdout",
     "output_type": "stream",
     "text": [
      "                   all         27         28          1      0.962      0.994      0.732        0.7      0.679      0.512      0.157\n"
     ]
    },
    {
     "name": "stderr",
     "output_type": "stream",
     "text": [
      "\n"
     ]
    },
    {
     "name": "stdout",
     "output_type": "stream",
     "text": [
      "\n",
      "      Epoch    GPU_mem   box_loss  pose_loss  kobj_loss   cls_loss   dfl_loss  Instances       Size\n"
     ]
    },
    {
     "name": "stderr",
     "output_type": "stream",
     "text": [
      "      46/50      8.17G     0.4564      2.009    0.05096      0.416     0.8859          3        640: 100%|██████████| 9/9 [01:17<00:00,  8.59s/it]\n",
      "                 Class     Images  Instances      Box(P          R      mAP50  mAP50-95)     Pose(P          R      mAP50  mAP50-95): 100%|██████████| 1/1 [00:03<00:00,  3.77s/it]"
     ]
    },
    {
     "name": "stdout",
     "output_type": "stream",
     "text": [
      "                   all         27         28      0.962      0.964      0.992      0.758      0.675      0.679      0.511      0.172\n"
     ]
    },
    {
     "name": "stderr",
     "output_type": "stream",
     "text": [
      "\n"
     ]
    },
    {
     "name": "stdout",
     "output_type": "stream",
     "text": [
      "\n",
      "      Epoch    GPU_mem   box_loss  pose_loss  kobj_loss   cls_loss   dfl_loss  Instances       Size\n"
     ]
    },
    {
     "name": "stderr",
     "output_type": "stream",
     "text": [
      "      47/50      8.17G     0.4427      1.762    0.04545     0.3917     0.8801          5        640: 100%|██████████| 9/9 [01:23<00:00,  9.32s/it]\n",
      "                 Class     Images  Instances      Box(P          R      mAP50  mAP50-95)     Pose(P          R      mAP50  mAP50-95): 100%|██████████| 1/1 [00:03<00:00,  3.76s/it]"
     ]
    },
    {
     "name": "stdout",
     "output_type": "stream",
     "text": [
      "                   all         27         28      0.964      0.962      0.992      0.757      0.641      0.643      0.474      0.175\n"
     ]
    },
    {
     "name": "stderr",
     "output_type": "stream",
     "text": [
      "\n"
     ]
    },
    {
     "name": "stdout",
     "output_type": "stream",
     "text": [
      "\n",
      "      Epoch    GPU_mem   box_loss  pose_loss  kobj_loss   cls_loss   dfl_loss  Instances       Size\n"
     ]
    },
    {
     "name": "stderr",
     "output_type": "stream",
     "text": [
      "      48/50      8.16G     0.4568      1.639    0.03399     0.3955      0.889          3        640: 100%|██████████| 9/9 [01:21<00:00,  9.07s/it]\n",
      "                 Class     Images  Instances      Box(P          R      mAP50  mAP50-95)     Pose(P          R      mAP50  mAP50-95): 100%|██████████| 1/1 [00:03<00:00,  3.67s/it]"
     ]
    },
    {
     "name": "stdout",
     "output_type": "stream",
     "text": [
      "                   all         27         28      0.932          1      0.992       0.74      0.648      0.607      0.461      0.176\n"
     ]
    },
    {
     "name": "stderr",
     "output_type": "stream",
     "text": [
      "\n"
     ]
    },
    {
     "name": "stdout",
     "output_type": "stream",
     "text": [
      "\n",
      "      Epoch    GPU_mem   box_loss  pose_loss  kobj_loss   cls_loss   dfl_loss  Instances       Size\n"
     ]
    },
    {
     "name": "stderr",
     "output_type": "stream",
     "text": [
      "      49/50       8.1G     0.4393      1.548    0.03943     0.3773     0.8398          3        640: 100%|██████████| 9/9 [01:23<00:00,  9.23s/it]\n",
      "                 Class     Images  Instances      Box(P          R      mAP50  mAP50-95)     Pose(P          R      mAP50  mAP50-95): 100%|██████████| 1/1 [00:03<00:00,  3.82s/it]"
     ]
    },
    {
     "name": "stdout",
     "output_type": "stream",
     "text": [
      "                   all         27         28      0.933          1      0.992      0.745      0.648      0.607      0.462      0.182\n"
     ]
    },
    {
     "name": "stderr",
     "output_type": "stream",
     "text": [
      "\n"
     ]
    },
    {
     "name": "stdout",
     "output_type": "stream",
     "text": [
      "\n",
      "      Epoch    GPU_mem   box_loss  pose_loss  kobj_loss   cls_loss   dfl_loss  Instances       Size\n"
     ]
    },
    {
     "name": "stderr",
     "output_type": "stream",
     "text": [
      "      50/50      8.17G     0.4555      1.704    0.05191     0.3981     0.8409          3        640: 100%|██████████| 9/9 [01:16<00:00,  8.55s/it]\n",
      "                 Class     Images  Instances      Box(P          R      mAP50  mAP50-95)     Pose(P          R      mAP50  mAP50-95): 100%|██████████| 1/1 [00:04<00:00,  4.21s/it]"
     ]
    },
    {
     "name": "stdout",
     "output_type": "stream",
     "text": [
      "                   all         27         28      0.964      0.962      0.992      0.756      0.647      0.607      0.472      0.191\n"
     ]
    },
    {
     "name": "stderr",
     "output_type": "stream",
     "text": [
      "\n"
     ]
    },
    {
     "name": "stdout",
     "output_type": "stream",
     "text": [
      "\n",
      "50 epochs completed in 1.220 hours.\n",
      "Optimizer stripped from C:\\Users\\User\\Desktop\\YOLO_model_training\\runs\\train\\pose\\train\\weights\\last.pt, 42.2MB\n",
      "Optimizer stripped from C:\\Users\\User\\Desktop\\YOLO_model_training\\runs\\train\\pose\\train\\weights\\best.pt, 42.2MB\n",
      "\n",
      "Validating C:\\Users\\User\\Desktop\\YOLO_model_training\\runs\\train\\pose\\train\\weights\\best.pt...\n",
      "Ultralytics 8.3.107  Python-3.12.1 torch-2.6.0+cu124 CUDA:0 (NVIDIA GeForce RTX 3050 Laptop GPU, 4096MiB)\n",
      "YOLO11m-pose summary (fused): 134 layers, 20,889,775 parameters, 0 gradients, 71.4 GFLOPs\n"
     ]
    },
    {
     "name": "stderr",
     "output_type": "stream",
     "text": [
      "                 Class     Images  Instances      Box(P          R      mAP50  mAP50-95)     Pose(P          R      mAP50  mAP50-95): 100%|██████████| 1/1 [00:01<00:00,  1.83s/it]\n"
     ]
    },
    {
     "name": "stdout",
     "output_type": "stream",
     "text": [
      "                   all         27         28      0.964      0.962      0.992      0.756      0.647      0.607      0.472      0.191\n",
      "       standing person         27         28      0.964      0.962      0.992      0.756      0.647      0.607      0.472      0.191\n",
      "Speed: 0.5ms preprocess, 60.0ms inference, 0.0ms loss, 1.2ms postprocess per image\n",
      "Results saved to \u001b[1mC:\\Users\\User\\Desktop\\YOLO_model_training\\runs\\train\\pose\\train\u001b[0m\n"
     ]
    },
    {
     "name": "stderr",
     "output_type": "stream",
     "text": [
      "\u001b[34m\u001b[1mwandb\u001b[0m: \u001b[32m\u001b[41mERROR\u001b[0m The nbformat package was not found. It is required to save notebook history.\n"
     ]
    },
    {
     "data": {
      "text/html": [],
      "text/plain": [
       "<IPython.core.display.HTML object>"
      ]
     },
     "metadata": {},
     "output_type": "display_data"
    },
    {
     "data": {
      "text/html": [
       "<br>    <style><br>        .wandb-row {<br>            display: flex;<br>            flex-direction: row;<br>            flex-wrap: wrap;<br>            justify-content: flex-start;<br>            width: 100%;<br>        }<br>        .wandb-col {<br>            display: flex;<br>            flex-direction: column;<br>            flex-basis: 100%;<br>            flex: 1;<br>            padding: 10px;<br>        }<br>    </style><br><div class=\"wandb-row\"><div class=\"wandb-col\"><h3>Run history:</h3><br/><table class=\"wandb\"><tr><td>lr/pg0</td><td>▁▂▃▄▄▆▆▇▇███▇▇▇▇▆▆▆▆▆▅▅▅▅▄▄▄▄▄▃▃▃▂▂▂▂▂▁▁</td></tr><tr><td>lr/pg1</td><td>▁▂▃▄▅▆▇▇███▇▇▇▇▆▆▆▆▆▅▅▅▅▅▄▄▄▄▄▃▃▃▃▂▂▂▂▁▁</td></tr><tr><td>lr/pg2</td><td>▁▂▃▄▄▆▇▇██▇▇▇▇▇▆▆▆▆▆▅▅▅▅▄▄▄▄▄▃▃▃▃▂▂▂▂▂▁▁</td></tr><tr><td>metrics/mAP50(B)</td><td>▃▇▂▇▇▄▆▅▁▁▃▆▇▄█▇▆▆▇▇████████████████████</td></tr><tr><td>metrics/mAP50(P)</td><td>▁▂▁▄▂▂▂▁▁▁▂▂▂▂▃▃▂▂▂▄▅▆▅▅▅▇▇█▆▇▇▇▆▆▇▇▇▇▇▇</td></tr><tr><td>metrics/mAP50-95(B)</td><td>▂▆▁▇▅▅▄▁▁▁▅▆▄▆▆▆▅▆▆▇▇▇▇███▇██▇██████████</td></tr><tr><td>metrics/mAP50-95(P)</td><td>▁▂▁▃▂▁▂▁▁▁▁▂▁▂▂▂▂▂▂▃▃▄▄▄▄▇██▇▆▇▇▇▇▆▇▇▇▇█</td></tr><tr><td>metrics/precision(B)</td><td>▁▆▂▆▇▄█▆▁▁▄▅▆▄▇▅▆▆▆▇█▇▇█▇███████████████</td></tr><tr><td>metrics/precision(P)</td><td>▁▃▂▄▃▂▄▆▁▁▂▃▄▄▄▃▄▄▅▆▇▆▆▆▇██▇▇▇█▇▇████▇▇▇</td></tr><tr><td>metrics/recall(B)</td><td>▇▇▁▇▆▄▅▄▆▅▄▅▆▅▇█▇▆▆▇████████████████████</td></tr><tr><td>metrics/recall(P)</td><td>▂▃▁▅▃▂▂▂▁▁▁▂▃▂▃▆▃▂▂▅▆▇▆▆▇███▆▇▇▇▇▇▇██▇▇▇</td></tr><tr><td>model/GFLOPs</td><td>▁</td></tr><tr><td>model/parameters</td><td>▁</td></tr><tr><td>model/speed_PyTorch(ms)</td><td>▁</td></tr><tr><td>train/box_loss</td><td>█▄▄▄▄▄▄▄▅▃▃▄▃▃▃▃▃▃▃▃▂▃▃▂▂▂▂▂▂▂▂▂▁▁▁▁▁▁▁▁</td></tr><tr><td>train/cls_loss</td><td>█▅▃▃▃▃▂▂▃▂▂▂▂▂▂▂▂▂▂▂▂▁▁▁▁▁▁▁▁▁▁▁▁▁▁▁▁▁▁▁</td></tr><tr><td>train/dfl_loss</td><td>█▃▃▃▃▃▃▂▄▃▂▃▂▂▂▂▂▂▂▂▂▂▂▂▂▂▂▂▂▂▁▁▂▁▁▁▁▁▁▁</td></tr><tr><td>train/kobj_loss</td><td>█▄▃▄▃▄▄▃▄▃▃▃▃▃▃▃▃▂▂▃▃▃▂▃▂▂▂▂▃▂▃▂▁▁▁▁▁▁▁▁</td></tr><tr><td>train/pose_loss</td><td>██▇▇▇█▇▇█▇▇▇▇▆▅▅▆▆▅▅▄▅▄▄▄▃▃▃▄▃▃▃▂▂▂▂▂▁▁▁</td></tr><tr><td>val/box_loss</td><td>▄▂▆▁▄█▄▅▄▄▅ ▃▃▃▂▂▂▃▂▁▁▁▁▁▁▁▂▂▂▁▁▁▁▁▁▁▁▁▁</td></tr><tr><td>val/cls_loss</td><td>▁▁▇▁▁▁▁▁█ ▂ ▂▁▁▁▁▁▁▁▁▁▁▁▁▁▁▁▁▁▁▁▁▁▁▁▁▁▁▁</td></tr><tr><td>val/dfl_loss</td><td>▁▂▁▂█▂▂▃▃▃ ▂▂▂▂▁▁▂▂▁▁▁▁▁▁▁▁▁▁▁▁▁▁▁▁▁▁▁▁▁</td></tr><tr><td>val/kobj_loss</td><td>▅▂█▂▁▂▂▁▁▁ ▁▂▁▁▁▂▂▂▁▁▁▁▁▁▁▁▁▂▂▂▂▂▂▂▁▁▁▂▁</td></tr><tr><td>val/pose_loss</td><td>▄▄▄▄▇▅▅█▆▅ ▄▄▄▃▄▅▅▄▃▂▂▂▂▃▁▁▁▁▁▁▁▁▁▁▁▁▁▁▁</td></tr></table><br/></div><div class=\"wandb-col\"><h3>Run summary:</h3><br/><table class=\"wandb\"><tr><td>lr/pg0</td><td>5e-05</td></tr><tr><td>lr/pg1</td><td>5e-05</td></tr><tr><td>lr/pg2</td><td>5e-05</td></tr><tr><td>metrics/mAP50(B)</td><td>0.99157</td></tr><tr><td>metrics/mAP50(P)</td><td>0.47227</td></tr><tr><td>metrics/mAP50-95(B)</td><td>0.75582</td></tr><tr><td>metrics/mAP50-95(P)</td><td>0.19118</td></tr><tr><td>metrics/precision(B)</td><td>0.96419</td></tr><tr><td>metrics/precision(P)</td><td>0.64743</td></tr><tr><td>metrics/recall(B)</td><td>0.96166</td></tr><tr><td>metrics/recall(P)</td><td>0.60714</td></tr><tr><td>model/GFLOPs</td><td>71.943</td></tr><tr><td>model/parameters</td><td>20913135</td></tr><tr><td>model/speed_PyTorch(ms)</td><td>109.133</td></tr><tr><td>train/box_loss</td><td>0.45548</td></tr><tr><td>train/cls_loss</td><td>0.39808</td></tr><tr><td>train/dfl_loss</td><td>0.84094</td></tr><tr><td>train/kobj_loss</td><td>0.05191</td></tr><tr><td>train/pose_loss</td><td>1.70441</td></tr><tr><td>val/box_loss</td><td>1.02923</td></tr><tr><td>val/cls_loss</td><td>0.52156</td></tr><tr><td>val/dfl_loss</td><td>0.98366</td></tr><tr><td>val/kobj_loss</td><td>0.08428</td></tr><tr><td>val/pose_loss</td><td>4.19279</td></tr></table><br/></div></div>"
      ],
      "text/plain": [
       "<IPython.core.display.HTML object>"
      ]
     },
     "metadata": {},
     "output_type": "display_data"
    },
    {
     "data": {
      "text/html": [
       " View run <strong style=\"color:#cdcd00\">train</strong> at: <a href='https://wandb.ai/lalka00pq-/Ultralytics/runs/ymi3yrdr' target=\"_blank\">https://wandb.ai/lalka00pq-/Ultralytics/runs/ymi3yrdr</a><br> View project at: <a href='https://wandb.ai/lalka00pq-/Ultralytics' target=\"_blank\">https://wandb.ai/lalka00pq-/Ultralytics</a><br>Synced 5 W&B file(s), 28 media file(s), 18 artifact file(s) and 0 other file(s)"
      ],
      "text/plain": [
       "<IPython.core.display.HTML object>"
      ]
     },
     "metadata": {},
     "output_type": "display_data"
    },
    {
     "data": {
      "text/html": [
       "Find logs at: <code>.\\wandb\\run-20250414_213417-ymi3yrdr\\logs</code>"
      ],
      "text/plain": [
       "<IPython.core.display.HTML object>"
      ]
     },
     "metadata": {},
     "output_type": "display_data"
    },
    {
     "data": {
      "text/plain": [
       "ultralytics.utils.metrics.PoseMetrics object with attributes:\n",
       "\n",
       "ap_class_index: array([0])\n",
       "box: ultralytics.utils.metrics.Metric object\n",
       "confusion_matrix: <ultralytics.utils.metrics.ConfusionMatrix object at 0x0000020262B99820>\n",
       "curves: ['Precision-Recall(B)', 'F1-Confidence(B)', 'Precision-Confidence(B)', 'Recall-Confidence(B)', 'Precision-Recall(P)', 'F1-Confidence(P)', 'Precision-Confidence(P)', 'Recall-Confidence(P)']\n",
       "curves_results: [[array([          0,    0.001001,    0.002002,    0.003003,    0.004004,    0.005005,    0.006006,    0.007007,    0.008008,    0.009009,     0.01001,    0.011011,    0.012012,    0.013013,    0.014014,    0.015015,    0.016016,    0.017017,    0.018018,    0.019019,     0.02002,    0.021021,    0.022022,    0.023023,\n",
       "          0.024024,    0.025025,    0.026026,    0.027027,    0.028028,    0.029029,     0.03003,    0.031031,    0.032032,    0.033033,    0.034034,    0.035035,    0.036036,    0.037037,    0.038038,    0.039039,     0.04004,    0.041041,    0.042042,    0.043043,    0.044044,    0.045045,    0.046046,    0.047047,\n",
       "          0.048048,    0.049049,     0.05005,    0.051051,    0.052052,    0.053053,    0.054054,    0.055055,    0.056056,    0.057057,    0.058058,    0.059059,     0.06006,    0.061061,    0.062062,    0.063063,    0.064064,    0.065065,    0.066066,    0.067067,    0.068068,    0.069069,     0.07007,    0.071071,\n",
       "          0.072072,    0.073073,    0.074074,    0.075075,    0.076076,    0.077077,    0.078078,    0.079079,     0.08008,    0.081081,    0.082082,    0.083083,    0.084084,    0.085085,    0.086086,    0.087087,    0.088088,    0.089089,     0.09009,    0.091091,    0.092092,    0.093093,    0.094094,    0.095095,\n",
       "          0.096096,    0.097097,    0.098098,    0.099099,      0.1001,      0.1011,      0.1021,      0.1031,      0.1041,     0.10511,     0.10611,     0.10711,     0.10811,     0.10911,     0.11011,     0.11111,     0.11211,     0.11311,     0.11411,     0.11512,     0.11612,     0.11712,     0.11812,     0.11912,\n",
       "           0.12012,     0.12112,     0.12212,     0.12312,     0.12412,     0.12513,     0.12613,     0.12713,     0.12813,     0.12913,     0.13013,     0.13113,     0.13213,     0.13313,     0.13413,     0.13514,     0.13614,     0.13714,     0.13814,     0.13914,     0.14014,     0.14114,     0.14214,     0.14314,\n",
       "           0.14414,     0.14515,     0.14615,     0.14715,     0.14815,     0.14915,     0.15015,     0.15115,     0.15215,     0.15315,     0.15415,     0.15516,     0.15616,     0.15716,     0.15816,     0.15916,     0.16016,     0.16116,     0.16216,     0.16316,     0.16416,     0.16517,     0.16617,     0.16717,\n",
       "           0.16817,     0.16917,     0.17017,     0.17117,     0.17217,     0.17317,     0.17417,     0.17518,     0.17618,     0.17718,     0.17818,     0.17918,     0.18018,     0.18118,     0.18218,     0.18318,     0.18418,     0.18519,     0.18619,     0.18719,     0.18819,     0.18919,     0.19019,     0.19119,\n",
       "           0.19219,     0.19319,     0.19419,      0.1952,      0.1962,      0.1972,      0.1982,      0.1992,      0.2002,      0.2012,      0.2022,      0.2032,      0.2042,     0.20521,     0.20621,     0.20721,     0.20821,     0.20921,     0.21021,     0.21121,     0.21221,     0.21321,     0.21421,     0.21522,\n",
       "           0.21622,     0.21722,     0.21822,     0.21922,     0.22022,     0.22122,     0.22222,     0.22322,     0.22422,     0.22523,     0.22623,     0.22723,     0.22823,     0.22923,     0.23023,     0.23123,     0.23223,     0.23323,     0.23423,     0.23524,     0.23624,     0.23724,     0.23824,     0.23924,\n",
       "           0.24024,     0.24124,     0.24224,     0.24324,     0.24424,     0.24525,     0.24625,     0.24725,     0.24825,     0.24925,     0.25025,     0.25125,     0.25225,     0.25325,     0.25425,     0.25526,     0.25626,     0.25726,     0.25826,     0.25926,     0.26026,     0.26126,     0.26226,     0.26326,\n",
       "           0.26426,     0.26527,     0.26627,     0.26727,     0.26827,     0.26927,     0.27027,     0.27127,     0.27227,     0.27327,     0.27427,     0.27528,     0.27628,     0.27728,     0.27828,     0.27928,     0.28028,     0.28128,     0.28228,     0.28328,     0.28428,     0.28529,     0.28629,     0.28729,\n",
       "           0.28829,     0.28929,     0.29029,     0.29129,     0.29229,     0.29329,     0.29429,      0.2953,      0.2963,      0.2973,      0.2983,      0.2993,      0.3003,      0.3013,      0.3023,      0.3033,      0.3043,     0.30531,     0.30631,     0.30731,     0.30831,     0.30931,     0.31031,     0.31131,\n",
       "           0.31231,     0.31331,     0.31431,     0.31532,     0.31632,     0.31732,     0.31832,     0.31932,     0.32032,     0.32132,     0.32232,     0.32332,     0.32432,     0.32533,     0.32633,     0.32733,     0.32833,     0.32933,     0.33033,     0.33133,     0.33233,     0.33333,     0.33433,     0.33534,\n",
       "           0.33634,     0.33734,     0.33834,     0.33934,     0.34034,     0.34134,     0.34234,     0.34334,     0.34434,     0.34535,     0.34635,     0.34735,     0.34835,     0.34935,     0.35035,     0.35135,     0.35235,     0.35335,     0.35435,     0.35536,     0.35636,     0.35736,     0.35836,     0.35936,\n",
       "           0.36036,     0.36136,     0.36236,     0.36336,     0.36436,     0.36537,     0.36637,     0.36737,     0.36837,     0.36937,     0.37037,     0.37137,     0.37237,     0.37337,     0.37437,     0.37538,     0.37638,     0.37738,     0.37838,     0.37938,     0.38038,     0.38138,     0.38238,     0.38338,\n",
       "           0.38438,     0.38539,     0.38639,     0.38739,     0.38839,     0.38939,     0.39039,     0.39139,     0.39239,     0.39339,     0.39439,      0.3954,      0.3964,      0.3974,      0.3984,      0.3994,      0.4004,      0.4014,      0.4024,      0.4034,      0.4044,     0.40541,     0.40641,     0.40741,\n",
       "           0.40841,     0.40941,     0.41041,     0.41141,     0.41241,     0.41341,     0.41441,     0.41542,     0.41642,     0.41742,     0.41842,     0.41942,     0.42042,     0.42142,     0.42242,     0.42342,     0.42442,     0.42543,     0.42643,     0.42743,     0.42843,     0.42943,     0.43043,     0.43143,\n",
       "           0.43243,     0.43343,     0.43443,     0.43544,     0.43644,     0.43744,     0.43844,     0.43944,     0.44044,     0.44144,     0.44244,     0.44344,     0.44444,     0.44545,     0.44645,     0.44745,     0.44845,     0.44945,     0.45045,     0.45145,     0.45245,     0.45345,     0.45445,     0.45546,\n",
       "           0.45646,     0.45746,     0.45846,     0.45946,     0.46046,     0.46146,     0.46246,     0.46346,     0.46446,     0.46547,     0.46647,     0.46747,     0.46847,     0.46947,     0.47047,     0.47147,     0.47247,     0.47347,     0.47447,     0.47548,     0.47648,     0.47748,     0.47848,     0.47948,\n",
       "           0.48048,     0.48148,     0.48248,     0.48348,     0.48448,     0.48549,     0.48649,     0.48749,     0.48849,     0.48949,     0.49049,     0.49149,     0.49249,     0.49349,     0.49449,      0.4955,      0.4965,      0.4975,      0.4985,      0.4995,      0.5005,      0.5015,      0.5025,      0.5035,\n",
       "            0.5045,     0.50551,     0.50651,     0.50751,     0.50851,     0.50951,     0.51051,     0.51151,     0.51251,     0.51351,     0.51451,     0.51552,     0.51652,     0.51752,     0.51852,     0.51952,     0.52052,     0.52152,     0.52252,     0.52352,     0.52452,     0.52553,     0.52653,     0.52753,\n",
       "           0.52853,     0.52953,     0.53053,     0.53153,     0.53253,     0.53353,     0.53453,     0.53554,     0.53654,     0.53754,     0.53854,     0.53954,     0.54054,     0.54154,     0.54254,     0.54354,     0.54454,     0.54555,     0.54655,     0.54755,     0.54855,     0.54955,     0.55055,     0.55155,\n",
       "           0.55255,     0.55355,     0.55455,     0.55556,     0.55656,     0.55756,     0.55856,     0.55956,     0.56056,     0.56156,     0.56256,     0.56356,     0.56456,     0.56557,     0.56657,     0.56757,     0.56857,     0.56957,     0.57057,     0.57157,     0.57257,     0.57357,     0.57457,     0.57558,\n",
       "           0.57658,     0.57758,     0.57858,     0.57958,     0.58058,     0.58158,     0.58258,     0.58358,     0.58458,     0.58559,     0.58659,     0.58759,     0.58859,     0.58959,     0.59059,     0.59159,     0.59259,     0.59359,     0.59459,      0.5956,      0.5966,      0.5976,      0.5986,      0.5996,\n",
       "            0.6006,      0.6016,      0.6026,      0.6036,      0.6046,     0.60561,     0.60661,     0.60761,     0.60861,     0.60961,     0.61061,     0.61161,     0.61261,     0.61361,     0.61461,     0.61562,     0.61662,     0.61762,     0.61862,     0.61962,     0.62062,     0.62162,     0.62262,     0.62362,\n",
       "           0.62462,     0.62563,     0.62663,     0.62763,     0.62863,     0.62963,     0.63063,     0.63163,     0.63263,     0.63363,     0.63463,     0.63564,     0.63664,     0.63764,     0.63864,     0.63964,     0.64064,     0.64164,     0.64264,     0.64364,     0.64464,     0.64565,     0.64665,     0.64765,\n",
       "           0.64865,     0.64965,     0.65065,     0.65165,     0.65265,     0.65365,     0.65465,     0.65566,     0.65666,     0.65766,     0.65866,     0.65966,     0.66066,     0.66166,     0.66266,     0.66366,     0.66466,     0.66567,     0.66667,     0.66767,     0.66867,     0.66967,     0.67067,     0.67167,\n",
       "           0.67267,     0.67367,     0.67467,     0.67568,     0.67668,     0.67768,     0.67868,     0.67968,     0.68068,     0.68168,     0.68268,     0.68368,     0.68468,     0.68569,     0.68669,     0.68769,     0.68869,     0.68969,     0.69069,     0.69169,     0.69269,     0.69369,     0.69469,      0.6957,\n",
       "            0.6967,      0.6977,      0.6987,      0.6997,      0.7007,      0.7017,      0.7027,      0.7037,      0.7047,     0.70571,     0.70671,     0.70771,     0.70871,     0.70971,     0.71071,     0.71171,     0.71271,     0.71371,     0.71471,     0.71572,     0.71672,     0.71772,     0.71872,     0.71972,\n",
       "           0.72072,     0.72172,     0.72272,     0.72372,     0.72472,     0.72573,     0.72673,     0.72773,     0.72873,     0.72973,     0.73073,     0.73173,     0.73273,     0.73373,     0.73473,     0.73574,     0.73674,     0.73774,     0.73874,     0.73974,     0.74074,     0.74174,     0.74274,     0.74374,\n",
       "           0.74474,     0.74575,     0.74675,     0.74775,     0.74875,     0.74975,     0.75075,     0.75175,     0.75275,     0.75375,     0.75475,     0.75576,     0.75676,     0.75776,     0.75876,     0.75976,     0.76076,     0.76176,     0.76276,     0.76376,     0.76476,     0.76577,     0.76677,     0.76777,\n",
       "           0.76877,     0.76977,     0.77077,     0.77177,     0.77277,     0.77377,     0.77477,     0.77578,     0.77678,     0.77778,     0.77878,     0.77978,     0.78078,     0.78178,     0.78278,     0.78378,     0.78478,     0.78579,     0.78679,     0.78779,     0.78879,     0.78979,     0.79079,     0.79179,\n",
       "           0.79279,     0.79379,     0.79479,      0.7958,      0.7968,      0.7978,      0.7988,      0.7998,      0.8008,      0.8018,      0.8028,      0.8038,      0.8048,     0.80581,     0.80681,     0.80781,     0.80881,     0.80981,     0.81081,     0.81181,     0.81281,     0.81381,     0.81481,     0.81582,\n",
       "           0.81682,     0.81782,     0.81882,     0.81982,     0.82082,     0.82182,     0.82282,     0.82382,     0.82482,     0.82583,     0.82683,     0.82783,     0.82883,     0.82983,     0.83083,     0.83183,     0.83283,     0.83383,     0.83483,     0.83584,     0.83684,     0.83784,     0.83884,     0.83984,\n",
       "           0.84084,     0.84184,     0.84284,     0.84384,     0.84484,     0.84585,     0.84685,     0.84785,     0.84885,     0.84985,     0.85085,     0.85185,     0.85285,     0.85385,     0.85485,     0.85586,     0.85686,     0.85786,     0.85886,     0.85986,     0.86086,     0.86186,     0.86286,     0.86386,\n",
       "           0.86486,     0.86587,     0.86687,     0.86787,     0.86887,     0.86987,     0.87087,     0.87187,     0.87287,     0.87387,     0.87487,     0.87588,     0.87688,     0.87788,     0.87888,     0.87988,     0.88088,     0.88188,     0.88288,     0.88388,     0.88488,     0.88589,     0.88689,     0.88789,\n",
       "           0.88889,     0.88989,     0.89089,     0.89189,     0.89289,     0.89389,     0.89489,      0.8959,      0.8969,      0.8979,      0.8989,      0.8999,      0.9009,      0.9019,      0.9029,      0.9039,      0.9049,     0.90591,     0.90691,     0.90791,     0.90891,     0.90991,     0.91091,     0.91191,\n",
       "           0.91291,     0.91391,     0.91491,     0.91592,     0.91692,     0.91792,     0.91892,     0.91992,     0.92092,     0.92192,     0.92292,     0.92392,     0.92492,     0.92593,     0.92693,     0.92793,     0.92893,     0.92993,     0.93093,     0.93193,     0.93293,     0.93393,     0.93493,     0.93594,\n",
       "           0.93694,     0.93794,     0.93894,     0.93994,     0.94094,     0.94194,     0.94294,     0.94394,     0.94494,     0.94595,     0.94695,     0.94795,     0.94895,     0.94995,     0.95095,     0.95195,     0.95295,     0.95395,     0.95495,     0.95596,     0.95696,     0.95796,     0.95896,     0.95996,\n",
       "           0.96096,     0.96196,     0.96296,     0.96396,     0.96496,     0.96597,     0.96697,     0.96797,     0.96897,     0.96997,     0.97097,     0.97197,     0.97297,     0.97397,     0.97497,     0.97598,     0.97698,     0.97798,     0.97898,     0.97998,     0.98098,     0.98198,     0.98298,     0.98398,\n",
       "           0.98498,     0.98599,     0.98699,     0.98799,     0.98899,     0.98999,     0.99099,     0.99199,     0.99299,     0.99399,     0.99499,       0.996,       0.997,       0.998,       0.999,           1]), array([[          1,           1,           1,           1,           1,           1,           1,           1,           1,           1,           1,           1,           1,           1,           1,           1,           1,           1,           1,           1,           1,           1,           1,\n",
       "                  1,           1,           1,           1,           1,           1,           1,           1,           1,           1,           1,           1,           1,           1,           1,           1,           1,           1,           1,           1,           1,           1,           1,\n",
       "                  1,           1,           1,           1,           1,           1,           1,           1,           1,           1,           1,           1,           1,           1,           1,           1,           1,           1,           1,           1,           1,           1,           1,\n",
       "                  1,           1,           1,           1,           1,           1,           1,           1,           1,           1,           1,           1,           1,           1,           1,           1,           1,           1,           1,           1,           1,           1,           1,\n",
       "                  1,           1,           1,           1,           1,           1,           1,           1,           1,           1,           1,           1,           1,           1,           1,           1,           1,           1,           1,           1,           1,           1,           1,\n",
       "                  1,           1,           1,           1,           1,           1,           1,           1,           1,           1,           1,           1,           1,           1,           1,           1,           1,           1,           1,           1,           1,           1,           1,\n",
       "                  1,           1,           1,           1,           1,           1,           1,           1,           1,           1,           1,           1,           1,           1,           1,           1,           1,           1,           1,           1,           1,           1,           1,\n",
       "                  1,           1,           1,           1,           1,           1,           1,           1,           1,           1,           1,           1,           1,           1,           1,           1,           1,           1,           1,           1,           1,           1,           1,\n",
       "                  1,           1,           1,           1,           1,           1,           1,           1,           1,           1,           1,           1,           1,           1,           1,           1,           1,           1,           1,           1,           1,           1,           1,\n",
       "                  1,           1,           1,           1,           1,           1,           1,           1,           1,           1,           1,           1,           1,           1,           1,           1,           1,           1,           1,           1,           1,           1,           1,\n",
       "                  1,           1,           1,           1,           1,           1,           1,           1,           1,           1,           1,           1,           1,           1,           1,           1,           1,           1,           1,           1,           1,           1,           1,\n",
       "                  1,           1,           1,           1,           1,           1,           1,           1,           1,           1,           1,           1,           1,           1,           1,           1,           1,           1,           1,           1,           1,           1,           1,\n",
       "                  1,           1,           1,           1,           1,           1,           1,           1,           1,           1,           1,           1,           1,           1,           1,           1,           1,           1,           1,           1,           1,           1,           1,\n",
       "                  1,           1,           1,           1,           1,           1,           1,           1,           1,           1,           1,           1,           1,           1,           1,           1,           1,           1,           1,           1,           1,           1,           1,\n",
       "                  1,           1,           1,           1,           1,           1,           1,           1,           1,           1,           1,           1,           1,           1,           1,           1,           1,           1,           1,           1,           1,           1,           1,\n",
       "                  1,           1,           1,           1,           1,           1,           1,           1,           1,           1,           1,           1,           1,           1,           1,           1,           1,           1,           1,           1,           1,           1,           1,\n",
       "                  1,           1,           1,           1,           1,           1,           1,           1,           1,           1,           1,           1,           1,           1,           1,           1,           1,           1,           1,           1,           1,           1,           1,\n",
       "                  1,           1,           1,           1,           1,           1,           1,           1,           1,           1,           1,           1,           1,           1,           1,           1,           1,           1,           1,           1,           1,           1,           1,\n",
       "                  1,           1,           1,           1,           1,           1,           1,           1,           1,           1,           1,           1,           1,           1,           1,           1,           1,           1,           1,           1,           1,           1,           1,\n",
       "                  1,           1,           1,           1,           1,           1,           1,           1,           1,           1,           1,           1,           1,           1,           1,           1,           1,           1,           1,           1,           1,           1,           1,\n",
       "                  1,           1,           1,           1,           1,           1,           1,           1,           1,           1,           1,           1,           1,           1,           1,           1,           1,           1,           1,           1,           1,           1,           1,\n",
       "                  1,           1,           1,           1,           1,           1,           1,           1,           1,           1,           1,           1,           1,           1,           1,           1,           1,           1,           1,           1,           1,           1,           1,\n",
       "                  1,           1,           1,           1,           1,           1,           1,           1,           1,           1,           1,           1,           1,           1,           1,           1,           1,           1,           1,           1,           1,           1,           1,\n",
       "                  1,           1,           1,           1,           1,           1,           1,           1,           1,           1,           1,           1,           1,           1,           1,           1,           1,           1,           1,           1,           1,           1,           1,\n",
       "                  1,           1,           1,           1,           1,           1,           1,           1,           1,           1,           1,           1,           1,           1,           1,           1,           1,           1,           1,           1,           1,           1,           1,\n",
       "                  1,           1,           1,           1,           1,           1,           1,           1,           1,           1,           1,           1,           1,           1,           1,           1,           1,           1,           1,           1,           1,           1,           1,\n",
       "                  1,           1,           1,           1,           1,           1,           1,           1,           1,           1,           1,           1,           1,           1,           1,           1,           1,           1,           1,           1,           1,           1,           1,\n",
       "                  1,           1,           1,           1,           1,           1,           1,           1,           1,           1,           1,           1,           1,           1,           1,           1,           1,           1,           1,           1,           1,           1,           1,\n",
       "                  1,           1,           1,           1,           1,           1,           1,           1,           1,           1,           1,           1,           1,           1,           1,           1,           1,           1,           1,           1,           1,           1,           1,\n",
       "                  1,           1,           1,           1,           1,           1,           1,           1,           1,           1,           1,           1,           1,           1,           1,           1,           1,           1,           1,           1,           1,           1,           1,\n",
       "                  1,           1,           1,           1,           1,           1,           1,           1,           1,           1,           1,           1,           1,           1,           1,           1,           1,           1,           1,           1,           1,           1,           1,\n",
       "                  1,           1,           1,           1,           1,           1,           1,           1,           1,           1,           1,           1,           1,           1,           1,           1,           1,           1,           1,           1,           1,           1,           1,\n",
       "                  1,           1,           1,           1,           1,           1,           1,           1,           1,           1,           1,           1,           1,           1,           1,           1,           1,           1,           1,           1,           1,           1,           1,\n",
       "                  1,           1,           1,           1,           1,           1,           1,           1,           1,           1,           1,           1,           1,           1,           1,           1,           1,           1,           1,           1,           1,           1,           1,\n",
       "                  1,           1,           1,           1,           1,           1,           1,           1,           1,           1,           1,           1,           1,           1,           1,           1,           1,           1,           1,           1,           1,           1,           1,\n",
       "                  1,           1,           1,           1,           1,           1,           1,           1,           1,           1,           1,           1,           1,           1,           1,           1,           1,           1,           1,           1,           1,           1,           1,\n",
       "                  1,           1,           1,           1,           1,           1,           1,           1,           1,           1,           1,           1,           1,           1,           1,           1,           1,           1,           1,           1,           1,           1,           1,\n",
       "                  1,           1,           1,           1,           1,           1,           1,           1,           1,           1,           1,           1,           1,           1,           1,           1,           1,           1,           1,           1,           1,           1,           1,\n",
       "                  1,           1,           1,           1,           1,           1,           1,           1,           1,           1,           1,           1,           1,           1,           1,           1,           1,           1,           1,           1,           1,           1,           1,\n",
       "                  1,           1,           1,           1,           1,           1,           1,           1,           1,           1,           1,           1,           1,           1,           1,           1,           1,           1,           1,           1,           1,           1,           1,\n",
       "                  1,           1,           1,           1,           1,           1,           1,           1,     0.96429,     0.96429,     0.96429,     0.96429,     0.96429,     0.96429,     0.96429,     0.96429,     0.96429,     0.96429,     0.96429,     0.96429,     0.96429,     0.96429,     0.96429,\n",
       "            0.96429,     0.96429,     0.96429,     0.96429,     0.96429,     0.96429,     0.96429,     0.96429,     0.96429,     0.96429,     0.96429,     0.96429,     0.96429,     0.96429,     0.96429,     0.96429,     0.96429,     0.96429,     0.96429,     0.96429,     0.96429,     0.93333,     0.93333,\n",
       "            0.93333,     0.93333,     0.93333,     0.93333,     0.93333,     0.93333,     0.93333,     0.93333,     0.93333,     0.93333,     0.93333,     0.93333,     0.93333,     0.93333,     0.93333,     0.93333,     0.93333,     0.93333,     0.93333,     0.93333,     0.93333,     0.93333,     0.93333,\n",
       "            0.93333,     0.93333,     0.93333,     0.93333,     0.93333,     0.93333,     0.93333,     0.93333,     0.93333,     0.93333,           0]]), 'Recall', 'Precision'], [array([          0,    0.001001,    0.002002,    0.003003,    0.004004,    0.005005,    0.006006,    0.007007,    0.008008,    0.009009,     0.01001,    0.011011,    0.012012,    0.013013,    0.014014,    0.015015,    0.016016,    0.017017,    0.018018,    0.019019,     0.02002,    0.021021,    0.022022,    0.023023,\n",
       "          0.024024,    0.025025,    0.026026,    0.027027,    0.028028,    0.029029,     0.03003,    0.031031,    0.032032,    0.033033,    0.034034,    0.035035,    0.036036,    0.037037,    0.038038,    0.039039,     0.04004,    0.041041,    0.042042,    0.043043,    0.044044,    0.045045,    0.046046,    0.047047,\n",
       "          0.048048,    0.049049,     0.05005,    0.051051,    0.052052,    0.053053,    0.054054,    0.055055,    0.056056,    0.057057,    0.058058,    0.059059,     0.06006,    0.061061,    0.062062,    0.063063,    0.064064,    0.065065,    0.066066,    0.067067,    0.068068,    0.069069,     0.07007,    0.071071,\n",
       "          0.072072,    0.073073,    0.074074,    0.075075,    0.076076,    0.077077,    0.078078,    0.079079,     0.08008,    0.081081,    0.082082,    0.083083,    0.084084,    0.085085,    0.086086,    0.087087,    0.088088,    0.089089,     0.09009,    0.091091,    0.092092,    0.093093,    0.094094,    0.095095,\n",
       "          0.096096,    0.097097,    0.098098,    0.099099,      0.1001,      0.1011,      0.1021,      0.1031,      0.1041,     0.10511,     0.10611,     0.10711,     0.10811,     0.10911,     0.11011,     0.11111,     0.11211,     0.11311,     0.11411,     0.11512,     0.11612,     0.11712,     0.11812,     0.11912,\n",
       "           0.12012,     0.12112,     0.12212,     0.12312,     0.12412,     0.12513,     0.12613,     0.12713,     0.12813,     0.12913,     0.13013,     0.13113,     0.13213,     0.13313,     0.13413,     0.13514,     0.13614,     0.13714,     0.13814,     0.13914,     0.14014,     0.14114,     0.14214,     0.14314,\n",
       "           0.14414,     0.14515,     0.14615,     0.14715,     0.14815,     0.14915,     0.15015,     0.15115,     0.15215,     0.15315,     0.15415,     0.15516,     0.15616,     0.15716,     0.15816,     0.15916,     0.16016,     0.16116,     0.16216,     0.16316,     0.16416,     0.16517,     0.16617,     0.16717,\n",
       "           0.16817,     0.16917,     0.17017,     0.17117,     0.17217,     0.17317,     0.17417,     0.17518,     0.17618,     0.17718,     0.17818,     0.17918,     0.18018,     0.18118,     0.18218,     0.18318,     0.18418,     0.18519,     0.18619,     0.18719,     0.18819,     0.18919,     0.19019,     0.19119,\n",
       "           0.19219,     0.19319,     0.19419,      0.1952,      0.1962,      0.1972,      0.1982,      0.1992,      0.2002,      0.2012,      0.2022,      0.2032,      0.2042,     0.20521,     0.20621,     0.20721,     0.20821,     0.20921,     0.21021,     0.21121,     0.21221,     0.21321,     0.21421,     0.21522,\n",
       "           0.21622,     0.21722,     0.21822,     0.21922,     0.22022,     0.22122,     0.22222,     0.22322,     0.22422,     0.22523,     0.22623,     0.22723,     0.22823,     0.22923,     0.23023,     0.23123,     0.23223,     0.23323,     0.23423,     0.23524,     0.23624,     0.23724,     0.23824,     0.23924,\n",
       "           0.24024,     0.24124,     0.24224,     0.24324,     0.24424,     0.24525,     0.24625,     0.24725,     0.24825,     0.24925,     0.25025,     0.25125,     0.25225,     0.25325,     0.25425,     0.25526,     0.25626,     0.25726,     0.25826,     0.25926,     0.26026,     0.26126,     0.26226,     0.26326,\n",
       "           0.26426,     0.26527,     0.26627,     0.26727,     0.26827,     0.26927,     0.27027,     0.27127,     0.27227,     0.27327,     0.27427,     0.27528,     0.27628,     0.27728,     0.27828,     0.27928,     0.28028,     0.28128,     0.28228,     0.28328,     0.28428,     0.28529,     0.28629,     0.28729,\n",
       "           0.28829,     0.28929,     0.29029,     0.29129,     0.29229,     0.29329,     0.29429,      0.2953,      0.2963,      0.2973,      0.2983,      0.2993,      0.3003,      0.3013,      0.3023,      0.3033,      0.3043,     0.30531,     0.30631,     0.30731,     0.30831,     0.30931,     0.31031,     0.31131,\n",
       "           0.31231,     0.31331,     0.31431,     0.31532,     0.31632,     0.31732,     0.31832,     0.31932,     0.32032,     0.32132,     0.32232,     0.32332,     0.32432,     0.32533,     0.32633,     0.32733,     0.32833,     0.32933,     0.33033,     0.33133,     0.33233,     0.33333,     0.33433,     0.33534,\n",
       "           0.33634,     0.33734,     0.33834,     0.33934,     0.34034,     0.34134,     0.34234,     0.34334,     0.34434,     0.34535,     0.34635,     0.34735,     0.34835,     0.34935,     0.35035,     0.35135,     0.35235,     0.35335,     0.35435,     0.35536,     0.35636,     0.35736,     0.35836,     0.35936,\n",
       "           0.36036,     0.36136,     0.36236,     0.36336,     0.36436,     0.36537,     0.36637,     0.36737,     0.36837,     0.36937,     0.37037,     0.37137,     0.37237,     0.37337,     0.37437,     0.37538,     0.37638,     0.37738,     0.37838,     0.37938,     0.38038,     0.38138,     0.38238,     0.38338,\n",
       "           0.38438,     0.38539,     0.38639,     0.38739,     0.38839,     0.38939,     0.39039,     0.39139,     0.39239,     0.39339,     0.39439,      0.3954,      0.3964,      0.3974,      0.3984,      0.3994,      0.4004,      0.4014,      0.4024,      0.4034,      0.4044,     0.40541,     0.40641,     0.40741,\n",
       "           0.40841,     0.40941,     0.41041,     0.41141,     0.41241,     0.41341,     0.41441,     0.41542,     0.41642,     0.41742,     0.41842,     0.41942,     0.42042,     0.42142,     0.42242,     0.42342,     0.42442,     0.42543,     0.42643,     0.42743,     0.42843,     0.42943,     0.43043,     0.43143,\n",
       "           0.43243,     0.43343,     0.43443,     0.43544,     0.43644,     0.43744,     0.43844,     0.43944,     0.44044,     0.44144,     0.44244,     0.44344,     0.44444,     0.44545,     0.44645,     0.44745,     0.44845,     0.44945,     0.45045,     0.45145,     0.45245,     0.45345,     0.45445,     0.45546,\n",
       "           0.45646,     0.45746,     0.45846,     0.45946,     0.46046,     0.46146,     0.46246,     0.46346,     0.46446,     0.46547,     0.46647,     0.46747,     0.46847,     0.46947,     0.47047,     0.47147,     0.47247,     0.47347,     0.47447,     0.47548,     0.47648,     0.47748,     0.47848,     0.47948,\n",
       "           0.48048,     0.48148,     0.48248,     0.48348,     0.48448,     0.48549,     0.48649,     0.48749,     0.48849,     0.48949,     0.49049,     0.49149,     0.49249,     0.49349,     0.49449,      0.4955,      0.4965,      0.4975,      0.4985,      0.4995,      0.5005,      0.5015,      0.5025,      0.5035,\n",
       "            0.5045,     0.50551,     0.50651,     0.50751,     0.50851,     0.50951,     0.51051,     0.51151,     0.51251,     0.51351,     0.51451,     0.51552,     0.51652,     0.51752,     0.51852,     0.51952,     0.52052,     0.52152,     0.52252,     0.52352,     0.52452,     0.52553,     0.52653,     0.52753,\n",
       "           0.52853,     0.52953,     0.53053,     0.53153,     0.53253,     0.53353,     0.53453,     0.53554,     0.53654,     0.53754,     0.53854,     0.53954,     0.54054,     0.54154,     0.54254,     0.54354,     0.54454,     0.54555,     0.54655,     0.54755,     0.54855,     0.54955,     0.55055,     0.55155,\n",
       "           0.55255,     0.55355,     0.55455,     0.55556,     0.55656,     0.55756,     0.55856,     0.55956,     0.56056,     0.56156,     0.56256,     0.56356,     0.56456,     0.56557,     0.56657,     0.56757,     0.56857,     0.56957,     0.57057,     0.57157,     0.57257,     0.57357,     0.57457,     0.57558,\n",
       "           0.57658,     0.57758,     0.57858,     0.57958,     0.58058,     0.58158,     0.58258,     0.58358,     0.58458,     0.58559,     0.58659,     0.58759,     0.58859,     0.58959,     0.59059,     0.59159,     0.59259,     0.59359,     0.59459,      0.5956,      0.5966,      0.5976,      0.5986,      0.5996,\n",
       "            0.6006,      0.6016,      0.6026,      0.6036,      0.6046,     0.60561,     0.60661,     0.60761,     0.60861,     0.60961,     0.61061,     0.61161,     0.61261,     0.61361,     0.61461,     0.61562,     0.61662,     0.61762,     0.61862,     0.61962,     0.62062,     0.62162,     0.62262,     0.62362,\n",
       "           0.62462,     0.62563,     0.62663,     0.62763,     0.62863,     0.62963,     0.63063,     0.63163,     0.63263,     0.63363,     0.63463,     0.63564,     0.63664,     0.63764,     0.63864,     0.63964,     0.64064,     0.64164,     0.64264,     0.64364,     0.64464,     0.64565,     0.64665,     0.64765,\n",
       "           0.64865,     0.64965,     0.65065,     0.65165,     0.65265,     0.65365,     0.65465,     0.65566,     0.65666,     0.65766,     0.65866,     0.65966,     0.66066,     0.66166,     0.66266,     0.66366,     0.66466,     0.66567,     0.66667,     0.66767,     0.66867,     0.66967,     0.67067,     0.67167,\n",
       "           0.67267,     0.67367,     0.67467,     0.67568,     0.67668,     0.67768,     0.67868,     0.67968,     0.68068,     0.68168,     0.68268,     0.68368,     0.68468,     0.68569,     0.68669,     0.68769,     0.68869,     0.68969,     0.69069,     0.69169,     0.69269,     0.69369,     0.69469,      0.6957,\n",
       "            0.6967,      0.6977,      0.6987,      0.6997,      0.7007,      0.7017,      0.7027,      0.7037,      0.7047,     0.70571,     0.70671,     0.70771,     0.70871,     0.70971,     0.71071,     0.71171,     0.71271,     0.71371,     0.71471,     0.71572,     0.71672,     0.71772,     0.71872,     0.71972,\n",
       "           0.72072,     0.72172,     0.72272,     0.72372,     0.72472,     0.72573,     0.72673,     0.72773,     0.72873,     0.72973,     0.73073,     0.73173,     0.73273,     0.73373,     0.73473,     0.73574,     0.73674,     0.73774,     0.73874,     0.73974,     0.74074,     0.74174,     0.74274,     0.74374,\n",
       "           0.74474,     0.74575,     0.74675,     0.74775,     0.74875,     0.74975,     0.75075,     0.75175,     0.75275,     0.75375,     0.75475,     0.75576,     0.75676,     0.75776,     0.75876,     0.75976,     0.76076,     0.76176,     0.76276,     0.76376,     0.76476,     0.76577,     0.76677,     0.76777,\n",
       "           0.76877,     0.76977,     0.77077,     0.77177,     0.77277,     0.77377,     0.77477,     0.77578,     0.77678,     0.77778,     0.77878,     0.77978,     0.78078,     0.78178,     0.78278,     0.78378,     0.78478,     0.78579,     0.78679,     0.78779,     0.78879,     0.78979,     0.79079,     0.79179,\n",
       "           0.79279,     0.79379,     0.79479,      0.7958,      0.7968,      0.7978,      0.7988,      0.7998,      0.8008,      0.8018,      0.8028,      0.8038,      0.8048,     0.80581,     0.80681,     0.80781,     0.80881,     0.80981,     0.81081,     0.81181,     0.81281,     0.81381,     0.81481,     0.81582,\n",
       "           0.81682,     0.81782,     0.81882,     0.81982,     0.82082,     0.82182,     0.82282,     0.82382,     0.82482,     0.82583,     0.82683,     0.82783,     0.82883,     0.82983,     0.83083,     0.83183,     0.83283,     0.83383,     0.83483,     0.83584,     0.83684,     0.83784,     0.83884,     0.83984,\n",
       "           0.84084,     0.84184,     0.84284,     0.84384,     0.84484,     0.84585,     0.84685,     0.84785,     0.84885,     0.84985,     0.85085,     0.85185,     0.85285,     0.85385,     0.85485,     0.85586,     0.85686,     0.85786,     0.85886,     0.85986,     0.86086,     0.86186,     0.86286,     0.86386,\n",
       "           0.86486,     0.86587,     0.86687,     0.86787,     0.86887,     0.86987,     0.87087,     0.87187,     0.87287,     0.87387,     0.87487,     0.87588,     0.87688,     0.87788,     0.87888,     0.87988,     0.88088,     0.88188,     0.88288,     0.88388,     0.88488,     0.88589,     0.88689,     0.88789,\n",
       "           0.88889,     0.88989,     0.89089,     0.89189,     0.89289,     0.89389,     0.89489,      0.8959,      0.8969,      0.8979,      0.8989,      0.8999,      0.9009,      0.9019,      0.9029,      0.9039,      0.9049,     0.90591,     0.90691,     0.90791,     0.90891,     0.90991,     0.91091,     0.91191,\n",
       "           0.91291,     0.91391,     0.91491,     0.91592,     0.91692,     0.91792,     0.91892,     0.91992,     0.92092,     0.92192,     0.92292,     0.92392,     0.92492,     0.92593,     0.92693,     0.92793,     0.92893,     0.92993,     0.93093,     0.93193,     0.93293,     0.93393,     0.93493,     0.93594,\n",
       "           0.93694,     0.93794,     0.93894,     0.93994,     0.94094,     0.94194,     0.94294,     0.94394,     0.94494,     0.94595,     0.94695,     0.94795,     0.94895,     0.94995,     0.95095,     0.95195,     0.95295,     0.95395,     0.95495,     0.95596,     0.95696,     0.95796,     0.95896,     0.95996,\n",
       "           0.96096,     0.96196,     0.96296,     0.96396,     0.96496,     0.96597,     0.96697,     0.96797,     0.96897,     0.96997,     0.97097,     0.97197,     0.97297,     0.97397,     0.97497,     0.97598,     0.97698,     0.97798,     0.97898,     0.97998,     0.98098,     0.98198,     0.98298,     0.98398,\n",
       "           0.98498,     0.98599,     0.98699,     0.98799,     0.98899,     0.98999,     0.99099,     0.99199,     0.99299,     0.99399,     0.99499,       0.996,       0.997,       0.998,       0.999,           1]), array([[     0.6747,      0.6747,     0.81577,     0.86152,       0.904,     0.92953,     0.93595,     0.93904,      0.9421,     0.94515,     0.94819,      0.9493,     0.94951,     0.94973,     0.94994,     0.95016,     0.95037,     0.95059,      0.9508,     0.95102,     0.95123,     0.95145,     0.95166,\n",
       "            0.95188,     0.95209,     0.95231,     0.95252,     0.95273,     0.95295,     0.95316,     0.95337,     0.95359,      0.9538,     0.95402,     0.95423,     0.95444,     0.95465,     0.95487,     0.95508,     0.95529,     0.95551,     0.95572,     0.95593,     0.95614,     0.95636,     0.95657,\n",
       "            0.95678,     0.95699,     0.95721,     0.95742,     0.95763,     0.95784,     0.95805,     0.95827,     0.95848,     0.95869,      0.9589,     0.95911,     0.95932,     0.95953,     0.95975,     0.95996,     0.96017,     0.96038,     0.96059,      0.9608,     0.96101,     0.96122,     0.96143,\n",
       "            0.96164,     0.96185,     0.96206,     0.96227,     0.96248,     0.96269,      0.9629,     0.96311,     0.96332,     0.96353,     0.96374,     0.96395,     0.96416,     0.96437,     0.96458,     0.96479,       0.965,      0.9652,     0.96541,      0.9654,     0.96517,     0.96493,      0.9647,\n",
       "            0.96446,     0.96423,     0.96399,     0.96376,     0.96352,     0.96329,     0.96305,     0.96282,     0.96258,     0.96234,     0.96211,     0.96187,     0.96164,      0.9614,     0.96117,     0.96093,     0.96069,     0.96046,     0.96022,     0.95998,     0.95975,     0.95951,     0.95927,\n",
       "            0.95904,      0.9588,     0.95856,     0.95833,     0.95809,     0.95785,     0.95761,     0.95738,     0.95714,      0.9569,     0.95666,     0.95643,     0.95619,     0.95595,     0.95571,     0.95547,     0.95523,       0.955,     0.95476,     0.95452,     0.95428,     0.95404,      0.9538,\n",
       "            0.95356,     0.95332,     0.95308,     0.95285,     0.95261,     0.95237,     0.95213,     0.95189,     0.95165,     0.95141,     0.95117,     0.95093,     0.95069,     0.95045,     0.95021,     0.94997,     0.94973,     0.94948,     0.94924,       0.949,     0.94876,     0.94852,     0.94828,\n",
       "            0.94804,      0.9478,     0.94756,     0.94742,     0.94763,     0.94784,     0.94805,     0.94826,     0.94848,     0.94869,      0.9489,     0.94911,     0.94932,     0.94953,     0.94975,     0.94996,     0.95017,     0.95038,     0.95059,      0.9508,     0.95101,     0.95122,     0.95143,\n",
       "            0.95164,     0.95185,     0.95206,     0.95227,     0.95248,     0.95269,      0.9529,     0.95311,     0.95332,     0.95353,     0.95374,     0.95395,     0.95416,     0.95437,     0.95458,     0.95479,       0.955,     0.95521,     0.95542,     0.95562,     0.95583,     0.95604,     0.95625,\n",
       "            0.95646,     0.95667,     0.95687,     0.95708,     0.95729,      0.9575,     0.95771,     0.95791,     0.95812,     0.95833,     0.95854,     0.95874,     0.95895,     0.95916,     0.95937,     0.95957,     0.95978,     0.95999,     0.96019,      0.9604,     0.96061,     0.96081,     0.96102,\n",
       "            0.96123,     0.96143,     0.96164,     0.96185,     0.96205,     0.96226,     0.96246,     0.96267,     0.96287,     0.96308,     0.96329,     0.96349,      0.9637,      0.9639,     0.96411,     0.96427,     0.96413,       0.964,     0.96387,     0.96373,      0.9636,     0.96346,     0.96333,\n",
       "            0.96319,     0.96306,     0.96292,     0.96279,     0.96265,     0.96252,     0.96238,     0.96225,     0.96211,     0.96198,     0.96184,     0.96171,     0.96157,     0.96144,      0.9613,     0.96117,     0.96103,      0.9609,     0.96076,     0.96063,     0.96049,     0.96036,     0.96022,\n",
       "            0.96009,     0.95995,     0.95982,     0.95968,     0.95955,     0.95941,     0.95927,     0.95914,       0.959,     0.95887,     0.95873,      0.9586,     0.95846,     0.95832,     0.95819,     0.95805,     0.95792,     0.95778,     0.95764,     0.95751,     0.95737,     0.95724,      0.9571,\n",
       "            0.95696,     0.95683,     0.95669,     0.95656,     0.95642,     0.95628,     0.95615,     0.95601,     0.95587,     0.95574,      0.9556,     0.95546,     0.95533,     0.95519,     0.95505,     0.95492,     0.95478,     0.95464,     0.95451,     0.95437,     0.95423,      0.9541,     0.95396,\n",
       "            0.95382,     0.95369,     0.95355,     0.95341,     0.95328,     0.95314,       0.953,     0.95286,     0.95273,     0.95259,     0.95245,     0.95232,     0.95218,     0.95204,      0.9519,     0.95177,     0.95163,     0.95149,     0.95135,     0.95122,     0.95108,     0.95094,      0.9508,\n",
       "            0.95067,     0.95053,     0.95039,     0.95025,     0.95011,     0.94998,     0.94984,      0.9497,     0.94956,     0.94943,     0.94929,     0.94915,     0.94901,     0.94887,     0.94873,      0.9486,     0.94846,     0.94832,     0.94818,     0.94804,     0.94791,     0.94777,     0.94763,\n",
       "            0.94749,     0.94735,     0.94721,     0.94707,     0.94694,      0.9468,     0.94666,     0.94652,     0.94638,     0.94624,      0.9461,     0.94596,     0.94583,     0.94569,     0.94555,     0.94549,     0.94559,      0.9457,      0.9458,     0.94591,     0.94601,     0.94612,     0.94622,\n",
       "            0.94633,     0.94643,     0.94653,     0.94664,     0.94674,     0.94685,     0.94695,     0.94706,     0.94716,     0.94727,     0.94737,     0.94747,     0.94758,     0.94768,     0.94779,     0.94789,     0.94799,      0.9481,      0.9482,     0.94831,     0.94841,     0.94851,     0.94862,\n",
       "            0.94872,     0.94883,     0.94893,     0.94903,     0.94914,     0.94924,     0.94935,     0.94945,     0.94955,     0.94966,     0.94976,     0.94987,     0.94997,     0.95007,     0.95018,     0.95028,     0.95038,     0.95049,     0.95059,     0.95069,      0.9508,      0.9509,       0.951,\n",
       "            0.95111,     0.95121,     0.95131,     0.95142,     0.95152,     0.95162,     0.95173,     0.95183,     0.95193,     0.95204,     0.95214,     0.95224,     0.95235,     0.95245,     0.95255,     0.95266,     0.95276,     0.95286,     0.95297,     0.95307,     0.95317,     0.95327,     0.95338,\n",
       "            0.95348,     0.95358,     0.95369,     0.95379,     0.95389,     0.95399,      0.9541,      0.9542,      0.9543,      0.9544,     0.95451,     0.95461,     0.95471,     0.95482,     0.95492,     0.95502,     0.95512,     0.95523,     0.95533,     0.95543,     0.95553,     0.95564,     0.95574,\n",
       "            0.95584,     0.95594,     0.95604,     0.95615,     0.95625,     0.95635,     0.95645,     0.95656,     0.95666,     0.95676,     0.95686,     0.95696,     0.95707,     0.95717,     0.95727,     0.95737,     0.95747,     0.95758,     0.95768,     0.95778,     0.95788,     0.95798,     0.95809,\n",
       "            0.95819,     0.95829,     0.95839,     0.95849,     0.95859,      0.9587,      0.9588,      0.9589,       0.959,      0.9591,      0.9592,     0.95931,     0.95941,     0.95951,     0.95961,     0.95971,     0.95981,     0.95991,     0.96002,     0.96012,     0.96022,     0.96032,     0.96042,\n",
       "            0.96052,     0.96062,     0.96073,     0.96083,     0.96093,     0.96103,     0.96113,     0.96123,     0.96133,     0.96143,     0.96153,     0.96164,     0.96174,     0.96184,     0.96194,     0.96204,     0.96214,     0.96224,     0.96234,     0.96244,     0.96254,     0.96264,     0.96275,\n",
       "            0.96285,     0.96295,     0.96219,     0.96127,     0.96035,     0.95943,     0.95851,     0.95759,     0.95666,     0.95573,      0.9548,     0.95387,     0.95294,     0.95201,     0.95107,     0.95013,     0.94919,     0.94825,     0.94731,     0.94636,     0.94542,     0.94447,     0.94352,\n",
       "            0.94322,     0.94301,      0.9428,     0.94259,     0.94238,     0.94217,     0.94196,     0.94175,     0.94154,     0.94133,     0.94113,     0.94092,     0.94071,      0.9405,     0.94029,     0.94008,     0.93987,     0.93966,     0.93945,     0.93924,     0.93903,     0.93882,     0.93861,\n",
       "             0.9384,     0.93819,     0.93797,     0.93776,     0.93755,     0.93734,     0.93713,     0.93692,     0.93671,      0.9365,     0.93629,     0.93608,     0.93586,     0.93565,     0.93544,     0.93523,     0.93502,     0.93481,     0.93459,     0.93438,     0.93417,     0.93396,     0.93374,\n",
       "            0.93353,     0.93332,     0.93311,     0.93289,     0.93268,     0.93247,     0.93226,     0.93204,     0.93183,     0.93162,      0.9314,     0.93119,     0.93098,     0.93076,     0.93055,     0.93034,     0.93012,     0.92991,     0.92969,     0.92948,     0.92927,     0.92905,     0.92884,\n",
       "            0.92862,     0.92841,     0.92819,     0.92798,     0.92777,     0.92755,     0.92734,     0.92712,     0.92691,     0.92669,     0.92648,     0.92626,     0.92604,     0.92583,     0.92561,      0.9254,     0.92518,     0.92497,     0.92475,     0.92453,     0.92432,      0.9241,     0.92389,\n",
       "            0.92367,     0.92345,     0.92324,     0.92293,     0.92235,     0.92178,      0.9212,     0.92063,     0.92005,     0.91947,      0.9189,     0.91832,     0.91774,     0.91716,     0.91658,       0.916,     0.91541,     0.91483,     0.91425,     0.91367,     0.91308,      0.9125,     0.91191,\n",
       "            0.91133,     0.91074,     0.91015,     0.90956,     0.90898,     0.90839,      0.9078,     0.90721,     0.90662,     0.90602,     0.90543,     0.90484,     0.90424,     0.90365,     0.90306,     0.90246,     0.90187,     0.90135,     0.90082,      0.9003,     0.89977,     0.89924,     0.89871,\n",
       "            0.89818,     0.89765,     0.89712,     0.89659,     0.89606,     0.89553,       0.895,     0.89447,     0.89393,      0.8934,     0.89287,     0.89233,      0.8918,     0.89126,     0.89073,     0.89019,     0.88965,     0.88912,     0.88858,     0.88804,      0.8875,     0.88696,     0.88642,\n",
       "            0.88588,     0.88534,      0.8848,     0.88425,     0.88371,     0.88317,     0.88262,     0.88208,     0.88153,     0.88099,     0.88044,     0.87938,     0.87609,     0.87277,     0.86944,     0.86609,     0.86272,     0.85932,     0.85632,     0.85404,     0.85174,     0.84944,     0.84713,\n",
       "            0.84481,     0.84248,     0.84014,     0.83779,     0.83543,     0.83329,     0.83296,     0.83262,     0.83228,     0.83195,     0.83161,     0.83127,     0.83093,     0.83059,     0.83026,     0.82992,     0.82958,     0.82924,      0.8289,     0.82856,     0.82822,     0.82788,     0.82754,\n",
       "             0.8272,     0.82686,     0.82652,     0.82618,     0.82584,      0.8255,     0.82516,     0.82482,     0.82447,     0.82413,     0.82379,     0.82345,     0.82311,     0.82276,     0.82242,     0.82208,     0.82173,     0.82139,     0.82105,      0.8207,     0.82036,     0.82001,     0.81967,\n",
       "            0.81932,     0.81898,     0.81863,     0.81829,     0.81794,      0.8176,     0.81725,     0.81691,     0.81656,     0.81621,     0.81587,     0.81552,     0.81517,     0.81482,     0.81448,     0.81413,     0.81378,     0.81343,     0.81309,     0.81274,     0.81239,     0.81204,     0.81169,\n",
       "            0.81134,     0.81099,     0.81064,     0.81029,     0.80994,     0.80959,     0.80924,     0.80889,     0.80854,     0.80046,     0.79162,     0.78264,     0.75553,     0.75432,     0.75311,      0.7519,     0.75069,     0.74947,     0.74825,     0.74703,     0.74581,     0.74458,     0.74335,\n",
       "            0.74212,     0.74089,     0.73965,     0.73841,     0.73717,     0.73593,     0.73468,     0.73343,     0.73218,     0.73093,     0.72967,     0.72841,     0.72684,     0.72226,     0.71765,       0.713,     0.70832,      0.7036,     0.69885,      0.6612,     0.65387,     0.64646,     0.63896,\n",
       "            0.63277,     0.62896,     0.62512,     0.62127,     0.61739,     0.61349,     0.60957,     0.60563,     0.60166,     0.58593,     0.56354,      0.5588,     0.55404,     0.54924,      0.5444,     0.53954,     0.53464,     0.52971,     0.52004,     0.49972,     0.48394,      0.4769,     0.46979,\n",
       "            0.46261,     0.45537,     0.44805,     0.43878,     0.42755,     0.41615,     0.40459,     0.39524,     0.38735,     0.37937,     0.37132,     0.36319,     0.35498,     0.33783,     0.31735,     0.29636,     0.27485,     0.25278,     0.24012,     0.22871,     0.21715,     0.20544,     0.19357,\n",
       "            0.18433,       0.175,     0.16557,     0.15605,     0.14642,      0.1367,           0,           0,           0,           0,           0,           0,           0,           0,           0,           0,           0,           0,           0,           0,           0,           0,           0,\n",
       "                  0,           0,           0,           0,           0,           0,           0,           0,           0,           0,           0,           0,           0,           0,           0,           0,           0,           0,           0,           0,           0,           0,           0,\n",
       "                  0,           0,           0,           0,           0,           0,           0,           0,           0,           0,           0,           0,           0,           0,           0,           0,           0,           0,           0,           0,           0,           0,           0,\n",
       "                  0,           0,           0,           0,           0,           0,           0,           0,           0,           0,           0]]), 'Confidence', 'F1'], [array([          0,    0.001001,    0.002002,    0.003003,    0.004004,    0.005005,    0.006006,    0.007007,    0.008008,    0.009009,     0.01001,    0.011011,    0.012012,    0.013013,    0.014014,    0.015015,    0.016016,    0.017017,    0.018018,    0.019019,     0.02002,    0.021021,    0.022022,    0.023023,\n",
       "          0.024024,    0.025025,    0.026026,    0.027027,    0.028028,    0.029029,     0.03003,    0.031031,    0.032032,    0.033033,    0.034034,    0.035035,    0.036036,    0.037037,    0.038038,    0.039039,     0.04004,    0.041041,    0.042042,    0.043043,    0.044044,    0.045045,    0.046046,    0.047047,\n",
       "          0.048048,    0.049049,     0.05005,    0.051051,    0.052052,    0.053053,    0.054054,    0.055055,    0.056056,    0.057057,    0.058058,    0.059059,     0.06006,    0.061061,    0.062062,    0.063063,    0.064064,    0.065065,    0.066066,    0.067067,    0.068068,    0.069069,     0.07007,    0.071071,\n",
       "          0.072072,    0.073073,    0.074074,    0.075075,    0.076076,    0.077077,    0.078078,    0.079079,     0.08008,    0.081081,    0.082082,    0.083083,    0.084084,    0.085085,    0.086086,    0.087087,    0.088088,    0.089089,     0.09009,    0.091091,    0.092092,    0.093093,    0.094094,    0.095095,\n",
       "          0.096096,    0.097097,    0.098098,    0.099099,      0.1001,      0.1011,      0.1021,      0.1031,      0.1041,     0.10511,     0.10611,     0.10711,     0.10811,     0.10911,     0.11011,     0.11111,     0.11211,     0.11311,     0.11411,     0.11512,     0.11612,     0.11712,     0.11812,     0.11912,\n",
       "           0.12012,     0.12112,     0.12212,     0.12312,     0.12412,     0.12513,     0.12613,     0.12713,     0.12813,     0.12913,     0.13013,     0.13113,     0.13213,     0.13313,     0.13413,     0.13514,     0.13614,     0.13714,     0.13814,     0.13914,     0.14014,     0.14114,     0.14214,     0.14314,\n",
       "           0.14414,     0.14515,     0.14615,     0.14715,     0.14815,     0.14915,     0.15015,     0.15115,     0.15215,     0.15315,     0.15415,     0.15516,     0.15616,     0.15716,     0.15816,     0.15916,     0.16016,     0.16116,     0.16216,     0.16316,     0.16416,     0.16517,     0.16617,     0.16717,\n",
       "           0.16817,     0.16917,     0.17017,     0.17117,     0.17217,     0.17317,     0.17417,     0.17518,     0.17618,     0.17718,     0.17818,     0.17918,     0.18018,     0.18118,     0.18218,     0.18318,     0.18418,     0.18519,     0.18619,     0.18719,     0.18819,     0.18919,     0.19019,     0.19119,\n",
       "           0.19219,     0.19319,     0.19419,      0.1952,      0.1962,      0.1972,      0.1982,      0.1992,      0.2002,      0.2012,      0.2022,      0.2032,      0.2042,     0.20521,     0.20621,     0.20721,     0.20821,     0.20921,     0.21021,     0.21121,     0.21221,     0.21321,     0.21421,     0.21522,\n",
       "           0.21622,     0.21722,     0.21822,     0.21922,     0.22022,     0.22122,     0.22222,     0.22322,     0.22422,     0.22523,     0.22623,     0.22723,     0.22823,     0.22923,     0.23023,     0.23123,     0.23223,     0.23323,     0.23423,     0.23524,     0.23624,     0.23724,     0.23824,     0.23924,\n",
       "           0.24024,     0.24124,     0.24224,     0.24324,     0.24424,     0.24525,     0.24625,     0.24725,     0.24825,     0.24925,     0.25025,     0.25125,     0.25225,     0.25325,     0.25425,     0.25526,     0.25626,     0.25726,     0.25826,     0.25926,     0.26026,     0.26126,     0.26226,     0.26326,\n",
       "           0.26426,     0.26527,     0.26627,     0.26727,     0.26827,     0.26927,     0.27027,     0.27127,     0.27227,     0.27327,     0.27427,     0.27528,     0.27628,     0.27728,     0.27828,     0.27928,     0.28028,     0.28128,     0.28228,     0.28328,     0.28428,     0.28529,     0.28629,     0.28729,\n",
       "           0.28829,     0.28929,     0.29029,     0.29129,     0.29229,     0.29329,     0.29429,      0.2953,      0.2963,      0.2973,      0.2983,      0.2993,      0.3003,      0.3013,      0.3023,      0.3033,      0.3043,     0.30531,     0.30631,     0.30731,     0.30831,     0.30931,     0.31031,     0.31131,\n",
       "           0.31231,     0.31331,     0.31431,     0.31532,     0.31632,     0.31732,     0.31832,     0.31932,     0.32032,     0.32132,     0.32232,     0.32332,     0.32432,     0.32533,     0.32633,     0.32733,     0.32833,     0.32933,     0.33033,     0.33133,     0.33233,     0.33333,     0.33433,     0.33534,\n",
       "           0.33634,     0.33734,     0.33834,     0.33934,     0.34034,     0.34134,     0.34234,     0.34334,     0.34434,     0.34535,     0.34635,     0.34735,     0.34835,     0.34935,     0.35035,     0.35135,     0.35235,     0.35335,     0.35435,     0.35536,     0.35636,     0.35736,     0.35836,     0.35936,\n",
       "           0.36036,     0.36136,     0.36236,     0.36336,     0.36436,     0.36537,     0.36637,     0.36737,     0.36837,     0.36937,     0.37037,     0.37137,     0.37237,     0.37337,     0.37437,     0.37538,     0.37638,     0.37738,     0.37838,     0.37938,     0.38038,     0.38138,     0.38238,     0.38338,\n",
       "           0.38438,     0.38539,     0.38639,     0.38739,     0.38839,     0.38939,     0.39039,     0.39139,     0.39239,     0.39339,     0.39439,      0.3954,      0.3964,      0.3974,      0.3984,      0.3994,      0.4004,      0.4014,      0.4024,      0.4034,      0.4044,     0.40541,     0.40641,     0.40741,\n",
       "           0.40841,     0.40941,     0.41041,     0.41141,     0.41241,     0.41341,     0.41441,     0.41542,     0.41642,     0.41742,     0.41842,     0.41942,     0.42042,     0.42142,     0.42242,     0.42342,     0.42442,     0.42543,     0.42643,     0.42743,     0.42843,     0.42943,     0.43043,     0.43143,\n",
       "           0.43243,     0.43343,     0.43443,     0.43544,     0.43644,     0.43744,     0.43844,     0.43944,     0.44044,     0.44144,     0.44244,     0.44344,     0.44444,     0.44545,     0.44645,     0.44745,     0.44845,     0.44945,     0.45045,     0.45145,     0.45245,     0.45345,     0.45445,     0.45546,\n",
       "           0.45646,     0.45746,     0.45846,     0.45946,     0.46046,     0.46146,     0.46246,     0.46346,     0.46446,     0.46547,     0.46647,     0.46747,     0.46847,     0.46947,     0.47047,     0.47147,     0.47247,     0.47347,     0.47447,     0.47548,     0.47648,     0.47748,     0.47848,     0.47948,\n",
       "           0.48048,     0.48148,     0.48248,     0.48348,     0.48448,     0.48549,     0.48649,     0.48749,     0.48849,     0.48949,     0.49049,     0.49149,     0.49249,     0.49349,     0.49449,      0.4955,      0.4965,      0.4975,      0.4985,      0.4995,      0.5005,      0.5015,      0.5025,      0.5035,\n",
       "            0.5045,     0.50551,     0.50651,     0.50751,     0.50851,     0.50951,     0.51051,     0.51151,     0.51251,     0.51351,     0.51451,     0.51552,     0.51652,     0.51752,     0.51852,     0.51952,     0.52052,     0.52152,     0.52252,     0.52352,     0.52452,     0.52553,     0.52653,     0.52753,\n",
       "           0.52853,     0.52953,     0.53053,     0.53153,     0.53253,     0.53353,     0.53453,     0.53554,     0.53654,     0.53754,     0.53854,     0.53954,     0.54054,     0.54154,     0.54254,     0.54354,     0.54454,     0.54555,     0.54655,     0.54755,     0.54855,     0.54955,     0.55055,     0.55155,\n",
       "           0.55255,     0.55355,     0.55455,     0.55556,     0.55656,     0.55756,     0.55856,     0.55956,     0.56056,     0.56156,     0.56256,     0.56356,     0.56456,     0.56557,     0.56657,     0.56757,     0.56857,     0.56957,     0.57057,     0.57157,     0.57257,     0.57357,     0.57457,     0.57558,\n",
       "           0.57658,     0.57758,     0.57858,     0.57958,     0.58058,     0.58158,     0.58258,     0.58358,     0.58458,     0.58559,     0.58659,     0.58759,     0.58859,     0.58959,     0.59059,     0.59159,     0.59259,     0.59359,     0.59459,      0.5956,      0.5966,      0.5976,      0.5986,      0.5996,\n",
       "            0.6006,      0.6016,      0.6026,      0.6036,      0.6046,     0.60561,     0.60661,     0.60761,     0.60861,     0.60961,     0.61061,     0.61161,     0.61261,     0.61361,     0.61461,     0.61562,     0.61662,     0.61762,     0.61862,     0.61962,     0.62062,     0.62162,     0.62262,     0.62362,\n",
       "           0.62462,     0.62563,     0.62663,     0.62763,     0.62863,     0.62963,     0.63063,     0.63163,     0.63263,     0.63363,     0.63463,     0.63564,     0.63664,     0.63764,     0.63864,     0.63964,     0.64064,     0.64164,     0.64264,     0.64364,     0.64464,     0.64565,     0.64665,     0.64765,\n",
       "           0.64865,     0.64965,     0.65065,     0.65165,     0.65265,     0.65365,     0.65465,     0.65566,     0.65666,     0.65766,     0.65866,     0.65966,     0.66066,     0.66166,     0.66266,     0.66366,     0.66466,     0.66567,     0.66667,     0.66767,     0.66867,     0.66967,     0.67067,     0.67167,\n",
       "           0.67267,     0.67367,     0.67467,     0.67568,     0.67668,     0.67768,     0.67868,     0.67968,     0.68068,     0.68168,     0.68268,     0.68368,     0.68468,     0.68569,     0.68669,     0.68769,     0.68869,     0.68969,     0.69069,     0.69169,     0.69269,     0.69369,     0.69469,      0.6957,\n",
       "            0.6967,      0.6977,      0.6987,      0.6997,      0.7007,      0.7017,      0.7027,      0.7037,      0.7047,     0.70571,     0.70671,     0.70771,     0.70871,     0.70971,     0.71071,     0.71171,     0.71271,     0.71371,     0.71471,     0.71572,     0.71672,     0.71772,     0.71872,     0.71972,\n",
       "           0.72072,     0.72172,     0.72272,     0.72372,     0.72472,     0.72573,     0.72673,     0.72773,     0.72873,     0.72973,     0.73073,     0.73173,     0.73273,     0.73373,     0.73473,     0.73574,     0.73674,     0.73774,     0.73874,     0.73974,     0.74074,     0.74174,     0.74274,     0.74374,\n",
       "           0.74474,     0.74575,     0.74675,     0.74775,     0.74875,     0.74975,     0.75075,     0.75175,     0.75275,     0.75375,     0.75475,     0.75576,     0.75676,     0.75776,     0.75876,     0.75976,     0.76076,     0.76176,     0.76276,     0.76376,     0.76476,     0.76577,     0.76677,     0.76777,\n",
       "           0.76877,     0.76977,     0.77077,     0.77177,     0.77277,     0.77377,     0.77477,     0.77578,     0.77678,     0.77778,     0.77878,     0.77978,     0.78078,     0.78178,     0.78278,     0.78378,     0.78478,     0.78579,     0.78679,     0.78779,     0.78879,     0.78979,     0.79079,     0.79179,\n",
       "           0.79279,     0.79379,     0.79479,      0.7958,      0.7968,      0.7978,      0.7988,      0.7998,      0.8008,      0.8018,      0.8028,      0.8038,      0.8048,     0.80581,     0.80681,     0.80781,     0.80881,     0.80981,     0.81081,     0.81181,     0.81281,     0.81381,     0.81481,     0.81582,\n",
       "           0.81682,     0.81782,     0.81882,     0.81982,     0.82082,     0.82182,     0.82282,     0.82382,     0.82482,     0.82583,     0.82683,     0.82783,     0.82883,     0.82983,     0.83083,     0.83183,     0.83283,     0.83383,     0.83483,     0.83584,     0.83684,     0.83784,     0.83884,     0.83984,\n",
       "           0.84084,     0.84184,     0.84284,     0.84384,     0.84484,     0.84585,     0.84685,     0.84785,     0.84885,     0.84985,     0.85085,     0.85185,     0.85285,     0.85385,     0.85485,     0.85586,     0.85686,     0.85786,     0.85886,     0.85986,     0.86086,     0.86186,     0.86286,     0.86386,\n",
       "           0.86486,     0.86587,     0.86687,     0.86787,     0.86887,     0.86987,     0.87087,     0.87187,     0.87287,     0.87387,     0.87487,     0.87588,     0.87688,     0.87788,     0.87888,     0.87988,     0.88088,     0.88188,     0.88288,     0.88388,     0.88488,     0.88589,     0.88689,     0.88789,\n",
       "           0.88889,     0.88989,     0.89089,     0.89189,     0.89289,     0.89389,     0.89489,      0.8959,      0.8969,      0.8979,      0.8989,      0.8999,      0.9009,      0.9019,      0.9029,      0.9039,      0.9049,     0.90591,     0.90691,     0.90791,     0.90891,     0.90991,     0.91091,     0.91191,\n",
       "           0.91291,     0.91391,     0.91491,     0.91592,     0.91692,     0.91792,     0.91892,     0.91992,     0.92092,     0.92192,     0.92292,     0.92392,     0.92492,     0.92593,     0.92693,     0.92793,     0.92893,     0.92993,     0.93093,     0.93193,     0.93293,     0.93393,     0.93493,     0.93594,\n",
       "           0.93694,     0.93794,     0.93894,     0.93994,     0.94094,     0.94194,     0.94294,     0.94394,     0.94494,     0.94595,     0.94695,     0.94795,     0.94895,     0.94995,     0.95095,     0.95195,     0.95295,     0.95395,     0.95495,     0.95596,     0.95696,     0.95796,     0.95896,     0.95996,\n",
       "           0.96096,     0.96196,     0.96296,     0.96396,     0.96496,     0.96597,     0.96697,     0.96797,     0.96897,     0.96997,     0.97097,     0.97197,     0.97297,     0.97397,     0.97497,     0.97598,     0.97698,     0.97798,     0.97898,     0.97998,     0.98098,     0.98198,     0.98298,     0.98398,\n",
       "           0.98498,     0.98599,     0.98699,     0.98799,     0.98899,     0.98999,     0.99099,     0.99199,     0.99299,     0.99399,     0.99499,       0.996,       0.997,       0.998,       0.999,           1]), array([[    0.50909,     0.50909,     0.68886,     0.75672,     0.82482,     0.86834,     0.87961,     0.88508,     0.89055,     0.89601,     0.90148,     0.90349,     0.90388,     0.90427,     0.90466,     0.90505,     0.90544,     0.90583,     0.90622,     0.90661,       0.907,     0.90739,     0.90778,\n",
       "            0.90817,     0.90856,     0.90895,     0.90934,     0.90973,     0.91012,     0.91051,      0.9109,     0.91129,     0.91168,     0.91207,     0.91246,     0.91285,     0.91324,     0.91363,     0.91402,     0.91441,      0.9148,     0.91519,     0.91558,     0.91597,     0.91636,     0.91675,\n",
       "            0.91714,     0.91753,     0.91793,     0.91832,     0.91871,      0.9191,     0.91949,     0.91988,     0.92027,     0.92066,     0.92105,     0.92144,     0.92183,     0.92222,     0.92261,       0.923,     0.92339,     0.92378,     0.92417,     0.92456,     0.92495,     0.92534,     0.92573,\n",
       "            0.92612,     0.92651,      0.9269,     0.92729,     0.92768,     0.92807,     0.92846,     0.92885,     0.92924,     0.92963,     0.93002,     0.93041,      0.9308,     0.93119,     0.93158,     0.93197,     0.93236,     0.93275,     0.93314,     0.93332,     0.93329,     0.93326,     0.93323,\n",
       "             0.9332,     0.93317,     0.93314,     0.93311,     0.93308,     0.93305,     0.93302,     0.93299,     0.93296,     0.93293,      0.9329,     0.93287,     0.93284,     0.93281,     0.93278,     0.93275,     0.93272,     0.93269,     0.93266,     0.93263,     0.93259,     0.93256,     0.93253,\n",
       "             0.9325,     0.93247,     0.93244,     0.93241,     0.93238,     0.93235,     0.93232,     0.93229,     0.93226,     0.93223,      0.9322,     0.93217,     0.93214,     0.93211,     0.93208,     0.93205,     0.93202,     0.93199,     0.93196,     0.93193,      0.9319,     0.93187,     0.93184,\n",
       "            0.93181,     0.93178,     0.93175,     0.93172,     0.93169,     0.93166,     0.93163,      0.9316,     0.93157,     0.93154,     0.93151,     0.93148,     0.93145,     0.93142,     0.93139,     0.93136,     0.93133,      0.9313,     0.93127,     0.93124,     0.93121,     0.93118,     0.93115,\n",
       "            0.93112,     0.93109,     0.93106,     0.93113,     0.93154,     0.93195,     0.93236,     0.93277,     0.93318,     0.93359,       0.934,     0.93441,     0.93482,     0.93523,     0.93564,     0.93605,     0.93646,     0.93687,     0.93728,     0.93769,      0.9381,     0.93851,     0.93892,\n",
       "            0.93933,     0.93974,     0.94015,     0.94056,     0.94097,     0.94138,     0.94179,      0.9422,     0.94261,     0.94302,     0.94343,     0.94384,     0.94425,     0.94466,     0.94507,     0.94548,     0.94589,      0.9463,     0.94671,     0.94712,     0.94753,     0.94794,     0.94835,\n",
       "            0.94876,     0.94917,     0.94958,     0.94999,      0.9504,     0.95081,     0.95122,     0.95163,     0.95204,     0.95245,     0.95286,     0.95327,     0.95368,     0.95409,      0.9545,     0.95491,     0.95532,     0.95573,     0.95614,     0.95655,     0.95696,     0.95737,     0.95778,\n",
       "            0.95819,      0.9586,     0.95901,     0.95942,     0.95983,     0.96024,     0.96065,     0.96106,     0.96147,     0.96188,     0.96229,      0.9627,     0.96311,     0.96352,     0.96393,     0.96428,     0.96427,     0.96427,     0.96426,     0.96425,     0.96424,     0.96423,     0.96422,\n",
       "            0.96421,      0.9642,     0.96419,     0.96418,     0.96417,     0.96416,     0.96415,     0.96414,     0.96413,     0.96412,     0.96411,      0.9641,     0.96409,     0.96408,     0.96407,     0.96406,     0.96405,     0.96404,     0.96403,     0.96403,     0.96402,     0.96401,       0.964,\n",
       "            0.96399,     0.96398,     0.96397,     0.96396,     0.96395,     0.96394,     0.96393,     0.96392,     0.96391,      0.9639,     0.96389,     0.96388,     0.96387,     0.96386,     0.96385,     0.96384,     0.96383,     0.96382,     0.96381,      0.9638,     0.96379,     0.96379,     0.96378,\n",
       "            0.96377,     0.96376,     0.96375,     0.96374,     0.96373,     0.96372,     0.96371,      0.9637,     0.96369,     0.96368,     0.96367,     0.96366,     0.96365,     0.96364,     0.96363,     0.96362,     0.96361,      0.9636,     0.96359,     0.96358,     0.96357,     0.96356,     0.96355,\n",
       "            0.96355,     0.96354,     0.96353,     0.96352,     0.96351,      0.9635,     0.96349,     0.96348,     0.96347,     0.96346,     0.96345,     0.96344,     0.96343,     0.96342,     0.96341,      0.9634,     0.96339,     0.96338,     0.96337,     0.96336,     0.96335,     0.96334,     0.96333,\n",
       "            0.96332,     0.96331,     0.96331,      0.9633,     0.96329,     0.96328,     0.96327,     0.96326,     0.96325,     0.96324,     0.96323,     0.96322,     0.96321,      0.9632,     0.96319,     0.96318,     0.96317,     0.96316,     0.96315,     0.96314,     0.96313,     0.96312,     0.96311,\n",
       "             0.9631,     0.96309,     0.96308,     0.96308,     0.96307,     0.96306,     0.96305,     0.96304,     0.96303,     0.96302,     0.96301,       0.963,     0.96299,     0.96298,     0.96297,     0.96303,     0.96325,     0.96347,     0.96369,      0.9639,     0.96412,     0.96434,     0.96455,\n",
       "            0.96477,     0.96499,     0.96521,     0.96542,     0.96564,     0.96586,     0.96608,     0.96629,     0.96651,     0.96673,     0.96694,     0.96716,     0.96738,      0.9676,     0.96781,     0.96803,     0.96825,     0.96847,     0.96868,      0.9689,     0.96912,     0.96933,     0.96955,\n",
       "            0.96977,     0.96999,      0.9702,     0.97042,     0.97064,     0.97085,     0.97107,     0.97129,     0.97151,     0.97172,     0.97194,     0.97216,     0.97238,     0.97259,     0.97281,     0.97303,     0.97324,     0.97346,     0.97368,      0.9739,     0.97411,     0.97433,     0.97455,\n",
       "            0.97477,     0.97498,      0.9752,     0.97542,     0.97563,     0.97585,     0.97607,     0.97629,      0.9765,     0.97672,     0.97694,     0.97715,     0.97737,     0.97759,     0.97781,     0.97802,     0.97824,     0.97846,     0.97868,     0.97889,     0.97911,     0.97933,     0.97954,\n",
       "            0.97976,     0.97998,      0.9802,     0.98041,     0.98063,     0.98085,     0.98107,     0.98128,      0.9815,     0.98172,     0.98193,     0.98215,     0.98237,     0.98259,      0.9828,     0.98302,     0.98324,     0.98346,     0.98367,     0.98389,     0.98411,     0.98432,     0.98454,\n",
       "            0.98476,     0.98498,     0.98519,     0.98541,     0.98563,     0.98584,     0.98606,     0.98628,      0.9865,     0.98671,     0.98693,     0.98715,     0.98737,     0.98758,      0.9878,     0.98802,     0.98823,     0.98845,     0.98867,     0.98889,      0.9891,     0.98932,     0.98954,\n",
       "            0.98976,     0.98997,     0.99019,     0.99041,     0.99062,     0.99084,     0.99106,     0.99128,     0.99149,     0.99171,     0.99193,     0.99214,     0.99236,     0.99258,      0.9928,     0.99301,     0.99323,     0.99345,     0.99367,     0.99388,      0.9941,     0.99432,     0.99453,\n",
       "            0.99475,     0.99497,     0.99519,      0.9954,     0.99562,     0.99584,     0.99606,     0.99627,     0.99649,     0.99671,     0.99692,     0.99714,     0.99736,     0.99758,     0.99779,     0.99801,     0.99823,     0.99845,     0.99866,     0.99888,      0.9991,     0.99931,     0.99953,\n",
       "            0.99975,     0.99997,           1,           1,           1,           1,           1,           1,           1,           1,           1,           1,           1,           1,           1,           1,           1,           1,           1,           1,           1,           1,           1,\n",
       "                  1,           1,           1,           1,           1,           1,           1,           1,           1,           1,           1,           1,           1,           1,           1,           1,           1,           1,           1,           1,           1,           1,           1,\n",
       "                  1,           1,           1,           1,           1,           1,           1,           1,           1,           1,           1,           1,           1,           1,           1,           1,           1,           1,           1,           1,           1,           1,           1,\n",
       "                  1,           1,           1,           1,           1,           1,           1,           1,           1,           1,           1,           1,           1,           1,           1,           1,           1,           1,           1,           1,           1,           1,           1,\n",
       "                  1,           1,           1,           1,           1,           1,           1,           1,           1,           1,           1,           1,           1,           1,           1,           1,           1,           1,           1,           1,           1,           1,           1,\n",
       "                  1,           1,           1,           1,           1,           1,           1,           1,           1,           1,           1,           1,           1,           1,           1,           1,           1,           1,           1,           1,           1,           1,           1,\n",
       "                  1,           1,           1,           1,           1,           1,           1,           1,           1,           1,           1,           1,           1,           1,           1,           1,           1,           1,           1,           1,           1,           1,           1,\n",
       "                  1,           1,           1,           1,           1,           1,           1,           1,           1,           1,           1,           1,           1,           1,           1,           1,           1,           1,           1,           1,           1,           1,           1,\n",
       "                  1,           1,           1,           1,           1,           1,           1,           1,           1,           1,           1,           1,           1,           1,           1,           1,           1,           1,           1,           1,           1,           1,           1,\n",
       "                  1,           1,           1,           1,           1,           1,           1,           1,           1,           1,           1,           1,           1,           1,           1,           1,           1,           1,           1,           1,           1,           1,           1,\n",
       "                  1,           1,           1,           1,           1,           1,           1,           1,           1,           1,           1,           1,           1,           1,           1,           1,           1,           1,           1,           1,           1,           1,           1,\n",
       "                  1,           1,           1,           1,           1,           1,           1,           1,           1,           1,           1,           1,           1,           1,           1,           1,           1,           1,           1,           1,           1,           1,           1,\n",
       "                  1,           1,           1,           1,           1,           1,           1,           1,           1,           1,           1,           1,           1,           1,           1,           1,           1,           1,           1,           1,           1,           1,           1,\n",
       "                  1,           1,           1,           1,           1,           1,           1,           1,           1,           1,           1,           1,           1,           1,           1,           1,           1,           1,           1,           1,           1,           1,           1,\n",
       "                  1,           1,           1,           1,           1,           1,           1,           1,           1,           1,           1,           1,           1,           1,           1,           1,           1,           1,           1,           1,           1,           1,           1,\n",
       "                  1,           1,           1,           1,           1,           1,           1,           1,           1,           1,           1,           1,           1,           1,           1,           1,           1,           1,           1,           1,           1,           1,           1,\n",
       "                  1,           1,           1,           1,           1,           1,           1,           1,           1,           1,           1,           1,           1,           1,           1,           1,           1,           1,           1,           1,           1,           1,           1,\n",
       "                  1,           1,           1,           1,           1,           1,           1,           1,           1,           1,           1,           1,           1,           1,           1,           1,           1,           1,           1,           1,           1,           1,           1,\n",
       "                  1,           1,           1,           1,           1,           1,           1,           1,           1,           1,           1,           1,           1,           1,           1,           1,           1,           1,           1,           1,           1,           1,           1,\n",
       "                  1,           1,           1,           1,           1,           1,           1,           1,           1,           1,           1]]), 'Confidence', 'Precision'], [array([          0,    0.001001,    0.002002,    0.003003,    0.004004,    0.005005,    0.006006,    0.007007,    0.008008,    0.009009,     0.01001,    0.011011,    0.012012,    0.013013,    0.014014,    0.015015,    0.016016,    0.017017,    0.018018,    0.019019,     0.02002,    0.021021,    0.022022,    0.023023,\n",
       "          0.024024,    0.025025,    0.026026,    0.027027,    0.028028,    0.029029,     0.03003,    0.031031,    0.032032,    0.033033,    0.034034,    0.035035,    0.036036,    0.037037,    0.038038,    0.039039,     0.04004,    0.041041,    0.042042,    0.043043,    0.044044,    0.045045,    0.046046,    0.047047,\n",
       "          0.048048,    0.049049,     0.05005,    0.051051,    0.052052,    0.053053,    0.054054,    0.055055,    0.056056,    0.057057,    0.058058,    0.059059,     0.06006,    0.061061,    0.062062,    0.063063,    0.064064,    0.065065,    0.066066,    0.067067,    0.068068,    0.069069,     0.07007,    0.071071,\n",
       "          0.072072,    0.073073,    0.074074,    0.075075,    0.076076,    0.077077,    0.078078,    0.079079,     0.08008,    0.081081,    0.082082,    0.083083,    0.084084,    0.085085,    0.086086,    0.087087,    0.088088,    0.089089,     0.09009,    0.091091,    0.092092,    0.093093,    0.094094,    0.095095,\n",
       "          0.096096,    0.097097,    0.098098,    0.099099,      0.1001,      0.1011,      0.1021,      0.1031,      0.1041,     0.10511,     0.10611,     0.10711,     0.10811,     0.10911,     0.11011,     0.11111,     0.11211,     0.11311,     0.11411,     0.11512,     0.11612,     0.11712,     0.11812,     0.11912,\n",
       "           0.12012,     0.12112,     0.12212,     0.12312,     0.12412,     0.12513,     0.12613,     0.12713,     0.12813,     0.12913,     0.13013,     0.13113,     0.13213,     0.13313,     0.13413,     0.13514,     0.13614,     0.13714,     0.13814,     0.13914,     0.14014,     0.14114,     0.14214,     0.14314,\n",
       "           0.14414,     0.14515,     0.14615,     0.14715,     0.14815,     0.14915,     0.15015,     0.15115,     0.15215,     0.15315,     0.15415,     0.15516,     0.15616,     0.15716,     0.15816,     0.15916,     0.16016,     0.16116,     0.16216,     0.16316,     0.16416,     0.16517,     0.16617,     0.16717,\n",
       "           0.16817,     0.16917,     0.17017,     0.17117,     0.17217,     0.17317,     0.17417,     0.17518,     0.17618,     0.17718,     0.17818,     0.17918,     0.18018,     0.18118,     0.18218,     0.18318,     0.18418,     0.18519,     0.18619,     0.18719,     0.18819,     0.18919,     0.19019,     0.19119,\n",
       "           0.19219,     0.19319,     0.19419,      0.1952,      0.1962,      0.1972,      0.1982,      0.1992,      0.2002,      0.2012,      0.2022,      0.2032,      0.2042,     0.20521,     0.20621,     0.20721,     0.20821,     0.20921,     0.21021,     0.21121,     0.21221,     0.21321,     0.21421,     0.21522,\n",
       "           0.21622,     0.21722,     0.21822,     0.21922,     0.22022,     0.22122,     0.22222,     0.22322,     0.22422,     0.22523,     0.22623,     0.22723,     0.22823,     0.22923,     0.23023,     0.23123,     0.23223,     0.23323,     0.23423,     0.23524,     0.23624,     0.23724,     0.23824,     0.23924,\n",
       "           0.24024,     0.24124,     0.24224,     0.24324,     0.24424,     0.24525,     0.24625,     0.24725,     0.24825,     0.24925,     0.25025,     0.25125,     0.25225,     0.25325,     0.25425,     0.25526,     0.25626,     0.25726,     0.25826,     0.25926,     0.26026,     0.26126,     0.26226,     0.26326,\n",
       "           0.26426,     0.26527,     0.26627,     0.26727,     0.26827,     0.26927,     0.27027,     0.27127,     0.27227,     0.27327,     0.27427,     0.27528,     0.27628,     0.27728,     0.27828,     0.27928,     0.28028,     0.28128,     0.28228,     0.28328,     0.28428,     0.28529,     0.28629,     0.28729,\n",
       "           0.28829,     0.28929,     0.29029,     0.29129,     0.29229,     0.29329,     0.29429,      0.2953,      0.2963,      0.2973,      0.2983,      0.2993,      0.3003,      0.3013,      0.3023,      0.3033,      0.3043,     0.30531,     0.30631,     0.30731,     0.30831,     0.30931,     0.31031,     0.31131,\n",
       "           0.31231,     0.31331,     0.31431,     0.31532,     0.31632,     0.31732,     0.31832,     0.31932,     0.32032,     0.32132,     0.32232,     0.32332,     0.32432,     0.32533,     0.32633,     0.32733,     0.32833,     0.32933,     0.33033,     0.33133,     0.33233,     0.33333,     0.33433,     0.33534,\n",
       "           0.33634,     0.33734,     0.33834,     0.33934,     0.34034,     0.34134,     0.34234,     0.34334,     0.34434,     0.34535,     0.34635,     0.34735,     0.34835,     0.34935,     0.35035,     0.35135,     0.35235,     0.35335,     0.35435,     0.35536,     0.35636,     0.35736,     0.35836,     0.35936,\n",
       "           0.36036,     0.36136,     0.36236,     0.36336,     0.36436,     0.36537,     0.36637,     0.36737,     0.36837,     0.36937,     0.37037,     0.37137,     0.37237,     0.37337,     0.37437,     0.37538,     0.37638,     0.37738,     0.37838,     0.37938,     0.38038,     0.38138,     0.38238,     0.38338,\n",
       "           0.38438,     0.38539,     0.38639,     0.38739,     0.38839,     0.38939,     0.39039,     0.39139,     0.39239,     0.39339,     0.39439,      0.3954,      0.3964,      0.3974,      0.3984,      0.3994,      0.4004,      0.4014,      0.4024,      0.4034,      0.4044,     0.40541,     0.40641,     0.40741,\n",
       "           0.40841,     0.40941,     0.41041,     0.41141,     0.41241,     0.41341,     0.41441,     0.41542,     0.41642,     0.41742,     0.41842,     0.41942,     0.42042,     0.42142,     0.42242,     0.42342,     0.42442,     0.42543,     0.42643,     0.42743,     0.42843,     0.42943,     0.43043,     0.43143,\n",
       "           0.43243,     0.43343,     0.43443,     0.43544,     0.43644,     0.43744,     0.43844,     0.43944,     0.44044,     0.44144,     0.44244,     0.44344,     0.44444,     0.44545,     0.44645,     0.44745,     0.44845,     0.44945,     0.45045,     0.45145,     0.45245,     0.45345,     0.45445,     0.45546,\n",
       "           0.45646,     0.45746,     0.45846,     0.45946,     0.46046,     0.46146,     0.46246,     0.46346,     0.46446,     0.46547,     0.46647,     0.46747,     0.46847,     0.46947,     0.47047,     0.47147,     0.47247,     0.47347,     0.47447,     0.47548,     0.47648,     0.47748,     0.47848,     0.47948,\n",
       "           0.48048,     0.48148,     0.48248,     0.48348,     0.48448,     0.48549,     0.48649,     0.48749,     0.48849,     0.48949,     0.49049,     0.49149,     0.49249,     0.49349,     0.49449,      0.4955,      0.4965,      0.4975,      0.4985,      0.4995,      0.5005,      0.5015,      0.5025,      0.5035,\n",
       "            0.5045,     0.50551,     0.50651,     0.50751,     0.50851,     0.50951,     0.51051,     0.51151,     0.51251,     0.51351,     0.51451,     0.51552,     0.51652,     0.51752,     0.51852,     0.51952,     0.52052,     0.52152,     0.52252,     0.52352,     0.52452,     0.52553,     0.52653,     0.52753,\n",
       "           0.52853,     0.52953,     0.53053,     0.53153,     0.53253,     0.53353,     0.53453,     0.53554,     0.53654,     0.53754,     0.53854,     0.53954,     0.54054,     0.54154,     0.54254,     0.54354,     0.54454,     0.54555,     0.54655,     0.54755,     0.54855,     0.54955,     0.55055,     0.55155,\n",
       "           0.55255,     0.55355,     0.55455,     0.55556,     0.55656,     0.55756,     0.55856,     0.55956,     0.56056,     0.56156,     0.56256,     0.56356,     0.56456,     0.56557,     0.56657,     0.56757,     0.56857,     0.56957,     0.57057,     0.57157,     0.57257,     0.57357,     0.57457,     0.57558,\n",
       "           0.57658,     0.57758,     0.57858,     0.57958,     0.58058,     0.58158,     0.58258,     0.58358,     0.58458,     0.58559,     0.58659,     0.58759,     0.58859,     0.58959,     0.59059,     0.59159,     0.59259,     0.59359,     0.59459,      0.5956,      0.5966,      0.5976,      0.5986,      0.5996,\n",
       "            0.6006,      0.6016,      0.6026,      0.6036,      0.6046,     0.60561,     0.60661,     0.60761,     0.60861,     0.60961,     0.61061,     0.61161,     0.61261,     0.61361,     0.61461,     0.61562,     0.61662,     0.61762,     0.61862,     0.61962,     0.62062,     0.62162,     0.62262,     0.62362,\n",
       "           0.62462,     0.62563,     0.62663,     0.62763,     0.62863,     0.62963,     0.63063,     0.63163,     0.63263,     0.63363,     0.63463,     0.63564,     0.63664,     0.63764,     0.63864,     0.63964,     0.64064,     0.64164,     0.64264,     0.64364,     0.64464,     0.64565,     0.64665,     0.64765,\n",
       "           0.64865,     0.64965,     0.65065,     0.65165,     0.65265,     0.65365,     0.65465,     0.65566,     0.65666,     0.65766,     0.65866,     0.65966,     0.66066,     0.66166,     0.66266,     0.66366,     0.66466,     0.66567,     0.66667,     0.66767,     0.66867,     0.66967,     0.67067,     0.67167,\n",
       "           0.67267,     0.67367,     0.67467,     0.67568,     0.67668,     0.67768,     0.67868,     0.67968,     0.68068,     0.68168,     0.68268,     0.68368,     0.68468,     0.68569,     0.68669,     0.68769,     0.68869,     0.68969,     0.69069,     0.69169,     0.69269,     0.69369,     0.69469,      0.6957,\n",
       "            0.6967,      0.6977,      0.6987,      0.6997,      0.7007,      0.7017,      0.7027,      0.7037,      0.7047,     0.70571,     0.70671,     0.70771,     0.70871,     0.70971,     0.71071,     0.71171,     0.71271,     0.71371,     0.71471,     0.71572,     0.71672,     0.71772,     0.71872,     0.71972,\n",
       "           0.72072,     0.72172,     0.72272,     0.72372,     0.72472,     0.72573,     0.72673,     0.72773,     0.72873,     0.72973,     0.73073,     0.73173,     0.73273,     0.73373,     0.73473,     0.73574,     0.73674,     0.73774,     0.73874,     0.73974,     0.74074,     0.74174,     0.74274,     0.74374,\n",
       "           0.74474,     0.74575,     0.74675,     0.74775,     0.74875,     0.74975,     0.75075,     0.75175,     0.75275,     0.75375,     0.75475,     0.75576,     0.75676,     0.75776,     0.75876,     0.75976,     0.76076,     0.76176,     0.76276,     0.76376,     0.76476,     0.76577,     0.76677,     0.76777,\n",
       "           0.76877,     0.76977,     0.77077,     0.77177,     0.77277,     0.77377,     0.77477,     0.77578,     0.77678,     0.77778,     0.77878,     0.77978,     0.78078,     0.78178,     0.78278,     0.78378,     0.78478,     0.78579,     0.78679,     0.78779,     0.78879,     0.78979,     0.79079,     0.79179,\n",
       "           0.79279,     0.79379,     0.79479,      0.7958,      0.7968,      0.7978,      0.7988,      0.7998,      0.8008,      0.8018,      0.8028,      0.8038,      0.8048,     0.80581,     0.80681,     0.80781,     0.80881,     0.80981,     0.81081,     0.81181,     0.81281,     0.81381,     0.81481,     0.81582,\n",
       "           0.81682,     0.81782,     0.81882,     0.81982,     0.82082,     0.82182,     0.82282,     0.82382,     0.82482,     0.82583,     0.82683,     0.82783,     0.82883,     0.82983,     0.83083,     0.83183,     0.83283,     0.83383,     0.83483,     0.83584,     0.83684,     0.83784,     0.83884,     0.83984,\n",
       "           0.84084,     0.84184,     0.84284,     0.84384,     0.84484,     0.84585,     0.84685,     0.84785,     0.84885,     0.84985,     0.85085,     0.85185,     0.85285,     0.85385,     0.85485,     0.85586,     0.85686,     0.85786,     0.85886,     0.85986,     0.86086,     0.86186,     0.86286,     0.86386,\n",
       "           0.86486,     0.86587,     0.86687,     0.86787,     0.86887,     0.86987,     0.87087,     0.87187,     0.87287,     0.87387,     0.87487,     0.87588,     0.87688,     0.87788,     0.87888,     0.87988,     0.88088,     0.88188,     0.88288,     0.88388,     0.88488,     0.88589,     0.88689,     0.88789,\n",
       "           0.88889,     0.88989,     0.89089,     0.89189,     0.89289,     0.89389,     0.89489,      0.8959,      0.8969,      0.8979,      0.8989,      0.8999,      0.9009,      0.9019,      0.9029,      0.9039,      0.9049,     0.90591,     0.90691,     0.90791,     0.90891,     0.90991,     0.91091,     0.91191,\n",
       "           0.91291,     0.91391,     0.91491,     0.91592,     0.91692,     0.91792,     0.91892,     0.91992,     0.92092,     0.92192,     0.92292,     0.92392,     0.92492,     0.92593,     0.92693,     0.92793,     0.92893,     0.92993,     0.93093,     0.93193,     0.93293,     0.93393,     0.93493,     0.93594,\n",
       "           0.93694,     0.93794,     0.93894,     0.93994,     0.94094,     0.94194,     0.94294,     0.94394,     0.94494,     0.94595,     0.94695,     0.94795,     0.94895,     0.94995,     0.95095,     0.95195,     0.95295,     0.95395,     0.95495,     0.95596,     0.95696,     0.95796,     0.95896,     0.95996,\n",
       "           0.96096,     0.96196,     0.96296,     0.96396,     0.96496,     0.96597,     0.96697,     0.96797,     0.96897,     0.96997,     0.97097,     0.97197,     0.97297,     0.97397,     0.97497,     0.97598,     0.97698,     0.97798,     0.97898,     0.97998,     0.98098,     0.98198,     0.98298,     0.98398,\n",
       "           0.98498,     0.98599,     0.98699,     0.98799,     0.98899,     0.98999,     0.99099,     0.99199,     0.99299,     0.99399,     0.99499,       0.996,       0.997,       0.998,       0.999,           1]), array([[          1,           1,           1,           1,           1,           1,           1,           1,           1,           1,           1,           1,           1,           1,           1,           1,           1,           1,           1,           1,           1,           1,           1,\n",
       "                  1,           1,           1,           1,           1,           1,           1,           1,           1,           1,           1,           1,           1,           1,           1,           1,           1,           1,           1,           1,           1,           1,           1,\n",
       "                  1,           1,           1,           1,           1,           1,           1,           1,           1,           1,           1,           1,           1,           1,           1,           1,           1,           1,           1,           1,           1,           1,           1,\n",
       "                  1,           1,           1,           1,           1,           1,           1,           1,           1,           1,           1,           1,           1,           1,           1,           1,           1,           1,           1,     0.99976,      0.9993,     0.99883,     0.99836,\n",
       "            0.99789,     0.99742,     0.99696,     0.99649,     0.99602,     0.99555,     0.99508,     0.99461,     0.99415,     0.99368,     0.99321,     0.99274,     0.99227,     0.99181,     0.99134,     0.99087,      0.9904,     0.98993,     0.98946,       0.989,     0.98853,     0.98806,     0.98759,\n",
       "            0.98712,     0.98666,     0.98619,     0.98572,     0.98525,     0.98478,     0.98431,     0.98385,     0.98338,     0.98291,     0.98244,     0.98197,      0.9815,     0.98104,     0.98057,      0.9801,     0.97963,     0.97916,      0.9787,     0.97823,     0.97776,     0.97729,     0.97682,\n",
       "            0.97635,     0.97589,     0.97542,     0.97495,     0.97448,     0.97401,     0.97355,     0.97308,     0.97261,     0.97214,     0.97167,      0.9712,     0.97074,     0.97027,      0.9698,     0.96933,     0.96886,     0.96839,     0.96793,     0.96746,     0.96699,     0.96652,     0.96605,\n",
       "            0.96559,     0.96512,     0.96465,     0.96429,     0.96429,     0.96429,     0.96429,     0.96429,     0.96429,     0.96429,     0.96429,     0.96429,     0.96429,     0.96429,     0.96429,     0.96429,     0.96429,     0.96429,     0.96429,     0.96429,     0.96429,     0.96429,     0.96429,\n",
       "            0.96429,     0.96429,     0.96429,     0.96429,     0.96429,     0.96429,     0.96429,     0.96429,     0.96429,     0.96429,     0.96429,     0.96429,     0.96429,     0.96429,     0.96429,     0.96429,     0.96429,     0.96429,     0.96429,     0.96429,     0.96429,     0.96429,     0.96429,\n",
       "            0.96429,     0.96429,     0.96429,     0.96429,     0.96429,     0.96429,     0.96429,     0.96429,     0.96429,     0.96429,     0.96429,     0.96429,     0.96429,     0.96429,     0.96429,     0.96429,     0.96429,     0.96429,     0.96429,     0.96429,     0.96429,     0.96429,     0.96429,\n",
       "            0.96429,     0.96429,     0.96429,     0.96429,     0.96429,     0.96429,     0.96429,     0.96429,     0.96429,     0.96429,     0.96429,     0.96429,     0.96429,     0.96429,     0.96429,     0.96425,     0.96399,     0.96373,     0.96348,     0.96322,     0.96296,      0.9627,     0.96244,\n",
       "            0.96218,     0.96192,     0.96166,      0.9614,     0.96114,     0.96088,     0.96062,     0.96036,     0.96011,     0.95985,     0.95959,     0.95933,     0.95907,     0.95881,     0.95855,     0.95829,     0.95803,     0.95777,     0.95751,     0.95725,       0.957,     0.95674,     0.95648,\n",
       "            0.95622,     0.95596,      0.9557,     0.95544,     0.95518,     0.95492,     0.95466,      0.9544,     0.95414,     0.95389,     0.95363,     0.95337,     0.95311,     0.95285,     0.95259,     0.95233,     0.95207,     0.95181,     0.95155,     0.95129,     0.95103,     0.95078,     0.95052,\n",
       "            0.95026,        0.95,     0.94974,     0.94948,     0.94922,     0.94896,      0.9487,     0.94844,     0.94818,     0.94792,     0.94767,     0.94741,     0.94715,     0.94689,     0.94663,     0.94637,     0.94611,     0.94585,     0.94559,     0.94533,     0.94507,     0.94481,     0.94456,\n",
       "             0.9443,     0.94404,     0.94378,     0.94352,     0.94326,       0.943,     0.94274,     0.94248,     0.94222,     0.94196,      0.9417,     0.94145,     0.94119,     0.94093,     0.94067,     0.94041,     0.94015,     0.93989,     0.93963,     0.93937,     0.93911,     0.93885,     0.93859,\n",
       "            0.93834,     0.93808,     0.93782,     0.93756,      0.9373,     0.93704,     0.93678,     0.93652,     0.93626,       0.936,     0.93574,     0.93548,     0.93523,     0.93497,     0.93471,     0.93445,     0.93419,     0.93393,     0.93367,     0.93341,     0.93315,     0.93289,     0.93263,\n",
       "            0.93237,     0.93212,     0.93186,      0.9316,     0.93134,     0.93108,     0.93082,     0.93056,      0.9303,     0.93004,     0.92978,     0.92952,     0.92926,     0.92901,     0.92875,     0.92857,     0.92857,     0.92857,     0.92857,     0.92857,     0.92857,     0.92857,     0.92857,\n",
       "            0.92857,     0.92857,     0.92857,     0.92857,     0.92857,     0.92857,     0.92857,     0.92857,     0.92857,     0.92857,     0.92857,     0.92857,     0.92857,     0.92857,     0.92857,     0.92857,     0.92857,     0.92857,     0.92857,     0.92857,     0.92857,     0.92857,     0.92857,\n",
       "            0.92857,     0.92857,     0.92857,     0.92857,     0.92857,     0.92857,     0.92857,     0.92857,     0.92857,     0.92857,     0.92857,     0.92857,     0.92857,     0.92857,     0.92857,     0.92857,     0.92857,     0.92857,     0.92857,     0.92857,     0.92857,     0.92857,     0.92857,\n",
       "            0.92857,     0.92857,     0.92857,     0.92857,     0.92857,     0.92857,     0.92857,     0.92857,     0.92857,     0.92857,     0.92857,     0.92857,     0.92857,     0.92857,     0.92857,     0.92857,     0.92857,     0.92857,     0.92857,     0.92857,     0.92857,     0.92857,     0.92857,\n",
       "            0.92857,     0.92857,     0.92857,     0.92857,     0.92857,     0.92857,     0.92857,     0.92857,     0.92857,     0.92857,     0.92857,     0.92857,     0.92857,     0.92857,     0.92857,     0.92857,     0.92857,     0.92857,     0.92857,     0.92857,     0.92857,     0.92857,     0.92857,\n",
       "            0.92857,     0.92857,     0.92857,     0.92857,     0.92857,     0.92857,     0.92857,     0.92857,     0.92857,     0.92857,     0.92857,     0.92857,     0.92857,     0.92857,     0.92857,     0.92857,     0.92857,     0.92857,     0.92857,     0.92857,     0.92857,     0.92857,     0.92857,\n",
       "            0.92857,     0.92857,     0.92857,     0.92857,     0.92857,     0.92857,     0.92857,     0.92857,     0.92857,     0.92857,     0.92857,     0.92857,     0.92857,     0.92857,     0.92857,     0.92857,     0.92857,     0.92857,     0.92857,     0.92857,     0.92857,     0.92857,     0.92857,\n",
       "            0.92857,     0.92857,     0.92857,     0.92857,     0.92857,     0.92857,     0.92857,     0.92857,     0.92857,     0.92857,     0.92857,     0.92857,     0.92857,     0.92857,     0.92857,     0.92857,     0.92857,     0.92857,     0.92857,     0.92857,     0.92857,     0.92857,     0.92857,\n",
       "            0.92857,     0.92857,     0.92714,     0.92543,     0.92373,     0.92203,     0.92033,     0.91862,     0.91692,     0.91522,     0.91351,     0.91181,     0.91011,     0.90841,      0.9067,       0.905,      0.9033,      0.9016,     0.89989,     0.89819,     0.89649,     0.89479,     0.89308,\n",
       "            0.89253,     0.89216,     0.89179,     0.89141,     0.89104,     0.89067,     0.89029,     0.88992,     0.88954,     0.88917,      0.8888,     0.88842,     0.88805,     0.88768,      0.8873,     0.88693,     0.88656,     0.88618,     0.88581,     0.88544,     0.88506,     0.88469,     0.88431,\n",
       "            0.88394,     0.88357,     0.88319,     0.88282,     0.88245,     0.88207,      0.8817,     0.88133,     0.88095,     0.88058,     0.88021,     0.87983,     0.87946,     0.87909,     0.87871,     0.87834,     0.87796,     0.87759,     0.87722,     0.87684,     0.87647,      0.8761,     0.87572,\n",
       "            0.87535,     0.87498,      0.8746,     0.87423,     0.87386,     0.87348,     0.87311,     0.87273,     0.87236,     0.87199,     0.87161,     0.87124,     0.87087,     0.87049,     0.87012,     0.86975,     0.86937,       0.869,     0.86863,     0.86825,     0.86788,     0.86751,     0.86713,\n",
       "            0.86676,     0.86638,     0.86601,     0.86564,     0.86526,     0.86489,     0.86452,     0.86414,     0.86377,      0.8634,     0.86302,     0.86265,     0.86228,      0.8619,     0.86153,     0.86115,     0.86078,     0.86041,     0.86003,     0.85966,     0.85929,     0.85891,     0.85854,\n",
       "            0.85817,     0.85779,     0.85742,     0.85689,      0.8559,     0.85491,     0.85392,     0.85293,     0.85194,     0.85095,     0.84996,     0.84897,     0.84798,     0.84699,       0.846,     0.84501,     0.84402,     0.84303,     0.84204,     0.84105,     0.84007,     0.83908,     0.83809,\n",
       "             0.8371,     0.83611,     0.83512,     0.83413,     0.83314,     0.83215,     0.83116,     0.83017,     0.82918,     0.82819,      0.8272,     0.82621,     0.82522,     0.82423,     0.82325,     0.82226,     0.82129,     0.82041,     0.81954,     0.81867,      0.8178,     0.81693,     0.81606,\n",
       "            0.81518,     0.81431,     0.81344,     0.81257,      0.8117,     0.81083,     0.80995,     0.80908,     0.80821,     0.80734,     0.80647,      0.8056,     0.80473,     0.80385,     0.80298,     0.80211,     0.80124,     0.80037,      0.7995,     0.79862,     0.79775,     0.79688,     0.79601,\n",
       "            0.79514,     0.79427,     0.79339,     0.79252,     0.79165,     0.79078,     0.78991,     0.78904,     0.78816,     0.78729,     0.78642,     0.78473,      0.7795,     0.77427,     0.76904,     0.76381,     0.75858,     0.75335,     0.74875,     0.74526,     0.74177,     0.73829,      0.7348,\n",
       "            0.73131,     0.72783,     0.72434,     0.72085,     0.71737,     0.71423,     0.71373,     0.71324,     0.71274,     0.71225,     0.71175,     0.71126,     0.71077,     0.71027,     0.70978,     0.70928,     0.70879,     0.70829,      0.7078,      0.7073,     0.70681,     0.70631,     0.70582,\n",
       "            0.70532,     0.70483,     0.70433,     0.70384,     0.70334,     0.70285,     0.70236,     0.70186,     0.70137,     0.70087,     0.70038,     0.69988,     0.69939,     0.69889,      0.6984,      0.6979,     0.69741,     0.69691,     0.69642,     0.69592,     0.69543,     0.69493,     0.69444,\n",
       "            0.69395,     0.69345,     0.69296,     0.69246,     0.69197,     0.69147,     0.69098,     0.69048,     0.68999,     0.68949,       0.689,      0.6885,     0.68801,     0.68751,     0.68702,     0.68652,     0.68603,     0.68554,     0.68504,     0.68455,     0.68405,     0.68356,     0.68306,\n",
       "            0.68257,     0.68207,     0.68158,     0.68108,     0.68059,     0.68009,      0.6796,      0.6791,     0.67861,     0.66731,     0.65511,      0.6429,     0.60711,     0.60555,       0.604,     0.60244,     0.60088,     0.59932,     0.59776,     0.59621,     0.59465,     0.59309,     0.59153,\n",
       "            0.58998,     0.58842,     0.58686,      0.5853,     0.58374,     0.58219,     0.58063,     0.57907,     0.57751,     0.57596,      0.5744,     0.57284,      0.5709,     0.56527,     0.55963,       0.554,     0.54837,     0.54274,     0.53711,     0.49387,     0.48574,      0.4776,     0.46947,\n",
       "            0.46281,     0.45874,     0.45467,     0.45061,     0.44654,     0.44247,      0.4384,     0.43434,     0.43027,     0.41435,     0.39231,     0.38774,     0.38316,     0.37858,     0.37401,     0.36943,     0.36486,     0.36028,     0.35139,     0.33308,     0.31921,     0.31311,     0.30701,\n",
       "            0.30091,     0.29481,     0.28871,     0.28105,      0.2719,     0.26274,     0.25359,     0.24629,     0.24019,     0.23409,     0.22799,     0.22189,     0.21579,     0.20325,      0.1886,     0.17396,     0.15932,     0.14467,     0.13644,     0.12912,      0.1218,     0.11448,     0.10716,\n",
       "            0.10152,     0.09589,    0.090258,    0.084626,    0.078994,    0.073362,           0,           0,           0,           0,           0,           0,           0,           0,           0,           0,           0,           0,           0,           0,           0,           0,           0,\n",
       "                  0,           0,           0,           0,           0,           0,           0,           0,           0,           0,           0,           0,           0,           0,           0,           0,           0,           0,           0,           0,           0,           0,           0,\n",
       "                  0,           0,           0,           0,           0,           0,           0,           0,           0,           0,           0,           0,           0,           0,           0,           0,           0,           0,           0,           0,           0,           0,           0,\n",
       "                  0,           0,           0,           0,           0,           0,           0,           0,           0,           0,           0]]), 'Confidence', 'Recall'], [array([          0,    0.001001,    0.002002,    0.003003,    0.004004,    0.005005,    0.006006,    0.007007,    0.008008,    0.009009,     0.01001,    0.011011,    0.012012,    0.013013,    0.014014,    0.015015,    0.016016,    0.017017,    0.018018,    0.019019,     0.02002,    0.021021,    0.022022,    0.023023,\n",
       "          0.024024,    0.025025,    0.026026,    0.027027,    0.028028,    0.029029,     0.03003,    0.031031,    0.032032,    0.033033,    0.034034,    0.035035,    0.036036,    0.037037,    0.038038,    0.039039,     0.04004,    0.041041,    0.042042,    0.043043,    0.044044,    0.045045,    0.046046,    0.047047,\n",
       "          0.048048,    0.049049,     0.05005,    0.051051,    0.052052,    0.053053,    0.054054,    0.055055,    0.056056,    0.057057,    0.058058,    0.059059,     0.06006,    0.061061,    0.062062,    0.063063,    0.064064,    0.065065,    0.066066,    0.067067,    0.068068,    0.069069,     0.07007,    0.071071,\n",
       "          0.072072,    0.073073,    0.074074,    0.075075,    0.076076,    0.077077,    0.078078,    0.079079,     0.08008,    0.081081,    0.082082,    0.083083,    0.084084,    0.085085,    0.086086,    0.087087,    0.088088,    0.089089,     0.09009,    0.091091,    0.092092,    0.093093,    0.094094,    0.095095,\n",
       "          0.096096,    0.097097,    0.098098,    0.099099,      0.1001,      0.1011,      0.1021,      0.1031,      0.1041,     0.10511,     0.10611,     0.10711,     0.10811,     0.10911,     0.11011,     0.11111,     0.11211,     0.11311,     0.11411,     0.11512,     0.11612,     0.11712,     0.11812,     0.11912,\n",
       "           0.12012,     0.12112,     0.12212,     0.12312,     0.12412,     0.12513,     0.12613,     0.12713,     0.12813,     0.12913,     0.13013,     0.13113,     0.13213,     0.13313,     0.13413,     0.13514,     0.13614,     0.13714,     0.13814,     0.13914,     0.14014,     0.14114,     0.14214,     0.14314,\n",
       "           0.14414,     0.14515,     0.14615,     0.14715,     0.14815,     0.14915,     0.15015,     0.15115,     0.15215,     0.15315,     0.15415,     0.15516,     0.15616,     0.15716,     0.15816,     0.15916,     0.16016,     0.16116,     0.16216,     0.16316,     0.16416,     0.16517,     0.16617,     0.16717,\n",
       "           0.16817,     0.16917,     0.17017,     0.17117,     0.17217,     0.17317,     0.17417,     0.17518,     0.17618,     0.17718,     0.17818,     0.17918,     0.18018,     0.18118,     0.18218,     0.18318,     0.18418,     0.18519,     0.18619,     0.18719,     0.18819,     0.18919,     0.19019,     0.19119,\n",
       "           0.19219,     0.19319,     0.19419,      0.1952,      0.1962,      0.1972,      0.1982,      0.1992,      0.2002,      0.2012,      0.2022,      0.2032,      0.2042,     0.20521,     0.20621,     0.20721,     0.20821,     0.20921,     0.21021,     0.21121,     0.21221,     0.21321,     0.21421,     0.21522,\n",
       "           0.21622,     0.21722,     0.21822,     0.21922,     0.22022,     0.22122,     0.22222,     0.22322,     0.22422,     0.22523,     0.22623,     0.22723,     0.22823,     0.22923,     0.23023,     0.23123,     0.23223,     0.23323,     0.23423,     0.23524,     0.23624,     0.23724,     0.23824,     0.23924,\n",
       "           0.24024,     0.24124,     0.24224,     0.24324,     0.24424,     0.24525,     0.24625,     0.24725,     0.24825,     0.24925,     0.25025,     0.25125,     0.25225,     0.25325,     0.25425,     0.25526,     0.25626,     0.25726,     0.25826,     0.25926,     0.26026,     0.26126,     0.26226,     0.26326,\n",
       "           0.26426,     0.26527,     0.26627,     0.26727,     0.26827,     0.26927,     0.27027,     0.27127,     0.27227,     0.27327,     0.27427,     0.27528,     0.27628,     0.27728,     0.27828,     0.27928,     0.28028,     0.28128,     0.28228,     0.28328,     0.28428,     0.28529,     0.28629,     0.28729,\n",
       "           0.28829,     0.28929,     0.29029,     0.29129,     0.29229,     0.29329,     0.29429,      0.2953,      0.2963,      0.2973,      0.2983,      0.2993,      0.3003,      0.3013,      0.3023,      0.3033,      0.3043,     0.30531,     0.30631,     0.30731,     0.30831,     0.30931,     0.31031,     0.31131,\n",
       "           0.31231,     0.31331,     0.31431,     0.31532,     0.31632,     0.31732,     0.31832,     0.31932,     0.32032,     0.32132,     0.32232,     0.32332,     0.32432,     0.32533,     0.32633,     0.32733,     0.32833,     0.32933,     0.33033,     0.33133,     0.33233,     0.33333,     0.33433,     0.33534,\n",
       "           0.33634,     0.33734,     0.33834,     0.33934,     0.34034,     0.34134,     0.34234,     0.34334,     0.34434,     0.34535,     0.34635,     0.34735,     0.34835,     0.34935,     0.35035,     0.35135,     0.35235,     0.35335,     0.35435,     0.35536,     0.35636,     0.35736,     0.35836,     0.35936,\n",
       "           0.36036,     0.36136,     0.36236,     0.36336,     0.36436,     0.36537,     0.36637,     0.36737,     0.36837,     0.36937,     0.37037,     0.37137,     0.37237,     0.37337,     0.37437,     0.37538,     0.37638,     0.37738,     0.37838,     0.37938,     0.38038,     0.38138,     0.38238,     0.38338,\n",
       "           0.38438,     0.38539,     0.38639,     0.38739,     0.38839,     0.38939,     0.39039,     0.39139,     0.39239,     0.39339,     0.39439,      0.3954,      0.3964,      0.3974,      0.3984,      0.3994,      0.4004,      0.4014,      0.4024,      0.4034,      0.4044,     0.40541,     0.40641,     0.40741,\n",
       "           0.40841,     0.40941,     0.41041,     0.41141,     0.41241,     0.41341,     0.41441,     0.41542,     0.41642,     0.41742,     0.41842,     0.41942,     0.42042,     0.42142,     0.42242,     0.42342,     0.42442,     0.42543,     0.42643,     0.42743,     0.42843,     0.42943,     0.43043,     0.43143,\n",
       "           0.43243,     0.43343,     0.43443,     0.43544,     0.43644,     0.43744,     0.43844,     0.43944,     0.44044,     0.44144,     0.44244,     0.44344,     0.44444,     0.44545,     0.44645,     0.44745,     0.44845,     0.44945,     0.45045,     0.45145,     0.45245,     0.45345,     0.45445,     0.45546,\n",
       "           0.45646,     0.45746,     0.45846,     0.45946,     0.46046,     0.46146,     0.46246,     0.46346,     0.46446,     0.46547,     0.46647,     0.46747,     0.46847,     0.46947,     0.47047,     0.47147,     0.47247,     0.47347,     0.47447,     0.47548,     0.47648,     0.47748,     0.47848,     0.47948,\n",
       "           0.48048,     0.48148,     0.48248,     0.48348,     0.48448,     0.48549,     0.48649,     0.48749,     0.48849,     0.48949,     0.49049,     0.49149,     0.49249,     0.49349,     0.49449,      0.4955,      0.4965,      0.4975,      0.4985,      0.4995,      0.5005,      0.5015,      0.5025,      0.5035,\n",
       "            0.5045,     0.50551,     0.50651,     0.50751,     0.50851,     0.50951,     0.51051,     0.51151,     0.51251,     0.51351,     0.51451,     0.51552,     0.51652,     0.51752,     0.51852,     0.51952,     0.52052,     0.52152,     0.52252,     0.52352,     0.52452,     0.52553,     0.52653,     0.52753,\n",
       "           0.52853,     0.52953,     0.53053,     0.53153,     0.53253,     0.53353,     0.53453,     0.53554,     0.53654,     0.53754,     0.53854,     0.53954,     0.54054,     0.54154,     0.54254,     0.54354,     0.54454,     0.54555,     0.54655,     0.54755,     0.54855,     0.54955,     0.55055,     0.55155,\n",
       "           0.55255,     0.55355,     0.55455,     0.55556,     0.55656,     0.55756,     0.55856,     0.55956,     0.56056,     0.56156,     0.56256,     0.56356,     0.56456,     0.56557,     0.56657,     0.56757,     0.56857,     0.56957,     0.57057,     0.57157,     0.57257,     0.57357,     0.57457,     0.57558,\n",
       "           0.57658,     0.57758,     0.57858,     0.57958,     0.58058,     0.58158,     0.58258,     0.58358,     0.58458,     0.58559,     0.58659,     0.58759,     0.58859,     0.58959,     0.59059,     0.59159,     0.59259,     0.59359,     0.59459,      0.5956,      0.5966,      0.5976,      0.5986,      0.5996,\n",
       "            0.6006,      0.6016,      0.6026,      0.6036,      0.6046,     0.60561,     0.60661,     0.60761,     0.60861,     0.60961,     0.61061,     0.61161,     0.61261,     0.61361,     0.61461,     0.61562,     0.61662,     0.61762,     0.61862,     0.61962,     0.62062,     0.62162,     0.62262,     0.62362,\n",
       "           0.62462,     0.62563,     0.62663,     0.62763,     0.62863,     0.62963,     0.63063,     0.63163,     0.63263,     0.63363,     0.63463,     0.63564,     0.63664,     0.63764,     0.63864,     0.63964,     0.64064,     0.64164,     0.64264,     0.64364,     0.64464,     0.64565,     0.64665,     0.64765,\n",
       "           0.64865,     0.64965,     0.65065,     0.65165,     0.65265,     0.65365,     0.65465,     0.65566,     0.65666,     0.65766,     0.65866,     0.65966,     0.66066,     0.66166,     0.66266,     0.66366,     0.66466,     0.66567,     0.66667,     0.66767,     0.66867,     0.66967,     0.67067,     0.67167,\n",
       "           0.67267,     0.67367,     0.67467,     0.67568,     0.67668,     0.67768,     0.67868,     0.67968,     0.68068,     0.68168,     0.68268,     0.68368,     0.68468,     0.68569,     0.68669,     0.68769,     0.68869,     0.68969,     0.69069,     0.69169,     0.69269,     0.69369,     0.69469,      0.6957,\n",
       "            0.6967,      0.6977,      0.6987,      0.6997,      0.7007,      0.7017,      0.7027,      0.7037,      0.7047,     0.70571,     0.70671,     0.70771,     0.70871,     0.70971,     0.71071,     0.71171,     0.71271,     0.71371,     0.71471,     0.71572,     0.71672,     0.71772,     0.71872,     0.71972,\n",
       "           0.72072,     0.72172,     0.72272,     0.72372,     0.72472,     0.72573,     0.72673,     0.72773,     0.72873,     0.72973,     0.73073,     0.73173,     0.73273,     0.73373,     0.73473,     0.73574,     0.73674,     0.73774,     0.73874,     0.73974,     0.74074,     0.74174,     0.74274,     0.74374,\n",
       "           0.74474,     0.74575,     0.74675,     0.74775,     0.74875,     0.74975,     0.75075,     0.75175,     0.75275,     0.75375,     0.75475,     0.75576,     0.75676,     0.75776,     0.75876,     0.75976,     0.76076,     0.76176,     0.76276,     0.76376,     0.76476,     0.76577,     0.76677,     0.76777,\n",
       "           0.76877,     0.76977,     0.77077,     0.77177,     0.77277,     0.77377,     0.77477,     0.77578,     0.77678,     0.77778,     0.77878,     0.77978,     0.78078,     0.78178,     0.78278,     0.78378,     0.78478,     0.78579,     0.78679,     0.78779,     0.78879,     0.78979,     0.79079,     0.79179,\n",
       "           0.79279,     0.79379,     0.79479,      0.7958,      0.7968,      0.7978,      0.7988,      0.7998,      0.8008,      0.8018,      0.8028,      0.8038,      0.8048,     0.80581,     0.80681,     0.80781,     0.80881,     0.80981,     0.81081,     0.81181,     0.81281,     0.81381,     0.81481,     0.81582,\n",
       "           0.81682,     0.81782,     0.81882,     0.81982,     0.82082,     0.82182,     0.82282,     0.82382,     0.82482,     0.82583,     0.82683,     0.82783,     0.82883,     0.82983,     0.83083,     0.83183,     0.83283,     0.83383,     0.83483,     0.83584,     0.83684,     0.83784,     0.83884,     0.83984,\n",
       "           0.84084,     0.84184,     0.84284,     0.84384,     0.84484,     0.84585,     0.84685,     0.84785,     0.84885,     0.84985,     0.85085,     0.85185,     0.85285,     0.85385,     0.85485,     0.85586,     0.85686,     0.85786,     0.85886,     0.85986,     0.86086,     0.86186,     0.86286,     0.86386,\n",
       "           0.86486,     0.86587,     0.86687,     0.86787,     0.86887,     0.86987,     0.87087,     0.87187,     0.87287,     0.87387,     0.87487,     0.87588,     0.87688,     0.87788,     0.87888,     0.87988,     0.88088,     0.88188,     0.88288,     0.88388,     0.88488,     0.88589,     0.88689,     0.88789,\n",
       "           0.88889,     0.88989,     0.89089,     0.89189,     0.89289,     0.89389,     0.89489,      0.8959,      0.8969,      0.8979,      0.8989,      0.8999,      0.9009,      0.9019,      0.9029,      0.9039,      0.9049,     0.90591,     0.90691,     0.90791,     0.90891,     0.90991,     0.91091,     0.91191,\n",
       "           0.91291,     0.91391,     0.91491,     0.91592,     0.91692,     0.91792,     0.91892,     0.91992,     0.92092,     0.92192,     0.92292,     0.92392,     0.92492,     0.92593,     0.92693,     0.92793,     0.92893,     0.92993,     0.93093,     0.93193,     0.93293,     0.93393,     0.93493,     0.93594,\n",
       "           0.93694,     0.93794,     0.93894,     0.93994,     0.94094,     0.94194,     0.94294,     0.94394,     0.94494,     0.94595,     0.94695,     0.94795,     0.94895,     0.94995,     0.95095,     0.95195,     0.95295,     0.95395,     0.95495,     0.95596,     0.95696,     0.95796,     0.95896,     0.95996,\n",
       "           0.96096,     0.96196,     0.96296,     0.96396,     0.96496,     0.96597,     0.96697,     0.96797,     0.96897,     0.96997,     0.97097,     0.97197,     0.97297,     0.97397,     0.97497,     0.97598,     0.97698,     0.97798,     0.97898,     0.97998,     0.98098,     0.98198,     0.98298,     0.98398,\n",
       "           0.98498,     0.98599,     0.98699,     0.98799,     0.98899,     0.98999,     0.99099,     0.99199,     0.99299,     0.99399,     0.99499,       0.996,       0.997,       0.998,       0.999,           1]), array([[          1,           1,           1,           1,           1,           1,           1,           1,           1,           1,           1,           1,           1,           1,           1,           1,           1,           1,           1,           1,           1,           1,           1,\n",
       "                  1,           1,           1,           1,           1,           1,           1,           1,           1,           1,           1,           1,           1,     0.66667,     0.66667,     0.66667,     0.66667,     0.66667,     0.66667,     0.66667,     0.66667,     0.66667,     0.66667,\n",
       "            0.66667,     0.66667,     0.66667,     0.66667,     0.66667,     0.66667,     0.66667,     0.66667,     0.66667,     0.66667,     0.66667,     0.66667,     0.66667,     0.66667,     0.66667,     0.66667,     0.66667,     0.66667,     0.66667,     0.66667,     0.66667,     0.66667,     0.66667,\n",
       "            0.66667,     0.66667,     0.66667,     0.66667,     0.66667,     0.66667,     0.66667,     0.66667,     0.66667,     0.66667,     0.66667,     0.66667,     0.66667,     0.66667,     0.66667,     0.66667,     0.66667,     0.66667,     0.66667,     0.66667,     0.66667,     0.66667,     0.66667,\n",
       "            0.66667,     0.66667,     0.66667,     0.66667,     0.66667,     0.66667,     0.66667,     0.66667,     0.66667,     0.66667,     0.66667,     0.66667,     0.66667,     0.66667,     0.66667,     0.66667,     0.66667,     0.66667,     0.66667,     0.66667,     0.66667,     0.66667,     0.66667,\n",
       "            0.66667,     0.66667,     0.66667,     0.66667,     0.66667,     0.66667,     0.66667,     0.66667,     0.66667,     0.66667,     0.66667,     0.66667,     0.66667,     0.66667,     0.66667,     0.66667,     0.66667,     0.66667,     0.66667,     0.66667,     0.66667,     0.66667,     0.66667,\n",
       "            0.66667,     0.66667,     0.66667,     0.66667,     0.66667,     0.66667,     0.66667,     0.66667,     0.66667,     0.66667,     0.66667,     0.66667,     0.66667,     0.66667,     0.66667,     0.66667,     0.66667,     0.66667,     0.66667,     0.66667,     0.66667,     0.66667,     0.66667,\n",
       "            0.66667,     0.66667,     0.66667,     0.66667,     0.66667,     0.66667,     0.66667,     0.66667,     0.66667,     0.66667,     0.66667,     0.66667,     0.66667,     0.66667,     0.66667,     0.66667,     0.66667,     0.66667,     0.66667,     0.66667,     0.66667,     0.66667,     0.66667,\n",
       "            0.66667,     0.66667,     0.66667,     0.66667,     0.66667,     0.66667,     0.66667,     0.66667,     0.66667,     0.66667,     0.66667,     0.66667,     0.66667,     0.66667,     0.66667,     0.66667,     0.66667,     0.66667,     0.66667,     0.66667,     0.66667,     0.66667,     0.66667,\n",
       "            0.66667,     0.66667,     0.66667,     0.66667,     0.66667,     0.66667,     0.66667,     0.66667,     0.66667,     0.66667,     0.66667,     0.66667,     0.66667,     0.66667,     0.66667,     0.66667,     0.66667,     0.66667,     0.66667,     0.66667,     0.66667,     0.66667,     0.66667,\n",
       "            0.66667,     0.66667,     0.66667,     0.66667,     0.66667,     0.66667,     0.66667,     0.66667,     0.66667,     0.66667,     0.66667,     0.66667,     0.66667,     0.66667,     0.66667,     0.66667,     0.66667,     0.66667,     0.66667,     0.66667,     0.66667,     0.66667,     0.66667,\n",
       "            0.66667,     0.66667,     0.66667,     0.66667,     0.66667,     0.66667,     0.66667,     0.66667,     0.66667,     0.66667,     0.66667,     0.66667,     0.66667,     0.66667,     0.66667,     0.66667,     0.66667,     0.66667,     0.66667,     0.66667,     0.66667,     0.66667,     0.66667,\n",
       "            0.66667,     0.66667,     0.66667,     0.66667,     0.66667,     0.66667,     0.66667,     0.66667,     0.66667,     0.66667,     0.65385,     0.65385,     0.65385,     0.65385,     0.65385,     0.65385,     0.65385,     0.65385,     0.65385,     0.65385,     0.65385,     0.65385,     0.65385,\n",
       "            0.65385,     0.65385,     0.65385,     0.65385,     0.65385,     0.65385,     0.65385,     0.65385,     0.65385,     0.65385,     0.65385,     0.65385,     0.65385,     0.65385,     0.65385,     0.65385,     0.65385,     0.65385,     0.65385,     0.65385,     0.65385,     0.65385,     0.65385,\n",
       "            0.65385,     0.65385,     0.65385,     0.65385,     0.65385,     0.65385,     0.65385,     0.65385,     0.65385,     0.65385,     0.65385,     0.65385,     0.65385,     0.65385,     0.65385,     0.65385,     0.65385,     0.65385,     0.65385,     0.65385,     0.65385,     0.65385,     0.65385,\n",
       "            0.65385,     0.65385,     0.65385,     0.65385,     0.65385,     0.65385,     0.65385,     0.65385,     0.65385,     0.65385,     0.65385,     0.65385,     0.65385,     0.65385,     0.65385,     0.65385,     0.65385,     0.65385,     0.65385,     0.65385,     0.65385,     0.65385,     0.65385,\n",
       "            0.65385,     0.65385,     0.65385,     0.65385,     0.65385,     0.65385,     0.65385,     0.65385,     0.65385,     0.65385,     0.65385,     0.65385,     0.65385,     0.65385,     0.65385,     0.65385,     0.65385,     0.65385,     0.65385,     0.65385,     0.65385,     0.65385,     0.65385,\n",
       "            0.65385,     0.65385,     0.65385,     0.65385,     0.65385,     0.65385,     0.65385,     0.65385,     0.65385,     0.65385,     0.65385,     0.65385,     0.65385,     0.65385,     0.65385,     0.65385,     0.65385,     0.65385,     0.65385,     0.65385,     0.65385,     0.65385,     0.65385,\n",
       "            0.65385,     0.65385,     0.65385,     0.65385,     0.65385,     0.65385,     0.65385,     0.65385,     0.65385,     0.65385,     0.65385,     0.65385,     0.65385,     0.65385,     0.65385,     0.65385,     0.65385,     0.65385,     0.65385,     0.65385,     0.65385,     0.65385,     0.65385,\n",
       "            0.65385,     0.65385,     0.65385,     0.65385,     0.65385,     0.65385,     0.65385,     0.65385,     0.65385,     0.65385,     0.65385,     0.65385,     0.65385,     0.65385,     0.65385,     0.65385,     0.65385,     0.65385,     0.65385,     0.65385,     0.65385,     0.65385,     0.65385,\n",
       "            0.65385,     0.65385,     0.65385,     0.65385,     0.65385,     0.65385,     0.65385,     0.65385,     0.65385,     0.65385,     0.65385,     0.65385,     0.65385,     0.65385,     0.65385,     0.65385,     0.65385,     0.65385,     0.65385,     0.65385,     0.65385,     0.65385,     0.65385,\n",
       "            0.65385,     0.65385,     0.65385,     0.65385,     0.65385,     0.65385,     0.65385,     0.65385,     0.65385,     0.65385,     0.65385,     0.65385,     0.65385,     0.65385,     0.65385,     0.65385,     0.65385,     0.65385,     0.65385,     0.65385,     0.65385,     0.65385,     0.65385,\n",
       "            0.65385,     0.65385,     0.65385,     0.65385,     0.65385,     0.65385,     0.65385,     0.65385,     0.65385,     0.65385,     0.65385,     0.65385,     0.65385,     0.65385,     0.65385,     0.65385,     0.65385,     0.65385,     0.65385,     0.65385,     0.65385,     0.65385,     0.65385,\n",
       "            0.65385,     0.65385,     0.65385,     0.65385,     0.65385,     0.65385,     0.65385,     0.65385,     0.65385,     0.65385,     0.65385,     0.65385,     0.65385,     0.65385,     0.65385,     0.65385,     0.65385,     0.65385,     0.65385,     0.65385,     0.65385,     0.65385,     0.65385,\n",
       "            0.65385,     0.65385,     0.65385,     0.65385,     0.65385,     0.65385,     0.65385,     0.65385,     0.65385,     0.65385,     0.65385,     0.65385,     0.65385,     0.65385,     0.65385,     0.65385,     0.65385,     0.65385,     0.65385,     0.65385,     0.65385,     0.65385,     0.65385,\n",
       "            0.65385,     0.65385,     0.65385,     0.65385,     0.65385,     0.65385,     0.65385,     0.65385,     0.65385,     0.65385,     0.65385,     0.65385,     0.65385,     0.65385,     0.65385,     0.65385,     0.65385,     0.65385,     0.65385,     0.65385,     0.65385,     0.65385,     0.65385,\n",
       "            0.65385,     0.65385,     0.65385,     0.65385,     0.65385,     0.65385,     0.65385,     0.65385,     0.65385,     0.30873,     0.30794,     0.30715,     0.30636,     0.30557,     0.30479,       0.304,     0.30321,     0.30242,     0.30164,     0.30085,     0.30006,     0.29927,     0.29849,\n",
       "             0.2977,     0.29691,     0.29612,     0.29534,     0.29455,     0.29376,     0.29297,     0.29219,      0.2914,     0.29061,     0.28982,     0.28904,     0.28825,     0.28746,     0.28667,     0.28589,      0.2851,     0.28431,     0.28352,     0.28274,     0.28195,     0.28116,     0.28037,\n",
       "            0.27959,      0.2788,     0.27801,     0.27722,     0.27644,     0.27565,     0.27486,     0.27407,     0.27328,      0.2725,     0.27171,     0.27092,     0.27013,     0.26935,     0.26856,     0.26777,     0.26698,      0.2662,     0.26541,     0.26462,     0.26383,     0.26305,     0.26226,\n",
       "            0.26147,     0.26068,      0.2599,     0.25911,     0.25832,     0.25753,     0.25675,     0.25596,     0.25517,     0.25438,      0.2536,     0.25281,     0.25202,     0.25123,     0.25045,     0.24966,     0.24887,     0.24808,      0.2473,     0.24651,     0.24572,     0.24493,     0.24414,\n",
       "            0.24336,     0.24257,     0.24178,     0.24099,     0.24021,     0.23942,     0.23863,     0.23784,     0.23706,     0.23627,     0.23548,     0.23469,     0.23391,     0.23312,     0.23233,     0.23154,     0.23076,     0.22997,     0.22918,     0.22839,     0.22761,     0.22682,     0.22603,\n",
       "            0.22524,     0.22446,     0.22367,     0.22288,     0.22209,     0.22131,     0.22052,     0.21973,     0.21894,     0.21816,     0.21737,     0.21658,     0.21579,     0.21501,     0.21422,     0.21343,     0.21264,     0.21185,     0.21107,     0.21028,     0.20949,      0.2087,     0.20792,\n",
       "            0.20713,     0.20634,     0.20555,     0.20477,     0.20398,     0.20319,      0.2024,     0.20162,     0.20083,     0.20004,     0.19925,     0.19847,     0.19768,     0.19689,      0.1961,     0.19532,     0.19453,     0.19374,     0.19295,     0.19217,     0.19138,     0.19059,      0.1898,\n",
       "            0.18902,     0.18823,     0.18744,     0.18665,     0.18587,     0.18508,     0.18429,      0.1835,     0.18271,     0.18193,     0.18114,     0.18035,     0.17956,     0.17878,     0.17799,      0.1772,     0.17641,     0.17563,     0.17484,     0.17405,     0.17326,     0.17248,     0.17169,\n",
       "             0.1709,     0.17011,     0.16933,     0.16854,     0.16775,     0.16696,     0.16618,     0.16539,      0.1646,     0.16381,     0.16303,     0.16224,     0.16145,     0.16066,     0.15988,     0.15909,      0.1583,     0.15751,     0.15673,     0.15594,     0.15515,     0.15436,     0.15358,\n",
       "            0.15279,       0.152,     0.15121,     0.15042,     0.14964,     0.14885,     0.14806,     0.14727,     0.14649,      0.1457,     0.14491,     0.14412,     0.14334,     0.14255,     0.14176,     0.14097,     0.14019,      0.1394,     0.13861,     0.13782,     0.13704,     0.13625,     0.13546,\n",
       "            0.13467,     0.13389,      0.1331,     0.13231,     0.13152,     0.13074,     0.12995,     0.12916,     0.12837,     0.12759,      0.1268,     0.12601,     0.12522,     0.12444,     0.12365,     0.12286,     0.12207,     0.12128,      0.1205,     0.11971,     0.11892,     0.11813,     0.11735,\n",
       "            0.11656,     0.11577,     0.11498,      0.1142,     0.11341,     0.11262,     0.11183,     0.11105,     0.11026,     0.10947,     0.10868,      0.1079,     0.10711,     0.10632,     0.10553,     0.10475,     0.10396,     0.10317,     0.10238,      0.1016,     0.10081,     0.10002,    0.099233,\n",
       "           0.098446,    0.097658,     0.09687,    0.096083,    0.095295,    0.094508,     0.09372,    0.092933,    0.092145,    0.091357,     0.09057,    0.089782,    0.088995,    0.088207,     0.08742,    0.086632,    0.085845,    0.085057,    0.084269,    0.083482,    0.082694,    0.081907,    0.081119,\n",
       "           0.080332,    0.079544,    0.078756,    0.077969,    0.077181,    0.076394,    0.075606,    0.074819,    0.074031,    0.073243,    0.072456,    0.071668,    0.070881,    0.070093,    0.069306,    0.068518,    0.067731,    0.066943,    0.066155,    0.065368,     0.06458,    0.063793,    0.063005,\n",
       "           0.062218,     0.06143,    0.060642,    0.059855,    0.059067,     0.05828,    0.057492,    0.056705,    0.055917,     0.05513,    0.054342,    0.053554,    0.052767,    0.051979,    0.051192,    0.050404,    0.049617,    0.048829,    0.048041,    0.047254,    0.046466,    0.045679,    0.044891,\n",
       "           0.044104,    0.043316,    0.042528,    0.041741,    0.040953,    0.040166,    0.039378,    0.038591,    0.037803,    0.037016,    0.036228,     0.03544,    0.034653,    0.033865,    0.033078,     0.03229,    0.031503,    0.030715,    0.029927,     0.02914,    0.028352,    0.027565,    0.026777,\n",
       "            0.02599,    0.025202,    0.024414,    0.023627,    0.022839,    0.022052,    0.021264,    0.020477,    0.019689,    0.018902,    0.018114,    0.017326,    0.016539,    0.015751,    0.014964,    0.014176,    0.013389,    0.012601,    0.011813,    0.011026,    0.010238,   0.0094508,   0.0086632,\n",
       "          0.0078756,   0.0070881,   0.0063005,    0.005513,   0.0047254,   0.0039378,   0.0031503,   0.0023627,   0.0015751,  0.00078756,           0]]), 'Recall', 'Precision'], [array([          0,    0.001001,    0.002002,    0.003003,    0.004004,    0.005005,    0.006006,    0.007007,    0.008008,    0.009009,     0.01001,    0.011011,    0.012012,    0.013013,    0.014014,    0.015015,    0.016016,    0.017017,    0.018018,    0.019019,     0.02002,    0.021021,    0.022022,    0.023023,\n",
       "          0.024024,    0.025025,    0.026026,    0.027027,    0.028028,    0.029029,     0.03003,    0.031031,    0.032032,    0.033033,    0.034034,    0.035035,    0.036036,    0.037037,    0.038038,    0.039039,     0.04004,    0.041041,    0.042042,    0.043043,    0.044044,    0.045045,    0.046046,    0.047047,\n",
       "          0.048048,    0.049049,     0.05005,    0.051051,    0.052052,    0.053053,    0.054054,    0.055055,    0.056056,    0.057057,    0.058058,    0.059059,     0.06006,    0.061061,    0.062062,    0.063063,    0.064064,    0.065065,    0.066066,    0.067067,    0.068068,    0.069069,     0.07007,    0.071071,\n",
       "          0.072072,    0.073073,    0.074074,    0.075075,    0.076076,    0.077077,    0.078078,    0.079079,     0.08008,    0.081081,    0.082082,    0.083083,    0.084084,    0.085085,    0.086086,    0.087087,    0.088088,    0.089089,     0.09009,    0.091091,    0.092092,    0.093093,    0.094094,    0.095095,\n",
       "          0.096096,    0.097097,    0.098098,    0.099099,      0.1001,      0.1011,      0.1021,      0.1031,      0.1041,     0.10511,     0.10611,     0.10711,     0.10811,     0.10911,     0.11011,     0.11111,     0.11211,     0.11311,     0.11411,     0.11512,     0.11612,     0.11712,     0.11812,     0.11912,\n",
       "           0.12012,     0.12112,     0.12212,     0.12312,     0.12412,     0.12513,     0.12613,     0.12713,     0.12813,     0.12913,     0.13013,     0.13113,     0.13213,     0.13313,     0.13413,     0.13514,     0.13614,     0.13714,     0.13814,     0.13914,     0.14014,     0.14114,     0.14214,     0.14314,\n",
       "           0.14414,     0.14515,     0.14615,     0.14715,     0.14815,     0.14915,     0.15015,     0.15115,     0.15215,     0.15315,     0.15415,     0.15516,     0.15616,     0.15716,     0.15816,     0.15916,     0.16016,     0.16116,     0.16216,     0.16316,     0.16416,     0.16517,     0.16617,     0.16717,\n",
       "           0.16817,     0.16917,     0.17017,     0.17117,     0.17217,     0.17317,     0.17417,     0.17518,     0.17618,     0.17718,     0.17818,     0.17918,     0.18018,     0.18118,     0.18218,     0.18318,     0.18418,     0.18519,     0.18619,     0.18719,     0.18819,     0.18919,     0.19019,     0.19119,\n",
       "           0.19219,     0.19319,     0.19419,      0.1952,      0.1962,      0.1972,      0.1982,      0.1992,      0.2002,      0.2012,      0.2022,      0.2032,      0.2042,     0.20521,     0.20621,     0.20721,     0.20821,     0.20921,     0.21021,     0.21121,     0.21221,     0.21321,     0.21421,     0.21522,\n",
       "           0.21622,     0.21722,     0.21822,     0.21922,     0.22022,     0.22122,     0.22222,     0.22322,     0.22422,     0.22523,     0.22623,     0.22723,     0.22823,     0.22923,     0.23023,     0.23123,     0.23223,     0.23323,     0.23423,     0.23524,     0.23624,     0.23724,     0.23824,     0.23924,\n",
       "           0.24024,     0.24124,     0.24224,     0.24324,     0.24424,     0.24525,     0.24625,     0.24725,     0.24825,     0.24925,     0.25025,     0.25125,     0.25225,     0.25325,     0.25425,     0.25526,     0.25626,     0.25726,     0.25826,     0.25926,     0.26026,     0.26126,     0.26226,     0.26326,\n",
       "           0.26426,     0.26527,     0.26627,     0.26727,     0.26827,     0.26927,     0.27027,     0.27127,     0.27227,     0.27327,     0.27427,     0.27528,     0.27628,     0.27728,     0.27828,     0.27928,     0.28028,     0.28128,     0.28228,     0.28328,     0.28428,     0.28529,     0.28629,     0.28729,\n",
       "           0.28829,     0.28929,     0.29029,     0.29129,     0.29229,     0.29329,     0.29429,      0.2953,      0.2963,      0.2973,      0.2983,      0.2993,      0.3003,      0.3013,      0.3023,      0.3033,      0.3043,     0.30531,     0.30631,     0.30731,     0.30831,     0.30931,     0.31031,     0.31131,\n",
       "           0.31231,     0.31331,     0.31431,     0.31532,     0.31632,     0.31732,     0.31832,     0.31932,     0.32032,     0.32132,     0.32232,     0.32332,     0.32432,     0.32533,     0.32633,     0.32733,     0.32833,     0.32933,     0.33033,     0.33133,     0.33233,     0.33333,     0.33433,     0.33534,\n",
       "           0.33634,     0.33734,     0.33834,     0.33934,     0.34034,     0.34134,     0.34234,     0.34334,     0.34434,     0.34535,     0.34635,     0.34735,     0.34835,     0.34935,     0.35035,     0.35135,     0.35235,     0.35335,     0.35435,     0.35536,     0.35636,     0.35736,     0.35836,     0.35936,\n",
       "           0.36036,     0.36136,     0.36236,     0.36336,     0.36436,     0.36537,     0.36637,     0.36737,     0.36837,     0.36937,     0.37037,     0.37137,     0.37237,     0.37337,     0.37437,     0.37538,     0.37638,     0.37738,     0.37838,     0.37938,     0.38038,     0.38138,     0.38238,     0.38338,\n",
       "           0.38438,     0.38539,     0.38639,     0.38739,     0.38839,     0.38939,     0.39039,     0.39139,     0.39239,     0.39339,     0.39439,      0.3954,      0.3964,      0.3974,      0.3984,      0.3994,      0.4004,      0.4014,      0.4024,      0.4034,      0.4044,     0.40541,     0.40641,     0.40741,\n",
       "           0.40841,     0.40941,     0.41041,     0.41141,     0.41241,     0.41341,     0.41441,     0.41542,     0.41642,     0.41742,     0.41842,     0.41942,     0.42042,     0.42142,     0.42242,     0.42342,     0.42442,     0.42543,     0.42643,     0.42743,     0.42843,     0.42943,     0.43043,     0.43143,\n",
       "           0.43243,     0.43343,     0.43443,     0.43544,     0.43644,     0.43744,     0.43844,     0.43944,     0.44044,     0.44144,     0.44244,     0.44344,     0.44444,     0.44545,     0.44645,     0.44745,     0.44845,     0.44945,     0.45045,     0.45145,     0.45245,     0.45345,     0.45445,     0.45546,\n",
       "           0.45646,     0.45746,     0.45846,     0.45946,     0.46046,     0.46146,     0.46246,     0.46346,     0.46446,     0.46547,     0.46647,     0.46747,     0.46847,     0.46947,     0.47047,     0.47147,     0.47247,     0.47347,     0.47447,     0.47548,     0.47648,     0.47748,     0.47848,     0.47948,\n",
       "           0.48048,     0.48148,     0.48248,     0.48348,     0.48448,     0.48549,     0.48649,     0.48749,     0.48849,     0.48949,     0.49049,     0.49149,     0.49249,     0.49349,     0.49449,      0.4955,      0.4965,      0.4975,      0.4985,      0.4995,      0.5005,      0.5015,      0.5025,      0.5035,\n",
       "            0.5045,     0.50551,     0.50651,     0.50751,     0.50851,     0.50951,     0.51051,     0.51151,     0.51251,     0.51351,     0.51451,     0.51552,     0.51652,     0.51752,     0.51852,     0.51952,     0.52052,     0.52152,     0.52252,     0.52352,     0.52452,     0.52553,     0.52653,     0.52753,\n",
       "           0.52853,     0.52953,     0.53053,     0.53153,     0.53253,     0.53353,     0.53453,     0.53554,     0.53654,     0.53754,     0.53854,     0.53954,     0.54054,     0.54154,     0.54254,     0.54354,     0.54454,     0.54555,     0.54655,     0.54755,     0.54855,     0.54955,     0.55055,     0.55155,\n",
       "           0.55255,     0.55355,     0.55455,     0.55556,     0.55656,     0.55756,     0.55856,     0.55956,     0.56056,     0.56156,     0.56256,     0.56356,     0.56456,     0.56557,     0.56657,     0.56757,     0.56857,     0.56957,     0.57057,     0.57157,     0.57257,     0.57357,     0.57457,     0.57558,\n",
       "           0.57658,     0.57758,     0.57858,     0.57958,     0.58058,     0.58158,     0.58258,     0.58358,     0.58458,     0.58559,     0.58659,     0.58759,     0.58859,     0.58959,     0.59059,     0.59159,     0.59259,     0.59359,     0.59459,      0.5956,      0.5966,      0.5976,      0.5986,      0.5996,\n",
       "            0.6006,      0.6016,      0.6026,      0.6036,      0.6046,     0.60561,     0.60661,     0.60761,     0.60861,     0.60961,     0.61061,     0.61161,     0.61261,     0.61361,     0.61461,     0.61562,     0.61662,     0.61762,     0.61862,     0.61962,     0.62062,     0.62162,     0.62262,     0.62362,\n",
       "           0.62462,     0.62563,     0.62663,     0.62763,     0.62863,     0.62963,     0.63063,     0.63163,     0.63263,     0.63363,     0.63463,     0.63564,     0.63664,     0.63764,     0.63864,     0.63964,     0.64064,     0.64164,     0.64264,     0.64364,     0.64464,     0.64565,     0.64665,     0.64765,\n",
       "           0.64865,     0.64965,     0.65065,     0.65165,     0.65265,     0.65365,     0.65465,     0.65566,     0.65666,     0.65766,     0.65866,     0.65966,     0.66066,     0.66166,     0.66266,     0.66366,     0.66466,     0.66567,     0.66667,     0.66767,     0.66867,     0.66967,     0.67067,     0.67167,\n",
       "           0.67267,     0.67367,     0.67467,     0.67568,     0.67668,     0.67768,     0.67868,     0.67968,     0.68068,     0.68168,     0.68268,     0.68368,     0.68468,     0.68569,     0.68669,     0.68769,     0.68869,     0.68969,     0.69069,     0.69169,     0.69269,     0.69369,     0.69469,      0.6957,\n",
       "            0.6967,      0.6977,      0.6987,      0.6997,      0.7007,      0.7017,      0.7027,      0.7037,      0.7047,     0.70571,     0.70671,     0.70771,     0.70871,     0.70971,     0.71071,     0.71171,     0.71271,     0.71371,     0.71471,     0.71572,     0.71672,     0.71772,     0.71872,     0.71972,\n",
       "           0.72072,     0.72172,     0.72272,     0.72372,     0.72472,     0.72573,     0.72673,     0.72773,     0.72873,     0.72973,     0.73073,     0.73173,     0.73273,     0.73373,     0.73473,     0.73574,     0.73674,     0.73774,     0.73874,     0.73974,     0.74074,     0.74174,     0.74274,     0.74374,\n",
       "           0.74474,     0.74575,     0.74675,     0.74775,     0.74875,     0.74975,     0.75075,     0.75175,     0.75275,     0.75375,     0.75475,     0.75576,     0.75676,     0.75776,     0.75876,     0.75976,     0.76076,     0.76176,     0.76276,     0.76376,     0.76476,     0.76577,     0.76677,     0.76777,\n",
       "           0.76877,     0.76977,     0.77077,     0.77177,     0.77277,     0.77377,     0.77477,     0.77578,     0.77678,     0.77778,     0.77878,     0.77978,     0.78078,     0.78178,     0.78278,     0.78378,     0.78478,     0.78579,     0.78679,     0.78779,     0.78879,     0.78979,     0.79079,     0.79179,\n",
       "           0.79279,     0.79379,     0.79479,      0.7958,      0.7968,      0.7978,      0.7988,      0.7998,      0.8008,      0.8018,      0.8028,      0.8038,      0.8048,     0.80581,     0.80681,     0.80781,     0.80881,     0.80981,     0.81081,     0.81181,     0.81281,     0.81381,     0.81481,     0.81582,\n",
       "           0.81682,     0.81782,     0.81882,     0.81982,     0.82082,     0.82182,     0.82282,     0.82382,     0.82482,     0.82583,     0.82683,     0.82783,     0.82883,     0.82983,     0.83083,     0.83183,     0.83283,     0.83383,     0.83483,     0.83584,     0.83684,     0.83784,     0.83884,     0.83984,\n",
       "           0.84084,     0.84184,     0.84284,     0.84384,     0.84484,     0.84585,     0.84685,     0.84785,     0.84885,     0.84985,     0.85085,     0.85185,     0.85285,     0.85385,     0.85485,     0.85586,     0.85686,     0.85786,     0.85886,     0.85986,     0.86086,     0.86186,     0.86286,     0.86386,\n",
       "           0.86486,     0.86587,     0.86687,     0.86787,     0.86887,     0.86987,     0.87087,     0.87187,     0.87287,     0.87387,     0.87487,     0.87588,     0.87688,     0.87788,     0.87888,     0.87988,     0.88088,     0.88188,     0.88288,     0.88388,     0.88488,     0.88589,     0.88689,     0.88789,\n",
       "           0.88889,     0.88989,     0.89089,     0.89189,     0.89289,     0.89389,     0.89489,      0.8959,      0.8969,      0.8979,      0.8989,      0.8999,      0.9009,      0.9019,      0.9029,      0.9039,      0.9049,     0.90591,     0.90691,     0.90791,     0.90891,     0.90991,     0.91091,     0.91191,\n",
       "           0.91291,     0.91391,     0.91491,     0.91592,     0.91692,     0.91792,     0.91892,     0.91992,     0.92092,     0.92192,     0.92292,     0.92392,     0.92492,     0.92593,     0.92693,     0.92793,     0.92893,     0.92993,     0.93093,     0.93193,     0.93293,     0.93393,     0.93493,     0.93594,\n",
       "           0.93694,     0.93794,     0.93894,     0.93994,     0.94094,     0.94194,     0.94294,     0.94394,     0.94494,     0.94595,     0.94695,     0.94795,     0.94895,     0.94995,     0.95095,     0.95195,     0.95295,     0.95395,     0.95495,     0.95596,     0.95696,     0.95796,     0.95896,     0.95996,\n",
       "           0.96096,     0.96196,     0.96296,     0.96396,     0.96496,     0.96597,     0.96697,     0.96797,     0.96897,     0.96997,     0.97097,     0.97197,     0.97297,     0.97397,     0.97497,     0.97598,     0.97698,     0.97798,     0.97898,     0.97998,     0.98098,     0.98198,     0.98298,     0.98398,\n",
       "           0.98498,     0.98599,     0.98699,     0.98799,     0.98899,     0.98999,     0.99099,     0.99199,     0.99299,     0.99399,     0.99499,       0.996,       0.997,       0.998,       0.999,           1]), array([[    0.40964,     0.40964,     0.49529,     0.52306,     0.54886,     0.56436,     0.56826,     0.57013,     0.57199,     0.57384,     0.57568,     0.57636,     0.57649,     0.57662,     0.57675,     0.57688,     0.57701,     0.57714,     0.57727,      0.5774,     0.57753,     0.57766,     0.57779,\n",
       "            0.57793,     0.57806,     0.57819,     0.57832,     0.57845,     0.57857,      0.5787,     0.57883,     0.57896,     0.57909,     0.57922,     0.57935,     0.57948,     0.57961,     0.57974,     0.57987,        0.58,     0.58013,     0.58026,     0.58039,     0.58052,     0.58065,     0.58077,\n",
       "             0.5809,     0.58103,     0.58116,     0.58129,     0.58142,     0.58155,     0.58168,      0.5818,     0.58193,     0.58206,     0.58219,     0.58232,     0.58245,     0.58257,      0.5827,     0.58283,     0.58296,     0.58309,     0.58321,     0.58334,     0.58347,      0.5836,     0.58373,\n",
       "            0.58385,     0.58398,     0.58411,     0.58424,     0.58436,     0.58449,     0.58462,     0.58475,     0.58487,       0.585,     0.58513,     0.58526,     0.58538,     0.58551,     0.58564,     0.58576,     0.58589,     0.58602,     0.58614,     0.58628,     0.58641,     0.58655,     0.58669,\n",
       "            0.58682,     0.58696,      0.5871,     0.58723,     0.58737,     0.58751,     0.58764,     0.58778,     0.58792,     0.58805,     0.58819,     0.58832,     0.58846,      0.5886,     0.58873,     0.58887,       0.589,     0.58914,     0.58928,     0.58941,     0.58955,     0.58968,     0.58982,\n",
       "            0.58995,     0.59009,     0.59022,     0.59036,      0.5905,     0.59063,     0.59077,      0.5909,     0.59104,     0.59117,     0.59131,     0.59144,     0.59158,     0.59171,     0.59184,     0.59198,     0.59211,     0.59225,     0.59238,     0.59252,     0.59265,     0.59279,     0.59292,\n",
       "            0.59305,     0.59319,     0.59332,     0.59346,     0.59359,     0.59372,     0.59386,     0.59399,     0.59412,     0.59426,     0.59439,     0.59453,     0.59466,     0.59479,     0.59493,     0.59506,     0.59519,     0.59533,     0.59546,     0.59559,     0.59572,     0.59586,     0.59599,\n",
       "            0.59612,     0.59626,     0.59639,     0.59652,     0.59665,     0.59679,     0.59692,     0.59706,     0.59719,     0.59732,     0.59746,     0.59759,     0.59772,     0.59785,     0.59799,     0.59812,     0.59825,     0.59839,     0.59852,     0.59865,     0.59878,     0.59892,     0.59905,\n",
       "            0.59918,     0.59931,     0.59945,     0.59958,     0.59971,     0.59984,     0.59998,     0.60011,     0.60024,     0.60037,      0.6005,     0.60064,     0.60077,      0.6009,     0.60103,     0.60116,     0.60129,     0.60143,     0.60156,     0.60169,     0.60182,     0.60195,     0.60208,\n",
       "            0.60221,     0.60235,     0.60248,     0.60261,     0.60274,     0.60287,       0.603,     0.60313,     0.60326,     0.60339,     0.60352,     0.60365,     0.60378,     0.60392,     0.60405,     0.60418,     0.60431,     0.60444,     0.60457,      0.6047,     0.60483,     0.60496,     0.60509,\n",
       "            0.60522,     0.60535,     0.60548,     0.60561,     0.60574,     0.60587,       0.606,     0.60613,     0.60625,     0.60638,     0.60651,     0.60664,     0.60677,      0.6069,     0.60703,     0.60715,     0.60723,     0.60732,      0.6074,     0.60748,     0.60756,     0.60764,     0.60772,\n",
       "            0.60781,     0.60789,     0.60797,     0.60805,     0.60813,     0.60821,     0.60829,     0.60837,     0.60846,     0.60854,     0.60862,      0.6087,     0.60878,     0.60886,     0.60894,     0.60902,     0.60911,     0.60919,     0.60927,     0.60935,     0.60943,     0.60951,     0.60959,\n",
       "            0.60967,     0.60975,     0.60983,     0.60991,        0.61,     0.61008,     0.61016,     0.61024,     0.61032,      0.6104,     0.61048,     0.61056,     0.61064,     0.61072,      0.6108,     0.61088,     0.61096,     0.61104,     0.61112,     0.61121,     0.61129,     0.61137,     0.61145,\n",
       "            0.61153,     0.61161,     0.61169,     0.61177,     0.61185,     0.61193,     0.61201,     0.61209,     0.61217,     0.61225,     0.61233,     0.61241,     0.61249,     0.61257,     0.61265,     0.61273,     0.61281,     0.61289,     0.61297,     0.61305,     0.61313,     0.61321,     0.61329,\n",
       "            0.61337,     0.61345,     0.61353,     0.61361,     0.61369,     0.61377,     0.61385,     0.61393,     0.61401,     0.61409,     0.61417,     0.61425,     0.61433,     0.61441,     0.61449,     0.61457,     0.61465,     0.61473,     0.61481,     0.61489,     0.61497,     0.61505,     0.61512,\n",
       "             0.6152,     0.61528,     0.61536,     0.61544,     0.61552,      0.6156,     0.61568,     0.61576,     0.61584,     0.61592,       0.616,     0.61608,     0.61616,     0.61623,     0.61631,     0.61639,     0.61647,     0.61655,     0.61663,     0.61671,     0.61679,     0.61687,     0.61695,\n",
       "            0.61703,      0.6171,     0.61718,     0.61726,     0.61734,     0.61742,      0.6175,     0.61758,     0.61766,     0.61774,     0.61781,     0.61789,     0.61797,     0.61805,     0.61813,      0.6182,     0.61827,     0.61834,     0.61841,     0.61848,     0.61855,     0.61861,     0.61868,\n",
       "            0.61875,     0.61882,     0.61889,     0.61896,     0.61902,     0.61909,     0.61916,     0.61923,      0.6193,     0.61937,     0.61943,      0.6195,     0.61957,     0.61964,     0.61971,     0.61977,     0.61984,     0.61991,     0.61998,     0.62005,     0.62011,     0.62018,     0.62025,\n",
       "            0.62032,     0.62039,     0.62045,     0.62052,     0.62059,     0.62066,     0.62073,     0.62079,     0.62086,     0.62093,       0.621,     0.62107,     0.62113,      0.6212,     0.62127,     0.62134,      0.6214,     0.62147,     0.62154,     0.62161,     0.62168,     0.62174,     0.62181,\n",
       "            0.62188,     0.62195,     0.62201,     0.62208,     0.62215,     0.62222,     0.62228,     0.62235,     0.62242,     0.62249,     0.62255,     0.62262,     0.62269,     0.62276,     0.62282,     0.62289,     0.62296,     0.62303,     0.62309,     0.62316,     0.62323,     0.62329,     0.62336,\n",
       "            0.62343,      0.6235,     0.62356,     0.62363,      0.6237,     0.62377,     0.62383,      0.6239,     0.62397,     0.62403,      0.6241,     0.62417,     0.62424,      0.6243,     0.62437,     0.62444,      0.6245,     0.62457,     0.62464,      0.6247,     0.62477,     0.62484,     0.62491,\n",
       "            0.62497,     0.62504,     0.62511,     0.62517,     0.62524,     0.62531,     0.62537,     0.62544,     0.62551,     0.62557,     0.62564,     0.62571,     0.62577,     0.62584,     0.62591,     0.62597,     0.62604,     0.62611,     0.62617,     0.62624,     0.62631,     0.62637,     0.62644,\n",
       "            0.62651,     0.62657,     0.62664,     0.62671,     0.62677,     0.62684,     0.62691,     0.62697,     0.62704,     0.62711,     0.62717,     0.62724,      0.6273,     0.62737,     0.62744,      0.6275,     0.62757,     0.62764,      0.6277,     0.62777,     0.62784,      0.6279,     0.62797,\n",
       "            0.62803,      0.6281,     0.62817,     0.62823,      0.6283,     0.62837,     0.62843,      0.6285,     0.62856,     0.62863,      0.6287,     0.62876,     0.62883,     0.62889,     0.62896,     0.62903,     0.62909,     0.62916,     0.62922,     0.62929,     0.62936,     0.62942,     0.62949,\n",
       "            0.62955,     0.62962,      0.6286,     0.62738,     0.62615,     0.62493,      0.6237,     0.62247,     0.62125,     0.62002,     0.61879,     0.61756,     0.61632,     0.61509,     0.61385,     0.61262,     0.61138,     0.61014,     0.60891,     0.60767,     0.60642,     0.60518,     0.60394,\n",
       "            0.60353,     0.60325,     0.60298,      0.6027,     0.60242,     0.60214,     0.60186,     0.60158,      0.6013,     0.60102,     0.60075,     0.60047,     0.60019,     0.59991,     0.59963,     0.59935,     0.59907,     0.59879,     0.59851,     0.59823,     0.59795,     0.59767,      0.5974,\n",
       "            0.59712,     0.59684,     0.59656,     0.59628,       0.596,     0.59572,     0.59544,     0.59516,     0.59488,      0.5946,     0.59432,     0.59404,     0.59376,     0.59348,      0.5932,     0.59292,     0.59264,     0.59236,     0.59208,     0.59179,     0.59151,     0.59123,     0.59095,\n",
       "            0.59067,     0.59039,     0.59011,     0.58983,     0.58955,     0.58927,     0.58899,     0.58871,     0.58842,     0.58814,     0.58786,     0.58758,      0.5873,     0.58702,     0.58674,     0.58645,     0.58617,     0.58589,     0.58561,     0.58533,     0.58505,     0.58476,     0.58448,\n",
       "             0.5842,     0.58392,     0.58364,     0.58335,     0.58307,     0.58279,     0.58251,     0.58223,     0.58194,     0.58166,     0.58138,     0.58109,     0.58081,     0.58053,     0.58025,     0.57996,     0.57968,      0.5794,     0.57912,     0.57883,     0.57855,     0.57827,     0.57798,\n",
       "             0.5777,     0.57742,     0.57713,     0.57672,     0.57596,     0.57519,     0.57442,     0.57366,     0.57289,     0.57212,     0.57135,     0.57058,     0.56981,     0.56904,     0.56827,      0.5675,     0.56673,     0.56596,     0.56519,     0.56442,     0.56364,     0.56287,      0.5621,\n",
       "            0.56132,     0.56055,     0.55978,       0.559,     0.55823,     0.55745,     0.55667,      0.5559,     0.55512,     0.55434,     0.55357,     0.55279,     0.55201,     0.55123,     0.55045,     0.54967,      0.5489,      0.5482,      0.5475,      0.5468,     0.54609,     0.54539,     0.54469,\n",
       "            0.54398,     0.54328,     0.54257,     0.54187,     0.54116,     0.54046,     0.53975,     0.53905,     0.53834,     0.53763,     0.53693,     0.53622,     0.53551,      0.5348,      0.5341,     0.53339,     0.53268,     0.53197,     0.53126,     0.53055,     0.52984,     0.52913,     0.52842,\n",
       "            0.52771,       0.527,     0.52628,     0.52557,     0.52486,     0.52415,     0.52343,     0.52272,     0.52201,     0.52129,     0.52058,      0.5203,     0.52189,     0.52346,     0.52503,     0.52658,     0.52811,     0.52964,     0.52955,     0.52658,     0.52361,     0.52064,     0.51766,\n",
       "            0.51467,     0.51168,     0.50868,     0.50568,     0.50267,     0.49995,     0.49951,     0.49907,     0.49863,      0.4982,     0.49776,     0.49732,     0.49688,     0.49644,       0.496,     0.49556,     0.49513,     0.49469,     0.49425,     0.49381,     0.49337,     0.49293,     0.49249,\n",
       "            0.49205,     0.49161,     0.49117,     0.49073,     0.49029,     0.48985,     0.48941,     0.48897,     0.48853,     0.48808,     0.48764,      0.4872,     0.48676,     0.48632,     0.48588,     0.48544,     0.48499,     0.48455,     0.48411,     0.48367,     0.48323,     0.48278,     0.48234,\n",
       "             0.4819,     0.48146,     0.48101,     0.48057,     0.48013,     0.47968,     0.47924,      0.4788,     0.47835,     0.47791,     0.47747,     0.47702,     0.47658,     0.47614,     0.47569,     0.47525,      0.4748,     0.47436,     0.47391,     0.47347,     0.47302,     0.47258,     0.47213,\n",
       "            0.47169,     0.47124,      0.4708,     0.47035,      0.4699,     0.46946,     0.46901,     0.46857,     0.46812,     0.45765,     0.44628,     0.43483,     0.44445,     0.44491,     0.44537,     0.44582,     0.44627,     0.44672,     0.44717,     0.44762,     0.44807,     0.44851,     0.44895,\n",
       "             0.4494,     0.44984,     0.45028,     0.45071,     0.45115,     0.45158,     0.45202,     0.45245,     0.45288,     0.45331,     0.45373,     0.45416,     0.45402,      0.4484,     0.44277,     0.43711,     0.43144,     0.42574,     0.42002,     0.38261,     0.38477,     0.38689,     0.38895,\n",
       "            0.39067,     0.39183,     0.39298,     0.39411,     0.39523,     0.39633,     0.39742,      0.3985,     0.39956,     0.38381,     0.35832,     0.35285,     0.34737,     0.34186,     0.33633,     0.33079,     0.32522,     0.31963,     0.31726,     0.32168,     0.32148,     0.31361,     0.30571,\n",
       "            0.29776,     0.28977,     0.28174,     0.27143,     0.25892,     0.24631,     0.23359,     0.22323,      0.2144,     0.20554,     0.19664,     0.18769,     0.17869,      0.1783,     0.18048,     0.17457,     0.15141,     0.12794,     0.12589,      0.1268,     0.12762,     0.12836,     0.12903,\n",
       "            0.11935,     0.10961,    0.099825,    0.089986,    0.080084,     0.07011,           0,           0,           0,           0,           0,           0,           0,           0,           0,           0,           0,           0,           0,           0,           0,           0,           0,\n",
       "                  0,           0,           0,           0,           0,           0,           0,           0,           0,           0,           0,           0,           0,           0,           0,           0,           0,           0,           0,           0,           0,           0,           0,\n",
       "                  0,           0,           0,           0,           0,           0,           0,           0,           0,           0,           0,           0,           0,           0,           0,           0,           0,           0,           0,           0,           0,           0,           0,\n",
       "                  0,           0,           0,           0,           0,           0,           0,           0,           0,           0,           0]]), 'Confidence', 'F1'], [array([          0,    0.001001,    0.002002,    0.003003,    0.004004,    0.005005,    0.006006,    0.007007,    0.008008,    0.009009,     0.01001,    0.011011,    0.012012,    0.013013,    0.014014,    0.015015,    0.016016,    0.017017,    0.018018,    0.019019,     0.02002,    0.021021,    0.022022,    0.023023,\n",
       "          0.024024,    0.025025,    0.026026,    0.027027,    0.028028,    0.029029,     0.03003,    0.031031,    0.032032,    0.033033,    0.034034,    0.035035,    0.036036,    0.037037,    0.038038,    0.039039,     0.04004,    0.041041,    0.042042,    0.043043,    0.044044,    0.045045,    0.046046,    0.047047,\n",
       "          0.048048,    0.049049,     0.05005,    0.051051,    0.052052,    0.053053,    0.054054,    0.055055,    0.056056,    0.057057,    0.058058,    0.059059,     0.06006,    0.061061,    0.062062,    0.063063,    0.064064,    0.065065,    0.066066,    0.067067,    0.068068,    0.069069,     0.07007,    0.071071,\n",
       "          0.072072,    0.073073,    0.074074,    0.075075,    0.076076,    0.077077,    0.078078,    0.079079,     0.08008,    0.081081,    0.082082,    0.083083,    0.084084,    0.085085,    0.086086,    0.087087,    0.088088,    0.089089,     0.09009,    0.091091,    0.092092,    0.093093,    0.094094,    0.095095,\n",
       "          0.096096,    0.097097,    0.098098,    0.099099,      0.1001,      0.1011,      0.1021,      0.1031,      0.1041,     0.10511,     0.10611,     0.10711,     0.10811,     0.10911,     0.11011,     0.11111,     0.11211,     0.11311,     0.11411,     0.11512,     0.11612,     0.11712,     0.11812,     0.11912,\n",
       "           0.12012,     0.12112,     0.12212,     0.12312,     0.12412,     0.12513,     0.12613,     0.12713,     0.12813,     0.12913,     0.13013,     0.13113,     0.13213,     0.13313,     0.13413,     0.13514,     0.13614,     0.13714,     0.13814,     0.13914,     0.14014,     0.14114,     0.14214,     0.14314,\n",
       "           0.14414,     0.14515,     0.14615,     0.14715,     0.14815,     0.14915,     0.15015,     0.15115,     0.15215,     0.15315,     0.15415,     0.15516,     0.15616,     0.15716,     0.15816,     0.15916,     0.16016,     0.16116,     0.16216,     0.16316,     0.16416,     0.16517,     0.16617,     0.16717,\n",
       "           0.16817,     0.16917,     0.17017,     0.17117,     0.17217,     0.17317,     0.17417,     0.17518,     0.17618,     0.17718,     0.17818,     0.17918,     0.18018,     0.18118,     0.18218,     0.18318,     0.18418,     0.18519,     0.18619,     0.18719,     0.18819,     0.18919,     0.19019,     0.19119,\n",
       "           0.19219,     0.19319,     0.19419,      0.1952,      0.1962,      0.1972,      0.1982,      0.1992,      0.2002,      0.2012,      0.2022,      0.2032,      0.2042,     0.20521,     0.20621,     0.20721,     0.20821,     0.20921,     0.21021,     0.21121,     0.21221,     0.21321,     0.21421,     0.21522,\n",
       "           0.21622,     0.21722,     0.21822,     0.21922,     0.22022,     0.22122,     0.22222,     0.22322,     0.22422,     0.22523,     0.22623,     0.22723,     0.22823,     0.22923,     0.23023,     0.23123,     0.23223,     0.23323,     0.23423,     0.23524,     0.23624,     0.23724,     0.23824,     0.23924,\n",
       "           0.24024,     0.24124,     0.24224,     0.24324,     0.24424,     0.24525,     0.24625,     0.24725,     0.24825,     0.24925,     0.25025,     0.25125,     0.25225,     0.25325,     0.25425,     0.25526,     0.25626,     0.25726,     0.25826,     0.25926,     0.26026,     0.26126,     0.26226,     0.26326,\n",
       "           0.26426,     0.26527,     0.26627,     0.26727,     0.26827,     0.26927,     0.27027,     0.27127,     0.27227,     0.27327,     0.27427,     0.27528,     0.27628,     0.27728,     0.27828,     0.27928,     0.28028,     0.28128,     0.28228,     0.28328,     0.28428,     0.28529,     0.28629,     0.28729,\n",
       "           0.28829,     0.28929,     0.29029,     0.29129,     0.29229,     0.29329,     0.29429,      0.2953,      0.2963,      0.2973,      0.2983,      0.2993,      0.3003,      0.3013,      0.3023,      0.3033,      0.3043,     0.30531,     0.30631,     0.30731,     0.30831,     0.30931,     0.31031,     0.31131,\n",
       "           0.31231,     0.31331,     0.31431,     0.31532,     0.31632,     0.31732,     0.31832,     0.31932,     0.32032,     0.32132,     0.32232,     0.32332,     0.32432,     0.32533,     0.32633,     0.32733,     0.32833,     0.32933,     0.33033,     0.33133,     0.33233,     0.33333,     0.33433,     0.33534,\n",
       "           0.33634,     0.33734,     0.33834,     0.33934,     0.34034,     0.34134,     0.34234,     0.34334,     0.34434,     0.34535,     0.34635,     0.34735,     0.34835,     0.34935,     0.35035,     0.35135,     0.35235,     0.35335,     0.35435,     0.35536,     0.35636,     0.35736,     0.35836,     0.35936,\n",
       "           0.36036,     0.36136,     0.36236,     0.36336,     0.36436,     0.36537,     0.36637,     0.36737,     0.36837,     0.36937,     0.37037,     0.37137,     0.37237,     0.37337,     0.37437,     0.37538,     0.37638,     0.37738,     0.37838,     0.37938,     0.38038,     0.38138,     0.38238,     0.38338,\n",
       "           0.38438,     0.38539,     0.38639,     0.38739,     0.38839,     0.38939,     0.39039,     0.39139,     0.39239,     0.39339,     0.39439,      0.3954,      0.3964,      0.3974,      0.3984,      0.3994,      0.4004,      0.4014,      0.4024,      0.4034,      0.4044,     0.40541,     0.40641,     0.40741,\n",
       "           0.40841,     0.40941,     0.41041,     0.41141,     0.41241,     0.41341,     0.41441,     0.41542,     0.41642,     0.41742,     0.41842,     0.41942,     0.42042,     0.42142,     0.42242,     0.42342,     0.42442,     0.42543,     0.42643,     0.42743,     0.42843,     0.42943,     0.43043,     0.43143,\n",
       "           0.43243,     0.43343,     0.43443,     0.43544,     0.43644,     0.43744,     0.43844,     0.43944,     0.44044,     0.44144,     0.44244,     0.44344,     0.44444,     0.44545,     0.44645,     0.44745,     0.44845,     0.44945,     0.45045,     0.45145,     0.45245,     0.45345,     0.45445,     0.45546,\n",
       "           0.45646,     0.45746,     0.45846,     0.45946,     0.46046,     0.46146,     0.46246,     0.46346,     0.46446,     0.46547,     0.46647,     0.46747,     0.46847,     0.46947,     0.47047,     0.47147,     0.47247,     0.47347,     0.47447,     0.47548,     0.47648,     0.47748,     0.47848,     0.47948,\n",
       "           0.48048,     0.48148,     0.48248,     0.48348,     0.48448,     0.48549,     0.48649,     0.48749,     0.48849,     0.48949,     0.49049,     0.49149,     0.49249,     0.49349,     0.49449,      0.4955,      0.4965,      0.4975,      0.4985,      0.4995,      0.5005,      0.5015,      0.5025,      0.5035,\n",
       "            0.5045,     0.50551,     0.50651,     0.50751,     0.50851,     0.50951,     0.51051,     0.51151,     0.51251,     0.51351,     0.51451,     0.51552,     0.51652,     0.51752,     0.51852,     0.51952,     0.52052,     0.52152,     0.52252,     0.52352,     0.52452,     0.52553,     0.52653,     0.52753,\n",
       "           0.52853,     0.52953,     0.53053,     0.53153,     0.53253,     0.53353,     0.53453,     0.53554,     0.53654,     0.53754,     0.53854,     0.53954,     0.54054,     0.54154,     0.54254,     0.54354,     0.54454,     0.54555,     0.54655,     0.54755,     0.54855,     0.54955,     0.55055,     0.55155,\n",
       "           0.55255,     0.55355,     0.55455,     0.55556,     0.55656,     0.55756,     0.55856,     0.55956,     0.56056,     0.56156,     0.56256,     0.56356,     0.56456,     0.56557,     0.56657,     0.56757,     0.56857,     0.56957,     0.57057,     0.57157,     0.57257,     0.57357,     0.57457,     0.57558,\n",
       "           0.57658,     0.57758,     0.57858,     0.57958,     0.58058,     0.58158,     0.58258,     0.58358,     0.58458,     0.58559,     0.58659,     0.58759,     0.58859,     0.58959,     0.59059,     0.59159,     0.59259,     0.59359,     0.59459,      0.5956,      0.5966,      0.5976,      0.5986,      0.5996,\n",
       "            0.6006,      0.6016,      0.6026,      0.6036,      0.6046,     0.60561,     0.60661,     0.60761,     0.60861,     0.60961,     0.61061,     0.61161,     0.61261,     0.61361,     0.61461,     0.61562,     0.61662,     0.61762,     0.61862,     0.61962,     0.62062,     0.62162,     0.62262,     0.62362,\n",
       "           0.62462,     0.62563,     0.62663,     0.62763,     0.62863,     0.62963,     0.63063,     0.63163,     0.63263,     0.63363,     0.63463,     0.63564,     0.63664,     0.63764,     0.63864,     0.63964,     0.64064,     0.64164,     0.64264,     0.64364,     0.64464,     0.64565,     0.64665,     0.64765,\n",
       "           0.64865,     0.64965,     0.65065,     0.65165,     0.65265,     0.65365,     0.65465,     0.65566,     0.65666,     0.65766,     0.65866,     0.65966,     0.66066,     0.66166,     0.66266,     0.66366,     0.66466,     0.66567,     0.66667,     0.66767,     0.66867,     0.66967,     0.67067,     0.67167,\n",
       "           0.67267,     0.67367,     0.67467,     0.67568,     0.67668,     0.67768,     0.67868,     0.67968,     0.68068,     0.68168,     0.68268,     0.68368,     0.68468,     0.68569,     0.68669,     0.68769,     0.68869,     0.68969,     0.69069,     0.69169,     0.69269,     0.69369,     0.69469,      0.6957,\n",
       "            0.6967,      0.6977,      0.6987,      0.6997,      0.7007,      0.7017,      0.7027,      0.7037,      0.7047,     0.70571,     0.70671,     0.70771,     0.70871,     0.70971,     0.71071,     0.71171,     0.71271,     0.71371,     0.71471,     0.71572,     0.71672,     0.71772,     0.71872,     0.71972,\n",
       "           0.72072,     0.72172,     0.72272,     0.72372,     0.72472,     0.72573,     0.72673,     0.72773,     0.72873,     0.72973,     0.73073,     0.73173,     0.73273,     0.73373,     0.73473,     0.73574,     0.73674,     0.73774,     0.73874,     0.73974,     0.74074,     0.74174,     0.74274,     0.74374,\n",
       "           0.74474,     0.74575,     0.74675,     0.74775,     0.74875,     0.74975,     0.75075,     0.75175,     0.75275,     0.75375,     0.75475,     0.75576,     0.75676,     0.75776,     0.75876,     0.75976,     0.76076,     0.76176,     0.76276,     0.76376,     0.76476,     0.76577,     0.76677,     0.76777,\n",
       "           0.76877,     0.76977,     0.77077,     0.77177,     0.77277,     0.77377,     0.77477,     0.77578,     0.77678,     0.77778,     0.77878,     0.77978,     0.78078,     0.78178,     0.78278,     0.78378,     0.78478,     0.78579,     0.78679,     0.78779,     0.78879,     0.78979,     0.79079,     0.79179,\n",
       "           0.79279,     0.79379,     0.79479,      0.7958,      0.7968,      0.7978,      0.7988,      0.7998,      0.8008,      0.8018,      0.8028,      0.8038,      0.8048,     0.80581,     0.80681,     0.80781,     0.80881,     0.80981,     0.81081,     0.81181,     0.81281,     0.81381,     0.81481,     0.81582,\n",
       "           0.81682,     0.81782,     0.81882,     0.81982,     0.82082,     0.82182,     0.82282,     0.82382,     0.82482,     0.82583,     0.82683,     0.82783,     0.82883,     0.82983,     0.83083,     0.83183,     0.83283,     0.83383,     0.83483,     0.83584,     0.83684,     0.83784,     0.83884,     0.83984,\n",
       "           0.84084,     0.84184,     0.84284,     0.84384,     0.84484,     0.84585,     0.84685,     0.84785,     0.84885,     0.84985,     0.85085,     0.85185,     0.85285,     0.85385,     0.85485,     0.85586,     0.85686,     0.85786,     0.85886,     0.85986,     0.86086,     0.86186,     0.86286,     0.86386,\n",
       "           0.86486,     0.86587,     0.86687,     0.86787,     0.86887,     0.86987,     0.87087,     0.87187,     0.87287,     0.87387,     0.87487,     0.87588,     0.87688,     0.87788,     0.87888,     0.87988,     0.88088,     0.88188,     0.88288,     0.88388,     0.88488,     0.88589,     0.88689,     0.88789,\n",
       "           0.88889,     0.88989,     0.89089,     0.89189,     0.89289,     0.89389,     0.89489,      0.8959,      0.8969,      0.8979,      0.8989,      0.8999,      0.9009,      0.9019,      0.9029,      0.9039,      0.9049,     0.90591,     0.90691,     0.90791,     0.90891,     0.90991,     0.91091,     0.91191,\n",
       "           0.91291,     0.91391,     0.91491,     0.91592,     0.91692,     0.91792,     0.91892,     0.91992,     0.92092,     0.92192,     0.92292,     0.92392,     0.92492,     0.92593,     0.92693,     0.92793,     0.92893,     0.92993,     0.93093,     0.93193,     0.93293,     0.93393,     0.93493,     0.93594,\n",
       "           0.93694,     0.93794,     0.93894,     0.93994,     0.94094,     0.94194,     0.94294,     0.94394,     0.94494,     0.94595,     0.94695,     0.94795,     0.94895,     0.94995,     0.95095,     0.95195,     0.95295,     0.95395,     0.95495,     0.95596,     0.95696,     0.95796,     0.95896,     0.95996,\n",
       "           0.96096,     0.96196,     0.96296,     0.96396,     0.96496,     0.96597,     0.96697,     0.96797,     0.96897,     0.96997,     0.97097,     0.97197,     0.97297,     0.97397,     0.97497,     0.97598,     0.97698,     0.97798,     0.97898,     0.97998,     0.98098,     0.98198,     0.98298,     0.98398,\n",
       "           0.98498,     0.98599,     0.98699,     0.98799,     0.98899,     0.98999,     0.99099,     0.99199,     0.99299,     0.99399,     0.99499,       0.996,       0.997,       0.998,       0.999,           1]), array([[    0.30909,     0.30909,     0.41823,     0.45944,     0.50078,      0.5272,     0.53405,     0.53737,     0.54069,     0.54401,     0.54733,     0.54855,     0.54879,     0.54902,     0.54926,      0.5495,     0.54973,     0.54997,     0.55021,     0.55044,     0.55068,     0.55092,     0.55115,\n",
       "            0.55139,     0.55163,     0.55186,      0.5521,     0.55234,     0.55257,     0.55281,     0.55305,     0.55329,     0.55352,     0.55376,       0.554,     0.55423,     0.55447,     0.55471,     0.55494,     0.55518,     0.55542,     0.55565,     0.55589,     0.55613,     0.55636,      0.5566,\n",
       "            0.55684,     0.55707,     0.55731,     0.55755,     0.55779,     0.55802,     0.55826,      0.5585,     0.55873,     0.55897,     0.55921,     0.55944,     0.55968,     0.55992,     0.56015,     0.56039,     0.56063,     0.56086,      0.5611,     0.56134,     0.56157,     0.56181,     0.56205,\n",
       "            0.56229,     0.56252,     0.56276,       0.563,     0.56323,     0.56347,     0.56371,     0.56394,     0.56418,     0.56442,     0.56465,     0.56489,     0.56513,     0.56536,      0.5656,     0.56584,     0.56608,     0.56631,     0.56655,      0.5668,     0.56705,     0.56731,     0.56756,\n",
       "            0.56782,     0.56808,     0.56833,     0.56859,     0.56884,      0.5691,     0.56936,     0.56961,     0.56987,     0.57013,     0.57038,     0.57064,     0.57089,     0.57115,     0.57141,     0.57166,     0.57192,     0.57217,     0.57243,     0.57269,     0.57294,      0.5732,     0.57346,\n",
       "            0.57371,     0.57397,     0.57422,     0.57448,     0.57474,     0.57499,     0.57525,     0.57551,     0.57576,     0.57602,     0.57627,     0.57653,     0.57679,     0.57704,      0.5773,     0.57755,     0.57781,     0.57807,     0.57832,     0.57858,     0.57884,     0.57909,     0.57935,\n",
       "             0.5796,     0.57986,     0.58012,     0.58037,     0.58063,     0.58088,     0.58114,      0.5814,     0.58165,     0.58191,     0.58217,     0.58242,     0.58268,     0.58293,     0.58319,     0.58345,      0.5837,     0.58396,     0.58421,     0.58447,     0.58473,     0.58498,     0.58524,\n",
       "             0.5855,     0.58575,     0.58601,     0.58626,     0.58652,     0.58678,     0.58704,      0.5873,     0.58756,     0.58781,     0.58807,     0.58833,     0.58859,     0.58885,      0.5891,     0.58936,     0.58962,     0.58988,     0.59014,      0.5904,     0.59065,     0.59091,     0.59117,\n",
       "            0.59143,     0.59169,     0.59194,      0.5922,     0.59246,     0.59272,     0.59298,     0.59324,     0.59349,     0.59375,     0.59401,     0.59427,     0.59453,     0.59478,     0.59504,      0.5953,     0.59556,     0.59582,     0.59607,     0.59633,     0.59659,     0.59685,     0.59711,\n",
       "            0.59737,     0.59762,     0.59788,     0.59814,      0.5984,     0.59866,     0.59891,     0.59917,     0.59943,     0.59969,     0.59995,     0.60021,     0.60046,     0.60072,     0.60098,     0.60124,      0.6015,     0.60175,     0.60201,     0.60227,     0.60253,     0.60279,     0.60305,\n",
       "             0.6033,     0.60356,     0.60382,     0.60408,     0.60434,     0.60459,     0.60485,     0.60511,     0.60537,     0.60563,     0.60589,     0.60614,      0.6064,     0.60666,     0.60692,     0.60716,     0.60733,     0.60749,     0.60765,     0.60782,     0.60798,     0.60814,     0.60831,\n",
       "            0.60847,     0.60863,      0.6088,     0.60896,     0.60912,     0.60929,     0.60945,     0.60961,     0.60977,     0.60994,      0.6101,     0.61026,     0.61043,     0.61059,     0.61075,     0.61092,     0.61108,     0.61124,     0.61141,     0.61157,     0.61173,      0.6119,     0.61206,\n",
       "            0.61222,     0.61239,     0.61255,     0.61271,     0.61288,     0.61304,      0.6132,     0.61336,     0.61353,     0.61369,     0.61385,     0.61402,     0.61418,     0.61434,     0.61451,     0.61467,     0.61483,       0.615,     0.61516,     0.61532,     0.61549,     0.61565,     0.61581,\n",
       "            0.61598,     0.61614,      0.6163,     0.61647,     0.61663,     0.61679,     0.61695,     0.61712,     0.61728,     0.61744,     0.61761,     0.61777,     0.61793,      0.6181,     0.61826,     0.61842,     0.61859,     0.61875,     0.61891,     0.61908,     0.61924,      0.6194,     0.61957,\n",
       "            0.61973,     0.61989,     0.62006,     0.62022,     0.62038,     0.62054,     0.62071,     0.62087,     0.62103,      0.6212,     0.62136,     0.62152,     0.62169,     0.62185,     0.62201,     0.62218,     0.62234,      0.6225,     0.62267,     0.62283,     0.62299,     0.62316,     0.62332,\n",
       "            0.62348,     0.62365,     0.62381,     0.62397,     0.62413,      0.6243,     0.62446,     0.62462,     0.62479,     0.62495,     0.62511,     0.62528,     0.62544,      0.6256,     0.62577,     0.62593,     0.62609,     0.62626,     0.62642,     0.62658,     0.62675,     0.62691,     0.62707,\n",
       "            0.62724,      0.6274,     0.62756,     0.62772,     0.62789,     0.62805,     0.62821,     0.62838,     0.62854,      0.6287,     0.62887,     0.62903,     0.62919,     0.62936,     0.62952,     0.62968,     0.62982,     0.62996,      0.6301,     0.63024,     0.63039,     0.63053,     0.63067,\n",
       "            0.63081,     0.63095,      0.6311,     0.63124,     0.63138,     0.63152,     0.63166,     0.63181,     0.63195,     0.63209,     0.63223,     0.63237,     0.63252,     0.63266,      0.6328,     0.63294,     0.63309,     0.63323,     0.63337,     0.63351,     0.63365,      0.6338,     0.63394,\n",
       "            0.63408,     0.63422,     0.63436,     0.63451,     0.63465,     0.63479,     0.63493,     0.63507,     0.63522,     0.63536,      0.6355,     0.63564,     0.63578,     0.63593,     0.63607,     0.63621,     0.63635,     0.63649,     0.63664,     0.63678,     0.63692,     0.63706,      0.6372,\n",
       "            0.63735,     0.63749,     0.63763,     0.63777,     0.63791,     0.63806,      0.6382,     0.63834,     0.63848,     0.63862,     0.63877,     0.63891,     0.63905,     0.63919,     0.63934,     0.63948,     0.63962,     0.63976,      0.6399,     0.64005,     0.64019,     0.64033,     0.64047,\n",
       "            0.64061,     0.64076,      0.6409,     0.64104,     0.64118,     0.64132,     0.64147,     0.64161,     0.64175,     0.64189,     0.64203,     0.64218,     0.64232,     0.64246,      0.6426,     0.64274,     0.64289,     0.64303,     0.64317,     0.64331,     0.64345,      0.6436,     0.64374,\n",
       "            0.64388,     0.64402,     0.64416,     0.64431,     0.64445,     0.64459,     0.64473,     0.64487,     0.64502,     0.64516,      0.6453,     0.64544,     0.64559,     0.64573,     0.64587,     0.64601,     0.64615,      0.6463,     0.64644,     0.64658,     0.64672,     0.64686,     0.64701,\n",
       "            0.64715,     0.64729,     0.64743,     0.64757,     0.64772,     0.64786,       0.648,     0.64814,     0.64828,     0.64843,     0.64857,     0.64871,     0.64885,     0.64899,     0.64914,     0.64928,     0.64942,     0.64956,      0.6497,     0.64985,     0.64999,     0.65013,     0.65027,\n",
       "            0.65041,     0.65056,      0.6507,     0.65084,     0.65098,     0.65112,     0.65127,     0.65141,     0.65155,     0.65169,     0.65184,     0.65198,     0.65212,     0.65226,      0.6524,     0.65255,     0.65269,     0.65283,     0.65297,     0.65311,     0.65326,      0.6534,     0.65354,\n",
       "            0.65368,     0.65382,     0.65329,     0.65263,     0.65197,     0.65131,     0.65065,     0.64999,     0.64933,     0.64867,     0.64801,     0.64735,     0.64669,     0.64603,     0.64537,     0.64471,     0.64405,     0.64339,     0.64273,     0.64207,     0.64141,     0.64075,     0.64009,\n",
       "            0.63986,     0.63971,     0.63955,     0.63939,     0.63924,     0.63908,     0.63892,     0.63877,     0.63861,     0.63845,     0.63829,     0.63814,     0.63798,     0.63782,     0.63767,     0.63751,     0.63735,      0.6372,     0.63704,     0.63688,     0.63673,     0.63657,     0.63641,\n",
       "            0.63626,      0.6361,     0.63594,     0.63578,     0.63563,     0.63547,     0.63531,     0.63516,       0.635,     0.63484,     0.63469,     0.63453,     0.63437,     0.63422,     0.63406,      0.6339,     0.63375,     0.63359,     0.63343,     0.63327,     0.63312,     0.63296,      0.6328,\n",
       "            0.63265,     0.63249,     0.63233,     0.63218,     0.63202,     0.63186,     0.63171,     0.63155,     0.63139,     0.63123,     0.63108,     0.63092,     0.63076,     0.63061,     0.63045,     0.63029,     0.63014,     0.62998,     0.62982,     0.62967,     0.62951,     0.62935,      0.6292,\n",
       "            0.62904,     0.62888,     0.62872,     0.62857,     0.62841,     0.62825,      0.6281,     0.62794,     0.62778,     0.62763,     0.62747,     0.62731,     0.62716,       0.627,     0.62684,     0.62668,     0.62653,     0.62637,     0.62621,     0.62606,      0.6259,     0.62574,     0.62559,\n",
       "            0.62543,     0.62527,     0.62512,     0.62488,     0.62443,     0.62398,     0.62353,     0.62308,     0.62262,     0.62217,     0.62172,     0.62127,     0.62082,     0.62037,     0.61991,     0.61946,     0.61901,     0.61856,     0.61811,     0.61766,      0.6172,     0.61675,      0.6163,\n",
       "            0.61585,      0.6154,     0.61495,     0.61449,     0.61404,     0.61359,     0.61314,     0.61269,     0.61224,     0.61178,     0.61133,     0.61088,     0.61043,     0.60998,     0.60953,     0.60907,     0.60862,     0.60819,     0.60776,     0.60732,     0.60689,     0.60645,     0.60602,\n",
       "            0.60559,     0.60515,     0.60472,     0.60428,     0.60385,     0.60342,     0.60298,     0.60255,     0.60211,     0.60168,     0.60125,     0.60081,     0.60038,     0.59994,     0.59951,     0.59907,     0.59864,     0.59821,     0.59777,     0.59734,      0.5969,     0.59647,     0.59604,\n",
       "             0.5956,     0.59517,     0.59473,      0.5943,     0.59387,     0.59343,       0.593,     0.59256,     0.59213,      0.5917,     0.59126,     0.59169,     0.59581,     0.59993,     0.60405,     0.60817,     0.61229,     0.61641,     0.61838,     0.61652,     0.61466,      0.6128,     0.61094,\n",
       "            0.60908,     0.60722,     0.60536,      0.6035,     0.60164,     0.59997,     0.59967,     0.59938,     0.59909,      0.5988,     0.59851,     0.59822,     0.59792,     0.59763,     0.59734,     0.59705,     0.59676,     0.59647,     0.59618,     0.59588,     0.59559,      0.5953,     0.59501,\n",
       "            0.59472,     0.59443,     0.59413,     0.59384,     0.59355,     0.59326,     0.59297,     0.59268,     0.59238,     0.59209,      0.5918,     0.59151,     0.59122,     0.59093,     0.59063,     0.59034,     0.59005,     0.58976,     0.58947,     0.58918,     0.58888,     0.58859,      0.5883,\n",
       "            0.58801,     0.58772,     0.58743,     0.58714,     0.58684,     0.58655,     0.58626,     0.58597,     0.58568,     0.58539,     0.58509,      0.5848,     0.58451,     0.58422,     0.58393,     0.58364,     0.58334,     0.58305,     0.58276,     0.58247,     0.58218,     0.58189,     0.58159,\n",
       "             0.5813,     0.58101,     0.58072,     0.58043,     0.58014,     0.57984,     0.57955,     0.57926,     0.57897,     0.57157,     0.56358,     0.55559,     0.58827,     0.58987,     0.59148,     0.59308,     0.59468,     0.59629,     0.59789,     0.59949,      0.6011,      0.6027,      0.6043,\n",
       "            0.60591,     0.60751,     0.60912,     0.61072,     0.61232,     0.61393,     0.61553,     0.61713,     0.61874,     0.62034,     0.62194,     0.62355,     0.62463,     0.62069,     0.61674,      0.6128,     0.60886,     0.60492,     0.60097,     0.57897,     0.58898,     0.59899,       0.609,\n",
       "             0.6175,     0.62334,     0.62918,     0.63503,     0.64087,     0.64671,     0.65255,     0.65839,     0.66423,      0.6546,     0.63581,     0.63115,     0.62649,     0.62183,     0.61717,     0.61251,     0.60785,     0.60319,     0.61074,     0.64491,     0.66408,     0.65696,     0.64984,\n",
       "            0.64273,     0.63561,     0.62849,       0.618,     0.60427,     0.59055,     0.57682,     0.56402,     0.55181,     0.53961,     0.52741,     0.51521,       0.503,     0.53091,     0.57191,     0.58709,     0.54609,     0.50509,     0.52993,      0.5641,     0.59826,     0.63243,      0.6666,\n",
       "            0.64044,     0.61415,     0.58787,     0.56159,      0.5353,     0.50902,           1,           1,           1,           1,           1,           1,           1,           1,           1,           1,           1,           1,           1,           1,           1,           1,           1,\n",
       "                  1,           1,           1,           1,           1,           1,           1,           1,           1,           1,           1,           1,           1,           1,           1,           1,           1,           1,           1,           1,           1,           1,           1,\n",
       "                  1,           1,           1,           1,           1,           1,           1,           1,           1,           1,           1,           1,           1,           1,           1,           1,           1,           1,           1,           1,           1,           1,           1,\n",
       "                  1,           1,           1,           1,           1,           1,           1,           1,           1,           1,           1]]), 'Confidence', 'Precision'], [array([          0,    0.001001,    0.002002,    0.003003,    0.004004,    0.005005,    0.006006,    0.007007,    0.008008,    0.009009,     0.01001,    0.011011,    0.012012,    0.013013,    0.014014,    0.015015,    0.016016,    0.017017,    0.018018,    0.019019,     0.02002,    0.021021,    0.022022,    0.023023,\n",
       "          0.024024,    0.025025,    0.026026,    0.027027,    0.028028,    0.029029,     0.03003,    0.031031,    0.032032,    0.033033,    0.034034,    0.035035,    0.036036,    0.037037,    0.038038,    0.039039,     0.04004,    0.041041,    0.042042,    0.043043,    0.044044,    0.045045,    0.046046,    0.047047,\n",
       "          0.048048,    0.049049,     0.05005,    0.051051,    0.052052,    0.053053,    0.054054,    0.055055,    0.056056,    0.057057,    0.058058,    0.059059,     0.06006,    0.061061,    0.062062,    0.063063,    0.064064,    0.065065,    0.066066,    0.067067,    0.068068,    0.069069,     0.07007,    0.071071,\n",
       "          0.072072,    0.073073,    0.074074,    0.075075,    0.076076,    0.077077,    0.078078,    0.079079,     0.08008,    0.081081,    0.082082,    0.083083,    0.084084,    0.085085,    0.086086,    0.087087,    0.088088,    0.089089,     0.09009,    0.091091,    0.092092,    0.093093,    0.094094,    0.095095,\n",
       "          0.096096,    0.097097,    0.098098,    0.099099,      0.1001,      0.1011,      0.1021,      0.1031,      0.1041,     0.10511,     0.10611,     0.10711,     0.10811,     0.10911,     0.11011,     0.11111,     0.11211,     0.11311,     0.11411,     0.11512,     0.11612,     0.11712,     0.11812,     0.11912,\n",
       "           0.12012,     0.12112,     0.12212,     0.12312,     0.12412,     0.12513,     0.12613,     0.12713,     0.12813,     0.12913,     0.13013,     0.13113,     0.13213,     0.13313,     0.13413,     0.13514,     0.13614,     0.13714,     0.13814,     0.13914,     0.14014,     0.14114,     0.14214,     0.14314,\n",
       "           0.14414,     0.14515,     0.14615,     0.14715,     0.14815,     0.14915,     0.15015,     0.15115,     0.15215,     0.15315,     0.15415,     0.15516,     0.15616,     0.15716,     0.15816,     0.15916,     0.16016,     0.16116,     0.16216,     0.16316,     0.16416,     0.16517,     0.16617,     0.16717,\n",
       "           0.16817,     0.16917,     0.17017,     0.17117,     0.17217,     0.17317,     0.17417,     0.17518,     0.17618,     0.17718,     0.17818,     0.17918,     0.18018,     0.18118,     0.18218,     0.18318,     0.18418,     0.18519,     0.18619,     0.18719,     0.18819,     0.18919,     0.19019,     0.19119,\n",
       "           0.19219,     0.19319,     0.19419,      0.1952,      0.1962,      0.1972,      0.1982,      0.1992,      0.2002,      0.2012,      0.2022,      0.2032,      0.2042,     0.20521,     0.20621,     0.20721,     0.20821,     0.20921,     0.21021,     0.21121,     0.21221,     0.21321,     0.21421,     0.21522,\n",
       "           0.21622,     0.21722,     0.21822,     0.21922,     0.22022,     0.22122,     0.22222,     0.22322,     0.22422,     0.22523,     0.22623,     0.22723,     0.22823,     0.22923,     0.23023,     0.23123,     0.23223,     0.23323,     0.23423,     0.23524,     0.23624,     0.23724,     0.23824,     0.23924,\n",
       "           0.24024,     0.24124,     0.24224,     0.24324,     0.24424,     0.24525,     0.24625,     0.24725,     0.24825,     0.24925,     0.25025,     0.25125,     0.25225,     0.25325,     0.25425,     0.25526,     0.25626,     0.25726,     0.25826,     0.25926,     0.26026,     0.26126,     0.26226,     0.26326,\n",
       "           0.26426,     0.26527,     0.26627,     0.26727,     0.26827,     0.26927,     0.27027,     0.27127,     0.27227,     0.27327,     0.27427,     0.27528,     0.27628,     0.27728,     0.27828,     0.27928,     0.28028,     0.28128,     0.28228,     0.28328,     0.28428,     0.28529,     0.28629,     0.28729,\n",
       "           0.28829,     0.28929,     0.29029,     0.29129,     0.29229,     0.29329,     0.29429,      0.2953,      0.2963,      0.2973,      0.2983,      0.2993,      0.3003,      0.3013,      0.3023,      0.3033,      0.3043,     0.30531,     0.30631,     0.30731,     0.30831,     0.30931,     0.31031,     0.31131,\n",
       "           0.31231,     0.31331,     0.31431,     0.31532,     0.31632,     0.31732,     0.31832,     0.31932,     0.32032,     0.32132,     0.32232,     0.32332,     0.32432,     0.32533,     0.32633,     0.32733,     0.32833,     0.32933,     0.33033,     0.33133,     0.33233,     0.33333,     0.33433,     0.33534,\n",
       "           0.33634,     0.33734,     0.33834,     0.33934,     0.34034,     0.34134,     0.34234,     0.34334,     0.34434,     0.34535,     0.34635,     0.34735,     0.34835,     0.34935,     0.35035,     0.35135,     0.35235,     0.35335,     0.35435,     0.35536,     0.35636,     0.35736,     0.35836,     0.35936,\n",
       "           0.36036,     0.36136,     0.36236,     0.36336,     0.36436,     0.36537,     0.36637,     0.36737,     0.36837,     0.36937,     0.37037,     0.37137,     0.37237,     0.37337,     0.37437,     0.37538,     0.37638,     0.37738,     0.37838,     0.37938,     0.38038,     0.38138,     0.38238,     0.38338,\n",
       "           0.38438,     0.38539,     0.38639,     0.38739,     0.38839,     0.38939,     0.39039,     0.39139,     0.39239,     0.39339,     0.39439,      0.3954,      0.3964,      0.3974,      0.3984,      0.3994,      0.4004,      0.4014,      0.4024,      0.4034,      0.4044,     0.40541,     0.40641,     0.40741,\n",
       "           0.40841,     0.40941,     0.41041,     0.41141,     0.41241,     0.41341,     0.41441,     0.41542,     0.41642,     0.41742,     0.41842,     0.41942,     0.42042,     0.42142,     0.42242,     0.42342,     0.42442,     0.42543,     0.42643,     0.42743,     0.42843,     0.42943,     0.43043,     0.43143,\n",
       "           0.43243,     0.43343,     0.43443,     0.43544,     0.43644,     0.43744,     0.43844,     0.43944,     0.44044,     0.44144,     0.44244,     0.44344,     0.44444,     0.44545,     0.44645,     0.44745,     0.44845,     0.44945,     0.45045,     0.45145,     0.45245,     0.45345,     0.45445,     0.45546,\n",
       "           0.45646,     0.45746,     0.45846,     0.45946,     0.46046,     0.46146,     0.46246,     0.46346,     0.46446,     0.46547,     0.46647,     0.46747,     0.46847,     0.46947,     0.47047,     0.47147,     0.47247,     0.47347,     0.47447,     0.47548,     0.47648,     0.47748,     0.47848,     0.47948,\n",
       "           0.48048,     0.48148,     0.48248,     0.48348,     0.48448,     0.48549,     0.48649,     0.48749,     0.48849,     0.48949,     0.49049,     0.49149,     0.49249,     0.49349,     0.49449,      0.4955,      0.4965,      0.4975,      0.4985,      0.4995,      0.5005,      0.5015,      0.5025,      0.5035,\n",
       "            0.5045,     0.50551,     0.50651,     0.50751,     0.50851,     0.50951,     0.51051,     0.51151,     0.51251,     0.51351,     0.51451,     0.51552,     0.51652,     0.51752,     0.51852,     0.51952,     0.52052,     0.52152,     0.52252,     0.52352,     0.52452,     0.52553,     0.52653,     0.52753,\n",
       "           0.52853,     0.52953,     0.53053,     0.53153,     0.53253,     0.53353,     0.53453,     0.53554,     0.53654,     0.53754,     0.53854,     0.53954,     0.54054,     0.54154,     0.54254,     0.54354,     0.54454,     0.54555,     0.54655,     0.54755,     0.54855,     0.54955,     0.55055,     0.55155,\n",
       "           0.55255,     0.55355,     0.55455,     0.55556,     0.55656,     0.55756,     0.55856,     0.55956,     0.56056,     0.56156,     0.56256,     0.56356,     0.56456,     0.56557,     0.56657,     0.56757,     0.56857,     0.56957,     0.57057,     0.57157,     0.57257,     0.57357,     0.57457,     0.57558,\n",
       "           0.57658,     0.57758,     0.57858,     0.57958,     0.58058,     0.58158,     0.58258,     0.58358,     0.58458,     0.58559,     0.58659,     0.58759,     0.58859,     0.58959,     0.59059,     0.59159,     0.59259,     0.59359,     0.59459,      0.5956,      0.5966,      0.5976,      0.5986,      0.5996,\n",
       "            0.6006,      0.6016,      0.6026,      0.6036,      0.6046,     0.60561,     0.60661,     0.60761,     0.60861,     0.60961,     0.61061,     0.61161,     0.61261,     0.61361,     0.61461,     0.61562,     0.61662,     0.61762,     0.61862,     0.61962,     0.62062,     0.62162,     0.62262,     0.62362,\n",
       "           0.62462,     0.62563,     0.62663,     0.62763,     0.62863,     0.62963,     0.63063,     0.63163,     0.63263,     0.63363,     0.63463,     0.63564,     0.63664,     0.63764,     0.63864,     0.63964,     0.64064,     0.64164,     0.64264,     0.64364,     0.64464,     0.64565,     0.64665,     0.64765,\n",
       "           0.64865,     0.64965,     0.65065,     0.65165,     0.65265,     0.65365,     0.65465,     0.65566,     0.65666,     0.65766,     0.65866,     0.65966,     0.66066,     0.66166,     0.66266,     0.66366,     0.66466,     0.66567,     0.66667,     0.66767,     0.66867,     0.66967,     0.67067,     0.67167,\n",
       "           0.67267,     0.67367,     0.67467,     0.67568,     0.67668,     0.67768,     0.67868,     0.67968,     0.68068,     0.68168,     0.68268,     0.68368,     0.68468,     0.68569,     0.68669,     0.68769,     0.68869,     0.68969,     0.69069,     0.69169,     0.69269,     0.69369,     0.69469,      0.6957,\n",
       "            0.6967,      0.6977,      0.6987,      0.6997,      0.7007,      0.7017,      0.7027,      0.7037,      0.7047,     0.70571,     0.70671,     0.70771,     0.70871,     0.70971,     0.71071,     0.71171,     0.71271,     0.71371,     0.71471,     0.71572,     0.71672,     0.71772,     0.71872,     0.71972,\n",
       "           0.72072,     0.72172,     0.72272,     0.72372,     0.72472,     0.72573,     0.72673,     0.72773,     0.72873,     0.72973,     0.73073,     0.73173,     0.73273,     0.73373,     0.73473,     0.73574,     0.73674,     0.73774,     0.73874,     0.73974,     0.74074,     0.74174,     0.74274,     0.74374,\n",
       "           0.74474,     0.74575,     0.74675,     0.74775,     0.74875,     0.74975,     0.75075,     0.75175,     0.75275,     0.75375,     0.75475,     0.75576,     0.75676,     0.75776,     0.75876,     0.75976,     0.76076,     0.76176,     0.76276,     0.76376,     0.76476,     0.76577,     0.76677,     0.76777,\n",
       "           0.76877,     0.76977,     0.77077,     0.77177,     0.77277,     0.77377,     0.77477,     0.77578,     0.77678,     0.77778,     0.77878,     0.77978,     0.78078,     0.78178,     0.78278,     0.78378,     0.78478,     0.78579,     0.78679,     0.78779,     0.78879,     0.78979,     0.79079,     0.79179,\n",
       "           0.79279,     0.79379,     0.79479,      0.7958,      0.7968,      0.7978,      0.7988,      0.7998,      0.8008,      0.8018,      0.8028,      0.8038,      0.8048,     0.80581,     0.80681,     0.80781,     0.80881,     0.80981,     0.81081,     0.81181,     0.81281,     0.81381,     0.81481,     0.81582,\n",
       "           0.81682,     0.81782,     0.81882,     0.81982,     0.82082,     0.82182,     0.82282,     0.82382,     0.82482,     0.82583,     0.82683,     0.82783,     0.82883,     0.82983,     0.83083,     0.83183,     0.83283,     0.83383,     0.83483,     0.83584,     0.83684,     0.83784,     0.83884,     0.83984,\n",
       "           0.84084,     0.84184,     0.84284,     0.84384,     0.84484,     0.84585,     0.84685,     0.84785,     0.84885,     0.84985,     0.85085,     0.85185,     0.85285,     0.85385,     0.85485,     0.85586,     0.85686,     0.85786,     0.85886,     0.85986,     0.86086,     0.86186,     0.86286,     0.86386,\n",
       "           0.86486,     0.86587,     0.86687,     0.86787,     0.86887,     0.86987,     0.87087,     0.87187,     0.87287,     0.87387,     0.87487,     0.87588,     0.87688,     0.87788,     0.87888,     0.87988,     0.88088,     0.88188,     0.88288,     0.88388,     0.88488,     0.88589,     0.88689,     0.88789,\n",
       "           0.88889,     0.88989,     0.89089,     0.89189,     0.89289,     0.89389,     0.89489,      0.8959,      0.8969,      0.8979,      0.8989,      0.8999,      0.9009,      0.9019,      0.9029,      0.9039,      0.9049,     0.90591,     0.90691,     0.90791,     0.90891,     0.90991,     0.91091,     0.91191,\n",
       "           0.91291,     0.91391,     0.91491,     0.91592,     0.91692,     0.91792,     0.91892,     0.91992,     0.92092,     0.92192,     0.92292,     0.92392,     0.92492,     0.92593,     0.92693,     0.92793,     0.92893,     0.92993,     0.93093,     0.93193,     0.93293,     0.93393,     0.93493,     0.93594,\n",
       "           0.93694,     0.93794,     0.93894,     0.93994,     0.94094,     0.94194,     0.94294,     0.94394,     0.94494,     0.94595,     0.94695,     0.94795,     0.94895,     0.94995,     0.95095,     0.95195,     0.95295,     0.95395,     0.95495,     0.95596,     0.95696,     0.95796,     0.95896,     0.95996,\n",
       "           0.96096,     0.96196,     0.96296,     0.96396,     0.96496,     0.96597,     0.96697,     0.96797,     0.96897,     0.96997,     0.97097,     0.97197,     0.97297,     0.97397,     0.97497,     0.97598,     0.97698,     0.97798,     0.97898,     0.97998,     0.98098,     0.98198,     0.98298,     0.98398,\n",
       "           0.98498,     0.98599,     0.98699,     0.98799,     0.98899,     0.98999,     0.99099,     0.99199,     0.99299,     0.99399,     0.99499,       0.996,       0.997,       0.998,       0.999,           1]), array([[    0.60714,     0.60714,     0.60714,     0.60714,     0.60714,     0.60714,     0.60714,     0.60714,     0.60714,     0.60714,     0.60714,     0.60714,     0.60714,     0.60714,     0.60714,     0.60714,     0.60714,     0.60714,     0.60714,     0.60714,     0.60714,     0.60714,     0.60714,\n",
       "            0.60714,     0.60714,     0.60714,     0.60714,     0.60714,     0.60714,     0.60714,     0.60714,     0.60714,     0.60714,     0.60714,     0.60714,     0.60714,     0.60714,     0.60714,     0.60714,     0.60714,     0.60714,     0.60714,     0.60714,     0.60714,     0.60714,     0.60714,\n",
       "            0.60714,     0.60714,     0.60714,     0.60714,     0.60714,     0.60714,     0.60714,     0.60714,     0.60714,     0.60714,     0.60714,     0.60714,     0.60714,     0.60714,     0.60714,     0.60714,     0.60714,     0.60714,     0.60714,     0.60714,     0.60714,     0.60714,     0.60714,\n",
       "            0.60714,     0.60714,     0.60714,     0.60714,     0.60714,     0.60714,     0.60714,     0.60714,     0.60714,     0.60714,     0.60714,     0.60714,     0.60714,     0.60714,     0.60714,     0.60714,     0.60714,     0.60714,     0.60714,     0.60714,     0.60714,     0.60714,     0.60714,\n",
       "            0.60714,     0.60714,     0.60714,     0.60714,     0.60714,     0.60714,     0.60714,     0.60714,     0.60714,     0.60714,     0.60714,     0.60714,     0.60714,     0.60714,     0.60714,     0.60714,     0.60714,     0.60714,     0.60714,     0.60714,     0.60714,     0.60714,     0.60714,\n",
       "            0.60714,     0.60714,     0.60714,     0.60714,     0.60714,     0.60714,     0.60714,     0.60714,     0.60714,     0.60714,     0.60714,     0.60714,     0.60714,     0.60714,     0.60714,     0.60714,     0.60714,     0.60714,     0.60714,     0.60714,     0.60714,     0.60714,     0.60714,\n",
       "            0.60714,     0.60714,     0.60714,     0.60714,     0.60714,     0.60714,     0.60714,     0.60714,     0.60714,     0.60714,     0.60714,     0.60714,     0.60714,     0.60714,     0.60714,     0.60714,     0.60714,     0.60714,     0.60714,     0.60714,     0.60714,     0.60714,     0.60714,\n",
       "            0.60714,     0.60714,     0.60714,     0.60714,     0.60714,     0.60714,     0.60714,     0.60714,     0.60714,     0.60714,     0.60714,     0.60714,     0.60714,     0.60714,     0.60714,     0.60714,     0.60714,     0.60714,     0.60714,     0.60714,     0.60714,     0.60714,     0.60714,\n",
       "            0.60714,     0.60714,     0.60714,     0.60714,     0.60714,     0.60714,     0.60714,     0.60714,     0.60714,     0.60714,     0.60714,     0.60714,     0.60714,     0.60714,     0.60714,     0.60714,     0.60714,     0.60714,     0.60714,     0.60714,     0.60714,     0.60714,     0.60714,\n",
       "            0.60714,     0.60714,     0.60714,     0.60714,     0.60714,     0.60714,     0.60714,     0.60714,     0.60714,     0.60714,     0.60714,     0.60714,     0.60714,     0.60714,     0.60714,     0.60714,     0.60714,     0.60714,     0.60714,     0.60714,     0.60714,     0.60714,     0.60714,\n",
       "            0.60714,     0.60714,     0.60714,     0.60714,     0.60714,     0.60714,     0.60714,     0.60714,     0.60714,     0.60714,     0.60714,     0.60714,     0.60714,     0.60714,     0.60714,     0.60714,     0.60714,     0.60714,     0.60714,     0.60714,     0.60714,     0.60714,     0.60714,\n",
       "            0.60714,     0.60714,     0.60714,     0.60714,     0.60714,     0.60714,     0.60714,     0.60714,     0.60714,     0.60714,     0.60714,     0.60714,     0.60714,     0.60714,     0.60714,     0.60714,     0.60714,     0.60714,     0.60714,     0.60714,     0.60714,     0.60714,     0.60714,\n",
       "            0.60714,     0.60714,     0.60714,     0.60714,     0.60714,     0.60714,     0.60714,     0.60714,     0.60714,     0.60714,     0.60714,     0.60714,     0.60714,     0.60714,     0.60714,     0.60714,     0.60714,     0.60714,     0.60714,     0.60714,     0.60714,     0.60714,     0.60714,\n",
       "            0.60714,     0.60714,     0.60714,     0.60714,     0.60714,     0.60714,     0.60714,     0.60714,     0.60714,     0.60714,     0.60714,     0.60714,     0.60714,     0.60714,     0.60714,     0.60714,     0.60714,     0.60714,     0.60714,     0.60714,     0.60714,     0.60714,     0.60714,\n",
       "            0.60714,     0.60714,     0.60714,     0.60714,     0.60714,     0.60714,     0.60714,     0.60714,     0.60714,     0.60714,     0.60714,     0.60714,     0.60714,     0.60714,     0.60714,     0.60714,     0.60714,     0.60714,     0.60714,     0.60714,     0.60714,     0.60714,     0.60714,\n",
       "            0.60714,     0.60714,     0.60714,     0.60714,     0.60714,     0.60714,     0.60714,     0.60714,     0.60714,     0.60714,     0.60714,     0.60714,     0.60714,     0.60714,     0.60714,     0.60714,     0.60714,     0.60714,     0.60714,     0.60714,     0.60714,     0.60714,     0.60714,\n",
       "            0.60714,     0.60714,     0.60714,     0.60714,     0.60714,     0.60714,     0.60714,     0.60714,     0.60714,     0.60714,     0.60714,     0.60714,     0.60714,     0.60714,     0.60714,     0.60714,     0.60714,     0.60714,     0.60714,     0.60714,     0.60714,     0.60714,     0.60714,\n",
       "            0.60714,     0.60714,     0.60714,     0.60714,     0.60714,     0.60714,     0.60714,     0.60714,     0.60714,     0.60714,     0.60714,     0.60714,     0.60714,     0.60714,     0.60714,     0.60714,     0.60714,     0.60714,     0.60714,     0.60714,     0.60714,     0.60714,     0.60714,\n",
       "            0.60714,     0.60714,     0.60714,     0.60714,     0.60714,     0.60714,     0.60714,     0.60714,     0.60714,     0.60714,     0.60714,     0.60714,     0.60714,     0.60714,     0.60714,     0.60714,     0.60714,     0.60714,     0.60714,     0.60714,     0.60714,     0.60714,     0.60714,\n",
       "            0.60714,     0.60714,     0.60714,     0.60714,     0.60714,     0.60714,     0.60714,     0.60714,     0.60714,     0.60714,     0.60714,     0.60714,     0.60714,     0.60714,     0.60714,     0.60714,     0.60714,     0.60714,     0.60714,     0.60714,     0.60714,     0.60714,     0.60714,\n",
       "            0.60714,     0.60714,     0.60714,     0.60714,     0.60714,     0.60714,     0.60714,     0.60714,     0.60714,     0.60714,     0.60714,     0.60714,     0.60714,     0.60714,     0.60714,     0.60714,     0.60714,     0.60714,     0.60714,     0.60714,     0.60714,     0.60714,     0.60714,\n",
       "            0.60714,     0.60714,     0.60714,     0.60714,     0.60714,     0.60714,     0.60714,     0.60714,     0.60714,     0.60714,     0.60714,     0.60714,     0.60714,     0.60714,     0.60714,     0.60714,     0.60714,     0.60714,     0.60714,     0.60714,     0.60714,     0.60714,     0.60714,\n",
       "            0.60714,     0.60714,     0.60714,     0.60714,     0.60714,     0.60714,     0.60714,     0.60714,     0.60714,     0.60714,     0.60714,     0.60714,     0.60714,     0.60714,     0.60714,     0.60714,     0.60714,     0.60714,     0.60714,     0.60714,     0.60714,     0.60714,     0.60714,\n",
       "            0.60714,     0.60714,     0.60714,     0.60714,     0.60714,     0.60714,     0.60714,     0.60714,     0.60714,     0.60714,     0.60714,     0.60714,     0.60714,     0.60714,     0.60714,     0.60714,     0.60714,     0.60714,     0.60714,     0.60714,     0.60714,     0.60714,     0.60714,\n",
       "            0.60714,     0.60714,     0.60571,     0.60401,      0.6023,      0.6006,      0.5989,     0.59719,     0.59549,     0.59379,     0.59209,     0.59038,     0.58868,     0.58698,     0.58528,     0.58357,     0.58187,     0.58017,     0.57846,     0.57676,     0.57506,     0.57336,     0.57165,\n",
       "             0.5711,     0.57073,     0.57036,     0.56998,     0.56961,     0.56924,     0.56886,     0.56849,     0.56812,     0.56774,     0.56737,       0.567,     0.56662,     0.56625,     0.56587,      0.5655,     0.56513,     0.56475,     0.56438,     0.56401,     0.56363,     0.56326,     0.56289,\n",
       "            0.56251,     0.56214,     0.56177,     0.56139,     0.56102,     0.56065,     0.56027,      0.5599,     0.55952,     0.55915,     0.55878,      0.5584,     0.55803,     0.55766,     0.55728,     0.55691,     0.55654,     0.55616,     0.55579,     0.55542,     0.55504,     0.55467,     0.55429,\n",
       "            0.55392,     0.55355,     0.55317,      0.5528,     0.55243,     0.55205,     0.55168,     0.55131,     0.55093,     0.55056,     0.55019,     0.54981,     0.54944,     0.54906,     0.54869,     0.54832,     0.54794,     0.54757,      0.5472,     0.54682,     0.54645,     0.54608,      0.5457,\n",
       "            0.54533,     0.54496,     0.54458,     0.54421,     0.54384,     0.54346,     0.54309,     0.54271,     0.54234,     0.54197,     0.54159,     0.54122,     0.54085,     0.54047,      0.5401,     0.53973,     0.53935,     0.53898,     0.53861,     0.53823,     0.53786,     0.53748,     0.53711,\n",
       "            0.53674,     0.53636,     0.53599,     0.53546,     0.53447,     0.53348,     0.53249,      0.5315,     0.53051,     0.52952,     0.52853,     0.52754,     0.52655,     0.52556,     0.52457,     0.52358,     0.52259,     0.52161,     0.52062,     0.51963,     0.51864,     0.51765,     0.51666,\n",
       "            0.51567,     0.51468,     0.51369,      0.5127,     0.51171,     0.51072,     0.50973,     0.50874,     0.50775,     0.50676,     0.50577,     0.50479,      0.5038,     0.50281,     0.50182,     0.50083,     0.49986,     0.49899,     0.49811,     0.49724,     0.49637,      0.4955,     0.49463,\n",
       "            0.49376,     0.49288,     0.49201,     0.49114,     0.49027,      0.4894,     0.48853,     0.48765,     0.48678,     0.48591,     0.48504,     0.48417,      0.4833,     0.48243,     0.48155,     0.48068,     0.47981,     0.47894,     0.47807,      0.4772,     0.47632,     0.47545,     0.47458,\n",
       "            0.47371,     0.47284,     0.47197,     0.47109,     0.47022,     0.46935,     0.46848,     0.46761,     0.46674,     0.46586,     0.46499,     0.46429,     0.46429,     0.46429,     0.46429,     0.46429,     0.46429,     0.46429,     0.46303,     0.45954,     0.45606,     0.45257,     0.44909,\n",
       "             0.4456,     0.44211,     0.43863,     0.43514,     0.43165,     0.42851,     0.42802,     0.42752,     0.42703,     0.42654,     0.42604,     0.42555,     0.42505,     0.42456,     0.42406,     0.42357,     0.42307,     0.42258,     0.42208,     0.42159,     0.42109,      0.4206,      0.4201,\n",
       "            0.41961,     0.41911,     0.41862,     0.41813,     0.41763,     0.41714,     0.41664,     0.41615,     0.41565,     0.41516,     0.41466,     0.41417,     0.41367,     0.41318,     0.41268,     0.41219,     0.41169,      0.4112,      0.4107,     0.41021,     0.40972,     0.40922,     0.40873,\n",
       "            0.40823,     0.40774,     0.40724,     0.40675,     0.40625,     0.40576,     0.40526,     0.40477,     0.40427,     0.40378,     0.40328,     0.40279,     0.40229,      0.4018,     0.40131,     0.40081,     0.40032,     0.39982,     0.39933,     0.39883,     0.39834,     0.39784,     0.39735,\n",
       "            0.39685,     0.39636,     0.39586,     0.39537,     0.39487,     0.39438,     0.39388,     0.39339,      0.3929,      0.3816,     0.36939,     0.35719,     0.35714,     0.35714,     0.35714,     0.35714,     0.35714,     0.35714,     0.35714,     0.35714,     0.35714,     0.35714,     0.35714,\n",
       "            0.35714,     0.35714,     0.35714,     0.35714,     0.35714,     0.35714,     0.35714,     0.35714,     0.35714,     0.35714,     0.35714,     0.35714,     0.35661,     0.35098,     0.34535,     0.33972,     0.33408,     0.32845,     0.32282,     0.28571,     0.28571,     0.28571,     0.28571,\n",
       "            0.28571,     0.28571,     0.28571,     0.28571,     0.28571,     0.28571,     0.28571,     0.28571,     0.28571,      0.2715,     0.24945,     0.24488,      0.2403,     0.23573,     0.23115,     0.22657,       0.222,     0.21742,     0.21429,     0.21429,     0.21207,     0.20597,     0.19987,\n",
       "            0.19377,     0.18766,     0.18156,     0.17391,     0.16475,      0.1556,     0.14645,     0.13915,     0.13305,     0.12695,     0.12085,     0.11475,     0.10864,     0.10714,     0.10714,     0.10253,    0.087888,    0.073245,    0.071429,    0.071429,    0.071429,    0.071429,    0.071429,\n",
       "           0.065808,    0.060176,    0.054544,    0.048912,     0.04328,    0.037648,           0,           0,           0,           0,           0,           0,           0,           0,           0,           0,           0,           0,           0,           0,           0,           0,           0,\n",
       "                  0,           0,           0,           0,           0,           0,           0,           0,           0,           0,           0,           0,           0,           0,           0,           0,           0,           0,           0,           0,           0,           0,           0,\n",
       "                  0,           0,           0,           0,           0,           0,           0,           0,           0,           0,           0,           0,           0,           0,           0,           0,           0,           0,           0,           0,           0,           0,           0,\n",
       "                  0,           0,           0,           0,           0,           0,           0,           0,           0,           0,           0]]), 'Confidence', 'Recall']]\n",
       "fitness: np.float64(0.9986853742097201)\n",
       "keys: ['metrics/precision(B)', 'metrics/recall(B)', 'metrics/mAP50(B)', 'metrics/mAP50-95(B)', 'metrics/precision(P)', 'metrics/recall(P)', 'metrics/mAP50(P)', 'metrics/mAP50-95(P)']\n",
       "maps: array([      0.947,       0.947])\n",
       "names: {0: 'standing person', 1: 'fall person'}\n",
       "plot: True\n",
       "pose: ultralytics.utils.metrics.Metric object\n",
       "results_dict: {'metrics/precision(B)': np.float64(0.9641884966860385), 'metrics/recall(B)': np.float64(0.9616608390944674), 'metrics/mAP50(B)': np.float64(0.9915714285714285), 'metrics/mAP50-95(B)': np.float64(0.7558195563430601), 'metrics/precision(P)': np.float64(0.647431749190876), 'metrics/recall(P)': np.float64(0.6071428571428571), 'metrics/mAP50(P)': np.float64(0.47226603093875813), 'metrics/mAP50-95(P)': np.float64(0.19118225283327495), 'fitness': np.float64(0.9986853742097201)}\n",
       "save_dir: WindowsPath('C:/Users/User/Desktop/YOLO_model_training/runs/train/pose/train')\n",
       "seg: ultralytics.utils.metrics.Metric object\n",
       "speed: {'preprocess': 0.5139555556794491, 'inference': 59.98997037035965, 'loss': 0.00027407400517000095, 'postprocess': 1.1683074074055724}\n",
       "task: 'pose'"
      ]
     },
     "execution_count": 8,
     "metadata": {},
     "output_type": "execute_result"
    }
   ],
   "source": [
    "model.train(data=r\".\\dataset\\data.yaml\", epochs=50, imgsz=640, device='cuda')"
   ]
  }
 ],
 "metadata": {
  "kernelspec": {
   "display_name": ".venv",
   "language": "python",
   "name": "python3"
  },
  "language_info": {
   "codemirror_mode": {
    "name": "ipython",
    "version": 3
   },
   "file_extension": ".py",
   "mimetype": "text/x-python",
   "name": "python",
   "nbconvert_exporter": "python",
   "pygments_lexer": "ipython3",
   "version": "3.12.1"
  }
 },
 "nbformat": 4,
 "nbformat_minor": 5
}
